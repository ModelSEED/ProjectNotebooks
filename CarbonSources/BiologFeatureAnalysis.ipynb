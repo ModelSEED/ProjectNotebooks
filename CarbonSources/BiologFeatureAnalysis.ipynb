{
 "cells": [
  {
   "cell_type": "code",
   "execution_count": 1,
   "metadata": {},
   "outputs": [
    {
     "name": "stdout",
     "output_type": "stream",
     "text": [
      "python version 3.7.6\n",
      "cobrakbase 0.2.8\n",
      "Required modules loaded\n"
     ]
    }
   ],
   "source": [
    "import platform\n",
    "print(\"python version \" + platform.python_version())\n",
    "import sys\n",
    "import json\n",
    "import cobra\n",
    "import cplex\n",
    "import re\n",
    "import os\n",
    "from os.path import exists\n",
    "import logging\n",
    "from configparser import ConfigParser\n",
    "config = ConfigParser()\n",
    "config.read(\"config.cfg\")\n",
    "paths = config.get(\"script\", \"syspaths\").split(\";\")\n",
    "for path in paths:\n",
    "    sys.path.append(path)\n",
    "import cobrakbase\n",
    "import cobra\n",
    "from escher import Builder\n",
    "from optlang.symbolics import Zero, add\n",
    "from modelseedpy import MSPackageManager, MSGapfill, FBAHelper, MSGrowthPhenotypes, MSModelUtil, MSATPCorrection\n",
    "from cobrakbase.core.kbasefba.newmodeltemplate_builder import NewModelTemplateBuilder\n",
    "from annotation_ontology_api.annotation_ontology_apiServiceClient import annotation_ontology_api\n",
    "from modelseedpy.helpers import get_template\n",
    "from sklearn.metrics import r2_score\n",
    "%matplotlib inline\n",
    "import matplotlib.pyplot as plt\n",
    "import pandas as pd\n",
    "from IPython.display import HTML\n",
    "print(\"Required modules loaded\")"
   ]
  },
  {
   "cell_type": "code",
   "execution_count": 6,
   "metadata": {},
   "outputs": [],
   "source": [
    "#First we pull all the Biolog datasets out of Kbase\n",
    "wsid = 114100\n",
    "kbase_api = cobrakbase.KBaseAPI()\n",
    "biologs = kbase_api.list_objects(wsid, object_type=\"KBasePhenotypes.PhenotypeSet\", include_metadata=True)\n",
    "genome_biologs = {}\n",
    "for item in biologs:\n",
    "    if \"GenomeID\" in item[10]:\n",
    "        kbpheno = kbase_api.get_object(item[1], wsid)\n",
    "        genome_biologs[item[10][\"GenomeID\"]] = MSGrowthPhenotypes.from_kbase_object(kbpheno,kbase_api)\n",
    "#Now we iterate over the biolog datasets, pull the model, and simulate the phenotypes\n",
    "template = kbase_api.get_from_ws(\"GramNegModelTemplateV3\",\"NewKBaseModelTemplates\")\n",
    "pheno_frequency = {}\n",
    "pheno_reactions = {}\n",
    "completed_genomes = {}\n",
    "#NOTE - this loop may timeout or crash - just rerun this code cell until it completes"
   ]
  },
  {
   "cell_type": "code",
   "execution_count": null,
   "metadata": {},
   "outputs": [],
   "source": [
    "#Now we simulate every Biolog with the models and save the active reactions\n",
    "#NOTE - again, this loop may timeout or crash - just rerun THIS codecell repeatedly until it finishes - progress is saved from each run\n",
    "for genome in genome_biologs:\n",
    "    if genome not in completed_genomes:\n",
    "        model = kbase_api.get_from_ws(genome+\".fbamodel\",wsid)\n",
    "        for pheno in genome_biologs[genome].phenotypes:\n",
    "            if pheno.id not in pheno_frequency:\n",
    "                pheno_frequency[pheno.id] = 0\n",
    "                pheno_reactions[pheno.id] = {}\n",
    "            pheno_frequency[pheno.id] += 1\n",
    "            if pheno.growth > 0:\n",
    "                output = pheno.simulate(model,add_missing_exchanges=True,save_fluxes=True,pfba=True)\n",
    "                if output[\"growth\"] < 0.00001:\n",
    "                    pheno.gapfill_model_for_phenotype(model,[template],None,add_missing_exchanges=True)\n",
    "                    output = pheno.simulate(model,add_missing_exchanges=True,save_fluxes=True,pfba=True)\n",
    "                if output[\"growth\"] > 0.01:\n",
    "                    for rxn, value in output[\"fluxes\"].items():\n",
    "                        if abs(value) > 0:\n",
    "                            if rxn not in pheno_reactions[pheno.id]:\n",
    "                                pheno_reactions[pheno.id][rxn] = 0\n",
    "                            pheno_reactions[pheno.id][rxn] += 1\n",
    "        df = pd.DataFrame(pheno_reactions)\n",
    "        df.to_csv(\"BiologFeatureAnalysis.csv\")\n",
    "        completed_genomes[genome] = 1"
   ]
  }
 ],
 "metadata": {
  "kernelspec": {
   "display_name": "Python 3",
   "language": "python",
   "name": "python3"
  },
  "language_info": {
   "codemirror_mode": {
    "name": "ipython",
    "version": 3
   },
   "file_extension": ".py",
   "mimetype": "text/x-python",
   "name": "python",
   "nbconvert_exporter": "python",
   "pygments_lexer": "ipython3",
   "version": "3.7.6"
  }
 },
 "nbformat": 4,
 "nbformat_minor": 4
}
