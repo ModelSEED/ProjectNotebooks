{
 "cells": [
  {
   "cell_type": "code",
   "execution_count": 1,
   "metadata": {},
   "outputs": [
    {
     "name": "stdout",
     "output_type": "stream",
     "text": [
      "cobrakbase 0.2.7\n"
     ]
    }
   ],
   "source": [
    "import sys\n",
    "import json\n",
    "sys.path.append(\"/Users/chenry/code/MetabolicModelGapfilling/lib/\")\n",
    "from MetabolicModelGapfilling.core.gapfillingmodule import GapfillingModule\n",
    "from IPython.display import IFrame\n",
    "\n",
    "config = {\n",
    "    \"save_report_to_kbase\":0,\n",
    "    \"template_file\":\"/Users/chenry/code/MetabolicModelGapfilling/data/Template.html\",\n",
    "    \"scratch\":\"/Users/chenry/temp/\",\n",
    "    \"workspace-url\":\"https://kbase.us/services/ws\",\n",
    "    \"save_output_to_kbase\":0\n",
    "}\n",
    "gfm = GapfillingModule(config)\n",
    "html = gfm.run_gapfill_metabolic_model({\n",
    "    \"workspace\":\"patrikd:narrative_1605639637696\",\n",
    "    \"fbamodel_id\":\"77537/357/1\",\n",
    "    \"fbamodel_output_id\":\"GapfillTestModel.gftest\",\n",
    "    \"media_ids\" : [\"77537/270/1\"],\n",
    "    \"nogrow_media_ids\" : [],\n",
    "    \"fbamodel_workspace\" : \"patrikd:narrative_1605639637696\",\n",
    "    \"media_workspace\" : \"patrikd:narrative_1605639637696\",\n",
    "    \"target_reaction\" : \"bio1\",\n",
    "    \"source_fbamodel_id\" : None,\n",
    "    \"source_fbamodel_workspace\" : \"patrikd:narrative_1605639637696\",\n",
    "    \"feature_ko_list\" : [],\n",
    "    \"reaction_ko_list\" : [],\n",
    "    \"blacklist\" : [],\n",
    "    \"media_supplement_list\" : [],\n",
    "    \"minimum_target_flux\" : 0.1,\n",
    "    \"max\" : 1,\n",
    "    \"gapfilling_annotation_sources\" : [],\n",
    "    \"consecutive_gapfill\" : 1\n",
    "},{\n",
    "    \"token\":\"YO6FO3VIEDX47PX5GWXQCZDMI62XFZWV\"\n",
    "})\n"
   ]
  },
  {
   "cell_type": "code",
   "execution_count": 2,
   "metadata": {},
   "outputs": [
    {
     "data": {
      "text/html": [
       "\n",
       "        <iframe\n",
       "            width=\"1024\"\n",
       "            height=\"500\"\n",
       "            src=\"./view.html\"\n",
       "            frameborder=\"0\"\n",
       "            allowfullscreen\n",
       "        ></iframe>\n",
       "        "
      ],
      "text/plain": [
       "<IPython.lib.display.IFrame at 0x7f87fd15efd0>"
      ]
     },
     "execution_count": 2,
     "metadata": {},
     "output_type": "execute_result"
    }
   ],
   "source": [
    "with open('view.html', 'w') as f:\n",
    "    f.write(gfm.report_html)\n",
    "IFrame(src=\"./view.html\", width=1024, height=500)"
   ]
  },
  {
   "cell_type": "code",
   "execution_count": 1,
   "metadata": {},
   "outputs": [
    {
     "name": "stdout",
     "output_type": "stream",
     "text": [
      "cobrakbase 0.2.7\n"
     ]
    }
   ],
   "source": [
    "import os\n",
    "import sys\n",
    "import cobra\n",
    "import cobrakbase\n",
    "import json\n",
    "import csv\n",
    "import logging\n",
    "import cplex\n",
    "import optlang\n",
    "import re\n",
    "from optlang.symbolics import Zero, add\n",
    "import cobra.util.solver as sutil\n",
    "from cobrakbase.core.converters import KBaseFBAModelToCobraBuilder\n",
    "from cobrakbase.Workspace.WorkspaceClient import Workspace as WorkspaceClient\n",
    "from cobrakbase.core.kbase_object_factory import KBaseObjectFactory\n",
    "from cobrakbase.core.fba_utilities import KBaseFBAUtilities\n",
    "from cobra.core.dictlist import DictList\n",
    "from cobra.core import Gene, Metabolite, Model, Reaction\n",
    "from IPython.core.display import HTML\n"
   ]
  },
  {
   "cell_type": "code",
   "execution_count": 4,
   "metadata": {},
   "outputs": [
    {
     "name": "stdout",
     "output_type": "stream",
     "text": [
      "2\n",
      "49\n",
      "2\n",
      "49\n"
     ]
    }
   ],
   "source": [
    "params = {\n",
    "    \"workspace\": 63927,\n",
    "    \"fbamodel_id\" : 'TestModelUngapfilled',\n",
    "    \"fbamodel_workspace\" : 63927,\n",
    "\t\"media_id\" : \"ArgonneLBMedia\",\n",
    "\t\"media_workspace\" : \"KBaseMedia\",\n",
    "\t\"target_reaction\" : \"bio1\",\n",
    "\t\"source_fbamodel_id\" : None,\n",
    "\t\"source_fbamodel_workspace\" : None,\n",
    "\t\"feature_ko_list\" : [],\n",
    "\t\"reaction_ko_list\" : [],\n",
    "\t\"blacklist\" : [],\n",
    "\t\"custom_bound_list\" : [],\n",
    "\t\"media_supplement_list\" : [],\n",
    "\t\"minimum_target_flux\" : 0.1,\n",
    "    \"max\" : 1,\n",
    "    \"default_uptake\" : 0,\n",
    "    \"default_excretion\" : 100,\n",
    "    \"add_modelseed_reactions\" : 1,\n",
    "    \"use_modelseed_peak_hits\": 1,\n",
    "    \"gapfilling_annotation_sources\" : []\n",
    "}\n",
    "kbase_api = cobrakbase.KBaseAPI()\n",
    "media = kbase_api.get_from_ws(params[\"media_id\"],params[\"media_workspace\"])\n",
    "kbmodel = kbase_api.get_object(params[\"fbamodel_id\"],params[\"fbamodel_workspace\"])\n",
    "model = kbase_api.get_from_ws(params[\"fbamodel_id\"],params[\"fbamodel_workspace\"])\n",
    "model.solver = 'cplex'\n",
    "utilities = KBaseFBAUtilities(model,kbmodel,kbase_api,media = media,\n",
    "                 default_uptake = 100,default_excretion = 100,blacklist = [])\n",
    "#Saving the list of original reactions\n",
    "#original_reactions = {}\n",
    "#for reaction in model.reactions:\n",
    "#    original_reactions[reaction.id] = 1\n",
    "#Computing reaction scores from ontology\n",
    "reaction_genes = utilities.compute_reaction_scores(1)#Optional \n",
    "#Extending model for gapfilling\n",
    "utilities.default_uptake = 0\n",
    "penalties = utilities.build_model_extended_for_gapfilling(1,[],[],2,reaction_genes)\n",
    "#Setting objective function\n",
    "utilities.set_objective_from_target_reaction(params[\"target_reaction\"],params[\"max\"])\n",
    "#Setting minimal biomass production\n",
    "utilities.convert_objective_to_constraint(params[\"minimum_target_flux\"],None)\n",
    "#Setting minimal reaction objective\n",
    "utilities.create_minimal_reaction_objective(penalties,default_penalty = 0)\n",
    "#Printing LP file\n",
    "with open('Gapfill.lp', 'w') as out:\n",
    "    out.write(str(model.solver))\n",
    "#Minimizing gapfilled reactions\n",
    "gapfilling_solution = model.optimize()\n",
    "output = utilities.compute_gapfilled_solution(penalties)\n",
    "print(len(output[\"reversed\"]))\n",
    "print(len(output[\"new\"]))\n",
    "#print(len(json.dumps(output,indent=2))\n",
    "#Ensuring minimality by adding binary variables\n",
    "flux_values = utilities.binary_check_gapfilling_solution(penalties,1)\n",
    "#Reporting solution\n",
    "output = utilities.compute_gapfilled_solution(penalties,flux_values)\n",
    "print(len(output[\"reversed\"]))\n",
    "print(len(output[\"new\"]))\n",
    "#print(json.dumps(output,indent=2))"
   ]
  }
 ],
 "metadata": {
  "kernelspec": {
   "display_name": "Python 3",
   "language": "python",
   "name": "python3"
  },
  "language_info": {
   "codemirror_mode": {
    "name": "ipython",
    "version": 3
   },
   "file_extension": ".py",
   "mimetype": "text/x-python",
   "name": "python",
   "nbconvert_exporter": "python",
   "pygments_lexer": "ipython3",
   "version": "3.7.6"
  }
 },
 "nbformat": 4,
 "nbformat_minor": 4
}
