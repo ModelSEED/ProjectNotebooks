{
 "cells": [
  {
   "cell_type": "markdown",
   "id": "02d0dde7-4465-4c81-859e-e71cc0ccfc45",
   "metadata": {},
   "source": [
    "# Construct an Optlang model of minimal media"
   ]
  },
  {
   "cell_type": "code",
   "execution_count": null,
   "id": "23238bc1-fa78-4e1b-8f44-145ea5215009",
   "metadata": {},
   "outputs": [],
   "source": [
    "from modelseedpy.core.fbahelper import OptlangHelper\n",
    "\n",
    "# construct the model\n",
    "variables, constraints = [], []\n",
    "for met in media:\n",
    "    var_name = f\"g_{t}\" ; var_bounds = (0, 1000) ; dict_vars.append((var_name, var_bounds, \"continuous\"))\n",
    "    cons_name = f\"const_{t}\" ; cons_bounds = (-1000, 1000) ; cons_expr = [(t,var_name)]\n",
    "    dict_cons.append((cons_name, cons_bounds, cons_expr))\n",
    "\n",
    "dict_obj = (\"Test Helper Dictionary\", [var.name for var in variables], \"max\")\n",
    "\n",
    "dict_model = OptlangHelper.define_model(\"OptlangHelper test\", dict_vars, dict_cons, dict_obj)\n",
    "with open(\"minimal_media_model.json\", 'w') as out:\n",
    "    dump(dict_model, out, indent=3)\n",
    "    \n",
    "# test the model\n",
    "model3 = Model.from_json(dict_model)"
   ]
  },
  {
   "cell_type": "code",
   "execution_count": null,
   "id": "1ea6a580-6844-4e98-8815-bcc334180eaa",
   "metadata": {},
   "outputs": [],
   "source": []
  },
  {
   "cell_type": "code",
   "execution_count": null,
   "id": "b8ed5484-b4c4-47d9-ab2f-bb2f80df9e34",
   "metadata": {},
   "outputs": [],
   "source": []
  },
  {
   "cell_type": "code",
   "execution_count": null,
   "id": "8ca3c46a-78a5-484f-a5a5-1fff273512b6",
   "metadata": {},
   "outputs": [],
   "source": []
  },
  {
   "cell_type": "code",
   "execution_count": null,
   "id": "4b1fe79b-4c3b-4449-9dab-2b94fb59daca",
   "metadata": {},
   "outputs": [],
   "source": []
  }
 ],
 "metadata": {
  "kernelspec": {
   "display_name": "Python 3 (ipykernel)",
   "language": "python",
   "name": "python3"
  },
  "language_info": {
   "codemirror_mode": {
    "name": "ipython",
    "version": 3
   },
   "file_extension": ".py",
   "mimetype": "text/x-python",
   "name": "python",
   "nbconvert_exporter": "python",
   "pygments_lexer": "ipython3",
   "version": "3.9.12"
  }
 },
 "nbformat": 4,
 "nbformat_minor": 5
}
