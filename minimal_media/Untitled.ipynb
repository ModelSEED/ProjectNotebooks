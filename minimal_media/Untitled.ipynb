{
 "cells": [
  {
   "cell_type": "markdown",
   "id": "b9296812-0092-44be-bf28-c600ff24e4f7",
   "metadata": {},
   "source": [
    "# Test the MinimalMedia method"
   ]
  },
  {
   "cell_type": "code",
   "execution_count": 1,
   "id": "dd045d32-6e81-41a8-bcc1-5f12d7fd8d24",
   "metadata": {},
   "outputs": [
    {
     "name": "stderr",
     "output_type": "stream",
     "text": [
      "C:\\Users\\Andrew Freiburger\\AppData\\Local\\Programs\\Python\\Python39\\lib\\site-packages\\requests\\__init__.py:102: RequestsDependencyWarning: urllib3 (1.26.9) or chardet (5.0.0)/charset_normalizer (2.0.12) doesn't match a supported version!\n",
      "  warnings.warn(\"urllib3 ({}) or chardet ({})/charset_normalizer ({}) doesn't match a supported \"\n"
     ]
    },
    {
     "name": "stdout",
     "output_type": "stream",
     "text": [
      "cobrakbase 0.2.8\n"
     ]
    }
   ],
   "source": [
    "from modelseedpy.fbapkg.reactionusepkg import MinimalMedia\n",
    "\n",
    "# define the environment path \n",
    "from pprint import pprint\n",
    "from json import dump\n",
    "import os\n",
    "local_cobrakbase_path = os.path.join('C:', 'Users', 'Andrew Freiburger','Documents','Argonne','cobrakbase')\n",
    "os.environ[\"HOME\"] = local_cobrakbase_path\n",
    "\n",
    "# import the models\n",
    "import cobrakbase\n",
    "token = 'X3F37BL3QVM3WEULFGLPNFHGAPHPZA5U'\n",
    "kbase_api = cobrakbase.KBaseAPI(token)\n",
    "\n",
    "# prevent excessive warnings\n",
    "import warnings\n",
    "warnings.filterwarnings(action='once')"
   ]
  },
  {
   "cell_type": "code",
   "execution_count": 2,
   "id": "329c02b1-49fc-45fd-8274-b5cad43a26f3",
   "metadata": {},
   "outputs": [],
   "source": [
    "model1 = kbase_api.get_from_ws(\"E_iAH991V2\",40576)"
   ]
  },
  {
   "cell_type": "code",
   "execution_count": 3,
   "id": "f7af9657-e88b-47ae-af26-b11dbb11cbb7",
   "metadata": {
    "tags": []
   },
   "outputs": [],
   "source": [
    "# from modelseedpy.core.fbahelper import FBAHelper\n",
    "# from pprint import pprint\n",
    "# # for rxn in model1.reactions:\n",
    "# for rxn in FBAHelper.bio_reactions(model1):\n",
    "#     pprint(dir(rxn))\n",
    "#     # print(type(rxn.flux_expression))\n",
    "#     print(type(rxn.forward_variable))\n",
    "#     break"
   ]
  },
  {
   "cell_type": "code",
   "execution_count": 4,
   "id": "1c2b2553-4500-404e-b6ea-73214973b603",
   "metadata": {},
   "outputs": [
    {
     "ename": "OptimizationError",
     "evalue": "Solver status is 'undefined'.",
     "output_type": "error",
     "traceback": [
      "\u001b[1;31m---------------------------------------------------------------------------\u001b[0m",
      "\u001b[1;31mOptimizationError\u001b[0m                         Traceback (most recent call last)",
      "Input \u001b[1;32mIn [4]\u001b[0m, in \u001b[0;36m<cell line: 3>\u001b[1;34m()\u001b[0m\n\u001b[0;32m      1\u001b[0m get_ipython()\u001b[38;5;241m.\u001b[39mrun_line_magic(\u001b[38;5;124m'\u001b[39m\u001b[38;5;124mrun\u001b[39m\u001b[38;5;124m'\u001b[39m, \u001b[38;5;124m'\u001b[39m\u001b[38;5;124m../../ModelSEEDpy/modelseedpy/fbapkg/reactionusepkg.py\u001b[39m\u001b[38;5;124m'\u001b[39m)\n\u001b[0;32m      2\u001b[0m \u001b[38;5;66;03m# min_media.pkgmgr.removepkgobj(min_media)\u001b[39;00m\n\u001b[1;32m----> 3\u001b[0m min_media \u001b[38;5;241m=\u001b[39m \u001b[43mMinimalMedia\u001b[49m\u001b[43m(\u001b[49m\u001b[43mmodel1\u001b[49m\u001b[43m)\u001b[49m\n",
      "File \u001b[1;32m~\\Documents\\Argonne\\ModelSEEDpy\\modelseedpy\\fbapkg\\reactionusepkg.py:101\u001b[0m, in \u001b[0;36mMinimalMedia.__init__\u001b[1;34m(self, model, min_growth)\u001b[0m\n\u001b[0;32m     98\u001b[0m     \u001b[38;5;66;03m## omit the solution from the next search\u001b[39;00m\n\u001b[0;32m     99\u001b[0m     BaseFBAPkg\u001b[38;5;241m.\u001b[39mbuild_constraint(\u001b[38;5;28mself\u001b[39m, \u001b[38;5;124m\"\u001b[39m\u001b[38;5;124mmet\u001b[39m\u001b[38;5;124m\"\u001b[39m, \u001b[38;5;28mlen\u001b[39m(sol_dict)\u001b[38;5;241m-\u001b[39m\u001b[38;5;241m1\u001b[39m, \u001b[38;5;28mlen\u001b[39m(sol_dict)\u001b[38;5;241m-\u001b[39m\u001b[38;5;241m1\u001b[39m, \n\u001b[0;32m    100\u001b[0m                                 coef\u001b[38;5;241m=\u001b[39msol_dict, cobra_obj\u001b[38;5;241m=\u001b[39m\u001b[38;5;124mf\u001b[39m\u001b[38;5;124m\"\u001b[39m\u001b[38;5;124msol\u001b[39m\u001b[38;5;132;01m{\u001b[39;00m\u001b[38;5;28mlen\u001b[39m(solutions)\u001b[38;5;132;01m}\u001b[39;00m\u001b[38;5;124m\"\u001b[39m)\n\u001b[1;32m--> 101\u001b[0m     sol \u001b[38;5;241m=\u001b[39m \u001b[38;5;28;43mself\u001b[39;49m\u001b[38;5;241;43m.\u001b[39;49m\u001b[43mmodel\u001b[49m\u001b[38;5;241;43m.\u001b[39;49m\u001b[43moptimize\u001b[49m\u001b[43m(\u001b[49m\u001b[43m)\u001b[49m\n\u001b[0;32m    102\u001b[0m \u001b[38;5;28;01mif\u001b[39;00m \u001b[38;5;129;01mnot\u001b[39;00m solutions:\n\u001b[0;32m    103\u001b[0m     logger\u001b[38;5;241m.\u001b[39merror(\u001b[38;5;124m\"\u001b[39m\u001b[38;5;124mNo simulations were feasible.\u001b[39m\u001b[38;5;124m\"\u001b[39m)\n",
      "File \u001b[1;32m~\\AppData\\Local\\Programs\\Python\\Python39\\lib\\site-packages\\cobra\\core\\model.py:1090\u001b[0m, in \u001b[0;36mModel.optimize\u001b[1;34m(self, objective_sense, raise_error)\u001b[0m\n\u001b[0;32m   1086\u001b[0m \u001b[38;5;28mself\u001b[39m\u001b[38;5;241m.\u001b[39mobjective\u001b[38;5;241m.\u001b[39mdirection \u001b[38;5;241m=\u001b[39m {\u001b[38;5;124m\"\u001b[39m\u001b[38;5;124mmaximize\u001b[39m\u001b[38;5;124m\"\u001b[39m: \u001b[38;5;124m\"\u001b[39m\u001b[38;5;124mmax\u001b[39m\u001b[38;5;124m\"\u001b[39m, \u001b[38;5;124m\"\u001b[39m\u001b[38;5;124mminimize\u001b[39m\u001b[38;5;124m\"\u001b[39m: \u001b[38;5;124m\"\u001b[39m\u001b[38;5;124mmin\u001b[39m\u001b[38;5;124m\"\u001b[39m}\u001b[38;5;241m.\u001b[39mget(\n\u001b[0;32m   1087\u001b[0m     objective_sense, original_direction\n\u001b[0;32m   1088\u001b[0m )\n\u001b[0;32m   1089\u001b[0m \u001b[38;5;28mself\u001b[39m\u001b[38;5;241m.\u001b[39mslim_optimize()\n\u001b[1;32m-> 1090\u001b[0m solution \u001b[38;5;241m=\u001b[39m \u001b[43mget_solution\u001b[49m\u001b[43m(\u001b[49m\u001b[38;5;28;43mself\u001b[39;49m\u001b[43m,\u001b[49m\u001b[43m \u001b[49m\u001b[43mraise_error\u001b[49m\u001b[38;5;241;43m=\u001b[39;49m\u001b[43mraise_error\u001b[49m\u001b[43m)\u001b[49m\n\u001b[0;32m   1091\u001b[0m \u001b[38;5;28mself\u001b[39m\u001b[38;5;241m.\u001b[39mobjective\u001b[38;5;241m.\u001b[39mdirection \u001b[38;5;241m=\u001b[39m original_direction\n\u001b[0;32m   1092\u001b[0m \u001b[38;5;28;01mreturn\u001b[39;00m solution\n",
      "File \u001b[1;32m~\\AppData\\Local\\Programs\\Python\\Python39\\lib\\site-packages\\cobra\\core\\solution.py:236\u001b[0m, in \u001b[0;36mget_solution\u001b[1;34m(model, reactions, metabolites, raise_error)\u001b[0m\n\u001b[0;32m    210\u001b[0m \u001b[38;5;28;01mdef\u001b[39;00m \u001b[38;5;21mget_solution\u001b[39m(model, reactions\u001b[38;5;241m=\u001b[39m\u001b[38;5;28;01mNone\u001b[39;00m, metabolites\u001b[38;5;241m=\u001b[39m\u001b[38;5;28;01mNone\u001b[39;00m, raise_error\u001b[38;5;241m=\u001b[39m\u001b[38;5;28;01mFalse\u001b[39;00m):\n\u001b[0;32m    211\u001b[0m     \u001b[38;5;124;03m\"\"\"\u001b[39;00m\n\u001b[0;32m    212\u001b[0m \u001b[38;5;124;03m    Generate a solution representation of the current solver state.\u001b[39;00m\n\u001b[0;32m    213\u001b[0m \n\u001b[1;32m   (...)\u001b[0m\n\u001b[0;32m    234\u001b[0m \u001b[38;5;124;03m    legacy solvers.\u001b[39;00m\n\u001b[0;32m    235\u001b[0m \u001b[38;5;124;03m    \"\"\"\u001b[39;00m\n\u001b[1;32m--> 236\u001b[0m     \u001b[43mcheck_solver_status\u001b[49m\u001b[43m(\u001b[49m\u001b[43mmodel\u001b[49m\u001b[38;5;241;43m.\u001b[39;49m\u001b[43msolver\u001b[49m\u001b[38;5;241;43m.\u001b[39;49m\u001b[43mstatus\u001b[49m\u001b[43m,\u001b[49m\u001b[43m \u001b[49m\u001b[43mraise_error\u001b[49m\u001b[38;5;241;43m=\u001b[39;49m\u001b[43mraise_error\u001b[49m\u001b[43m)\u001b[49m\n\u001b[0;32m    237\u001b[0m     \u001b[38;5;28;01mif\u001b[39;00m reactions \u001b[38;5;129;01mis\u001b[39;00m \u001b[38;5;28;01mNone\u001b[39;00m:\n\u001b[0;32m    238\u001b[0m         reactions \u001b[38;5;241m=\u001b[39m model\u001b[38;5;241m.\u001b[39mreactions\n",
      "File \u001b[1;32m~\\AppData\\Local\\Programs\\Python\\Python39\\lib\\site-packages\\cobra\\util\\solver.py:560\u001b[0m, in \u001b[0;36mcheck_solver_status\u001b[1;34m(status, raise_error)\u001b[0m\n\u001b[0;32m    556\u001b[0m     \u001b[38;5;28;01mraise\u001b[39;00m OptimizationError(\n\u001b[0;32m    557\u001b[0m         \u001b[38;5;124m\"\u001b[39m\u001b[38;5;124mModel is not optimized yet or solver context has been switched.\u001b[39m\u001b[38;5;124m\"\u001b[39m\n\u001b[0;32m    558\u001b[0m     )\n\u001b[0;32m    559\u001b[0m \u001b[38;5;28;01melse\u001b[39;00m:\n\u001b[1;32m--> 560\u001b[0m     \u001b[38;5;28;01mraise\u001b[39;00m OptimizationError(\u001b[38;5;124mf\u001b[39m\u001b[38;5;124m\"\u001b[39m\u001b[38;5;124mSolver status is \u001b[39m\u001b[38;5;124m'\u001b[39m\u001b[38;5;132;01m{\u001b[39;00mstatus\u001b[38;5;132;01m}\u001b[39;00m\u001b[38;5;124m'\u001b[39m\u001b[38;5;124m.\u001b[39m\u001b[38;5;124m\"\u001b[39m)\n",
      "\u001b[1;31mOptimizationError\u001b[0m: Solver status is 'undefined'."
     ]
    }
   ],
   "source": [
    "%run ../../ModelSEEDpy/modelseedpy/fbapkg/reactionusepkg.py\n",
    "# min_media.pkgmgr.removepkgobj(min_media)\n",
    "min_media = MinimalMedia(model1)"
   ]
  },
  {
   "cell_type": "code",
   "execution_count": null,
   "id": "5ff57363-9ea3-4cc7-8dcd-c7be7d0adcef",
   "metadata": {},
   "outputs": [],
   "source": [
    "# # from modelseedpy.core.fbahelper import FBAHelper\n",
    "# from pprint import pprint\n",
    "# print(dir(model1.variables))\n",
    "# # pprint(model1.variables)\n",
    "# for var, value in model1.variables.items():\n",
    "#     # pprint(dir(var))\n",
    "#     print(type(var), var, type(value), value)\n",
    "#     # print(type(rxn.flux_expression))\n",
    "#     # print(type(rxn.forward_variable))\n",
    "#     break"
   ]
  },
  {
   "cell_type": "markdown",
   "id": "02d0dde7-4465-4c81-859e-e71cc0ccfc45",
   "metadata": {},
   "source": [
    "# Construct an Optlang model of minimal media"
   ]
  },
  {
   "cell_type": "code",
   "execution_count": null,
   "id": "23238bc1-fa78-4e1b-8f44-145ea5215009",
   "metadata": {},
   "outputs": [],
   "source": [
    "# from modelseedpy.core.fbahelper import OptlangHelper\n",
    "\n",
    "# # construct the model\n",
    "# variables, constraints = [], []\n",
    "# for met in media:\n",
    "#     var_name = f\"g_{t}\" ; var_bounds = (0, 1000) ; dict_vars.append((var_name, var_bounds, \"continuous\"))\n",
    "#     cons_name = f\"const_{t}\" ; cons_bounds = (-1000, 1000) ; cons_expr = [(t,var_name)]\n",
    "#     dict_cons.append((cons_name, cons_bounds, cons_expr))\n",
    "\n",
    "# dict_obj = (\"Test Helper Dictionary\", [var.name for var in variables], \"max\")\n",
    "\n",
    "# dict_model = OptlangHelper.define_model(\"OptlangHelper test\", dict_vars, dict_cons, dict_obj)\n",
    "# with open(\"minimal_media_model.json\", 'w') as out:\n",
    "#     dump(dict_model, out, indent=3)\n",
    "    \n",
    "# # test the model\n",
    "# model3 = Model.from_json(dict_model)"
   ]
  },
  {
   "cell_type": "code",
   "execution_count": null,
   "id": "1ea6a580-6844-4e98-8815-bcc334180eaa",
   "metadata": {},
   "outputs": [],
   "source": []
  },
  {
   "cell_type": "markdown",
   "id": "780df2bf-4788-42aa-b31d-2e28c9d7f2ad",
   "metadata": {},
   "source": [
    "# Test Jenga method"
   ]
  },
  {
   "cell_type": "code",
   "execution_count": 1,
   "id": "8ca3c46a-78a5-484f-a5a5-1fff273512b6",
   "metadata": {},
   "outputs": [
    {
     "name": "stderr",
     "output_type": "stream",
     "text": [
      "C:\\Users\\Andrew Freiburger\\AppData\\Local\\Programs\\Python\\Python39\\lib\\site-packages\\cobra\\io\\dict.py:71: DeprecationWarning: `np.float` is a deprecated alias for the builtin `float`. To silence this warning, use `float` by itself. Doing this will not modify any behavior and is safe. If you specifically wanted the numpy scalar type, use `np.float64` here.\n",
      "Deprecated in NumPy 1.20; for more details and guidance: https://numpy.org/devdocs/release/1.20.0-notes.html#deprecations\n",
      "  value: Union[str, np.float, np.bool, Set, Dict]\n",
      "C:\\Users\\Andrew Freiburger\\AppData\\Local\\Programs\\Python\\Python39\\lib\\site-packages\\cobra\\io\\dict.py:71: DeprecationWarning: `np.bool` is a deprecated alias for the builtin `bool`. To silence this warning, use `bool` by itself. Doing this will not modify any behavior and is safe. If you specifically wanted the numpy scalar type, use `np.bool_` here.\n",
      "Deprecated in NumPy 1.20; for more details and guidance: https://numpy.org/devdocs/release/1.20.0-notes.html#deprecations\n",
      "  value: Union[str, np.float, np.bool, Set, Dict]\n",
      "C:\\Users\\Andrew Freiburger\\AppData\\Local\\Programs\\Python\\Python39\\lib\\site-packages\\requests\\__init__.py:102: RequestsDependencyWarning: urllib3 (1.26.9) or chardet (5.0.0)/charset_normalizer (2.0.12) doesn't match a supported version!\n",
      "  warnings.warn(\"urllib3 ({}) or chardet ({})/charset_normalizer ({}) doesn't match a supported \"\n"
     ]
    },
    {
     "name": "stdout",
     "output_type": "stream",
     "text": [
      "cobrakbase 0.2.8\n"
     ]
    }
   ],
   "source": [
    "import warnings\n",
    "warnings.filterwarnings(action='once')\n",
    "\n",
    "# define the environment path \n",
    "from pprint import pprint\n",
    "from json import dump\n",
    "import os\n",
    "local_cobrakbase_path = os.path.join('C:', 'Users', 'Andrew Freiburger','Documents','Argonne','cobrakbase')\n",
    "os.environ[\"HOME\"] = local_cobrakbase_path\n",
    "\n",
    "# import the models\n",
    "import cobrakbase\n",
    "token = 'RBP7R34IILI6IQN5533VVSVUZM6H7YU7'\n",
    "kbase_api = cobrakbase.KBaseAPI(token)\n",
    "\n",
    "model1 = kbase_api.get_from_ws(\"E_iAH991V2\",40576)\n",
    "model2 = kbase_api.get_from_ws(\"E_iML1515.kb\",40576)\n",
    "com_model = kbase_api.get_from_ws(\"CMM_iAH991V2_iML1515.kb\",40576)\n",
    "models = [model1, model2]"
   ]
  },
  {
   "cell_type": "code",
   "execution_count": null,
   "id": "4b1fe79b-4c3b-4449-9dab-2b94fb59daca",
   "metadata": {},
   "outputs": [
    {
     "name": "stderr",
     "output_type": "stream",
     "text": [
      "C:\\Users\\Andrew Freiburger\\Documents\\Argonne\\ModelSEEDpy\\modelseedpy\\community\\mscommunity.py:213: DeprecationWarning: invalid escape sequence \\d\n",
      "  if re.search('^(bio)(\\d+)$', rxn.id):\n",
      "C:\\Users\\Andrew Freiburger\\AppData\\Local\\Programs\\Python\\Python39\\lib\\site-packages\\cobra\\medium\\minimal_medium.py:112: FutureWarning: The default dtype for empty Series will be 'object' instead of 'float64' in a future version. Specify a dtype explicitly to silence this warning.\n",
      "  medium = pd.Series()\n",
      "C:\\Users\\Andrew Freiburger\\AppData\\Local\\Programs\\Python\\Python39\\lib\\site-packages\\cobra\\medium\\minimal_medium.py:112: FutureWarning: The default dtype for empty Series will be 'object' instead of 'float64' in a future version. Specify a dtype explicitly to silence this warning.\n",
      "  medium = pd.Series()\n"
     ]
    },
    {
     "name": "stdout",
     "output_type": "stream",
     "text": [
      "Initial media defined with 23 exchanges\n",
      "Syntrophic fluxes examined after 0.0 minutes, with 2 change(s): {'values_changed': {\"root['EX_cpd00009_e0']\": {'new_value': 2.982600809488827, 'old_value': 0.17640199999437353}, \"root['EX_cpd10515_e0']\": {'new_value': 6.892064499920052, 'old_value': 0.0009336000000000001}}}\n",
      "The 362880 permutations of the {'EX_cpd00028_e0', 'EX_cpd00541_e0', 'EX_cpd00294_e0', 'EX_cpd00009_e0', 'EX_cpd03725_e0', 'EX_cpd10515_e0', 'EX_cpd00048_e0', 'EX_cpd00007_e0', 'EX_cpd00104_e0'} redundant compounds, from absolute tolerance of 1e-4, will be examined.\n",
      "334655/362880\r"
     ]
    }
   ],
   "source": [
    "%run ../../ModelSEEDpy/modelseedpy/community/mscommunity.py\n",
    "comm_media, jenga_removals = MSCommunity.estimate_minimal_community_media(models, com_model)"
   ]
  },
  {
   "cell_type": "code",
   "execution_count": null,
   "id": "adffb9fe-1993-49ad-a19c-ee9f62ec8d14",
   "metadata": {},
   "outputs": [],
   "source": []
  }
 ],
 "metadata": {
  "kernelspec": {
   "display_name": "Python 3 (ipykernel)",
   "language": "python",
   "name": "python3"
  },
  "language_info": {
   "codemirror_mode": {
    "name": "ipython",
    "version": 3
   },
   "file_extension": ".py",
   "mimetype": "text/x-python",
   "name": "python",
   "nbconvert_exporter": "python",
   "pygments_lexer": "ipython3",
   "version": "3.9.12"
  }
 },
 "nbformat": 4,
 "nbformat_minor": 5
}
