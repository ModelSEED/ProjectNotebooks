{
 "cells": [
  {
   "cell_type": "code",
   "execution_count": 1,
   "metadata": {},
   "outputs": [
    {
     "name": "stdout",
     "output_type": "stream",
     "text": [
      "cobrakbase 0.2.7\n"
     ]
    }
   ],
   "source": [
    "import sys\n",
    "import json\n",
    "import cobra\n",
    "import cplex\n",
    "import cobrakbase\n",
    "import escher\n",
    "from escher import Builder\n"
   ]
  },
  {
   "cell_type": "code",
   "execution_count": 2,
   "metadata": {},
   "outputs": [],
   "source": [
    "#Put the path to ModelSEEDpy on your machine here\n",
    "sys.path.append(\"/Users/ffoflonker/Documents/Command_line/ModelSEEDpy-csh\")\n",
    "#import modelseedpy.fbapkg\n",
    "from modelseedpy import MSPackageManager\n"
   ]
  },
  {
   "cell_type": "code",
   "execution_count": 3,
   "metadata": {},
   "outputs": [],
   "source": [
    "\n",
    "# file = open('/Users/ffoflonker/Documents/Command_line/ModelSEEDpy-csh/examples/plant_map.json',)\n",
    "# plantmap = file.read()\n",
    "# builder = Builder(map_json=plantmap)\n",
    "# builder.reaction_scale=[\n",
    "#         { \"type\": 'value', \"value\": 0, \"color\": '#dcdcdc', \"size\": 10 },\n",
    "#         { \"type\": 'value', \"value\": 0.000001, \"color\": '#9696ff', \"size\": 25 },\n",
    "#         { \"type\": 'value', \"value\": 1, \"color\": '#ff0000', \"size\": 35 },\n",
    "#         { \"type\": 'value', \"value\": 20, \"color\": '#209123', \"size\": 50 },\n",
    "#     ]\n",
    "# builder"
   ]
  },
  {
   "cell_type": "code",
   "execution_count": 4,
   "metadata": {},
   "outputs": [],
   "source": [
    "kbase_api = cobrakbase.KBaseAPI()\n",
    "#model = kbase_api.get_from_ws(\"C4_Calvin_Zmays_Model\",25427)\n",
    "model =cobra.io.read_sbml_model('C4_HS_Zmays_Model_v2.xml')\n",
    "#model =cobra.io.read_sbml_model('C4_Calvin_Zmays_Model_v8.xml')\n",
    "model.solver = 'optlang-cplex'"
   ]
  },
  {
   "cell_type": "code",
   "execution_count": 5,
   "metadata": {},
   "outputs": [
    {
     "name": "stdout",
     "output_type": "stream",
     "text": [
      "{'Mature_leaf': {'rxn00102_d1': 0.031916667, 'rxn20508_d1': 0.031916667, 'rxn00249_d1': 0.031916667, 'rxn00161_d0': 0.031916667, 'rxn00151_d1': 0.031916667, 'rxn00018_d0': 0.031916667, 'rxn01100_d0': 0.031916667, 'rxn00782_d0': 0.031916667, 'rxn00781_d0': 0.002125, 'rxn01345_d0': 0.031916667, 'rxn01200_d0': 0.031916667, 'rxn01111_d0': 0.031916667, 'rxn02251_d0': 0.0005, 'rxn00980_d0': 0.0005, 'rxn00333_x0': 0.0005, 'rxn00275_x0': 0.0005, 'rxn00692_m0': 0.0005, 'rxn00424_x0': 0.0005, 'rxn01011_x0': 0.0005, 'rxn00908_m0': 0.0005, 'rxn15364_c0': 0.002125, 'rxn01334_c0': 0.002125, 'rxn01100_c0': 0.002125, 'rxn00781_c0': 0.002125, 'rxn01106_c0': 0.002125, 'rxn00459_c0': 0.002125, 'rxn00148_c0': 0.002125, 'rxn00747_c0': 0.002125, 'rxn15298_c0': 0.002125, 'rxn15493_c0': 0.002125, 'rxn15494_c0': 0.002125, 'rxn20583_d0': 0.002125, 'rxn15364_d0': 0.002125, 'rxn01975_d0': 0.0004875, 'rxn01476_d0': 0.0004875, 'rxn01115_d0': 0.0004875, 'rxn11040_d0': 0.0004875, 'rxn29919_d0': 0.0004875, 'rxn01975_c0': 5.42e-05, 'rxn01476_c0': 5.42e-05, 'rxn01115_c0': 5.42e-05, 'rxn11040_c0': 5.42e-05, 'rxn00777_c0': 5.42e-05, 'rxn01116_c0': 5.42e-05, 'rxn01200_c0': 5.42e-05, 'rxn15271_c0': 5.42e-05, 'rxn00154_m0': 0.005333333, 'rxn00974_m0': 0.005333333, 'rxn15280_m0': 0.005333333, 'rxn15056_m0': 0.005333333, 'rxn00285_m0': 0.005333333, 'rxn00799_m0': 0.005333333, 'rxn00248_m0': 0.005333333, 'rxn08094_m0': 0.005333333, 'rxn00571_c0': 0.001541667, 'rxn19701_d0': 0.001541667, 'rxn00187_c0': 0.0005, 'rxn00187_d0': 0.001666667, 'rxn19828_d0': 0.001666667, 'rxn00069_d0': 0.001666667, 'rxn20508_c0': 0.00028, 'rxn00260_d0': 0.000246675, 'rxn00416_c0': 3.75e-05, 'rxn00337_d0': 0.000249446, 'rxn01643_d0': 0.000249446, 'rxn01302_d0': 0.000179733, 'rxn01301_d0': 0.000179733, 'rxn01300_d0': 0.000179733, 'rxn02928_d0': 6.97e-05, 'rxn02929_d0': 6.97e-05, 'rxn01069_d0': 0.00015015, 'rxn19900_c0': 2.96e-05, 'rxn00693_c0': 2.96e-05, 'rxn04954_c0': 2.96e-05, 'rxn00789_d0': 4.02e-05, 'rxn02320_d0': 4.02e-05, 'rxn00863_d0': 4.02e-05, 'rxn02159_d0': 4.02e-05, 'rxn00929_d0': 5.9e-05, 'rxn00931_d0': 5.9e-05, 'rxn00179_c0': 5.9e-05, 'rxn02373_c0': 5.9e-05, 'rxn01019_d0': 7.5075e-05, 'rxn01917_d0': 7.5075e-05, 'rxn02914_d0': 0.000203775, 'rxn00420_d0': 0.000203775, 'rxn01101_d0': 0.000203775, 'rxn00692_d0': 0.000126019, 'rxn00692_c0': 0.000126019, 'rxn00423_c0': 2.95e-05, 'rxn00649_c0': 2.95e-05, 'rxn00423_m0': 2.95e-05, 'rxn19345_c0': 2.95e-05, 'rxn00649_m0': 2.95e-05, 'rxn00423_d0': 2.95e-05, 'rxn00649_d0': 2.95e-05, 'rxn19345_d0': 2.95e-05, 'rxn00902_d0': 9.92e-05, 'rxn03062_d0': 9.92e-05, 'rxn19027_d0': 0.000176963, 'rxn08764_d0': 6.7e-05, 'rxn00903_d0': 7.78e-05, 'rxn00903_c0': 7.78e-05, 'rxn00903_m0': 7.78e-05, 'rxn01575_d0': 6.7e-05, 'rxn01575_c0': 6.7e-05, 'rxn01575_m0': 6.7e-05, 'rxn00806_d0': 9.92e-05, 'rxn00806_c0': 9.92e-05, 'rxn00806_m0': 9.92e-05, 'rxn01682_d0': 2.145e-05, 'rxn00474_d0': 2.145e-05, 'rxn00791_d0': 2.145e-05, 'rxn01256_d0': 0.000104569, 'rxn00490_d0': 5.9e-05, 'rxn05036_d0': 0.000104569}}\n"
     ]
    }
   ],
   "source": [
    "\n",
    "#Setting model to complete media\n",
    "#media = kbase_api.get_from_ws(\"Carbon-D-Glucose\",\"KBaseMedia\")\n",
    "pkgmgr = MSPackageManager.get_pkg_mgr(model,1)\n",
    "pkgmgr.getpkg(\"KBaseMediaPkg\",1).build_package(None)\n",
    "\n",
    "#Reading reaction protein abundances\n",
    "data = \"\"\n",
    "with open('/Users/ffoflonker/Documents/Command_line/ModelSEEDpy-csh/examples/ReactionProtein.txt', 'r') as file:\n",
    "    data = file.read()\n",
    "lines = data.split(\"\\n\")\n",
    "reaction_proteins = {}\n",
    "headers = None\n",
    "for line in lines:\n",
    "    if headers == None:\n",
    "        headers = line.split(\"\\t\")\n",
    "    else:\n",
    "        array = line.split(\"\\t\")\n",
    "        for i in range(2, len(array)):\n",
    "            if headers[i] not in reaction_proteins:\n",
    "                reaction_proteins[headers[i]] = dict()\n",
    "            reaction_proteins[headers[i]][array[0]] = abs(float(array[i]))\n",
    "\n",
    "#Reading reaction kcat values\n",
    "data = \"\"\n",
    "with open('/Users/ffoflonker/Documents/Command_line/ModelSEEDpy-csh/examples/KCats.txt', 'r') as file:\n",
    "    data = file.read()\n",
    "lines = data.split(\"\\n\")\n",
    "reaction_kcat = {}\n",
    "headers = None\n",
    "for line in lines:\n",
    "    if headers == None:\n",
    "        headers = line.split(\"\\t\")\n",
    "    else:\n",
    "        array = line.split(\"\\t\")\n",
    "        reaction_kcat[array[0]] = abs(float(array[1]))\n",
    "\n",
    "#Reading measured reaction fluxes\n",
    "data = \"\"\n",
    "with open('measured_Claudia4.txt', 'r') as file:\n",
    "#with open('/Users/ffoflonker/Documents/Command_line/ModelSEEDpy-csh/examples/MeasuredReaction.txt', 'r') as file:\n",
    "    data = file.read()\n",
    "lines = data.split(\"\\n\")\n",
    "reaction_measures = {}\n",
    "headers = None\n",
    "for line in lines:\n",
    "    if headers == None:\n",
    "        headers = line.split(\"\\t\")\n",
    "    else:\n",
    "        array = line.split(\"\\t\")\n",
    "        if array[1] not in reaction_measures:\n",
    "                reaction_measures[array[1]] = dict()\n",
    "        rxnid = array[0]\n",
    "        if rxnid[-1:] != \"z\":\n",
    "            rxnid += \"0\"\n",
    "        else:\n",
    "            rxnid =rxnid.rstrip(rxnid[-1])\n",
    "            rxnid += \"d1\"\n",
    "        reaction_measures[array[1]][rxnid] = abs(float(array[2]))\n",
    "\n",
    "print(reaction_measures)"
   ]
  },
  {
   "cell_type": "code",
   "execution_count": 6,
   "metadata": {},
   "outputs": [],
   "source": [
    "#Applying flexible biomass constraints\n",
    "protein = 0.0948\n",
    "protein_flux = -1*(0.2-protein)\n",
    "pkgmgr.getpkg(\"FlexibleBiomassPkg\",1).build_package({\"bio_rxn_id\":\"bio1_biomass\",\"use_rna_class\":[-0.75,0.75],\n",
    "    \"use_dna_class\":[-0.75,0.75],\n",
    "    \"use_protein_class\":[-0.1,0.1],\n",
    "    \"use_energy_class\":[-0.1,0.1]})\n",
    "\n",
    "with model:\n",
    "    #Applying proteome fitting constraints\n",
    "    pkgmgr.getpkg(\"ProteomeFittingPkg\",1).build_package({\n",
    "        \"rxn_proteome\":reaction_proteins[\"Mature_leaf\"],\n",
    "        \"flux_values\":reaction_measures[\"Mature_leaf\"],\n",
    "        \"kcat_values\":reaction_kcat,\n",
    "        \"prot_coef\" : protein,#Set to the fraction of the cell that is protein\n",
    "        \"totalflux\" : 10,#Set to one if we're fitting flux magnitude rather than actual flux to flux measurements\n",
    "        \"kcat_coef\" : 0.02,#kapp = kcat_coef * kcat\n",
    "        \"obj_kfit\":1,#Coefficient on kcat fitting terms in objective function\n",
    "        \"obj_kvfit\":1,#Coefficient on kinetic expression fitting terms in objective function\n",
    "        \"obj_vfit\":100,#Coefficient on flux measurement terms in objective function\n",
    "        \"set_objective\":1\n",
    "    })\n",
    "    \n",
    "    #Constraining biomass flux to reference value\n",
    "    rxn = model.reactions.get_by_id(\"bio1_biomass\")\n",
    "    rxn.upper_bound = 0.006395833\n",
    "    rxn.lower_bound = 0.006395833\n",
    "    \n",
    "    #Printing LP file\n",
    "    with open('SingleTissueProteomeData.lp', 'w') as out:\n",
    "        out.write(str(model.solver))\n",
    "            #Optimizing\n",
    "    sol=model.optimize()\n",
    "    #model.summary()\n",
    "#     builder.model = model\n",
    "#     builder.reaction_data = sol.fluxes\n",
    "    #Print solution:\n",
    "    #Key variables:\n",
    "    #rxn#####_c0_kapp - k apparent for reaction 29\n",
    "    #rxn#####_c0_kvfit - fit of reaction flux to equation kapp*[protein]\n",
    "    #rxn#####_c0_kfit - fit of kapp to 0.02*kcat\n",
    "    #rxn#####_c0_tf - total flux through reaction\n",
    "    #rxn#####_c0_vfit - fit to measured value for this reaction\n",
    "    #Objective value is to minimize the sum of squares for kvfit, kfit, and vfit variables\n",
    "    \n"
   ]
  },
  {
   "cell_type": "code",
   "execution_count": 7,
   "metadata": {},
   "outputs": [
    {
     "data": {
      "text/plain": [
       "0.006395833"
      ]
     },
     "execution_count": 7,
     "metadata": {},
     "output_type": "execute_result"
    }
   ],
   "source": [
    "sol.fluxes['bio1_biomass']"
   ]
  },
  {
   "cell_type": "code",
   "execution_count": 8,
   "metadata": {},
   "outputs": [],
   "source": [
    "sol.fluxes.to_csv('single_prot_sol.csv')"
   ]
  },
  {
   "cell_type": "code",
   "execution_count": 9,
   "metadata": {},
   "outputs": [
    {
     "data": {
      "text/html": [
       "\n",
       "        <table>\n",
       "            <tr>\n",
       "                <td><strong>Reaction identifier</strong></td><td>rxn01116_d0</td>\n",
       "            </tr><tr>\n",
       "                <td><strong>Name</strong></td><td>D-Ribulose-5-phosphate 3-epimerase</td>\n",
       "            </tr><tr>\n",
       "                <td><strong>Memory address</strong></td>\n",
       "                <td>0x07fa3afef9990</td>\n",
       "            </tr><tr>\n",
       "                <td><strong>Stoichiometry</strong></td>\n",
       "                <td>\n",
       "                    <p style='text-align:right'>cpd00171_d0 <=> cpd00198_d0</p>\n",
       "                    <p style='text-align:right'>D-Ribulose5-phosphate <=> D-Xylulose5-phosphate</p>\n",
       "                </td>\n",
       "            </tr><tr>\n",
       "                <td><strong>GPR</strong></td><td>GRMZM2G026807 and GRMZM2G178960 and GRMZM2G083102</td>\n",
       "            </tr><tr>\n",
       "                <td><strong>Lower bound</strong></td><td>-1000.0</td>\n",
       "            </tr><tr>\n",
       "                <td><strong>Upper bound</strong></td><td>1000.0</td>\n",
       "            </tr>\n",
       "        </table>\n",
       "        "
      ],
      "text/plain": [
       "<Reaction rxn01116_d0 at 0x7fa3afef9990>"
      ]
     },
     "execution_count": 9,
     "metadata": {},
     "output_type": "execute_result"
    }
   ],
   "source": [
    "model.reactions.rxn01116_d0"
   ]
  },
  {
   "cell_type": "code",
   "execution_count": null,
   "metadata": {},
   "outputs": [],
   "source": []
  }
 ],
 "metadata": {
  "kernelspec": {
   "display_name": "Python 3",
   "language": "python",
   "name": "python3"
  },
  "language_info": {
   "codemirror_mode": {
    "name": "ipython",
    "version": 3
   },
   "file_extension": ".py",
   "mimetype": "text/x-python",
   "name": "python",
   "nbconvert_exporter": "python",
   "pygments_lexer": "ipython3",
   "version": "3.7.6"
  }
 },
 "nbformat": 4,
 "nbformat_minor": 4
}
