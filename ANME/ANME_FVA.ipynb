{
 "cells": [
  {
   "cell_type": "code",
   "execution_count": 1,
   "id": "75328cc5-564e-4434-9be4-c1aacfda5cef",
   "metadata": {
    "tags": []
   },
   "outputs": [
    {
     "name": "stdout",
     "output_type": "stream",
     "text": [
      "cobrakbase 0.3.1\n"
     ]
    }
   ],
   "source": [
    "# define the environment path \n",
    "import os\n",
    "local_cobrakbase_path = os.path.join('C:', 'Users', 'Andrew Freiburger','Documents','Argonne','cobrakbase')\n",
    "os.environ[\"HOME\"] = local_cobrakbase_path\n",
    "\n",
    "# import the KBase\n",
    "import cobrakbase\n",
    "# with open(\"/Users/afreiburger/Documents/kbase_token.txt\") as token_file:\n",
    "with open(\"C:/Users/Andrew Freiburger/Documents/Argonne/kbase_token.txt\") as token_file:\n",
    "    kbase_api = cobrakbase.KBaseAPI(token_file.readline())\n",
    "\n",
    "# prevent excessive warnings\n",
    "from time import process_time\n",
    "import warnings\n",
    "warnings.filterwarnings(action='once')\n",
    "\n",
    "\n",
    "from pandas import set_option\n",
    "set_option(\"display.max_rows\", None)\n",
    "set_option(\"display.max_columns\", None)"
   ]
  },
  {
   "cell_type": "code",
   "execution_count": 2,
   "id": "35b664e9-c8bd-444b-8ab4-a93bcc482abe",
   "metadata": {},
   "outputs": [],
   "source": [
    "srb_2a_model = kbase_api.get_from_ws(\"2a-srb\",108554)\n",
    "SeepSRB1a_2c_model = kbase_api.get_from_ws(\"2c-SeepSRB1a\",108554)\n",
    "srb_2c_model = kbase_api.get_from_ws(\"2c-srb\",108554)\n",
    "SeepSRB1a_2a_model = kbase_api.get_from_ws(\"2a-SeepSRB1a\",108554)"
   ]
  },
  {
   "cell_type": "markdown",
   "id": "c7d0d890-df67-408d-a8f7-532287783d67",
   "metadata": {},
   "source": [
    "# Identify the reactions whose variabilities are intriguing"
   ]
  },
  {
   "cell_type": "code",
   "execution_count": null,
   "id": "dcc8bc55-ea22-4c4d-8012-5c2b3671c27a",
   "metadata": {},
   "outputs": [],
   "source": [
    "# find the Colabamin and Nitrate fixation reactions in the model\n",
    "from modelseedpy.biochem import from_local\n",
    "\n",
    "msdb = from_local(\"../../..\")"
   ]
  },
  {
   "cell_type": "markdown",
   "id": "1416f59b-6312-4b4a-b850-5564772438e3",
   "metadata": {},
   "source": [
    "# Determine the variability of the selected reactions"
   ]
  },
  {
   "cell_type": "code",
   "execution_count": null,
   "id": "5237c13b-1d81-457c-88dd-4d4a1714208e",
   "metadata": {},
   "outputs": [],
   "source": [
    "%run ../../ModelSEEDpy/modelseedpy/community/mscommunity.py\n",
    "\n"
   ]
  }
 ],
 "metadata": {
  "kernelspec": {
   "display_name": "Python 3 (ipykernel)",
   "language": "python",
   "name": "python3"
  },
  "language_info": {
   "codemirror_mode": {
    "name": "ipython",
    "version": 3
   },
   "file_extension": ".py",
   "mimetype": "text/x-python",
   "name": "python",
   "nbconvert_exporter": "python",
   "pygments_lexer": "ipython3",
   "version": "3.9.6"
  }
 },
 "nbformat": 4,
 "nbformat_minor": 5
}
