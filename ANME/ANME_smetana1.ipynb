{
 "cells": [
  {
   "cell_type": "code",
   "execution_count": 1,
   "id": "33bc0ab1-94f7-40fc-a4d1-9db24a70d279",
   "metadata": {},
   "outputs": [
    {
     "name": "stdout",
     "output_type": "stream",
     "text": [
      "cobrakbase 0.3.1\n"
     ]
    }
   ],
   "source": [
    "# define the environment path \n",
    "import os\n",
    "local_cobrakbase_path = os.path.join('C:', 'Users', 'Andrew Freiburger','Documents','Argonne','cobrakbase')\n",
    "os.environ[\"HOME\"] = local_cobrakbase_path\n",
    "\n",
    "# import the KBase\n",
    "import cobrakbase\n",
    "# with open(\"/Users/afreiburger/Documents/kbase_token.txt\") as token_file:\n",
    "with open(\"D:/Users/Andrew Freiburger/Documents/Argonne/kbase_token.txt\") as token_file:\n",
    "    kbase_api = cobrakbase.KBaseAPI(token_file.readline())\n",
    "\n",
    "# prevent excessive warnings\n",
    "from time import process_time\n",
    "import warnings\n",
    "warnings.filterwarnings(action='once')\n",
    "\n",
    "\n",
    "from pandas import set_option\n",
    "# set_option(\"display.max_rows\", None)\n",
    "set_option(\"display.max_columns\", None)"
   ]
  },
  {
   "cell_type": "code",
   "execution_count": 2,
   "id": "efddc1e8-d0f6-47e2-a529-4c3c55fc692b",
   "metadata": {},
   "outputs": [],
   "source": [
    "# load the individual models\n",
    "_2a = kbase_api.get_from_ws(\"2a\",108554)\n",
    "_2c = kbase_api.get_from_ws(\"2c\",108554)\n",
    "srb = kbase_api.get_from_ws(\"srb\",108554)\n",
    "SeepSRB1a = kbase_api.get_from_ws(\"SeepSRB1a\",108554)\n",
    "\n",
    "# load the community models\n",
    "srb_2a_model = kbase_api.get_from_ws(\"2a-srb\",108554)\n",
    "SeepSRB1a_2c_model = kbase_api.get_from_ws(\"2c-SeepSRB1a\",108554)\n",
    "srb_2c_model = kbase_api.get_from_ws(\"2c-srb\",108554)\n",
    "SeepSRB1a_2a_model = kbase_api.get_from_ws(\"2a-SeepSRB1a\",108554)"
   ]
  },
  {
   "cell_type": "markdown",
   "id": "55a686f7-cbe7-4055-8a73-d5b313cec159",
   "metadata": {},
   "source": [
    "## srb_2a_model"
   ]
  },
  {
   "cell_type": "code",
   "execution_count": 3,
   "id": "07a10c5e-6cca-40fb-be51-866a1bf0f57d",
   "metadata": {},
   "outputs": [
    {
     "name": "stdout",
     "output_type": "stream",
     "text": [
      "The exchange  metabolite ID's of the model srb,2a are completely standardized to ModelSEED.\n",
      "The minimal flux media consists of 71 compounds and a 1.6675310017608689 total influx, with a growth value of 0.10000000000000012\n",
      "The minimal flux media consists of 67 compounds and a 1.587432581132905 total influx, with a growth value of 0.09999999999999933\n",
      "The minimal flux media consists of 73 compounds and a 3.254963582893776 total influx, with a growth value of 0.09999999999999977\n",
      "\n",
      "The srb on 2a) MRO score: 0.9154929577464789 (91.55%). This is the percent of nutritional requirements in srb that overlap with 2a) (65/71).\n",
      "\n",
      "The 2a on srb) MRO score: 0.9701492537313433 (97.01%). This is the percent of nutritional requirements in 2a that overlap with srb) (65/67).\n",
      "{}\n",
      "\n",
      "MIP score: 0\t\t\t0 required compound(s) can be sourced via syntrophy:\n",
      "executing MP\n",
      "The exchange  metabolite ID's of the model 2a-srb are completely standardized to ModelSEED.\n",
      "The minimal flux media consists of 73 compounds and a 1610.7973862751548 total influx, with a growth value of 39.077597438367576\n",
      "\n",
      "\n",
      "\n",
      "Standardize exchange reactions in srb \n",
      " ========================================\n",
      "The exchange  metabolite ID's of the model srb are completely standardized to ModelSEED.\n"
     ]
    },
    {
     "name": "stderr",
     "output_type": "stream",
     "text": [
      "C:\\Users\\Andrew Freiburger\\AppData\\Local\\Programs\\Python\\Python39\\lib\\site-packages\\cobra\\core\\reaction.py:761: DeprecationWarning: Please use reaction.flux instead.\n",
      "  warn(\"Please use reaction.flux instead.\", DeprecationWarning)\n",
      "C:\\Users\\Andrew Freiburger\\AppData\\Local\\Programs\\Python\\Python39\\lib\\site-packages\\cobra\\core\\reaction.py:779: DeprecationWarning: Please use reaction.reduced_cost instead.\n",
      "  warn(\"Please use reaction.reduced_cost instead.\", DeprecationWarning)\n",
      "C:\\Users\\Andrew Freiburger\\AppData\\Local\\Programs\\Python\\Python39\\lib\\site-packages\\cobra\\core\\metabolite.py:207: DeprecationWarning: Please use metabolite.shadow_price instead.\n",
      "  warn(\"Please use metabolite.shadow_price instead.\", DeprecationWarning)\n"
     ]
    },
    {
     "name": "stdout",
     "output_type": "stream",
     "text": [
      "remaining possible_contributions 7\n",
      "\n",
      "\n",
      "Standardize exchange reactions in 2a \n",
      " =======================================\n",
      "The exchange  metabolite ID's of the model 2a are completely standardized to ModelSEED.\n"
     ]
    },
    {
     "name": "stderr",
     "output_type": "stream",
     "text": [
      "C:\\Users\\Andrew Freiburger\\AppData\\Local\\Programs\\Python\\Python39\\lib\\site-packages\\cobra\\core\\reaction.py:761: DeprecationWarning: Please use reaction.flux instead.\n",
      "  warn(\"Please use reaction.flux instead.\", DeprecationWarning)\n",
      "C:\\Users\\Andrew Freiburger\\AppData\\Local\\Programs\\Python\\Python39\\lib\\site-packages\\cobra\\core\\reaction.py:779: DeprecationWarning: Please use reaction.reduced_cost instead.\n",
      "  warn(\"Please use reaction.reduced_cost instead.\", DeprecationWarning)\n",
      "C:\\Users\\Andrew Freiburger\\AppData\\Local\\Programs\\Python\\Python39\\lib\\site-packages\\cobra\\core\\metabolite.py:207: DeprecationWarning: Please use metabolite.shadow_price instead.\n",
      "  warn(\"Please use metabolite.shadow_price instead.\", DeprecationWarning)\n"
     ]
    },
    {
     "name": "stdout",
     "output_type": "stream",
     "text": [
      "remaining possible_contributions 6\n",
      "MP score:\t\t\tEach member can possibly contribute the following to the community:\n",
      "\n",
      "srb \t 7\n",
      "2a \t 7\n"
     ]
    },
    {
     "data": {
      "text/plain": [
       "{'mro': {'srb---2a)': (0.9154929577464789, 65, 71),\n",
       "  '2a---srb)': (0.9701492537313433, 65, 67)},\n",
       " 'mip': 0,\n",
       " 'mp': {'srb': {'cpd00001_e0',\n",
       "   'cpd00009_e0',\n",
       "   'cpd00011_e0',\n",
       "   'cpd00029_e0',\n",
       "   'cpd00067_e0',\n",
       "   'cpd00218_e0',\n",
       "   'cpd10515_e0'},\n",
       "  '2a': {'cpd00001_e0',\n",
       "   'cpd00011_e0',\n",
       "   'cpd00012_e0',\n",
       "   'cpd00029_e0',\n",
       "   'cpd00067_e0',\n",
       "   'cpd00218_e0',\n",
       "   'cpd10515_e0'}},\n",
       " 'mu': None,\n",
       " 'sc': None,\n",
       " 'smetana': None}"
      ]
     },
     "execution_count": 3,
     "metadata": {},
     "output_type": "execute_result"
    }
   ],
   "source": [
    "%run ../../ModelSEED/ModelSEEDpy/modelseedpy/community/mssmetana.py\n",
    "comm = MSSmetana([srb, _2a], srb_2a_model)\n",
    "comm.all_scores()"
   ]
  },
  {
   "cell_type": "markdown",
   "id": "a5399d06-cfa8-46df-ad88-0ff7b7bdb2d2",
   "metadata": {},
   "source": [
    "## srb_2c_model"
   ]
  },
  {
   "cell_type": "code",
   "execution_count": 4,
   "id": "357b2923-9b65-43f7-bc03-7f11ceeb33e1",
   "metadata": {},
   "outputs": [
    {
     "name": "stdout",
     "output_type": "stream",
     "text": [
      "The exchange  metabolite ID's of the model srb,2c are completely standardized to ModelSEED.\n",
      "The minimal flux media consists of 71 compounds and a 1.6675310017608689 total influx, with a growth value of 0.10000000000000012\n",
      "The minimal flux media consists of 67 compounds and a 1.5877699830761987 total influx, with a growth value of 0.10000000000000019\n",
      "The minimal flux media consists of 74 compounds and a 3.2553009848370618 total influx, with a growth value of 0.0999999999999995\n",
      "\n",
      "The srb on 2c) MRO score: 0.9014084507042254 (90.14%). This is the percent of nutritional requirements in srb that overlap with 2c) (64/71).\n",
      "\n",
      "The 2c on srb) MRO score: 0.9552238805970149 (95.52%). This is the percent of nutritional requirements in 2c that overlap with srb) (64/67).\n",
      "{}\n",
      "\n",
      "MIP score: 0\t\t\t0 required compound(s) can be sourced via syntrophy:\n",
      "executing MP\n",
      "The exchange  metabolite ID's of the model 2c-srb are completely standardized to ModelSEED.\n",
      "The minimal flux media consists of 73 compounds and a 1463.9909121266621 total influx, with a growth value of 38.23624993700956\n",
      "\n",
      "\n",
      "\n",
      "Standardize exchange reactions in srb \n",
      " ========================================\n",
      "The exchange  metabolite ID's of the model srb are completely standardized to ModelSEED.\n"
     ]
    },
    {
     "name": "stderr",
     "output_type": "stream",
     "text": [
      "C:\\Users\\Andrew Freiburger\\AppData\\Local\\Programs\\Python\\Python39\\lib\\site-packages\\cobra\\core\\reaction.py:761: DeprecationWarning: Please use reaction.flux instead.\n",
      "  warn(\"Please use reaction.flux instead.\", DeprecationWarning)\n",
      "C:\\Users\\Andrew Freiburger\\AppData\\Local\\Programs\\Python\\Python39\\lib\\site-packages\\cobra\\core\\reaction.py:779: DeprecationWarning: Please use reaction.reduced_cost instead.\n",
      "  warn(\"Please use reaction.reduced_cost instead.\", DeprecationWarning)\n",
      "C:\\Users\\Andrew Freiburger\\AppData\\Local\\Programs\\Python\\Python39\\lib\\site-packages\\cobra\\core\\metabolite.py:207: DeprecationWarning: Please use metabolite.shadow_price instead.\n",
      "  warn(\"Please use metabolite.shadow_price instead.\", DeprecationWarning)\n"
     ]
    },
    {
     "name": "stdout",
     "output_type": "stream",
     "text": [
      "remaining possible_contributions 7\n",
      "\n",
      "\n",
      "Standardize exchange reactions in 2c \n",
      " =======================================\n",
      "The exchange  metabolite ID's of the model 2c are completely standardized to ModelSEED.\n"
     ]
    },
    {
     "name": "stderr",
     "output_type": "stream",
     "text": [
      "C:\\Users\\Andrew Freiburger\\AppData\\Local\\Programs\\Python\\Python39\\lib\\site-packages\\cobra\\core\\reaction.py:761: DeprecationWarning: Please use reaction.flux instead.\n",
      "  warn(\"Please use reaction.flux instead.\", DeprecationWarning)\n",
      "C:\\Users\\Andrew Freiburger\\AppData\\Local\\Programs\\Python\\Python39\\lib\\site-packages\\cobra\\core\\reaction.py:779: DeprecationWarning: Please use reaction.reduced_cost instead.\n",
      "  warn(\"Please use reaction.reduced_cost instead.\", DeprecationWarning)\n"
     ]
    },
    {
     "name": "stdout",
     "output_type": "stream",
     "text": [
      "remaining possible_contributions 5\n",
      "MP score:\t\t\tEach member can possibly contribute the following to the community:\n",
      "\n",
      "srb \t 7\n",
      "2c \t 6\n"
     ]
    },
    {
     "name": "stderr",
     "output_type": "stream",
     "text": [
      "C:\\Users\\Andrew Freiburger\\AppData\\Local\\Programs\\Python\\Python39\\lib\\site-packages\\cobra\\core\\metabolite.py:207: DeprecationWarning: Please use metabolite.shadow_price instead.\n",
      "  warn(\"Please use metabolite.shadow_price instead.\", DeprecationWarning)\n"
     ]
    },
    {
     "data": {
      "text/plain": [
       "{'mro': {'srb---2c)': (0.9014084507042254, 64, 71),\n",
       "  '2c---srb)': (0.9552238805970149, 64, 67)},\n",
       " 'mip': 0,\n",
       " 'mp': {'srb': {'cpd00001_e0',\n",
       "   'cpd00009_e0',\n",
       "   'cpd00011_e0',\n",
       "   'cpd00029_e0',\n",
       "   'cpd00067_e0',\n",
       "   'cpd00218_e0',\n",
       "   'cpd10515_e0'},\n",
       "  '2c': {'cpd00001_e0',\n",
       "   'cpd00011_e0',\n",
       "   'cpd00012_e0',\n",
       "   'cpd00029_e0',\n",
       "   'cpd00067_e0',\n",
       "   'cpd00218_e0'}},\n",
       " 'mu': None,\n",
       " 'sc': None,\n",
       " 'smetana': None}"
      ]
     },
     "execution_count": 4,
     "metadata": {},
     "output_type": "execute_result"
    }
   ],
   "source": [
    "%run ../../ModelSEED/ModelSEEDpy/modelseedpy/community/mssmetana.py\n",
    "comm = MSSmetana([srb, _2c], srb_2c_model)\n",
    "comm.all_scores()"
   ]
  },
  {
   "cell_type": "markdown",
   "id": "d97e2063-6549-45c4-b25b-12ac592a18f9",
   "metadata": {},
   "source": [
    "## SeepSRB1a_2a_model"
   ]
  },
  {
   "cell_type": "code",
   "execution_count": 5,
   "id": "7b545fe8-afbd-454f-b50e-f677d9aacb12",
   "metadata": {},
   "outputs": [
    {
     "name": "stdout",
     "output_type": "stream",
     "text": [
      "The exchange  metabolite ID's of the model SeepSRB1a,2a are completely standardized to ModelSEED.\n",
      "The minimal flux media consists of 66 compounds and a 1.5921107949753843 total influx, with a growth value of 0.09999999999999985\n",
      "The minimal flux media consists of 67 compounds and a 1.587432581132905 total influx, with a growth value of 0.09999999999999933\n",
      "The minimal flux media consists of 67 compounds and a 3.179543376108292 total influx, with a growth value of 0.1\n",
      "\n",
      "The SeepSRB1a on 2a) MRO score: 1.0 (100.00%). This is the percent of nutritional requirements in SeepSRB1a that overlap with 2a) (66/66).\n",
      "\n",
      "The 2a on SeepSRB1a) MRO score: 0.9850746268656716 (98.51%). This is the percent of nutritional requirements in 2a that overlap with SeepSRB1a) (66/67).\n",
      "{'values_changed': {\"root['EX_cpd00006_e0']\": {'new_value': 0.0016836954957548033, 'old_value': 0.0016836954957548185}, \"root['EX_cpd00066_e0']\": {'new_value': 0.03090389800626901, 'old_value': 0.030903898006269005}, \"root['EX_cpd00185_e0']\": {'new_value': 0.015006358626536646, 'old_value': 0.015006358626536641}, \"root['EX_cpd00357_e0']\": {'new_value': 0.0033493621297130214, 'old_value': 0.0033493621297130205}, \"root['EX_cpd00305_e0']\": {'new_value': 0.0005612318319182624, 'old_value': 0.0005612318319182623}, \"root['EX_cpd00065_e0']\": {'new_value': 0.009440383829004364, 'old_value': 0.00944038382900436}, \"root['EX_cpd00241_e0']\": {'new_value': 0.0024978248008994185, 'old_value': 0.0024978248008994176}, \"root['EX_cpd00033_e0']\": {'new_value': 0.10000964598649371, 'old_value': 0.1000096459864937}, \"root['EX_cpd00017_e0']\": {'new_value': 0.0016836954957547864, 'old_value': 0.0016836954957547862}, \"root['EX_cpd01741_e0']\": {'new_value': 0.015006358626536643, 'old_value': 0.015006358626536638}, \"root['EX_cpd00100_e0']\": {'new_value': 0.012458137977227043, 'old_value': 0.012458137977227042}, \"root['EX_cpd00393_e0']\": {'new_value': 0.0016836954957547866, 'old_value': 0.0016836954957547864}, \"root['EX_cpd15311_e0']\": {'new_value': 0.024916275954454083, 'old_value': 0.02491627595445408}, \"root['EX_cpd00028_e0']\": {'new_value': 0.0005612318319182622, 'old_value': 0.0005612318319182621}, \"root['EX_cpd00038_e0']\": {'new_value': 0.0270813642407446, 'old_value': 0.027081364240744598}, \"root['EX_cpd00060_e0']\": {'new_value': 0.024437820854316884, 'old_value': 0.024437820854316877}, \"root['EX_cpd00205_e0']\": {'new_value': 0.0005612318319182623, 'old_value': 0.0005612318319182621}, \"root['EX_cpd00215_e0']\": {'new_value': 0.0005612318319182623, 'old_value': 0.0005612318319182622}, \"root['EX_cpd10515_e0']\": {'new_value': 0.0016836954957546227, 'old_value': 0.0016836954957559303}, \"root['EX_cpd00010_e0']\": {'new_value': 0.001122463663836544, 'old_value': 0.0011224636638365586}, \"root['EX_cpd00731_e0']\": {'new_value': 0.005002119542178884, 'old_value': 0.005002119542178883}, \"root['EX_cpd00091_e0']\": {'new_value': 0.018727612813287307, 'old_value': 0.018727612813287303}, \"root['EX_cpd03847_e0']\": {'new_value': 0.01500635862653664, 'old_value': 0.015006358626536638}, \"root['EX_cpd00129_e0']\": {'new_value': 0.036870933067998206, 'old_value': 0.0368709330679982}, \"root['EX_cpd00220_e0']\": {'new_value': 0.0016836954957547864, 'old_value': 0.0016836954957547862}, \"root['EX_cpd00132_e0']\": {'new_value': 0.040166161385669606, 'old_value': 0.0401661613856696}, \"root['EX_cpd00084_e0']\": {'new_value': 0.015229298441129685, 'old_value': 0.01522929844112968}, \"root['EX_cpd00035_e0']\": {'new_value': 0.0905889955768317, 'old_value': 0.09058899557683169}, \"root['EX_cpd00069_e0']\": {'new_value': 0.024135320921322406, 'old_value': 0.024135320921322402}, \"root['EX_cpd00119_e0']\": {'new_value': 0.01585272001474318, 'old_value': 0.015852720014743176}, \"root['EX_cpd00115_e0']\": {'new_value': 0.0033493621297130214, 'old_value': 0.00334936212971302}, \"root['EX_cpd00023_e0']\": {'new_value': 0.051064677472400545, 'old_value': 0.05106467747240054}, \"root['EX_cpd00540_e0']\": {'new_value': 0.0011224636638365248, 'old_value': 0.0011224636638365246}, \"root['EX_cpd00099_e0']\": {'new_value': 0.0005612318319182621, 'old_value': 0.000561231831918262}, \"root['EX_cpd00018_e0']\": {'new_value': 0.020912683637647544, 'old_value': 0.02091268363764931}, \"root['EX_cpd00054_e0']\": {'new_value': 0.04296218733166792, 'old_value': 0.042962187331667914}, \"root['EX_cpd00053_e0']\": {'new_value': 0.04269516693871209, 'old_value': 0.04269516693871208}, \"root['EX_cpd00322_e0']\": {'new_value': 0.04835970206744702, 'old_value': 0.04835970206744701}, \"root['EX_cpd00161_e0']\": {'new_value': 0.04221454655611381, 'old_value': 0.042214546556113806}, \"root['EX_cpd00794_e0']\": {'new_value': 0.011846336271704243, 'old_value': 0.011846336271704241}, \"root['EX_cpd00034_e0']\": {'new_value': 0.0005612318319182623, 'old_value': 0.0005612318319182622}, \"root['EX_cpd00277_e0']\": {'new_value': 0.0005612318319182623, 'old_value': 0.0005612318319182622}, \"root['EX_cpd00516_e0']\": {'new_value': 0.005002119542178883, 'old_value': 0.005002119542178882}, \"root['EX_cpd00254_e0']\": {'new_value': 0.0005612318319182622, 'old_value': 0.0005612318319182621}, \"root['EX_cpd00047_e0']\": {'new_value': 0.0002806159159591312, 'old_value': 0.00028061591595913114}, \"root['EX_cpd00216_e0']\": {'new_value': 0.0011224636638365248, 'old_value': 0.0011224636638365246}, \"root['EX_cpd00041_e0']\": {'new_value': 0.040166161385669606, 'old_value': 0.0401661613856696}, \"root['EX_cpd00039_e0']\": {'new_value': 0.05708760409803582, 'old_value': 0.05708760409803581}, \"root['EX_cpd00051_e0']\": {'new_value': 0.049339364540268216, 'old_value': 0.0493393645402682}, \"root['EX_cpd00058_e0']\": {'new_value': 0.0005612318319182622, 'old_value': 0.0005612318319182621}}}\n",
      "\n",
      "MIP score: 0\t\t\t0 required compound(s) can be sourced via syntrophy:\n",
      "executing MP\n",
      "The exchange  metabolite ID's of the model 2a-SeepSRB1a are completely standardized to ModelSEED.\n",
      "The minimal flux media consists of 67 compounds and a 1841.3829638805041 total influx, with a growth value of 40.760129393913864\n",
      "\n",
      "\n",
      "\n",
      "Standardize exchange reactions in SeepSRB1a \n",
      " ==============================================\n",
      "The exchange  metabolite ID's of the model SeepSRB1a are completely standardized to ModelSEED.\n"
     ]
    },
    {
     "name": "stderr",
     "output_type": "stream",
     "text": [
      "C:\\Users\\Andrew Freiburger\\AppData\\Local\\Programs\\Python\\Python39\\lib\\site-packages\\cobra\\core\\reaction.py:761: DeprecationWarning: Please use reaction.flux instead.\n",
      "  warn(\"Please use reaction.flux instead.\", DeprecationWarning)\n",
      "C:\\Users\\Andrew Freiburger\\AppData\\Local\\Programs\\Python\\Python39\\lib\\site-packages\\cobra\\core\\reaction.py:779: DeprecationWarning: Please use reaction.reduced_cost instead.\n",
      "  warn(\"Please use reaction.reduced_cost instead.\", DeprecationWarning)\n",
      "C:\\Users\\Andrew Freiburger\\AppData\\Local\\Programs\\Python\\Python39\\lib\\site-packages\\cobra\\core\\metabolite.py:207: DeprecationWarning: Please use metabolite.shadow_price instead.\n",
      "  warn(\"Please use metabolite.shadow_price instead.\", DeprecationWarning)\n"
     ]
    },
    {
     "name": "stdout",
     "output_type": "stream",
     "text": [
      "remaining possible_contributions 6\n",
      "\n",
      "\n",
      "Standardize exchange reactions in 2a \n",
      " =======================================\n",
      "The exchange  metabolite ID's of the model 2a are completely standardized to ModelSEED.\n"
     ]
    },
    {
     "name": "stderr",
     "output_type": "stream",
     "text": [
      "C:\\Users\\Andrew Freiburger\\AppData\\Local\\Programs\\Python\\Python39\\lib\\site-packages\\cobra\\core\\reaction.py:761: DeprecationWarning: Please use reaction.flux instead.\n",
      "  warn(\"Please use reaction.flux instead.\", DeprecationWarning)\n",
      "C:\\Users\\Andrew Freiburger\\AppData\\Local\\Programs\\Python\\Python39\\lib\\site-packages\\cobra\\core\\reaction.py:779: DeprecationWarning: Please use reaction.reduced_cost instead.\n",
      "  warn(\"Please use reaction.reduced_cost instead.\", DeprecationWarning)\n",
      "C:\\Users\\Andrew Freiburger\\AppData\\Local\\Programs\\Python\\Python39\\lib\\site-packages\\cobra\\core\\metabolite.py:207: DeprecationWarning: Please use metabolite.shadow_price instead.\n",
      "  warn(\"Please use metabolite.shadow_price instead.\", DeprecationWarning)\n"
     ]
    },
    {
     "name": "stdout",
     "output_type": "stream",
     "text": [
      "remaining possible_contributions 6\n",
      "MP score:\t\t\tEach member can possibly contribute the following to the community:\n",
      "\n",
      "SeepSRB1a \t 8\n",
      "2a \t 7\n"
     ]
    },
    {
     "data": {
      "text/plain": [
       "{'mro': {'SeepSRB1a---2a)': (1.0, 66, 66),\n",
       "  '2a---SeepSRB1a)': (0.9850746268656716, 66, 67)},\n",
       " 'mip': 0,\n",
       " 'mp': {'SeepSRB1a': {'cpd00001_e0',\n",
       "   'cpd00011_e0',\n",
       "   'cpd00012_e0',\n",
       "   'cpd00013_e0',\n",
       "   'cpd00029_e0',\n",
       "   'cpd00067_e0',\n",
       "   'cpd00218_e0',\n",
       "   'cpd10515_e0'},\n",
       "  '2a': {'cpd00001_e0',\n",
       "   'cpd00011_e0',\n",
       "   'cpd00012_e0',\n",
       "   'cpd00029_e0',\n",
       "   'cpd00067_e0',\n",
       "   'cpd00218_e0',\n",
       "   'cpd10515_e0'}},\n",
       " 'mu': None,\n",
       " 'sc': None,\n",
       " 'smetana': None}"
      ]
     },
     "execution_count": 5,
     "metadata": {},
     "output_type": "execute_result"
    }
   ],
   "source": [
    "%run ../../ModelSEED/ModelSEEDpy/modelseedpy/community/mssmetana.py\n",
    "comm = MSSmetana([SeepSRB1a, _2a], SeepSRB1a_2a_model)\n",
    "comm.all_scores()"
   ]
  },
  {
   "cell_type": "markdown",
   "id": "e92ac68e-f917-49d7-af19-a0ea16b873d5",
   "metadata": {},
   "source": [
    "## SeepSRB1a_2c_model"
   ]
  },
  {
   "cell_type": "code",
   "execution_count": 6,
   "id": "5d966866-a482-4e95-bf62-61e1ab210cb3",
   "metadata": {},
   "outputs": [
    {
     "name": "stdout",
     "output_type": "stream",
     "text": [
      "The exchange  metabolite ID's of the model SeepSRB1a,2c are completely standardized to ModelSEED.\n",
      "The minimal flux media consists of 66 compounds and a 1.5921107949753843 total influx, with a growth value of 0.09999999999999985\n",
      "The minimal flux media consists of 67 compounds and a 1.5877699830761987 total influx, with a growth value of 0.10000000000000019\n",
      "The minimal flux media consists of 68 compounds and a 3.179880778051586 total influx, with a growth value of 0.09999999999999996\n",
      "\n",
      "The SeepSRB1a on 2c) MRO score: 0.9848484848484849 (98.48%). This is the percent of nutritional requirements in SeepSRB1a that overlap with 2c) (65/66).\n",
      "\n",
      "The 2c on SeepSRB1a) MRO score: 0.9701492537313433 (97.01%). This is the percent of nutritional requirements in 2c that overlap with SeepSRB1a) (65/67).\n",
      "{'values_changed': {\"root['EX_cpd10515_e0']\": {'new_value': 0.0008418477478773112, 'old_value': 0.0008418477478753916}, \"root['EX_cpd00010_e0']\": {'new_value': 0.0011224636638364322, 'old_value': 0.001122463663836545}, \"root['EX_cpd00018_e0']\": {'new_value': 0.02091268363765052, 'old_value': 0.02091268363765216}}}\n",
      "\n",
      "MIP score: 0\t\t\t0 required compound(s) can be sourced via syntrophy:\n",
      "executing MP\n",
      "The exchange  metabolite ID's of the model 2c-SeepSRB1a are completely standardized to ModelSEED.\n",
      "The minimal flux media consists of 67 compounds and a 1841.3979916705 total influx, with a growth value of 40.75491870907185\n",
      "\n",
      "\n",
      "\n",
      "Standardize exchange reactions in SeepSRB1a \n",
      " ==============================================\n",
      "The exchange  metabolite ID's of the model SeepSRB1a are completely standardized to ModelSEED.\n"
     ]
    },
    {
     "name": "stderr",
     "output_type": "stream",
     "text": [
      "C:\\Users\\Andrew Freiburger\\AppData\\Local\\Programs\\Python\\Python39\\lib\\site-packages\\cobra\\core\\reaction.py:761: DeprecationWarning: Please use reaction.flux instead.\n",
      "  warn(\"Please use reaction.flux instead.\", DeprecationWarning)\n",
      "C:\\Users\\Andrew Freiburger\\AppData\\Local\\Programs\\Python\\Python39\\lib\\site-packages\\cobra\\core\\reaction.py:779: DeprecationWarning: Please use reaction.reduced_cost instead.\n",
      "  warn(\"Please use reaction.reduced_cost instead.\", DeprecationWarning)\n",
      "C:\\Users\\Andrew Freiburger\\AppData\\Local\\Programs\\Python\\Python39\\lib\\site-packages\\cobra\\core\\metabolite.py:207: DeprecationWarning: Please use metabolite.shadow_price instead.\n",
      "  warn(\"Please use metabolite.shadow_price instead.\", DeprecationWarning)\n"
     ]
    },
    {
     "name": "stdout",
     "output_type": "stream",
     "text": [
      "remaining possible_contributions 6\n",
      "\n",
      "\n",
      "Standardize exchange reactions in 2c \n",
      " =======================================\n",
      "The exchange  metabolite ID's of the model 2c are completely standardized to ModelSEED.\n",
      "remaining possible_contributions 5\n",
      "MP score:\t\t\tEach member can possibly contribute the following to the community:\n",
      "\n",
      "SeepSRB1a \t 8\n",
      "2c \t 6\n"
     ]
    },
    {
     "name": "stderr",
     "output_type": "stream",
     "text": [
      "C:\\Users\\Andrew Freiburger\\AppData\\Local\\Programs\\Python\\Python39\\lib\\site-packages\\cobra\\core\\reaction.py:761: DeprecationWarning: Please use reaction.flux instead.\n",
      "  warn(\"Please use reaction.flux instead.\", DeprecationWarning)\n",
      "C:\\Users\\Andrew Freiburger\\AppData\\Local\\Programs\\Python\\Python39\\lib\\site-packages\\cobra\\core\\reaction.py:779: DeprecationWarning: Please use reaction.reduced_cost instead.\n",
      "  warn(\"Please use reaction.reduced_cost instead.\", DeprecationWarning)\n",
      "C:\\Users\\Andrew Freiburger\\AppData\\Local\\Programs\\Python\\Python39\\lib\\site-packages\\cobra\\core\\metabolite.py:207: DeprecationWarning: Please use metabolite.shadow_price instead.\n",
      "  warn(\"Please use metabolite.shadow_price instead.\", DeprecationWarning)\n"
     ]
    },
    {
     "data": {
      "text/plain": [
       "{'mro': {'SeepSRB1a---2c)': (0.9848484848484849, 65, 66),\n",
       "  '2c---SeepSRB1a)': (0.9701492537313433, 65, 67)},\n",
       " 'mip': 0,\n",
       " 'mp': {'SeepSRB1a': {'cpd00001_e0',\n",
       "   'cpd00011_e0',\n",
       "   'cpd00012_e0',\n",
       "   'cpd00013_e0',\n",
       "   'cpd00029_e0',\n",
       "   'cpd00067_e0',\n",
       "   'cpd00218_e0',\n",
       "   'cpd10515_e0'},\n",
       "  '2c': {'cpd00001_e0',\n",
       "   'cpd00011_e0',\n",
       "   'cpd00012_e0',\n",
       "   'cpd00029_e0',\n",
       "   'cpd00067_e0',\n",
       "   'cpd00218_e0'}},\n",
       " 'mu': None,\n",
       " 'sc': None,\n",
       " 'smetana': None}"
      ]
     },
     "execution_count": 6,
     "metadata": {},
     "output_type": "execute_result"
    }
   ],
   "source": [
    "%run ../../ModelSEED/ModelSEEDpy/modelseedpy/community/mssmetana.py\n",
    "comm = MSSmetana([SeepSRB1a, _2c], SeepSRB1a_2c_model)\n",
    "comm.all_scores()"
   ]
  },
  {
   "cell_type": "code",
   "execution_count": null,
   "id": "433bb7ca-29b6-4f9a-8b33-1a84cbba4f10",
   "metadata": {},
   "outputs": [],
   "source": []
  },
  {
   "cell_type": "code",
   "execution_count": null,
   "id": "f123d7b0-11ea-4ffe-89a6-871e05ffa758",
   "metadata": {},
   "outputs": [],
   "source": []
  }
 ],
 "metadata": {
  "kernelspec": {
   "display_name": "Python 3 (ipykernel)",
   "language": "python",
   "name": "python3"
  },
  "language_info": {
   "codemirror_mode": {
    "name": "ipython",
    "version": 3
   },
   "file_extension": ".py",
   "mimetype": "text/x-python",
   "name": "python",
   "nbconvert_exporter": "python",
   "pygments_lexer": "ipython3",
   "version": "3.9.12"
  }
 },
 "nbformat": 4,
 "nbformat_minor": 5
}
