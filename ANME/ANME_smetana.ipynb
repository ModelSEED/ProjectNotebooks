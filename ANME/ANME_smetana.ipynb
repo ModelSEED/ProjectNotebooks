{
 "cells": [
  {
   "cell_type": "code",
   "execution_count": 1,
   "id": "33bc0ab1-94f7-40fc-a4d1-9db24a70d279",
   "metadata": {},
   "outputs": [
    {
     "name": "stdout",
     "output_type": "stream",
     "text": [
      "cobrakbase 0.3.1\n"
     ]
    }
   ],
   "source": [
    "# define the environment path \n",
    "import os\n",
    "local_cobrakbase_path = os.path.join('C:', 'Users', 'Andrew Freiburger','Documents','Argonne','cobrakbase')\n",
    "os.environ[\"HOME\"] = local_cobrakbase_path\n",
    "\n",
    "# import the KBase\n",
    "import cobrakbase\n",
    "# with open(\"/Users/afreiburger/Documents/kbase_token.txt\") as token_file:\n",
    "with open(\"C:/Users/Andrew Freiburger/Documents/Argonne/kbase_token.txt\") as token_file:\n",
    "    kbase_api = cobrakbase.KBaseAPI(token_file.readline())\n",
    "\n",
    "# prevent excessive warnings\n",
    "from time import process_time\n",
    "import warnings\n",
    "warnings.filterwarnings(action='once')\n",
    "\n",
    "\n",
    "from pandas import set_option\n",
    "# set_option(\"display.max_rows\", None)\n",
    "set_option(\"display.max_columns\", None)"
   ]
  },
  {
   "cell_type": "code",
   "execution_count": null,
   "id": "efddc1e8-d0f6-47e2-a529-4c3c55fc692b",
   "metadata": {},
   "outputs": [],
   "source": [
    "srb_2a_model = kbase_api.get_from_ws(\"2a-srb\",108554)\n",
    "SeepSRB1a_2c_model = kbase_api.get_from_ws(\"2c-SeepSRB1a\",108554)\n",
    "srb_2c_model = kbase_api.get_from_ws(\"2c-srb\",108554)\n",
    "SeepSRB1a_2a_model = kbase_api.get_from_ws(\"2a-SeepSRB1a\",108554)"
   ]
  },
  {
   "cell_type": "code",
   "execution_count": null,
   "id": "7b545fe8-afbd-454f-b50e-f677d9aacb12",
   "metadata": {},
   "outputs": [],
   "source": [
    "%run ../../ModelSEED/ModelSEEDpy/modelseedpy/community/mssmetana.py"
   ]
  },
  {
   "cell_type": "code",
   "execution_count": null,
   "id": "433bb7ca-29b6-4f9a-8b33-1a84cbba4f10",
   "metadata": {},
   "outputs": [],
   "source": []
  },
  {
   "cell_type": "markdown",
   "id": "7eaf9467-e6c5-4206-ab04-d57e113e16df",
   "metadata": {},
   "source": [
    "# Load Filipe's pangenome JSON files"
   ]
  },
  {
   "cell_type": "code",
   "execution_count": 2,
   "id": "1b377698-6421-4fec-aa87-72914d1de0a5",
   "metadata": {},
   "outputs": [
    {
     "name": "stderr",
     "output_type": "stream",
     "text": [
      "C:\\Users\\Andrew Freiburger\\Documents\\Argonne\\ModelSEED\\ModelSEEDpy\\modelseedpy\\community\\commhelper.py:21: DeprecationWarning: invalid escape sequence \\_\n",
      "  return re.sub(\"(\\_\\w\\d)\", \"\", ID)\n",
      "C:\\Users\\Andrew Freiburger\\Documents\\Argonne\\ModelSEED\\ModelSEEDpy\\modelseedpy\\community\\commhelper.py:93: DeprecationWarning: invalid escape sequence \\d\n",
      "  if re.search('^(bio)(\\d+)$', rxn.id):\n"
     ]
    }
   ],
   "source": [
    "from cobra.io import load_json_model, write_sbml_model\n",
    "\n",
    "anme = load_json_model(\"model_pan_anme_genome_scale.json\")\n",
    "srb = load_json_model(\"model_pan_srb_genome_scale.json\")\n",
    "\n",
    "comm_media = {\n",
    "    'EX_cpd00067_e0': 100.0,\n",
    "    'EX_cpd00001_e0': 100.0,\n",
    "    'EX_cpd00971_e0': 100.0,\n",
    "    'EX_cpd00063_e0': 100.0,\n",
    "    'EX_cpd00058_e0': 100.0,\n",
    "    'EX_cpd00013_e0': 100.0,\n",
    "    'EX_cpd00244_e0': 100.0,\n",
    "    'EX_cpd10515_e0': 100.0,\n",
    "    'EX_cpd00205_e0': 100.0,\n",
    "    'EX_cpd00009_e0': 100.0,\n",
    "    'EX_cpd00034_e0': 100.0,\n",
    "    'EX_cpd10516_e0': 100.0,\n",
    "    'EX_cpd11574_e0': 100.0,\n",
    "    'EX_cpd00149_e0': 100.0,\n",
    "    'EX_cpd00254_e0': 100.0,\n",
    "    'EX_cpd00048_e0': 100.0,\n",
    "    'EX_cpd00030_e0': 100.0,\n",
    "    'EX_cpd00099_e0': 100.0,\n",
    "    'EX_cpd00528_e0': 100.0,\n",
    "    'EX_cpd01024_e0': 10.0,\n",
    "}\n",
    "\n",
    "\n",
    "%run ../../ModelSEED/ModelSEEDpy/modelseedpy/community/commhelper.py\n",
    "# comm_model = build_from_species_models([anme, srb], \"ANMEpan-SRBpan\")\n",
    "# write_sbml_model(comm_model, \"ANMEpan-SRBpan_community.json\")"
   ]
  },
  {
   "cell_type": "code",
   "execution_count": 3,
   "id": "b7fa28d9-a71f-4eb4-84eb-a0168a8fbe48",
   "metadata": {},
   "outputs": [
    {
     "name": "stderr",
     "output_type": "stream",
     "text": [
      "C:\\Users\\Andrew Freiburger\\Documents\\Argonne\\ModelSEED\\ModelSEEDpy\\modelseedpy\\community\\mscommscores.py:443: DeprecationWarning: invalid escape sequence \\[\n",
      "  cross_fed_exIDs = [re.sub(\"(root\\['|'\\])\", \"\", x) for x in interact_diff[\"dictionary_item_removed\"]]\n"
     ]
    },
    {
     "name": "stdout",
     "output_type": "stream",
     "text": [
      "The minimal flux media consists of 16 compounds and a 44.9669880286966 total influx, with a growth value of 0.027941522983861225\n",
      "The minimal flux media consists of 8 compounds and a 28.761531415428372 total influx, with a growth value of 0.17114891059187376\n",
      "The minimal media of all members:\n",
      "{'Pan_SRB': {'media': {'EX_cpd00067_e0': 21.769131346848596, 'EX_cpd00063_e0': 4.470757294469407e-05, 'EX_cpd00058_e0': 4.470757294469407e-05, 'EX_cpd00013_e0': 0.2240503875167147, 'EX_cpd00205_e0': 4.470757294469407e-05, 'EX_cpd00009_e0': 0.01846849809684431, 'EX_cpd00034_e0': 4.470757294469407e-05, 'EX_cpd10516_e0': 4.4707572944694086e-05, 'EX_cpd00048_e0': 1.9597444890557796, 'EX_cpd00254_e0': 4.470757294469407e-05, 'EX_cpd10515_e0': 0.00013412271883408227, 'EX_cpd00149_e0': 4.470757294469407e-05, 'EX_cpd00099_e0': 4.4707572944694086e-05, 'EX_cpd00011_e0': 0.9950568163028546, 'EX_cpdETCMe_e0': 20.000000000000483, 'EX_cpd00030_e0': 4.470757294469407e-05}}, 'Pan_ANME': {'media': {'EX_cpd00001_e0': 6.7994379976606645, 'EX_cpd00971_e0': 4.098939451716084e-15, 'EX_cpd00013_e0': 1.786437699027575, 'EX_cpd00009_e0': 0.13022257108775065, 'EX_cpd00048_e0': 0.04543314765227227, 'EX_cpd00324_e0': 1.074229857201594e-13, 'EX_cpd01024_e0': 10.0, 'EX_cpdAQDS_e0': 10.0}}}\n",
      "\n",
      "Examining the 1 model pairs\n",
      "cpd11416_c0 bio1: 0.5 cpd11416_c1 + 0.5 cpd11416_c2 --> cpd11416_c0;\tcpd11416_c0 SK_cpd11416_c0: cpd11416_c0 <=> ;\tMainProcess~~0\t['Pan_SRB', 'Pan_ANME']\n"
     ]
    }
   ],
   "source": [
    "%run ../../ModelSEED/ModelSEEDpy/modelseedpy/community/mscommscores.py\n",
    "%run ../../ModelSEED/ModelSEEDpy/modelseedpy/core/report.py\n",
    "\n",
    "df, mets = MSCommScores.kbase_output([anme, srb], kbase_obj=kbase_api, environments=[comm_media], anmne_comm=True)\n",
    "reportHTML = commscores_report(df, mets, \"anme_output.html\")"
   ]
  },
  {
   "cell_type": "code",
   "execution_count": 4,
   "id": "b5f1d7dd-09cb-4cf0-940b-a1dc1f0c9ee6",
   "metadata": {},
   "outputs": [],
   "source": [
    "df.to_csv(\"anme_output.csv\")"
   ]
  },
  {
   "cell_type": "markdown",
   "id": "d70220a9-9cf0-468c-a122-61fb39dd127d",
   "metadata": {},
   "source": [
    "# MScommunity"
   ]
  },
  {
   "cell_type": "code",
   "execution_count": 3,
   "id": "7bce379a-68f4-4a97-8cfb-af0670c1224a",
   "metadata": {},
   "outputs": [
    {
     "name": "stdout",
     "output_type": "stream",
     "text": [
      "cpd11416_c0 bio1: 0.5 cpd11416_c1 + 0.5 cpd11416_c2 --> cpd11416_c0;\tcpd11416_c0 SK_cpd11416_c0: cpd11416_c0 <=> ;\t<class 'optlang.glpk_interface.Model'> model loaded\n"
     ]
    },
    {
     "data": {
      "text/html": [
       "<div>\n",
       "<style scoped>\n",
       "    .dataframe tbody tr th:only-of-type {\n",
       "        vertical-align: middle;\n",
       "    }\n",
       "\n",
       "    .dataframe tbody tr th {\n",
       "        vertical-align: top;\n",
       "    }\n",
       "\n",
       "    .dataframe thead th {\n",
       "        text-align: right;\n",
       "    }\n",
       "</style>\n",
       "<table border=\"1\" class=\"dataframe\">\n",
       "  <thead>\n",
       "    <tr style=\"text-align: right;\">\n",
       "      <th></th>\n",
       "      <th>Environment</th>\n",
       "      <th>Pan_ANME</th>\n",
       "      <th>Pan_SRB</th>\n",
       "    </tr>\n",
       "    <tr>\n",
       "      <th>Metabolite ID</th>\n",
       "      <th></th>\n",
       "      <th></th>\n",
       "      <th></th>\n",
       "    </tr>\n",
       "  </thead>\n",
       "  <tbody>\n",
       "    <tr>\n",
       "      <th>cpd00001</th>\n",
       "      <td>-8.618382</td>\n",
       "      <td>-13.506613</td>\n",
       "      <td>22.124995</td>\n",
       "    </tr>\n",
       "    <tr>\n",
       "      <th>cpd00011</th>\n",
       "      <td>0.000000</td>\n",
       "      <td>-0.649240</td>\n",
       "      <td>0.649240</td>\n",
       "    </tr>\n",
       "    <tr>\n",
       "      <th>cpd00020</th>\n",
       "      <td>0.000000</td>\n",
       "      <td>4.546018</td>\n",
       "      <td>-4.546018</td>\n",
       "    </tr>\n",
       "    <tr>\n",
       "      <th>cpd00029</th>\n",
       "      <td>0.000000</td>\n",
       "      <td>0.128565</td>\n",
       "      <td>-0.128565</td>\n",
       "    </tr>\n",
       "    <tr>\n",
       "      <th>cpd00047</th>\n",
       "      <td>0.000000</td>\n",
       "      <td>0.086367</td>\n",
       "      <td>-0.086367</td>\n",
       "    </tr>\n",
       "    <tr>\n",
       "      <th>cpd00067</th>\n",
       "      <td>0.000000</td>\n",
       "      <td>50.160878</td>\n",
       "      <td>-50.160878</td>\n",
       "    </tr>\n",
       "    <tr>\n",
       "      <th>cpd00081</th>\n",
       "      <td>0.000000</td>\n",
       "      <td>7.194539</td>\n",
       "      <td>-7.194539</td>\n",
       "    </tr>\n",
       "    <tr>\n",
       "      <th>cpd00129</th>\n",
       "      <td>0.000000</td>\n",
       "      <td>0.160743</td>\n",
       "      <td>-0.160743</td>\n",
       "    </tr>\n",
       "    <tr>\n",
       "      <th>cpd00138</th>\n",
       "      <td>0.000000</td>\n",
       "      <td>-2.075474</td>\n",
       "      <td>2.075474</td>\n",
       "    </tr>\n",
       "    <tr>\n",
       "      <th>cpd00239</th>\n",
       "      <td>-3.433921</td>\n",
       "      <td>-3.940503</td>\n",
       "      <td>7.374423</td>\n",
       "    </tr>\n",
       "    <tr>\n",
       "      <th>cpd00276</th>\n",
       "      <td>0.000000</td>\n",
       "      <td>0.018571</td>\n",
       "      <td>-0.018571</td>\n",
       "    </tr>\n",
       "    <tr>\n",
       "      <th>cpd00324</th>\n",
       "      <td>0.000000</td>\n",
       "      <td>0.018084</td>\n",
       "      <td>-0.018084</td>\n",
       "    </tr>\n",
       "    <tr>\n",
       "      <th>cpd00363</th>\n",
       "      <td>0.000000</td>\n",
       "      <td>1.681986</td>\n",
       "      <td>-1.681986</td>\n",
       "    </tr>\n",
       "    <tr>\n",
       "      <th>cpd00794</th>\n",
       "      <td>0.000000</td>\n",
       "      <td>-0.001879</td>\n",
       "      <td>0.001879</td>\n",
       "    </tr>\n",
       "    <tr>\n",
       "      <th>cpdETCM</th>\n",
       "      <td>0.000000</td>\n",
       "      <td>-46.053393</td>\n",
       "      <td>46.053393</td>\n",
       "    </tr>\n",
       "    <tr>\n",
       "      <th>cpdETCMe</th>\n",
       "      <td>0.000000</td>\n",
       "      <td>46.053393</td>\n",
       "      <td>-46.053393</td>\n",
       "    </tr>\n",
       "  </tbody>\n",
       "</table>\n",
       "</div>"
      ],
      "text/plain": [
       "               Environment   Pan_ANME    Pan_SRB\n",
       "Metabolite ID                                   \n",
       "cpd00001         -8.618382 -13.506613  22.124995\n",
       "cpd00011          0.000000  -0.649240   0.649240\n",
       "cpd00020          0.000000   4.546018  -4.546018\n",
       "cpd00029          0.000000   0.128565  -0.128565\n",
       "cpd00047          0.000000   0.086367  -0.086367\n",
       "cpd00067          0.000000  50.160878 -50.160878\n",
       "cpd00081          0.000000   7.194539  -7.194539\n",
       "cpd00129          0.000000   0.160743  -0.160743\n",
       "cpd00138          0.000000  -2.075474   2.075474\n",
       "cpd00239         -3.433921  -3.940503   7.374423\n",
       "cpd00276          0.000000   0.018571  -0.018571\n",
       "cpd00324          0.000000   0.018084  -0.018084\n",
       "cpd00363          0.000000   1.681986  -1.681986\n",
       "cpd00794          0.000000  -0.001879   0.001879\n",
       "cpdETCM           0.000000 -46.053393  46.053393\n",
       "cpdETCMe          0.000000  46.053393 -46.053393"
      ]
     },
     "metadata": {},
     "output_type": "display_data"
    }
   ],
   "source": [
    "from cobra.io import load_json_model, write_sbml_model\n",
    "\n",
    "anme = load_json_model(\"model_pan_anme_genome_scale.json\")\n",
    "srb = load_json_model(\"model_pan_srb_genome_scale.json\")\n",
    "\n",
    "\n",
    "%run ../../ModelSEED/ModelSEEDpy/modelseedpy/community/mscommunity.py\n",
    "\n",
    "mscomm = MSCommunity(member_models=[anme,srb])\n",
    "fluxes_df, exchange_df = mscomm.interactions(media=comm_media, msdb_path=\"../../ModelSEED/ModelSEEDDatabase\")"
   ]
  },
  {
   "cell_type": "code",
   "execution_count": 4,
   "id": "7e64ce5f-fe31-487c-85f2-1a4a7136e2c3",
   "metadata": {},
   "outputs": [],
   "source": [
    "fluxes_df.to_csv(\"anme_syntrophy_fluxes.csv\")\n",
    "exchange_df.to_csv(\"anme_syntrophy_exchanges.csv\")"
   ]
  },
  {
   "cell_type": "code",
   "execution_count": null,
   "id": "f8e731b0-63f3-41fb-ae02-440d10a6f2b7",
   "metadata": {},
   "outputs": [],
   "source": []
  }
 ],
 "metadata": {
  "kernelspec": {
   "display_name": "Python 3 (ipykernel)",
   "language": "python",
   "name": "python3"
  },
  "language_info": {
   "codemirror_mode": {
    "name": "ipython",
    "version": 3
   },
   "file_extension": ".py",
   "mimetype": "text/x-python",
   "name": "python",
   "nbconvert_exporter": "python",
   "pygments_lexer": "ipython3",
   "version": "3.9.12"
  }
 },
 "nbformat": 4,
 "nbformat_minor": 5
}
