{
 "cells": [
  {
   "cell_type": "code",
   "execution_count": null,
   "id": "33bc0ab1-94f7-40fc-a4d1-9db24a70d279",
   "metadata": {},
   "outputs": [],
   "source": [
    "# define the environment path \n",
    "import os\n",
    "local_cobrakbase_path = os.path.join('C:', 'Users', 'Andrew Freiburger','Documents','Argonne','cobrakbase')\n",
    "os.environ[\"HOME\"] = local_cobrakbase_path\n",
    "\n",
    "# import the KBase\n",
    "import cobrakbase\n",
    "# with open(\"/Users/afreiburger/Documents/kbase_token.txt\") as token_file:\n",
    "with open(\"C:/Users/Andrew Freiburger/Documents/Argonne/kbase_token.txt\") as token_file:\n",
    "    kbase_api = cobrakbase.KBaseAPI(token_file.readline())\n",
    "\n",
    "# prevent excessive warnings\n",
    "from time import process_time\n",
    "import warnings\n",
    "warnings.filterwarnings(action='once')\n",
    "\n",
    "\n",
    "from pandas import set_option\n",
    "# set_option(\"display.max_rows\", None)\n",
    "set_option(\"display.max_columns\", None)"
   ]
  },
  {
   "cell_type": "code",
   "execution_count": null,
   "id": "efddc1e8-d0f6-47e2-a529-4c3c55fc692b",
   "metadata": {},
   "outputs": [],
   "source": [
    "srb_2a_model = kbase_api.get_from_ws(\"2a-srb\",108554)\n",
    "SeepSRB1a_2c_model = kbase_api.get_from_ws(\"2c-SeepSRB1a\",108554)\n",
    "srb_2c_model = kbase_api.get_from_ws(\"2c-srb\",108554)\n",
    "SeepSRB1a_2a_model = kbase_api.get_from_ws(\"2a-SeepSRB1a\",108554)"
   ]
  },
  {
   "cell_type": "code",
   "execution_count": null,
   "id": "7b545fe8-afbd-454f-b50e-f677d9aacb12",
   "metadata": {},
   "outputs": [],
   "source": [
    "%run ../../ModelSEED/ModelSEEDpy/modelseedpy/community/mssmetana.py"
   ]
  },
  {
   "cell_type": "code",
   "execution_count": null,
   "id": "433bb7ca-29b6-4f9a-8b33-1a84cbba4f10",
   "metadata": {},
   "outputs": [],
   "source": []
  },
  {
   "cell_type": "code",
   "execution_count": null,
   "id": "f123d7b0-11ea-4ffe-89a6-871e05ffa758",
   "metadata": {},
   "outputs": [],
   "source": []
  }
 ],
 "metadata": {
  "kernelspec": {
   "display_name": "Python 3 (ipykernel)",
   "language": "python",
   "name": "python3"
  },
  "language_info": {
   "codemirror_mode": {
    "name": "ipython",
    "version": 3
   },
   "file_extension": ".py",
   "mimetype": "text/x-python",
   "name": "python",
   "nbconvert_exporter": "python",
   "pygments_lexer": "ipython3",
   "version": "3.9.6"
  }
 },
 "nbformat": 4,
 "nbformat_minor": 5
}
