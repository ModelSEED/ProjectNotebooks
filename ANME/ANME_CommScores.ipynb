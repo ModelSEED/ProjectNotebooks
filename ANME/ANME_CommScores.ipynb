{
 "cells": [
  {
   "cell_type": "code",
   "execution_count": 1,
   "id": "33bc0ab1-94f7-40fc-a4d1-9db24a70d279",
   "metadata": {},
   "outputs": [
    {
     "name": "stdout",
     "output_type": "stream",
     "text": [
      "cobrakbase 0.3.1\n"
     ]
    }
   ],
   "source": [
    "# define the environment path \n",
    "import os\n",
    "local_cobrakbase_path = os.path.join('C:', 'Users', 'Andrew Freiburger','Documents','Argonne','cobrakbase')\n",
    "os.environ[\"HOME\"] = local_cobrakbase_path\n",
    "\n",
    "# import the KBase\n",
    "import cobrakbase\n",
    "# with open(\"/Users/afreiburger/Documents/kbase_token.txt\") as token_file:\n",
    "with open(\"D:/Users/Andrew Freiburger/Documents/Argonne/kbase_token.txt\") as token_file:\n",
    "    kbase_api = cobrakbase.KBaseAPI(token_file.readline())\n",
    "\n",
    "# prevent excessive warnings\n",
    "from time import process_time\n",
    "import warnings\n",
    "warnings.filterwarnings(action='once')\n",
    "\n",
    "\n",
    "from pandas import set_option\n",
    "# set_option(\"display.max_rows\", None)\n",
    "set_option(\"display.max_columns\", None)"
   ]
  },
  {
   "cell_type": "code",
   "execution_count": 2,
   "id": "1b377698-6421-4fec-aa87-72914d1de0a5",
   "metadata": {},
   "outputs": [
    {
     "name": "stderr",
     "output_type": "stream",
     "text": [
      "C:\\Users\\Andrew Freiburger\\Documents\\Argonne\\ModelSEED\\ModelSEEDpy\\modelseedpy\\community\\commhelper.py:21: DeprecationWarning: invalid escape sequence \\_\n",
      "  return re.sub(\"(\\_\\w\\d)\", \"\", ID)\n",
      "C:\\Users\\Andrew Freiburger\\Documents\\Argonne\\ModelSEED\\ModelSEEDpy\\modelseedpy\\community\\commhelper.py:93: DeprecationWarning: invalid escape sequence \\d\n",
      "  if re.search('^(bio)(\\d+)$', rxn.id):\n"
     ]
    }
   ],
   "source": [
    "from cobra.io import load_json_model, write_sbml_model\n",
    "\n",
    "anme = load_json_model(\"model_pan_anme_genome_scale.json\")\n",
    "srb = load_json_model(\"model_pan_srb_genome_scale.json\")\n",
    "\n",
    "comm_media = {\n",
    "    'EX_cpd00067_e0': 100.0,\n",
    "    'EX_cpd00001_e0': 100.0,\n",
    "    'EX_cpd00971_e0': 100.0,\n",
    "    'EX_cpd00063_e0': 100.0,\n",
    "    'EX_cpd00058_e0': 100.0,\n",
    "    'EX_cpd00013_e0': 100.0,\n",
    "    'EX_cpd00244_e0': 100.0,\n",
    "    'EX_cpd10515_e0': 100.0,\n",
    "    'EX_cpd00205_e0': 100.0,\n",
    "    'EX_cpd00009_e0': 100.0,\n",
    "    'EX_cpd00034_e0': 100.0,\n",
    "    'EX_cpd10516_e0': 100.0,\n",
    "    'EX_cpd11574_e0': 100.0,\n",
    "    'EX_cpd00149_e0': 100.0,\n",
    "    'EX_cpd00254_e0': 100.0,\n",
    "    'EX_cpd00048_e0': 100.0,\n",
    "    'EX_cpd00030_e0': 100.0,\n",
    "    'EX_cpd00099_e0': 100.0,\n",
    "    'EX_cpd00528_e0': 100.0,\n",
    "    'EX_cpd01024_e0': 10.0,\n",
    "}\n",
    "\n",
    "\n",
    "%run ../../ModelSEED/ModelSEEDpy/modelseedpy/community/commhelper.py\n",
    "# comm_model = build_from_species_models([anme, srb], \"ANMEpan-SRBpan\")\n",
    "# write_sbml_model(comm_model, \"ANMEpan-SRBpan_community.json\")"
   ]
  },
  {
   "cell_type": "code",
   "execution_count": null,
   "id": "efddc1e8-d0f6-47e2-a529-4c3c55fc692b",
   "metadata": {},
   "outputs": [],
   "source": [
    "srb_2a_model = kbase_api.get_from_ws(\"2a-srb\",108554)\n",
    "SeepSRB1a_2c_model = kbase_api.get_from_ws(\"2c-SeepSRB1a\",108554)\n",
    "srb_2c_model = kbase_api.get_from_ws(\"2c-srb\",108554)\n",
    "SeepSRB1a_2a_model = kbase_api.get_from_ws(\"2a-SeepSRB1a\",108554)"
   ]
  },
  {
   "cell_type": "code",
   "execution_count": null,
   "id": "7b545fe8-afbd-454f-b50e-f677d9aacb12",
   "metadata": {},
   "outputs": [],
   "source": [
    "%run ../../ModelSEED/ModelSEEDpy/modelseedpy/community/mssmetana.py"
   ]
  },
  {
   "cell_type": "code",
   "execution_count": null,
   "id": "433bb7ca-29b6-4f9a-8b33-1a84cbba4f10",
   "metadata": {},
   "outputs": [],
   "source": []
  },
  {
   "cell_type": "markdown",
   "id": "7eaf9467-e6c5-4206-ab04-d57e113e16df",
   "metadata": {},
   "source": [
    "# Load Filipe's pangenome JSON files"
   ]
  },
  {
   "cell_type": "code",
   "execution_count": 3,
   "id": "b7fa28d9-a71f-4eb4-84eb-a0168a8fbe48",
   "metadata": {},
   "outputs": [
    {
     "name": "stderr",
     "output_type": "stream",
     "text": [
      "C:\\Users\\Andrew Freiburger\\Documents\\Argonne\\ModelSEED\\ModelSEEDpy\\modelseedpy\\community\\mscommscores.py:443: DeprecationWarning: invalid escape sequence \\[\n",
      "  cross_fed_exIDs = [re.sub(\"(root\\['|'\\])\", \"\", x) for x in interact_diff[\"dictionary_item_removed\"]]\n"
     ]
    },
    {
     "name": "stdout",
     "output_type": "stream",
     "text": [
      "The minimal flux media consists of 16 compounds and a 44.9669880286966 total influx, with a growth value of 0.027941522983861225\n",
      "The minimal flux media consists of 8 compounds and a 28.761531415428372 total influx, with a growth value of 0.17114891059187376\n",
      "The minimal media of all members:\n",
      "{'Pan_SRB': {'media': {'EX_cpd00067_e0': 21.769131346848596, 'EX_cpd00063_e0': 4.470757294469407e-05, 'EX_cpd00058_e0': 4.470757294469407e-05, 'EX_cpd00013_e0': 0.2240503875167147, 'EX_cpd00205_e0': 4.470757294469407e-05, 'EX_cpd00009_e0': 0.01846849809684431, 'EX_cpd00034_e0': 4.470757294469407e-05, 'EX_cpd10516_e0': 4.4707572944694086e-05, 'EX_cpd00048_e0': 1.9597444890557796, 'EX_cpd00254_e0': 4.470757294469407e-05, 'EX_cpd10515_e0': 0.00013412271883408227, 'EX_cpd00149_e0': 4.470757294469407e-05, 'EX_cpd00099_e0': 4.4707572944694086e-05, 'EX_cpd00011_e0': 0.9950568163028546, 'EX_cpdETCMe_e0': 20.000000000000483, 'EX_cpd00030_e0': 4.470757294469407e-05}}, 'Pan_ANME': {'media': {'EX_cpd00001_e0': 6.7994379976606645, 'EX_cpd00971_e0': 4.098939451716084e-15, 'EX_cpd00013_e0': 1.786437699027575, 'EX_cpd00009_e0': 0.13022257108775065, 'EX_cpd00048_e0': 0.04543314765227227, 'EX_cpd00324_e0': 1.074229857201594e-13, 'EX_cpd01024_e0': 10.0, 'EX_cpdAQDS_e0': 10.0}}}\n",
      "\n",
      "Examining the 1 model pairs\n",
      "cpd11416_c0 bio1: 0.5 cpd11416_c1 + 0.5 cpd11416_c2 --> cpd11416_c0;\tcpd11416_c0 SK_cpd11416_c0: cpd11416_c0 <=> ;\tMainProcess~~0\t['Pan_SRB', 'Pan_ANME']\n"
     ]
    }
   ],
   "source": [
    "%run ../../ModelSEED/ModelSEEDpy/modelseedpy/community/mscommscores.py\n",
    "%run ../../ModelSEED/ModelSEEDpy/modelseedpy/core/report.py\n",
    "\n",
    "df, mets = MSCommScores.kbase_output([anme, srb], kbase_obj=kbase_api, environments=[comm_media], anmne_comm=True)\n",
    "reportHTML = commscores_report(df, mets, \"anme_output.html\")"
   ]
  },
  {
   "cell_type": "code",
   "execution_count": 4,
   "id": "b5f1d7dd-09cb-4cf0-940b-a1dc1f0c9ee6",
   "metadata": {},
   "outputs": [],
   "source": [
    "df.to_csv(\"anme_output.csv\")"
   ]
  },
  {
   "cell_type": "markdown",
   "id": "d70220a9-9cf0-468c-a122-61fb39dd127d",
   "metadata": {},
   "source": [
    "## MScommunity"
   ]
  },
  {
   "cell_type": "code",
   "execution_count": 3,
   "id": "7bce379a-68f4-4a97-8cfb-af0670c1224a",
   "metadata": {},
   "outputs": [
    {
     "name": "stdout",
     "output_type": "stream",
     "text": [
      "cpd11416_c0 bio1: 0.5 cpd11416_c1 + 0.5 cpd11416_c2 --> cpd11416_c0;\tcpd11416_c0 SK_cpd11416_c0: cpd11416_c0 <=> ;\t<class 'optlang.glpk_interface.Model'> model loaded\n"
     ]
    },
    {
     "data": {
      "text/html": [
       "<div>\n",
       "<style scoped>\n",
       "    .dataframe tbody tr th:only-of-type {\n",
       "        vertical-align: middle;\n",
       "    }\n",
       "\n",
       "    .dataframe tbody tr th {\n",
       "        vertical-align: top;\n",
       "    }\n",
       "\n",
       "    .dataframe thead th {\n",
       "        text-align: right;\n",
       "    }\n",
       "</style>\n",
       "<table border=\"1\" class=\"dataframe\">\n",
       "  <thead>\n",
       "    <tr style=\"text-align: right;\">\n",
       "      <th></th>\n",
       "      <th>Environment</th>\n",
       "      <th>Pan_ANME</th>\n",
       "      <th>Pan_SRB</th>\n",
       "    </tr>\n",
       "    <tr>\n",
       "      <th>Metabolite ID</th>\n",
       "      <th></th>\n",
       "      <th></th>\n",
       "      <th></th>\n",
       "    </tr>\n",
       "  </thead>\n",
       "  <tbody>\n",
       "    <tr>\n",
       "      <th>cpd00001</th>\n",
       "      <td>-8.618382</td>\n",
       "      <td>-13.506613</td>\n",
       "      <td>22.124995</td>\n",
       "    </tr>\n",
       "    <tr>\n",
       "      <th>cpd00011</th>\n",
       "      <td>0.000000</td>\n",
       "      <td>-0.649240</td>\n",
       "      <td>0.649240</td>\n",
       "    </tr>\n",
       "    <tr>\n",
       "      <th>cpd00020</th>\n",
       "      <td>0.000000</td>\n",
       "      <td>4.546018</td>\n",
       "      <td>-4.546018</td>\n",
       "    </tr>\n",
       "    <tr>\n",
       "      <th>cpd00029</th>\n",
       "      <td>0.000000</td>\n",
       "      <td>0.128565</td>\n",
       "      <td>-0.128565</td>\n",
       "    </tr>\n",
       "    <tr>\n",
       "      <th>cpd00047</th>\n",
       "      <td>0.000000</td>\n",
       "      <td>0.086367</td>\n",
       "      <td>-0.086367</td>\n",
       "    </tr>\n",
       "    <tr>\n",
       "      <th>cpd00067</th>\n",
       "      <td>0.000000</td>\n",
       "      <td>50.160878</td>\n",
       "      <td>-50.160878</td>\n",
       "    </tr>\n",
       "    <tr>\n",
       "      <th>cpd00081</th>\n",
       "      <td>0.000000</td>\n",
       "      <td>7.194539</td>\n",
       "      <td>-7.194539</td>\n",
       "    </tr>\n",
       "    <tr>\n",
       "      <th>cpd00129</th>\n",
       "      <td>0.000000</td>\n",
       "      <td>0.160743</td>\n",
       "      <td>-0.160743</td>\n",
       "    </tr>\n",
       "    <tr>\n",
       "      <th>cpd00138</th>\n",
       "      <td>0.000000</td>\n",
       "      <td>-2.075474</td>\n",
       "      <td>2.075474</td>\n",
       "    </tr>\n",
       "    <tr>\n",
       "      <th>cpd00239</th>\n",
       "      <td>-3.433921</td>\n",
       "      <td>-3.940503</td>\n",
       "      <td>7.374423</td>\n",
       "    </tr>\n",
       "    <tr>\n",
       "      <th>cpd00276</th>\n",
       "      <td>0.000000</td>\n",
       "      <td>0.018571</td>\n",
       "      <td>-0.018571</td>\n",
       "    </tr>\n",
       "    <tr>\n",
       "      <th>cpd00324</th>\n",
       "      <td>0.000000</td>\n",
       "      <td>0.018084</td>\n",
       "      <td>-0.018084</td>\n",
       "    </tr>\n",
       "    <tr>\n",
       "      <th>cpd00363</th>\n",
       "      <td>0.000000</td>\n",
       "      <td>1.681986</td>\n",
       "      <td>-1.681986</td>\n",
       "    </tr>\n",
       "    <tr>\n",
       "      <th>cpd00794</th>\n",
       "      <td>0.000000</td>\n",
       "      <td>-0.001879</td>\n",
       "      <td>0.001879</td>\n",
       "    </tr>\n",
       "    <tr>\n",
       "      <th>cpdETCM</th>\n",
       "      <td>0.000000</td>\n",
       "      <td>-46.053393</td>\n",
       "      <td>46.053393</td>\n",
       "    </tr>\n",
       "    <tr>\n",
       "      <th>cpdETCMe</th>\n",
       "      <td>0.000000</td>\n",
       "      <td>46.053393</td>\n",
       "      <td>-46.053393</td>\n",
       "    </tr>\n",
       "  </tbody>\n",
       "</table>\n",
       "</div>"
      ],
      "text/plain": [
       "               Environment   Pan_ANME    Pan_SRB\n",
       "Metabolite ID                                   \n",
       "cpd00001         -8.618382 -13.506613  22.124995\n",
       "cpd00011          0.000000  -0.649240   0.649240\n",
       "cpd00020          0.000000   4.546018  -4.546018\n",
       "cpd00029          0.000000   0.128565  -0.128565\n",
       "cpd00047          0.000000   0.086367  -0.086367\n",
       "cpd00067          0.000000  50.160878 -50.160878\n",
       "cpd00081          0.000000   7.194539  -7.194539\n",
       "cpd00129          0.000000   0.160743  -0.160743\n",
       "cpd00138          0.000000  -2.075474   2.075474\n",
       "cpd00239         -3.433921  -3.940503   7.374423\n",
       "cpd00276          0.000000   0.018571  -0.018571\n",
       "cpd00324          0.000000   0.018084  -0.018084\n",
       "cpd00363          0.000000   1.681986  -1.681986\n",
       "cpd00794          0.000000  -0.001879   0.001879\n",
       "cpdETCM           0.000000 -46.053393  46.053393\n",
       "cpdETCMe          0.000000  46.053393 -46.053393"
      ]
     },
     "metadata": {},
     "output_type": "display_data"
    }
   ],
   "source": [
    "from cobra.io import load_json_model, write_sbml_model\n",
    "\n",
    "anme = load_json_model(\"model_pan_anme_genome_scale.json\")\n",
    "srb = load_json_model(\"model_pan_srb_genome_scale.json\")\n",
    "\n",
    "\n",
    "%run ../../ModelSEED/ModelSEEDpy/modelseedpy/community/mscommunity.py\n",
    "\n",
    "mscomm = MSCommunity(member_models=[anme,srb])\n",
    "fluxes_df, exchange_df = mscomm.interactions(media=comm_media, msdb_path=\"../../ModelSEED/ModelSEEDDatabase\")"
   ]
  },
  {
   "cell_type": "code",
   "execution_count": 4,
   "id": "7e64ce5f-fe31-487c-85f2-1a4a7136e2c3",
   "metadata": {},
   "outputs": [],
   "source": [
    "fluxes_df.to_csv(\"anme_syntrophy_fluxes.csv\")\n",
    "exchange_df.to_csv(\"anme_syntrophy_exchanges.csv\")"
   ]
  },
  {
   "cell_type": "markdown",
   "id": "c76d2100-3bf4-4455-949f-f3676b0d4c73",
   "metadata": {},
   "source": [
    "# Examine all Clade model combinations"
   ]
  },
  {
   "cell_type": "code",
   "execution_count": 3,
   "id": "482e4bf9-20d1-45c8-b176-1aaa388b6a2f",
   "metadata": {},
   "outputs": [],
   "source": [
    "from cobra.io import load_json_model, write_sbml_model\n",
    "from glob import glob\n",
    "from itertools import chain\n",
    "\n",
    "ANMEs = [load_json_model(model_path) for model_path in glob(r\"C:\\Users\\Andrew Freiburger\\Documents\\Argonne\\ProjectNotebooks\\ANME\\clade_models_v2\\*\") if \"anme\" in model_path]\n",
    "SRBs = [load_json_model(model_path) for model_path in glob(r\"C:\\Users\\Andrew Freiburger\\Documents\\Argonne\\ProjectNotebooks\\ANME\\clade_models_v2\\*\") if \"srb\" in model_path]\n",
    "clade_models = list(chain(ANMEs, SRBs))"
   ]
  },
  {
   "cell_type": "code",
   "execution_count": 4,
   "id": "1fc1a380-cc1e-4826-b069-025c8a69d727",
   "metadata": {},
   "outputs": [
    {
     "data": {
      "text/html": [
       "<strong><em>Optimal</em> solution with objective value 0.000</strong><br><div>\n",
       "<style scoped>\n",
       "    .dataframe tbody tr th:only-of-type {\n",
       "        vertical-align: middle;\n",
       "    }\n",
       "\n",
       "    .dataframe tbody tr th {\n",
       "        vertical-align: top;\n",
       "    }\n",
       "\n",
       "    .dataframe thead th {\n",
       "        text-align: right;\n",
       "    }\n",
       "</style>\n",
       "<table border=\"1\" class=\"dataframe\">\n",
       "  <thead>\n",
       "    <tr style=\"text-align: right;\">\n",
       "      <th></th>\n",
       "      <th>fluxes</th>\n",
       "      <th>reduced_costs</th>\n",
       "    </tr>\n",
       "  </thead>\n",
       "  <tbody>\n",
       "    <tr>\n",
       "      <th>rxn00062_c0</th>\n",
       "      <td>0.0</td>\n",
       "      <td>0.0</td>\n",
       "    </tr>\n",
       "    <tr>\n",
       "      <th>rxn00364_c0</th>\n",
       "      <td>0.0</td>\n",
       "      <td>0.0</td>\n",
       "    </tr>\n",
       "    <tr>\n",
       "      <th>rxn02177_c0</th>\n",
       "      <td>0.0</td>\n",
       "      <td>0.0</td>\n",
       "    </tr>\n",
       "    <tr>\n",
       "      <th>rxn01673_c0</th>\n",
       "      <td>0.0</td>\n",
       "      <td>0.0</td>\n",
       "    </tr>\n",
       "    <tr>\n",
       "      <th>rxn02342_c0</th>\n",
       "      <td>0.0</td>\n",
       "      <td>0.0</td>\n",
       "    </tr>\n",
       "    <tr>\n",
       "      <th>...</th>\n",
       "      <td>...</td>\n",
       "      <td>...</td>\n",
       "    </tr>\n",
       "    <tr>\n",
       "      <th>rxn16238_c0</th>\n",
       "      <td>0.0</td>\n",
       "      <td>0.0</td>\n",
       "    </tr>\n",
       "    <tr>\n",
       "      <th>rxn25971_c0</th>\n",
       "      <td>0.0</td>\n",
       "      <td>0.0</td>\n",
       "    </tr>\n",
       "    <tr>\n",
       "      <th>rxn47122_c0</th>\n",
       "      <td>0.0</td>\n",
       "      <td>0.0</td>\n",
       "    </tr>\n",
       "    <tr>\n",
       "      <th>rxn41413_c0</th>\n",
       "      <td>0.0</td>\n",
       "      <td>0.0</td>\n",
       "    </tr>\n",
       "    <tr>\n",
       "      <th>bio2</th>\n",
       "      <td>0.0</td>\n",
       "      <td>0.0</td>\n",
       "    </tr>\n",
       "  </tbody>\n",
       "</table>\n",
       "<p>990 rows × 2 columns</p>\n",
       "</div>"
      ],
      "text/plain": [
       "<Solution 0.000 at 0x19ec1bec9a0>"
      ]
     },
     "execution_count": 4,
     "metadata": {},
     "output_type": "execute_result"
    }
   ],
   "source": [
    "ANMEs[0].optimize()"
   ]
  },
  {
   "cell_type": "code",
   "execution_count": null,
   "id": "bb06ec53-07eb-48ba-983d-82f651288d59",
   "metadata": {
    "scrolled": true,
    "tags": []
   },
   "outputs": [
    {
     "name": "stdout",
     "output_type": "stream",
     "text": [
      "[[<Model HotSeep at 0x22a6e2e4df0> <Model ANME1 at 0x22a0203fa30>]\n",
      " [<Model HotSeep at 0x22a6e2e4df0> <Model SRB1g at 0x22a6e90afd0>]\n",
      " [<Model HotSeep at 0x22a6e2e4df0> <Model ANME2c at 0x22a6d9200a0>]\n",
      " [<Model HotSeep at 0x22a6e2e4df0> <Model SRB1a at 0x22a6c861cd0>]\n",
      " [<Model HotSeep at 0x22a6e2e4df0> <Model SRB2 at 0x22a6fc20160>]\n",
      " [<Model HotSeep at 0x22a6e2e4df0> <Model ANME3 at 0x22a6d522190>]\n",
      " [<Model HotSeep at 0x22a6e2e4df0> <Model ANME2b at 0x22a6ba53fd0>]\n",
      " [<Model HotSeep at 0x22a6e2e4df0> <Model ANME2a at 0x22a6c8687f0>]\n",
      " [<Model ANME1 at 0x22a0203fa30> <Model SRB1g at 0x22a6e90afd0>]\n",
      " [<Model ANME1 at 0x22a0203fa30> <Model ANME2c at 0x22a6d9200a0>]\n",
      " [<Model ANME1 at 0x22a0203fa30> <Model SRB1a at 0x22a6c861cd0>]\n",
      " [<Model ANME1 at 0x22a0203fa30> <Model SRB2 at 0x22a6fc20160>]\n",
      " [<Model ANME1 at 0x22a0203fa30> <Model ANME3 at 0x22a6d522190>]\n",
      " [<Model ANME1 at 0x22a0203fa30> <Model ANME2b at 0x22a6ba53fd0>]\n",
      " [<Model ANME1 at 0x22a0203fa30> <Model ANME2a at 0x22a6c8687f0>]\n",
      " [<Model SRB1g at 0x22a6e90afd0> <Model ANME2c at 0x22a6d9200a0>]\n",
      " [<Model SRB1g at 0x22a6e90afd0> <Model SRB1a at 0x22a6c861cd0>]\n",
      " [<Model SRB1g at 0x22a6e90afd0> <Model SRB2 at 0x22a6fc20160>]\n",
      " [<Model SRB1g at 0x22a6e90afd0> <Model ANME3 at 0x22a6d522190>]\n",
      " [<Model SRB1g at 0x22a6e90afd0> <Model ANME2b at 0x22a6ba53fd0>]\n",
      " [<Model SRB1g at 0x22a6e90afd0> <Model ANME2a at 0x22a6c8687f0>]\n",
      " [<Model ANME2c at 0x22a6d9200a0> <Model SRB1a at 0x22a6c861cd0>]\n",
      " [<Model ANME2c at 0x22a6d9200a0> <Model SRB2 at 0x22a6fc20160>]\n",
      " [<Model ANME2c at 0x22a6d9200a0> <Model ANME3 at 0x22a6d522190>]\n",
      " [<Model ANME2c at 0x22a6d9200a0> <Model ANME2b at 0x22a6ba53fd0>]\n",
      " [<Model ANME2c at 0x22a6d9200a0> <Model ANME2a at 0x22a6c8687f0>]\n",
      " [<Model SRB1a at 0x22a6c861cd0> <Model SRB2 at 0x22a6fc20160>]\n",
      " [<Model SRB1a at 0x22a6c861cd0> <Model ANME3 at 0x22a6d522190>]\n",
      " [<Model SRB1a at 0x22a6c861cd0> <Model ANME2b at 0x22a6ba53fd0>]\n",
      " [<Model SRB1a at 0x22a6c861cd0> <Model ANME2a at 0x22a6c8687f0>]\n",
      " [<Model SRB2 at 0x22a6fc20160> <Model ANME3 at 0x22a6d522190>]\n",
      " [<Model SRB2 at 0x22a6fc20160> <Model ANME2b at 0x22a6ba53fd0>]\n",
      " [<Model SRB2 at 0x22a6fc20160> <Model ANME2a at 0x22a6c8687f0>]\n",
      " [<Model ANME3 at 0x22a6d522190> <Model ANME2b at 0x22a6ba53fd0>]\n",
      " [<Model ANME3 at 0x22a6d522190> <Model ANME2a at 0x22a6c8687f0>]\n",
      " [<Model ANME2b at 0x22a6ba53fd0> <Model ANME2a at 0x22a6c8687f0>]]\n",
      "The model HotSeep possesses an objective value of 0 in complete media, which is incompatible with minimal media computations.\n",
      "The model ANME1 possesses an objective value of 0 in complete media, which is incompatible with minimal media computations.\n",
      "The model SRB1g possesses an objective value of 0 in complete media, which is incompatible with minimal media computations.\n",
      "The model ANME2c possesses an objective value of 0 in complete media, which is incompatible with minimal media computations.\n",
      "The model SRB1a possesses an objective value of 0 in complete media, which is incompatible with minimal media computations.\n",
      "The model SRB2 possesses an objective value of 0 in complete media, which is incompatible with minimal media computations.\n",
      "The model ANME3 possesses an objective value of 0 in complete media, which is incompatible with minimal media computations.\n",
      "The model ANME2b possesses an objective value of 0 in complete media, which is incompatible with minimal media computations.\n",
      "The model ANME2a possesses an objective value of 0 in complete media, which is incompatible with minimal media computations.\n",
      "The minimal media of all members:\n",
      "{}\n",
      "\n",
      "Examining the 36 model pairs\n",
      "The model HotSeep possesses an objective value of 0 in complete media, which is incompatible with minimal media computations.\n",
      "The model ANME1 possesses an objective value of 0 in complete media, which is incompatible with minimal media computations.\n",
      "cpd11416_c0 bio1: 0.5 cpd11416_c1 + 0.5 cpd11416_c2 --> cpd11416_c0;\tcpd11416_c0 SK_cpd11416_c0: cpd11416_c0 <=> ;\tMainProcess~~0\t['HotSeep', 'ANME1']\n",
      "The HotSeep model input does not yield an operational model, and will therefore be gapfilled.\n",
      "The ANME1 model input does not yield an operational model, and will therefore be gapfilled.\n"
     ]
    }
   ],
   "source": [
    "%run ../../ModelSEED/ModelSEEDpy/modelseedpy/community/mscommscores.py\n",
    "%run ../../ModelSEED/ModelSEEDpy/modelseedpy/core/report.py\n",
    "\n",
    "df, mets = MSCommScores.kbase_output(clade_models, kbase_obj=kbase_api, environments=[comm_media])\n",
    "reportHTML = commscores_report(df, mets, \"anme_clades_output.html\")"
   ]
  },
  {
   "cell_type": "code",
   "execution_count": 25,
   "id": "debf0b37-c3dc-4402-bb15-39acc24598fa",
   "metadata": {
    "collapsed": true,
    "jupyter": {
     "outputs_hidden": true,
     "source_hidden": true
    },
    "tags": []
   },
   "outputs": [
    {
     "name": "stdout",
     "output_type": "stream",
     "text": [
      " [<Model ANME1 at 0x22a0203fa30> <Model SRB1g at 0x22a6e90afd0>]\n",
      " [<Model ANME1 at 0x22a0203fa30> <Model SRB1a at 0x22a6c861cd0>]\n",
      " [<Model ANME1 at 0x22a0203fa30> <Model SRB2 at 0x22a6fc20160>]\n",
      " [<Model SRB1g at 0x22a6e90afd0> <Model ANME2c at 0x22a6d9200a0>]\n",
      " [<Model SRB1g at 0x22a6e90afd0> <Model ANME3 at 0x22a6d522190>]\n",
      " [<Model SRB1g at 0x22a6e90afd0> <Model ANME2b at 0x22a6ba53fd0>]\n",
      " [<Model SRB1g at 0x22a6e90afd0> <Model ANME2a at 0x22a6c8687f0>]\n",
      " [<Model ANME2c at 0x22a6d9200a0> <Model SRB1a at 0x22a6c861cd0>]\n",
      " [<Model ANME2c at 0x22a6d9200a0> <Model SRB2 at 0x22a6fc20160>]\n",
      " [<Model SRB1a at 0x22a6c861cd0> <Model ANME3 at 0x22a6d522190>]\n",
      " [<Model SRB1a at 0x22a6c861cd0> <Model ANME2b at 0x22a6ba53fd0>]\n",
      " [<Model SRB1a at 0x22a6c861cd0> <Model ANME2a at 0x22a6c8687f0>]\n",
      " [<Model SRB2 at 0x22a6fc20160> <Model ANME3 at 0x22a6d522190>]\n",
      " [<Model SRB2 at 0x22a6fc20160> <Model ANME2b at 0x22a6ba53fd0>]\n",
      " [<Model SRB2 at 0x22a6fc20160> <Model ANME2a at 0x22a6c8687f0>]\n",
      "15\n",
      "36\n"
     ]
    }
   ],
   "source": [
    "pairs = \"\"\"[[<Model HotSeep at 0x22a6e2e4df0> <Model ANME1 at 0x22a0203fa30>]\n",
    " [<Model HotSeep at 0x22a6e2e4df0> <Model SRB1g at 0x22a6e90afd0>]\n",
    " [<Model HotSeep at 0x22a6e2e4df0> <Model ANME2c at 0x22a6d9200a0>]\n",
    " [<Model HotSeep at 0x22a6e2e4df0> <Model SRB1a at 0x22a6c861cd0>]\n",
    " [<Model HotSeep at 0x22a6e2e4df0> <Model SRB2 at 0x22a6fc20160>]\n",
    " [<Model HotSeep at 0x22a6e2e4df0> <Model ANME3 at 0x22a6d522190>]\n",
    " [<Model HotSeep at 0x22a6e2e4df0> <Model ANME2b at 0x22a6ba53fd0>]\n",
    " [<Model HotSeep at 0x22a6e2e4df0> <Model ANME2a at 0x22a6c8687f0>]\n",
    " [<Model ANME1 at 0x22a0203fa30> <Model SRB1g at 0x22a6e90afd0>]\n",
    " [<Model ANME1 at 0x22a0203fa30> <Model ANME2c at 0x22a6d9200a0>]\n",
    " [<Model ANME1 at 0x22a0203fa30> <Model SRB1a at 0x22a6c861cd0>]\n",
    " [<Model ANME1 at 0x22a0203fa30> <Model SRB2 at 0x22a6fc20160>]\n",
    " [<Model ANME1 at 0x22a0203fa30> <Model ANME3 at 0x22a6d522190>]\n",
    " [<Model ANME1 at 0x22a0203fa30> <Model ANME2b at 0x22a6ba53fd0>]\n",
    " [<Model ANME1 at 0x22a0203fa30> <Model ANME2a at 0x22a6c8687f0>]\n",
    " [<Model SRB1g at 0x22a6e90afd0> <Model ANME2c at 0x22a6d9200a0>]\n",
    " [<Model SRB1g at 0x22a6e90afd0> <Model SRB1a at 0x22a6c861cd0>]\n",
    " [<Model SRB1g at 0x22a6e90afd0> <Model SRB2 at 0x22a6fc20160>]\n",
    " [<Model SRB1g at 0x22a6e90afd0> <Model ANME3 at 0x22a6d522190>]\n",
    " [<Model SRB1g at 0x22a6e90afd0> <Model ANME2b at 0x22a6ba53fd0>]\n",
    " [<Model SRB1g at 0x22a6e90afd0> <Model ANME2a at 0x22a6c8687f0>]\n",
    " [<Model ANME2c at 0x22a6d9200a0> <Model SRB1a at 0x22a6c861cd0>]\n",
    " [<Model ANME2c at 0x22a6d9200a0> <Model SRB2 at 0x22a6fc20160>]\n",
    " [<Model ANME2c at 0x22a6d9200a0> <Model ANME3 at 0x22a6d522190>]\n",
    " [<Model ANME2c at 0x22a6d9200a0> <Model ANME2b at 0x22a6ba53fd0>]\n",
    " [<Model ANME2c at 0x22a6d9200a0> <Model ANME2a at 0x22a6c8687f0>]\n",
    " [<Model SRB1a at 0x22a6c861cd0> <Model SRB2 at 0x22a6fc20160>]\n",
    " [<Model SRB1a at 0x22a6c861cd0> <Model ANME3 at 0x22a6d522190>]\n",
    " [<Model SRB1a at 0x22a6c861cd0> <Model ANME2b at 0x22a6ba53fd0>]\n",
    " [<Model SRB1a at 0x22a6c861cd0> <Model ANME2a at 0x22a6c8687f0>]\n",
    " [<Model SRB2 at 0x22a6fc20160> <Model ANME3 at 0x22a6d522190>]\n",
    " [<Model SRB2 at 0x22a6fc20160> <Model ANME2b at 0x22a6ba53fd0>]\n",
    " [<Model SRB2 at 0x22a6fc20160> <Model ANME2a at 0x22a6c8687f0>]\n",
    " [<Model ANME3 at 0x22a6d522190> <Model ANME2b at 0x22a6ba53fd0>]\n",
    " [<Model ANME3 at 0x22a6d522190> <Model ANME2a at 0x22a6c8687f0>]\n",
    " [<Model ANME2b at 0x22a6ba53fd0> <Model ANME2a at 0x22a6c8687f0>]]\"\"\"\n",
    "\n",
    "\n",
    "import re\n",
    "\n",
    "double_lines = 0\n",
    "for line in pairs.splitlines():\n",
    "    if \"ANME\" not in line or \"SRB\" not in line: continue\n",
    "    print(line)\n",
    "    if len(re.search(\"ANME\", line).group()) > 1 or len(re.search(\"SRB\", line).group()) > 1:  double_lines += 1\n",
    "    \n",
    "print(double_lines)\n",
    "print(len(pairs.splitlines()))"
   ]
  },
  {
   "cell_type": "code",
   "execution_count": 4,
   "id": "f477c07b-1708-44c1-96a8-95cb5a4c7cf1",
   "metadata": {
    "scrolled": true,
    "tags": []
   },
   "outputs": [
    {
     "name": "stderr",
     "output_type": "stream",
     "text": [
      "C:\\Users\\Andrew Freiburger\\Documents\\Argonne\\ModelSEED\\ModelSEEDpy\\modelseedpy\\community\\mscommscores.py:460: DeprecationWarning: invalid escape sequence \\[\n",
      "  cross_fed_exIDs = [re.sub(\"(root\\['|'\\])\", \"\", x) for x in interact_diff[\"dictionary_item_removed\"]]\n"
     ]
    },
    {
     "name": "stdout",
     "output_type": "stream",
     "text": [
      "The minimal flux media consists of 7 compounds and a 29.238642649361225 total influx, with a growth value of 0.15148737488555264\n",
      "The minimal flux media consists of 6 compounds and a 31.301116295142016 total influx, with a growth value of 0.12769627077328832\n",
      "The minimal flux media consists of 6 compounds and a 28.227950410549557 total influx, with a growth value of 0.2909431793329557\n",
      "The minimal flux media consists of 6 compounds and a 38.155260682073916 total influx, with a growth value of 0.18137632132761436\n",
      "The minimal flux media consists of 6 compounds and a 39.737470074484136 total influx, with a growth value of 0.1469844579915289\n",
      "The minimal flux media consists of 16 compounds and a 44.96597696577984 total influx, with a growth value of 0.012259540072644952\n",
      "The minimal flux media consists of 17 compounds and a 44.905390422655515 total influx, with a growth value of 0.02577833022206737\n",
      "The minimal flux media consists of 17 compounds and a 41.30523260530736 total influx, with a growth value of 0.03315321076505253\n",
      "The minimal flux media consists of 16 compounds and a 44.83143704168708 total influx, with a growth value of 0.022133439784308206\n",
      "The minimal media of all members:\n",
      "{'ANME1': {'media': {'EX_cpd00001_e0': 7.669372103624122, 'EX_cpd00013_e0': 1.4137941034766424, 'EX_cpd00009_e0': 0.11526264103411692, 'EX_cpd00048_e0': 0.04021380122628101, 'EX_cpd00324_e0': 6.190440245054606e-14, 'EX_cpd01024_e0': 10.0, 'EX_cpdAQDS_e0': 9.999999999999998}}, 'ANME2a': {'media': {'EX_cpd00013_e0': 1.364273320462022, 'EX_cpd00009_e0': 0.929440880676889, 'EX_cpd00001_e0': 8.939160110664334, 'EX_cpd01024_e0': 9.99999999999998, 'EX_cpdAQDS_e0': 9.999999999999977, 'EX_cpd00048_e0': 0.06824198333881512}}, 'ANME2b': {'media': {'EX_cpd00001_e0': 5.135796548208602, 'EX_cpd00013_e0': 2.7153005436817277, 'EX_cpd00009_e0': 0.22137078595562779, 'EX_cpd00048_e0': 0.15548253270360024, 'EX_cpd01024_e0': 10.0, 'EX_cpdAQDS_e0': 10.0}}, 'ANME2c': {'media': {'EX_cpd00013_e0': 1.6927402286625808, 'EX_cpd00009_e0': 0.13800433094221523, 'EX_cpd00048_e0': 0.09692906318360749, 'EX_cpd00001_e0': 6.965626973407356, 'EX_cpd01024_e0': 10.000000000000082, 'EX_cpdAQDS_e0': 19.261960085878076}}, 'ANME3': {'media': {'EX_cpd00013_e0': 1.3717694967526484, 'EX_cpd00009_e0': 1.8505977852882467, 'EX_cpd00001_e0': 6.872493058136836, 'EX_cpd01024_e0': 9.999999999999943, 'EX_cpdAQDS_e0': 19.603591276289755, 'EX_cpd00048_e0': 0.03901845801670889}}, 'HotSeep': {'media': {'EX_cpd00067_e0': 22.130132457764155, 'EX_cpd00058_e0': 1.96157626190488e-05, 'EX_cpd00205_e0': 1.96157626190488e-05, 'EX_cpd00009_e0': 0.008103183660770903, 'EX_cpd00048_e0': 2.2531511582017933, 'EX_cpd10515_e0': 5.8847287857146405e-05, 'EX_cpd00099_e0': 1.9615762619048804e-05, 'EX_cpd00013_e0': 0.09845780751199242, 'EX_cpd10516_e0': 1.9615762619048804e-05, 'EX_cpd00011_e0': 0.47589696948593796, 'EX_cpdETCMe_e0': 20.000000000003777, 'EX_cpd00063_e0': 1.96157626190488e-05, 'EX_cpd00034_e0': 1.96157626190488e-05, 'EX_cpd00254_e0': 1.9615762619048797e-05, 'EX_cpd00149_e0': 1.9615762619048804e-05, 'EX_cpd00030_e0': 1.96157626190488e-05}}, 'SRB1a': {'media': {'EX_cpd00067_e0': 21.659562212540763, 'EX_cpd00063_e0': 4.124637656512445e-05, 'EX_cpd00058_e0': 4.124637656512446e-05, 'EX_cpd00013_e0': 0.2063747558244758, 'EX_cpd00205_e0': 4.124637656512445e-05, 'EX_cpd00009_e0': 0.0170386933783651, 'EX_cpd00034_e0': 4.124637656512445e-05, 'EX_cpd10515_e0': 0.00012373912969537338, 'EX_cpd00099_e0': 4.1246376565124465e-05, 'EX_cpd00528_e0': 0.00016498550626049786, 'EX_cpd10516_e0': 4.124637656512446e-05, 'EX_cpd00011_e0': 1.0584422335270858, 'EX_cpdETCMe_e0': 20.0000000000014, 'EX_cpd00254_e0': 4.1246376565124465e-05, 'EX_cpd00149_e0': 4.124637656512445e-05, 'EX_cpd00030_e0': 4.124637656512445e-05, 'EX_cpd00048_e0': 1.9633125853583804}}, 'SRB1g': {'media': {'EX_cpd00067_e0': 12.51567079272816, 'EX_cpd00058_e0': 5.3046485314543435e-05, 'EX_cpd00013_e0': 0.24705225893932267, 'EX_cpd00205_e0': 5.304648531454344e-05, 'EX_cpd00009_e0': 0.021913265439130258, 'EX_cpd00034_e0': 5.304648531454344e-05, 'EX_cpd10516_e0': 5.3046485314543435e-05, 'EX_cpd00254_e0': 5.3046485314543435e-05, 'EX_cpd00048_e0': 0.014581474260194046, 'EX_cpd10515_e0': 0.0001591394559436303, 'EX_cpd00149_e0': 5.3046485314543435e-05, 'EX_cpd00099_e0': 5.3046485314543435e-05, 'EX_cpd00528_e0': 0.010079955412910423, 'EX_cpd00011_e0': 8.495298300702888, 'EX_cpdETCMe_e0': 20.00000000000098, 'EX_cpd00063_e0': 5.304648531454345e-05, 'EX_cpd00030_e0': 5.304648531454345e-05}}, 'SRB2': {'media': {'EX_cpd00067_e0': 21.564253514353165, 'EX_cpd00063_e0': 3.541440365456956e-05, 'EX_cpd00058_e0': 3.541440365456955e-05, 'EX_cpd00013_e0': 0.17775625683744078, 'EX_cpd00205_e0': 3.541440365456956e-05, 'EX_cpd00009_e0': 0.014629531495810833, 'EX_cpd00034_e0': 3.541440365456955e-05, 'EX_cpd00254_e0': 3.541440365456955e-05, 'EX_cpd00048_e0': 2.0007335605393344, 'EX_cpd10515_e0': 0.00010624321096370864, 'EX_cpd00149_e0': 3.541440365456955e-05, 'EX_cpd00099_e0': 3.541440365456955e-05, 'EX_cpd10516_e0': 3.541440365456955e-05, 'EX_cpd00011_e0': 1.073639205617031, 'EX_cpdETCMe_e0': 20.000000000000444, 'EX_cpd00030_e0': 3.541440365456956e-05}}}\n",
      "\n",
      "Examining the 20 model pairs\n",
      "cpd11416_c0 bio1: 0.5 cpd11416_c1 + 0.5 cpd11416_c2 --> cpd11416_c0;\tcpd11416_c0 SK_cpd11416_c0: cpd11416_c0 <=> ;\tMainProcess~~0\t['ANME2a', 'SRB2']\n",
      "cpd11416_c0 bio1: 0.5 cpd11416_c1 + 0.5 cpd11416_c2 --> cpd11416_c0;\tcpd11416_c0 SK_cpd11416_c0: cpd11416_c0 <=> ;\tMainProcess~~1\t['ANME2a', 'SRB1a']\n",
      "cpd11416_c0 bio1: 0.5 cpd11416_c1 + 0.5 cpd11416_c2 --> cpd11416_c0;\tcpd11416_c0 SK_cpd11416_c0: cpd11416_c0 <=> ;\tMainProcess~~2\t['ANME2a', 'SRB1g']\n",
      "cpd11416_c0 bio1: 0.5 cpd11416_c1 + 0.5 cpd11416_c2 --> cpd11416_c0;\tcpd11416_c0 SK_cpd11416_c0: cpd11416_c0 <=> ;\tMainProcess~~3\t['ANME2a', 'HotSeep']\n",
      "cpd11416_c0 bio1: 0.5 cpd11416_c1 + 0.5 cpd11416_c2 --> cpd11416_c0;\tcpd11416_c0 SK_cpd11416_c0: cpd11416_c0 <=> ;\tMainProcess~~4\t['ANME2b', 'SRB1g']\n",
      "cpd11416_c0 bio1: 0.5 cpd11416_c1 + 0.5 cpd11416_c2 --> cpd11416_c0;\tcpd11416_c0 SK_cpd11416_c0: cpd11416_c0 <=> ;\tMainProcess~~5\t['ANME2b', 'HotSeep']\n",
      "cpd11416_c0 bio1: 0.5 cpd11416_c1 + 0.5 cpd11416_c2 --> cpd11416_c0;\tcpd11416_c0 SK_cpd11416_c0: cpd11416_c0 <=> ;\tMainProcess~~6\t['ANME2b', 'SRB2']\n",
      "cpd11416_c0 bio1: 0.5 cpd11416_c1 + 0.5 cpd11416_c2 --> cpd11416_c0;\tcpd11416_c0 SK_cpd11416_c0: cpd11416_c0 <=> ;\tMainProcess~~7\t['ANME2b', 'SRB1a']\n",
      "cpd11416_c0 bio1: 0.5 cpd11416_c1 + 0.5 cpd11416_c2 --> cpd11416_c0;\tcpd11416_c0 SK_cpd11416_c0: cpd11416_c0 <=> ;\tMainProcess~~8\t['ANME2c', 'SRB1g']\n",
      "cpd11416_c0 bio1: 0.5 cpd11416_c1 + 0.5 cpd11416_c2 --> cpd11416_c0;\tcpd11416_c0 SK_cpd11416_c0: cpd11416_c0 <=> ;\tMainProcess~~9\t['ANME2c', 'HotSeep']\n",
      "cpd11416_c0 bio1: 0.5 cpd11416_c1 + 0.5 cpd11416_c2 --> cpd11416_c0;\tcpd11416_c0 SK_cpd11416_c0: cpd11416_c0 <=> ;\tMainProcess~~10\t['ANME2c', 'SRB2']\n",
      "cpd11416_c0 bio1: 0.5 cpd11416_c1 + 0.5 cpd11416_c2 --> cpd11416_c0;\tcpd11416_c0 SK_cpd11416_c0: cpd11416_c0 <=> ;\tMainProcess~~11\t['ANME2c', 'SRB1a']\n",
      "cpd11416_c0 bio1: 0.5 cpd11416_c1 + 0.5 cpd11416_c2 --> cpd11416_c0;\tcpd11416_c0 SK_cpd11416_c0: cpd11416_c0 <=> ;\tMainProcess~~12\t['ANME3', 'SRB1g']\n",
      "cpd11416_c0 bio1: 0.5 cpd11416_c1 + 0.5 cpd11416_c2 --> cpd11416_c0;\tcpd11416_c0 SK_cpd11416_c0: cpd11416_c0 <=> ;\tMainProcess~~13\t['ANME3', 'HotSeep']\n",
      "cpd11416_c0 bio1: 0.5 cpd11416_c1 + 0.5 cpd11416_c2 --> cpd11416_c0;\tcpd11416_c0 SK_cpd11416_c0: cpd11416_c0 <=> ;\tMainProcess~~14\t['ANME3', 'SRB2']\n",
      "cpd11416_c0 bio1: 0.5 cpd11416_c1 + 0.5 cpd11416_c2 --> cpd11416_c0;\tcpd11416_c0 SK_cpd11416_c0: cpd11416_c0 <=> ;\tMainProcess~~15\t['ANME3', 'SRB1a']\n",
      "cpd11416_c0 bio1: 0.5 cpd11416_c1 + 0.5 cpd11416_c2 --> cpd11416_c0;\tcpd11416_c0 SK_cpd11416_c0: cpd11416_c0 <=> ;\tMainProcess~~16\t['ANME1', 'SRB1a']\n",
      "cpd11416_c0 bio1: 0.5 cpd11416_c1 + 0.5 cpd11416_c2 --> cpd11416_c0;\tcpd11416_c0 SK_cpd11416_c0: cpd11416_c0 <=> ;\tMainProcess~~17\t['ANME1', 'SRB1g']\n",
      "cpd11416_c0 bio1: 0.5 cpd11416_c1 + 0.5 cpd11416_c2 --> cpd11416_c0;\tcpd11416_c0 SK_cpd11416_c0: cpd11416_c0 <=> ;\tMainProcess~~18\t['ANME1', 'HotSeep']\n",
      "cpd11416_c0 bio1: 0.5 cpd11416_c1 + 0.5 cpd11416_c2 --> cpd11416_c0;\tcpd11416_c0 SK_cpd11416_c0: cpd11416_c0 <=> ;\tMainProcess~~19\t['ANME1', 'SRB2']\n"
     ]
    }
   ],
   "source": [
    "%run ../../ModelSEED/ModelSEEDpy/modelseedpy/community/mscommscores.py\n",
    "%run ../../ModelSEED/ModelSEEDpy/modelseedpy/core/report.py\n",
    "\n",
    "df, mets = MSCommScores.kbase_output([ANMEs, SRBs], kbase_obj=kbase_api, environments=[comm_media], skip_bad_media=True, anme_comm=True)\n",
    "reportHTML = commscores_report(df, mets, \"anme_clades_output.html\")"
   ]
  },
  {
   "cell_type": "code",
   "execution_count": 5,
   "id": "94d39056-eb8f-4724-aa8f-99fd04d3ec48",
   "metadata": {},
   "outputs": [],
   "source": [
    "df.to_csv(\"anme_clades_output.csv\")"
   ]
  },
  {
   "cell_type": "code",
   "execution_count": null,
   "id": "f8e731b0-63f3-41fb-ae02-440d10a6f2b7",
   "metadata": {},
   "outputs": [],
   "source": [
    "%run ../../ModelSEED/ModelSEEDpy/modelseedpy/community/mscommunity.py\n",
    "\n",
    "mscomm = MSCommunity(member_models=[anme,srb])\n",
    "fluxes_df, exchange_df = mscomm.interactions(media=comm_media, msdb_path=\"../../ModelSEED/ModelSEEDDatabase\")"
   ]
  }
 ],
 "metadata": {
  "kernelspec": {
   "display_name": "Python 3 (ipykernel)",
   "language": "python",
   "name": "python3"
  },
  "language_info": {
   "codemirror_mode": {
    "name": "ipython",
    "version": 3
   },
   "file_extension": ".py",
   "mimetype": "text/x-python",
   "name": "python",
   "nbconvert_exporter": "python",
   "pygments_lexer": "ipython3",
   "version": "3.9.12"
  }
 },
 "nbformat": 4,
 "nbformat_minor": 5
}
