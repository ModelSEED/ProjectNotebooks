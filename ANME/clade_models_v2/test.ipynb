{
 "cells": [
  {
   "cell_type": "code",
   "execution_count": 1,
   "id": "d09485a2-9e1c-4f9a-a721-dfc180dc10f4",
   "metadata": {},
   "outputs": [],
   "source": [
    "import os\n",
    "import cobra"
   ]
  },
  {
   "cell_type": "code",
   "execution_count": 5,
   "id": "03da5cfa-0def-4ccc-8769-5a2e2db3d4f7",
   "metadata": {},
   "outputs": [
    {
     "name": "stdout",
     "output_type": "stream",
     "text": [
      "ANME2c 0.18137632132761503\n",
      "SRB2 0.022133439784306017\n",
      "ANME2b 0.2909431793329518\n",
      "ANME1 0.1514873748855527\n",
      "SRB1a 0.025778330222064893\n",
      "ANME2a 0.12769627077329232\n",
      "ANME3 0.14698445799153226\n",
      "SRB1g 0.033153210765045814\n",
      "HotSeep 0.012259540072641338\n"
     ]
    }
   ],
   "source": [
    "for fname in os.listdir('.'):\n",
    "    if fname.endswith('.json'):\n",
    "        model = cobra.io.load_json_model(fname)\n",
    "        model.objective = 'bio1'\n",
    "        sol = cobra.flux_analysis.pfba(model)\n",
    "        print(model.id, sol.fluxes['bio1'])"
   ]
  },
  {
   "cell_type": "code",
   "execution_count": null,
   "id": "ce053bd4-6047-4d05-b396-2f9e3179a6a2",
   "metadata": {},
   "outputs": [],
   "source": []
  }
 ],
 "metadata": {
  "kernelspec": {
   "display_name": "Python 3 (ipykernel)",
   "language": "python",
   "name": "python3"
  },
  "language_info": {
   "codemirror_mode": {
    "name": "ipython",
    "version": 3
   },
   "file_extension": ".py",
   "mimetype": "text/x-python",
   "name": "python",
   "nbconvert_exporter": "python",
   "pygments_lexer": "ipython3",
   "version": "3.8.5"
  }
 },
 "nbformat": 4,
 "nbformat_minor": 5
}
