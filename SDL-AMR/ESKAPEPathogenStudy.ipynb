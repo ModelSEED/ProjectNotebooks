{
 "cells": [
  {
   "cell_type": "code",
   "execution_count": 1,
   "metadata": {},
   "outputs": [
    {
     "name": "stdout",
     "output_type": "stream",
     "text": [
      "cobrakbase 0.2.7\n"
     ]
    }
   ],
   "source": [
    "import sys\n",
    "import cobra\n",
    "from cobra.flux_analysis import (\n",
    "    single_gene_deletion, single_reaction_deletion, double_gene_deletion,\n",
    "    double_reaction_deletion)\n",
    "import cplex\n",
    "import cobrakbase\n",
    "#Put the path to ModelSEEDpy on your machine here\n",
    "sys.path.append(\"/Users/chenry/code/ModelSEEDpy\")\n",
    "#import modelseedpy.fbapkg\n",
    "from modelseedpy import MSPackageManager, FBAHelper, MSBuilder\n"
   ]
  },
  {
   "cell_type": "code",
   "execution_count": 2,
   "metadata": {},
   "outputs": [
    {
     "name": "stdout",
     "output_type": "stream",
     "text": [
      "Computing essentiality for 562.61280.fbamodel in complete media\n",
      "Gapfilling 562.61280.fbamodel in LB media\n",
      "Computing essentiality for 562.61280.fbamodel in LB media\n",
      "Gapfilling 562.61280.fbamodel in MM media\n",
      "Computing essentiality for 562.61280.fbamodel in MM media\n",
      "Computing essentiality for 562.55367.fbamodel in complete media\n",
      "Gapfilling 562.55367.fbamodel in LB media\n",
      "Computing essentiality for 562.55367.fbamodel in LB media\n",
      "Gapfilling 562.55367.fbamodel in MM media\n",
      "Computing essentiality for 562.55367.fbamodel in MM media\n",
      "Computing essentiality for 562.55368.fbamodel in complete media\n",
      "Gapfilling 562.55368.fbamodel in LB media\n",
      "Computing essentiality for 562.55368.fbamodel in LB media\n",
      "Gapfilling 562.55368.fbamodel in MM media\n",
      "Computing essentiality for 562.55368.fbamodel in MM media\n"
     ]
    }
   ],
   "source": [
    "kbase_api = cobrakbase.KBaseAPI()\n",
    "#List available models\n",
    "modellist = kbase_api.ws_client.list_objects({\n",
    "    \"ids\":[93541],\n",
    "    \"type\":\"KBaseFBA.FBAModel\"\n",
    "})\n",
    "#Iterate over the models and run FBA\n",
    "LBMedia = model = kbase_api.get_from_ws(\"ArgonneLBMedia\",\"KBaseMedia\")\n",
    "MMMedia = model = kbase_api.get_from_ws(\"Carbon-D-Glucose\",\"KBaseMedia\")\n",
    "template = kbase_api.get_from_ws(\"GramNegModelTemplateV3\",\"NewKBaseModelTemplates\")\n",
    "results = {}\n",
    "count = 0\n",
    "for item in modellist:\n",
    "    model = kbase_api.get_from_ws(item[1],item[6])\n",
    "    results[item[1]] = {\"complete\":{\"genes\":None,\"reactions\":None},\"LB\":{\"genes\":None,\"reactions\":None},\"MM\":{\"genes\":None,\"reactions\":None}}\n",
    "    FBAHelper.set_objective_from_target_reaction(model, \"bio1\")\n",
    "    pkgmgr = MSPackageManager.get_pkg_mgr(model)\n",
    "    pkgmgr.getpkg(\"KBaseMediaPkg\").build_package(None)\n",
    "    solution=model.optimize()\n",
    "    if solution.objective_value == 0:\n",
    "        print(\"Gapfilling \"+item[1]+\" in complete media\")\n",
    "        model = MSBuilder.gapfill_model(model,\"bio1\",template,None)\n",
    "    print(\"Computing essentiality for \"+item[1]+\" in complete media\")\n",
    "    results[item[1]][\"complete\"][\"genes\"] = single_gene_deletion(model)\n",
    "    results[item[1]][\"complete\"][\"reactions\"] = single_reaction_deletion(model)\n",
    "    pkgmgr.getpkg(\"KBaseMediaPkg\").build_package(LBMedia)\n",
    "    solution=model.optimize()\n",
    "    if solution.objective_value == 0:\n",
    "        print(\"Gapfilling \"+item[1]+\" in LB media\")\n",
    "        model = MSBuilder.gapfill_model(model,\"bio1\",template,LBMedia)\n",
    "        pkgmgr = MSPackageManager.get_pkg_mgr(model)\n",
    "        pkgmgr.getpkg(\"KBaseMediaPkg\").build_package(LBMedia)\n",
    "    print(\"Computing essentiality for \"+item[1]+\" in LB media\")\n",
    "    results[item[1]][\"LB\"][\"genes\"] = single_gene_deletion(model)\n",
    "    results[item[1]][\"LB\"][\"reactions\"] = single_reaction_deletion(model)\n",
    "    pkgmgr.getpkg(\"KBaseMediaPkg\").build_package(MMMedia)\n",
    "    solution=model.optimize()\n",
    "    if solution.objective_value == 0:\n",
    "        print(\"Gapfilling \"+item[1]+\" in MM media\")\n",
    "        model = MSBuilder.gapfill_model(model,\"bio1\",template,MMMedia)\n",
    "        pkgmgr = MSPackageManager.get_pkg_mgr(model)\n",
    "        pkgmgr.getpkg(\"KBaseMediaPkg\").build_package(MMMedia)\n",
    "    print(\"Computing essentiality for \"+item[1]+\" in MM media\")\n",
    "    results[item[1]][\"MM\"][\"genes\"] = single_gene_deletion(model)\n",
    "    results[item[1]][\"MM\"][\"reactions\"] = single_reaction_deletion(model)\n",
    "    count += 1\n",
    "    if count > 2:\n",
    "        break\n",
    "\n",
    "        \n",
    "#Compute gene essentiality histogram from PATRIC functions\n",
    "#Compute reaction essentiality histrogram from reaction IDs\n",
    "#Simulate diverse carbon sources gapfilling on each carbon source using a model already gapfilled for minimal media\n",
    "#Model dashboard: ATP, gapfilling, reaction counts, gene counts, \n",
    "#KEGG pathway analysis\n"
   ]
  },
  {
   "cell_type": "code",
   "execution_count": null,
   "metadata": {},
   "outputs": [],
   "source": []
  }
 ],
 "metadata": {
  "kernelspec": {
   "display_name": "Python 3",
   "language": "python",
   "name": "python3"
  },
  "language_info": {
   "codemirror_mode": {
    "name": "ipython",
    "version": 3
   },
   "file_extension": ".py",
   "mimetype": "text/x-python",
   "name": "python",
   "nbconvert_exporter": "python",
   "pygments_lexer": "ipython3",
   "version": "3.7.6"
  }
 },
 "nbformat": 4,
 "nbformat_minor": 4
}
