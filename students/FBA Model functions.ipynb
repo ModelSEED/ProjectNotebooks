{
 "cells": [
  {
   "cell_type": "code",
   "execution_count": 1,
   "metadata": {},
   "outputs": [],
   "source": [
    "import cobra\n",
    "cobra_config = cobra.Configuration()\n",
    "\n",
    "from cobra import Model, Reaction, Metabolite\n",
    "import cobra.test\n",
    "import os\n",
    "from os.path import join\n",
    "\n",
    "data_dir = cobra.test.data_dir\n",
    "\n",
    "from modelseedpy.core.mseditorapi import MSEditorAPI"
   ]
  },
  {
   "cell_type": "code",
   "execution_count": 2,
   "metadata": {},
   "outputs": [],
   "source": [
    "editor = MSEditorAPI()"
   ]
  },
  {
   "cell_type": "code",
   "execution_count": 3,
   "metadata": {},
   "outputs": [
    {
     "ename": "TypeError",
     "evalue": "add_ms_reaction() missing 4 required positional arguments: 'model', 'rxn_id', 'compartments', and 'modelseed'",
     "output_type": "error",
     "traceback": [
      "\u001b[0;31m---------------------------------------------------------------------------\u001b[0m",
      "\u001b[0;31mTypeError\u001b[0m                                 Traceback (most recent call last)",
      "\u001b[0;32m<ipython-input-3-c804f2a1e4c9>\u001b[0m in \u001b[0;36m<module>\u001b[0;34m\u001b[0m\n\u001b[0;32m----> 1\u001b[0;31m \u001b[0meditor\u001b[0m\u001b[0;34m.\u001b[0m\u001b[0madd_ms_reaction\u001b[0m\u001b[0;34m(\u001b[0m\u001b[0;34m)\u001b[0m\u001b[0;34m\u001b[0m\u001b[0;34m\u001b[0m\u001b[0m\n\u001b[0m",
      "\u001b[0;31mTypeError\u001b[0m: add_ms_reaction() missing 4 required positional arguments: 'model', 'rxn_id', 'compartments', and 'modelseed'"
     ]
    }
   ],
   "source": [
    "## example\n",
    "editor.add_ms_reaction('etc', ......)"
   ]
  },
  {
   "cell_type": "code",
   "execution_count": 60,
   "metadata": {},
   "outputs": [
    {
     "name": "stdout",
     "output_type": "stream",
     "text": [
      "{('cpd00001', 'c'): -1, ('cpd00002', 'e'): -1, ('cpd00003', 'c'): 2, ('cpd00004', 'c'): 1}\n",
      "left\n",
      "{('cpd00001', 'c'): -1, ('cpd00002', 'e'): -1, ('cpd00003', 'c'): 2, ('cpd00004', 'c'): 1}\n",
      "reversable\n",
      "{('cpd00001', 'c'): -1, ('cpd00002', 'e'): -1, ('cpd00003', 'c'): 2, ('cpd00004', 'c'): 1}\n",
      "right\n",
      "{('cpd00001', 'c'): -1, ('cpd00002', 'e'): -1, ('cpd00003', 'c'): 2, ('cpd00004', 'c'): 1}\n",
      "error - no arrow found\n"
     ]
    }
   ],
   "source": [
    " #build from plasson string test\n",
    "class MSEquation:\n",
    "\n",
    "    def __init__(self, stoichiometry, d):\n",
    "        self.equation = stoichiometry\n",
    "        self.direction = d\n",
    "\n",
    "\n",
    "#ASSUMPTION: user always inputs an = character, either in a =>, <=>, or <= arrow\n",
    "def build_from_palsson_string(equation_string):\n",
    "\n",
    "    def clean_ends(lst):\n",
    "        for i in range(len(lst)):\n",
    "            # remove whitespace from the front\n",
    "            while (lst[i][0] == ' '):\n",
    "                lst[i] = lst[i][1:]\n",
    "            # remove whitespace from the back\n",
    "            while (lst[i][-1] == ' '):\n",
    "                lst[i] = lst[i][:-1]\n",
    "        return lst\n",
    "\n",
    "    def get_coef_and_group(lst, return_dict, side):\n",
    "        for reactant in lst:\n",
    "            coeficient = side\n",
    "            if reactant[0] == '(':\n",
    "                number = ''\n",
    "                position = 1\n",
    "                while reactant[position] != ')':\n",
    "                    number += reactant[position]\n",
    "                    position += 1\n",
    "                coeficient = side * int(number)\n",
    "                reactant = reactant[position + 1:]\n",
    "\n",
    "            identifier = reactant[0]\n",
    "            if reactant[-1] == ']':\n",
    "                s = ''\n",
    "                position = -2\n",
    "                while reactant[position] != '[':\n",
    "                    s = reactant[position] + s\n",
    "                    position -= 1\n",
    "                identifier = s\n",
    "                reactant = reactant[:position]\n",
    "\n",
    "            return_dict[(reactant, identifier)] = coeficient\n",
    "        return return_dict\n",
    "\n",
    "    #check direction\n",
    "    reversible = False\n",
    "    right = False\n",
    "    left = False\n",
    "    ret_str = ''\n",
    "    reversible = equation_string.find('<=>') != -1\n",
    "    if reversible:\n",
    "        ret_str = 'reversable'\n",
    "    else:  # not two ways, so check right\n",
    "        right = equation_string.find('=>') != -1\n",
    "        if right:\n",
    "            ret_str = 'right'\n",
    "        else:  # if not right, check left\n",
    "            left = equation_string.find('<=') != -1\n",
    "            if left: \n",
    "                ret_str = 'left'\n",
    "            else:  # if not left, error\n",
    "                ret_str = \"error - no arrow found\"\n",
    "\n",
    "\n",
    "    #cpd00001 + cpd00002[e] => (2)cpd00003 + cpd00004\n",
    "    # get substrings for either side of the euqation\n",
    "    reactants_substring_list = equation_string[0:equation_string.find('=') - 1].split('+')\n",
    "    products_substring_list = equation_string[equation_string.find('=') + 2:len(equation_string)].split('+')\n",
    "\n",
    "    # clean up our substrings:\n",
    "    clean_ends(reactants_substring_list)\n",
    "    clean_ends(products_substring_list)\n",
    "\n",
    "    variables = {}\n",
    "    # add reactants to the dictionary\n",
    "\n",
    "    get_coef_and_group(reactants_substring_list, variables, -1)\n",
    "    get_coef_and_group(products_substring_list, variables, 1)\n",
    "\n",
    "    ret_mse = MSEquation(variables, ret_str)\n",
    "\n",
    "    return ret_mse\n",
    "    \n",
    "test = build_from_palsson_string('cpd00001 + cpd00002[e] <= (2)cpd00003 + cpd00004')\n",
    "print(test.equation)\n",
    "print(test.direction)\n",
    "\n",
    "test = build_from_palsson_string('cpd00001 + cpd00002[e] <=> (2)cpd00003 + cpd00004')\n",
    "print(test.equation)\n",
    "print(test.direction)\n",
    "\n",
    "test = build_from_palsson_string('cpd00001 + cpd00002[e] => (2)cpd00003 + cpd00004')\n",
    "print(test.equation)\n",
    "print(test.direction)\n",
    "\n",
    "test = build_from_palsson_string('cpd00001 + cpd00002[e] = (2)cpd00003 + cpd00004')\n",
    "print(test.equation)\n",
    "print(test.direction)"
   ]
  },
  {
   "cell_type": "code",
   "execution_count": 58,
   "metadata": {},
   "outputs": [
    {
     "name": "stdout",
     "output_type": "stream",
     "text": [
      "2712\n",
      "2710\n"
     ]
    },
    {
     "name": "stderr",
     "output_type": "stream",
     "text": [
      "C:\\Users\\jason\\anaconda3\\lib\\site-packages\\cobra\\core\\model.py:738: UserWarning: C not in iML1515\n",
      "  warn(\"%s not in %s\" % (reaction, self))\n"
     ]
    }
   ],
   "source": [
    "#remove reactions test\n",
    "def remove_reactions(model,rxn_id_list = []):\n",
    "    model.remove_reactions(rxn_id_list)\n",
    "    \n",
    "model = cobra.io.read_sbml_model(join(data_dir, \"iML1515.xml\"))\n",
    "\n",
    "print(len(model.reactions))\n",
    "lst = ['CYTDK2','ICDHyr']\n",
    "remove_reactions(model,lst)\n",
    "print(len(model.reactions))\n",
    "\n",
    "lst = ['C']\n",
    "remove_reactions(model,lst)  #thows warning orrectly"
   ]
  },
  {
   "cell_type": "code",
   "execution_count": 57,
   "metadata": {},
   "outputs": [
    {
     "name": "stdout",
     "output_type": "stream",
     "text": [
      "CYTDK2: cytd_c + gtp_c --> cmp_c + gdp_c + h_c\n",
      "{<Metabolite cmp_c at 0x2dcb3df2100>: 1.0, <Metabolite cytd_c at 0x2dcb3f679d0>: -1.0, <Metabolite gdp_c at 0x2dcb3e4a280>: 1.0, <Metabolite gtp_c at 0x2dcb3df21c0>: -1.0, <Metabolite h_c at 0x2dcb3f3d700>: 1.0}\n",
      "\n",
      "{<Metabolite cmp_c at 0x2dcb3df2100>: 2, <Metabolite cytd_c at 0x2dcb3f679d0>: -1.0, <Metabolite gdp_c at 0x2dcb3e4a280>: 1.0, <Metabolite gtp_c at 0x2dcb3df21c0>: -1.0, <Metabolite h_c at 0x2dcb3f3d700>: 1.0}\n",
      "{<Metabolite cmp_c at 0x2dcb3df2100>: 2, <Metabolite cytd_c at 0x2dcb3f679d0>: -1.0, <Metabolite gdp_c at 0x2dcb3e4a280>: 1.0, <Metabolite gtp_c at 0x2dcb3df21c0>: -1.0, <Metabolite h_c at 0x2dcb3f3d700>: 1.0}\n",
      "CYTDK2: cytd_c + gtp_c --> cmp_c + gdp_c + h_c\n",
      "{<Metabolite cmp_c at 0x2dcb3c8e250>: 1.0, <Metabolite cytd_c at 0x2dcaf4a1850>: -1.0, <Metabolite gdp_c at 0x2dcb3e14100>: 1.0, <Metabolite gtp_c at 0x2dcb3c8efa0>: -1.0, <Metabolite h_c at 0x2dcaeee80d0>: 1.0}\n",
      "\n"
     ]
    },
    {
     "ename": "KeyError",
     "evalue": "'cmp_'",
     "output_type": "error",
     "traceback": [
      "\u001b[1;31m---------------------------------------------------------------------------\u001b[0m",
      "\u001b[1;31mKeyError\u001b[0m                                  Traceback (most recent call last)",
      "\u001b[1;32m<ipython-input-57-b13fd4d0c5c2>\u001b[0m in \u001b[0;36m<module>\u001b[1;34m\u001b[0m\n\u001b[0;32m     29\u001b[0m \u001b[0mprint\u001b[0m\u001b[1;33m(\u001b[0m\u001b[0mmodel\u001b[0m\u001b[1;33m.\u001b[0m\u001b[0mreactions\u001b[0m\u001b[1;33m[\u001b[0m\u001b[1;36m0\u001b[0m\u001b[1;33m]\u001b[0m\u001b[1;33m.\u001b[0m\u001b[0mmetabolites\u001b[0m\u001b[1;33m)\u001b[0m\u001b[1;33m\u001b[0m\u001b[1;33m\u001b[0m\u001b[0m\n\u001b[0;32m     30\u001b[0m \u001b[0mprint\u001b[0m\u001b[1;33m(\u001b[0m\u001b[1;33m)\u001b[0m\u001b[1;33m\u001b[0m\u001b[1;33m\u001b[0m\u001b[0m\n\u001b[1;32m---> 31\u001b[1;33m \u001b[0medit_biomass_compound\u001b[0m\u001b[1;33m(\u001b[0m\u001b[0mmodel\u001b[0m\u001b[1;33m,\u001b[0m \u001b[1;34m'CYTDK2'\u001b[0m\u001b[1;33m,\u001b[0m \u001b[1;34m'cmp_'\u001b[0m\u001b[1;33m,\u001b[0m \u001b[1;36m2\u001b[0m\u001b[1;33m)\u001b[0m  \u001b[1;31m#typo here, seeing what it does to a nonexistant metabolite\u001b[0m\u001b[1;33m\u001b[0m\u001b[1;33m\u001b[0m\u001b[0m\n\u001b[0m\u001b[0;32m     32\u001b[0m \u001b[0mprint\u001b[0m\u001b[1;33m(\u001b[0m\u001b[0mmodel\u001b[0m\u001b[1;33m.\u001b[0m\u001b[0mreactions\u001b[0m\u001b[1;33m[\u001b[0m\u001b[1;36m0\u001b[0m\u001b[1;33m]\u001b[0m\u001b[1;33m.\u001b[0m\u001b[0mmetabolites\u001b[0m\u001b[1;33m)\u001b[0m\u001b[1;33m\u001b[0m\u001b[1;33m\u001b[0m\u001b[0m\n",
      "\u001b[1;32m<ipython-input-57-b13fd4d0c5c2>\u001b[0m in \u001b[0;36medit_biomass_compound\u001b[1;34m(model, biomass_id, cpd_id, new_coef, rescale)\u001b[0m\n\u001b[0;32m      5\u001b[0m \u001b[1;32mdef\u001b[0m \u001b[0medit_biomass_compound\u001b[0m\u001b[1;33m(\u001b[0m\u001b[0mmodel\u001b[0m\u001b[1;33m,\u001b[0m\u001b[0mbiomass_id\u001b[0m\u001b[1;33m,\u001b[0m\u001b[0mcpd_id\u001b[0m\u001b[1;33m,\u001b[0m\u001b[0mnew_coef\u001b[0m\u001b[1;33m,\u001b[0m\u001b[0mrescale\u001b[0m \u001b[1;33m=\u001b[0m \u001b[1;36m1\u001b[0m\u001b[1;33m)\u001b[0m\u001b[1;33m:\u001b[0m\u001b[1;33m\u001b[0m\u001b[1;33m\u001b[0m\u001b[0m\n\u001b[0;32m      6\u001b[0m     \u001b[0md\u001b[0m \u001b[1;33m=\u001b[0m \u001b[1;33m{\u001b[0m\u001b[1;33m}\u001b[0m\u001b[1;33m\u001b[0m\u001b[1;33m\u001b[0m\u001b[0m\n\u001b[1;32m----> 7\u001b[1;33m     \u001b[0md\u001b[0m\u001b[1;33m[\u001b[0m\u001b[0mmodel\u001b[0m\u001b[1;33m.\u001b[0m\u001b[0mmetabolites\u001b[0m\u001b[1;33m.\u001b[0m\u001b[0mget_by_id\u001b[0m\u001b[1;33m(\u001b[0m\u001b[0mcpd_id\u001b[0m\u001b[1;33m)\u001b[0m\u001b[1;33m]\u001b[0m \u001b[1;33m=\u001b[0m \u001b[0mnew_coef\u001b[0m\u001b[1;33m\u001b[0m\u001b[1;33m\u001b[0m\u001b[0m\n\u001b[0m\u001b[0;32m      8\u001b[0m     \u001b[0mmodel\u001b[0m\u001b[1;33m.\u001b[0m\u001b[0mreactions\u001b[0m\u001b[1;33m.\u001b[0m\u001b[0mget_by_id\u001b[0m\u001b[1;33m(\u001b[0m\u001b[0mbiomass_id\u001b[0m\u001b[1;33m)\u001b[0m\u001b[1;33m.\u001b[0m\u001b[0madd_metabolites\u001b[0m\u001b[1;33m(\u001b[0m\u001b[0md\u001b[0m\u001b[1;33m,\u001b[0m \u001b[0mcombine\u001b[0m \u001b[1;33m=\u001b[0m \u001b[1;32mFalse\u001b[0m\u001b[1;33m)\u001b[0m\u001b[1;33m\u001b[0m\u001b[1;33m\u001b[0m\u001b[0m\n\u001b[0;32m      9\u001b[0m \u001b[1;33m\u001b[0m\u001b[0m\n",
      "\u001b[1;32m~\\anaconda3\\lib\\site-packages\\cobra\\core\\dictlist.py\u001b[0m in \u001b[0;36mget_by_id\u001b[1;34m(self, id)\u001b[0m\n\u001b[0;32m     55\u001b[0m     \u001b[1;32mdef\u001b[0m \u001b[0mget_by_id\u001b[0m\u001b[1;33m(\u001b[0m\u001b[0mself\u001b[0m\u001b[1;33m,\u001b[0m \u001b[0mid\u001b[0m\u001b[1;33m)\u001b[0m\u001b[1;33m:\u001b[0m\u001b[1;33m\u001b[0m\u001b[1;33m\u001b[0m\u001b[0m\n\u001b[0;32m     56\u001b[0m         \u001b[1;34m\"\"\"return the element with a matching id\"\"\"\u001b[0m\u001b[1;33m\u001b[0m\u001b[1;33m\u001b[0m\u001b[0m\n\u001b[1;32m---> 57\u001b[1;33m         \u001b[1;32mreturn\u001b[0m \u001b[0mlist\u001b[0m\u001b[1;33m.\u001b[0m\u001b[0m__getitem__\u001b[0m\u001b[1;33m(\u001b[0m\u001b[0mself\u001b[0m\u001b[1;33m,\u001b[0m \u001b[0mself\u001b[0m\u001b[1;33m.\u001b[0m\u001b[0m_dict\u001b[0m\u001b[1;33m[\u001b[0m\u001b[0mid\u001b[0m\u001b[1;33m]\u001b[0m\u001b[1;33m)\u001b[0m\u001b[1;33m\u001b[0m\u001b[1;33m\u001b[0m\u001b[0m\n\u001b[0m\u001b[0;32m     58\u001b[0m \u001b[1;33m\u001b[0m\u001b[0m\n\u001b[0;32m     59\u001b[0m     \u001b[1;32mdef\u001b[0m \u001b[0mlist_attr\u001b[0m\u001b[1;33m(\u001b[0m\u001b[0mself\u001b[0m\u001b[1;33m,\u001b[0m \u001b[0mattribute\u001b[0m\u001b[1;33m)\u001b[0m\u001b[1;33m:\u001b[0m\u001b[1;33m\u001b[0m\u001b[1;33m\u001b[0m\u001b[0m\n",
      "\u001b[1;31mKeyError\u001b[0m: 'cmp_'"
     ]
    }
   ],
   "source": [
    "#edit biomass compound test\n",
    "\n",
    "#assumptions: \n",
    "#compound is already present in the reaction, we are just changing the coeficient\n",
    "def edit_biomass_compound(model,biomass_id,cpd_id,new_coef,rescale = 1):\n",
    "    d = {}\n",
    "    d[model.metabolites.get_by_id(cpd_id)] = new_coef\n",
    "    model.reactions.get_by_id(biomass_id).add_metabolites(d, combine = False)\n",
    "    \n",
    "model = cobra.io.load_json_model(\"iML1515.json\")\n",
    "print(model.reactions[0])\n",
    "print(model.reactions[0].metabolites)\n",
    "print()\n",
    "edit_biomass_compound(model, 'CYTDK2', 'cmp_c', 2)\n",
    "print(model.reactions[0].metabolites)\n",
    "\n",
    "\n",
    "#model = cobra.io.load_json_model(\"iML1515.json\")\n",
    "#print(model.reactions[0])\n",
    "print(model.reactions[0].metabolites)\n",
    "#print()\n",
    "#edit_biomass_compound(model, 'CYTDK', 'cmp_c', 2)  #typo here, seeing what it does to a nonexistant reaction\n",
    "#print(model.reactions[0].metabolites)\n",
    "\n",
    "# ^ properly throws keyerror\n",
    "\n",
    "\n",
    "#model = cobra.io.load_json_model(\"iML1515.json\")\n",
    "#print(model.reactions[0])\n",
    "#print(model.reactions[0].metabolites)\n",
    "#print()\n",
    "#edit_biomass_compound(model, 'CYTDK2', 'cmp_', 2)  #typo here, seeing what it does to a nonexistant metabolite\n",
    "#print(model.reactions[0].metabolites)\n",
    "\n",
    "# ^ properly throws keyerror"
   ]
  },
  {
   "cell_type": "code",
   "execution_count": 55,
   "metadata": {},
   "outputs": [
    {
     "name": "stdout",
     "output_type": "stream",
     "text": [
      "model 1 reaction count 2712\n",
      "model 1 reaction count with removal 2711\n",
      "model 1 reaction count 2712\n",
      "model 2 reaction count 2712\n"
     ]
    },
    {
     "name": "stderr",
     "output_type": "stream",
     "text": [
      "Ignoring reaction 'CYTDK2' since it already exists.\n"
     ]
    },
    {
     "name": "stdout",
     "output_type": "stream",
     "text": [
      "model 1 reaction count 2712\n",
      "model 2 reaction count 2712\n"
     ]
    },
    {
     "ename": "KeyError",
     "evalue": "'C'",
     "output_type": "error",
     "traceback": [
      "\u001b[1;31m---------------------------------------------------------------------------\u001b[0m",
      "\u001b[1;31mKeyError\u001b[0m                                  Traceback (most recent call last)",
      "\u001b[1;32m<ipython-input-55-830932dc32ed>\u001b[0m in \u001b[0;36m<module>\u001b[1;34m\u001b[0m\n\u001b[0;32m     31\u001b[0m \u001b[0mmodel2\u001b[0m \u001b[1;33m=\u001b[0m \u001b[0mcobra\u001b[0m\u001b[1;33m.\u001b[0m\u001b[0mio\u001b[0m\u001b[1;33m.\u001b[0m\u001b[0mload_json_model\u001b[0m\u001b[1;33m(\u001b[0m\u001b[1;34m\"iML1515.json\"\u001b[0m\u001b[1;33m)\u001b[0m\u001b[1;33m\u001b[0m\u001b[1;33m\u001b[0m\u001b[0m\n\u001b[0;32m     32\u001b[0m \u001b[0mlst\u001b[0m \u001b[1;33m=\u001b[0m \u001b[1;33m[\u001b[0m\u001b[1;34m'C'\u001b[0m\u001b[1;33m]\u001b[0m\u001b[1;33m\u001b[0m\u001b[1;33m\u001b[0m\u001b[0m\n\u001b[1;32m---> 33\u001b[1;33m \u001b[0mcopy_model_reactions\u001b[0m\u001b[1;33m(\u001b[0m\u001b[0mmodel\u001b[0m\u001b[1;33m,\u001b[0m \u001b[0mmodel2\u001b[0m\u001b[1;33m,\u001b[0m \u001b[0mlst\u001b[0m\u001b[1;33m)\u001b[0m\u001b[1;33m\u001b[0m\u001b[1;33m\u001b[0m\u001b[0m\n\u001b[0m\u001b[0;32m     34\u001b[0m \u001b[0mprint\u001b[0m\u001b[1;33m(\u001b[0m\u001b[1;34m'model 1 reaction count'\u001b[0m\u001b[1;33m,\u001b[0m\u001b[0mlen\u001b[0m\u001b[1;33m(\u001b[0m\u001b[0mmodel\u001b[0m\u001b[1;33m.\u001b[0m\u001b[0mreactions\u001b[0m\u001b[1;33m)\u001b[0m\u001b[1;33m)\u001b[0m\u001b[1;33m\u001b[0m\u001b[1;33m\u001b[0m\u001b[0m\n\u001b[0;32m     35\u001b[0m \u001b[0mprint\u001b[0m\u001b[1;33m(\u001b[0m\u001b[1;34m'model 2 reaction count'\u001b[0m\u001b[1;33m,\u001b[0m\u001b[0mlen\u001b[0m\u001b[1;33m(\u001b[0m\u001b[0mmodel2\u001b[0m\u001b[1;33m.\u001b[0m\u001b[0mreactions\u001b[0m\u001b[1;33m)\u001b[0m\u001b[1;33m)\u001b[0m\u001b[1;33m\u001b[0m\u001b[1;33m\u001b[0m\u001b[0m\n",
      "\u001b[1;32m<ipython-input-55-830932dc32ed>\u001b[0m in \u001b[0;36mcopy_model_reactions\u001b[1;34m(model, source_model, rxn_id_list)\u001b[0m\n\u001b[0;32m      8\u001b[0m \u001b[1;32mdef\u001b[0m \u001b[0mcopy_model_reactions\u001b[0m\u001b[1;33m(\u001b[0m\u001b[0mmodel\u001b[0m\u001b[1;33m,\u001b[0m\u001b[0msource_model\u001b[0m\u001b[1;33m,\u001b[0m\u001b[0mrxn_id_list\u001b[0m \u001b[1;33m=\u001b[0m \u001b[1;33m[\u001b[0m\u001b[1;33m]\u001b[0m\u001b[1;33m)\u001b[0m\u001b[1;33m:\u001b[0m\u001b[1;33m\u001b[0m\u001b[1;33m\u001b[0m\u001b[0m\n\u001b[0;32m      9\u001b[0m     \u001b[1;32mfor\u001b[0m \u001b[0mrxnid\u001b[0m \u001b[1;32min\u001b[0m \u001b[0mrxn_id_list\u001b[0m\u001b[1;33m:\u001b[0m\u001b[1;33m\u001b[0m\u001b[1;33m\u001b[0m\u001b[0m\n\u001b[1;32m---> 10\u001b[1;33m         \u001b[0mmodel\u001b[0m\u001b[1;33m.\u001b[0m\u001b[0madd_reaction\u001b[0m\u001b[1;33m(\u001b[0m\u001b[0msource_model\u001b[0m\u001b[1;33m.\u001b[0m\u001b[0mreactions\u001b[0m\u001b[1;33m.\u001b[0m\u001b[0mget_by_id\u001b[0m\u001b[1;33m(\u001b[0m\u001b[0mrxnid\u001b[0m\u001b[1;33m)\u001b[0m\u001b[1;33m)\u001b[0m\u001b[1;33m\u001b[0m\u001b[1;33m\u001b[0m\u001b[0m\n\u001b[0m\u001b[0;32m     11\u001b[0m \u001b[1;33m\u001b[0m\u001b[0m\n\u001b[0;32m     12\u001b[0m \u001b[0mmodel\u001b[0m \u001b[1;33m=\u001b[0m \u001b[0mcobra\u001b[0m\u001b[1;33m.\u001b[0m\u001b[0mio\u001b[0m\u001b[1;33m.\u001b[0m\u001b[0mload_json_model\u001b[0m\u001b[1;33m(\u001b[0m\u001b[1;34m\"iML1515.json\"\u001b[0m\u001b[1;33m)\u001b[0m\u001b[1;33m\u001b[0m\u001b[1;33m\u001b[0m\u001b[0m\n",
      "\u001b[1;32m~\\anaconda3\\lib\\site-packages\\cobra\\core\\dictlist.py\u001b[0m in \u001b[0;36mget_by_id\u001b[1;34m(self, id)\u001b[0m\n\u001b[0;32m     55\u001b[0m     \u001b[1;32mdef\u001b[0m \u001b[0mget_by_id\u001b[0m\u001b[1;33m(\u001b[0m\u001b[0mself\u001b[0m\u001b[1;33m,\u001b[0m \u001b[0mid\u001b[0m\u001b[1;33m)\u001b[0m\u001b[1;33m:\u001b[0m\u001b[1;33m\u001b[0m\u001b[1;33m\u001b[0m\u001b[0m\n\u001b[0;32m     56\u001b[0m         \u001b[1;34m\"\"\"return the element with a matching id\"\"\"\u001b[0m\u001b[1;33m\u001b[0m\u001b[1;33m\u001b[0m\u001b[0m\n\u001b[1;32m---> 57\u001b[1;33m         \u001b[1;32mreturn\u001b[0m \u001b[0mlist\u001b[0m\u001b[1;33m.\u001b[0m\u001b[0m__getitem__\u001b[0m\u001b[1;33m(\u001b[0m\u001b[0mself\u001b[0m\u001b[1;33m,\u001b[0m \u001b[0mself\u001b[0m\u001b[1;33m.\u001b[0m\u001b[0m_dict\u001b[0m\u001b[1;33m[\u001b[0m\u001b[0mid\u001b[0m\u001b[1;33m]\u001b[0m\u001b[1;33m)\u001b[0m\u001b[1;33m\u001b[0m\u001b[1;33m\u001b[0m\u001b[0m\n\u001b[0m\u001b[0;32m     58\u001b[0m \u001b[1;33m\u001b[0m\u001b[0m\n\u001b[0;32m     59\u001b[0m     \u001b[1;32mdef\u001b[0m \u001b[0mlist_attr\u001b[0m\u001b[1;33m(\u001b[0m\u001b[0mself\u001b[0m\u001b[1;33m,\u001b[0m \u001b[0mattribute\u001b[0m\u001b[1;33m)\u001b[0m\u001b[1;33m:\u001b[0m\u001b[1;33m\u001b[0m\u001b[1;33m\u001b[0m\u001b[0m\n",
      "\u001b[1;31mKeyError\u001b[0m: 'C'"
     ]
    }
   ],
   "source": [
    "#copy model reactions test\n",
    "#how to do\n",
    "#create two models\n",
    "#delete function from 1\n",
    "#add to the second\n",
    "#check to see if reaction counts are the same\n",
    "\n",
    "def copy_model_reactions(model,source_model,rxn_id_list = []):\n",
    "    for rxnid in rxn_id_list:\n",
    "        model.add_reaction(source_model.reactions.get_by_id(rxnid))\n",
    "        \n",
    "model = cobra.io.load_json_model(\"iML1515.json\")\n",
    "model2 = cobra.io.load_json_model(\"iML1515.json\")\n",
    "lst = ['CYTDK2']\n",
    "print('model 1 reaction count',len(model.reactions))\n",
    "remove_reactions(model,lst)\n",
    "print('model 1 reaction count with removal',len(model.reactions))\n",
    "copy_model_reactions(model, model2, lst)\n",
    "print('model 1 reaction count',len(model.reactions))\n",
    "print('model 2 reaction count',len(model2.reactions))\n",
    "\n",
    "#testing on copying a id that already exists in the duplicate\n",
    "model = cobra.io.load_json_model(\"iML1515.json\")\n",
    "model2 = cobra.io.load_json_model(\"iML1515.json\")\n",
    "copy_model_reactions(model, model2, lst)\n",
    "print('model 1 reaction count',len(model.reactions))\n",
    "print('model 2 reaction count',len(model2.reactions))\n",
    "\n",
    "#testing on copying a id that does not exist in the origional\n",
    "model = cobra.io.load_json_model(\"iML1515.json\")\n",
    "model2 = cobra.io.load_json_model(\"iML1515.json\")\n",
    "lst = ['C']\n",
    "copy_model_reactions(model, model2, lst)\n",
    "print('thows keyerror properly')\n",
    "print('model 1 reaction count',len(model.reactions))\n",
    "print('model 2 reaction count',len(model2.reactions))"
   ]
  },
  {
   "cell_type": "code",
   "execution_count": 54,
   "metadata": {},
   "outputs": [
    {
     "name": "stdout",
     "output_type": "stream",
     "text": [
      "reversibility before change: True\n",
      "forward: 0 <= ICDHyr <= 1000.0\n",
      "reverse: 0 <= ICDHyr_reverse_7f84b <= 1000.0\n",
      "gpr: icd\n",
      "reversibility after change: False\n",
      "forward: 0 <= ICDHyr <= 1000.0\n",
      "reverse: 0 <= ICDHyr_reverse_7f84b <= 0\n",
      "gpr: ( and thrA) or rutC\n",
      " \n",
      "reversibility before change: False\n",
      "forward: 0 <= HXPRT <= 1000.0\n",
      "reverse: 0 <= HXPRT_reverse_c7021 <= -0.0\n",
      "reversibility after change: True\n",
      "forward: 0 <= HXPRT <= 1000.0\n",
      "reverse: 0 <= HXPRT_reverse_c7021 <= 1000.0\n",
      " \n",
      "reversibility before change: False\n",
      "forward: 0 <= CYTDK2 <= 1000.0\n",
      "reverse: 0 <= CYTDK2_reverse_fd949 <= -0.0\n",
      "reversibility after change: False\n",
      "forward: 0 <= CYTDK2 <= 0\n",
      "reverse: 0 <= CYTDK2_reverse_fd949 <= 1000.0\n"
     ]
    }
   ],
   "source": [
    "#edit reaction progam\n",
    "#ASSUMPTIONS:\n",
    "#an arrow will exist in the program, either =>, <=>, or <=\n",
    "def edit_reaction(model,rxn_id,direction = None,gpr = None,genome = None):\n",
    "    # Direction: =>, <=, or <=>\n",
    "    if direction is not None:\n",
    "        lower_bound = model.reactions.get_by_id(rxn_id).lower_bound\n",
    "        upper_bound = model.reactions.get_by_id(rxn_id).upper_bound\n",
    "\n",
    "        if lower_bound < 0 and upper_bound > 0: # rxn_id is reversible\n",
    "            if direction == \"=>\":\n",
    "                model.reactions.get_by_id(rxn_id).lower_bound = 0\n",
    "            elif direction == \"<=\":\n",
    "                model.reactions.get_by_id(rxn_id).upper_bound = 0\n",
    "        elif lower_bound == 0 and upper_bound > 0: # rxn_id is forward only\n",
    "            if direction == \"<=\":\n",
    "                model.reactions.get_by_id(rxn_id).lower_bound = -1*upper_bound\n",
    "                model.reactions.get_by_id(rxn_id).upper_bound = 0\n",
    "            elif direction == \"<=>\":\n",
    "                model.reactions.get_by_id(rxn_id).lower_bound = -1*upper_bound\n",
    "        elif lower_bound < 0 and upper_bound == 0: # rxn_id is reverse only\n",
    "            if direction == \"=>\":\n",
    "                model.reactions.get_by_id(rxn_id).lower_bound = 0\n",
    "                model.reactions.get_by_id(rxn_id).upper_bound = -1*lower_bound\n",
    "            elif direction == \"<=>\":\n",
    "                model.reactions.get_by_id(rxn_id).upper_bound = -1*lower_bound\n",
    "\n",
    "    # Specify GPR as a string with boolean conditions (e.g. \"(b0001 and b0002) or b1010\").\n",
    "    if gpr is not None:\n",
    "        model.reactions.get_by_id(rxn_id).gene_reaction_rule = gpr\n",
    "        \n",
    "        \n",
    "model = cobra.io.read_sbml_model(join(data_dir, \"iML1515.xml\"))\n",
    "\n",
    "# Changing a reversible reaction to a forward (irreversible) reaction\n",
    "# and changing the gpr\n",
    "rxn = 'ICDHyr'\n",
    "print('reversibility before change:',model.reactions.get_by_id(rxn).reversibility)\n",
    "print('forward:',model.reactions.get_by_id(rxn).forward_variable)\n",
    "print('reverse:',model.reactions.get_by_id(rxn).reverse_variable)\n",
    "print('gpr:',model.reactions.get_by_id(rxn).gene_name_reaction_rule)\n",
    "edit_reaction(model, rxn, \"=>\", \"(b0001 and b0002) or b1010\")\n",
    "print('reversibility after change:',model.reactions.get_by_id(rxn).reversibility)\n",
    "print('forward:',model.reactions.get_by_id(rxn).forward_variable)\n",
    "print('reverse:',model.reactions.get_by_id(rxn).reverse_variable)\n",
    "print('gpr:',model.reactions.get_by_id(rxn).gene_name_reaction_rule)\n",
    "\n",
    "# Changing a forward (irreversible) reaction to a reversible reaction\n",
    "print(' ')\n",
    "rxn2 = 'HXPRT'\n",
    "print('reversibility before change:',model.reactions.get_by_id(rxn2).reversibility)\n",
    "print('forward:',model.reactions.get_by_id(rxn2).forward_variable)\n",
    "print('reverse:',model.reactions.get_by_id(rxn2).reverse_variable)\n",
    "edit_reaction(model, rxn2, \"<=>\")\n",
    "print('reversibility after change:',model.reactions.get_by_id(rxn2).reversibility)\n",
    "print('forward:',model.reactions.get_by_id(rxn2).forward_variable)\n",
    "print('reverse:',model.reactions.get_by_id(rxn2).reverse_variable)\n",
    "\n",
    "# Changing a forward (irreversible) reaction to a reverse (irreversible) reaction\n",
    "print(' ')\n",
    "rxn3 = 'CYTDK2'\n",
    "print('reversibility before change:',model.reactions.get_by_id(rxn3).reversibility)\n",
    "print('forward:',model.reactions.get_by_id(rxn3).forward_variable)\n",
    "print('reverse:',model.reactions.get_by_id(rxn3).reverse_variable)\n",
    "edit_reaction(model, rxn3, \"<=\")\n",
    "print('reversibility after change:',model.reactions.get_by_id(rxn3).reversibility)\n",
    "print('forward:',model.reactions.get_by_id(rxn3).forward_variable)\n",
    "print('reverse:',model.reactions.get_by_id(rxn3).reverse_variable)"
   ]
  },
  {
   "cell_type": "code",
   "execution_count": null,
   "metadata": {},
   "outputs": [],
   "source": []
  }
 ],
 "metadata": {
  "kernelspec": {
   "display_name": "Python 3",
   "language": "python",
   "name": "python3"
  },
  "language_info": {
   "codemirror_mode": {
    "name": "ipython",
    "version": 3
   },
   "file_extension": ".py",
   "mimetype": "text/x-python",
   "name": "python",
   "nbconvert_exporter": "python",
   "pygments_lexer": "ipython3",
   "version": "3.7.4"
  }
 },
 "nbformat": 4,
 "nbformat_minor": 4
}
