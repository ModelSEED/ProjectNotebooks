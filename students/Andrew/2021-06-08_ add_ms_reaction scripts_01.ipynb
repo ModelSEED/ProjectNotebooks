{
 "cells": [
  {
   "cell_type": "code",
   "execution_count": null,
   "metadata": {},
   "outputs": [],
   "source": [
    "cd '.\\Dropbox\\My PC (DESKTOP-M302P50)\\Documents\\UVic Civil Engineering\\Internships\\Agronne'"
   ]
  },
  {
   "cell_type": "markdown",
   "metadata": {},
   "source": [
    "# Second draft"
   ]
  },
  {
   "cell_type": "code",
   "execution_count": 29,
   "metadata": {},
   "outputs": [
    {
     "name": "stdout",
     "output_type": "stream",
     "text": [
      "rxn00002: cpd00001 + 3.0 cpd00067 + cpd00742 <-- 2.0 cpd00011 + 2.0 cpd00013\n"
     ]
    }
   ],
   "source": [
    "import modelseedpy\n",
    "import cobra\n",
    "\n",
    "modelseed_path = '..\\..\\..\\Biofilm growth code\\GSWL code\\ModelSEEDDatabase'\n",
    "bigg_model_path = '.\\e_coli_core metabolism from BiGG.json'\n",
    "model = cobra.io.load_json_model(bigg_model_path)\n",
    "modelseed = modelseedpy.biochem.from_local(modelseed_path)\n",
    "\n",
    "def add_ms_reaction(model, rxn_id, modelseed, compartment_equivalents = {'0':'c0', '1':'e0'}, direction = 'forward'):\n",
    "    ''' Add a reaction with ModelSEED parameters to the FBA simulation\n",
    "    \"model\" (COBRA object): The metabolic model that is defined by COBRApy\n",
    "    \"rxn_id\" (Python object, string): The ModelSEED reaction id that will be added to the model\n",
    "    \"Compartment_equivalents\" (Python object, dictionary): The compartment codes that are used in formating the passed reactions \n",
    "    \"direction\" (Python object, string): The direction of the defined reaction\n",
    "    \"modelseed\" (ModelSEED object): The ModelSEED database that describes the reaction and metabolites of the argument    \n",
    "    '''\n",
    "    modelseed_reaction = modelseed.get_seed_reaction(rxn_id)\n",
    "    reaction_stoich = modelseed_reaction.cstoichiometry\n",
    "    cobra_reaction = cobra.Reaction(rxn_id)\n",
    "    cobra_reaction.name = modelseed_reaction.data['name']\n",
    "        \n",
    "    metabolites_to_add = {}\n",
    "    for metabolite, stoich in reaction_stoich.items():\n",
    "        id = metabolite[0]\n",
    "        compound = modelseed.get_seed_compound(id).data\n",
    "        compartment_number = metabolite[1]\n",
    "        compartment_string = compartment_equivalents[compartment_number]        \n",
    "        \n",
    "        metabolites_to_add[cobra.Metabolite(id, name = compound['name'], compartment = compartment_string)] = stoich\n",
    "        \n",
    "    cobra_reaction.add_metabolites(metabolites_to_add)\n",
    "    cobra_reaction.reaction\n",
    "    \n",
    "    if direction == 'reversible':\n",
    "        cobra_reaction.lower_bound = -1000\n",
    "    elif direction == 'backward':\n",
    "        cobra_reaction.lower_bound = -1000\n",
    "        cobra_reaction.upper_bound = 0\n",
    "    elif direction == 'forward':\n",
    "        pass\n",
    "    else:\n",
    "        directions = ['forward', 'backward', 'reversible']\n",
    "        print('ERROR: The \\'direction\\' argument is not among the accepted {}, {}, and {} values.'.format(directions[0], directions[1], directions[2]))\n",
    "        direction = input('What is the direction of the reaction?')\n",
    "        while direction not in directions:\n",
    "            print('ERROR: The \\'direction\\' argument is not among the accepted {}, {}, and {} values.'.format(directions[0], directions[1], directions[2]))\n",
    "            direction = input('What is the direction of the reaction?')\n",
    "        add_ms_reaction(model, rxn_id, modelseed, direction = direction)\n",
    "            \n",
    "            \n",
    "    model.add_reactions([cobra_reaction])\n",
    "\n",
    "\n",
    "add_ms_reaction(model, 'rxn00002', modelseed, direction = 'backward')\n",
    "print(model.reactions.get_by_id('rxn00002'))"
   ]
  },
  {
   "cell_type": "markdown",
   "metadata": {},
   "source": [
    "# First draft"
   ]
  },
  {
   "cell_type": "code",
   "execution_count": 23,
   "metadata": {},
   "outputs": [
    {
     "name": "stdout",
     "output_type": "stream",
     "text": [
      "rxn00002: allphn_c0 + h2o_c0 + 3.0 h_c0 <-- 2.0 co2_c0 + 2.0 nh4_c0\n"
     ]
    },
    {
     "data": {
      "text/plain": [
       "'for reaction in model.reactions:\\n    print(reaction)'"
      ]
     },
     "execution_count": 23,
     "metadata": {},
     "output_type": "execute_result"
    }
   ],
   "source": [
    "import modelseedpy\n",
    "import cobra\n",
    "\n",
    "modelseed_path = '..\\..\\..\\Biofilm growth code\\GSWL code\\ModelSEEDDatabase'\n",
    "bigg_model_path = '.\\e_coli_core metabolism from BiGG.json'\n",
    "model = cobra.io.load_json_model(bigg_model_path)\n",
    "modelseed = modelseedpy.biochem.from_local(modelseed_path)\n",
    "\n",
    "def add_ms_reaction(model, rxn_id, modelseed, compartment_equivalents = {'0':'c0', '1':'e0'}, direction = 'forward'):\n",
    "    ''' Add a reaction with ModelSEED parameters to the FBA simulation\n",
    "    \"model\" (COBRA object): The metabolic model that is defined by COBRApy\n",
    "    \"rxn_id\" (Python object, string): The ModelSEED reaction id that will be added to the model\n",
    "    \"Compartment_equivalents\" (Python object, dictionary): The compartment codes that are used in formating the passed reactions \n",
    "    \"direction\" (Python object, string): The direction of the defined reaction\n",
    "    \"modelseed\" (ModelSEED object): The ModelSEED database that describes the reaction and metabolites of the argument    \n",
    "    '''\n",
    "    modelseed_reaction = modelseed.get_seed_reaction(rxn_id)\n",
    "    reaction_stoich = modelseed_reaction.cstoichiometry\n",
    "    cobra_reaction = cobra.Reaction(rxn_id)\n",
    "    cobra_reaction.name = modelseed_reaction.data['name']\n",
    "        \n",
    "    metabolites_to_add = {}\n",
    "    for metabolite, stoich in reaction_stoich.items():\n",
    "        id = metabolite[0]\n",
    "        compound = modelseed.get_seed_compound(id).data\n",
    "        compartment_number = metabolite[1]\n",
    "        compartment_string = compartment_equivalents[compartment_number]        \n",
    "        compound_abbreviation = '{}_{}'.format(compound['abbreviation'], compartment_string)\n",
    "\n",
    "        metabolites_to_add[cobra.Metabolite(compound_abbreviation, name = compound['name'], compartment = compartment_string)] = stoich\n",
    "        \n",
    "    cobra_reaction.add_metabolites(metabolites_to_add)\n",
    "    cobra_reaction.reaction\n",
    "    \n",
    "    if direction == 'reversible':\n",
    "        cobra_reaction.lower_bound = -1000\n",
    "    elif direction == 'backward':\n",
    "        cobra_reaction.lower_bound = -1000\n",
    "        cobra_reaction.upper_bound = 0\n",
    "\n",
    "    model.add_reactions([cobra_reaction])\n",
    "\n",
    "\n",
    "add_ms_reaction(model, 'rxn00002', modelseed, direction = 'backward')\n",
    "for reaction in model.reactions:\n",
    "    print(reaction)"
   ]
  },
  {
   "cell_type": "markdown",
   "metadata": {},
   "source": [
    "### Formatting guide to the data "
   ]
  },
  {
   "cell_type": "code",
   "execution_count": 17,
   "metadata": {},
   "outputs": [
    {
     "data": {
      "text/plain": [
       "'reaction stoichiometry:'"
      ]
     },
     "metadata": {},
     "output_type": "display_data"
    },
    {
     "data": {
      "text/plain": [
       "{('cpd00001', '0'): -1.0,\n",
       " ('cpd00067', '0'): -3.0,\n",
       " ('cpd00742', '0'): -1.0,\n",
       " ('cpd00011', '0'): 2.0,\n",
       " ('cpd00013', '0'): 2.0}"
      ]
     },
     "metadata": {},
     "output_type": "display_data"
    },
    {
     "name": "stdout",
     "output_type": "stream",
     "text": [
      "\n",
      "\n"
     ]
    },
    {
     "data": {
      "text/plain": [
       "'metabolite data:'"
      ]
     },
     "metadata": {},
     "output_type": "display_data"
    },
    {
     "data": {
      "text/plain": [
       "{'id': 'cpd00013',\n",
       " 'abbreviation': 'nh4',\n",
       " 'name': 'NH3',\n",
       " 'formula': 'H4N',\n",
       " 'mass': '18.0',\n",
       " 'source': 'Primary Database',\n",
       " 'inchikey': 'QGZKDVFQNNGYKY-UHFFFAOYSA-O',\n",
       " 'charge': 1,\n",
       " 'is_core': 1,\n",
       " 'is_obsolete': 0,\n",
       " 'linked_compound': 'cpd19013',\n",
       " 'is_cofactor': 0,\n",
       " 'deltag': 19.05,\n",
       " 'deltagerr': 0.26,\n",
       " 'pka': nan,\n",
       " 'pkb': '1:1:8.86',\n",
       " 'abstract_compound': nan,\n",
       " 'comprised_of': nan,\n",
       " 'aliases': 'Name: Ammonia; Ammonia ion; Ammonium; Ammonium(1+); NH3; NH4+; NH4plus; ammonia; ammonium|AraCyc: AMMONIA; AMMONIUM|BiGG: nh3; nh4|BrachyCyc: AMMONIA; AMMONIUM|KEGG: C00014; C01342|MetaCyc: AMMONIA; AMMONIUM',\n",
       " 'smiles': '[NH4+]'}"
      ]
     },
     "metadata": {},
     "output_type": "display_data"
    },
    {
     "name": "stdout",
     "output_type": "stream",
     "text": [
      "\n",
      "\n"
     ]
    },
    {
     "data": {
      "text/plain": [
       "'reaction data:'"
      ]
     },
     "metadata": {},
     "output_type": "display_data"
    },
    {
     "data": {
      "text/plain": [
       "{'id': 'rxn00002',\n",
       " 'abbreviation': 'R00005',\n",
       " 'name': 'urea-1-carboxylate amidohydrolase',\n",
       " 'code': '(1) cpd00001[0] + (1) cpd00742[0] <=> (2) cpd00011[0] + (2) cpd00013[0]',\n",
       " 'stoichiometry': '-1:cpd00001:0:0:\"H2O\";-3:cpd00067:0:0:\"H+\";-1:cpd00742:0:0:\"Allophanate\";2:cpd00011:0:0:\"CO2\";2:cpd00013:0:0:\"NH3\"',\n",
       " 'is_transport': 0,\n",
       " 'equation': '(1) cpd00001[0] + (3) cpd00067[0] + (1) cpd00742[0] => (2) cpd00011[0] + (2) cpd00013[0]',\n",
       " 'definition': '(1) H2O[0] + (3) H+[0] + (1) Allophanate[0] => (2) CO2[0] + (2) NH3[0]',\n",
       " 'reversibility': '>',\n",
       " 'direction': '>',\n",
       " 'abstract_reaction': nan,\n",
       " 'pathways': 'MetaCyc: ALLANTOINDEG-PWY (superpathway of allantoin degradation in yeast); AMINE-DEG (Amine and Polyamine Degradation); AROMATIC-COMPOUNDS-DEGRADATION (Aromatic Compound Degradation); Allantoin-degradation (Allantoin Degradation); Atrazine-Degradation (Atrazine Degradation); Degradation (Degradation/Utilization/Assimilation); PWY-5169 (cyanurate degradation); PWY-5703 (urea degradation I); PWY-5724 (superpathway of atrazine degradation); Urea-Degradation (Urea Degradation); s-Triazine-Degradation (<i>s</i>-Triazine Degredation)|KEGG: rn00330 (Arginine and proline metabolism); rn00791 (Atrazine degradation)',\n",
       " 'aliases': 'AraCyc: ALLOPHANATE-HYDROLASE-RXN|BiGG: ALPHNH; DUR1_2|ChlamyCyc: ALLOPHANATE-HYDROLASE-RXN|KEGG: R00005|MetaCyc: ALLOPHANATE-HYDROLASE-RXN|Name: Allophanate hydrolase; AtzF; TrzF; Urea-1-carboxylate amidohydrolase; allophanate hydrolase; allophanate lyase; urea-1-carboxylate amidohydrolase',\n",
       " 'ec_numbers': '3.5.1.54',\n",
       " 'deltag': -20.14,\n",
       " 'deltagerr': 1.86,\n",
       " 'compound_ids': 'cpd00001;cpd00011;cpd00013;cpd00067;cpd00742',\n",
       " 'status': 'OK',\n",
       " 'is_obsolete': 0,\n",
       " 'linked_reaction': 'rxn30346;rxn35525',\n",
       " 'notes': 'GCC|EQC|EQU',\n",
       " 'source': 'Primary Database'}"
      ]
     },
     "metadata": {},
     "output_type": "display_data"
    },
    {
     "data": {
      "text/plain": [
       "'for metabolite in model.metabolites:\\n    print(metabolite)'"
      ]
     },
     "execution_count": 17,
     "metadata": {},
     "output_type": "execute_result"
    }
   ],
   "source": [
    "modelseed_reaction = modelseed.get_seed_reaction('rxn00002')\n",
    "modelseed_metabolite = modelseed.get_seed_compound('cpd00013')\n",
    "display('reaction stoichiometry:', modelseed_reaction.cstoichiometry)\n",
    "print('\\n')\n",
    "display('metabolite data:', modelseed_metabolite.data)\n",
    "print('\\n')\n",
    "display('reaction data:', modelseed_reaction.data)\n",
    "'''for metabolite in model.metabolites:\n",
    "    print(metabolite)'''"
   ]
  },
  {
   "cell_type": "markdown",
   "metadata": {},
   "source": [
    "# Brainstorming "
   ]
  },
  {
   "cell_type": "code",
   "execution_count": 53,
   "metadata": {},
   "outputs": [],
   "source": [
    "import modelseedpy\n",
    "import cobra\n",
    "import re\n",
    "import os\n",
    "\n",
    "modelseed_path = '..\\..\\..\\Biofilm growth code\\GSWL code\\ModelSEEDDatabase'\n",
    "'''if os.path.exists(modelseed_path):\n",
    "    print('yes')'''\n",
    "\n",
    "\n",
    "model = cobra.io.load_json_model('.\\e_coli_core metabolism from BiGG.json')\n",
    "metabolites = []\n",
    "for metabolite in model.metabolites:\n",
    "    metabolites.append(metabolite)\n",
    "\n",
    "modelseed = modelseedpy.biochem.from_local(modelseed_path)\n",
    "\n",
    "def add_ms_reaction(model,rxn_id,compartments,modelseed):\n",
    "    ''' Add a reaction with ModelSEED parameters to the FBA simulation\n",
    "    \"model\" (COBRA object): The metabolic model that is defined by COBRApy\n",
    "    \"rxn_id\" (Python object, string): The ModelSEED reaction id that will be added to the model\n",
    "    \"compartments\" (Python object, list): The biological locations of the metabolites that comprise the reaction that will be added\n",
    "    \"modelseed\" (ModelSEED object): The ModelSEED database that describes the reaction and metabolites of the argument    \n",
    "    '''\n",
    "    modelseed_reaction = modelseed.get_seed_reaction(rxn_id)\n",
    "    reaction_stoich = modelseed_reaction.cstoichiometry\n",
    "    cobra_reaction = cobra.Reaction(rxn_id)\n",
    "    \n",
    "    for key, value in modelseed_reaction.items():\n",
    "        if key == 'name':\n",
    "            cobra_reaction.name = value\n",
    "        \n",
    "    metabolites_to_add = {}\n",
    "    for metabolite, stoich in reaction_stoich.items():\n",
    "        id = metabolite[0]\n",
    "        compound = modelseed.get_seed_compound(id).data\n",
    "        abbreviation = compound['abbreviation']\n",
    "        compartment = metabolite[1]\n",
    "        \n",
    "        \n",
    "        if abbreviation not in metabolites:\n",
    "            metabolites_to_add[cobra.Metabolite(abbreviation, name = compound['name'], compartment = compartment)] = stoich\n",
    "            \n",
    "            \n",
    "    cobra_reaction.add_metabolites({metabolites_to_add})\n",
    "    cobra_reaction.reaction\n",
    "    model.add_reactions([cobra_reaction])\n",
    "\n",
    "add_ms_reaction(model, rxn_id = 'rxn00002', modelseed)"
   ]
  },
  {
   "cell_type": "code",
   "execution_count": null,
   "metadata": {},
   "outputs": [],
   "source": [
    "#dir(modelseedpy)\n",
    "metabolites = []\n",
    "for metabolite in model.metabolites:\n",
    "    metabolites.append(metabolite.id)\n",
    "    \n",
    "rxn_id = 'rxn00002'\n",
    "modelseed_reaction = modelseed.get_seed_reaction(rxn_id)\n",
    "reaction_stoich = modelseed_reaction.cstoichiometry\n",
    "cobra_reaction = cobra.Reaction(rxn_id)\n",
    "\n",
    "for key, value in modelseed_reaction.data.items():\n",
    "    if key == 'name':\n",
    "        cobra_reaction.name = value\n",
    "\n",
    "metabolites_to_add = {}\n",
    "for metabolite, stoich in reaction_stoich.items():\n",
    "    id = metabolite[0]\n",
    "    compound = modelseed.get_seed_compound(id).data\n",
    "    abbreviation = compound['abbreviation']\n",
    "    compartment = metabolite[1]\n",
    "\n",
    "    \n",
    "    if abbreviation not in metabolites:\n",
    "        metabolites_to_add[cobra.Metabolite(abbreviation, name = compound['name'], compartment = compartment)] = stoich\n",
    "\n",
    "#print(metabolites_to_add)\n",
    "\n",
    "cobra_reaction.add_metabolites(metabolites_to_add)\n",
    "cobra_reaction.reaction\n",
    "#print(cobra_reaction)\n",
    "model.add_reactions([cobra_reaction])\n",
    "#dir(model.reactions)\n",
    "for reaction in model.reactions:\n",
    "    print(reaction)"
   ]
  },
  {
   "cell_type": "code",
   "execution_count": null,
   "metadata": {},
   "outputs": [],
   "source": [
    "#?modelseedpy.MSGenome\n",
    "metabolites = []\n",
    "for metabolite in model.metabolites:\n",
    "    metabolites.append(metabolite.id)\n",
    "    \n",
    "print(metabolites)\n",
    "\n",
    "#dir(metabolite)\n",
    "#print(metabolite.name)"
   ]
  },
  {
   "cell_type": "code",
   "execution_count": null,
   "metadata": {},
   "outputs": [],
   "source": [
    "import cobra\n",
    "\n",
    "model = cobra.io.load_json_model('.\\e_coli_core metabolism from BiGG.json')\n",
    "\n",
    "# generation of a sample reaction in COBRApy\n",
    "reaction = cobra.Reaction('RXN01')\n",
    "reaction.name = 'test name'\n",
    "reaction.lower_bound = 10\n",
    "reaction.upper_bound = 1000\n",
    "\n",
    "reaction.add_metabolites({\n",
    "    cobra.Metabolite('no1_c', formula = 'C2O2', name = 'metabolite 1', compartment = 'c'): 3,\n",
    "    cobra.Metabolite('no2_c', formula = 'C2OH4', name = 'metabolite 2', compartment = 'c'): 2,\n",
    "    cobra.Metabolite('no3_e', formula = 'C2H4', name = 'metabolite 3', compartment = 'e'): -2,\n",
    "    cobra.Metabolite('no4_e', formula = 'C2H6', name = 'metabolite 4', compartment = 'e'): -3\n",
    "})\n",
    "reaction.reaction\n",
    "#print(reaction)\n",
    "#print(reaction.name)\n",
    "\n",
    "# add the reaction to the model\n",
    "model.add_reactions([reaction])\n",
    "\n",
    "for reaction in model.reactions:\n",
    "    print(reaction)"
   ]
  },
  {
   "cell_type": "code",
   "execution_count": null,
   "metadata": {},
   "outputs": [],
   "source": [
    "import modelseedpy\n",
    "import cobra\n",
    "import re\n",
    "\n",
    "modelseed_path = '..\\..\\..\\Biofilm growth code\\GSWL code\\ModelSEEDDatabase'\n",
    "model = cobra.io.load_json_model('.\\e_coli_core metabolism from BiGG.json')\n",
    "modelseed = modelseedpy.biochem.from_local(modelseed_path)\n",
    "modelseed_reaction = modelseed.get_seed_reaction(rxn_id)\n",
    "cobra_reaction = cobra.Reaction(rxn_id)\n",
    "\n",
    "for key, value in modelseed_reaction.items():\n",
    "    if key == 'name':\n",
    "        cobra_reaction.name = value\n",
    "    elif key == 'code':\n",
    "        reaction_split = reaction.split(' <=> ')\n",
    "        reactants_list = reaction_split[0].split(' + ')\n",
    "        products_list = reaction_split[1].split(' + ')\n",
    "\n",
    "        reactants = []\n",
    "        for element in reactants_list:\n",
    "            #print(element)\n",
    "            element = element.strip()\n",
    "            if re.search('(\\d\\s|\\d\\/\\d\\s)', element):\n",
    "                coefficient = re.compile('(\\d\\s|\\d\\/\\d\\s)')\n",
    "                coefficient = coefficient.findall(element)[0]\n",
    "            else:\n",
    "                coefficient = ''\n",
    "\n",
    "            element = re.sub('(\\d\\s|\\d\\/\\d\\s)', '', element)\n",
    "            if element in nist_compounds.keys():\n",
    "                reactants.append(coefficient + nist_compounds[element]['ModelSEED ID'])\n",
    "\n",
    "            else:\n",
    "                reactants.append(element)\n",
    "\n",
    "        products = []\n",
    "        for element in products_list:\n",
    "            #print(element)\n",
    "            element = element.strip()\n",
    "            if re.search('(\\d\\s|\\d\\/\\d\\s)', element):\n",
    "                coefficient = re.compile('(\\d\\s|\\d\\/\\d\\s)')\n",
    "                coefficient = coefficient.findall(element)[0]\n",
    "            else:\n",
    "                coefficient = ''\n",
    "\n",
    "            element = re.sub('(\\d\\s|\\d\\/\\d\\s)', '', element)\n",
    "            if element in nist_compounds.keys():\n",
    "                products.append(coefficient + nist_compounds[element]['ModelSEED ID'])\n",
    "\n",
    "            else:\n",
    "                products.append(element)\n",
    "\n",
    "        reaction_string = value.split\n",
    "\n",
    "        ('^( \\d|\\()', reaction_string):\n",
    "            reaction_string = '(1) ' + reaction_string\n",
    "\n",
    "\n",
    "#add_ms_reaction(model, rxn_id = 'rxn00002', , modelseed)"
   ]
  },
  {
   "cell_type": "code",
   "execution_count": 8,
   "metadata": {},
   "outputs": [
    {
     "name": "stdout",
     "output_type": "stream",
     "text": [
      "urea-1-carboxylate amidohydrolase\n",
      "urea-1-carboxylate amidohydrolase\n"
     ]
    }
   ],
   "source": [
    "import modelseedpy\n",
    "from modelseedpy.biochem import from_local\n",
    "import cobra\n",
    "import re\n",
    "import os\n",
    "\n",
    "modelseed_path = '..\\..\\..\\Biofilm growth code\\GSWL code\\ModelSEEDDatabase'\n",
    "bigg_model_path = '.\\e_coli_core metabolism from BiGG.json'\n",
    "'''if os.path.exists(modelseed_path):\n",
    "    print('yes')'''\n",
    "\n",
    "\n",
    "model = cobra.io.load_json_model(bigg_model_path)\n",
    "metabolites = []\n",
    "for metabolite in model.metabolites:\n",
    "    metabolites.append(metabolite.id)\n",
    "\n",
    "modelseed = from_local(modelseed_path)\n",
    "original_name = modelseed.get_seed_reaction('rxn00002').data['name'] \n",
    "\n",
    "def add_ms_reaction(model,rxn_id,modelseed):\n",
    "    modelseed_reaction = modelseed.get_seed_reaction(rxn_id)\n",
    "    reaction_stoich = modelseed_reaction.cstoichiometry\n",
    "    cobra_reaction = cobra.Reaction(rxn_id)\n",
    "    \n",
    "    '''for key, value in modelseed_reaction.data.items():\n",
    "        if key == 'name':\n",
    "            cobra_reaction.name = value'''\n",
    "\n",
    "    cobra_reaction.name = modelseed_reaction.data['name'] #.value\n",
    "\n",
    "    print(cobra_reaction.name)\n",
    "        \n",
    "add_ms_reaction(model, 'rxn00002', modelseed)\n",
    "\n",
    "# evaluate the reaction names between ModelSEED and COBRA\n",
    "print(original_name)\n",
    "\n",
    "model.reaction.Reaction(rxn_id)"
   ]
  },
  {
   "cell_type": "code",
   "execution_count": 24,
   "metadata": {},
   "outputs": [
    {
     "name": "stdout",
     "output_type": "stream",
     "text": [
      "1000.0\n",
      "0.0\n"
     ]
    }
   ],
   "source": [
    "import cobra\n",
    "import re\n",
    "import os\n",
    "\n",
    "bigg_model_path = '.\\e_coli_core metabolism from BiGG.json'\n",
    "model = cobra.io.load_json_model(bigg_model_path)\n",
    "\n",
    "'''for reaction in model.reactions:\n",
    "    print(reaction)'''\n",
    "\n",
    "#dir(reaction)\n",
    "    \n",
    "reaction_name = model.reactions.get_by_id('PFK')\n",
    "print(reaction_name.upper_bound)\n",
    "print(reaction_name.lower_bound)\n",
    "#dir(reaction_name)"
   ]
  }
 ],
 "metadata": {
  "kernelspec": {
   "display_name": "Python 3",
   "language": "python",
   "name": "python3"
  },
  "language_info": {
   "codemirror_mode": {
    "name": "ipython",
    "version": 3
   },
   "file_extension": ".py",
   "mimetype": "text/x-python",
   "name": "python",
   "nbconvert_exporter": "python",
   "pygments_lexer": "ipython3",
   "version": "3.7.4"
  }
 },
 "nbformat": 4,
 "nbformat_minor": 2
}
