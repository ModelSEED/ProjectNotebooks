{
 "cells": [
  {
   "cell_type": "code",
   "execution_count": 1,
   "metadata": {},
   "outputs": [
    {
     "ename": "ModuleNotFoundError",
     "evalue": "No module named 'cobrakbase'",
     "output_type": "error",
     "traceback": [
      "\u001b[0;31m---------------------------------------------------------------------------\u001b[0m",
      "\u001b[0;31mModuleNotFoundError\u001b[0m                       Traceback (most recent call last)",
      "\u001b[0;32m<ipython-input-1-553f8ab93df6>\u001b[0m in \u001b[0;36m<module>\u001b[0;34m\u001b[0m\n\u001b[1;32m      3\u001b[0m \u001b[0;31m#If you have CPLEX, uncomment this\u001b[0m\u001b[0;34m\u001b[0m\u001b[0;34m\u001b[0m\u001b[0;34m\u001b[0m\u001b[0m\n\u001b[1;32m      4\u001b[0m \u001b[0;32mimport\u001b[0m \u001b[0mcplex\u001b[0m\u001b[0;34m\u001b[0m\u001b[0;34m\u001b[0m\u001b[0m\n\u001b[0;32m----> 5\u001b[0;31m \u001b[0;32mimport\u001b[0m \u001b[0mcobrakbase\u001b[0m\u001b[0;34m\u001b[0m\u001b[0;34m\u001b[0m\u001b[0m\n\u001b[0m\u001b[1;32m      6\u001b[0m \u001b[0;31m#Put the path to ModelSEEDpy on your machine here\u001b[0m\u001b[0;34m\u001b[0m\u001b[0;34m\u001b[0m\u001b[0;34m\u001b[0m\u001b[0m\n\u001b[1;32m      7\u001b[0m \u001b[0msys\u001b[0m\u001b[0;34m.\u001b[0m\u001b[0mpath\u001b[0m\u001b[0;34m.\u001b[0m\u001b[0mappend\u001b[0m\u001b[0;34m(\u001b[0m\u001b[0;34m\"/Users/chenry/code/ModelSEEDpy\"\u001b[0m\u001b[0;34m)\u001b[0m\u001b[0;34m\u001b[0m\u001b[0;34m\u001b[0m\u001b[0m\n",
      "\u001b[0;31mModuleNotFoundError\u001b[0m: No module named 'cobrakbase'"
     ]
    }
   ],
   "source": [
    "import sys, inspect\n",
    "import cobra\n",
    "#If you have CPLEX, uncomment this\n",
    "import cplex\n",
    "import cobrakbase\n",
    "#Put the path to ModelSEEDpy on your machine here\n",
    "sys.path.append(\"/Users/chenry/code/ModelSEEDpy\")\n",
    "from modelseedpy import MSPackageManager, FBAHelper, MSBuilder"
   ]
  },
  {
   "cell_type": "code",
   "execution_count": null,
   "metadata": {},
   "outputs": [],
   "source": [
    "kbase_api = cobrakbase.KBaseAPI()\n",
    "model = kbase_api.get_from_ws(\"Hot_Lake_seven.mdl\",93544)\n",
    "#If you have CPLEX, uncomment this\n",
    "model.solver = 'optlang-cplex'\n",
    "template = kbase_api.get_from_ws(\"GramNegModelTemplateV3\",\"NewKBaseModelTemplates\")\n",
    "media = kbase_api.get_from_ws(\"HotLakeMedia\",93544)\n",
    "model = MSBuilder.gapfill_model(model,\"bio1\",template,None)\n",
    "#Getting package manager to create and track community model packages\n",
    "FBAHelper.set_objective_from_target_reaction(model,\"bio1\")\n",
    "pkgmgr = MSPackageManager.get_pkg_mgr(model)\n",
    "pkgmgr.getpkg(\"KBaseMediaPkg\").build_package(None)\n",
    "pkgmgr.getpkg(\"CommKineticPkg\").build_package(2100,None,True)\n",
    "with open('CommunityFBA.lp', 'w') as out:\n",
    "    out.write(str(model.solver))\n",
    "for i in range(1,8,1):\n",
    "    FBAHelper.set_objective_from_target_reaction(model,\"DM_cpd11416_c\"+str(i))\n",
    "    sol=model.optimize()\n",
    "    print(str(i)+\":\"+str(sol.objective_value))"
   ]
  },
  {
   "cell_type": "code",
   "execution_count": null,
   "metadata": {},
   "outputs": [],
   "source": []
  }
 ],
 "metadata": {
  "kernelspec": {
   "display_name": "Python 3",
   "language": "python",
   "name": "python3"
  },
  "language_info": {
   "codemirror_mode": {
    "name": "ipython",
    "version": 3
   },
   "file_extension": ".py",
   "mimetype": "text/x-python",
   "name": "python",
   "nbconvert_exporter": "python",
   "pygments_lexer": "ipython3",
   "version": "3.7.6"
  }
 },
 "nbformat": 4,
 "nbformat_minor": 4
}
