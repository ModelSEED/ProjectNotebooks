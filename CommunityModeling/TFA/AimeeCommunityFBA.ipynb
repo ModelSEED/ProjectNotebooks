{
 "cells": [
  {
   "cell_type": "code",
   "execution_count": 1,
   "metadata": {},
   "outputs": [
    {
     "name": "stdout",
     "output_type": "stream",
     "text": [
      "cobrakbase 0.2.7\n"
     ]
    }
   ],
   "source": [
    "import cobra\n",
    "from cobra import Model, Reaction, Metabolite\n",
    "import pandas as pd\n",
    "import cplex\n",
    "import optlang\n",
    "import math\n",
    "import json\n",
    "import sys\n",
    "import cProfile\n",
    "from optlang.symbolics import Zero, add\n",
    "import cobra.util.solver as sutil\n",
    "from cobra.flux_analysis.parsimonious import pfba\n",
    "from IPython.core.display import HTML\n",
    "import cobrakbase\n",
    "sys.path.append(\"/Users/chenry/code/ModelSEEDpy\")\n",
    "#import modelseedpy.fbapkg\n",
    "from modelseedpy import ElementUptakePkg, SimpleThermoPkg, ReactionUsePkg, BilevelPkg, CommKineticPkg,KBaseMediaPkg\n"
   ]
  },
  {
   "cell_type": "code",
   "execution_count": 2,
   "metadata": {},
   "outputs": [
    {
     "name": "stdout",
     "output_type": "stream",
     "text": [
      "Warning:Community biomass reaction is being altered with input abundances\n"
     ]
    },
    {
     "data": {
      "text/html": [
       "<div>\n",
       "<style scoped>\n",
       "    .dataframe tbody tr th:only-of-type {\n",
       "        vertical-align: middle;\n",
       "    }\n",
       "\n",
       "    .dataframe tbody tr th {\n",
       "        vertical-align: top;\n",
       "    }\n",
       "\n",
       "    .dataframe thead tr th {\n",
       "        text-align: left;\n",
       "    }\n",
       "</style>\n",
       "<table border=\"1\" class=\"dataframe\">\n",
       "  <thead>\n",
       "    <tr>\n",
       "      <th></th>\n",
       "      <th colspan=\"2\" halign=\"left\">IN_FLUXES</th>\n",
       "      <th colspan=\"2\" halign=\"left\">OUT_FLUXES</th>\n",
       "      <th colspan=\"2\" halign=\"left\">OBJECTIVES</th>\n",
       "    </tr>\n",
       "    <tr>\n",
       "      <th></th>\n",
       "      <th>ID</th>\n",
       "      <th>FLUX</th>\n",
       "      <th>ID</th>\n",
       "      <th>FLUX</th>\n",
       "      <th>ID</th>\n",
       "      <th>FLUX</th>\n",
       "    </tr>\n",
       "  </thead>\n",
       "  <tbody>\n",
       "    <tr>\n",
       "      <th>0</th>\n",
       "      <td>cpd00067_e0</td>\n",
       "      <td>100.000000</td>\n",
       "      <td>cpd00001_e0</td>\n",
       "      <td>100.000000</td>\n",
       "      <td>bio1</td>\n",
       "      <td>3.653218</td>\n",
       "    </tr>\n",
       "    <tr>\n",
       "      <th>1</th>\n",
       "      <td>cpd00209_e0</td>\n",
       "      <td>100.000000</td>\n",
       "      <td>cpd00075_e0</td>\n",
       "      <td>100.000000</td>\n",
       "      <td>NaN</td>\n",
       "      <td>NaN</td>\n",
       "    </tr>\n",
       "    <tr>\n",
       "      <th>2</th>\n",
       "      <td>cpd00033_e0</td>\n",
       "      <td>11.465399</td>\n",
       "      <td>cpd00009_e0</td>\n",
       "      <td>79.464829</td>\n",
       "      <td>NaN</td>\n",
       "      <td>NaN</td>\n",
       "    </tr>\n",
       "    <tr>\n",
       "      <th>3</th>\n",
       "      <td>cpd00013_e0</td>\n",
       "      <td>10.839234</td>\n",
       "      <td>cpd00047_e0</td>\n",
       "      <td>78.981183</td>\n",
       "      <td>NaN</td>\n",
       "      <td>NaN</td>\n",
       "    </tr>\n",
       "    <tr>\n",
       "      <th>4</th>\n",
       "      <td>cpd00107_e0</td>\n",
       "      <td>1.371377</td>\n",
       "      <td>cpd11416_c0</td>\n",
       "      <td>3.653218</td>\n",
       "      <td>NaN</td>\n",
       "      <td>NaN</td>\n",
       "    </tr>\n",
       "  </tbody>\n",
       "</table>\n",
       "</div>"
      ],
      "text/plain": [
       "<cobra.core.summary.model_summary.ModelSummary at 0x7fdc6e499c90>"
      ]
     },
     "execution_count": 2,
     "metadata": {},
     "output_type": "execute_result"
    }
   ],
   "source": [
    "kbase_api = cobrakbase.KBaseAPI()\n",
    "model = kbase_api.get_from_ws(\"Cjaponicus_Ecoli_Community\",92637)\n",
    "model.solver = 'optlang-cplex'\n",
    "\n",
    "#Applying uptake limit to total carbon uptake by model\n",
    "eup = ElementUptakePkg(model)\n",
    "eup.build_package({\"C\":60})\n",
    "#Applying constraints based on KBase media\n",
    "media = kbase_api.get_from_ws(\"GlucoseM9Media\",91858)\n",
    "kmp = KBaseMediaPkg(model)\n",
    "kmp.build_package(None)\n",
    "#Applying community model kinetic constraints\n",
    "ckp = CommKineticPkg(model)\n",
    "ckp.build_package(2100,{\"1\":0.9,\"2\":0.1})\n",
    "\n",
    "biomass_objective = model.problem.Objective(\n",
    "    1 * model.reactions.bio1.flux_expression,\n",
    "    direction='max')\n",
    "model.objective = biomass_objective\n",
    "\n",
    "with open('/Users/chenry/code/ChrisJupyter/CommunityModeling/data/CommunityFBA.lp', 'w') as out:\n",
    "    out.write(str(model.solver))\n",
    "    \n",
    "sol=model.optimize()\n",
    "model.summary()"
   ]
  },
  {
   "cell_type": "code",
   "execution_count": null,
   "metadata": {},
   "outputs": [],
   "source": []
  }
 ],
 "metadata": {
  "kernelspec": {
   "display_name": "Python 3",
   "language": "python",
   "name": "python3"
  },
  "language_info": {
   "codemirror_mode": {
    "name": "ipython",
    "version": 3
   },
   "file_extension": ".py",
   "mimetype": "text/x-python",
   "name": "python",
   "nbconvert_exporter": "python",
   "pygments_lexer": "ipython3",
   "version": "3.7.6"
  }
 },
 "nbformat": 4,
 "nbformat_minor": 4
}
