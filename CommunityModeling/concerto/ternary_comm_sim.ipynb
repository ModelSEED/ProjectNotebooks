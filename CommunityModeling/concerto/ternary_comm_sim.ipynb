{
 "cells": [
  {
   "cell_type": "code",
   "execution_count": null,
   "id": "3b52b07e-bfc7-4966-adb1-a81ab795ec6b",
   "metadata": {},
   "outputs": [],
   "source": [
    "\n",
    "\n",
    "GCF_000012525 = kbase.get_from_ws(\"139180/30/1\")\n",
    "GCF_000021045 = kbase.get_from_ws(\"139180/28/1\")\n",
    "Rhodosporidium_toruloides_IFO0880_4 = kbase.get_from_ws(\"139180/29/1\")"
   ]
  }
 ],
 "metadata": {
  "kernelspec": {
   "display_name": "Python 3 (ipykernel)",
   "language": "python",
   "name": "python3"
  },
  "language_info": {
   "codemirror_mode": {
    "name": "ipython",
    "version": 3
   },
   "file_extension": ".py",
   "mimetype": "text/x-python",
   "name": "python",
   "nbconvert_exporter": "python",
   "pygments_lexer": "ipython3",
   "version": "3.9.12"
  }
 },
 "nbformat": 4,
 "nbformat_minor": 5
}
