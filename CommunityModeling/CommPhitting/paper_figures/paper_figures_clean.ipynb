{
 "cells": [
  {
   "cell_type": "markdown",
   "id": "de4cbdc5-04e8-426b-b147-7c175e476b42",
   "metadata": {},
   "source": [
    "### General code"
   ]
  },
  {
   "cell_type": "code",
   "execution_count": 1,
   "id": "0b2b6da7-c646-4227-bbe5-71c604ea0029",
   "metadata": {
    "tags": []
   },
   "outputs": [],
   "source": [
    "# import the models\n",
    "from cobra.io import load_json_model\n",
    "ecoli = load_json_model(\"../ecoli.json\")\n",
    "pf = load_json_model(\"../pf.json\")\n",
    "# print(ecoli.optimize())\n",
    "# print(pf.optimize())\n",
    "    \n",
    "# load peripheral packages\n",
    "import warnings\n",
    "warnings.filterwarnings(action='once')\n",
    "from pandas import set_option\n",
    "set_option(\"display.max_rows\", None)\n",
    "from time import process_time"
   ]
  },
  {
   "cell_type": "code",
   "execution_count": 2,
   "id": "6edd2e4c-538e-4ea8-9c75-8bf6e9e5bf18",
   "metadata": {},
   "outputs": [],
   "source": [
    "# Define the standard graphs from each simulation\n",
    "graphs_list = [\n",
    "    {\n",
    "        'trial':'G48',\n",
    "        \"phenotype\": '*',\n",
    "        'content': 'biomass',\n",
    "        'experimental_data': False,\n",
    "        # \"parsed\":True\n",
    "    },\n",
    "    {\n",
    "        'trial':'G48',\n",
    "        'content': \"conc\",\n",
    "    },\n",
    "    {\n",
    "        'trial':'G48',\n",
    "        \"phenotype\": '*',\n",
    "        'content': 'biomass',\n",
    "        \"parsed\": True\n",
    "    },\n",
    "    {\n",
    "        'trial':'G48',\n",
    "        'content': 'total_biomass',\n",
    "        'experimental_data': True\n",
    "    }\n",
    "]\n",
    "\n",
    "def update_graphs(trial):\n",
    "    graphs = graphs_list.copy()\n",
    "    for graph in graphs:\n",
    "        graph[\"trial\"] = trial\n",
    "    return graphs"
   ]
  },
  {
   "cell_type": "markdown",
   "id": "18bb4663-e48c-46dc-9cab-a0a571d82ff7",
   "metadata": {},
   "source": [
    "#### Maltose & 4HB conditions"
   ]
  },
  {
   "cell_type": "code",
   "execution_count": 3,
   "id": "c4a30ca4-02a2-4680-a798-9f1c5cbfed99",
   "metadata": {},
   "outputs": [],
   "source": [
    "species_abundances = {\n",
    "    1:{\"ecoli\":0, \"pf\":1},\n",
    "    2:{\"ecoli\":1, \"pf\":50},\n",
    "    3:{\"ecoli\":1, \"pf\":20},\n",
    "    4:{\"ecoli\":1, \"pf\":10},\n",
    "    5:{\"ecoli\":1, \"pf\":3},\n",
    "    6:{\"ecoli\":1, \"pf\":1},\n",
    "    7:{\"ecoli\":3, \"pf\":1},\n",
    "    8:{\"ecoli\":10, \"pf\":1},\n",
    "    9:{\"ecoli\":20, \"pf\":1},\n",
    "    10:{\"ecoli\":1, \"pf\":0},\n",
    "    11:{\"ecoli\":0, \"pf\":0}\n",
    "}\n",
    "carbon_conc_series = {'rows': {\n",
    "    'cpd00136': {'B':0, 'C': 0, 'D': 1, 'E': 1, 'F': 4, 'G': 4},\n",
    "    'cpd00179': {'B':5, 'C': 5, 'D':5, 'E': 5, 'F': 5, 'G': 5},\n",
    "}}\n",
    "species_identities_rows = {\n",
    "    1:{\"ecoli\":\"mRuby\"},\n",
    "    2:{\"ecoli\":\"ACS\"},\n",
    "    3:{\"ecoli\":\"mRuby\"},\n",
    "    4:{\"ecoli\":\"ACS\"},\n",
    "    5:{\"ecoli\":\"mRuby\"},\n",
    "    6:{\"ecoli\":\"ACS\"}\n",
    "}"
   ]
  },
  {
   "cell_type": "markdown",
   "id": "29ca7d74-31d6-4344-87f9-838f1e5f39ee",
   "metadata": {},
   "source": [
    "# Maltose"
   ]
  },
  {
   "cell_type": "markdown",
   "id": "3f88b01e-eee3-4fef-8e1a-cb0a907aa32e",
   "metadata": {},
   "source": [
    "#### coculture"
   ]
  },
  {
   "cell_type": "markdown",
   "id": "26ad284b-1ba3-45ab-a71b-f4c16d047f86",
   "metadata": {
    "jp-MarkdownHeadingCollapsed": true,
    "tags": []
   },
   "source": [
    "##### All phenotypes"
   ]
  },
  {
   "cell_type": "code",
   "execution_count": null,
   "id": "07ff424f-1ede-4276-bb3f-652b0e5b2b35",
   "metadata": {
    "scrolled": true,
    "tags": []
   },
   "outputs": [
    {
     "name": "stderr",
     "output_type": "stream",
     "text": [
      "C:\\Users\\Andrew Freiburger\\Documents\\Argonne\\ProjectNotebooks\\CommunityModeling\\CommPhitting\\data\\standardized_data\\datastandardization.py:113: DeprecationWarning: invalid escape sequence \\_\n",
      "  met_id = re.sub('(\\_\\w\\d+)', '', met)\n"
     ]
    },
    {
     "name": "stdout",
     "output_type": "stream",
     "text": [
      "\n",
      " GCF_000005845.2.RAST.mdl\n"
     ]
    }
   ],
   "source": [
    "%%time \n",
    "\n",
    "%run ../data/standardized_data/datastandardization.py\n",
    "growth_data_path=\"../data/Jeffs_data/PF-EC 4-29-22 ratios and 4HB changes.xlsx\"\n",
    "experimental_metadata, growth_df, fluxes_df, standardized_carbon_conc, requisite_biomass, trial_name_conversion, data_timestep_hr, simulation_timestep, media_conc = GrowthData.process(\n",
    "    community_members = {\n",
    "        ecoli: {\n",
    "            'name': 'ecoli', \n",
    "            'excretions': {\n",
    "                \"cpd00179\":[\"cpd00029\"]} #kbase_api.get_from_ws(\"93465/23/1\")} #'93465/9/1')}   # !!! The phenotype name must align with the experimental IDs for the graphs to find the appropriate data\n",
    "                },\n",
    "        pf: {'name': 'pf'}\n",
    "    },\n",
    "    data_paths = {'path':growth_data_path, 'Raw OD(590)':'OD', 'mNeonGreen':'pf', 'mRuby':'ecoli'},\n",
    "    species_abundances = species_abundances,\n",
    "    carbon_conc_series = carbon_conc_series,\n",
    "    ignore_trials = {'rows': ['C', 'D', 'E', 'F', 'G'], 'columns': [1,2,3,4,5,6,8,9,10,11,12]},\n",
    "    species_identities_rows = species_identities_rows\n",
    ")"
   ]
  },
  {
   "cell_type": "code",
   "execution_count": null,
   "id": "83fabf9f-2f44-45c3-91b0-a37cf1c5c253",
   "metadata": {},
   "outputs": [],
   "source": [
    "print(list(ecoli.reactions.EX_cpd00007_e0.metabolites)[0].name)"
   ]
  },
  {
   "cell_type": "code",
   "execution_count": null,
   "id": "5b6b90b7-c6d6-4e08-b1cd-aeab312c48a9",
   "metadata": {
    "tags": []
   },
   "outputs": [],
   "source": [
    "# display(fluxes_df)\n",
    "# display(growth_df)\n",
    "# display(requisite_biomass)\n",
    "# display(experimental_metadata)\n",
    "# display(standardized_carbon_conc)"
   ]
  },
  {
   "cell_type": "code",
   "execution_count": null,
   "id": "a42ec626-9844-4ec6-8563-68fc987ef0a6",
   "metadata": {
    "scrolled": true,
    "tags": []
   },
   "outputs": [],
   "source": [
    "%run ../mscommphitting.py\n",
    "\n",
    "def _partition_coefs(initial_val, divisor):\n",
    "    return (initial_val, initial_val/divisor, initial_val/divisor**2, initial_val/divisor**3, initial_val/divisor**4)\n",
    "\n",
    "maltose_co = CommPhitting(fluxes_df, standardized_carbon_conc, media_conc, '../../../../ModelSEED/ModelSEEDDatabase', growth_df, experimental_metadata)\n",
    "maltose_co.define_problem(\n",
    "    parameters = {'cvmin': .1, 'bcv': 0.0001, \"stationary\": 5e-3},\n",
    "    mets_to_track = [\"cpd00179\",\"cpd00029\"],\n",
    "    rel_final_conc = {\"cpd00179\":0.1},\n",
    "    zero_start = [\"cpd00029\", \"cpd00136\"],\n",
    "    abs_final_conc = {\"cpd00029\":0}, # metabolomics data\n",
    "    export_zip_name = 'maltose_co.zip',\n",
    "    requisite_biomass = requisite_biomass,\n",
    "    biomass_coefs=_partition_coefs(1, 2),\n",
    "    export_lp = \"maltose_coculture.lp\"\n",
    ")"
   ]
  },
  {
   "cell_type": "code",
   "execution_count": null,
   "id": "bc4491c5-d193-40a4-b427-118435142dc7",
   "metadata": {},
   "outputs": [],
   "source": [
    "maltose_co.compute(update_graphs(\"G6\"), None, None, True, \"test_primals.json\")"
   ]
  },
  {
   "cell_type": "markdown",
   "id": "a8b40028-5fed-4709-879e-5e4cb7530de6",
   "metadata": {
    "tags": []
   },
   "source": [
    "##### Specified phenotypes"
   ]
  },
  {
   "cell_type": "code",
   "execution_count": 4,
   "id": "23f35fc7-7929-4b1a-b737-69783c87e0f4",
   "metadata": {},
   "outputs": [
    {
     "name": "stderr",
     "output_type": "stream",
     "text": [
      "C:\\Users\\Andrew Freiburger\\Documents\\Argonne\\ProjectNotebooks\\CommunityModeling\\CommPhitting\\data\\standardized_data\\datastandardization.py:113: DeprecationWarning: invalid escape sequence \\_\n",
      "  met_id = re.sub('(\\_\\w\\d+)', '', met)\n"
     ]
    },
    {
     "name": "stdout",
     "output_type": "stream",
     "text": [
      "\n",
      " GCF_000005845.2.RAST.mdl\n",
      "\n",
      " GCF_001612705.1.RAST.mdl\n",
      "The ['B2', 'B3', 'B4', 'B5', 'B6', 'B8', 'B9', 'B10', 'B11', 'B12', 'C2', 'C3', 'C4', 'C5', 'C6', 'C7', 'C8', 'C9', 'C10', 'C11', 'C12', 'D2', 'D3', 'D4', 'D5', 'D6', 'D7', 'D8', 'D9', 'D10', 'D11', 'D12', 'E2', 'E3', 'E4', 'E5', 'E6', 'E7', 'E8', 'E9', 'E10', 'E11', 'E12', 'F2', 'F3', 'F4', 'F5', 'F6', 'F7', 'F8', 'F9', 'F10', 'F11', 'F12', 'G2', 'G3', 'G4', 'G5', 'G6', 'G7', 'G8', 'G9', 'G10', 'G11', 'G12'] trials were dropped from the OD measurements per the ignore_trials parameter.\n",
      "The [97, 98, 99, 100, 101, 102, 103, 104, 105, 106, 107, 108, 109, 110, 111, 112, 113, 114, 115, 116, 117, 118, 119, 120, 121, 122, 123, 124, 125, 126, 127, 128, 129, 130, 131, 132, 133, 134, 135, 136, 137, 138, 139, 140, 141, 142, 143, 144, 145, 146, 147, 148, 149, 150, 151, 152, 153, 154, 155, 156, 157, 158, 159, 160, 161, 162, 163, 164, 165, 166] timesteps (with [1.12550559 1.12537038 1.12105398 1.11597471 1.11273534 1.12893569\n",
      " 1.13334937 1.13336892 1.13261206 1.13469994 1.13451431 1.1412154\n",
      " 1.13747089 1.14040539 1.13512778 1.1366647  1.13251641 1.12891541\n",
      " 1.12871509 1.12652118 1.12830436 1.12870405 1.12822223 1.12825241\n",
      " 1.12689397 1.12581186 1.12952745 1.13105857 1.12972603 1.12850997\n",
      " 1.12553604 1.12842066 1.12825847 1.12311258 1.12150259 1.1212322\n",
      " 1.12606108 1.12158203 1.12521286 1.1228796  1.12037091 1.12387054\n",
      " 1.12061977 1.11819227 1.12395394 1.11483426 1.11638546 1.11523802\n",
      " 1.11472123 1.11301212 1.11117041 1.10941336 1.11154408 1.11614559\n",
      " 1.11398163 1.11642125 1.13526216 1.16271524 1.20362146 1.13384137\n",
      " 1.183005   1.22879    1.17159843 1.19301329 1.15458782 1.17429979\n",
      " 1.1340086  1.18521185 1.16204958 1.12953258] values) were removed from the OD data since the OD plateaued and is no longer valid.\n",
      "The ['B2', 'B3', 'B4', 'B5', 'B6', 'B8', 'B9', 'B10', 'B11', 'B12', 'C2', 'C3', 'C4', 'C5', 'C6', 'C7', 'C8', 'C9', 'C10', 'C11', 'C12', 'D2', 'D3', 'D4', 'D5', 'D6', 'D7', 'D8', 'D9', 'D10', 'D11', 'D12', 'E2', 'E3', 'E4', 'E5', 'E6', 'E7', 'E8', 'E9', 'E10', 'E11', 'E12', 'F2', 'F3', 'F4', 'F5', 'F6', 'F7', 'F8', 'F9', 'F10', 'F11', 'F12', 'G2', 'G3', 'G4', 'G5', 'G6', 'G7', 'G8', 'G9', 'G10', 'G11', 'G12'] trials were dropped from the pf measurements per the ignore_trials parameter.\n",
      "The ['B2', 'B3', 'B4', 'B5', 'B6', 'B8', 'B9', 'B10', 'B11', 'B12', 'C2', 'C3', 'C4', 'C5', 'C6', 'C7', 'C8', 'C9', 'C10', 'C11', 'C12', 'D2', 'D3', 'D4', 'D5', 'D6', 'D7', 'D8', 'D9', 'D10', 'D11', 'D12', 'E2', 'E3', 'E4', 'E5', 'E6', 'E7', 'E8', 'E9', 'E10', 'E11', 'E12', 'F2', 'F3', 'F4', 'F5', 'F6', 'F7', 'F8', 'F9', 'F10', 'F11', 'F12', 'G2', 'G3', 'G4', 'G5', 'G6', 'G7', 'G8', 'G9', 'G10', 'G11', 'G12'] trials were dropped from the ecoli measurements per the ignore_trials parameter.\n",
      "CPU times: total: 8.58 s\n",
      "Wall time: 9.61 s\n"
     ]
    }
   ],
   "source": [
    "%%time \n",
    "\n",
    "%run ../data/standardized_data/datastandardization.py\n",
    "growth_data_path=\"../data/Jeffs_data/PF-EC 4-29-22 ratios and 4HB changes.xlsx\"\n",
    "experimental_metadata, growth_df, fluxes_df, standardized_carbon_conc, requisite_biomass, trial_name_conversion, data_timestep_hr, simulation_timestep, media_conc = GrowthData.process(\n",
    "    community_members = {\n",
    "        ecoli: {\n",
    "            'name': 'ecoli', \n",
    "            'phenotypes': {\n",
    "                'Maltose': {\"consumed\":[\"cpd00179\"],\n",
    "                         \"excreted\":[\"cpd00029\"]}, #kbase_api.get_from_ws(\"93465/23/1\")} #'93465/9/1')}   # !!! The phenotype name must align with the experimental IDs for the graphs to find the appropriate data\n",
    "                'Acetate': {\"consumed\":[\"cpd00029\"]}, #kbase_api.get_from_ws('93465/13/1'), \n",
    "                }\n",
    "        },\n",
    "        pf: {\n",
    "            'name': 'pf',\n",
    "            'phenotypes': {\n",
    "                'Acetate': {\"consumed\":[\"cpd00029\"]}, # kbase_api.get_from_ws(\"93465/25/1\"), #'93465/11/1'), \n",
    "                '4-Hydroxybenzoate': {\"consumed\":[\"cpd00136\"]} # kbase_api.get_from_ws('\t93465/27/1')} #93465/15/1')}\n",
    "                }\n",
    "        }\n",
    "    },\n",
    "    data_paths = {'path':growth_data_path, 'Raw OD(590)':'OD', 'mNeonGreen':'pf', 'mRuby':'ecoli'},\n",
    "    species_abundances = species_abundances,\n",
    "    carbon_conc_series = carbon_conc_series,\n",
    "    ignore_trials = {'rows': ['C', 'D', 'E', 'F', 'G'], 'columns': [1,2,3,4,5,6,8,9,10,11,12]},\n",
    "    species_identities_rows = species_identities_rows\n",
    ")"
   ]
  },
  {
   "cell_type": "code",
   "execution_count": null,
   "id": "dcb72e82-71ca-4925-a642-9d793e7a528a",
   "metadata": {
    "jupyter": {
     "source_hidden": true
    },
    "tags": []
   },
   "outputs": [],
   "source": [
    "%%time\n",
    "\n",
    "%run ../mscommphitting.py\n",
    "\n",
    "def _partition_coefs(initial_val, divisor):\n",
    "    return (initial_val, initial_val/divisor, initial_val/divisor**2, initial_val/divisor**3, initial_val/divisor**4)\n",
    "\n",
    "maltose_co = CommPhitting(fluxes_df, standardized_carbon_conc, media_conc, '../../../../ModelSEED/ModelSEEDDatabase', growth_df, experimental_metadata)\n",
    "maltose_co.define_problem(\n",
    "    parameters = {'cvmin': .1, 'bcv': 0.0001, \"stationary\": 5e-3},\n",
    "    mets_to_track = [\"cpd00179\",\"cpd00029\"],\n",
    "    rel_final_conc = {\"cpd00179\":0.1},\n",
    "    zero_start = [\"cpd00029\", \"cpd00136\"],\n",
    "    abs_final_conc = {\"cpd00029\":0}, # metabolomics data\n",
    "    export_zip_name = 'maltose_co.zip',\n",
    "    requisite_biomass = requisite_biomass,\n",
    "    biomass_coefs=_partition_coefs(1, 2),\n",
    "    export_lp = \"maltose_coculture_simple.lp\"\n",
    ")"
   ]
  },
  {
   "cell_type": "code",
   "execution_count": null,
   "id": "4028d079-f98d-4a56-8551-1ca96e7883d7",
   "metadata": {
    "jupyter": {
     "source_hidden": true
    },
    "scrolled": true,
    "tags": []
   },
   "outputs": [],
   "source": [
    "%%time \n",
    "\n",
    "maltose_co.compute(update_graphs(\"G6\"), None, None, True, \"test_primals_simple.json\")"
   ]
  },
  {
   "cell_type": "code",
   "execution_count": null,
   "id": "b008a9d8-f1a1-4ed8-9caa-a164f1b38bef",
   "metadata": {
    "jupyter": {
     "source_hidden": true
    },
    "tags": []
   },
   "outputs": [],
   "source": [
    "%run ../mscommphitting.py\n",
    "\n",
    "# define parameters\n",
    "data_timesteps: dict = None\n",
    "export_zip_name: str = None\n",
    "export_parameters: bool = True\n",
    "export_lp: str = f'solveKcat.lp'\n",
    "publishing=True\n",
    "primals_export_path=None\n",
    "\n",
    "parameters = {'cvmin': .1, 'bcv': 0.0001, \"stationary\": 5e-3}\n",
    "mets_to_track = [\"cpd00179\",\"cpd00029\"]\n",
    "rel_final_conc = {\"cpd00179\":0.1}\n",
    "zero_start = [\"cpd00029\", \"cpd00136\"]\n",
    "abs_final_conc = {\"cpd00029\":0} # metabolomics data\n",
    "graphs = update_graphs(\"G6\")\n",
    "export_zip_name = 'maltose_co.zip' \n",
    "requisite_biomass = requisite_biomass\n",
    "export_lp = \"maltose_coculture.lp\"\n",
    "\n",
    "\n",
    "biomass_partition_coefs = [_partition_coefs(100, 10), _partition_coefs(4, 2), _partition_coefs(1, 2)]\n",
    "kcat_primal = None\n",
    "\n",
    "def _partition_coefs(initial_val, divisor):\n",
    "    return (initial_val, initial_val/divisor, initial_val/divisor**2, initial_val/divisor**3, initial_val/divisor**4)\n",
    "\n",
    "    \n",
    "for index, coefs in enumerate(biomass_partition_coefs):\n",
    "    # solve for growth rate constants with the previously solved biomasses\n",
    "    new_simulation = CommPhitting(FBAHelper.parse_df(fluxes_df), standardized_carbon_conc, media_conc,\n",
    "                                  '../../../../ModelSEED/ModelSEEDDatabase', growth_df, experimental_metadata)\n",
    "    new_simulation.define_problem(\n",
    "        parameters, mets_to_track, rel_final_conc, zero_start, abs_final_conc,\n",
    "        data_timesteps, export_zip_name, export_parameters, export_lp, kcat_primal, coefs, requisite_biomass)\n",
    "    time1 = process_time()\n",
    "    primals_export_path = primals_export_path or re.sub(r\"(.lp)\", \".json\", export_lp)\n",
    "    new_simulation.compute(graphs, export_zip_name, None, publishing, primals_export_path)\n",
    "    kcat_primal = parse_primals(new_simulation.values, \"kcat\", coefs, new_simulation.parameters[\"kcat\"])\n",
    "    time2 = process_time()\n",
    "    print(f\"Done simulating with the coefficients for biomass partitions: {index}\"\n",
    "          f\"\\n{(time2-time1)/60} minutes\")\n",
    "    pprint(kcat_primal)\n",
    "return {k: val for k, val in new_simulation.values.items() if \"kcat\" in k}\n",
    "# maltose_co.compute(update_graphs(\"G6\"))\n",
    "\n",
    "# THIS RUN WAS TERMINATED AFTER 27250 SECONDS"
   ]
  },
  {
   "cell_type": "markdown",
   "id": "e8084061-86c8-4687-b423-1dcb2cec3b9b",
   "metadata": {},
   "source": [
    "### Solve for kinetics"
   ]
  },
  {
   "cell_type": "code",
   "execution_count": null,
   "id": "7fad8d77-b1d1-461a-b811-0c9b69997bc5",
   "metadata": {
    "scrolled": true,
    "tags": []
   },
   "outputs": [
    {
     "name": "stderr",
     "output_type": "stream",
     "text": [
      "C:\\Users\\Andrew Freiburger\\Documents\\Argonne\\ProjectNotebooks\\CommunityModeling\\CommPhitting\\mscommphitting.py:80: DeprecationWarning: invalid escape sequence \\_\n",
      "  met_id = re.sub('(\\_\\w\\d+)', '', met)\n"
     ]
    },
    {
     "name": "stdout",
     "output_type": "stream",
     "text": [
      "Done with concentrations and biomass loops: 0.016927083333333332 min\n",
      "Done with DCC loop: 0.0015625 min\n",
      "Done with the DBC & diffc loop: 0.003125 min\n",
      "Solver: <class 'optlang.glpk_interface.Model'>\n",
      "Done with loading the variables, constraints, and objective: 0.13984375 min\n",
      "Done exporting the content: 0.06432291666666666 min\n",
      "starting optimization\n",
      "maltose_co.zip\n",
      "graph_0\n",
      "{'content': 'biomass',\n",
      " 'experimental_data': False,\n",
      " 'painting': {'OD': {'color': 'blue',\n",
      "                     'linestyle': 'solid',\n",
      "                     'name': 'Total biomass'},\n",
      "              'ecoli': {'color': 'red',\n",
      "                        'linestyle': 'dashed',\n",
      "                        'name': 'E. coli'},\n",
      "              'pf': {'color': 'green',\n",
      "                     'linestyle': 'dotted',\n",
      "                     'name': 'P. fluorescens'}},\n",
      " 'parsed': False,\n",
      " 'phenotype': {'stationary', '4~Hydroxybenzoate', 'Maltose', 'Acetate'},\n",
      " 'species': ['OD', 'pf', 'ecoli'],\n",
      " 'trial': 'G6'}\n"
     ]
    },
    {
     "name": "stderr",
     "output_type": "stream",
     "text": [
      "C:\\Users\\Andrew Freiburger\\Documents\\Argonne\\ProjectNotebooks\\CommunityModeling\\CommPhitting\\mscommphitting.py:80: DeprecationWarning: invalid escape sequence \\_\n",
      "  met_id = re.sub('(\\_\\w\\d+)', '', met)\n",
      "ic| mscommphitting.py:1077 in graph()- basename: 'b_ecoli_Maltose'\n",
      "ic| mscommphitting.py:1077 in graph()- basename: 'b_ecoli_Acetate'\n",
      "ic| mscommphitting.py:1077 in graph()- basename: 'b_pf_Acetate'\n",
      "ic| mscommphitting.py:1077 in graph()\n",
      "    basename: 'b_pf_4~Hydroxybenzoate'\n",
      "ic| mscommphitting.py:1077 in graph()- basename: 'b_pf_stationary'\n",
      "ic| mscommphitting.py:1077 in graph()- basename: 'b_ecoli_stationary'\n",
      "ic| mscommphitting.py:1148 in graph()- name: 'OD'\n",
      "ic| mscommphitting.py:1148 in graph()- name: 'pf'\n",
      "ic| mscommphitting.py:1148 in graph()- name: 'ecoli'\n"
     ]
    },
    {
     "name": "stdout",
     "output_type": "stream",
     "text": [
      "{'stationary', '4~Hydroxybenzoate', 'Maltose', 'Acetate'}\n",
      "{'stationary', '4~Hydroxybenzoate', 'Maltose', 'Acetate'}\n",
      "{'stationary', '4~Hydroxybenzoate', 'Maltose', 'Acetate'}\n",
      "{'stationary', '4~Hydroxybenzoate', 'Maltose', 'Acetate'}\n",
      "{'stationary', '4~Hydroxybenzoate', 'Maltose', 'Acetate'}\n",
      "{'stationary', '4~Hydroxybenzoate', 'Maltose', 'Acetate'}\n",
      "graph_1\n",
      "{'content': 'conc',\n",
      " 'experimental_data': False,\n",
      " 'mets': ['cpd00179', 'cpd00029'],\n",
      " 'painting': {'OD': {'color': 'blue',\n",
      "                     'linestyle': 'solid',\n",
      "                     'name': 'Total biomass'},\n",
      "              'ecoli': {'color': 'red',\n",
      "                        'linestyle': 'dashed',\n",
      "                        'name': 'E. coli'},\n",
      "              'pf': {'color': 'green',\n",
      "                     'linestyle': 'dotted',\n",
      "                     'name': 'P. fluorescens'}},\n",
      " 'parsed': False,\n",
      " 'trial': 'G6'}\n",
      "graph_2\n",
      "{'content': 'biomass',\n",
      " 'experimental_data': False,\n",
      " 'painting': {'OD': {'color': 'blue',\n",
      "                     'linestyle': 'solid',\n",
      "                     'name': 'Total biomass'},\n",
      "              'ecoli': {'color': 'red',\n",
      "                        'linestyle': 'dashed',\n",
      "                        'name': 'E. coli'},\n",
      "              'pf': {'color': 'green',\n",
      "                     'linestyle': 'dotted',\n",
      "                     'name': 'P. fluorescens'}},\n",
      " 'parsed': True,\n",
      " 'phenotype': {'stationary', '4~Hydroxybenzoate', 'Maltose', 'Acetate'},\n",
      " 'species': ['OD', 'pf', 'ecoli'],\n",
      " 'trial': 'G6'}\n"
     ]
    },
    {
     "name": "stderr",
     "output_type": "stream",
     "text": [
      "ic| mscommphitting.py:1077 in graph()- basename: 'b_ecoli_Maltose'\n",
      "ic| mscommphitting.py:1077 in graph()- basename: 'b_ecoli_Acetate'\n",
      "ic| mscommphitting.py:1077 in graph()- basename: 'b_pf_Acetate'\n",
      "ic| mscommphitting.py:1077 in graph()\n",
      "    basename: 'b_pf_4~Hydroxybenzoate'\n",
      "ic| mscommphitting.py:1077 in graph()- basename: 'b_pf_stationary'\n",
      "ic| mscommphitting.py:1077 in graph()- basename: 'b_ecoli_stationary'\n",
      "ic| mscommphitting.py:1148 in graph()- name: 'OD'\n",
      "ic| mscommphitting.py:1148 in graph()- name: 'pf'\n"
     ]
    },
    {
     "name": "stdout",
     "output_type": "stream",
     "text": [
      "{'stationary', '4~Hydroxybenzoate', 'Maltose', 'Acetate'}\n",
      "{'stationary', '4~Hydroxybenzoate', 'Maltose', 'Acetate'}\n",
      "{'stationary', '4~Hydroxybenzoate', 'Maltose', 'Acetate'}\n",
      "{'stationary', '4~Hydroxybenzoate', 'Maltose', 'Acetate'}\n",
      "{'stationary', '4~Hydroxybenzoate', 'Maltose', 'Acetate'}\n",
      "{'stationary', '4~Hydroxybenzoate', 'Maltose', 'Acetate'}\n"
     ]
    },
    {
     "name": "stderr",
     "output_type": "stream",
     "text": [
      "ic| mscommphitting.py:1148 in graph()- name: 'ecoli'\n",
      "ic| mscommphitting.py:1077 in graph()- basename: 'b_ecoli_Maltose'\n",
      "ic| mscommphitting.py:1077 in graph()- basename: 'b_ecoli_Acetate'\n",
      "ic| mscommphitting.py:1077 in graph()- basename: 'b_pf_Acetate'\n",
      "ic| mscommphitting.py:1077 in graph()\n",
      "    basename: 'b_pf_4~Hydroxybenzoate'\n",
      "ic| mscommphitting.py:1077 in graph()- basename: 'b_pf_stationary'\n",
      "ic| mscommphitting.py:1077 in graph()- basename: 'b_ecoli_stationary'\n",
      "ic| mscommphitting.py:1148 in graph()- name: 'OD'\n",
      "ic| mscommphitting.py:1148 in graph()- name: 'pf'\n",
      "ic| mscommphitting.py:1148 in graph()- name: 'ecoli'\n"
     ]
    },
    {
     "name": "stdout",
     "output_type": "stream",
     "text": [
      "graph_3\n",
      "{'content': 'total_biomass',\n",
      " 'experimental_data': True,\n",
      " 'painting': {'OD': {'color': 'blue',\n",
      "                     'linestyle': 'solid',\n",
      "                     'name': 'Total biomass'},\n",
      "              'ecoli': {'color': 'red',\n",
      "                        'linestyle': 'dashed',\n",
      "                        'name': 'E. coli'},\n",
      "              'pf': {'color': 'green',\n",
      "                     'linestyle': 'dotted',\n",
      "                     'name': 'P. fluorescens'}},\n",
      " 'parsed': False,\n",
      " 'species': ['OD', 'pf', 'ecoli'],\n",
      " 'trial': 'G6'}\n",
      "Optimization completed in 34.41875 minutes\n",
      "Graphing completed in 0.019791666666666666 minutes\n",
      "0 1.0\n",
      "0 1.0\n",
      "0 0.0\n",
      "0.33 1.0\n",
      "0.33 1.0\n",
      "0 1.0\n",
      "0 0.0\n",
      "3.3000000000000003 1.0\n",
      "3.3000000000000003 1.0\n",
      "3.3000000000000003 0.0\n",
      "0 1.0\n",
      "0 1.0\n",
      "0 0.0\n",
      "0.33 1.0\n",
      "0.33 1.0\n",
      "0 0.0\n",
      "33.0 0.0\n",
      "36.3 0.0\n",
      "36.629999999999995 0.0\n",
      "36.663 0.0\n",
      "Done simulating with the coefficients for biomass partitions: 0\n",
      "34.438541666666666 minutes\n",
      "{'ecoli': {'Acetate': 3.3033, 'Maltose': 0.33},\n",
      " 'pf': {'4~Hydroxybenzoate': 36.6663, 'Acetate': 0.33}}\n",
      "Done with concentrations and biomass loops: 0.01796875 min\n",
      "Done with DCC loop: 0.0013020833333333333 min\n",
      "Done with the DBC & diffc loop: 0.00390625 min\n",
      "Solver: <class 'optlang.glpk_interface.Model'>\n",
      "Done with loading the variables, constraints, and objective: 0.11067708333333333 min\n"
     ]
    },
    {
     "name": "stderr",
     "output_type": "stream",
     "text": [
      "C:\\Users\\Andrew Freiburger\\AppData\\Local\\Programs\\Python\\Python39\\lib\\zipfile.py:1514: UserWarning: Duplicate name: 'parameters.csv'\n",
      "  return self._open_to_write(zinfo, force_zip64=force_zip64)\n",
      "C:\\Users\\Andrew Freiburger\\AppData\\Local\\Programs\\Python\\Python39\\lib\\zipfile.py:1514: UserWarning: Duplicate name: 'maltose_coculture_kinetics.lp'\n",
      "  return self._open_to_write(zinfo, force_zip64=force_zip64)\n",
      "C:\\Users\\Andrew Freiburger\\AppData\\Local\\Programs\\Python\\Python39\\lib\\zipfile.py:1514: UserWarning: Duplicate name: 'CommPhitting.json'\n",
      "  return self._open_to_write(zinfo, force_zip64=force_zip64)\n"
     ]
    },
    {
     "name": "stdout",
     "output_type": "stream",
     "text": [
      "Done exporting the content: 0.12161458333333333 min\n",
      "starting optimization\n"
     ]
    },
    {
     "name": "stderr",
     "output_type": "stream",
     "text": [
      "C:\\Users\\Andrew Freiburger\\AppData\\Local\\Programs\\Python\\Python39\\lib\\zipfile.py:1514: UserWarning: Duplicate name: 'maltose_coculture_kinetics.json'\n",
      "  return self._open_to_write(zinfo, force_zip64=force_zip64)\n",
      "ic| mscommphitting.py:1077 in graph()- basename: 'b_ecoli_Maltose'\n",
      "ic| mscommphitting.py:1077 in graph()- basename: 'b_ecoli_Acetate'\n",
      "ic| mscommphitting.py:1077 in graph()- basename: 'b_pf_Acetate'\n",
      "ic| mscommphitting.py:1077 in graph()\n",
      "    basename: 'b_pf_4~Hydroxybenzoate'\n",
      "ic| mscommphitting.py:1077 in graph()- basename: 'b_pf_stationary'\n",
      "ic| mscommphitting.py:1077 in graph()- basename: 'b_ecoli_stationary'\n",
      "ic| mscommphitting.py:1148 in graph()- name: 'OD'\n",
      "ic| mscommphitting.py:1148 in graph()- name: 'pf'\n",
      "ic| mscommphitting.py:1148 in graph()- name: 'ecoli'\n"
     ]
    },
    {
     "name": "stdout",
     "output_type": "stream",
     "text": [
      "maltose_co.zip\n",
      "graph_0\n",
      "{'content': 'biomass',\n",
      " 'experimental_data': False,\n",
      " 'painting': {'OD': {'color': 'blue',\n",
      "                     'linestyle': 'solid',\n",
      "                     'name': 'Total biomass'},\n",
      "              'ecoli': {'color': 'red',\n",
      "                        'linestyle': 'dashed',\n",
      "                        'name': 'E. coli'},\n",
      "              'pf': {'color': 'green',\n",
      "                     'linestyle': 'dotted',\n",
      "                     'name': 'P. fluorescens'}},\n",
      " 'parsed': False,\n",
      " 'phenotype': {'stationary', '4~Hydroxybenzoate', 'Maltose', 'Acetate'},\n",
      " 'species': ['OD', 'pf', 'ecoli'],\n",
      " 'trial': 'G6'}\n",
      "{'stationary', '4~Hydroxybenzoate', 'Maltose', 'Acetate'}\n",
      "{'stationary', '4~Hydroxybenzoate', 'Maltose', 'Acetate'}\n",
      "{'stationary', '4~Hydroxybenzoate', 'Maltose', 'Acetate'}\n",
      "{'stationary', '4~Hydroxybenzoate', 'Maltose', 'Acetate'}\n",
      "{'stationary', '4~Hydroxybenzoate', 'Maltose', 'Acetate'}\n",
      "{'stationary', '4~Hydroxybenzoate', 'Maltose', 'Acetate'}\n",
      "graph_1\n",
      "{'content': 'conc',\n",
      " 'experimental_data': False,\n",
      " 'mets': ['cpd00179', 'cpd00029'],\n",
      " 'painting': {'OD': {'color': 'blue',\n",
      "                     'linestyle': 'solid',\n",
      "                     'name': 'Total biomass'},\n",
      "              'ecoli': {'color': 'red',\n",
      "                        'linestyle': 'dashed',\n",
      "                        'name': 'E. coli'},\n",
      "              'pf': {'color': 'green',\n",
      "                     'linestyle': 'dotted',\n",
      "                     'name': 'P. fluorescens'}},\n",
      " 'parsed': False,\n",
      " 'trial': 'G6'}\n",
      "graph_2\n",
      "{'content': 'biomass',\n",
      " 'experimental_data': False,\n",
      " 'painting': {'OD': {'color': 'blue',\n",
      "                     'linestyle': 'solid',\n",
      "                     'name': 'Total biomass'},\n",
      "              'ecoli': {'color': 'red',\n",
      "                        'linestyle': 'dashed',\n",
      "                        'name': 'E. coli'},\n",
      "              'pf': {'color': 'green',\n",
      "                     'linestyle': 'dotted',\n",
      "                     'name': 'P. fluorescens'}},\n",
      " 'parsed': True,\n",
      " 'phenotype': {'stationary', '4~Hydroxybenzoate', 'Maltose', 'Acetate'},\n",
      " 'species': ['OD', 'pf', 'ecoli'],\n",
      " 'trial': 'G6'}\n"
     ]
    },
    {
     "name": "stderr",
     "output_type": "stream",
     "text": [
      "ic| mscommphitting.py:1077 in graph()- basename: 'b_ecoli_Maltose'\n",
      "ic| mscommphitting.py:1077 in graph()- basename: 'b_ecoli_Acetate'\n",
      "ic| mscommphitting.py:1077 in graph()- basename: 'b_pf_Acetate'\n",
      "ic| mscommphitting.py:1077 in graph()\n",
      "    basename: 'b_pf_4~Hydroxybenzoate'\n",
      "ic| mscommphitting.py:1077 in graph()- basename: 'b_pf_stationary'\n",
      "ic| mscommphitting.py:1077 in graph()- basename: 'b_ecoli_stationary'\n",
      "ic| mscommphitting.py:1148 in graph()- name: 'OD'\n",
      "ic| mscommphitting.py:1148 in graph()- name: 'pf'\n"
     ]
    },
    {
     "name": "stdout",
     "output_type": "stream",
     "text": [
      "{'stationary', '4~Hydroxybenzoate', 'Maltose', 'Acetate'}\n",
      "{'stationary', '4~Hydroxybenzoate', 'Maltose', 'Acetate'}\n",
      "{'stationary', '4~Hydroxybenzoate', 'Maltose', 'Acetate'}\n",
      "{'stationary', '4~Hydroxybenzoate', 'Maltose', 'Acetate'}\n",
      "{'stationary', '4~Hydroxybenzoate', 'Maltose', 'Acetate'}\n",
      "{'stationary', '4~Hydroxybenzoate', 'Maltose', 'Acetate'}\n"
     ]
    },
    {
     "name": "stderr",
     "output_type": "stream",
     "text": [
      "ic| mscommphitting.py:1148 in graph()- name: 'ecoli'\n",
      "ic| mscommphitting.py:1077 in graph()- basename: 'b_ecoli_Maltose'\n",
      "ic| mscommphitting.py:1077 in graph()- basename: 'b_ecoli_Acetate'\n",
      "ic| mscommphitting.py:1077 in graph()- basename: 'b_pf_Acetate'\n",
      "ic| mscommphitting.py:1077 in graph()\n",
      "    basename: 'b_pf_4~Hydroxybenzoate'\n",
      "ic| mscommphitting.py:1077 in graph()- basename: 'b_pf_stationary'\n",
      "ic| mscommphitting.py:1077 in graph()- basename: 'b_ecoli_stationary'\n",
      "ic| mscommphitting.py:1148 in graph()- name: 'OD'\n",
      "ic| mscommphitting.py:1148 in graph()- name: 'pf'\n",
      "ic| mscommphitting.py:1148 in graph()- name: 'ecoli'\n"
     ]
    },
    {
     "name": "stdout",
     "output_type": "stream",
     "text": [
      "graph_3\n",
      "{'content': 'total_biomass',\n",
      " 'experimental_data': True,\n",
      " 'painting': {'OD': {'color': 'blue',\n",
      "                     'linestyle': 'solid',\n",
      "                     'name': 'Total biomass'},\n",
      "              'ecoli': {'color': 'red',\n",
      "                        'linestyle': 'dashed',\n",
      "                        'name': 'E. coli'},\n",
      "              'pf': {'color': 'green',\n",
      "                     'linestyle': 'dotted',\n",
      "                     'name': 'P. fluorescens'}},\n",
      " 'parsed': False,\n",
      " 'species': ['OD', 'pf', 'ecoli'],\n",
      " 'trial': 'G6'}\n"
     ]
    },
    {
     "name": "stderr",
     "output_type": "stream",
     "text": [
      "C:\\Users\\Andrew Freiburger\\AppData\\Local\\Programs\\Python\\Python39\\lib\\zipfile.py:1514: UserWarning: Duplicate name: 'G6_all species_stationary,4~Hydroxybenzoate,Maltose,Acetate phenotypes_b_.jpg'\n",
      "  return self._open_to_write(zinfo, force_zip64=force_zip64)\n",
      "C:\\Users\\Andrew Freiburger\\AppData\\Local\\Programs\\Python\\Python39\\lib\\zipfile.py:1514: UserWarning: Duplicate name: 'G6_cpd00179,cpd00029_c.jpg'\n",
      "  return self._open_to_write(zinfo, force_zip64=force_zip64)\n",
      "C:\\Users\\Andrew Freiburger\\AppData\\Local\\Programs\\Python\\Python39\\lib\\zipfile.py:1514: UserWarning: Duplicate name: 'G6_all species_OD,pf,ecoli_total_biomass.jpg'\n",
      "  return self._open_to_write(zinfo, force_zip64=force_zip64)\n",
      "C:\\Users\\Andrew Freiburger\\AppData\\Local\\Programs\\Python\\Python39\\lib\\zipfile.py:1514: UserWarning: Duplicate name: 'G6_ecoli_stationary,4~Hydroxybenzoate,Maltose,Acetate phenotypes_b_.jpg'\n",
      "  return self._open_to_write(zinfo, force_zip64=force_zip64)\n",
      "C:\\Users\\Andrew Freiburger\\AppData\\Local\\Programs\\Python\\Python39\\lib\\zipfile.py:1514: UserWarning: Duplicate name: 'G6_pf_stationary,4~Hydroxybenzoate,Maltose,Acetate phenotypes_b_.jpg'\n",
      "  return self._open_to_write(zinfo, force_zip64=force_zip64)\n",
      "C:\\Users\\Andrew Freiburger\\AppData\\Local\\Programs\\Python\\Python39\\lib\\zipfile.py:1514: UserWarning: Duplicate name: 'G6_OD_stationary,4~Hydroxybenzoate,Maltose,Acetate phenotypes_b_.jpg'\n",
      "  return self._open_to_write(zinfo, force_zip64=force_zip64)\n"
     ]
    },
    {
     "name": "stdout",
     "output_type": "stream",
     "text": [
      "Optimization completed in 28.571354166666666 minutes\n",
      "Graphing completed in 0.01328125 minutes\n",
      "0 1.0\n",
      "0 1.0\n",
      "0 1.0\n",
      "0 0.0\n",
      "0.165 0.0\n",
      "0 1.0\n",
      "0 1.0\n",
      "0 1.0\n",
      "0 0.0\n",
      "1.65165 0.0\n",
      "0 1.0\n",
      "0 1.0\n",
      "0 0.0\n",
      "0.33 1.0\n",
      "0.33 1.0\n",
      "0 0.0\n",
      "146.6652 0.0\n",
      "219.99779999999998 0.0\n",
      "256.66409999999996 0.0\n",
      "274.99724999999995 0.0\n",
      "Done simulating with the coefficients for biomass partitions: 1\n",
      "28.584635416666668 minutes\n",
      "{'ecoli': {'Acetate': 2.477475, 'Maltose': 0.2475},\n",
      " 'pf': {'4~Hydroxybenzoate': 284.163825, 'Acetate': 0.33}}\n",
      "Done with concentrations and biomass loops: 0.01796875 min\n",
      "Done with DCC loop: 0.0015625 min\n",
      "Done with the DBC & diffc loop: 0.004166666666666667 min\n",
      "Solver: <class 'optlang.glpk_interface.Model'>\n",
      "Done with loading the variables, constraints, and objective: 0.16744791666666667 min\n"
     ]
    },
    {
     "name": "stderr",
     "output_type": "stream",
     "text": [
      "C:\\Users\\Andrew Freiburger\\AppData\\Local\\Programs\\Python\\Python39\\lib\\zipfile.py:1514: UserWarning: Duplicate name: 'parameters.csv'\n",
      "  return self._open_to_write(zinfo, force_zip64=force_zip64)\n",
      "C:\\Users\\Andrew Freiburger\\AppData\\Local\\Programs\\Python\\Python39\\lib\\zipfile.py:1514: UserWarning: Duplicate name: 'maltose_coculture_kinetics.lp'\n",
      "  return self._open_to_write(zinfo, force_zip64=force_zip64)\n",
      "C:\\Users\\Andrew Freiburger\\AppData\\Local\\Programs\\Python\\Python39\\lib\\zipfile.py:1514: UserWarning: Duplicate name: 'CommPhitting.json'\n",
      "  return self._open_to_write(zinfo, force_zip64=force_zip64)\n"
     ]
    }
   ],
   "source": [
    "%run ../mscommphitting.py\n",
    "\n",
    "maltose_co = CommPhitting(fluxes_df, standardized_carbon_conc, media_conc, '../../../../ModelSEED/ModelSEEDDatabase', growth_df, experimental_metadata)\n",
    "maltose_co.fit_kcat(\n",
    "    parameters = {'cvmin': .1, 'bcv': 0.0001, \"stationary\": 5e-3},\n",
    "    mets_to_track = [\"cpd00179\",\"cpd00029\"],\n",
    "    rel_final_conc = {\"cpd00179\":0.1},\n",
    "    zero_start = [\"cpd00029\", \"cpd00136\"],\n",
    "    abs_final_conc = {\"cpd00029\":0}, # metabolomics data\n",
    "    graphs = update_graphs(\"G6\"),\n",
    "    export_zip_name = 'maltose_co.zip', \n",
    "    requisite_biomass = requisite_biomass,\n",
    "    export_lp = \"maltose_coculture_kinetics.lp\")"
   ]
  },
  {
   "cell_type": "markdown",
   "id": "3d4abd8a-0553-4313-b80b-8cc9e96dd06c",
   "metadata": {},
   "source": [
    "#### Pseudomonas"
   ]
  },
  {
   "cell_type": "code",
   "execution_count": null,
   "id": "648f61a4-23a6-485f-8432-4d495197b8c2",
   "metadata": {},
   "outputs": [],
   "source": [
    "%run ../data/standardized_data/datastandardization.py\n",
    "growth_data_path=\"../data/Jeffs_data/PF-EC 4-29-22 ratios and 4HB changes.xlsx\"\n",
    "time1 = process_time()\n",
    "experimental_metadata, growth_df, fluxes_df, standardized_carbon_conc, requisite_biomass, trial_name_conversion, data_timestep_hr, simulation_timestep, media_conc = GrowthData.process(\n",
    "    community_members = {\n",
    "        pf: {\n",
    "            'name': 'pf',\n",
    "            'phenotypes': {\n",
    "                'acetate': {\"consumed\":[\"cpd00029\"]}, # kbase_api.get_from_ws(\"93465/25/1\"), #'93465/11/1'), \n",
    "                '4HB': {\"consumed\":[\"cpd00136\"]} # kbase_api.get_from_ws('\t93465/27/1')} #93465/15/1')}\n",
    "                }\n",
    "        }\n",
    "    },\n",
    "    data_paths = {'path':growth_data_path, 'Raw OD(590)':'OD', 'mNeonGreen':'pf'},\n",
    "    species_abundances = species_abundances,\n",
    "    carbon_conc_series = carbon_conc_series,\n",
    "    ignore_trials = {'rows': ['C', 'D', 'E', 'F', 'G'], 'columns': [1,3,4,5,6,7,8,9,10,11,12]},\n",
    "    species_identities_rows = species_identities_rows,\n",
    "    significant_deviation=None\n",
    ")"
   ]
  },
  {
   "cell_type": "code",
   "execution_count": null,
   "id": "d1cd79fb-ddd6-4901-a2ea-0f30f4c86be1",
   "metadata": {
    "tags": []
   },
   "outputs": [],
   "source": [
    "%run ../mscommphitting.py\n",
    "\n",
    "maltose_pf = CommPhitting(fluxes_df, standardized_carbon_conc, media_conc, growth_df, experimental_metadata)\n",
    "try:\n",
    "    if all([not y for x in requisite_biomass.values() for y in x.values()]):\n",
    "        raise TypeError(\"Pseudomonas cannot grow in this media.\")\n",
    "    maltose_pf.fit_kcat(\n",
    "        parameters = {'cvmin': .1, 'bcv': 0.0001, \"stationary\": 5e-3},\n",
    "        mets_to_track = [\"cpd00179\",\"cpd00029\"],\n",
    "        rel_final_conc = {\"cpd00179\":0.2},\n",
    "        zero_start = [\"cpd00029\"],\n",
    "        abs_final_conc = {\"cpd00029\":0.1}, # metabolomics data\n",
    "        graphs = update_graphs(\"G1\"),\n",
    "        msdb_path = '../../../../ModelSEED/ModelSEEDDatabase',\n",
    "        export_zip_name = 'simple_kinetics_loop.zip', \n",
    "        requisite_biomass = requisite_biomass,\n",
    "        publishing = True,\n",
    "        export_lp = \"maltose_pf.lp\")\n",
    "except (NoFluxError, FeasibilityError, TypeError) as e:\n",
    "    print(e)"
   ]
  },
  {
   "cell_type": "markdown",
   "id": "08fb8766-a03b-4e71-91ca-98ca28ee91a1",
   "metadata": {},
   "source": [
    "#### E. coli"
   ]
  },
  {
   "cell_type": "code",
   "execution_count": null,
   "id": "fc2001f1-290f-48b6-88f5-be4485a470c9",
   "metadata": {},
   "outputs": [],
   "source": [
    "%run ../data/standardized_data/datastandardization.py\n",
    "growth_data_path=\"../data/Jeffs_data/PF-EC 4-29-22 ratios and 4HB changes.xlsx\"\n",
    "time1 = process_time()\n",
    "experimental_metadata, growth_df, fluxes_df, standardized_carbon_conc, requisite_biomass, trial_name_conversion, data_timestep_hr, simulation_timestep, media_conc = GrowthData.process(\n",
    "    community_members = {\n",
    "        ecoli: {\n",
    "            'name': 'ecoli', \n",
    "            'phenotypes': {\n",
    "                'acetate': {\"consumed\":[\"cpd00029\"]}, #kbase_api.get_from_ws('93465/13/1'), \n",
    "                'malt': {\"consumed\":[\"cpd00179\"],\n",
    "                         \"excreted\":[\"cpd00029\"]} #kbase_api.get_from_ws(\"93465/23/1\")} #'93465/9/1')}   # !!! The phenotype name must align with the experimental IDs for the graphs to find the appropriate data\n",
    "            }\n",
    "        }\n",
    "    },\n",
    "    data_paths = {'path':growth_data_path, 'Raw OD(590)':'OD', 'mRuby':'ecoli'},\n",
    "    species_abundances = species_abundances,\n",
    "    carbon_conc_series = carbon_conc_series,\n",
    "    ignore_trials = {'rows': ['C', 'D', 'E', 'F', 'G'], 'columns': [1,2,3,4,5,6,7,8,9,10,12]},\n",
    "    species_identities_rows = species_identities_rows\n",
    ")"
   ]
  },
  {
   "cell_type": "code",
   "execution_count": null,
   "id": "e640ba52-81ef-449d-a75a-1f2017ab2e06",
   "metadata": {
    "scrolled": true,
    "tags": []
   },
   "outputs": [],
   "source": [
    "%run ../mscommphitting.py\n",
    "\n",
    "maltose_ecoli = CommPhitting(fluxes_df, standardized_carbon_conc, media_conc, '../../../../ModelSEED/ModelSEEDDatabase', growth_df, experimental_metadata)\n",
    "maltose_ecoli.fit_kcat(\n",
    "    parameters = {'cvmin': .1, 'bcv': 0.0001, \"stationary\": 5e-3},\n",
    "    mets_to_track = [\"cpd00179\",\"cpd00029\"],\n",
    "    rel_final_conc = {\"cpd00179\":0.2},\n",
    "    zero_start = [\"cpd00029\", \"cpd00136\"],\n",
    "    abs_final_conc = {\"cpd00029\":0.1}, # metabolomics data\n",
    "    graphs = update_graphs(\"G10\"),\n",
    "    export_zip_name = 'maltose_ecoli.zip', \n",
    "    requisite_biomass = requisite_biomass,\n",
    "    publishing = True,\n",
    "    export_lp = \"maltose_ecoli.lp\")"
   ]
  },
  {
   "cell_type": "markdown",
   "id": "c7649bcc-422e-43b2-b98f-bde6d2ece4ee",
   "metadata": {
    "tags": []
   },
   "source": [
    "# Maltose + 4HB"
   ]
  },
  {
   "cell_type": "markdown",
   "id": "18f675c6-b4e3-45bd-a697-9cdb2f6b62b6",
   "metadata": {},
   "source": [
    "#### Coculture"
   ]
  },
  {
   "cell_type": "code",
   "execution_count": null,
   "id": "7d19363a-c36c-4b66-a020-67b76f025249",
   "metadata": {
    "tags": []
   },
   "outputs": [],
   "source": [
    "%run ../data/standardized_data/datastandardization.py\n",
    "growth_data_path=\"../data/Jeffs_data/PF-EC 4-29-22 ratios and 4HB changes.xlsx\"\n",
    "time1 = process_time()\n",
    "experimental_metadata, growth_df, fluxes_df, standardized_carbon_conc, requisite_biomass, trial_name_conversion, data_timestep_hr, simulation_timestep, media_conc = GrowthData.process(\n",
    "    community_members = {\n",
    "        ecoli: {\n",
    "            'name': 'ecoli', \n",
    "            'phenotypes': {\n",
    "                'acetate': {\"consumed\":[\"cpd00029\"]}, #kbase_api.get_from_ws('93465/13/1'), \n",
    "                'malt': {\"consumed\":[\"cpd00179\"],\n",
    "                         \"excreted\":[\"cpd00029\"]} #kbase_api.get_from_ws(\"93465/23/1\")} #'93465/9/1')}   # !!! The phenotype name must align with the experimental IDs for the graphs to find the appropriate data\n",
    "                }\n",
    "        },\n",
    "        pf: {\n",
    "            'name': 'pf',\n",
    "            'phenotypes': {\n",
    "                'acetate': {\"consumed\":[\"cpd00029\"]}, # kbase_api.get_from_ws(\"93465/25/1\"), #'93465/11/1'), \n",
    "                '4HB': {\"consumed\":[\"cpd00136\"]} # kbase_api.get_from_ws('\t93465/27/1')} #93465/15/1')}\n",
    "                }\n",
    "        }\n",
    "    },\n",
    "    data_paths = {'path':growth_data_path, 'Raw OD(590)':'OD', 'mNeonGreen':'pf', 'mRuby':'ecoli'},\n",
    "    species_abundances = species_abundances,\n",
    "    carbon_conc_series = carbon_conc_series,\n",
    "    ignore_trials = {'rows': ['C', 'D', 'E', 'B', 'G'], 'columns': [1,2,3,4,5,6,8,9,10,11,12]},\n",
    "    species_identities_rows = species_identities_rows\n",
    ")\n",
    "print(f\"{(process_time()-time1)/60} minutes\")"
   ]
  },
  {
   "cell_type": "code",
   "execution_count": null,
   "id": "8d554c36-c35e-487b-b905-3043851953b5",
   "metadata": {
    "scrolled": true,
    "tags": []
   },
   "outputs": [],
   "source": [
    "%run ../mscommphitting.py\n",
    "\n",
    "maltose_4HB_commfit = CommPhitting(fluxes_df, standardized_carbon_conc, media_conc, '../../../../ModelSEED/ModelSEEDDatabase', growth_df, experimental_metadata)\n",
    "maltose_4HB_commfit.fit_kcat(\n",
    "    parameters = {'cvmin': .1, 'bcv': 0.0001, \"stationary\": 5e-3},\n",
    "    mets_to_track = [\"cpd00179\",\"cpd00029\",\"cpd00136\"],\n",
    "    rel_final_conc = {\"cpd00179\":0.2, \"cpd00136\":0.2},\n",
    "    zero_start = [\"cpd00029\"],\n",
    "    abs_final_conc = {\"cpd00029\":0.1}, # metabolomics data\n",
    "    graphs = update_graphs(\"G50\"),\n",
    "    export_zip_name = 'maltose_4HB_commfit.zip', \n",
    "    requisite_biomass = requisite_biomass,\n",
    "    publishing = True,\n",
    "    export_lp = \"maltose_4HB_coculture.lp\")"
   ]
  },
  {
   "cell_type": "markdown",
   "id": "5bf2cbf4-5d52-41cb-9a5c-4311267d1a0d",
   "metadata": {},
   "source": [
    "#### Pseudomonas"
   ]
  },
  {
   "cell_type": "code",
   "execution_count": null,
   "id": "e29edf3b-a8ec-4c11-9520-d61ef3bfc5cd",
   "metadata": {},
   "outputs": [],
   "source": [
    "%run ../data/standardized_data/datastandardization.py\n",
    "growth_data_path=\"../data/Jeffs_data/PF-EC 4-29-22 ratios and 4HB changes.xlsx\"\n",
    "time1 = process_time()\n",
    "experimental_metadata, growth_df, fluxes_df, standardized_carbon_conc, requisite_biomass, trial_name_conversion, data_timestep_hr, simulation_timestep, media_conc = GrowthData.process(\n",
    "    community_members = {\n",
    "        pf: {\n",
    "            'name': 'pf',\n",
    "            'phenotypes': {\n",
    "                'acetate': {\"consumed\":[\"cpd00029\"]}, # kbase_api.get_from_ws(\"93465/25/1\"), #'93465/11/1'), \n",
    "                '4HB': {\"consumed\":[\"cpd00136\"]} # kbase_api.get_from_ws('\t93465/27/1')} #93465/15/1')}\n",
    "                }\n",
    "        }\n",
    "    },\n",
    "    data_paths = {'path':growth_data_path, 'Raw OD(590)':'OD', 'mNeonGreen':'pf'},\n",
    "    species_abundances = species_abundances,\n",
    "    carbon_conc_series = carbon_conc_series,\n",
    "    ignore_trials = {'rows': ['C', 'D', 'E', 'B', 'G'], 'columns': [1,3,4,5,6,7,8,9,10,11,12]},\n",
    "    species_identities_rows = species_identities_rows\n",
    ")\n",
    "print(f\"{(process_time()-time1)/60} minutes\")"
   ]
  },
  {
   "cell_type": "code",
   "execution_count": null,
   "id": "4819b2bf-66ff-4606-a99d-edad1fbd7296",
   "metadata": {
    "scrolled": true,
    "tags": []
   },
   "outputs": [],
   "source": [
    "%run ../mscommphitting.py\n",
    "maltose_4HB_pf = CommPhitting(fluxes_df, standardized_carbon_conc, media_conc, '../../../../ModelSEED/ModelSEEDDatabase', growth_df, experimental_metadata)\n",
    "maltose_4HB_pf.fit_kcat(\n",
    "    parameters = {'cvmin': .1, 'bcv': 0.0001, \"stationary\": 1},\n",
    "    mets_to_track = [\"cpd00179\",\"cpd00136\"],\n",
    "    rel_final_conc = {\"cpd00136\":0.1},\n",
    "    zero_start = [\"cpd00029\"],\n",
    "    # abs_final_conc = {\"cpd00029\":0.1}, # metabolomics data\n",
    "    graphs = update_graphs(\"G45\"),\n",
    "    export_zip_name = 'maltose_4HB_pf.zip', \n",
    "    requisite_biomass = requisite_biomass,\n",
    "    publishing = True,\n",
    "    export_lp = \"maltose_4HB_pf.lp\")"
   ]
  },
  {
   "cell_type": "markdown",
   "id": "09bf42b8-e348-4d5c-979a-8240eb16cf69",
   "metadata": {},
   "source": [
    "#### E. coli"
   ]
  },
  {
   "cell_type": "code",
   "execution_count": null,
   "id": "2980ff5a-a43f-43dc-815d-a1add0bae8db",
   "metadata": {},
   "outputs": [],
   "source": [
    "%run ../data/standardized_data/datastandardization.py\n",
    "growth_data_path=\"../data/Jeffs_data/PF-EC 4-29-22 ratios and 4HB changes.xlsx\"\n",
    "time1 = process_time()\n",
    "experimental_metadata, growth_df, fluxes_df, standardized_carbon_conc, requisite_biomass, trial_name_conversion, data_timestep_hr, simulation_timestep, media_conc = GrowthData.process(\n",
    "    community_members = {\n",
    "        ecoli: {\n",
    "            'name': 'ecoli', \n",
    "            'phenotypes': {\n",
    "                'acetate': {\"consumed\":[\"cpd00029\"]}, #kbase_api.get_from_ws('93465/13/1'), \n",
    "                'malt': {\"consumed\":[\"cpd00179\"],\n",
    "                         \"excreted\":[\"cpd00029\"]} #kbase_api.get_from_ws(\"93465/23/1\")} #'93465/9/1')}   # !!! The phenotype name must align with the experimental IDs for the graphs to find the appropriate data\n",
    "            }\n",
    "        }\n",
    "    },\n",
    "    data_paths = {'path':growth_data_path, 'Raw OD(590)':'OD', 'mRuby':'ecoli'},\n",
    "    species_abundances = species_abundances,\n",
    "    carbon_conc_series = carbon_conc_series,\n",
    "    ignore_trials = {'rows': ['C', 'D', 'E', 'B', 'G'], 'columns': [1,2,3,4,5,6,7,8,9,10,12]},\n",
    "    species_identities_rows = species_identities_rows\n",
    ")\n",
    "print(f\"{(process_time()-time1)/60} minutes\")"
   ]
  },
  {
   "cell_type": "code",
   "execution_count": null,
   "id": "26081694-3815-41b0-8dcc-bb6d22e5c6b8",
   "metadata": {
    "scrolled": true,
    "tags": []
   },
   "outputs": [],
   "source": [
    "%run ../mscommphitting.py\n",
    "maltose_4HB_ecoli = CommPhitting(fluxes_df, standardized_carbon_conc, media_conc, '../../../../ModelSEED/ModelSEEDDatabase', growth_df, experimental_metadata)\n",
    "maltose_4HB_ecoli.fit_kcat(\n",
    "    parameters = {'cvmin': .1, 'bcv': 0.0001, \"stationary\": 1},\n",
    "    mets_to_track = [\"cpd00179\",\"cpd00029\"],\n",
    "    rel_final_conc = {\"cpd00179\":0.05},\n",
    "    zero_start = [\"cpd00029\"],\n",
    "    abs_final_conc = {\"cpd00029\":0.1}, # metabolomics data\n",
    "    graphs = update_graphs(\"G54\"),\n",
    "    export_zip_name = 'maltose_4HB_ecoli.zip', \n",
    "    requisite_biomass = requisite_biomass,\n",
    "    publishing = True,\n",
    "    export_lp = \"maltose_4HB_ecoli.lp\")"
   ]
  },
  {
   "cell_type": "markdown",
   "id": "788fa69a-be4a-471e-bca9-da97689fe800",
   "metadata": {
    "tags": []
   },
   "source": [
    "# Acetate"
   ]
  },
  {
   "cell_type": "markdown",
   "id": "9cd05ac1-6813-4943-a323-6b5863042415",
   "metadata": {},
   "source": [
    "#### Coculture"
   ]
  },
  {
   "cell_type": "code",
   "execution_count": null,
   "id": "678d1ab4-62c9-4eb5-9452-1c8a7b7671e1",
   "metadata": {},
   "outputs": [],
   "source": [
    "%run ../data/standardized_data/datastandardization.py\n",
    "growth_data_path=\"../data/Jeffs_data/PF-EC-PFEC on Acetate 6-17-22.xlsx\"\n",
    "time1 = process_time()\n",
    "experimental_metadata, growth_df, fluxes_df, standardized_carbon_conc, requisite_biomass, trial_name_conversion, data_timestep_hr, simulation_timestep, media_conc = GrowthData.process(\n",
    "    community_members = {\n",
    "        ecoli: {\n",
    "            'name': 'ecoli', \n",
    "            'phenotypes': {\n",
    "                'acetate': {\"consumed\":[\"cpd00029\"]}, #kbase_api.get_from_ws('93465/13/1'), \n",
    "                'malt': {\"consumed\":[\"cpd00179\"],\n",
    "                         \"excreted\":[\"cpd00029\"]} #kbase_api.get_from_ws(\"93465/23/1\")} #'93465/9/1')}   # !!! The phenotype name must align with the experimental IDs for the graphs to find the appropriate data\n",
    "                }\n",
    "        },\n",
    "        pf: {\n",
    "            'name': 'pf',\n",
    "            'phenotypes': {\n",
    "                'acetate': {\"consumed\":[\"cpd00029\"]}, # kbase_api.get_from_ws(\"93465/25/1\"), #'93465/11/1'), \n",
    "                '4HB': {\"consumed\":[\"cpd00136\"]} # kbase_api.get_from_ws('\t93465/27/1')} #93465/15/1')}\n",
    "                }\n",
    "        }\n",
    "    },\n",
    "    data_paths = {'path':growth_data_path, 'Raw OD(590)':'OD', 'Fluorescence':'pf', 'Fluorescence 1':'ecoli'},\n",
    "    species_abundances = {num:{\"ecoli\":1, \"pf\":1} for num in range(1,13)},\n",
    "    carbon_conc_series = {'columns': {'cpd00029': {2:100, 3: 50, 4: 25, 5: 12.5, 6: 6.25, 7: 3}}},\n",
    "    ignore_trials = {'rows': ['C', 'D', 'B', 'F'], 'columns': [1,2,4,5,6,7,8,9,10,11,12]},\n",
    "    species_identities_rows = {\n",
    "        1:{\"ecoli\":\"mRuby\"},\n",
    "        2:{\"ecoli\":\"ACS\"},\n",
    "        3:{\"pf\":\"\"},\n",
    "        4:{\"ecoli\":\"mRuby\"},\n",
    "        5:{\"ecoli\":\"ACS\"},\n",
    "    },\n",
    "    significant_deviation=None\n",
    ")\n",
    "print(f\"{(process_time()-time1)/60} minutes\")"
   ]
  },
  {
   "cell_type": "code",
   "execution_count": null,
   "id": "27bd36de-c125-4768-a835-eeb06223351d",
   "metadata": {
    "scrolled": true,
    "tags": []
   },
   "outputs": [],
   "source": [
    "%run ../mscommphitting.py\n",
    "\n",
    "acetate_commfit = CommPhitting(fluxes_df, standardized_carbon_conc, media_conc, '../../../../ModelSEED/ModelSEEDDatabase', growth_df, experimental_metadata)\n",
    "acetate_commfit.fit_kcat(\n",
    "    parameters = {'cvmin': .1, 'bcv': 0.0001, \"stationary\": 5e-3},\n",
    "    mets_to_track = [\"cpd00029\"],\n",
    "    rel_final_conc = {\"cpd00029\":0.0001},\n",
    "    zero_start = [\"cpd00136\", \"cpd00179\"],\n",
    "    graphs = update_graphs(\"G38\"),\n",
    "    export_zip_name = 'acetate_commfit.zip', \n",
    "    requisite_biomass = requisite_biomass,\n",
    "    publishing = True,\n",
    "    export_lp = \"acetate_coculture.lp\")"
   ]
  },
  {
   "cell_type": "markdown",
   "id": "bbdf27bd-bf1f-4d3e-b460-bd42b9cd54ca",
   "metadata": {},
   "source": [
    "#### Pseudomonas"
   ]
  },
  {
   "cell_type": "code",
   "execution_count": null,
   "id": "8b65b264-a1a5-453b-99b4-c2815ef6b9f8",
   "metadata": {},
   "outputs": [],
   "source": [
    "%run ../data/standardized_data/datastandardization.py\n",
    "growth_data_path=\"../data/Jeffs_data/PF-EC-PFEC on Acetate 6-17-22.xlsx\"\n",
    "time1 = process_time()\n",
    "experimental_metadata, growth_df, fluxes_df, standardized_carbon_conc, requisite_biomass, trial_name_conversion, data_timestep_hr, simulation_timestep, media_conc = GrowthData.process(\n",
    "    community_members = {\n",
    "        pf: {\n",
    "            'name': 'pf',\n",
    "            'phenotypes': {\n",
    "                'acetate': {\"consumed\":[\"cpd00029\"]}, # kbase_api.get_from_ws(\"93465/25/1\"), #'93465/11/1'), \n",
    "                '4HB': {\"consumed\":[\"cpd00136\"]} # kbase_api.get_from_ws('\t93465/27/1')} #93465/15/1')}\n",
    "                }\n",
    "        }\n",
    "    },\n",
    "    data_paths = {'path':growth_data_path, 'Raw OD(590)':'OD', 'Fluorescence':'pf'},\n",
    "    species_abundances = {num:{\"ecoli\":1, \"pf\":1} for num in range(1,13)},\n",
    "    carbon_conc_series = {'columns': {'cpd00029': {2:100, 3: 50, 4: 25, 5: 12.5, 6: 6.25, 7: 3}}},\n",
    "    ignore_trials = {'rows': ['C', 'E', 'B', 'F'], 'columns': [1,2,4,5,6,7,8,9,10,11,12]},\n",
    "    species_identities_rows = {\n",
    "        1:{\"ecoli\":\"mRuby\"},\n",
    "        2:{\"ecoli\":\"ACS\"},\n",
    "        3:{\"pf\":\"\"},\n",
    "        4:{\"ecoli\":\"mRuby\"},\n",
    "        5:{\"ecoli\":\"ACS\"},\n",
    "    },\n",
    "    significant_deviation=None\n",
    ")\n",
    "print(f\"{(process_time()-time1)/60} minutes\")"
   ]
  },
  {
   "cell_type": "code",
   "execution_count": null,
   "id": "3a565749-74bc-4630-a995-77b328198c91",
   "metadata": {
    "scrolled": true,
    "tags": []
   },
   "outputs": [],
   "source": [
    "%run ../mscommphitting.py\n",
    "\n",
    "acetate_pf = CommPhitting(fluxes_df, standardized_carbon_conc, media_conc, '../../../../ModelSEED/ModelSEEDDatabase', growth_df, experimental_metadata)\n",
    "acetate_pf.fit_kcat(\n",
    "    parameters = {'cvmin': .1, 'bcv': 0.0001, \"stationary\": 5e-3},\n",
    "    mets_to_track = [\"cpd00029\"],\n",
    "    rel_final_conc = {\"cpd00029\":0.0001},\n",
    "    zero_start = [\"cpd00136\", \"cpd00179\"],\n",
    "    graphs = update_graphs(\"G26\"),\n",
    "    export_zip_name = 'acetate_pf.zip', \n",
    "    requisite_biomass = requisite_biomass,\n",
    "    publishing = True,\n",
    "    export_lp = \"acetate_pf.lp\")"
   ]
  },
  {
   "cell_type": "markdown",
   "id": "69ef43d9-914a-489c-a5fd-5e05c851c876",
   "metadata": {},
   "source": [
    "#### E. coli"
   ]
  },
  {
   "cell_type": "code",
   "execution_count": null,
   "id": "409c5f41-ef90-464e-88cd-6486e5b9a162",
   "metadata": {},
   "outputs": [],
   "source": [
    "%run ../data/standardized_data/datastandardization.py\n",
    "growth_data_path=\"../data/Jeffs_data/PF-EC-PFEC on Acetate 6-17-22.xlsx\"\n",
    "time1 = process_time()\n",
    "experimental_metadata, growth_df, fluxes_df, standardized_carbon_conc, requisite_biomass, trial_name_conversion, data_timestep_hr, simulation_timestep, media_conc = GrowthData.process(\n",
    "    community_members = {\n",
    "        ecoli: {\n",
    "            'name': 'ecoli', \n",
    "            'phenotypes': {\n",
    "                'acetate': {\"consumed\":[\"cpd00029\"]}, #kbase_api.get_from_ws('93465/13/1'), \n",
    "                'malt': {\"consumed\":[\"cpd00179\"],\n",
    "                         \"excreted\":[\"cpd00029\"]} #kbase_api.get_from_ws(\"93465/23/1\")} #'93465/9/1')}   # !!! The phenotype name must align with the experimental IDs for the graphs to find the appropriate data\n",
    "                }\n",
    "        }\n",
    "    },\n",
    "    data_paths = {'path':growth_data_path, 'Raw OD(590)':'OD','Fluorescence 1':'ecoli'},\n",
    "    species_abundances = {num:{\"ecoli\":1, \"pf\":1} for num in range(1,13)},\n",
    "    carbon_conc_series = {'columns': {'cpd00029': {2:100, 3: 50, 4: 25, 5: 12.5, 6: 6.25, 7: 3}}},\n",
    "    ignore_trials = {'rows': ['C', 'E', 'D', 'F'], 'columns': [1,2,4,5,6,7,8,9,10,11,12]},\n",
    "    species_identities_rows = {\n",
    "        1:{\"ecoli\":\"mRuby\"},\n",
    "        2:{\"ecoli\":\"ACS\"},\n",
    "        3:{\"pf\":\"\"},\n",
    "        4:{\"ecoli\":\"mRuby\"},\n",
    "        5:{\"ecoli\":\"ACS\"},\n",
    "    },\n",
    "    significant_deviation=None\n",
    ")\n",
    "print(f\"{(process_time()-time1)/60} minutes\")"
   ]
  },
  {
   "cell_type": "code",
   "execution_count": null,
   "id": "bc8e515d-31b4-4d16-a919-cb57fe9459db",
   "metadata": {
    "scrolled": true,
    "tags": []
   },
   "outputs": [],
   "source": [
    "%run ../mscommphitting.py\n",
    "\n",
    "acetate_ecoli = CommPhitting(fluxes_df, standardized_carbon_conc, media_conc, '../../../../ModelSEED/ModelSEEDDatabase', growth_df, experimental_metadata)\n",
    "acetate_ecoli.fit_kcat(\n",
    "    parameters = {'cvmin': .1, 'bcv': 0.0001, \"stationary\": 5e-3},\n",
    "    mets_to_track = [\"cpd00029\"],\n",
    "    rel_final_conc = {\"cpd00029\":0.00001},\n",
    "    zero_start = [\"cpd00136\", \"cpd00179\"],\n",
    "    graphs = update_graphs(\"G2\"),\n",
    "    export_zip_name = 'acetate_ecoli.zip', \n",
    "    requisite_biomass = requisite_biomass,\n",
    "    publishing = True,\n",
    "    export_lp = \"acetate_ecoli.lp\")"
   ]
  },
  {
   "cell_type": "markdown",
   "id": "c641cff7-9511-4a4e-845b-2ca218fdf3bc",
   "metadata": {},
   "source": [
    "# SteadyCom"
   ]
  },
  {
   "cell_type": "code",
   "execution_count": null,
   "id": "94f8e835-a584-4374-b8e3-bfa7bce16482",
   "metadata": {},
   "outputs": [],
   "source": [
    "# # import the models\n",
    "# from cobra.io import load_json_model\n",
    "# ecoli = load_json_model(\"../ecoli.json\")\n",
    "# pf = load_json_model(\"../pf.json\")"
   ]
  },
  {
   "cell_type": "code",
   "execution_count": null,
   "id": "f18f5398-0e94-4808-b7fb-2009abba4977",
   "metadata": {},
   "outputs": [],
   "source": [
    "# %run ../../../../ModelSEED/ModelSEEDpy/modelseedpy/community/mssteadycom.py\n"
   ]
  },
  {
   "cell_type": "code",
   "execution_count": null,
   "id": "4c5e4c42-0e71-4d7c-bf46-ed98d8d4c786",
   "metadata": {},
   "outputs": [],
   "source": []
  }
 ],
 "metadata": {
  "kernelspec": {
   "display_name": "Python 3 (ipykernel)",
   "language": "python",
   "name": "python3"
  },
  "language_info": {
   "codemirror_mode": {
    "name": "ipython",
    "version": 3
   },
   "file_extension": ".py",
   "mimetype": "text/x-python",
   "name": "python",
   "nbconvert_exporter": "python",
   "pygments_lexer": "ipython3",
   "version": "3.9.12"
  }
 },
 "nbformat": 4,
 "nbformat_minor": 5
}
