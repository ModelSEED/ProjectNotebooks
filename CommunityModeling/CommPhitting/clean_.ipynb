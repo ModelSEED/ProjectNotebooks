{
 "cells": [
  {
   "cell_type": "markdown",
   "id": "d812be0d-b9a7-461b-8299-9c9f34a53396",
   "metadata": {},
   "source": [
    "# Load the models"
   ]
  },
  {
   "cell_type": "code",
   "execution_count": 1,
   "id": "64a8109e-320c-4c8a-8d83-ed6fb0e4541d",
   "metadata": {},
   "outputs": [],
   "source": [
    "# import the models\n",
    "from cobra.io import load_json_model\n",
    "ecoli = load_json_model(\"ecoli.json\")\n",
    "pf = load_json_model(\"pf.json\")\n",
    "# print(ecoli.optimize())\n",
    "# print(pf.optimize())\n",
    "    \n",
    "# load peripheral packages\n",
    "import warnings\n",
    "warnings.filterwarnings(action='once')\n",
    "from pandas import set_option\n",
    "set_option(\"display.max_rows\", None)\n",
    "from time import process_time"
   ]
  },
  {
   "cell_type": "markdown",
   "id": "1741c2da-da34-439e-b4b7-cb49655348a3",
   "metadata": {},
   "source": [
    "# Load the conditions"
   ]
  },
  {
   "cell_type": "code",
   "execution_count": 2,
   "id": "cc689887-c7af-48ad-99fb-7190c64a944c",
   "metadata": {},
   "outputs": [],
   "source": [
    "# Define the standard graphs from each simulation\n",
    "graphs_list = [\n",
    "    {\n",
    "        'trial':'G48',\n",
    "        \"phenotype\": '*',\n",
    "        'content': 'biomass',\n",
    "        'experimental_data': False,\n",
    "        # \"parsed\":True\n",
    "    },\n",
    "    {\n",
    "        'trial':'G48',\n",
    "        'content': \"conc\",\n",
    "    },\n",
    "    {\n",
    "        'trial':'G48',\n",
    "        \"phenotype\": '*',\n",
    "        'content': 'biomass',\n",
    "        \"parsed\": True\n",
    "    },\n",
    "    {\n",
    "        'trial':'G48',\n",
    "        'content': 'total_biomass',\n",
    "        'experimental_data': True\n",
    "    }\n",
    "]\n",
    "\n",
    "def update_graphs(trial):\n",
    "    graphs = graphs_list.copy()\n",
    "    for graph in graphs:\n",
    "        graph[\"trial\"] = trial\n",
    "    return graphs"
   ]
  },
  {
   "cell_type": "code",
   "execution_count": 3,
   "id": "88655401-25fa-40ef-abb6-c30989bb8e75",
   "metadata": {},
   "outputs": [],
   "source": [
    "species_abundances = {\n",
    "    1:{\"ecoli\":0, \"pf\":1},\n",
    "    2:{\"ecoli\":1, \"pf\":50},\n",
    "    3:{\"ecoli\":1, \"pf\":20},\n",
    "    4:{\"ecoli\":1, \"pf\":10},\n",
    "    5:{\"ecoli\":1, \"pf\":3},\n",
    "    6:{\"ecoli\":1, \"pf\":1},\n",
    "    7:{\"ecoli\":3, \"pf\":1},\n",
    "    8:{\"ecoli\":10, \"pf\":1},\n",
    "    9:{\"ecoli\":20, \"pf\":1},\n",
    "    10:{\"ecoli\":1, \"pf\":0},\n",
    "    11:{\"ecoli\":0, \"pf\":0}\n",
    "}\n",
    "carbon_conc_series = {'rows': {\n",
    "    'cpd00136': {'B':0, 'C': 0, 'D': 1, 'E': 1, 'F': 4, 'G': 4},\n",
    "    'cpd00179': {'B':5, 'C': 5, 'D':5, 'E': 5, 'F': 5, 'G': 5},\n",
    "}}\n",
    "species_identities_rows = {\n",
    "    1:{\"ecoli\":\"mRuby\"},\n",
    "    2:{\"ecoli\":\"ACS\"},\n",
    "    3:{\"ecoli\":\"mRuby\"},\n",
    "    4:{\"ecoli\":\"ACS\"},\n",
    "    5:{\"ecoli\":\"mRuby\"},\n",
    "    6:{\"ecoli\":\"ACS\"}\n",
    "}"
   ]
  },
  {
   "cell_type": "markdown",
   "id": "49a1e088-6a46-40d1-a41e-2a310046a992",
   "metadata": {},
   "source": [
    "# Simulate"
   ]
  },
  {
   "cell_type": "markdown",
   "id": "e1c7e814-3099-44bc-a8ce-ba2c550f8ed0",
   "metadata": {
    "tags": []
   },
   "source": [
    "## Parameterize the data"
   ]
  },
  {
   "cell_type": "code",
   "execution_count": 7,
   "id": "f31eb383-f516-40bc-86bc-e238325ee0a4",
   "metadata": {},
   "outputs": [
    {
     "name": "stderr",
     "output_type": "stream",
     "text": [
      "C:\\Users\\Andrew Freiburger\\Documents\\Argonne\\ProjectNotebooks\\CommunityModeling\\CommPhitting\\data\\standardized_data\\datastandardization.py:113: DeprecationWarning: invalid escape sequence \\_\n",
      "  met_id = re.sub('(\\_\\w\\d+)', '', met)\n"
     ]
    },
    {
     "name": "stdout",
     "output_type": "stream",
     "text": [
      "\n",
      " GCF_000005845.2.RAST.mdl\n",
      "\n",
      " GCF_001612705.1.RAST.mdl\n",
      "The ['B2', 'B3', 'B4', 'B5', 'B6', 'B8', 'B9', 'B10', 'B11', 'B12', 'C2', 'C3', 'C4', 'C5', 'C6', 'C7', 'C8', 'C9', 'C10', 'C11', 'C12', 'D2', 'D3', 'D4', 'D5', 'D6', 'D7', 'D8', 'D9', 'D10', 'D11', 'D12', 'E2', 'E3', 'E4', 'E5', 'E6', 'E7', 'E8', 'E9', 'E10', 'E11', 'E12', 'F2', 'F3', 'F4', 'F5', 'F6', 'F7', 'F8', 'F9', 'F10', 'F11', 'F12', 'G2', 'G3', 'G4', 'G5', 'G6', 'G7', 'G8', 'G9', 'G10', 'G11', 'G12'] trials were dropped from the OD measurements per the ignore_trials parameter.\n",
      "The [97, 98, 99, 100, 101, 102, 103, 104, 105, 106, 107, 108, 109, 110, 111, 112, 113, 114, 115, 116, 117, 118, 119, 120, 121, 122, 123, 124, 125, 126, 127, 128, 129, 130, 131, 132, 133, 134, 135, 136, 137, 138, 139, 140, 141, 142, 143, 144, 145, 146, 147, 148, 149, 150, 151, 152, 153, 154, 155, 156, 157, 158, 159, 160, 161, 162, 163, 164, 165, 166] timesteps (with [1.12550559 1.12537038 1.12105398 1.11597471 1.11273534 1.12893569\n",
      " 1.13334937 1.13336892 1.13261206 1.13469994 1.13451431 1.1412154\n",
      " 1.13747089 1.14040539 1.13512778 1.1366647  1.13251641 1.12891541\n",
      " 1.12871509 1.12652118 1.12830436 1.12870405 1.12822223 1.12825241\n",
      " 1.12689397 1.12581186 1.12952745 1.13105857 1.12972603 1.12850997\n",
      " 1.12553604 1.12842066 1.12825847 1.12311258 1.12150259 1.1212322\n",
      " 1.12606108 1.12158203 1.12521286 1.1228796  1.12037091 1.12387054\n",
      " 1.12061977 1.11819227 1.12395394 1.11483426 1.11638546 1.11523802\n",
      " 1.11472123 1.11301212 1.11117041 1.10941336 1.11154408 1.11614559\n",
      " 1.11398163 1.11642125 1.13526216 1.16271524 1.20362146 1.13384137\n",
      " 1.183005   1.22879    1.17159843 1.19301329 1.15458782 1.17429979\n",
      " 1.1340086  1.18521185 1.16204958 1.12953258] values) were removed from the OD data since the OD plateaued and is no longer valid.\n",
      "The ['B2', 'B3', 'B4', 'B5', 'B6', 'B8', 'B9', 'B10', 'B11', 'B12', 'C2', 'C3', 'C4', 'C5', 'C6', 'C7', 'C8', 'C9', 'C10', 'C11', 'C12', 'D2', 'D3', 'D4', 'D5', 'D6', 'D7', 'D8', 'D9', 'D10', 'D11', 'D12', 'E2', 'E3', 'E4', 'E5', 'E6', 'E7', 'E8', 'E9', 'E10', 'E11', 'E12', 'F2', 'F3', 'F4', 'F5', 'F6', 'F7', 'F8', 'F9', 'F10', 'F11', 'F12', 'G2', 'G3', 'G4', 'G5', 'G6', 'G7', 'G8', 'G9', 'G10', 'G11', 'G12'] trials were dropped from the pf measurements per the ignore_trials parameter.\n",
      "The ['B2', 'B3', 'B4', 'B5', 'B6', 'B8', 'B9', 'B10', 'B11', 'B12', 'C2', 'C3', 'C4', 'C5', 'C6', 'C7', 'C8', 'C9', 'C10', 'C11', 'C12', 'D2', 'D3', 'D4', 'D5', 'D6', 'D7', 'D8', 'D9', 'D10', 'D11', 'D12', 'E2', 'E3', 'E4', 'E5', 'E6', 'E7', 'E8', 'E9', 'E10', 'E11', 'E12', 'F2', 'F3', 'F4', 'F5', 'F6', 'F7', 'F8', 'F9', 'F10', 'F11', 'F12', 'G2', 'G3', 'G4', 'G5', 'G6', 'G7', 'G8', 'G9', 'G10', 'G11', 'G12'] trials were dropped from the ecoli measurements per the ignore_trials parameter.\n",
      "CPU times: total: 8.83 s\n",
      "Wall time: 9.98 s\n"
     ]
    }
   ],
   "source": [
    "%%time \n",
    "\n",
    "%run data/standardized_data/datastandardization.py\n",
    "growth_data_path=\"data/Jeffs_data/PF-EC 4-29-22 ratios and 4HB changes.xlsx\"\n",
    "experimental_metadata, growth_df, fluxes_df, standardized_carbon_conc, requisite_biomass, trial_name_conversion, data_timestep_hr, simulation_timestep, media_conc = GrowthData.process(\n",
    "    community_members = {\n",
    "        ecoli: {\n",
    "            'name': 'ecoli', \n",
    "            'phenotypes': {\n",
    "                'Maltose': {\"consumed\":[\"cpd00179\"],\n",
    "                         \"excreted\":[\"cpd00029\"]}, #kbase_api.get_from_ws(\"93465/23/1\")} #'93465/9/1')}   # !!! The phenotype name must align with the experimental IDs for the graphs to find the appropriate data\n",
    "                'Acetate': {\"consumed\":[\"cpd00029\"]}, #kbase_api.get_from_ws('93465/13/1'), \n",
    "                }\n",
    "        },\n",
    "        pf: {\n",
    "            'name': 'pf',\n",
    "            'phenotypes': {\n",
    "                'Acetate': {\"consumed\":[\"cpd00029\"]}, # kbase_api.get_from_ws(\"93465/25/1\"), #'93465/11/1'), \n",
    "                '4-Hydroxybenzoate': {\"consumed\":[\"cpd00136\"]} # kbase_api.get_from_ws('\t93465/27/1')} #93465/15/1')}\n",
    "                }\n",
    "        }\n",
    "    },\n",
    "    data_paths = {'path':growth_data_path, 'Raw OD(590)':'OD', 'mNeonGreen':'pf', 'mRuby':'ecoli'},\n",
    "    species_abundances = species_abundances,\n",
    "    carbon_conc_series = carbon_conc_series,\n",
    "    ignore_trials = {'rows': ['C', 'D', 'E', 'F', 'G'], 'columns': [1,2,3,4,5,6,8,9,10,11,12]},\n",
    "    species_identities_rows = species_identities_rows\n",
    ")"
   ]
  },
  {
   "cell_type": "markdown",
   "id": "8d3c6748-17b1-4ee3-92c5-b586961b30ea",
   "metadata": {},
   "source": [
    "## Define the LP"
   ]
  },
  {
   "cell_type": "code",
   "execution_count": 8,
   "id": "7fd8815a-776a-4b92-a53d-915d0b60f592",
   "metadata": {},
   "outputs": [
    {
     "name": "stderr",
     "output_type": "stream",
     "text": [
      "C:\\Users\\Andrew Freiburger\\Documents\\Argonne\\ProjectNotebooks\\CommunityModeling\\CommPhitting\\mscommphitting.py:80: DeprecationWarning: invalid escape sequence \\_\n",
      "  met_id = re.sub('(\\_\\w\\d+)', '', met)\n"
     ]
    },
    {
     "name": "stdout",
     "output_type": "stream",
     "text": [
      "Done with concentrations and biomass loops: 0.01796875 min\n",
      "Done with DCC loop: 0.0015625 min\n",
      "Done with the DBC & diffc loop: 0.003125 min\n",
      "Solver: <class 'optlang.glpk_interface.Model'>\n",
      "Done with loading the variables, constraints, and objective: 0.11380208333333333 min\n",
      "Done exporting the content: 0.084375 min\n",
      "CPU times: total: 22 s\n",
      "Wall time: 24.5 s\n"
     ]
    }
   ],
   "source": [
    "%%time\n",
    "\n",
    "%run mscommphitting.py\n",
    "\n",
    "def _partition_coefs(initial_val, divisor):\n",
    "    return (initial_val, initial_val/divisor, initial_val/divisor**2, initial_val/divisor**3, initial_val/divisor**4)\n",
    "\n",
    "maltose_co = CommPhitting(fluxes_df, standardized_carbon_conc, media_conc, '../../../ModelSEED/ModelSEEDDatabase', growth_df, experimental_metadata)\n",
    "maltose_co.define_problem(\n",
    "    parameters = {'cvmin': .1, 'bcv': 0.0001, \"stationary\": 5e-3},\n",
    "    mets_to_track = [\"cpd00179\",\"cpd00029\"],\n",
    "    rel_final_conc = {\"cpd00179\":0.1},\n",
    "    zero_start = [\"cpd00029\", \"cpd00136\"],\n",
    "    abs_final_conc = {\"cpd00029\":0}, # metabolomics data\n",
    "    export_zip_name = 'maltose_co.zip',\n",
    "    requisite_biomass = requisite_biomass,\n",
    "    biomass_coefs=_partition_coefs(1, 2),\n",
    "    export_lp = \"maltose_coculture_simple.lp\"\n",
    ")"
   ]
  },
  {
   "cell_type": "markdown",
   "id": "4d462de0-0b2c-439b-a0c8-5e56b23534a6",
   "metadata": {},
   "source": [
    "## Solve and display results"
   ]
  },
  {
   "cell_type": "code",
   "execution_count": null,
   "id": "c0a21237-0b43-425f-a101-894a64af10c8",
   "metadata": {},
   "outputs": [],
   "source": [
    "%%time \n",
    "\n",
    "maltose_co.compute(update_graphs(\"G6\"), None, None, True, \"test_primals_simple.json\")"
   ]
  },
  {
   "cell_type": "code",
   "execution_count": null,
   "id": "81c3f55f-cb62-42f3-9b7b-c9f4b12d0619",
   "metadata": {},
   "outputs": [],
   "source": []
  }
 ],
 "metadata": {
  "kernelspec": {
   "display_name": "Python 3 (ipykernel)",
   "language": "python",
   "name": "python3"
  },
  "language_info": {
   "codemirror_mode": {
    "name": "ipython",
    "version": 3
   },
   "file_extension": ".py",
   "mimetype": "text/x-python",
   "name": "python",
   "nbconvert_exporter": "python",
   "pygments_lexer": "ipython3",
   "version": "3.9.12"
  }
 },
 "nbformat": 4,
 "nbformat_minor": 5
}
