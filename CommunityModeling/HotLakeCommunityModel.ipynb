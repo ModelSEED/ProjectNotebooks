{
 "cells": [
  {
   "cell_type": "code",
   "execution_count": 1,
   "metadata": {},
   "outputs": [
    {
     "name": "stdout",
     "output_type": "stream",
     "text": [
      "cobrakbase 0.2.7\n"
     ]
    }
   ],
   "source": [
    "import sys, inspect\n",
    "import cobra\n",
    "#If you have CPLEX, uncomment this\n",
    "import cplex\n",
    "import cobrakbase\n",
    "#Put the path to ModelSEEDpy on your machine here\n",
    "sys.path.append(\"/Users/chenry/code/ModelSEEDpy\")\n",
    "from modelseedpy import MSPackageManager, FBAHelper, MSBuilder"
   ]
  },
  {
   "cell_type": "code",
   "execution_count": 2,
   "metadata": {},
   "outputs": [
    {
     "name": "stderr",
     "output_type": "stream",
     "text": [
      "/Users/chenry/opt/anaconda3/lib/python3.7/site-packages/cobra/util/solver.py:416 \u001b[1;31mUserWarning\u001b[0m: solver status is 'infeasible'\n"
     ]
    },
    {
     "name": "stdout",
     "output_type": "stream",
     "text": [
      "Making biomass drain:cpd11416_c1\n",
      "Making biomass drain:cpd11416_c2\n",
      "Making biomass drain:cpd11416_c3\n",
      "Making biomass drain:cpd11416_c4\n",
      "Making biomass drain:cpd11416_c5\n",
      "Making biomass drain:cpd11416_c6\n",
      "Making biomass drain:cpd11416_c7\n",
      "1:bio2\n",
      "2:bio5\n",
      "3:bio6\n",
      "4:bio7\n",
      "5:bio8\n",
      "6:bio9\n",
      "7:bio10\n",
      "1:0.0\n",
      "2:77.40179637641974\n",
      "3:88.9268914979359\n",
      "4:100.0\n",
      "5:90.25839309844747\n",
      "6:99.26912843301935\n",
      "7:88.22648207180839\n"
     ]
    }
   ],
   "source": [
    "kbase_api = cobrakbase.KBaseAPI()\n",
    "model = kbase_api.get_from_ws(\"Hot_Lake_seven.mdl\",93544)\n",
    "#If you have CPLEX, uncomment this\n",
    "model.solver = 'optlang-cplex'\n",
    "template = kbase_api.get_from_ws(\"GramNegModelTemplateV3\",\"NewKBaseModelTemplates\")\n",
    "media = kbase_api.get_from_ws(\"HotLakeMedia\",93544)\n",
    "model = MSBuilder.gapfill_model(model,\"bio1\",template,None)\n",
    "#Getting package manager to create and track community model packages\n",
    "FBAHelper.set_objective_from_target_reaction(model,\"bio1\")\n",
    "pkgmgr = MSPackageManager.get_pkg_mgr(model)\n",
    "pkgmgr.getpkg(\"KBaseMediaPkg\").build_package(None)\n",
    "pkgmgr.getpkg(\"CommKineticPkg\").build_package(2100,None,True)\n",
    "with open('CommunityFBA.lp', 'w') as out:\n",
    "    out.write(str(model.solver))\n",
    "for i in range(1,8,1):\n",
    "    FBAHelper.set_objective_from_target_reaction(model,\"DM_cpd11416_c\"+str(i))\n",
    "    sol=model.optimize()\n",
    "    print(str(i)+\":\"+str(sol.objective_value))"
   ]
  },
  {
   "cell_type": "code",
   "execution_count": null,
   "metadata": {},
   "outputs": [],
   "source": []
  }
 ],
 "metadata": {
  "kernelspec": {
   "display_name": "Python 3",
   "language": "python",
   "name": "python3"
  },
  "language_info": {
   "codemirror_mode": {
    "name": "ipython",
    "version": 3
   },
   "file_extension": ".py",
   "mimetype": "text/x-python",
   "name": "python",
   "nbconvert_exporter": "python",
   "pygments_lexer": "ipython3",
   "version": "3.7.6"
  }
 },
 "nbformat": 4,
 "nbformat_minor": 4
}
