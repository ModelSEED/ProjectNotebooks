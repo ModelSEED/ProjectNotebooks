{
 "cells": [
  {
   "cell_type": "code",
   "execution_count": null,
   "id": "a274f340-69d0-4439-bf56-de6eaf533b9d",
   "metadata": {},
   "outputs": [],
   "source": [
    "{\"Ewingella americana\": {\n",
    "    \"url\": \"https://www.bv-brc.org/view/GenomeList/?and(keyword(Ewingella),keyword(americana))#view_tab=genomes\",\n",
    "    \"genomeIDs\": [\"41202.33\", \"41202.32\", \"41202.31\", \"41202.30\", \"41202.29\", \"41202.28\", \n",
    "                  \"41202.26\", \"41202.24\", \"41202.12\", \"41202.11\", , \"41202.9\", , \"41202.7\", \"910964.7\"]}}"
   ]
  }
 ],
 "metadata": {
  "kernelspec": {
   "display_name": "Python 3 (ipykernel)",
   "language": "python",
   "name": "python3"
  },
  "language_info": {
   "codemirror_mode": {
    "name": "ipython",
    "version": 3
   },
   "file_extension": ".py",
   "mimetype": "text/x-python",
   "name": "python",
   "nbconvert_exporter": "python",
   "pygments_lexer": "ipython3",
   "version": "3.9.6"
  }
 },
 "nbformat": 4,
 "nbformat_minor": 5
}
