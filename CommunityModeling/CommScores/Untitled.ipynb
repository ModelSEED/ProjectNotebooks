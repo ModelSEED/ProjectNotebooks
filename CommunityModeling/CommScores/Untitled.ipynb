{
 "cells": [
  {
   "cell_type": "code",
   "execution_count": 1,
   "id": "e2e29d59-8811-4ac2-a700-b5b6940b428f",
   "metadata": {},
   "outputs": [],
   "source": [
    "import commscores"
   ]
  },
  {
   "cell_type": "code",
   "execution_count": 2,
   "id": "f81d5651-32d8-4ddb-b1a1-bc438cf0f5be",
   "metadata": {},
   "outputs": [
    {
     "name": "stdout",
     "output_type": "stream",
     "text": [
      "dict_keys(['__name__', '__doc__', '__package__', '__loader__', '__spec__', '__builtin__', '__builtins__', '_ih', '_oh', '_dh', 'In', 'Out', 'get_ipython', 'exit', 'quit', 'open', '_', '__', '___', '_i', '_ii', '_iii', '_i1', 'commscores', '_i2'])\n"
     ]
    }
   ],
   "source": [
    "print(locals().keys())"
   ]
  },
  {
   "cell_type": "code",
   "execution_count": 3,
   "id": "502dedf8-05e4-4e1c-9c87-0c3af2d1c802",
   "metadata": {},
   "outputs": [
    {
     "data": {
      "text/plain": [
       "<module 'commscores' (namespace)>"
      ]
     },
     "execution_count": 3,
     "metadata": {},
     "output_type": "execute_result"
    }
   ],
   "source": [
    "commscores"
   ]
  },
  {
   "cell_type": "code",
   "execution_count": 4,
   "id": "9f583352-022a-413e-86e5-7bafc4d21ce6",
   "metadata": {},
   "outputs": [
    {
     "name": "stdout",
     "output_type": "stream",
     "text": [
      "modelseedpy 0.2.2\n"
     ]
    }
   ],
   "source": [
    "from commscores import commscores"
   ]
  },
  {
   "cell_type": "code",
   "execution_count": 6,
   "id": "a2b62cdc-5cfd-4c92-91bb-020583a85b9e",
   "metadata": {},
   "outputs": [
    {
     "ename": "ImportError",
     "evalue": "cannot import name 'CommScores' from 'commscores' (unknown location)",
     "output_type": "error",
     "traceback": [
      "\u001b[1;31m---------------------------------------------------------------------------\u001b[0m",
      "\u001b[1;31mImportError\u001b[0m                               Traceback (most recent call last)",
      "Cell \u001b[1;32mIn[6], line 1\u001b[0m\n\u001b[1;32m----> 1\u001b[0m \u001b[38;5;28;01mfrom\u001b[39;00m \u001b[38;5;21;01mcommscores\u001b[39;00m \u001b[38;5;28;01mimport\u001b[39;00m CommScores\n",
      "\u001b[1;31mImportError\u001b[0m: cannot import name 'CommScores' from 'commscores' (unknown location)"
     ]
    }
   ],
   "source": [
    "from commscores import CommScores"
   ]
  },
  {
   "cell_type": "code",
   "execution_count": 5,
   "id": "cbacfdf4-acc8-4136-b77c-56f059409dd6",
   "metadata": {},
   "outputs": [
    {
     "data": {
      "text/plain": [
       "commscores.commscores.CommScores"
      ]
     },
     "execution_count": 5,
     "metadata": {},
     "output_type": "execute_result"
    }
   ],
   "source": [
    "commscores.CommScores"
   ]
  }
 ],
 "metadata": {
  "kernelspec": {
   "display_name": "Python 3 (ipykernel)",
   "language": "python",
   "name": "python3"
  },
  "language_info": {
   "codemirror_mode": {
    "name": "ipython",
    "version": 3
   },
   "file_extension": ".py",
   "mimetype": "text/x-python",
   "name": "python",
   "nbconvert_exporter": "python",
   "pygments_lexer": "ipython3",
   "version": "3.9.12"
  }
 },
 "nbformat": 4,
 "nbformat_minor": 5
}
