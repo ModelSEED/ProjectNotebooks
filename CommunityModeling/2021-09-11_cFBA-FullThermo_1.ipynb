{
 "cells": [
  {
   "cell_type": "markdown",
   "id": "regional-orlando",
   "metadata": {},
   "source": [
    "# Import KBase and cFBA"
   ]
  },
  {
   "cell_type": "code",
   "execution_count": 1,
   "id": "optical-mexican",
   "metadata": {},
   "outputs": [
    {
     "name": "stdout",
     "output_type": "stream",
     "text": [
      "cobrakbase 0.2.8\n"
     ]
    }
   ],
   "source": [
    "# import kbase\n",
    "import os\n",
    "#os.environ[\"HOME\"] = 'C:\\\\Users\\\\Andrew Freiburger\\\\Dropbox\\\\My PC (DESKTOP-M302P50)\\\\Documents\\\\UVic Civil Engineering\\\\Internships\\\\Agronne\\\\cobrakbase'\n",
    "import cobrakbase\n",
    "token = 'JOSNYJGASTV5BGELWQTUSATE4TNHZ66U'\n",
    "kbase = cobrakbase.KBaseAPI(token)\n",
    "\n",
    "ftp_path = '../../ModelSEEDDatabase'\n",
    "\n",
    "# import cFBA\n",
    "%matplotlib inline"
   ]
  },
  {
   "cell_type": "markdown",
   "id": "level-bishop",
   "metadata": {},
   "source": [
    "# The 3-member Electrosynth model"
   ]
  },
  {
   "cell_type": "markdown",
   "id": "therapeutic-helena",
   "metadata": {},
   "source": [
    "## Unconstained"
   ]
  },
  {
   "cell_type": "code",
   "execution_count": 2,
   "id": "informal-queens",
   "metadata": {},
   "outputs": [
    {
     "name": "stdout",
     "output_type": "stream",
     "text": [
      "Making biomass drain: cpd11416_c1\n",
      "Making biomass drain: cpd11416_c2\n",
      "Making biomass drain: cpd11416_c3\n",
      "species 1 drain-flux objective value: 2.0662468919167036\n",
      "species 2 drain-flux objective value: 6.182228448150508\n",
      "species 3 drain-flux objective value: 6.145662130043043\n",
      "\n",
      "Model objective value: 3.766216581357403\n",
      "\n",
      "\n",
      "\n",
      "Production matrix:\n",
      "                1            2            3\n",
      "Donor                                      \n",
      "1        0.000000   525.758709   681.068788\n",
      "2      615.130758     0.000000  2492.677015\n",
      "3      145.763634  2307.900404     0.000000\n",
      "\n",
      "\n",
      "Consumption matrix:\n",
      "                   1            2            3\n",
      "Receiver                                      \n",
      "1           0.000000   615.130758   145.763634\n",
      "2         525.758709     0.000000  2307.900404\n",
      "3         681.068788  2492.677015     0.000000\n",
      "\n",
      "\n"
     ]
    },
    {
     "data": {
      "image/png": "[encoded data removed]",
      "text/plain": [
       "<Figure size 432x288 with 1 Axes>"
      ]
     },
     "metadata": {},
     "output_type": "display_data"
    }
   ],
   "source": [
    "%run ../../ModelSEEDpy/modelseedpy/core/mscommunity.py\n",
    "\n",
    "modelInfo_2 = ['electrosynth_comnty.mdl.gf.2021',93204]\n",
    "mediaInfo_2 = [\"CO2_minimal\",93204]\n",
    "\n",
    "model = kbase.get_from_ws(modelInfo_2[0],modelInfo_2[1])\n",
    "media = kbase.get_from_ws(mediaInfo_2[0],mediaInfo_2[1])\n",
    "\n",
    "# simulate and visualize the model\n",
    "cfba = MSCommunity(model)\n",
    "cfba.drain_fluxes(media)\n",
    "cfba.gapfill(media)\n",
    "cfba.constrain(media)\n",
    "solution = cfba.run()#summary = True)\n",
    "cfba.compute_interactions(solution)\n",
    "cfba.visualize()"
   ]
  },
  {
   "cell_type": "markdown",
   "id": "focused-psychiatry",
   "metadata": {},
   "source": [
    "## FullThermo constained"
   ]
  },
  {
   "cell_type": "code",
   "execution_count": 3,
   "id": "aerial-mumbai",
   "metadata": {
    "tags": []
   },
   "outputs": [
    {
     "name": "stdout",
     "output_type": "stream",
     "text": [
      "Making biomass drain: cpd11416_c1\n",
      "Making biomass drain: cpd11416_c2\n",
      "Making biomass drain: cpd11416_c3\n",
      "species 1 drain-flux objective value: 2.0662468919167036\n",
      "species 2 drain-flux objective value: 6.182228448150508\n",
      "species 3 drain-flux objective value: 6.145662130043043\n",
      "\n",
      "Model objective value: 0.0\n",
      "\n",
      "\n",
      "\n",
      "Production matrix:\n",
      "         1    2    3\n",
      "Donor               \n",
      "1      0.0  0.0  0.0\n",
      "2      0.0  0.0  0.0\n",
      "3      0.0  0.0  0.0\n",
      "\n",
      "\n",
      "Consumption matrix:\n",
      "            1    2    3\n",
      "Receiver               \n",
      "1         0.0  0.0  0.0\n",
      "2         0.0  0.0  0.0\n",
      "3         0.0  0.0  0.0\n",
      "\n",
      "\n"
     ]
    },
    {
     "data": {
      "image/png": "[encoded data removed]",
      "text/plain": [
       "<Figure size 432x288 with 1 Axes>"
      ]
     },
     "metadata": {},
     "output_type": "display_data"
    }
   ],
   "source": [
    "%run ../../ModelSEEDpy/modelseedpy/core/mscommunity.py\n",
    "\n",
    "modelInfo_2 = ['electrosynth_comnty.mdl.gf.2021',93204]\n",
    "mediaInfo_2 = [\"CO2_minimal\",93204]\n",
    "\n",
    "model = kbase.get_from_ws(modelInfo_2[0],modelInfo_2[1])\n",
    "media = kbase.get_from_ws(mediaInfo_2[0],mediaInfo_2[1])\n",
    "\n",
    "# simulate and visualize the model\n",
    "cfba = MSCommunity(model)\n",
    "cfba.drain_fluxes(media)\n",
    "cfba.gapfill(media)\n",
    "cfba.constrain(media, msdb_path_for_fullthermo = ftp_path, verbose = False)\n",
    "solution = cfba.run()#summary = True)\n",
    "cfba.compute_interactions(solution)\n",
    "cfba.visualize()"
   ]
  },
  {
   "cell_type": "markdown",
   "id": "prime-recorder",
   "metadata": {},
   "source": [
    "# The 2-member Zahmeeth model"
   ]
  },
  {
   "cell_type": "markdown",
   "id": "focused-tooth",
   "metadata": {},
   "source": [
    "## Unconstained"
   ]
  },
  {
   "cell_type": "code",
   "execution_count": 4,
   "id": "involved-shark",
   "metadata": {},
   "outputs": [
    {
     "name": "stdout",
     "output_type": "stream",
     "text": [
      "Making biomass drain: cpd11416_c1\n",
      "Making biomass drain: cpd11416_c2\n",
      "species 1 drain-flux objective value: 0.17439698835991613\n",
      "species 2 drain-flux objective value: 0.16925387417839582\n",
      "\n",
      "Model objective value: 0.17375024029002195\n",
      "\n",
      "\n",
      "\n",
      "Production matrix:\n",
      "                1          2\n",
      "Donor                       \n",
      "1        0.000000  18.264719\n",
      "2      426.862401   0.000000\n",
      "\n",
      "\n",
      "Consumption matrix:\n",
      "                  1           2\n",
      "Receiver                       \n",
      "1          0.000000  426.862401\n",
      "2         18.264719    0.000000\n",
      "\n",
      "\n"
     ]
    },
    {
     "data": {
      "image/png": "[encoded data removed]",
      "text/plain": [
       "<Figure size 432x288 with 1 Axes>"
      ]
     },
     "metadata": {},
     "output_type": "display_data"
    }
   ],
   "source": [
    "%run ../../ModelSEEDpy/modelseedpy/core/mscommunity.py\n",
    "\n",
    "modelInfo_2 = [\"CMM_iAH991V2_iML1515.kb\",40576]\n",
    "mediaInfo_2 = [\"Btheta_Ecoli_minimal_media\",40576]\n",
    "\n",
    "model = kbase.get_from_ws(modelInfo_2[0],modelInfo_2[1])\n",
    "media = kbase.get_from_ws(mediaInfo_2[0],mediaInfo_2[1])\n",
    "\n",
    "# simulate and visualize the model\n",
    "cfba = MSCommunity(model)\n",
    "cfba.drain_fluxes(media)\n",
    "cfba.gapfill(media)\n",
    "cfba.constrain(media)\n",
    "solution = cfba.run()#summary = True)\n",
    "cfba.compute_interactions(solution)\n",
    "cfba.visualize()"
   ]
  },
  {
   "cell_type": "markdown",
   "id": "angry-compilation",
   "metadata": {},
   "source": [
    "## FullThermo constained"
   ]
  },
  {
   "cell_type": "code",
   "execution_count": 5,
   "id": "clinical-waters",
   "metadata": {
    "tags": []
   },
   "outputs": [
    {
     "name": "stdout",
     "output_type": "stream",
     "text": [
      "Making biomass drain: cpd11416_c1\n",
      "Making biomass drain: cpd11416_c2\n",
      "species 1 drain-flux objective value: 0.17439698835991613\n",
      "species 2 drain-flux objective value: 0.16925387417839582\n",
      "\n",
      "Model objective value: 0.0\n",
      "\n",
      "\n",
      "\n",
      "Production matrix:\n",
      "         1    2\n",
      "Donor          \n",
      "1      0.0  0.0\n",
      "2      0.0  0.0\n",
      "\n",
      "\n",
      "Consumption matrix:\n",
      "            1    2\n",
      "Receiver          \n",
      "1         0.0  0.0\n",
      "2         0.0  0.0\n",
      "\n",
      "\n"
     ]
    },
    {
     "data": {
      "image/png": "[encoded data removed]",
      "text/plain": [
       "<Figure size 432x288 with 1 Axes>"
      ]
     },
     "metadata": {},
     "output_type": "display_data"
    }
   ],
   "source": [
    "%run ../../ModelSEEDpy/modelseedpy/core/mscommunity.py\n",
    "\n",
    "modelInfo_2 = [\"CMM_iAH991V2_iML1515.kb\",40576]\n",
    "mediaInfo_2 = [\"Btheta_Ecoli_minimal_media\",40576]\n",
    "\n",
    "model = kbase.get_from_ws(modelInfo_2[0],modelInfo_2[1])\n",
    "media = kbase.get_from_ws(mediaInfo_2[0],mediaInfo_2[1])\n",
    "\n",
    "# simulate and visualize the model\n",
    "cfba = MSCommunity(model)\n",
    "cfba.drain_fluxes(media)\n",
    "cfba.gapfill(media)\n",
    "cfba.constrain(media, msdb_path_for_fullthermo = ftp_path, verbose = False)\n",
    "solution = cfba.run()#summary = True)\n",
    "cfba.compute_interactions(solution)\n",
    "cfba.visualize()"
   ]
  },
  {
   "cell_type": "code",
   "execution_count": null,
   "id": "banned-swift",
   "metadata": {},
   "outputs": [],
   "source": []
  },
  {
   "cell_type": "code",
   "execution_count": null,
   "id": "affected-structure",
   "metadata": {},
   "outputs": [],
   "source": []
  },
  {
   "cell_type": "code",
   "execution_count": null,
   "id": "technological-reply",
   "metadata": {},
   "outputs": [],
   "source": []
  },
  {
   "cell_type": "code",
   "execution_count": null,
   "id": "supreme-masters",
   "metadata": {},
   "outputs": [],
   "source": []
  },
  {
   "cell_type": "code",
   "execution_count": null,
   "id": "valuable-facial",
   "metadata": {},
   "outputs": [],
   "source": []
  },
  {
   "cell_type": "code",
   "execution_count": null,
   "id": "quiet-location",
   "metadata": {},
   "outputs": [],
   "source": []
  },
  {
   "cell_type": "code",
   "execution_count": null,
   "id": "medium-trading",
   "metadata": {},
   "outputs": [],
   "source": []
  }
 ],
 "metadata": {
  "kernelspec": {
   "display_name": "Python 3",
   "language": "python",
   "name": "python3"
  },
  "language_info": {
   "codemirror_mode": {
    "name": "ipython",
    "version": 3
   },
   "file_extension": ".py",
   "mimetype": "text/x-python",
   "name": "python",
   "nbconvert_exporter": "python",
   "pygments_lexer": "ipython3",
   "version": "3.8.10"
  }
 },
 "nbformat": 4,
 "nbformat_minor": 5
}
