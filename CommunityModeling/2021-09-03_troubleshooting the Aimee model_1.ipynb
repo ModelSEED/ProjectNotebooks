{
 "cells": [
  {
   "cell_type": "markdown",
   "metadata": {},
   "source": [
    "# import the content"
   ]
  },
  {
   "cell_type": "code",
   "execution_count": 1,
   "metadata": {},
   "outputs": [
    {
     "name": "stdout",
     "output_type": "stream",
     "text": [
      "cobrakbase 0.2.8\n"
     ]
    }
   ],
   "source": [
    "# import kbase\n",
    "import os\n",
    "local_cobrakbase_path = 'C:\\\\Users\\\\Andrew Freiburger\\\\Dropbox\\\\My PC (DESKTOP-M302P50)\\\\Documents\\\\UVic Civil Engineering\\\\Internships\\\\Agronne\\\\cobrakbase'\n",
    "os.environ[\"HOME\"] = local_cobrakbase_path\n",
    "import cobrakbase\n",
    "token = 'H6SZTTVQGYLKE55YLU5AOZ24OJWLKZNW'\n",
    "kbase = cobrakbase.KBaseAPI(token)\n",
    "\n",
    "# import cFBA\n",
    "%run ../../TFA/ModelSEEDpy/modelseedpy/core/mscommunity.py\n",
    "%matplotlib inline"
   ]
  },
  {
   "cell_type": "markdown",
   "metadata": {},
   "source": [
    "# Electrosynth"
   ]
  },
  {
   "cell_type": "code",
   "execution_count": 32,
   "metadata": {
    "scrolled": true
   },
   "outputs": [
    {
     "name": "stderr",
     "output_type": "stream",
     "text": [
      "WARNING:cobrakbase.core.kbasefba.fbamodel_builder:unable to add sink for [cpd15302_c0]: not found\n",
      "WARNING:cobrakbase.core.kbasefba.fbamodel_builder:unable to add sink for [cpd02701_c0]: not found\n"
     ]
    },
    {
     "name": "stdout",
     "output_type": "stream",
     "text": [
      "Making biomass drain: cpd11416_c1\n",
      "Making biomass drain: cpd11416_c2\n",
      "Making biomass drain: cpd11416_c3\n",
      "species 1 drain-flux objective value: 2.0662468919167076\n",
      "species 2 drain-flux objective value: 6.182228448150576\n",
      "species 3 drain-flux objective value: 6.145662130043244\n",
      "Maximize\n",
      "1.0*bio1 - 1.0*bio1_reverse_b18f7\n",
      "\n",
      "\n",
      "Objective\n",
      "=========\n",
      "1.0 bio1 = 3.7662165813573685\n",
      "\n",
      "Uptake\n",
      "------\n",
      " Metabolite       Reaction    Flux  C-Number C-Flux\n",
      "cpd00013_e0 EX_cpd00013_e0   33.31         0  0.00%\n",
      "cpd00030_e0 EX_cpd00030_e0 0.01608         0  0.00%\n",
      "cpd00034_e0 EX_cpd00034_e0 0.01608         0  0.00%\n",
      "cpd00048_e0 EX_cpd00048_e0  0.8386         0  0.00%\n",
      "cpd00058_e0 EX_cpd00058_e0 0.01608         0  0.00%\n",
      "cpd00063_e0 EX_cpd00063_e0 0.01608         0  0.00%\n",
      "cpd00099_e0 EX_cpd00099_e0 0.01608         0  0.00%\n",
      "cpd00149_e0 EX_cpd00149_e0 0.01608         0  0.00%\n",
      "cpd00205_e0 EX_cpd00205_e0 0.01608         0  0.00%\n",
      "cpd00254_e0 EX_cpd00254_e0 0.01608         0  0.00%\n",
      "cpd10516_e0 EX_cpd10516_e0     100         0  0.00%\n",
      "cpd17041_c1    rxn13782_c1   1.255         0  0.00%\n",
      "cpd17041_c2    rxn13782_c2   1.255         0  0.00%\n",
      "cpd17041_c3    rxn13782_c3   1.255         0  0.00%\n",
      "cpd17042_c1    rxn13783_c1   1.255         0  0.00%\n",
      "cpd17042_c2    rxn13783_c2   1.255         0  0.00%\n",
      "cpd17042_c3    rxn13783_c3   1.255         0  0.00%\n",
      "cpd17043_c1    rxn13784_c1   1.255         0  0.00%\n",
      "cpd17043_c2    rxn13784_c2   1.255         0  0.00%\n",
      "cpd17043_c3    rxn13784_c3   1.255         0  0.00%\n",
      "\n",
      "Secretion\n",
      "---------\n",
      " Metabolite       Reaction      Flux  C-Number C-Flux\n",
      "cpd00001_e0 EX_cpd00001_e0      -100         0  0.00%\n",
      "cpd00009_e0 EX_cpd00009_e0      -100         0  0.00%\n",
      "cpd00011_e0 EX_cpd00011_e0    -35.52         1 24.54%\n",
      "cpd00012_e0 EX_cpd00012_e0    -20.64         0  0.00%\n",
      "cpd00047_e0 EX_cpd00047_e0      -100         1 69.09%\n",
      "cpd00067_e0 EX_cpd00067_e0      -100         0  0.00%\n",
      "cpd00069_e0 EX_cpd00069_e0   -0.3386         9  2.11%\n",
      "cpd00367_e0 EX_cpd00367_e0   -0.6805         9  4.23%\n",
      "cpd10515_e0 EX_cpd10515_e0    -99.94         0  0.00%\n",
      "cpd15378_e0 EX_cpd15378_e0 -0.007046         7  0.03%\n",
      "cpd11416_c0 SK_cpd11416_c0    -3.766         0  0.00%\n",
      "\n",
      "\n",
      "Production matrix:\n",
      "                1            2            3\n",
      "Donor                                      \n",
      "1        0.000000   472.744034   681.068788\n",
      "2      614.863961     0.000000  2465.401089\n",
      "3      145.763634  2379.137175     0.000000\n",
      "\n",
      "\n",
      "Consumption matrix:\n",
      "                   1            2            3\n",
      "Receiver                                      \n",
      "1           0.000000   614.863961   145.763634\n",
      "2         472.744034     0.000000  2379.137175\n",
      "3         681.068788  2465.401089     0.000000\n"
     ]
    },
    {
     "data": {
      "image/png": "[encoded data removed]",
      "text/plain": [
       "<Figure size 432x288 with 1 Axes>"
      ]
     },
     "metadata": {},
     "output_type": "display_data"
    }
   ],
   "source": [
    "%run ../../TFA/ModelSEEDpy/modelseedpy/core/mscommunity.py\n",
    "# import the model\n",
    "# from modelseedpy.fbapkg import kbasemediapkg\n",
    "\n",
    "modelInfo_2 = ['electrosynth_comnty.mdl.gf.2021',93204]\n",
    "mediaInfo_2 = [\"CO2_minimal\",93204]\n",
    "\n",
    "model = kbase.get_from_ws(modelInfo_2[0],modelInfo_2[1])\n",
    "media = kbase.get_from_ws(mediaInfo_2[0],mediaInfo_2[1])\n",
    "# kmp = kbasemediapkg.KBaseMediaPkg(self.model)\n",
    "# kmp.build_package(media)\n",
    "\n",
    "# simulate and visualize the model\n",
    "cfba = MSCommunity(model)\n",
    "cfba.drain_fluxes(media)\n",
    "cfba.constrain(media)\n",
    "cfba.gapfill(media)\n",
    "solution = cfba.run(summary = True)\n",
    "cfba.compute_interactions(solution)\n",
    "cfba.visualize()"
   ]
  },
  {
   "cell_type": "markdown",
   "metadata": {},
   "source": [
    "# Zahmeeth model"
   ]
  },
  {
   "cell_type": "code",
   "execution_count": 31,
   "metadata": {
    "scrolled": true
   },
   "outputs": [
    {
     "name": "stderr",
     "output_type": "stream",
     "text": [
      "WARNING:cobrakbase.core.kbasefba.fbamodel_builder:unable to add sink for [cpd15302_c0]: not found\n",
      "WARNING:cobrakbase.core.kbasefba.fbamodel_builder:unable to add sink for [cpd02701_c0]: not found\n"
     ]
    },
    {
     "name": "stdout",
     "output_type": "stream",
     "text": [
      "Making biomass drain: cpd11416_c1\n",
      "Making biomass drain: cpd11416_c2\n",
      "species 1 drain-flux objective value: 0.17439698835991638\n",
      "species 2 drain-flux objective value: 0.16925387417839663\n",
      "Maximize\n",
      "1.0*bio1 - 1.0*bio1_reverse_b18f7\n",
      "\n",
      "\n",
      "Objective\n",
      "=========\n",
      "1.0 bio1 = 0.1737502402900219\n",
      "\n",
      "Uptake\n",
      "------\n",
      " Metabolite         Reaction      Flux  C-Number C-Flux\n",
      "cpd00009_e0   EX_cpd00009_e0    0.2375         0  0.00%\n",
      "cpd00013_e0   EX_cpd00013_e0     1.933         0  0.00%\n",
      "cpd00027_e0   EX_cpd00027_e0         5         6 99.86%\n",
      "cpd00028_e0   EX_cpd00028_e0 0.0004055        34  0.05%\n",
      "cpd00030_e0   EX_cpd00030_e0 0.0004656         0  0.00%\n",
      "cpd00034_e0   EX_cpd00034_e0 0.0004352         0  0.00%\n",
      "cpd00048_e0   EX_cpd00048_e0 0.0003769         0  0.00%\n",
      "cpd00058_e0   EX_cpd00058_e0 6.159E-05         0  0.00%\n",
      "cpd00063_e0   EX_cpd00063_e0 0.0008577         0  0.00%\n",
      "cpd00098_e0   EX_cpd00098_e0 0.0004055         5  0.01%\n",
      "cpd00099_e0   EX_cpd00099_e0 0.0004522         0  0.00%\n",
      "cpd00149_e0   EX_cpd00149_e0 0.0004077         0  0.00%\n",
      "cpd00205_e0   EX_cpd00205_e0   0.01736         0  0.00%\n",
      "cpd00239_e0   EX_cpd00239_e0   0.04423         0  0.00%\n",
      "cpd00244_e0   EX_cpd00244_e0 2.806E-05         0  0.00%\n",
      "cpd00254_e0   EX_cpd00254_e0  0.001159         0  0.00%\n",
      "cpd00635_e0   EX_cpd00635_e0 0.0004055        62  0.08%\n",
      "cpd00971_e0   EX_cpd00971_e0 0.0004055         0  0.00%\n",
      "cpd10515_e0   EX_cpd10515_e0  0.001123         0  0.00%\n",
      "cpd10516_e0   EX_cpd10516_e0  0.001084         0  0.00%\n",
      "cpd11574_e0   EX_cpd11574_e0 6.081E-07         0  0.00%\n",
      "cpd00074_c2 sink__DASH__s_c2 0.0004057         0  0.00%\n",
      "\n",
      "Secretion\n",
      "---------\n",
      " Metabolite           Reaction       Flux  C-Number C-Flux\n",
      "cpd15378_c2  DM__DASH__4HBA_c2 -0.0004249         7  0.01%\n",
      "cpd15380_c2 DM__DASH__5DRIB_c2 -0.0004057         5  0.01%\n",
      "cpd02701_c2  DM__DASH__AMOB_c2 -0.0004057        15  0.03%\n",
      "cpd15380_c1     DM_cpd15380_c1 -3.875E-05         5  0.00%\n",
      "  12ethd_e0       EX_12ethd_e0  -0.001642         0  0.00%\n",
      "cpd00001_e0     EX_cpd00001_e0     -2.799         0  0.00%\n",
      "cpd00011_e0     EX_cpd00011_e0      -3.82         1 18.13%\n",
      "cpd00029_e0     EX_cpd00029_e0     -4.822         2 45.78%\n",
      "cpd00036_e0     EX_cpd00036_e0     -1.897         4 36.01%\n",
      "cpd00047_e0     EX_cpd00047_e0   -0.00365         1  0.02%\n",
      "cpd00067_e0     EX_cpd00067_e0     -10.31         0  0.00%\n",
      "cpd00116_e0     EX_cpd00116_e0 -0.0004057         1  0.00%\n",
      "cpd11640_e0     EX_cpd11640_e0     -7.859         0  0.00%\n",
      "cpd11416_c0     SK_cpd11416_c0    -0.1738         0  0.00%\n",
      "\n",
      "\n",
      "Production matrix:\n",
      "                1          2\n",
      "Donor                       \n",
      "1        0.000000  18.264719\n",
      "2      426.862401   0.000000\n",
      "\n",
      "\n",
      "Consumption matrix:\n",
      "                  1           2\n",
      "Receiver                       \n",
      "1          0.000000  426.862401\n",
      "2         18.264719    0.000000\n"
     ]
    },
    {
     "data": {
      "image/png": "[encoded data removed]",
      "text/plain": [
       "<Figure size 432x288 with 1 Axes>"
      ]
     },
     "metadata": {},
     "output_type": "display_data"
    }
   ],
   "source": [
    "%run ../../TFA/ModelSEEDpy/modelseedpy/core/mscommunity.py\n",
    "# import the model\n",
    "# from modelseedpy.fbapkg import kbasemediapkg\n",
    "\n",
    "modelInfo_2 = [\"CMM_iAH991V2_iML1515.kb\",40576]\n",
    "mediaInfo_2 = [\"Btheta_Ecoli_minimal_media\",40576]\n",
    "\n",
    "model = kbase.get_from_ws(modelInfo_2[0],modelInfo_2[1])\n",
    "media = kbase.get_from_ws(mediaInfo_2[0],mediaInfo_2[1])\n",
    "# kmp = kbasemediapkg.KBaseMediaPkg(self.model)\n",
    "# kmp.build_package(media)\n",
    "\n",
    "# simulate and visualize the model\n",
    "cfba = MSCommunity(model)\n",
    "cfba.drain_fluxes(media)\n",
    "cfba.constrain(media)\n",
    "cfba.gapfill(media)\n",
    "solution = cfba.run(summary = True)\n",
    "cfba.compute_interactions(solution)\n",
    "cfba.visualize()"
   ]
  },
  {
   "cell_type": "markdown",
   "metadata": {},
   "source": [
    "# HotLake model"
   ]
  },
  {
   "cell_type": "markdown",
   "metadata": {},
   "source": [
    "### Sans media"
   ]
  },
  {
   "cell_type": "code",
   "execution_count": 39,
   "metadata": {
    "scrolled": true
   },
   "outputs": [
    {
     "name": "stderr",
     "output_type": "stream",
     "text": [
      "WARNING:cobrakbase.core.kbasefba.fbamodel_builder:unable to add sink for [cpd15302_c0]: not found\n",
      "WARNING:cobrakbase.core.kbasefba.fbamodel_builder:unable to add sink for [cpd02701_c0]: not found\n"
     ]
    },
    {
     "name": "stdout",
     "output_type": "stream",
     "text": [
      "Making biomass drain: cpd11416_c1\n",
      "Making biomass drain: cpd11416_c2\n",
      "Making biomass drain: cpd11416_c3\n",
      "Making biomass drain: cpd11416_c4\n",
      "Making biomass drain: cpd11416_c5\n",
      "Making biomass drain: cpd11416_c6\n",
      "Making biomass drain: cpd11416_c7\n",
      "species 1 drain-flux objective value: 0.0\n",
      "species 2 drain-flux objective value: 42.435113028798625\n",
      "species 3 drain-flux objective value: 59.22060595046671\n",
      "species 4 drain-flux objective value: 46.772022514758156\n",
      "species 5 drain-flux objective value: 50.12444558995676\n",
      "species 6 drain-flux objective value: 61.5050766817288\n",
      "species 7 drain-flux objective value: 50.44766086351248\n"
     ]
    },
    {
     "name": "stderr",
     "output_type": "stream",
     "text": [
      "C:\\Users\\Andrew Freiburger\\AppData\\Roaming\\Python\\Python37\\site-packages\\cobra\\util\\solver.py:554: UserWarning: Solver status is 'infeasible'.\n",
      "  warn(f\"Solver status is '{status}'.\", UserWarning)\n",
      "modelseedpy.core.msgapfill - WARNING - No solution found for <cobrakbase.core.kbasebiochem.media.Media object at 0x000002103B36F8C8>\n",
      "WARNING:modelseedpy.core.msgapfill:No solution found for <cobrakbase.core.kbasebiochem.media.Media object at 0x000002103B36F8C8>\n"
     ]
    },
    {
     "name": "stdout",
     "output_type": "stream",
     "text": [
      "\n",
      "--> ERROR: The simulation lacks a solution, and cannot be gapfilled.\n",
      "\n",
      "Maximize\n",
      "1.0*bio1 - 1.0*bio1_reverse_b18f7\n",
      "\n",
      "\n",
      "Objective\n",
      "=========\n",
      "1.0 bio1 = 0.0\n",
      "\n",
      "Uptake\n",
      "------\n",
      "Empty DataFrame\n",
      "Columns: [Metabolite, Reaction, Flux, C-Number, C-Flux]\n",
      "Index: []\n",
      "\n",
      "Secretion\n",
      "---------\n",
      "Empty DataFrame\n",
      "Columns: [Metabolite, Reaction, Flux, C-Number, C-Flux]\n",
      "Index: []\n",
      "\n",
      "\n",
      "Production matrix:\n",
      "         1    2    3    4    5    6    7\n",
      "Donor                                   \n",
      "1      0.0  0.0  0.0  0.0  0.0  0.0  0.0\n",
      "2      0.0  0.0  0.0  0.0  0.0  0.0  0.0\n",
      "3      0.0  0.0  0.0  0.0  0.0  0.0  0.0\n",
      "4      0.0  0.0  0.0  0.0  0.0  0.0  0.0\n",
      "5      0.0  0.0  0.0  0.0  0.0  0.0  0.0\n",
      "6      0.0  0.0  0.0  0.0  0.0  0.0  0.0\n",
      "7      0.0  0.0  0.0  0.0  0.0  0.0  0.0\n",
      "\n",
      "\n",
      "Consumption matrix:\n",
      "            1    2    3    4    5    6    7\n",
      "Receiver                                   \n",
      "1         0.0  0.0  0.0  0.0  0.0  0.0  0.0\n",
      "2         0.0  0.0  0.0  0.0  0.0  0.0  0.0\n",
      "3         0.0  0.0  0.0  0.0  0.0  0.0  0.0\n",
      "4         0.0  0.0  0.0  0.0  0.0  0.0  0.0\n",
      "5         0.0  0.0  0.0  0.0  0.0  0.0  0.0\n",
      "6         0.0  0.0  0.0  0.0  0.0  0.0  0.0\n",
      "7         0.0  0.0  0.0  0.0  0.0  0.0  0.0\n"
     ]
    },
    {
     "data": {
      "image/png": "[encoded data removed]",
      "text/plain": [
       "<Figure size 432x288 with 1 Axes>"
      ]
     },
     "metadata": {},
     "output_type": "display_data"
    }
   ],
   "source": [
    "%run ../../TFA/ModelSEEDpy/modelseedpy/core/mscommunity.py\n",
    "\n",
    "modelInfo_2 = [\"Hot_Lake_seven.mdl\",93544]\n",
    "mediaInfo_2 = [\"HotLakeMedia\",93544]\n",
    "\n",
    "model = kbase.get_from_ws(modelInfo_2[0],modelInfo_2[1])\n",
    "media = kbase.get_from_ws(mediaInfo_2[0],mediaInfo_2[1])\n",
    "# kmp = kbasemediapkg.KBaseMediaPkg(self.model)\n",
    "# kmp.build_package(media)\n",
    "\n",
    "# simulate and visualize the model\n",
    "cfba = MSCommunity(model)\n",
    "cfba.drain_fluxes()\n",
    "cfba.constrain(media)\n",
    "cfba.gapfill(media)\n",
    "solution = cfba.run(summary = True)\n",
    "cfba.compute_interactions(solution)\n",
    "cfba.visualize()"
   ]
  },
  {
   "cell_type": "markdown",
   "metadata": {},
   "source": [
    "### with media"
   ]
  },
  {
   "cell_type": "code",
   "execution_count": 38,
   "metadata": {
    "scrolled": true
   },
   "outputs": [
    {
     "name": "stderr",
     "output_type": "stream",
     "text": [
      "WARNING:cobrakbase.core.kbasefba.fbamodel_builder:unable to add sink for [cpd15302_c0]: not found\n",
      "WARNING:cobrakbase.core.kbasefba.fbamodel_builder:unable to add sink for [cpd02701_c0]: not found\n"
     ]
    },
    {
     "name": "stdout",
     "output_type": "stream",
     "text": [
      "Making biomass drain: cpd11416_c1\n",
      "Making biomass drain: cpd11416_c2\n",
      "Making biomass drain: cpd11416_c3\n",
      "Making biomass drain: cpd11416_c4\n",
      "Making biomass drain: cpd11416_c5\n",
      "Making biomass drain: cpd11416_c6\n",
      "Making biomass drain: cpd11416_c7\n",
      "species 1 drain-flux objective value: 0.0\n",
      "species 2 drain-flux objective value: 0.0\n",
      "species 3 drain-flux objective value: 0.0\n",
      "species 4 drain-flux objective value: 0.0\n",
      "species 5 drain-flux objective value: 0.0\n",
      "species 6 drain-flux objective value: 0.0\n",
      "species 7 drain-flux objective value: 0.0\n"
     ]
    },
    {
     "name": "stderr",
     "output_type": "stream",
     "text": [
      "C:\\Users\\Andrew Freiburger\\AppData\\Roaming\\Python\\Python37\\site-packages\\cobra\\util\\solver.py:554: UserWarning: Solver status is 'infeasible'.\n",
      "  warn(f\"Solver status is '{status}'.\", UserWarning)\n",
      "modelseedpy.core.msgapfill - WARNING - No solution found for <cobrakbase.core.kbasebiochem.media.Media object at 0x000002102F835288>\n",
      "WARNING:modelseedpy.core.msgapfill:No solution found for <cobrakbase.core.kbasebiochem.media.Media object at 0x000002102F835288>\n"
     ]
    },
    {
     "name": "stdout",
     "output_type": "stream",
     "text": [
      "\n",
      "--> ERROR: The simulation lacks a solution, and cannot be gapfilled.\n",
      "\n",
      "Maximize\n",
      "1.0*bio1 - 1.0*bio1_reverse_b18f7\n",
      "\n",
      "\n",
      "Objective\n",
      "=========\n",
      "1.0 bio1 = 0.0\n",
      "\n",
      "Uptake\n",
      "------\n",
      "Empty DataFrame\n",
      "Columns: [Metabolite, Reaction, Flux, C-Number, C-Flux]\n",
      "Index: []\n",
      "\n",
      "Secretion\n",
      "---------\n",
      "Empty DataFrame\n",
      "Columns: [Metabolite, Reaction, Flux, C-Number, C-Flux]\n",
      "Index: []\n",
      "\n",
      "\n",
      "Production matrix:\n",
      "         1    2    3    4    5    6    7\n",
      "Donor                                   \n",
      "1      0.0  0.0  0.0  0.0  0.0  0.0  0.0\n",
      "2      0.0  0.0  0.0  0.0  0.0  0.0  0.0\n",
      "3      0.0  0.0  0.0  0.0  0.0  0.0  0.0\n",
      "4      0.0  0.0  0.0  0.0  0.0  0.0  0.0\n",
      "5      0.0  0.0  0.0  0.0  0.0  0.0  0.0\n",
      "6      0.0  0.0  0.0  0.0  0.0  0.0  0.0\n",
      "7      0.0  0.0  0.0  0.0  0.0  0.0  0.0\n",
      "\n",
      "\n",
      "Consumption matrix:\n",
      "            1    2    3    4    5    6    7\n",
      "Receiver                                   \n",
      "1         0.0  0.0  0.0  0.0  0.0  0.0  0.0\n",
      "2         0.0  0.0  0.0  0.0  0.0  0.0  0.0\n",
      "3         0.0  0.0  0.0  0.0  0.0  0.0  0.0\n",
      "4         0.0  0.0  0.0  0.0  0.0  0.0  0.0\n",
      "5         0.0  0.0  0.0  0.0  0.0  0.0  0.0\n",
      "6         0.0  0.0  0.0  0.0  0.0  0.0  0.0\n",
      "7         0.0  0.0  0.0  0.0  0.0  0.0  0.0\n"
     ]
    },
    {
     "data": {
      "image/png": "[encoded data removed]",
      "text/plain": [
       "<Figure size 432x288 with 1 Axes>"
      ]
     },
     "metadata": {},
     "output_type": "display_data"
    }
   ],
   "source": [
    "%run ../../TFA/ModelSEEDpy/modelseedpy/core/mscommunity.py\n",
    "\n",
    "modelInfo_2 = [\"Hot_Lake_seven.mdl\",93544]\n",
    "mediaInfo_2 = [\"HotLakeMedia\",93544]\n",
    "\n",
    "model = kbase.get_from_ws(modelInfo_2[0],modelInfo_2[1])\n",
    "media = kbase.get_from_ws(mediaInfo_2[0],mediaInfo_2[1])\n",
    "# kmp = kbasemediapkg.KBaseMediaPkg(self.model)\n",
    "# kmp.build_package(media)\n",
    "\n",
    "# simulate and visualize the model\n",
    "cfba = MSCommunity(model)\n",
    "cfba.drain_fluxes(media)\n",
    "cfba.constrain(media)\n",
    "cfba.gapfill(media)\n",
    "solution = cfba.run(summary = True)\n",
    "cfba.compute_interactions(solution)\n",
    "cfba.visualize()"
   ]
  },
  {
   "cell_type": "markdown",
   "metadata": {},
   "source": [
    "# Sans media"
   ]
  },
  {
   "cell_type": "code",
   "execution_count": 4,
   "metadata": {
    "scrolled": true
   },
   "outputs": [
    {
     "name": "stderr",
     "output_type": "stream",
     "text": [
      "WARNING:cobrakbase.core.kbasefba.fbamodel_builder:unable to add sink for [cpd15302_c0]: not found\n",
      "WARNING:cobrakbase.core.kbasefba.fbamodel_builder:unable to add sink for [cpd02701_c0]: not found\n"
     ]
    },
    {
     "name": "stdout",
     "output_type": "stream",
     "text": [
      "Making biomass drain: cpd11416_c1\n",
      "Making biomass drain: cpd11416_c2\n",
      "Maximize\n",
      "1.0*DM_cpd11416_c1 - 1.0*DM_cpd11416_c1_reverse_1b49e\n",
      "species 1 drain-flux objective value: 59.70847756317544\n",
      "Maximize\n",
      "1.0*DM_cpd11416_c2 - 1.0*DM_cpd11416_c2_reverse_3f8a4\n",
      "species 2 drain-flux objective value: 100.0\n",
      "Maximize\n",
      "1.0*bio1 - 1.0*bio1_reverse_b18f7\n",
      "\n",
      "\n",
      "Objective\n",
      "=========\n",
      "1.0 bio1 = 74.44111934095874\n",
      "\n",
      "Uptake\n",
      "------\n",
      " Metabolite       Reaction   Flux  C-Number C-Flux\n",
      "cpd00007_e0 EX_cpd00007_e0    100         0  0.00%\n",
      "cpd00017_e0 EX_cpd00017_e0    100        15  5.75%\n",
      "cpd00024_e0 EX_cpd00024_e0    100         5  1.92%\n",
      "cpd00027_e0 EX_cpd00027_e0    100         6  2.30%\n",
      "cpd00028_e0 EX_cpd00028_e0 0.2089        34  0.03%\n",
      "cpd00030_e0 EX_cpd00030_e0 0.2089         0  0.00%\n",
      "cpd00032_e0 EX_cpd00032_e0    100         4  1.53%\n",
      "cpd00033_e0 EX_cpd00033_e0  48.85         2  0.37%\n",
      "cpd00034_e0 EX_cpd00034_e0 0.2089         0  0.00%\n",
      "cpd00039_e0 EX_cpd00039_e0  21.25         6  0.49%\n",
      "cpd00048_e0 EX_cpd00048_e0 0.2089         0  0.00%\n",
      "cpd00051_e0 EX_cpd00051_e0  18.36         6  0.42%\n",
      "cpd00053_e0 EX_cpd00053_e0    100         5  1.92%\n",
      "cpd00054_e0 EX_cpd00054_e0  31.92         3  0.37%\n",
      "cpd00058_e0 EX_cpd00058_e0 0.2089         0  0.00%\n",
      "cpd00063_e0 EX_cpd00063_e0 0.2089         0  0.00%\n",
      "cpd00065_e0 EX_cpd00065_e0  3.514        11  0.15%\n",
      "cpd00066_e0 EX_cpd00066_e0   11.5         9  0.40%\n",
      "cpd00067_e0 EX_cpd00067_e0    100         0  0.00%\n",
      "cpd00069_e0 EX_cpd00069_e0  9.088         9  0.31%\n",
      "cpd00075_e0 EX_cpd00075_e0  8.897         0  0.00%\n",
      "cpd00080_e0 EX_cpd00080_e0    100         3  1.15%\n",
      "cpd00082_e0 EX_cpd00082_e0  1.418         6  0.03%\n",
      "cpd00084_e0 EX_cpd00084_e0    6.4         3  0.07%\n",
      "cpd00099_e0 EX_cpd00099_e0 0.2089         0  0.00%\n",
      "cpd00104_e0 EX_cpd00104_e0 0.2089        10  0.01%\n",
      "cpd00107_e0 EX_cpd00107_e0  27.94         6  0.64%\n",
      "cpd00118_e0 EX_cpd00118_e0 0.2089         4  0.00%\n",
      "cpd00119_e0 EX_cpd00119_e0    5.9         6  0.14%\n",
      "cpd00132_e0 EX_cpd00132_e0  91.86         4  1.41%\n",
      "cpd00136_e0 EX_cpd00136_e0 0.1044         7  0.00%\n",
      "cpd00138_e0 EX_cpd00138_e0  4.451         6  0.10%\n",
      "cpd00149_e0 EX_cpd00149_e0 0.2089         0  0.00%\n",
      "cpd00158_e0 EX_cpd00158_e0    100        12  4.60%\n",
      "cpd00161_e0 EX_cpd00161_e0    100         4  1.53%\n",
      "cpd00164_e0 EX_cpd00164_e0    100         6  2.30%\n",
      "cpd00179_e0 EX_cpd00179_e0    100        12  4.60%\n",
      "cpd00182_e0 EX_cpd00182_e0  11.64        10  0.45%\n",
      "cpd00184_e0 EX_cpd00184_e0    100        10  3.83%\n",
      "cpd00205_e0 EX_cpd00205_e0 0.2089         0  0.00%\n",
      "cpd00209_e0 EX_cpd00209_e0    100         0  0.00%\n",
      "cpd00215_e0 EX_cpd00215_e0 0.1044         8  0.00%\n",
      "cpd00220_e0 EX_cpd00220_e0 0.6267        17  0.04%\n",
      "cpd00235_e0 EX_cpd00235_e0  65.12         6  1.50%\n",
      "cpd00254_e0 EX_cpd00254_e0 0.2089         0  0.00%\n",
      "cpd00264_e0 EX_cpd00264_e0 0.2089         7  0.01%\n",
      "cpd00276_e0 EX_cpd00276_e0    100         6  2.30%\n",
      "cpd00277_e0 EX_cpd00277_e0    100        10  3.83%\n",
      "cpd00305_e0 EX_cpd00305_e0 0.1044        12  0.00%\n",
      "cpd00311_e0 EX_cpd00311_e0    100        10  3.83%\n",
      "cpd00355_e0 EX_cpd00355_e0    100        11  4.22%\n",
      "cpd00367_e0 EX_cpd00367_e0    100         9  3.45%\n",
      "cpd00383_e0 EX_cpd00383_e0 0.2089         7  0.01%\n",
      "cpd00393_e0 EX_cpd00393_e0 0.6267        19  0.05%\n",
      "cpd00412_e0 EX_cpd00412_e0    100         9  3.45%\n",
      "cpd00438_e0 EX_cpd00438_e0    100        10  3.83%\n",
      "cpd00644_e0 EX_cpd00644_e0 0.4178         9  0.01%\n",
      "cpd00654_e0 EX_cpd00654_e0    100         9  3.45%\n",
      "cpd00794_e0 EX_cpd00794_e0    100        12  4.60%\n",
      "cpd01080_e0 EX_cpd01080_e0  18.55        18  1.28%\n",
      "cpd03198_e0 EX_cpd03198_e0    100        12  4.60%\n",
      "cpd03279_e0 EX_cpd03279_e0    100        10  3.83%\n",
      "cpd03847_e0 EX_cpd03847_e0  1.862        14  0.10%\n",
      "cpd10515_e0 EX_cpd10515_e0 0.6267         0  0.00%\n",
      "cpd15560_e0 EX_cpd15560_e0    100        49 18.78%\n",
      "cpd17041_c1    rxn13782_c1  37.22         0  0.00%\n",
      "cpd17041_c2    rxn13782_c2  37.22         0  0.00%\n",
      "cpd17042_c1    rxn13783_c1  37.22         0  0.00%\n",
      "cpd17042_c2    rxn13783_c2  37.22         0  0.00%\n",
      "cpd17043_c1    rxn13784_c1  37.22         0  0.00%\n",
      "cpd17043_c2    rxn13784_c2  37.22         0  0.00%\n",
      "\n",
      "Secretion\n",
      "---------\n",
      " Metabolite       Reaction    Flux  C-Number C-Flux\n",
      "cpd00001_e0 EX_cpd00001_e0    -100         0  0.00%\n",
      "cpd00009_e0 EX_cpd00009_e0    -100         0  0.00%\n",
      "cpd00011_e0 EX_cpd00011_e0    -100         1  0.43%\n",
      "cpd00012_e0 EX_cpd00012_e0  -52.32         0  0.00%\n",
      "cpd00013_e0 EX_cpd00013_e0  -93.04         0  0.00%\n",
      "cpd00020_e0 EX_cpd00020_e0    -100         3  1.30%\n",
      "cpd00023_e0 EX_cpd00023_e0   -49.5         5  1.07%\n",
      "cpd00029_e0 EX_cpd00029_e0    -100         2  0.86%\n",
      "cpd00035_e0 EX_cpd00035_e0    -100         3  1.30%\n",
      "cpd00036_e0 EX_cpd00036_e0    -100         4  1.73%\n",
      "cpd00041_e0 EX_cpd00041_e0    -100         4  1.73%\n",
      "cpd00047_e0 EX_cpd00047_e0    -100         1  0.43%\n",
      "cpd00060_e0 EX_cpd00060_e0  -90.28         5  1.95%\n",
      "cpd00092_e0 EX_cpd00092_e0    -100         4  1.73%\n",
      "cpd00100_e0 EX_cpd00100_e0    -100         3  1.30%\n",
      "cpd00108_e0 EX_cpd00108_e0    -100         6  2.59%\n",
      "cpd00117_e0 EX_cpd00117_e0    -100         3  1.30%\n",
      "cpd00122_e0 EX_cpd00122_e0    -100         8  3.45%\n",
      "cpd00128_e0 EX_cpd00128_e0    -100         5  2.16%\n",
      "cpd00129_e0 EX_cpd00129_e0    -100         5  2.16%\n",
      "cpd00130_e0 EX_cpd00130_e0    -100         4  1.73%\n",
      "cpd00137_e0 EX_cpd00137_e0  -91.37         6  2.37%\n",
      "cpd00139_e0 EX_cpd00139_e0    -100         2  0.86%\n",
      "cpd00142_e0 EX_cpd00142_e0    -100         4  1.73%\n",
      "cpd00151_e0 EX_cpd00151_e0    -100         5  2.16%\n",
      "cpd00156_e0 EX_cpd00156_e0    -100         5  2.16%\n",
      "cpd00159_e0 EX_cpd00159_e0    -100         3  1.30%\n",
      "cpd00176_e0 EX_cpd00176_e0    -100         6  2.59%\n",
      "cpd00218_e0 EX_cpd00218_e0   -99.9         6  2.59%\n",
      "cpd00222_e0 EX_cpd00222_e0    -100         6  2.59%\n",
      "cpd00226_e0 EX_cpd00226_e0    -100         5  2.16%\n",
      "cpd00246_e0 EX_cpd00246_e0    -100        10  4.32%\n",
      "cpd00249_e0 EX_cpd00249_e0    -100         9  3.89%\n",
      "cpd00307_e0 EX_cpd00307_e0  -92.19         4  1.59%\n",
      "cpd00309_e0 EX_cpd00309_e0    -100         5  2.16%\n",
      "cpd00314_e0 EX_cpd00314_e0    -100         6  2.59%\n",
      "cpd00322_e0 EX_cpd00322_e0  -90.09         6  2.33%\n",
      "cpd00588_e0 EX_cpd00588_e0    -100         6  2.59%\n",
      "cpd01171_e0 EX_cpd01171_e0    -100         6  2.59%\n",
      "cpd01217_e0 EX_cpd01217_e0    -100        10  4.32%\n",
      "cpd01757_e0 EX_cpd01757_e0    -100        11  4.75%\n",
      "cpd15378_e0 EX_cpd15378_e0 -0.1044         7  0.00%\n",
      "cpd15561_e0 EX_cpd15561_e0    -100        49 21.16%\n",
      "cpd11416_c0 SK_cpd11416_c0  -74.44         0  0.00%\n",
      "\n",
      "\n",
      "Production matrix:\n",
      "                 1            2\n",
      "Donor                          \n",
      "1         0.000000  6918.189294\n",
      "2      4613.807815     0.000000\n",
      "\n",
      "\n",
      "Consumption matrix:\n",
      "                    1            2\n",
      "Receiver                          \n",
      "1            0.000000  4613.807815\n",
      "2         6918.189294     0.000000\n"
     ]
    },
    {
     "data": {
      "text/html": [
       "<strong><em>Optimal</em> solution with objective value 74.441</strong><br><div>\n",
       "<style scoped>\n",
       "    .dataframe tbody tr th:only-of-type {\n",
       "        vertical-align: middle;\n",
       "    }\n",
       "\n",
       "    .dataframe tbody tr th {\n",
       "        vertical-align: top;\n",
       "    }\n",
       "\n",
       "    .dataframe thead th {\n",
       "        text-align: right;\n",
       "    }\n",
       "</style>\n",
       "<table border=\"1\" class=\"dataframe\">\n",
       "  <thead>\n",
       "    <tr style=\"text-align: right;\">\n",
       "      <th></th>\n",
       "      <th>fluxes</th>\n",
       "      <th>reduced_costs</th>\n",
       "    </tr>\n",
       "  </thead>\n",
       "  <tbody>\n",
       "    <tr>\n",
       "      <th>rxn02342_c1</th>\n",
       "      <td>0.000000</td>\n",
       "      <td>0.000000e+00</td>\n",
       "    </tr>\n",
       "    <tr>\n",
       "      <th>rxn08734_c1</th>\n",
       "      <td>0.000000</td>\n",
       "      <td>-1.110223e-16</td>\n",
       "    </tr>\n",
       "    <tr>\n",
       "      <th>rxn00199_c1</th>\n",
       "      <td>0.000000</td>\n",
       "      <td>0.000000e+00</td>\n",
       "    </tr>\n",
       "    <tr>\n",
       "      <th>rxn10126_c1</th>\n",
       "      <td>0.000000</td>\n",
       "      <td>0.000000e+00</td>\n",
       "    </tr>\n",
       "    <tr>\n",
       "      <th>rxn05040_c1</th>\n",
       "      <td>0.000000</td>\n",
       "      <td>-4.250304e-01</td>\n",
       "    </tr>\n",
       "    <tr>\n",
       "      <th>...</th>\n",
       "      <td>...</td>\n",
       "      <td>...</td>\n",
       "    </tr>\n",
       "    <tr>\n",
       "      <th>EX_cpd00013_e0</th>\n",
       "      <td>93.043476</td>\n",
       "      <td>0.000000e+00</td>\n",
       "    </tr>\n",
       "    <tr>\n",
       "      <th>EX_cpd00106_e0</th>\n",
       "      <td>-0.000000</td>\n",
       "      <td>0.000000e+00</td>\n",
       "    </tr>\n",
       "    <tr>\n",
       "      <th>SK_cpd11416_c0</th>\n",
       "      <td>74.441119</td>\n",
       "      <td>0.000000e+00</td>\n",
       "    </tr>\n",
       "    <tr>\n",
       "      <th>DM_cpd11416_c1</th>\n",
       "      <td>0.000000</td>\n",
       "      <td>-2.678125e+00</td>\n",
       "    </tr>\n",
       "    <tr>\n",
       "      <th>DM_cpd11416_c2</th>\n",
       "      <td>0.000000</td>\n",
       "      <td>-1.321875e+00</td>\n",
       "    </tr>\n",
       "  </tbody>\n",
       "</table>\n",
       "<p>2905 rows × 2 columns</p>\n",
       "</div>"
      ],
      "text/plain": [
       "<Solution 74.441 at 0x20f8e60bc48>"
      ]
     },
     "metadata": {},
     "output_type": "display_data"
    },
    {
     "data": {
      "image/png": "[encoded data removed]",
      "text/plain": [
       "<Figure size 432x288 with 1 Axes>"
      ]
     },
     "metadata": {},
     "output_type": "display_data"
    }
   ],
   "source": [
    "%run ../../TFA/ModelSEEDpy/modelseedpy/core/mscommunity.py\n",
    "from optlang.symbolics import Zero\n",
    "\n",
    "# from modelseedpy.fbapkg import kbasemediapkg\n",
    "modelInfo_2 = ['Cjaponicus_Ecoli_Community',97055]\n",
    "# if 'DM_cpd11416_c1' in [reaction.id for reaction in model.reactions]:\n",
    "#     print(True)\n",
    "# else:\n",
    "#     print(False)\n",
    "mediaInfo_2 = [\"GlucoseM9Media\",97055]\n",
    "model = kbase.get_from_ws(modelInfo_2[0],modelInfo_2[1])\n",
    "media = kbase.get_from_ws(mediaInfo_2[0],mediaInfo_2[1])\n",
    "# kmp = kbasemediapkg.KBaseMediaPkg(self.model)\n",
    "# kmp.build_package(media)\n",
    "\n",
    "# simulate and visualize the model\n",
    "cfba = MSCommunity(model)\n",
    "# cfba.community_fba(model,media,summary = True)\n",
    "cfba.drain_fluxes()\n",
    "cfba.gapfill()\n",
    "cfba.constrain()\n",
    "solution = cfba.run(summary = True)\n",
    "cfba.compute_interactions(solution)\n",
    "cfba.visualize()\n",
    "\n",
    "display(model.optimize())"
   ]
  },
  {
   "cell_type": "markdown",
   "metadata": {},
   "source": [
    "## Removed functions"
   ]
  },
  {
   "cell_type": "code",
   "execution_count": 5,
   "metadata": {
    "scrolled": true
   },
   "outputs": [
    {
     "name": "stderr",
     "output_type": "stream",
     "text": [
      "WARNING:cobrakbase.core.kbasefba.fbamodel_builder:unable to add sink for [cpd15302_c0]: not found\n",
      "WARNING:cobrakbase.core.kbasefba.fbamodel_builder:unable to add sink for [cpd02701_c0]: not found\n"
     ]
    },
    {
     "name": "stdout",
     "output_type": "stream",
     "text": [
      "Maximize\n",
      "1.0*bio1 - 1.0*bio1_reverse_b18f7\n",
      "\n",
      "\n",
      "Objective\n",
      "=========\n",
      "1.0 bio1 = 119.41581179507438\n",
      "\n",
      "Uptake\n",
      "------\n",
      " Metabolite       Reaction   Flux  C-Number C-Flux\n",
      "cpd00007_e0 EX_cpd00007_e0   1000         0  0.00%\n",
      "cpd00017_e0 EX_cpd00017_e0   1000        15 49.46%\n",
      "cpd00023_e0 EX_cpd00023_e0  453.3         5  7.47%\n",
      "cpd00024_e0 EX_cpd00024_e0  5.228         5  0.09%\n",
      "cpd00027_e0 EX_cpd00027_e0  754.1         6 14.92%\n",
      "cpd00028_e0 EX_cpd00028_e0 0.3351        34  0.04%\n",
      "cpd00030_e0 EX_cpd00030_e0 0.3351         0  0.00%\n",
      "cpd00033_e0 EX_cpd00033_e0  36.08         2  0.24%\n",
      "cpd00034_e0 EX_cpd00034_e0 0.3351         0  0.00%\n",
      "cpd00039_e0 EX_cpd00039_e0  34.09         6  0.67%\n",
      "cpd00042_e0 EX_cpd00042_e0  5.049        10  0.17%\n",
      "cpd00048_e0 EX_cpd00048_e0 0.3351         0  0.00%\n",
      "cpd00051_e0 EX_cpd00051_e0  29.46         6  0.58%\n",
      "cpd00053_e0 EX_cpd00053_e0     84         5  1.38%\n",
      "cpd00054_e0 EX_cpd00054_e0  61.91         3  0.61%\n",
      "cpd00058_e0 EX_cpd00058_e0 0.3351         0  0.00%\n",
      "cpd00063_e0 EX_cpd00063_e0 0.3351         0  0.00%\n",
      "cpd00065_e0 EX_cpd00065_e0  5.637        11  0.20%\n",
      "cpd00066_e0 EX_cpd00066_e0  18.45         9  0.55%\n",
      "cpd00069_e0 EX_cpd00069_e0  14.58         9  0.43%\n",
      "cpd00079_e0 EX_cpd00079_e0  230.7         6  4.56%\n",
      "cpd00080_e0 EX_cpd00080_e0  532.1         3  5.26%\n",
      "cpd00084_e0 EX_cpd00084_e0  5.217         3  0.05%\n",
      "cpd00099_e0 EX_cpd00099_e0 0.3351         0  0.00%\n",
      "cpd00104_e0 EX_cpd00104_e0 0.3351        10  0.01%\n",
      "cpd00107_e0 EX_cpd00107_e0  44.83         6  0.89%\n",
      "cpd00118_e0 EX_cpd00118_e0 0.3351         4  0.00%\n",
      "cpd00119_e0 EX_cpd00119_e0  9.465         6  0.19%\n",
      "cpd00129_e0 EX_cpd00129_e0  22.01         5  0.36%\n",
      "cpd00132_e0 EX_cpd00132_e0  23.98         4  0.32%\n",
      "cpd00136_e0 EX_cpd00136_e0 0.1675         7  0.00%\n",
      "cpd00149_e0 EX_cpd00149_e0 0.3351         0  0.00%\n",
      "cpd00161_e0 EX_cpd00161_e0  25.21         4  0.33%\n",
      "cpd00184_e0 EX_cpd00184_e0  10.01        10  0.33%\n",
      "cpd00205_e0 EX_cpd00205_e0 0.3351         0  0.00%\n",
      "cpd00209_e0 EX_cpd00209_e0  309.1         0  0.00%\n",
      "cpd00215_e0 EX_cpd00215_e0 0.1675         8  0.00%\n",
      "cpd00220_e0 EX_cpd00220_e0  1.005        17  0.06%\n",
      "cpd00235_e0 EX_cpd00235_e0  293.5         6  5.81%\n",
      "cpd00254_e0 EX_cpd00254_e0 0.3351         0  0.00%\n",
      "cpd00264_e0 EX_cpd00264_e0 0.3351         7  0.01%\n",
      "cpd00277_e0 EX_cpd00277_e0  9.057        10  0.30%\n",
      "cpd00305_e0 EX_cpd00305_e0 0.1675        12  0.01%\n",
      "cpd00307_e0 EX_cpd00307_e0  2.483         4  0.03%\n",
      "cpd00322_e0 EX_cpd00322_e0  28.87         6  0.57%\n",
      "cpd00355_e0 EX_cpd00355_e0  40.71        11  1.48%\n",
      "cpd00367_e0 EX_cpd00367_e0   3.51         9  0.10%\n",
      "cpd00383_e0 EX_cpd00383_e0 0.3351         7  0.01%\n",
      "cpd00393_e0 EX_cpd00393_e0  1.005        19  0.06%\n",
      "cpd00412_e0 EX_cpd00412_e0  5.591         9  0.17%\n",
      "cpd00438_e0 EX_cpd00438_e0  10.45        10  0.34%\n",
      "cpd00644_e0 EX_cpd00644_e0 0.6702         9  0.02%\n",
      "cpd01080_e0 EX_cpd01080_e0  29.75        18  1.77%\n",
      "cpd03847_e0 EX_cpd03847_e0  2.987        14  0.14%\n",
      "cpd10515_e0 EX_cpd10515_e0  1.005         0  0.00%\n",
      "cpd17041_c1    rxn13782_c1  59.71         0  0.00%\n",
      "cpd17041_c2    rxn13782_c2  59.71         0  0.00%\n",
      "cpd17042_c1    rxn13783_c1  59.71         0  0.00%\n",
      "cpd17042_c2    rxn13783_c2  59.71         0  0.00%\n",
      "cpd17043_c1    rxn13784_c1  59.71         0  0.00%\n",
      "cpd17043_c2    rxn13784_c2  59.71         0  0.00%\n",
      "\n",
      "Secretion\n",
      "---------\n",
      " Metabolite       Reaction    Flux  C-Number C-Flux\n",
      "cpd00001_e0 EX_cpd00001_e0    -538         0  0.00%\n",
      "cpd00009_e0 EX_cpd00009_e0   -1000         0  0.00%\n",
      "cpd00011_e0 EX_cpd00011_e0   -1000         1  3.90%\n",
      "cpd00013_e0 EX_cpd00013_e0  -471.2         0  0.00%\n",
      "cpd00029_e0 EX_cpd00029_e0    -430         2  3.36%\n",
      "cpd00035_e0 EX_cpd00035_e0   -1000         3 11.71%\n",
      "cpd00041_e0 EX_cpd00041_e0  -121.6         4  1.90%\n",
      "cpd00047_e0 EX_cpd00047_e0  -453.5         1  1.77%\n",
      "cpd00060_e0 EX_cpd00060_e0  -982.5         5 19.17%\n",
      "cpd00100_e0 EX_cpd00100_e0   -1.86         3  0.02%\n",
      "cpd00122_e0 EX_cpd00122_e0  -2.987         8  0.09%\n",
      "cpd00130_e0 EX_cpd00130_e0 -0.3351         4  0.01%\n",
      "cpd00151_e0 EX_cpd00151_e0  -9.071         5  0.18%\n",
      "cpd00156_e0 EX_cpd00156_e0  -54.19         5  1.06%\n",
      "cpd00159_e0 EX_cpd00159_e0   -1000         3 11.71%\n",
      "cpd00182_e0 EX_cpd00182_e0  -1.005        10  0.04%\n",
      "cpd00218_e0 EX_cpd00218_e0  -40.54         6  0.95%\n",
      "cpd00246_e0 EX_cpd00246_e0  -999.8        10 39.02%\n",
      "cpd00794_e0 EX_cpd00794_e0  -108.6        12  5.08%\n",
      "cpd01914_e0 EX_cpd01914_e0  -1.944         5  0.04%\n",
      "cpd15378_e0 EX_cpd15378_e0 -0.1675         7  0.00%\n",
      "cpd11416_c0 SK_cpd11416_c0  -119.4         0  0.00%\n",
      "\n",
      "\n",
      "Production matrix:\n",
      "                 1           2\n",
      "Donor                         \n",
      "1         0.000000  145.655006\n",
      "2      1365.742178    0.000000\n",
      "\n",
      "\n",
      "Consumption matrix:\n",
      "                   1            2\n",
      "Receiver                         \n",
      "1           0.000000  1365.742178\n",
      "2         145.655006     0.000000\n"
     ]
    },
    {
     "data": {
      "text/html": [
       "<strong><em>Optimal</em> solution with objective value 119.416</strong><br><div>\n",
       "<style scoped>\n",
       "    .dataframe tbody tr th:only-of-type {\n",
       "        vertical-align: middle;\n",
       "    }\n",
       "\n",
       "    .dataframe tbody tr th {\n",
       "        vertical-align: top;\n",
       "    }\n",
       "\n",
       "    .dataframe thead th {\n",
       "        text-align: right;\n",
       "    }\n",
       "</style>\n",
       "<table border=\"1\" class=\"dataframe\">\n",
       "  <thead>\n",
       "    <tr style=\"text-align: right;\">\n",
       "      <th></th>\n",
       "      <th>fluxes</th>\n",
       "      <th>reduced_costs</th>\n",
       "    </tr>\n",
       "  </thead>\n",
       "  <tbody>\n",
       "    <tr>\n",
       "      <th>rxn02342_c1</th>\n",
       "      <td>0.000000</td>\n",
       "      <td>0.000000e+00</td>\n",
       "    </tr>\n",
       "    <tr>\n",
       "      <th>rxn08734_c1</th>\n",
       "      <td>0.000000</td>\n",
       "      <td>0.000000e+00</td>\n",
       "    </tr>\n",
       "    <tr>\n",
       "      <th>rxn00199_c1</th>\n",
       "      <td>0.000000</td>\n",
       "      <td>0.000000e+00</td>\n",
       "    </tr>\n",
       "    <tr>\n",
       "      <th>rxn10126_c1</th>\n",
       "      <td>0.000000</td>\n",
       "      <td>1.110223e-16</td>\n",
       "    </tr>\n",
       "    <tr>\n",
       "      <th>rxn05040_c1</th>\n",
       "      <td>0.000000</td>\n",
       "      <td>0.000000e+00</td>\n",
       "    </tr>\n",
       "    <tr>\n",
       "      <th>...</th>\n",
       "      <td>...</td>\n",
       "      <td>...</td>\n",
       "    </tr>\n",
       "    <tr>\n",
       "      <th>EX_cpd00063_e0</th>\n",
       "      <td>-0.335100</td>\n",
       "      <td>0.000000e+00</td>\n",
       "    </tr>\n",
       "    <tr>\n",
       "      <th>EX_cpd00032_e0</th>\n",
       "      <td>0.000000</td>\n",
       "      <td>0.000000e+00</td>\n",
       "    </tr>\n",
       "    <tr>\n",
       "      <th>EX_cpd00013_e0</th>\n",
       "      <td>718.506376</td>\n",
       "      <td>0.000000e+00</td>\n",
       "    </tr>\n",
       "    <tr>\n",
       "      <th>EX_cpd00106_e0</th>\n",
       "      <td>-0.000000</td>\n",
       "      <td>0.000000e+00</td>\n",
       "    </tr>\n",
       "    <tr>\n",
       "      <th>SK_cpd11416_c0</th>\n",
       "      <td>119.415812</td>\n",
       "      <td>0.000000e+00</td>\n",
       "    </tr>\n",
       "  </tbody>\n",
       "</table>\n",
       "<p>2903 rows × 2 columns</p>\n",
       "</div>"
      ],
      "text/plain": [
       "<Solution 119.416 at 0x20f92964448>"
      ]
     },
     "metadata": {},
     "output_type": "display_data"
    },
    {
     "data": {
      "image/png": "[encoded data removed]",
      "text/plain": [
       "<Figure size 432x288 with 1 Axes>"
      ]
     },
     "metadata": {},
     "output_type": "display_data"
    }
   ],
   "source": [
    "%run ../../TFA/ModelSEEDpy/modelseedpy/core/mscommunity.py\n",
    "from optlang.symbolics import Zero\n",
    "\n",
    "# from modelseedpy.fbapkg import kbasemediapkg\n",
    "modelInfo_2 = ['Cjaponicus_Ecoli_Community',97055]\n",
    "# if 'DM_cpd11416_c1' in [reaction.id for reaction in model.reactions]:\n",
    "#     print(True)\n",
    "# else:\n",
    "#     print(False)\n",
    "mediaInfo_2 = [\"GlucoseM9Media\",97055]\n",
    "model = kbase.get_from_ws(modelInfo_2[0],modelInfo_2[1])\n",
    "media = kbase.get_from_ws(mediaInfo_2[0],mediaInfo_2[1])\n",
    "# kmp = kbasemediapkg.KBaseMediaPkg(self.model)\n",
    "# kmp.build_package(media)\n",
    "\n",
    "# simulate and visualize the model\n",
    "cfba = MSCommunity(model)\n",
    "# cfba.community_fba(model,media,summary = True)\n",
    "# cfba.drain_fluxes()\n",
    "# cfba.gapfill()\n",
    "# cfba.constrain()\n",
    "solution = cfba.run(summary = True)\n",
    "cfba.compute_interactions(solution)\n",
    "cfba.visualize()\n",
    "\n",
    "display(model.optimize())"
   ]
  },
  {
   "cell_type": "markdown",
   "metadata": {},
   "source": [
    "# community model "
   ]
  },
  {
   "cell_type": "markdown",
   "metadata": {},
   "source": [
    "### glucose media"
   ]
  },
  {
   "cell_type": "code",
   "execution_count": 28,
   "metadata": {
    "scrolled": true
   },
   "outputs": [
    {
     "name": "stderr",
     "output_type": "stream",
     "text": [
      "WARNING:cobrakbase.core.kbasefba.fbamodel_builder:unable to add sink for [cpd15302_c0]: not found\n",
      "WARNING:cobrakbase.core.kbasefba.fbamodel_builder:unable to add sink for [cpd02701_c0]: not found\n"
     ]
    },
    {
     "name": "stdout",
     "output_type": "stream",
     "text": [
      "Making biomass drain: cpd11416_c1\n",
      "Making biomass drain: cpd11416_c2\n",
      "species 1 drain-flux objective value: 0.0\n",
      "species 2 drain-flux objective value: 0.0\n"
     ]
    },
    {
     "name": "stderr",
     "output_type": "stream",
     "text": [
      "C:\\Users\\Andrew Freiburger\\AppData\\Roaming\\Python\\Python37\\site-packages\\cobra\\util\\solver.py:554: UserWarning: Solver status is 'infeasible'.\n",
      "  warn(f\"Solver status is '{status}'.\", UserWarning)\n",
      "modelseedpy.core.msgapfill - WARNING - No solution found for <cobrakbase.core.kbasebiochem.media.Media object at 0x0000020FE0302F88>\n",
      "WARNING:modelseedpy.core.msgapfill:No solution found for <cobrakbase.core.kbasebiochem.media.Media object at 0x0000020FE0302F88>\n"
     ]
    },
    {
     "name": "stdout",
     "output_type": "stream",
     "text": [
      "\n",
      "--> ERROR: The simulation lacks a solution, and cannot be gapfilled.\n",
      "\n",
      "Maximize\n",
      "1.0*bio1 - 1.0*bio1_reverse_b18f7\n",
      "\n",
      "\n",
      "Objective\n",
      "=========\n",
      "1.0 bio1 = 0.0\n",
      "\n",
      "Uptake\n",
      "------\n",
      "Empty DataFrame\n",
      "Columns: [Metabolite, Reaction, Flux, C-Number, C-Flux]\n",
      "Index: []\n",
      "\n",
      "Secretion\n",
      "---------\n",
      "Empty DataFrame\n",
      "Columns: [Metabolite, Reaction, Flux, C-Number, C-Flux]\n",
      "Index: []\n",
      "\n",
      "\n",
      "Production matrix:\n",
      "         1    2\n",
      "Donor          \n",
      "1      0.0  0.0\n",
      "2      0.0  0.0\n",
      "\n",
      "\n",
      "Consumption matrix:\n",
      "            1    2\n",
      "Receiver          \n",
      "1         0.0  0.0\n",
      "2         0.0  0.0\n"
     ]
    },
    {
     "data": {
      "image/png": "[encoded data removed]",
      "text/plain": [
       "<Figure size 432x288 with 1 Axes>"
      ]
     },
     "metadata": {},
     "output_type": "display_data"
    }
   ],
   "source": [
    "# import the model\n",
    "%run ../../TFA/ModelSEEDpy/modelseedpy/core/mscommunity.py\n",
    "# from modelseedpy.fbapkg import kbasemediapkg\n",
    "\n",
    "modelInfo_2 = ['Cjaponicus_Ecoli_Community',97055]\n",
    "mediaInfo_2 = [\"GlucoseM9Media\",97055]\n",
    "model = kbase.get_from_ws(modelInfo_2[0],modelInfo_2[1])\n",
    "media = kbase.get_from_ws(mediaInfo_2[0],mediaInfo_2[1])\n",
    "# display(dir(media))\n",
    "# display(media.mediacompounds)\n",
    "# kmp = kbasemediapkg.KBaseMediaPkg(self.model)\n",
    "# kmp.build_package(media)\n",
    "\n",
    "# simulate and visualize the model\n",
    "cfba = MSCommunity(model)\n",
    "cfba.drain_fluxes(media)\n",
    "cfba.gapfill(media)\n",
    "cfba.constrain(media)\n",
    "solution = cfba.run(summary = True)\n",
    "cfba.compute_interactions(solution)\n",
    "cfba.visualize()"
   ]
  },
  {
   "cell_type": "markdown",
   "metadata": {},
   "source": [
    "### chitin media"
   ]
  },
  {
   "cell_type": "code",
   "execution_count": 29,
   "metadata": {
    "scrolled": true
   },
   "outputs": [
    {
     "name": "stderr",
     "output_type": "stream",
     "text": [
      "WARNING:cobrakbase.core.kbasefba.fbamodel_builder:unable to add sink for [cpd15302_c0]: not found\n",
      "WARNING:cobrakbase.core.kbasefba.fbamodel_builder:unable to add sink for [cpd02701_c0]: not found\n"
     ]
    },
    {
     "name": "stdout",
     "output_type": "stream",
     "text": [
      "Making biomass drain: cpd11416_c1\n",
      "Making biomass drain: cpd11416_c2\n",
      "species 1 drain-flux objective value: 0.0\n",
      "species 2 drain-flux objective value: 0.0\n"
     ]
    },
    {
     "name": "stderr",
     "output_type": "stream",
     "text": [
      "C:\\Users\\Andrew Freiburger\\AppData\\Roaming\\Python\\Python37\\site-packages\\cobra\\util\\solver.py:554: UserWarning: Solver status is 'infeasible'.\n",
      "  warn(f\"Solver status is '{status}'.\", UserWarning)\n",
      "modelseedpy.core.msgapfill - WARNING - No solution found for <cobrakbase.core.kbasebiochem.media.Media object at 0x0000020FE4C8C048>\n",
      "WARNING:modelseedpy.core.msgapfill:No solution found for <cobrakbase.core.kbasebiochem.media.Media object at 0x0000020FE4C8C048>\n"
     ]
    },
    {
     "name": "stdout",
     "output_type": "stream",
     "text": [
      "\n",
      "--> ERROR: The simulation lacks a solution, and cannot be gapfilled.\n",
      "\n",
      "Maximize\n",
      "1.0*bio1 - 1.0*bio1_reverse_b18f7\n",
      "\n",
      "\n",
      "Objective\n",
      "=========\n",
      "1.0 bio1 = 0.0\n",
      "\n",
      "Uptake\n",
      "------\n",
      "Empty DataFrame\n",
      "Columns: [Metabolite, Reaction, Flux, C-Number, C-Flux]\n",
      "Index: []\n",
      "\n",
      "Secretion\n",
      "---------\n",
      "Empty DataFrame\n",
      "Columns: [Metabolite, Reaction, Flux, C-Number, C-Flux]\n",
      "Index: []\n",
      "\n",
      "\n",
      "Production matrix:\n",
      "         1    2\n",
      "Donor          \n",
      "1      0.0  0.0\n",
      "2      0.0  0.0\n",
      "\n",
      "\n",
      "Consumption matrix:\n",
      "            1    2\n",
      "Receiver          \n",
      "1         0.0  0.0\n",
      "2         0.0  0.0\n"
     ]
    },
    {
     "data": {
      "image/png": "[encoded data removed]",
      "text/plain": [
       "<Figure size 432x288 with 1 Axes>"
      ]
     },
     "metadata": {},
     "output_type": "display_data"
    }
   ],
   "source": [
    "# import the model\n",
    "%run ../../TFA/ModelSEEDpy/modelseedpy/core/mscommunity.py\n",
    "# from modelseedpy.fbapkg import kbasemediapkg\n",
    "\n",
    "modelInfo_2 = ['Cjaponicus_Ecoli_Community',97055]\n",
    "mediaInfo_2 = [\"ChitinM9Media\",97055]\n",
    "\n",
    "model = kbase.get_from_ws(modelInfo_2[0],modelInfo_2[1])\n",
    "media = kbase.get_from_ws(mediaInfo_2[0],mediaInfo_2[1])\n",
    "# kmp = kbasemediapkg.KBaseMediaPkg(self.model)\n",
    "# kmp.build_package(media)\n",
    "\n",
    "# simulate and visualize the model\n",
    "cfba = MSCommunity(model)\n",
    "cfba.drain_fluxes(media)\n",
    "cfba.gapfill(media)\n",
    "cfba.constrain(media) \n",
    "solution = cfba.run(summary = True)\n",
    "cfba.compute_interactions(solution)\n",
    "cfba.visualize()"
   ]
  },
  {
   "cell_type": "markdown",
   "metadata": {},
   "source": [
    "# individual models"
   ]
  },
  {
   "cell_type": "markdown",
   "metadata": {},
   "source": [
    "### Pure individual models"
   ]
  },
  {
   "cell_type": "code",
   "execution_count": 8,
   "metadata": {
    "scrolled": true
   },
   "outputs": [
    {
     "name": "stdout",
     "output_type": "stream",
     "text": [
      "Cjap\n",
      "59.708477563175684\n",
      "Ecoli\n",
      "183.21977139046743\n"
     ]
    }
   ],
   "source": [
    "modelInfo = ['Cjaponicus_gF4b_Model',97055]\n",
    "model = kbase.get_from_ws(modelInfo[0],modelInfo[1])\n",
    "print('Cjap')\n",
    "solution = model.optimize()\n",
    "print(solution.objective_value)\n",
    "# display(model.summary())\n",
    "\n",
    "modelInfo_2 = ['Ecoli_gF4_Model',97055]\n",
    "model_2 = kbase.get_from_ws(modelInfo_2[0],modelInfo_2[1])\n",
    "print('Ecoli')\n",
    "solution_2 = model_2.optimize()\n",
    "print(solution_2.objective_value)\n",
    "# display(model_2.summary())"
   ]
  },
  {
   "cell_type": "markdown",
   "metadata": {},
   "source": [
    "## Cjaponicus"
   ]
  },
  {
   "cell_type": "markdown",
   "metadata": {},
   "source": [
    "### sans media"
   ]
  },
  {
   "cell_type": "code",
   "execution_count": 25,
   "metadata": {
    "scrolled": true
   },
   "outputs": [
    {
     "name": "stdout",
     "output_type": "stream",
     "text": [
      "Maximize\n",
      "1.0*bio1 - 1.0*bio1_reverse_b18f7\n",
      "\n",
      "\n",
      "Objective\n",
      "=========\n",
      "1.0 bio1 = 15.721150560165082\n",
      "\n",
      "Uptake\n",
      "------\n",
      " Metabolite       Reaction    Flux  C-Number C-Flux\n",
      "cpd00007_e0 EX_cpd00007_e0   47.71         0  0.00%\n",
      "cpd00009_e0 EX_cpd00009_e0   12.77         0  0.00%\n",
      "cpd00017_e0 EX_cpd00017_e0     100        15 49.18%\n",
      "cpd00027_e0 EX_cpd00027_e0   30.85         6  6.07%\n",
      "cpd00028_e0 EX_cpd00028_e0 0.04412        34  0.05%\n",
      "cpd00030_e0 EX_cpd00030_e0 0.04412         0  0.00%\n",
      "cpd00033_e0 EX_cpd00033_e0   3.122         2  0.20%\n",
      "cpd00034_e0 EX_cpd00034_e0 0.04412         0  0.00%\n",
      "cpd00039_e0 EX_cpd00039_e0   4.487         6  0.88%\n",
      "cpd00041_e0 EX_cpd00041_e0   58.85         4  7.72%\n",
      "cpd00048_e0 EX_cpd00048_e0 0.04412         0  0.00%\n",
      "cpd00051_e0 EX_cpd00051_e0   3.878         6  0.76%\n",
      "cpd00053_e0 EX_cpd00053_e0   15.48         5  2.54%\n",
      "cpd00054_e0 EX_cpd00054_e0   12.64         3  1.24%\n",
      "cpd00058_e0 EX_cpd00058_e0 0.04412         0  0.00%\n",
      "cpd00063_e0 EX_cpd00063_e0 0.04412         0  0.00%\n",
      "cpd00065_e0 EX_cpd00065_e0  0.7421        11  0.27%\n",
      "cpd00066_e0 EX_cpd00066_e0   2.429         9  0.72%\n",
      "cpd00067_e0 EX_cpd00067_e0     100         0  0.00%\n",
      "cpd00069_e0 EX_cpd00069_e0   1.941         9  0.57%\n",
      "cpd00084_e0 EX_cpd00084_e0   1.374         3  0.14%\n",
      "cpd00099_e0 EX_cpd00099_e0 0.04412         0  0.00%\n",
      "cpd00104_e0 EX_cpd00104_e0 0.04412        10  0.01%\n",
      "cpd00107_e0 EX_cpd00107_e0   5.902         6  1.16%\n",
      "cpd00118_e0 EX_cpd00118_e0 0.04412         4  0.01%\n",
      "cpd00119_e0 EX_cpd00119_e0   1.246         6  0.25%\n",
      "cpd00122_e0 EX_cpd00122_e0    14.2         8  3.72%\n",
      "cpd00129_e0 EX_cpd00129_e0   2.898         5  0.48%\n",
      "cpd00132_e0 EX_cpd00132_e0   3.157         4  0.41%\n",
      "cpd00149_e0 EX_cpd00149_e0 0.04412         0  0.00%\n",
      "cpd00161_e0 EX_cpd00161_e0   3.318         4  0.44%\n",
      "cpd00205_e0 EX_cpd00205_e0 0.04412         0  0.00%\n",
      "cpd00220_e0 EX_cpd00220_e0  0.1323        17  0.07%\n",
      "cpd00254_e0 EX_cpd00254_e0 0.04412         0  0.00%\n",
      "cpd00264_e0 EX_cpd00264_e0 0.04412         7  0.01%\n",
      "cpd00276_e0 EX_cpd00276_e0     100         6 19.67%\n",
      "cpd00322_e0 EX_cpd00322_e0   3.801         6  0.75%\n",
      "cpd00393_e0 EX_cpd00393_e0  0.1323        19  0.08%\n",
      "cpd00438_e0 EX_cpd00438_e0  0.2418        10  0.08%\n",
      "cpd00644_e0 EX_cpd00644_e0 0.08823         9  0.03%\n",
      "cpd01080_e0 EX_cpd01080_e0   3.917        18  2.31%\n",
      "cpd03847_e0 EX_cpd03847_e0  0.3932        14  0.18%\n",
      "cpd10515_e0 EX_cpd10515_e0  0.1323         0  0.00%\n",
      "cpd17041_c0    rxn13782_c0   15.72         0  0.00%\n",
      "cpd17042_c0    rxn13783_c0   15.72         0  0.00%\n",
      "cpd17043_c0    rxn13784_c0   15.72         0  0.00%\n",
      "\n",
      "Secretion\n",
      "---------\n",
      " Metabolite       Reaction     Flux  C-Number C-Flux\n",
      "cpd00001_e0 EX_cpd00001_e0     -100         0  0.00%\n",
      "cpd00011_e0 EX_cpd00011_e0     -100         1  4.11%\n",
      "cpd00013_e0 EX_cpd00013_e0     -100         0  0.00%\n",
      "cpd00023_e0 EX_cpd00023_e0   -7.711         5  1.59%\n",
      "cpd00035_e0 EX_cpd00035_e0     -100         3 12.34%\n",
      "cpd00060_e0 EX_cpd00060_e0   -97.95         5 20.15%\n",
      "cpd00156_e0 EX_cpd00156_e0   -40.44         5  8.32%\n",
      "cpd00159_e0 EX_cpd00159_e0     -100         3 12.34%\n",
      "cpd00218_e0 EX_cpd00218_e0 -0.04412         6  0.01%\n",
      "cpd00246_e0 EX_cpd00246_e0   -99.96        10 41.12%\n",
      "cpd15378_e0 EX_cpd15378_e0 -0.04412         7  0.01%\n",
      "cpd11416_c0 SK_cpd11416_c0   -15.72         0  0.00%\n",
      "\n",
      "\n",
      "Production matrix:\n",
      "Empty DataFrame\n",
      "Columns: []\n",
      "Index: []\n",
      "\n",
      "\n",
      "Consumption matrix:\n",
      "Empty DataFrame\n",
      "Columns: []\n",
      "Index: []\n"
     ]
    },
    {
     "data": {
      "image/png": "[encoded data removed]",
      "text/plain": [
       "<Figure size 432x288 with 1 Axes>"
      ]
     },
     "metadata": {},
     "output_type": "display_data"
    }
   ],
   "source": [
    "# import the model\n",
    "%run ../../TFA/ModelSEEDpy/modelseedpy/core/mscommunity.py\n",
    "modelInfo_2 = ['Cjaponicus_gF4b_Model',97055]\n",
    "mediaInfo_2 = [\"GlucoseM9Media\",97055]\n",
    "\n",
    "model = kbase.get_from_ws(modelInfo_2[0],modelInfo_2[1])\n",
    "media = kbase.get_from_ws(mediaInfo_2[0],mediaInfo_2[1])\n",
    "# kmp = kbasemediapkg.KBaseMediaPkg(self.model)\n",
    "# kmp.build_package(media)\n",
    "\n",
    "# simulate and visualize the model\n",
    "cfba = MSCommunity(model)\n",
    "cfba.drain_fluxes()\n",
    "cfba.gapfill()\n",
    "cfba.constrain()\n",
    "solution = cfba.run(summary = True)\n",
    "cfba.compute_interactions(solution)\n",
    "cfba.visualize()"
   ]
  },
  {
   "cell_type": "markdown",
   "metadata": {},
   "source": [
    "### Glucose media"
   ]
  },
  {
   "cell_type": "code",
   "execution_count": 30,
   "metadata": {
    "scrolled": true
   },
   "outputs": [
    {
     "name": "stdout",
     "output_type": "stream",
     "text": [
      "Maximize\n",
      "1.0*bio1 - 1.0*bio1_reverse_b18f7\n",
      "\n",
      "\n",
      "Objective\n",
      "=========\n",
      "1.0 bio1 = 1.3379027533633712\n",
      "\n",
      "Uptake\n",
      "------\n",
      " Metabolite       Reaction     Flux  C-Number  C-Flux\n",
      "cpd00007_e0 EX_cpd00007_e0     4.26         0   0.00%\n",
      "cpd00009_e0 EX_cpd00009_e0    1.087         0   0.00%\n",
      "cpd00013_e0 EX_cpd00013_e0     11.7         0   0.00%\n",
      "cpd00027_e0 EX_cpd00027_e0       10         6 100.00%\n",
      "cpd00030_e0 EX_cpd00030_e0 0.003754         0   0.00%\n",
      "cpd00034_e0 EX_cpd00034_e0 0.003754         0   0.00%\n",
      "cpd00048_e0 EX_cpd00048_e0   0.3029         0   0.00%\n",
      "cpd00058_e0 EX_cpd00058_e0 0.003754         0   0.00%\n",
      "cpd00063_e0 EX_cpd00063_e0 0.003754         0   0.00%\n",
      "cpd00099_e0 EX_cpd00099_e0 0.003754         0   0.00%\n",
      "cpd00149_e0 EX_cpd00149_e0 0.003754         0   0.00%\n",
      "cpd00205_e0 EX_cpd00205_e0 0.003754         0   0.00%\n",
      "cpd00254_e0 EX_cpd00254_e0 0.003754         0   0.00%\n",
      "cpd10515_e0 EX_cpd10515_e0  0.01502         0   0.00%\n",
      "cpd17041_c0    rxn13782_c0    1.338         0   0.00%\n",
      "cpd17042_c0    rxn13783_c0    1.338         0   0.00%\n",
      "cpd17043_c0    rxn13784_c0    1.338         0   0.00%\n",
      "\n",
      "Secretion\n",
      "---------\n",
      " Metabolite       Reaction      Flux  C-Number C-Flux\n",
      "cpd00001_e0 EX_cpd00001_e0    -41.08         0  0.00%\n",
      "cpd00011_e0 EX_cpd00011_e0    -6.685         1 91.66%\n",
      "cpd00033_e0 EX_cpd00033_e0    -0.107         2  2.94%\n",
      "cpd00116_e0 EX_cpd00116_e0 -0.003754         1  0.05%\n",
      "cpd00218_e0 EX_cpd00218_e0 -0.003754         6  0.31%\n",
      "cpd00229_e0 EX_cpd00229_e0  -0.01126         2  0.31%\n",
      "cpd00246_e0 EX_cpd00246_e0  -0.02628        10  3.60%\n",
      "cpd15378_e0 EX_cpd15378_e0 -0.003754         7  0.36%\n",
      "cpd02701_c0 SK_cpd02701_c0 -0.003754        15  0.77%\n",
      "cpd11416_c0 SK_cpd11416_c0    -1.338         0  0.00%\n",
      "\n",
      "\n",
      "Production matrix:\n",
      "Empty DataFrame\n",
      "Columns: []\n",
      "Index: []\n",
      "\n",
      "\n",
      "Consumption matrix:\n",
      "Empty DataFrame\n",
      "Columns: []\n",
      "Index: []\n"
     ]
    },
    {
     "data": {
      "image/png": "[encoded data removed]",
      "text/plain": [
       "<Figure size 432x288 with 1 Axes>"
      ]
     },
     "metadata": {},
     "output_type": "display_data"
    }
   ],
   "source": [
    "# import the model\n",
    "%run ../../TFA/ModelSEEDpy/modelseedpy/core/mscommunity.py\n",
    "modelInfo_2 = ['Cjaponicus_gF4b_Model',97055]\n",
    "mediaInfo_2 = [\"GlucoseM9Media\",97055]\n",
    "\n",
    "model = kbase.get_from_ws(modelInfo_2[0],modelInfo_2[1])\n",
    "media = kbase.get_from_ws(mediaInfo_2[0],mediaInfo_2[1])\n",
    "# kmp = kbasemediapkg.KBaseMediaPkg(self.model)\n",
    "# kmp.build_package(media)\n",
    "\n",
    "# simulate and visualize the model\n",
    "cfba = MSCommunity(model)\n",
    "cfba.drain_fluxes(media)\n",
    "cfba.gapfill(media)\n",
    "cfba.constrain(media)\n",
    "solution = cfba.run(summary = True)\n",
    "cfba.compute_interactions(solution)\n",
    "cfba.visualize()"
   ]
  },
  {
   "cell_type": "markdown",
   "metadata": {},
   "source": [
    "### Chitin media"
   ]
  },
  {
   "cell_type": "code",
   "execution_count": 10,
   "metadata": {
    "scrolled": true
   },
   "outputs": [
    {
     "name": "stdout",
     "output_type": "stream",
     "text": [
      "Maximize\n",
      "1.0*bio1 - 1.0*bio1_reverse_b18f7\n",
      "\n",
      "\n",
      "Objective\n",
      "=========\n",
      "1.0 bio1 = 1.9450240202880686\n",
      "\n",
      "Uptake\n",
      "------\n",
      " Metabolite       Reaction     Flux  C-Number  C-Flux\n",
      "cpd00007_e0 EX_cpd00007_e0  0.04366         0   0.00%\n",
      "cpd00009_e0 EX_cpd00009_e0     1.58         0   0.00%\n",
      "cpd00013_e0 EX_cpd00013_e0     7.01         0   0.00%\n",
      "cpd00030_e0 EX_cpd00030_e0 0.005458         0   0.00%\n",
      "cpd00034_e0 EX_cpd00034_e0 0.005458         0   0.00%\n",
      "cpd00048_e0 EX_cpd00048_e0   0.4403         0   0.00%\n",
      "cpd00058_e0 EX_cpd00058_e0 0.005458         0   0.00%\n",
      "cpd00063_e0 EX_cpd00063_e0 0.005458         0   0.00%\n",
      "cpd00067_e0 EX_cpd00067_e0    14.31         0   0.00%\n",
      "cpd00099_e0 EX_cpd00099_e0 0.005458         0   0.00%\n",
      "cpd00149_e0 EX_cpd00149_e0 0.005458         0   0.00%\n",
      "cpd00205_e0 EX_cpd00205_e0 0.005458         0   0.00%\n",
      "cpd00254_e0 EX_cpd00254_e0 0.005458         0   0.00%\n",
      "cpd10515_e0 EX_cpd10515_e0  0.02183         0   0.00%\n",
      "cpd11683_e0 EX_cpd11683_e0       10         8 100.00%\n",
      "cpd17041_c0    rxn13782_c0    1.945         0   0.00%\n",
      "cpd17042_c0    rxn13783_c0    1.945         0   0.00%\n",
      "cpd17043_c0    rxn13784_c0    1.945         0   0.00%\n",
      "\n",
      "Secretion\n",
      "---------\n",
      " Metabolite       Reaction      Flux  C-Number C-Flux\n",
      "cpd00001_e0 EX_cpd00001_e0    -24.65         0  0.00%\n",
      "cpd00011_e0 EX_cpd00011_e0    -2.491         1 73.80%\n",
      "cpd00033_e0 EX_cpd00033_e0   -0.1556         2  9.22%\n",
      "cpd00116_e0 EX_cpd00116_e0 -0.005458         1  0.16%\n",
      "cpd00218_e0 EX_cpd00218_e0 -0.005458         6  0.97%\n",
      "cpd00229_e0 EX_cpd00229_e0  -0.01637         2  0.97%\n",
      "cpd00246_e0 EX_cpd00246_e0  -0.03821        10 11.32%\n",
      "cpd15378_e0 EX_cpd15378_e0 -0.005458         7  1.13%\n",
      "cpd02701_c0 SK_cpd02701_c0 -0.005458        15  2.43%\n",
      "cpd11416_c0 SK_cpd11416_c0    -1.945         0  0.00%\n",
      "\n",
      "\n",
      "Production matrix:\n",
      "Empty DataFrame\n",
      "Columns: []\n",
      "Index: []\n",
      "\n",
      "\n",
      "Consumption matrix:\n",
      "Empty DataFrame\n",
      "Columns: []\n",
      "Index: []\n"
     ]
    },
    {
     "data": {
      "image/png": "[encoded data removed]",
      "text/plain": [
       "<Figure size 432x288 with 1 Axes>"
      ]
     },
     "metadata": {},
     "output_type": "display_data"
    }
   ],
   "source": [
    "# import the model\n",
    "%run ../../TFA/ModelSEEDpy/modelseedpy/core/mscommunity.py\n",
    "modelInfo_2 = ['Cjaponicus_gF4b_Model',97055]\n",
    "mediaInfo_2 = [\"ChitinM9Media\",97055]\n",
    "\n",
    "model = kbase.get_from_ws(modelInfo_2[0],modelInfo_2[1])\n",
    "media = kbase.get_from_ws(mediaInfo_2[0],mediaInfo_2[1])\n",
    "# kmp = kbasemediapkg.KBaseMediaPkg(self.model)\n",
    "# kmp.build_package(media)\n",
    "\n",
    "# simulate and visualize the model\n",
    "cfba = MSCommunity(model)\n",
    "cfba.drain_fluxes()\n",
    "cfba.gapfill(media)\n",
    "cfba.constrain(media)\n",
    "solution = cfba.run(summary = True)\n",
    "cfba.compute_interactions(solution)\n",
    "cfba.visualize()"
   ]
  },
  {
   "cell_type": "markdown",
   "metadata": {},
   "source": [
    "## E coli"
   ]
  },
  {
   "cell_type": "markdown",
   "metadata": {},
   "source": [
    "### sans media"
   ]
  },
  {
   "cell_type": "code",
   "execution_count": 24,
   "metadata": {},
   "outputs": [
    {
     "name": "stdout",
     "output_type": "stream",
     "text": [
      "Maximize\n",
      "1.0*bio1 - 1.0*bio1_reverse_b18f7\n",
      "\n",
      "\n",
      "Objective\n",
      "=========\n",
      "1.0 bio1 = 64.64136780774604\n",
      "\n",
      "Uptake\n",
      "------\n",
      " Metabolite       Reaction   Flux  C-Number C-Flux\n",
      "cpd00007_e0 EX_cpd00007_e0 0.5895         0  0.00%\n",
      "cpd00017_e0 EX_cpd00017_e0   1.27        15  0.09%\n",
      "cpd00023_e0 EX_cpd00023_e0    100         5  2.24%\n",
      "cpd00024_e0 EX_cpd00024_e0    100         5  2.24%\n",
      "cpd00027_e0 EX_cpd00027_e0    100         6  2.69%\n",
      "cpd00028_e0 EX_cpd00028_e0 0.1814        34  0.03%\n",
      "cpd00030_e0 EX_cpd00030_e0 0.1814         0  0.00%\n",
      "cpd00032_e0 EX_cpd00032_e0    100         4  1.79%\n",
      "cpd00034_e0 EX_cpd00034_e0 0.1814         0  0.00%\n",
      "cpd00039_e0 EX_cpd00039_e0  18.45         6  0.50%\n",
      "cpd00048_e0 EX_cpd00048_e0 0.1814         0  0.00%\n",
      "cpd00051_e0 EX_cpd00051_e0  15.95         6  0.43%\n",
      "cpd00053_e0 EX_cpd00053_e0  82.99         5  1.86%\n",
      "cpd00054_e0 EX_cpd00054_e0  16.08         3  0.22%\n",
      "cpd00058_e0 EX_cpd00058_e0 0.1814         0  0.00%\n",
      "cpd00060_e0 EX_cpd00060_e0  7.173         5  0.16%\n",
      "cpd00063_e0 EX_cpd00063_e0 0.1814         0  0.00%\n",
      "cpd00065_e0 EX_cpd00065_e0  3.051        11  0.15%\n",
      "cpd00066_e0 EX_cpd00066_e0  9.988         9  0.40%\n",
      "cpd00067_e0 EX_cpd00067_e0    100         0  0.00%\n",
      "cpd00069_e0 EX_cpd00069_e0  7.801         9  0.31%\n",
      "cpd00075_e0 EX_cpd00075_e0    100         0  0.00%\n",
      "cpd00079_e0 EX_cpd00079_e0     50         6  1.35%\n",
      "cpd00080_e0 EX_cpd00080_e0    100         3  1.35%\n",
      "cpd00082_e0 EX_cpd00082_e0    100         6  2.69%\n",
      "cpd00084_e0 EX_cpd00084_e0  5.466         3  0.07%\n",
      "cpd00099_e0 EX_cpd00099_e0 0.1814         0  0.00%\n",
      "cpd00104_e0 EX_cpd00104_e0 0.1814        10  0.01%\n",
      "cpd00107_e0 EX_cpd00107_e0  24.27         6  0.65%\n",
      "cpd00118_e0 EX_cpd00118_e0 0.1814         4  0.00%\n",
      "cpd00119_e0 EX_cpd00119_e0  5.124         6  0.14%\n",
      "cpd00132_e0 EX_cpd00132_e0  12.98         4  0.23%\n",
      "cpd00136_e0 EX_cpd00136_e0 0.1814         7  0.01%\n",
      "cpd00138_e0 EX_cpd00138_e0    100         6  2.69%\n",
      "cpd00149_e0 EX_cpd00149_e0 0.1814         0  0.00%\n",
      "cpd00158_e0 EX_cpd00158_e0    100        12  5.38%\n",
      "cpd00161_e0 EX_cpd00161_e0  56.16         4  1.01%\n",
      "cpd00164_e0 EX_cpd00164_e0    100         6  2.69%\n",
      "cpd00179_e0 EX_cpd00179_e0    100        12  5.38%\n",
      "cpd00182_e0 EX_cpd00182_e0   7.96        10  0.36%\n",
      "cpd00184_e0 EX_cpd00184_e0    100        10  4.48%\n",
      "cpd00205_e0 EX_cpd00205_e0 0.1814         0  0.00%\n",
      "cpd00209_e0 EX_cpd00209_e0    100         0  0.00%\n",
      "cpd00215_e0 EX_cpd00215_e0 0.1814         8  0.01%\n",
      "cpd00220_e0 EX_cpd00220_e0 0.5442        17  0.04%\n",
      "cpd00254_e0 EX_cpd00254_e0 0.1814         0  0.00%\n",
      "cpd00264_e0 EX_cpd00264_e0 0.1814         7  0.01%\n",
      "cpd00276_e0 EX_cpd00276_e0  40.33         6  1.09%\n",
      "cpd00277_e0 EX_cpd00277_e0    100        10  4.48%\n",
      "cpd00305_e0 EX_cpd00305_e0 0.1814        12  0.01%\n",
      "cpd00311_e0 EX_cpd00311_e0    100        10  4.48%\n",
      "cpd00322_e0 EX_cpd00322_e0  15.63         6  0.42%\n",
      "cpd00355_e0 EX_cpd00355_e0    100        11  4.93%\n",
      "cpd00367_e0 EX_cpd00367_e0  27.91         9  1.13%\n",
      "cpd00383_e0 EX_cpd00383_e0 0.3628         7  0.01%\n",
      "cpd00393_e0 EX_cpd00393_e0 0.5442        19  0.05%\n",
      "cpd00412_e0 EX_cpd00412_e0    100         9  4.04%\n",
      "cpd00438_e0 EX_cpd00438_e0    100        10  4.48%\n",
      "cpd00644_e0 EX_cpd00644_e0 0.3628         9  0.01%\n",
      "cpd00654_e0 EX_cpd00654_e0    100         9  4.04%\n",
      "cpd00794_e0 EX_cpd00794_e0  24.19        12  1.30%\n",
      "cpd01080_e0 EX_cpd01080_e0  16.11        18  1.30%\n",
      "cpd03279_e0 EX_cpd03279_e0    100        10  4.48%\n",
      "cpd03847_e0 EX_cpd03847_e0  1.617        14  0.10%\n",
      "cpd10515_e0 EX_cpd10515_e0 0.5442         0  0.00%\n",
      "cpd15560_e0 EX_cpd15560_e0    100        49 21.98%\n",
      "cpd17041_c0    rxn13782_c0  64.64         0  0.00%\n",
      "cpd17042_c0    rxn13783_c0  64.64         0  0.00%\n",
      "cpd17043_c0    rxn13784_c0  64.64         0  0.00%\n",
      "\n",
      "Secretion\n",
      "---------\n",
      " Metabolite       Reaction   Flux  C-Number C-Flux\n",
      "cpd00009_e0 EX_cpd00009_e0   -100         0  0.00%\n",
      "cpd00011_e0 EX_cpd00011_e0   -100         1  0.51%\n",
      "cpd00012_e0 EX_cpd00012_e0 -48.74         0  0.00%\n",
      "cpd00013_e0 EX_cpd00013_e0   -100         0  0.00%\n",
      "cpd00020_e0 EX_cpd00020_e0   -100         3  1.52%\n",
      "cpd00029_e0 EX_cpd00029_e0   -100         2  1.01%\n",
      "cpd00033_e0 EX_cpd00033_e0 -11.85         2  0.12%\n",
      "cpd00035_e0 EX_cpd00035_e0   -100         3  1.52%\n",
      "cpd00036_e0 EX_cpd00036_e0   -100         4  2.03%\n",
      "cpd00041_e0 EX_cpd00041_e0   -100         4  2.03%\n",
      "cpd00047_e0 EX_cpd00047_e0   -100         1  0.51%\n",
      "cpd00092_e0 EX_cpd00092_e0   -100         4  2.03%\n",
      "cpd00100_e0 EX_cpd00100_e0   -100         3  1.52%\n",
      "cpd00117_e0 EX_cpd00117_e0   -100         3  1.52%\n",
      "cpd00122_e0 EX_cpd00122_e0   -100         8  4.05%\n",
      "cpd00128_e0 EX_cpd00128_e0   -100         5  2.53%\n",
      "cpd00129_e0 EX_cpd00129_e0   -100         5  2.53%\n",
      "cpd00130_e0 EX_cpd00130_e0   -100         4  2.03%\n",
      "cpd00137_e0 EX_cpd00137_e0 -79.99         6  2.43%\n",
      "cpd00139_e0 EX_cpd00139_e0   -100         2  1.01%\n",
      "cpd00142_e0 EX_cpd00142_e0   -100         4  2.03%\n",
      "cpd00151_e0 EX_cpd00151_e0   -100         5  2.53%\n",
      "cpd00156_e0 EX_cpd00156_e0 -68.14         5  1.72%\n",
      "cpd00159_e0 EX_cpd00159_e0   -100         3  1.52%\n",
      "cpd00176_e0 EX_cpd00176_e0   -100         6  3.04%\n",
      "cpd00218_e0 EX_cpd00218_e0 -99.64         6  3.03%\n",
      "cpd00222_e0 EX_cpd00222_e0   -100         6  3.04%\n",
      "cpd00226_e0 EX_cpd00226_e0   -100         5  2.53%\n",
      "cpd00246_e0 EX_cpd00246_e0   -100        10  5.06%\n",
      "cpd00249_e0 EX_cpd00249_e0   -100         9  4.56%\n",
      "cpd00307_e0 EX_cpd00307_e0 -14.35         4  0.29%\n",
      "cpd00309_e0 EX_cpd00309_e0 -90.19         5  2.28%\n",
      "cpd00314_e0 EX_cpd00314_e0   -100         6  3.04%\n",
      "cpd00588_e0 EX_cpd00588_e0   -100         6  3.04%\n",
      "cpd01171_e0 EX_cpd01171_e0   -100         6  3.04%\n",
      "cpd01757_e0 EX_cpd01757_e0   -100        11  5.57%\n",
      "cpd15561_e0 EX_cpd15561_e0   -100        49 24.81%\n",
      "cpd11416_c0 SK_cpd11416_c0 -64.64         0  0.00%\n",
      "\n",
      "\n",
      "Production matrix:\n",
      "Empty DataFrame\n",
      "Columns: []\n",
      "Index: []\n",
      "\n",
      "\n",
      "Consumption matrix:\n",
      "Empty DataFrame\n",
      "Columns: []\n",
      "Index: []\n"
     ]
    },
    {
     "data": {
      "image/png": "[encoded data removed]",
      "text/plain": [
       "<Figure size 432x288 with 1 Axes>"
      ]
     },
     "metadata": {},
     "output_type": "display_data"
    }
   ],
   "source": [
    "# import the model\n",
    "%run ../../TFA/ModelSEEDpy/modelseedpy/core/mscommunity.py\n",
    "modelInfo_2 = ['Ecoli_gF4_Model',97055]\n",
    "mediaInfo_2 = [\"GlucoseM9Media\",97055]\n",
    "\n",
    "model = kbase.get_from_ws(modelInfo_2[0],modelInfo_2[1])\n",
    "media = kbase.get_from_ws(mediaInfo_2[0],mediaInfo_2[1])\n",
    "# kmp = kbasemediapkg.KBaseMediaPkg(self.model)\n",
    "# kmp.build_package(media)\n",
    "\n",
    "# simulate and visualize the model\n",
    "\n",
    "cfba = MSCommunity(model)\n",
    "cfba.drain_fluxes()\n",
    "cfba.gapfill()\n",
    "cfba.constrain()\n",
    "solution = cfba.run(summary = True)\n",
    "cfba.compute_interactions(solution)\n",
    "cfba.visualize()"
   ]
  },
  {
   "cell_type": "markdown",
   "metadata": {},
   "source": [
    "### Glucose media"
   ]
  },
  {
   "cell_type": "code",
   "execution_count": 15,
   "metadata": {
    "scrolled": true
   },
   "outputs": [
    {
     "name": "stdout",
     "output_type": "stream",
     "text": [
      "Maximize\n",
      "1.0*bio1 - 1.0*bio1_reverse_b18f7\n",
      "\n",
      "\n",
      "Objective\n",
      "=========\n",
      "1.0 bio1 = 1.5205175619509865\n",
      "\n",
      "Uptake\n",
      "------\n",
      " Metabolite       Reaction     Flux  C-Number  C-Flux\n",
      "cpd00007_e0 EX_cpd00007_e0  0.01707         0   0.00%\n",
      "cpd00009_e0 EX_cpd00009_e0    1.236         0   0.00%\n",
      "cpd00013_e0 EX_cpd00013_e0    13.05         0   0.00%\n",
      "cpd00027_e0 EX_cpd00027_e0       10         6 100.00%\n",
      "cpd00030_e0 EX_cpd00030_e0 0.004267         0   0.00%\n",
      "cpd00034_e0 EX_cpd00034_e0 0.004267         0   0.00%\n",
      "cpd00048_e0 EX_cpd00048_e0   0.3442         0   0.00%\n",
      "cpd00058_e0 EX_cpd00058_e0 0.004267         0   0.00%\n",
      "cpd00063_e0 EX_cpd00063_e0 0.004267         0   0.00%\n",
      "cpd00067_e0 EX_cpd00067_e0     11.9         0   0.00%\n",
      "cpd00099_e0 EX_cpd00099_e0 0.004267         0   0.00%\n",
      "cpd00149_e0 EX_cpd00149_e0 0.004267         0   0.00%\n",
      "cpd00205_e0 EX_cpd00205_e0 0.004267         0   0.00%\n",
      "cpd00254_e0 EX_cpd00254_e0 0.004267         0   0.00%\n",
      "cpd10515_e0 EX_cpd10515_e0  0.01707         0   0.00%\n",
      "cpd17041_c0    rxn13782_c0    1.521         0   0.00%\n",
      "cpd17042_c0    rxn13783_c0    1.521         0   0.00%\n",
      "cpd17043_c0    rxn13784_c0    1.521         0   0.00%\n",
      "\n",
      "Secretion\n",
      "---------\n",
      " Metabolite       Reaction      Flux  C-Number C-Flux\n",
      "cpd00001_e0 EX_cpd00001_e0    -44.47         0  0.00%\n",
      "cpd00116_e0 EX_cpd00116_e0 -0.004267         1  4.35%\n",
      "cpd15378_e0 EX_cpd15378_e0 -0.004267         7 30.43%\n",
      "cpd02701_c0 SK_cpd02701_c0 -0.004267        15 65.22%\n",
      "cpd11416_c0 SK_cpd11416_c0    -1.521         0  0.00%\n",
      "\n",
      "\n",
      "Production matrix:\n",
      "Empty DataFrame\n",
      "Columns: []\n",
      "Index: []\n",
      "\n",
      "\n",
      "Consumption matrix:\n",
      "Empty DataFrame\n",
      "Columns: []\n",
      "Index: []\n"
     ]
    },
    {
     "data": {
      "image/png": "[encoded data removed]",
      "text/plain": [
       "<Figure size 432x288 with 1 Axes>"
      ]
     },
     "metadata": {},
     "output_type": "display_data"
    }
   ],
   "source": [
    "# import the model\n",
    "%run ../../TFA/ModelSEEDpy/modelseedpy/core/mscommunity.py\n",
    "modelInfo_2 = ['Ecoli_gF4_Model',97055]\n",
    "mediaInfo_2 = [\"GlucoseM9Media\",97055]\n",
    "\n",
    "model = kbase.get_from_ws(modelInfo_2[0],modelInfo_2[1])\n",
    "media = kbase.get_from_ws(mediaInfo_2[0],mediaInfo_2[1])\n",
    "# kmp = kbasemediapkg.KBaseMediaPkg(self.model)\n",
    "# kmp.build_package(media)\n",
    "\n",
    "# simulate and visualize the model\n",
    "\n",
    "cfba = MSCommunity(model)\n",
    "cfba.drain_fluxes()\n",
    "cfba.gapfill(media)\n",
    "cfba.constrain(media)\n",
    "solution = cfba.run(summary = True)\n",
    "cfba.compute_interactions(solution)\n",
    "cfba.visualize()"
   ]
  },
  {
   "cell_type": "markdown",
   "metadata": {},
   "source": [
    "### Chitin media"
   ]
  },
  {
   "cell_type": "code",
   "execution_count": 12,
   "metadata": {
    "scrolled": true
   },
   "outputs": [
    {
     "name": "stderr",
     "output_type": "stream",
     "text": [
      "C:\\Users\\Andrew Freiburger\\AppData\\Roaming\\Python\\Python37\\site-packages\\cobra\\util\\solver.py:554: UserWarning: Solver status is 'infeasible'.\n",
      "  warn(f\"Solver status is '{status}'.\", UserWarning)\n",
      "modelseedpy.core.msgapfill - WARNING - No solution found for <cobrakbase.core.kbasebiochem.media.Media object at 0x0000020FAB835F08>\n",
      "WARNING:modelseedpy.core.msgapfill:No solution found for <cobrakbase.core.kbasebiochem.media.Media object at 0x0000020FAB835F08>\n"
     ]
    },
    {
     "name": "stdout",
     "output_type": "stream",
     "text": [
      "\n",
      "--> ERROR: The simulation lacks a solution, and cannot be gapfilled.\n",
      "\n",
      "Maximize\n",
      "1.0*bio1 - 1.0*bio1_reverse_b18f7\n",
      "\n",
      "\n",
      "Objective\n",
      "=========\n",
      "1.0 bio1 = 0.0\n",
      "\n",
      "Uptake\n",
      "------\n",
      "Empty DataFrame\n",
      "Columns: [Metabolite, Reaction, Flux, C-Number, C-Flux]\n",
      "Index: []\n",
      "\n",
      "Secretion\n",
      "---------\n",
      "Empty DataFrame\n",
      "Columns: [Metabolite, Reaction, Flux, C-Number, C-Flux]\n",
      "Index: []\n",
      "\n",
      "\n",
      "Production matrix:\n",
      "Empty DataFrame\n",
      "Columns: []\n",
      "Index: []\n",
      "\n",
      "\n",
      "Consumption matrix:\n",
      "Empty DataFrame\n",
      "Columns: []\n",
      "Index: []\n"
     ]
    },
    {
     "data": {
      "image/png": "[encoded data removed]",
      "text/plain": [
       "<Figure size 432x288 with 1 Axes>"
      ]
     },
     "metadata": {},
     "output_type": "display_data"
    }
   ],
   "source": [
    "# import the model\n",
    "%run ../../TFA/ModelSEEDpy/modelseedpy/core/mscommunity.py\n",
    "modelInfo_2 = ['Ecoli_gF4_Model',97055]\n",
    "mediaInfo_2 = [\"ChitinM9Media\",97055]\n",
    "\n",
    "model = kbase.get_from_ws(modelInfo_2[0],modelInfo_2[1])\n",
    "media = kbase.get_from_ws(mediaInfo_2[0],mediaInfo_2[1])\n",
    "# kmp = kbasemediapkg.KBaseMediaPkg(self.model)\n",
    "# kmp.build_package(media)\n",
    "\n",
    "# simulate and visualize the model\n",
    "cfba = MSCommunity(model)\n",
    "cfba.drain_fluxes()\n",
    "cfba.gapfill(media)\n",
    "cfba.constrain(media)\n",
    "solution = cfba.run(summary = True)\n",
    "cfba.compute_interactions(solution)\n",
    "cfba.visualize()"
   ]
  },
  {
   "cell_type": "code",
   "execution_count": null,
   "metadata": {},
   "outputs": [],
   "source": []
  },
  {
   "cell_type": "markdown",
   "metadata": {},
   "source": [
    "# Brainstorming"
   ]
  },
  {
   "cell_type": "code",
   "execution_count": 13,
   "metadata": {},
   "outputs": [
    {
     "name": "stdout",
     "output_type": "stream",
     "text": [
      "ex_\n"
     ]
    }
   ],
   "source": [
    "string = 'ex_asdf'\n",
    "print(string[:3])"
   ]
  },
  {
   "cell_type": "code",
   "execution_count": 14,
   "metadata": {
    "scrolled": true
   },
   "outputs": [
    {
     "name": "stdout",
     "output_type": "stream",
     "text": [
      "set()\n",
      "True\n"
     ]
    }
   ],
   "source": [
    "via_string = []\n",
    "for reaction in model.reactions:\n",
    "    if reaction.id[:3] == 'EX_':\n",
    "        via_string.append(reaction.id)\n",
    "\n",
    "via_attribute = []\n",
    "for reaction in model.exchanges:\n",
    "    if reaction.id[:3] == 'EX_':\n",
    "        via_attribute.append(reaction.id)\n",
    "    \n",
    "print(set(via_attribute) -  set(via_string))\n",
    "print(set(via_string) == set(via_attribute))"
   ]
  }
 ],
 "metadata": {
  "kernelspec": {
   "display_name": "Python 3",
   "language": "python",
   "name": "python3"
  },
  "language_info": {
   "codemirror_mode": {
    "name": "ipython",
    "version": 3
   },
   "file_extension": ".py",
   "mimetype": "text/x-python",
   "name": "python",
   "nbconvert_exporter": "python",
   "pygments_lexer": "ipython3",
   "version": "3.7.4"
  }
 },
 "nbformat": 4,
 "nbformat_minor": 2
}
