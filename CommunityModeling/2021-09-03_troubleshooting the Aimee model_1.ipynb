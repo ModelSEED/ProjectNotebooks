{
 "cells": [
  {
   "cell_type": "markdown",
   "metadata": {},
   "source": [
    "# import the content"
   ]
  },
  {
   "cell_type": "code",
   "execution_count": 1,
   "metadata": {},
   "outputs": [
    {
     "name": "stdout",
     "output_type": "stream",
     "text": [
      "cobrakbase 0.2.8\n"
     ]
    }
   ],
   "source": [
    "# import kbase\n",
    "import os\n",
    "local_cobrakbase_path = 'C:\\\\Users\\\\Andrew Freiburger\\\\Dropbox\\\\My PC (DESKTOP-M302P50)\\\\Documents\\\\UVic Civil Engineering\\\\Internships\\\\Agronne\\\\cobrakbase'\n",
    "os.environ[\"HOME\"] = local_cobrakbase_path\n",
    "import cobrakbase\n",
    "token = 'H6SZTTVQGYLKE55YLU5AOZ24OJWLKZNW'\n",
    "kbase = cobrakbase.KBaseAPI(token)\n",
    "\n",
    "ftp_path = '../../../ModelSEEDDatabase'\n",
    "\n",
    "# import cFBA\n",
    "%run ../../ModelSEEDpy/modelseedpy/core/mscommunity.py\n",
    "%matplotlib inline"
   ]
  },
  {
   "cell_type": "markdown",
   "metadata": {},
   "source": [
    "# Sans media"
   ]
  },
  {
   "cell_type": "code",
   "execution_count": 2,
   "metadata": {},
   "outputs": [
    {
     "name": "stderr",
     "output_type": "stream",
     "text": [
      "WARNING:cobrakbase.core.kbasefba.fbamodel_builder:unable to add sink for [cpd02701_c0]: not found\n",
      "WARNING:cobrakbase.core.kbasefba.fbamodel_builder:unable to add sink for [cpd15302_c0]: not found\n"
     ]
    },
    {
     "name": "stdout",
     "output_type": "stream",
     "text": [
      "Making biomass drain: cpd11416_c1\n",
      "Making biomass drain: cpd11416_c2\n",
      "species 1 drain-flux objective value: 0.0\n",
      "species 2 drain-flux objective value: 0.0\n",
      "Objective\n",
      "=========\n",
      "1.0 bio1 = 74.44111934095862\n",
      "\n",
      "Uptake\n",
      "------\n",
      " Metabolite       Reaction   Flux  C-Number C-Flux\n",
      "cpd00007_e0 EX_cpd00007_e0    100         0  0.00%\n",
      "cpd00017_e0 EX_cpd00017_e0    100        15  5.75%\n",
      "cpd00024_e0 EX_cpd00024_e0    100         5  1.92%\n",
      "cpd00027_e0 EX_cpd00027_e0    100         6  2.30%\n",
      "cpd00028_e0 EX_cpd00028_e0 0.2089        34  0.03%\n",
      "cpd00030_e0 EX_cpd00030_e0 0.2089         0  0.00%\n",
      "cpd00032_e0 EX_cpd00032_e0    100         4  1.53%\n",
      "cpd00033_e0 EX_cpd00033_e0  48.85         2  0.37%\n",
      "cpd00034_e0 EX_cpd00034_e0 0.2089         0  0.00%\n",
      "cpd00039_e0 EX_cpd00039_e0  21.25         6  0.49%\n",
      "cpd00048_e0 EX_cpd00048_e0 0.2089         0  0.00%\n",
      "cpd00051_e0 EX_cpd00051_e0  18.36         6  0.42%\n",
      "cpd00053_e0 EX_cpd00053_e0    100         5  1.92%\n",
      "cpd00054_e0 EX_cpd00054_e0  31.92         3  0.37%\n",
      "cpd00058_e0 EX_cpd00058_e0 0.2089         0  0.00%\n",
      "cpd00063_e0 EX_cpd00063_e0 0.2089         0  0.00%\n",
      "cpd00065_e0 EX_cpd00065_e0  3.514        11  0.15%\n",
      "cpd00066_e0 EX_cpd00066_e0   11.5         9  0.40%\n",
      "cpd00067_e0 EX_cpd00067_e0    100         0  0.00%\n",
      "cpd00069_e0 EX_cpd00069_e0  9.088         9  0.31%\n",
      "cpd00075_e0 EX_cpd00075_e0  8.897         0  0.00%\n",
      "cpd00080_e0 EX_cpd00080_e0    100         3  1.15%\n",
      "cpd00082_e0 EX_cpd00082_e0  1.418         6  0.03%\n",
      "cpd00084_e0 EX_cpd00084_e0    6.4         3  0.07%\n",
      "cpd00099_e0 EX_cpd00099_e0 0.2089         0  0.00%\n",
      "cpd00104_e0 EX_cpd00104_e0 0.2089        10  0.01%\n",
      "cpd00107_e0 EX_cpd00107_e0  27.94         6  0.64%\n",
      "cpd00118_e0 EX_cpd00118_e0 0.2089         4  0.00%\n",
      "cpd00119_e0 EX_cpd00119_e0    5.9         6  0.14%\n",
      "cpd00132_e0 EX_cpd00132_e0  91.86         4  1.41%\n",
      "cpd00136_e0 EX_cpd00136_e0 0.1044         7  0.00%\n",
      "cpd00138_e0 EX_cpd00138_e0  4.451         6  0.10%\n",
      "cpd00149_e0 EX_cpd00149_e0 0.2089         0  0.00%\n",
      "cpd00158_e0 EX_cpd00158_e0    100        12  4.60%\n",
      "cpd00161_e0 EX_cpd00161_e0    100         4  1.53%\n",
      "cpd00164_e0 EX_cpd00164_e0    100         6  2.30%\n",
      "cpd00179_e0 EX_cpd00179_e0    100        12  4.60%\n",
      "cpd00182_e0 EX_cpd00182_e0  11.64        10  0.45%\n",
      "cpd00184_e0 EX_cpd00184_e0    100        10  3.83%\n",
      "cpd00205_e0 EX_cpd00205_e0 0.2089         0  0.00%\n",
      "cpd00209_e0 EX_cpd00209_e0    100         0  0.00%\n",
      "cpd00215_e0 EX_cpd00215_e0 0.1044         8  0.00%\n",
      "cpd00220_e0 EX_cpd00220_e0 0.6267        17  0.04%\n",
      "cpd00235_e0 EX_cpd00235_e0  65.12         6  1.50%\n",
      "cpd00254_e0 EX_cpd00254_e0 0.2089         0  0.00%\n",
      "cpd00264_e0 EX_cpd00264_e0 0.2089         7  0.01%\n",
      "cpd00276_e0 EX_cpd00276_e0    100         6  2.30%\n",
      "cpd00277_e0 EX_cpd00277_e0    100        10  3.83%\n",
      "cpd00305_e0 EX_cpd00305_e0 0.1044        12  0.00%\n",
      "cpd00311_e0 EX_cpd00311_e0    100        10  3.83%\n",
      "cpd00355_e0 EX_cpd00355_e0    100        11  4.22%\n",
      "cpd00367_e0 EX_cpd00367_e0    100         9  3.45%\n",
      "cpd00383_e0 EX_cpd00383_e0 0.2089         7  0.01%\n",
      "cpd00393_e0 EX_cpd00393_e0 0.6267        19  0.05%\n",
      "cpd00412_e0 EX_cpd00412_e0    100         9  3.45%\n",
      "cpd00438_e0 EX_cpd00438_e0    100        10  3.83%\n",
      "cpd00644_e0 EX_cpd00644_e0 0.4178         9  0.01%\n",
      "cpd00654_e0 EX_cpd00654_e0    100         9  3.45%\n",
      "cpd00794_e0 EX_cpd00794_e0    100        12  4.60%\n",
      "cpd01080_e0 EX_cpd01080_e0  18.55        18  1.28%\n",
      "cpd03198_e0 EX_cpd03198_e0    100        12  4.60%\n",
      "cpd03279_e0 EX_cpd03279_e0    100        10  3.83%\n",
      "cpd03847_e0 EX_cpd03847_e0  1.862        14  0.10%\n",
      "cpd10515_e0 EX_cpd10515_e0 0.6267         0  0.00%\n",
      "cpd15560_e0 EX_cpd15560_e0    100        49 18.78%\n",
      "cpd17041_c1    rxn13782_c1  37.22         0  0.00%\n",
      "cpd17041_c2    rxn13782_c2  37.22         0  0.00%\n",
      "cpd17042_c1    rxn13783_c1  37.22         0  0.00%\n",
      "cpd17042_c2    rxn13783_c2  37.22         0  0.00%\n",
      "cpd17043_c1    rxn13784_c1  37.22         0  0.00%\n",
      "cpd17043_c2    rxn13784_c2  37.22         0  0.00%\n",
      "\n",
      "Secretion\n",
      "---------\n",
      " Metabolite       Reaction    Flux  C-Number C-Flux\n",
      "cpd00001_e0 EX_cpd00001_e0    -100         0  0.00%\n",
      "cpd00009_e0 EX_cpd00009_e0    -100         0  0.00%\n",
      "cpd00011_e0 EX_cpd00011_e0    -100         1  0.43%\n",
      "cpd00012_e0 EX_cpd00012_e0  -52.32         0  0.00%\n",
      "cpd00013_e0 EX_cpd00013_e0  -93.04         0  0.00%\n",
      "cpd00020_e0 EX_cpd00020_e0    -100         3  1.30%\n",
      "cpd00023_e0 EX_cpd00023_e0   -49.5         5  1.07%\n",
      "cpd00029_e0 EX_cpd00029_e0    -100         2  0.86%\n",
      "cpd00035_e0 EX_cpd00035_e0    -100         3  1.30%\n",
      "cpd00036_e0 EX_cpd00036_e0    -100         4  1.73%\n",
      "cpd00041_e0 EX_cpd00041_e0    -100         4  1.73%\n",
      "cpd00047_e0 EX_cpd00047_e0    -100         1  0.43%\n",
      "cpd00060_e0 EX_cpd00060_e0  -90.28         5  1.95%\n",
      "cpd00092_e0 EX_cpd00092_e0    -100         4  1.73%\n",
      "cpd00100_e0 EX_cpd00100_e0    -100         3  1.30%\n",
      "cpd00108_e0 EX_cpd00108_e0    -100         6  2.59%\n",
      "cpd00117_e0 EX_cpd00117_e0    -100         3  1.30%\n",
      "cpd00122_e0 EX_cpd00122_e0    -100         8  3.45%\n",
      "cpd00128_e0 EX_cpd00128_e0    -100         5  2.16%\n",
      "cpd00129_e0 EX_cpd00129_e0    -100         5  2.16%\n",
      "cpd00130_e0 EX_cpd00130_e0    -100         4  1.73%\n",
      "cpd00137_e0 EX_cpd00137_e0  -91.37         6  2.37%\n",
      "cpd00139_e0 EX_cpd00139_e0    -100         2  0.86%\n",
      "cpd00142_e0 EX_cpd00142_e0    -100         4  1.73%\n",
      "cpd00151_e0 EX_cpd00151_e0    -100         5  2.16%\n",
      "cpd00156_e0 EX_cpd00156_e0    -100         5  2.16%\n",
      "cpd00159_e0 EX_cpd00159_e0    -100         3  1.30%\n",
      "cpd00176_e0 EX_cpd00176_e0    -100         6  2.59%\n",
      "cpd00218_e0 EX_cpd00218_e0   -99.9         6  2.59%\n",
      "cpd00222_e0 EX_cpd00222_e0    -100         6  2.59%\n",
      "cpd00226_e0 EX_cpd00226_e0    -100         5  2.16%\n",
      "cpd00246_e0 EX_cpd00246_e0    -100        10  4.32%\n",
      "cpd00249_e0 EX_cpd00249_e0    -100         9  3.89%\n",
      "cpd00307_e0 EX_cpd00307_e0  -92.19         4  1.59%\n",
      "cpd00309_e0 EX_cpd00309_e0    -100         5  2.16%\n",
      "cpd00314_e0 EX_cpd00314_e0    -100         6  2.59%\n",
      "cpd00322_e0 EX_cpd00322_e0  -90.09         6  2.33%\n",
      "cpd00588_e0 EX_cpd00588_e0    -100         6  2.59%\n",
      "cpd01171_e0 EX_cpd01171_e0    -100         6  2.59%\n",
      "cpd01217_e0 EX_cpd01217_e0    -100        10  4.32%\n",
      "cpd01757_e0 EX_cpd01757_e0    -100        11  4.75%\n",
      "cpd15378_e0 EX_cpd15378_e0 -0.1044         7  0.00%\n",
      "cpd15561_e0 EX_cpd15561_e0    -100        49 21.16%\n",
      "cpd11416_c0 SK_cpd11416_c0  -74.44         0  0.00%\n",
      "\n",
      "\n",
      "Production matrix:\n",
      "                 1            2\n",
      "Donor                          \n",
      "1         0.000000  6918.189294\n",
      "2      4613.807815     0.000000\n",
      "\n",
      "\n",
      "Consumption matrix:\n",
      "                    1            2\n",
      "Receiver                          \n",
      "1            0.000000  4613.807815\n",
      "2         6918.189294     0.000000\n"
     ]
    },
    {
     "data": {
      "text/html": [
       "<strong><em>Optimal</em> solution with objective value 74.441</strong><br><div>\n",
       "<style scoped>\n",
       "    .dataframe tbody tr th:only-of-type {\n",
       "        vertical-align: middle;\n",
       "    }\n",
       "\n",
       "    .dataframe tbody tr th {\n",
       "        vertical-align: top;\n",
       "    }\n",
       "\n",
       "    .dataframe thead th {\n",
       "        text-align: right;\n",
       "    }\n",
       "</style>\n",
       "<table border=\"1\" class=\"dataframe\">\n",
       "  <thead>\n",
       "    <tr style=\"text-align: right;\">\n",
       "      <th></th>\n",
       "      <th>fluxes</th>\n",
       "      <th>reduced_costs</th>\n",
       "    </tr>\n",
       "  </thead>\n",
       "  <tbody>\n",
       "    <tr>\n",
       "      <th>rxn02342_c1</th>\n",
       "      <td>0.000000</td>\n",
       "      <td>-1.763179e-02</td>\n",
       "    </tr>\n",
       "    <tr>\n",
       "      <th>rxn08734_c1</th>\n",
       "      <td>0.000000</td>\n",
       "      <td>-1.110223e-16</td>\n",
       "    </tr>\n",
       "    <tr>\n",
       "      <th>rxn00199_c1</th>\n",
       "      <td>0.000000</td>\n",
       "      <td>0.000000e+00</td>\n",
       "    </tr>\n",
       "    <tr>\n",
       "      <th>rxn10126_c1</th>\n",
       "      <td>0.000000</td>\n",
       "      <td>-5.551115e-17</td>\n",
       "    </tr>\n",
       "    <tr>\n",
       "      <th>rxn05040_c1</th>\n",
       "      <td>0.000000</td>\n",
       "      <td>0.000000e+00</td>\n",
       "    </tr>\n",
       "    <tr>\n",
       "      <th>...</th>\n",
       "      <td>...</td>\n",
       "      <td>...</td>\n",
       "    </tr>\n",
       "    <tr>\n",
       "      <th>EX_cpd00051_e0</th>\n",
       "      <td>-18.364388</td>\n",
       "      <td>0.000000e+00</td>\n",
       "    </tr>\n",
       "    <tr>\n",
       "      <th>EX_cpd00244_e0</th>\n",
       "      <td>-0.000000</td>\n",
       "      <td>0.000000e+00</td>\n",
       "    </tr>\n",
       "    <tr>\n",
       "      <th>SK_cpd11416_c0</th>\n",
       "      <td>74.441119</td>\n",
       "      <td>0.000000e+00</td>\n",
       "    </tr>\n",
       "    <tr>\n",
       "      <th>DM_cpd11416_c1</th>\n",
       "      <td>0.000000</td>\n",
       "      <td>-2.678125e+00</td>\n",
       "    </tr>\n",
       "    <tr>\n",
       "      <th>DM_cpd11416_c2</th>\n",
       "      <td>0.000000</td>\n",
       "      <td>-1.321875e+00</td>\n",
       "    </tr>\n",
       "  </tbody>\n",
       "</table>\n",
       "<p>2905 rows × 2 columns</p>\n",
       "</div>"
      ],
      "text/plain": [
       "<Solution 74.441 at 0x1c7f5dd9e48>"
      ]
     },
     "metadata": {},
     "output_type": "display_data"
    },
    {
     "data": {
      "image/png": "[encoded data removed]",
      "text/plain": [
       "<Figure size 432x288 with 1 Axes>"
      ]
     },
     "metadata": {},
     "output_type": "display_data"
    }
   ],
   "source": [
    "%run ../../ModelSEEDpy/modelseedpy/core/mscommunity.py\n",
    "from optlang.symbolics import Zero\n",
    "\n",
    "# from modelseedpy.fbapkg import kbasemediapkg\n",
    "modelInfo_2 = ['Cjaponicus_Ecoli_Community',97055]\n",
    "# if 'DM_cpd11416_c1' in [reaction.id for reaction in model.reactions]:\n",
    "#     print(True)\n",
    "# else:\n",
    "#     print(False)\n",
    "mediaInfo_2 = [\"GlucoseM9Media\",97055]\n",
    "model = kbase.get_from_ws(modelInfo_2[0],modelInfo_2[1])\n",
    "media = kbase.get_from_ws(mediaInfo_2[0],mediaInfo_2[1])\n",
    "# kmp = kbasemediapkg.KBaseMediaPkg(self.model)\n",
    "# kmp.build_package(media)\n",
    "\n",
    "# simulate and visualize the model\n",
    "cfba = MSCommunity(model)\n",
    "cfba.drain_fluxes()\n",
    "cfba.constrain() \n",
    "cfba.gapfill()\n",
    "solution = cfba.run(summary = True)\n",
    "cfba.compute_interactions(solution)\n",
    "cfba.visualize()\n",
    "\n",
    "display(model.optimize())"
   ]
  },
  {
   "cell_type": "markdown",
   "metadata": {},
   "source": [
    "# community model "
   ]
  },
  {
   "cell_type": "markdown",
   "metadata": {},
   "source": [
    "### glucose media"
   ]
  },
  {
   "cell_type": "code",
   "execution_count": 3,
   "metadata": {
    "scrolled": true
   },
   "outputs": [
    {
     "name": "stderr",
     "output_type": "stream",
     "text": [
      "WARNING:cobrakbase.core.kbasefba.fbamodel_builder:unable to add sink for [cpd02701_c0]: not found\n",
      "WARNING:cobrakbase.core.kbasefba.fbamodel_builder:unable to add sink for [cpd15302_c0]: not found\n"
     ]
    },
    {
     "name": "stdout",
     "output_type": "stream",
     "text": [
      "Making biomass drain: cpd11416_c1\n",
      "Making biomass drain: cpd11416_c2\n",
      "species 1 drain-flux objective value: 0.0\n",
      "species 2 drain-flux objective value: 0.0\n"
     ]
    },
    {
     "name": "stderr",
     "output_type": "stream",
     "text": [
      "C:\\Users\\Andrew Freiburger\\AppData\\Roaming\\Python\\Python37\\site-packages\\cobra\\util\\solver.py:554: UserWarning: Solver status is 'infeasible'.\n",
      "  warn(f\"Solver status is '{status}'.\", UserWarning)\n",
      "modelseedpy.core.msgapfill - WARNING - No solution found for <cobrakbase.core.kbasebiochem.media.Media object at 0x000001C8056756C8>\n",
      "WARNING:modelseedpy.core.msgapfill:No solution found for <cobrakbase.core.kbasebiochem.media.Media object at 0x000001C8056756C8>\n"
     ]
    },
    {
     "name": "stdout",
     "output_type": "stream",
     "text": [
      "\n",
      "--> ERROR: The simulation lacks a solution, and cannot be gapfilled.\n",
      "\n",
      "Objective\n",
      "=========\n",
      "1.0 bio1 = 0.0\n",
      "\n",
      "Uptake\n",
      "------\n",
      "Empty DataFrame\n",
      "Columns: [Metabolite, Reaction, Flux, C-Number, C-Flux]\n",
      "Index: []\n",
      "\n",
      "Secretion\n",
      "---------\n",
      "Empty DataFrame\n",
      "Columns: [Metabolite, Reaction, Flux, C-Number, C-Flux]\n",
      "Index: []\n",
      "\n",
      "\n",
      "Production matrix:\n",
      "         1    2\n",
      "Donor          \n",
      "1      0.0  0.0\n",
      "2      0.0  0.0\n",
      "\n",
      "\n",
      "Consumption matrix:\n",
      "            1    2\n",
      "Receiver          \n",
      "1         0.0  0.0\n",
      "2         0.0  0.0\n"
     ]
    },
    {
     "data": {
      "image/png": "[encoded data removed]",
      "text/plain": [
       "<Figure size 432x288 with 1 Axes>"
      ]
     },
     "metadata": {},
     "output_type": "display_data"
    }
   ],
   "source": [
    "# import the model\n",
    "%run ../../ModelSEEDpy/modelseedpy/core/mscommunity.py\n",
    "# from modelseedpy.fbapkg import kbasemediapkg\n",
    "\n",
    "modelInfo_2 = ['Cjaponicus_Ecoli_Community',97055]\n",
    "mediaInfo_2 = [\"GlucoseM9Media\",97055]\n",
    "model = kbase.get_from_ws(modelInfo_2[0],modelInfo_2[1])\n",
    "media = kbase.get_from_ws(mediaInfo_2[0],mediaInfo_2[1])\n",
    "# kmp = kbasemediapkg.KBaseMediaPkg(self.model)\n",
    "# kmp.build_package(media)\n",
    "\n",
    "# simulate and visualize the model\n",
    "cfba = MSCommunity(model)\n",
    "cfba.drain_fluxes()\n",
    "cfba.constrain(media) \n",
    "cfba.gapfill(media)\n",
    "solution = cfba.run(summary = True)\n",
    "cfba.compute_interactions(solution)\n",
    "cfba.visualize()"
   ]
  },
  {
   "cell_type": "markdown",
   "metadata": {},
   "source": [
    "### chitin media"
   ]
  },
  {
   "cell_type": "code",
   "execution_count": 4,
   "metadata": {
    "scrolled": true
   },
   "outputs": [
    {
     "name": "stderr",
     "output_type": "stream",
     "text": [
      "WARNING:cobrakbase.core.kbasefba.fbamodel_builder:unable to add sink for [cpd02701_c0]: not found\n",
      "WARNING:cobrakbase.core.kbasefba.fbamodel_builder:unable to add sink for [cpd15302_c0]: not found\n"
     ]
    },
    {
     "name": "stdout",
     "output_type": "stream",
     "text": [
      "Making biomass drain: cpd11416_c1\n",
      "Making biomass drain: cpd11416_c2\n",
      "species 1 drain-flux objective value: 0.0\n",
      "species 2 drain-flux objective value: 0.0\n"
     ]
    },
    {
     "name": "stderr",
     "output_type": "stream",
     "text": [
      "C:\\Users\\Andrew Freiburger\\AppData\\Roaming\\Python\\Python37\\site-packages\\cobra\\util\\solver.py:554: UserWarning: Solver status is 'infeasible'.\n",
      "  warn(f\"Solver status is '{status}'.\", UserWarning)\n",
      "modelseedpy.core.msgapfill - WARNING - No solution found for <cobrakbase.core.kbasebiochem.media.Media object at 0x000001C8050A0408>\n",
      "WARNING:modelseedpy.core.msgapfill:No solution found for <cobrakbase.core.kbasebiochem.media.Media object at 0x000001C8050A0408>\n"
     ]
    },
    {
     "name": "stdout",
     "output_type": "stream",
     "text": [
      "\n",
      "--> ERROR: The simulation lacks a solution, and cannot be gapfilled.\n",
      "\n",
      "Objective\n",
      "=========\n",
      "1.0 bio1 = 0.0\n",
      "\n",
      "Uptake\n",
      "------\n",
      "Empty DataFrame\n",
      "Columns: [Metabolite, Reaction, Flux, C-Number, C-Flux]\n",
      "Index: []\n",
      "\n",
      "Secretion\n",
      "---------\n",
      "Empty DataFrame\n",
      "Columns: [Metabolite, Reaction, Flux, C-Number, C-Flux]\n",
      "Index: []\n",
      "\n",
      "\n",
      "Production matrix:\n",
      "         1    2\n",
      "Donor          \n",
      "1      0.0  0.0\n",
      "2      0.0  0.0\n",
      "\n",
      "\n",
      "Consumption matrix:\n",
      "            1    2\n",
      "Receiver          \n",
      "1         0.0  0.0\n",
      "2         0.0  0.0\n"
     ]
    },
    {
     "data": {
      "image/png": "[encoded data removed]",
      "text/plain": [
       "<Figure size 432x288 with 1 Axes>"
      ]
     },
     "metadata": {},
     "output_type": "display_data"
    }
   ],
   "source": [
    "# import the model\n",
    "%run ../../ModelSEEDpy/modelseedpy/core/mscommunity.py\n",
    "# from modelseedpy.fbapkg import kbasemediapkg\n",
    "\n",
    "modelInfo_2 = ['Cjaponicus_Ecoli_Community',97055]\n",
    "mediaInfo_2 = [\"ChitinM9Media\",97055]\n",
    "\n",
    "model = kbase.get_from_ws(modelInfo_2[0],modelInfo_2[1])\n",
    "media = kbase.get_from_ws(mediaInfo_2[0],mediaInfo_2[1])\n",
    "# kmp = kbasemediapkg.KBaseMediaPkg(self.model)\n",
    "# kmp.build_package(media)\n",
    "\n",
    "# simulate and visualize the model\n",
    "cfba = MSCommunity(model)\n",
    "cfba.drain_fluxes()\n",
    "cfba.constrain(media) \n",
    "cfba.gapfill(media)\n",
    "solution = cfba.run(summary = True)\n",
    "cfba.compute_interactions(solution)\n",
    "cfba.visualize()"
   ]
  },
  {
   "cell_type": "markdown",
   "metadata": {},
   "source": [
    "# individual models"
   ]
  },
  {
   "cell_type": "markdown",
   "metadata": {},
   "source": [
    "## Cjaponicus"
   ]
  },
  {
   "cell_type": "markdown",
   "metadata": {},
   "source": [
    "### Glucose media"
   ]
  },
  {
   "cell_type": "code",
   "execution_count": 5,
   "metadata": {
    "scrolled": true
   },
   "outputs": [
    {
     "name": "stdout",
     "output_type": "stream",
     "text": [
      "Objective\n",
      "=========\n",
      "1.0 bio1 = 1.3379027533633627\n",
      "\n",
      "Uptake\n",
      "------\n",
      " Metabolite       Reaction     Flux  C-Number  C-Flux\n",
      "cpd00007_e0 EX_cpd00007_e0     4.26         0   0.00%\n",
      "cpd00009_e0 EX_cpd00009_e0    1.087         0   0.00%\n",
      "cpd00013_e0 EX_cpd00013_e0     11.7         0   0.00%\n",
      "cpd00027_e0 EX_cpd00027_e0       10         6 100.00%\n",
      "cpd00030_e0 EX_cpd00030_e0 0.003754         0   0.00%\n",
      "cpd00034_e0 EX_cpd00034_e0 0.003754         0   0.00%\n",
      "cpd00048_e0 EX_cpd00048_e0   0.3029         0   0.00%\n",
      "cpd00058_e0 EX_cpd00058_e0 0.003754         0   0.00%\n",
      "cpd00063_e0 EX_cpd00063_e0 0.003754         0   0.00%\n",
      "cpd00099_e0 EX_cpd00099_e0 0.003754         0   0.00%\n",
      "cpd00149_e0 EX_cpd00149_e0 0.003754         0   0.00%\n",
      "cpd00205_e0 EX_cpd00205_e0 0.003754         0   0.00%\n",
      "cpd00254_e0 EX_cpd00254_e0 0.003754         0   0.00%\n",
      "cpd10515_e0 EX_cpd10515_e0  0.01502         0   0.00%\n",
      "cpd17041_c0    rxn13782_c0    1.338         0   0.00%\n",
      "cpd17042_c0    rxn13783_c0    1.338         0   0.00%\n",
      "cpd17043_c0    rxn13784_c0    1.338         0   0.00%\n",
      "\n",
      "Secretion\n",
      "---------\n",
      " Metabolite       Reaction      Flux  C-Number C-Flux\n",
      "cpd00001_e0 EX_cpd00001_e0    -41.08         0  0.00%\n",
      "cpd00011_e0 EX_cpd00011_e0    -6.685         1 91.66%\n",
      "cpd00033_e0 EX_cpd00033_e0    -0.107         2  2.94%\n",
      "cpd00116_e0 EX_cpd00116_e0 -0.003754         1  0.05%\n",
      "cpd00218_e0 EX_cpd00218_e0 -0.003754         6  0.31%\n",
      "cpd00229_e0 EX_cpd00229_e0  -0.01126         2  0.31%\n",
      "cpd00246_e0 EX_cpd00246_e0  -0.02628        10  3.60%\n",
      "cpd15378_e0 EX_cpd15378_e0 -0.003754         7  0.36%\n",
      "cpd02701_c0 SK_cpd02701_c0 -0.003754        15  0.77%\n",
      "cpd11416_c0 SK_cpd11416_c0    -1.338         0  0.00%\n",
      "\n",
      "\n",
      "Production matrix:\n",
      "Empty DataFrame\n",
      "Columns: []\n",
      "Index: []\n",
      "\n",
      "\n",
      "Consumption matrix:\n",
      "Empty DataFrame\n",
      "Columns: []\n",
      "Index: []\n"
     ]
    },
    {
     "data": {
      "image/png": "[encoded data removed]",
      "text/plain": [
       "<Figure size 432x288 with 1 Axes>"
      ]
     },
     "metadata": {},
     "output_type": "display_data"
    }
   ],
   "source": [
    "# import the model\n",
    "%run ../../ModelSEEDpy/modelseedpy/core/mscommunity.py\n",
    "modelInfo_2 = ['Cjaponicus_gF4b_Model',97055]\n",
    "mediaInfo_2 = [\"GlucoseM9Media\",97055]\n",
    "\n",
    "model = kbase.get_from_ws(modelInfo_2[0],modelInfo_2[1])\n",
    "media = kbase.get_from_ws(mediaInfo_2[0],mediaInfo_2[1])\n",
    "# kmp = kbasemediapkg.KBaseMediaPkg(self.model)\n",
    "# kmp.build_package(media)\n",
    "\n",
    "# simulate and visualize the model\n",
    "cfba = MSCommunity(model)\n",
    "cfba.drain_fluxes()\n",
    "cfba.constrain(media) \n",
    "cfba.gapfill(media)\n",
    "solution = cfba.run(summary = True)\n",
    "cfba.compute_interactions(solution)\n",
    "cfba.visualize()"
   ]
  },
  {
   "cell_type": "markdown",
   "metadata": {},
   "source": [
    "### Chitin media"
   ]
  },
  {
   "cell_type": "code",
   "execution_count": 6,
   "metadata": {
    "scrolled": true
   },
   "outputs": [
    {
     "name": "stdout",
     "output_type": "stream",
     "text": [
      "Objective\n",
      "=========\n",
      "1.0 bio1 = 1.945024020288061\n",
      "\n",
      "Uptake\n",
      "------\n",
      " Metabolite       Reaction     Flux  C-Number  C-Flux\n",
      "cpd00007_e0 EX_cpd00007_e0  0.04366         0   0.00%\n",
      "cpd00009_e0 EX_cpd00009_e0     1.58         0   0.00%\n",
      "cpd00013_e0 EX_cpd00013_e0     7.01         0   0.00%\n",
      "cpd00030_e0 EX_cpd00030_e0 0.005458         0   0.00%\n",
      "cpd00034_e0 EX_cpd00034_e0 0.005458         0   0.00%\n",
      "cpd00048_e0 EX_cpd00048_e0   0.4403         0   0.00%\n",
      "cpd00058_e0 EX_cpd00058_e0 0.005458         0   0.00%\n",
      "cpd00063_e0 EX_cpd00063_e0 0.005458         0   0.00%\n",
      "cpd00067_e0 EX_cpd00067_e0    14.31         0   0.00%\n",
      "cpd00099_e0 EX_cpd00099_e0 0.005458         0   0.00%\n",
      "cpd00149_e0 EX_cpd00149_e0 0.005458         0   0.00%\n",
      "cpd00205_e0 EX_cpd00205_e0 0.005458         0   0.00%\n",
      "cpd00254_e0 EX_cpd00254_e0 0.005458         0   0.00%\n",
      "cpd10515_e0 EX_cpd10515_e0  0.02183         0   0.00%\n",
      "cpd11683_e0 EX_cpd11683_e0       10         8 100.00%\n",
      "cpd17041_c0    rxn13782_c0    1.945         0   0.00%\n",
      "cpd17042_c0    rxn13783_c0    1.945         0   0.00%\n",
      "cpd17043_c0    rxn13784_c0    1.945         0   0.00%\n",
      "\n",
      "Secretion\n",
      "---------\n",
      " Metabolite       Reaction      Flux  C-Number C-Flux\n",
      "cpd00001_e0 EX_cpd00001_e0    -24.65         0  0.00%\n",
      "cpd00011_e0 EX_cpd00011_e0    -2.491         1 73.80%\n",
      "cpd00033_e0 EX_cpd00033_e0   -0.1556         2  9.22%\n",
      "cpd00116_e0 EX_cpd00116_e0 -0.005458         1  0.16%\n",
      "cpd00218_e0 EX_cpd00218_e0 -0.005458         6  0.97%\n",
      "cpd00229_e0 EX_cpd00229_e0  -0.01637         2  0.97%\n",
      "cpd00246_e0 EX_cpd00246_e0  -0.03821        10 11.32%\n",
      "cpd15378_e0 EX_cpd15378_e0 -0.005458         7  1.13%\n",
      "cpd02701_c0 SK_cpd02701_c0 -0.005458        15  2.43%\n",
      "cpd11416_c0 SK_cpd11416_c0    -1.945         0  0.00%\n",
      "\n",
      "\n",
      "Production matrix:\n",
      "Empty DataFrame\n",
      "Columns: []\n",
      "Index: []\n",
      "\n",
      "\n",
      "Consumption matrix:\n",
      "Empty DataFrame\n",
      "Columns: []\n",
      "Index: []\n"
     ]
    },
    {
     "data": {
      "image/png": "[encoded data removed]",
      "text/plain": [
       "<Figure size 432x288 with 1 Axes>"
      ]
     },
     "metadata": {},
     "output_type": "display_data"
    }
   ],
   "source": [
    "# import the model\n",
    "%run ../../ModelSEEDpy/modelseedpy/core/mscommunity.py\n",
    "modelInfo_2 = ['Cjaponicus_gF4b_Model',97055]\n",
    "mediaInfo_2 = [\"ChitinM9Media\",97055]\n",
    "\n",
    "model = kbase.get_from_ws(modelInfo_2[0],modelInfo_2[1])\n",
    "media = kbase.get_from_ws(mediaInfo_2[0],mediaInfo_2[1])\n",
    "# kmp = kbasemediapkg.KBaseMediaPkg(self.model)\n",
    "# kmp.build_package(media)\n",
    "\n",
    "# simulate and visualize the model\n",
    "cfba = MSCommunity(model)\n",
    "cfba.drain_fluxes()\n",
    "cfba.constrain(media) \n",
    "cfba.gapfill(media)\n",
    "solution = cfba.run(summary = True)\n",
    "cfba.compute_interactions(solution)\n",
    "cfba.visualize()"
   ]
  },
  {
   "cell_type": "markdown",
   "metadata": {},
   "source": [
    "## E coli"
   ]
  },
  {
   "cell_type": "markdown",
   "metadata": {},
   "source": [
    "### Glucose media"
   ]
  },
  {
   "cell_type": "code",
   "execution_count": 7,
   "metadata": {
    "scrolled": true
   },
   "outputs": [
    {
     "name": "stdout",
     "output_type": "stream",
     "text": [
      "Objective\n",
      "=========\n",
      "1.0 bio1 = 1.5205175619509839\n",
      "\n",
      "Uptake\n",
      "------\n",
      " Metabolite       Reaction     Flux  C-Number  C-Flux\n",
      "cpd00007_e0 EX_cpd00007_e0  0.01707         0   0.00%\n",
      "cpd00009_e0 EX_cpd00009_e0    1.236         0   0.00%\n",
      "cpd00013_e0 EX_cpd00013_e0    13.05         0   0.00%\n",
      "cpd00027_e0 EX_cpd00027_e0       10         6 100.00%\n",
      "cpd00030_e0 EX_cpd00030_e0 0.004267         0   0.00%\n",
      "cpd00034_e0 EX_cpd00034_e0 0.004267         0   0.00%\n",
      "cpd00048_e0 EX_cpd00048_e0   0.3442         0   0.00%\n",
      "cpd00058_e0 EX_cpd00058_e0 0.004267         0   0.00%\n",
      "cpd00063_e0 EX_cpd00063_e0 0.004267         0   0.00%\n",
      "cpd00067_e0 EX_cpd00067_e0     11.9         0   0.00%\n",
      "cpd00099_e0 EX_cpd00099_e0 0.004267         0   0.00%\n",
      "cpd00149_e0 EX_cpd00149_e0 0.004267         0   0.00%\n",
      "cpd00205_e0 EX_cpd00205_e0 0.004267         0   0.00%\n",
      "cpd00254_e0 EX_cpd00254_e0 0.004267         0   0.00%\n",
      "cpd10515_e0 EX_cpd10515_e0  0.01707         0   0.00%\n",
      "cpd17041_c0    rxn13782_c0    1.521         0   0.00%\n",
      "cpd17042_c0    rxn13783_c0    1.521         0   0.00%\n",
      "cpd17043_c0    rxn13784_c0    1.521         0   0.00%\n",
      "\n",
      "Secretion\n",
      "---------\n",
      " Metabolite       Reaction      Flux  C-Number C-Flux\n",
      "cpd00001_e0 EX_cpd00001_e0    -44.47         0  0.00%\n",
      "cpd00116_e0 EX_cpd00116_e0 -0.004267         1  4.35%\n",
      "cpd15378_e0 EX_cpd15378_e0 -0.004267         7 30.43%\n",
      "cpd02701_c0 SK_cpd02701_c0 -0.004267        15 65.22%\n",
      "cpd11416_c0 SK_cpd11416_c0    -1.521         0  0.00%\n",
      "\n",
      "\n",
      "Production matrix:\n",
      "Empty DataFrame\n",
      "Columns: []\n",
      "Index: []\n",
      "\n",
      "\n",
      "Consumption matrix:\n",
      "Empty DataFrame\n",
      "Columns: []\n",
      "Index: []\n"
     ]
    },
    {
     "data": {
      "image/png": "[encoded data removed]",
      "text/plain": [
       "<Figure size 432x288 with 1 Axes>"
      ]
     },
     "metadata": {},
     "output_type": "display_data"
    }
   ],
   "source": [
    "# import the model\n",
    "%run ../../ModelSEEDpy/modelseedpy/core/mscommunity.py\n",
    "modelInfo_2 = ['Ecoli_gF4_Model',97055]\n",
    "mediaInfo_2 = [\"GlucoseM9Media\",97055]\n",
    "\n",
    "model = kbase.get_from_ws(modelInfo_2[0],modelInfo_2[1])\n",
    "media = kbase.get_from_ws(mediaInfo_2[0],mediaInfo_2[1])\n",
    "# kmp = kbasemediapkg.KBaseMediaPkg(self.model)\n",
    "# kmp.build_package(media)\n",
    "\n",
    "# simulate and visualize the model\n",
    "cfba = MSCommunity(model)\n",
    "cfba.drain_fluxes()\n",
    "cfba.constrain(media) \n",
    "cfba.gapfill(media)\n",
    "solution = cfba.run(summary = True)\n",
    "cfba.compute_interactions(solution)\n",
    "cfba.visualize()"
   ]
  },
  {
   "cell_type": "markdown",
   "metadata": {},
   "source": [
    "### Chitin media"
   ]
  },
  {
   "cell_type": "code",
   "execution_count": 8,
   "metadata": {
    "scrolled": true
   },
   "outputs": [
    {
     "name": "stderr",
     "output_type": "stream",
     "text": [
      "C:\\Users\\Andrew Freiburger\\AppData\\Roaming\\Python\\Python37\\site-packages\\cobra\\util\\solver.py:554: UserWarning: Solver status is 'infeasible'.\n",
      "  warn(f\"Solver status is '{status}'.\", UserWarning)\n",
      "modelseedpy.core.msgapfill - WARNING - No solution found for <cobrakbase.core.kbasebiochem.media.Media object at 0x000001C813864C88>\n",
      "WARNING:modelseedpy.core.msgapfill:No solution found for <cobrakbase.core.kbasebiochem.media.Media object at 0x000001C813864C88>\n"
     ]
    },
    {
     "name": "stdout",
     "output_type": "stream",
     "text": [
      "\n",
      "--> ERROR: The simulation lacks a solution, and cannot be gapfilled.\n",
      "\n",
      "Objective\n",
      "=========\n",
      "1.0 bio1 = 0.0\n",
      "\n",
      "Uptake\n",
      "------\n",
      "Empty DataFrame\n",
      "Columns: [Metabolite, Reaction, Flux, C-Number, C-Flux]\n",
      "Index: []\n",
      "\n",
      "Secretion\n",
      "---------\n",
      "Empty DataFrame\n",
      "Columns: [Metabolite, Reaction, Flux, C-Number, C-Flux]\n",
      "Index: []\n",
      "\n",
      "\n",
      "Production matrix:\n",
      "Empty DataFrame\n",
      "Columns: []\n",
      "Index: []\n",
      "\n",
      "\n",
      "Consumption matrix:\n",
      "Empty DataFrame\n",
      "Columns: []\n",
      "Index: []\n"
     ]
    },
    {
     "data": {
      "image/png": "[encoded data removed]",
      "text/plain": [
       "<Figure size 432x288 with 1 Axes>"
      ]
     },
     "metadata": {},
     "output_type": "display_data"
    }
   ],
   "source": [
    "# import the model\n",
    "%run ../../ModelSEEDpy/modelseedpy/core/mscommunity.py\n",
    "modelInfo_2 = ['Ecoli_gF4_Model',97055]\n",
    "mediaInfo_2 = [\"ChitinM9Media\",97055]\n",
    "\n",
    "model = kbase.get_from_ws(modelInfo_2[0],modelInfo_2[1])\n",
    "media = kbase.get_from_ws(mediaInfo_2[0],mediaInfo_2[1])\n",
    "# kmp = kbasemediapkg.KBaseMediaPkg(self.model)\n",
    "# kmp.build_package(media)\n",
    "\n",
    "# simulate and visualize the model\n",
    "cfba = MSCommunity(model)\n",
    "cfba.drain_fluxes()\n",
    "cfba.constrain(media) \n",
    "cfba.gapfill(media)\n",
    "solution = cfba.run(summary = True)\n",
    "cfba.compute_interactions(solution)\n",
    "cfba.visualize()"
   ]
  },
  {
   "cell_type": "code",
   "execution_count": null,
   "metadata": {},
   "outputs": [],
   "source": []
  },
  {
   "cell_type": "markdown",
   "metadata": {},
   "source": [
    "# Brainstorming"
   ]
  },
  {
   "cell_type": "code",
   "execution_count": 18,
   "metadata": {
    "scrolled": true
   },
   "outputs": [
    {
     "name": "stdout",
     "output_type": "stream",
     "text": [
      "set()\n",
      "True\n"
     ]
    }
   ],
   "source": [
    "via_string = []\n",
    "for reaction in model.reactions:\n",
    "    if reaction.id[:3] == 'EX_':\n",
    "        via_string.append(reaction.id)\n",
    "\n",
    "via_attribute = []\n",
    "for reaction in model.exchanges:\n",
    "    if reaction.id[:3] == 'EX_':\n",
    "        via_attribute.append(reaction.id)\n",
    "    \n",
    "print(set(via_attribute) -  set(via_string))\n",
    "print(set(via_string) == set(via_attribute))"
   ]
  }
 ],
 "metadata": {
  "kernelspec": {
   "display_name": "Python 3",
   "language": "python",
   "name": "python3"
  },
  "language_info": {
   "codemirror_mode": {
    "name": "ipython",
    "version": 3
   },
   "file_extension": ".py",
   "mimetype": "text/x-python",
   "name": "python",
   "nbconvert_exporter": "python",
   "pygments_lexer": "ipython3",
   "version": "3.7.4"
  }
 },
 "nbformat": 4,
 "nbformat_minor": 2
}
