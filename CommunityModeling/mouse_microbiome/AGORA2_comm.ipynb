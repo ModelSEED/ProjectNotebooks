{
 "cells": [
  {
   "cell_type": "code",
   "execution_count": 3,
   "id": "095421a5-0554-4a7c-99bc-5cd2fde0a3a8",
   "metadata": {},
   "outputs": [
    {
     "name": "stdout",
     "output_type": "stream",
     "text": [
      "43.8\n"
     ]
    }
   ],
   "source": [
    "import psutil\n",
    "from cobra.io import read_sbml_model, validate_sbml_model\n",
    "from glob import glob\n",
    "\n",
    "models = []\n",
    "for model in glob(\"\"):\n",
    "    try:  models.append(read_sbml_model(model))\n",
    "    except:  print(model, \"\\t\\t\", validate_sbml_model(model))\n",
    "    if len(models) > 10:  break\n",
    "\n",
    "    memory_usage = psutil.virtual_memory().percent\n"
   ]
  }
 ],
 "metadata": {
  "kernelspec": {
   "display_name": "Python 3 (ipykernel)",
   "language": "python",
   "name": "python3"
  },
  "language_info": {
   "codemirror_mode": {
    "name": "ipython",
    "version": 3
   },
   "file_extension": ".py",
   "mimetype": "text/x-python",
   "name": "python",
   "nbconvert_exporter": "python",
   "pygments_lexer": "ipython3",
   "version": "3.9.12"
  }
 },
 "nbformat": 4,
 "nbformat_minor": 5
}
