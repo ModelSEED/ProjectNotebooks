{
 "cells": [
  {
   "cell_type": "markdown",
   "id": "3c68396b-ecd5-4bcc-8640-be7928ad4650",
   "metadata": {},
   "source": [
    "# TODO - assemble a representative pangenome model for all models that map to a 16S sequence"
   ]
  },
  {
   "cell_type": "code",
   "execution_count": null,
   "id": "65389055-d182-4c1a-b86b-ab277159191a",
   "metadata": {},
   "outputs": [],
   "source": [
    "# determine the frequency of reactions in all models that are mapped to a single 16S genome\n",
    "# filter reactions that are below a frequency threshold"
   ]
  }
 ],
 "metadata": {
  "kernelspec": {
   "display_name": "Python 3 (ipykernel)",
   "language": "python",
   "name": "python3"
  },
  "language_info": {
   "codemirror_mode": {
    "name": "ipython",
    "version": 3
   },
   "file_extension": ".py",
   "mimetype": "text/x-python",
   "name": "python",
   "nbconvert_exporter": "python",
   "pygments_lexer": "ipython3",
   "version": "3.9.12"
  }
 },
 "nbformat": 4,
 "nbformat_minor": 5
}
