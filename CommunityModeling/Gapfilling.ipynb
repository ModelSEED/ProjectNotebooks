{
 "cells": [
  {
   "cell_type": "code",
   "execution_count": 1,
   "metadata": {},
   "outputs": [
    {
     "name": "stdout",
     "output_type": "stream",
     "text": [
      "cobrakbase 0.2.7\n"
     ]
    }
   ],
   "source": [
    "import sys\n",
    "import cobra\n",
    "#If you have CPLEX, uncomment this\n",
    "#import cplex\n",
    "import cobrakbase\n",
    "#Put the path to ModelSEEDpy on your machine here\n",
    "sys.path.append(\"/Users/chenry/code/ModelSEEDpy\")\n",
    "#import modelseedpy.fbapkg\n",
    "from modelseedpy import GapfillingPkg, KBaseMediaPkg\n",
    "from modelseedpy import FBAHelper, MSBuilder\n"
   ]
  },
  {
   "cell_type": "code",
   "execution_count": 2,
   "metadata": {},
   "outputs": [
    {
     "data": {
      "text/html": [
       "<div>\n",
       "<style scoped>\n",
       "    .dataframe tbody tr th:only-of-type {\n",
       "        vertical-align: middle;\n",
       "    }\n",
       "\n",
       "    .dataframe tbody tr th {\n",
       "        vertical-align: top;\n",
       "    }\n",
       "\n",
       "    .dataframe thead tr th {\n",
       "        text-align: left;\n",
       "    }\n",
       "</style>\n",
       "<table border=\"1\" class=\"dataframe\">\n",
       "  <thead>\n",
       "    <tr>\n",
       "      <th></th>\n",
       "      <th colspan=\"2\" halign=\"left\">IN_FLUXES</th>\n",
       "      <th colspan=\"2\" halign=\"left\">OUT_FLUXES</th>\n",
       "      <th colspan=\"2\" halign=\"left\">OBJECTIVES</th>\n",
       "    </tr>\n",
       "    <tr>\n",
       "      <th></th>\n",
       "      <th>ID</th>\n",
       "      <th>FLUX</th>\n",
       "      <th>ID</th>\n",
       "      <th>FLUX</th>\n",
       "      <th>ID</th>\n",
       "      <th>FLUX</th>\n",
       "    </tr>\n",
       "  </thead>\n",
       "  <tbody>\n",
       "    <tr>\n",
       "      <th>0</th>\n",
       "      <td>cpd00067_e0</td>\n",
       "      <td>62.005201</td>\n",
       "      <td>cpd00001_e0</td>\n",
       "      <td>82.362137</td>\n",
       "      <td>bio1</td>\n",
       "      <td>0.806067</td>\n",
       "    </tr>\n",
       "    <tr>\n",
       "      <th>1</th>\n",
       "      <td>cpd00013_e0</td>\n",
       "      <td>6.045863</td>\n",
       "      <td>cpd00007_e0</td>\n",
       "      <td>2.925568</td>\n",
       "      <td>NaN</td>\n",
       "      <td>NaN</td>\n",
       "    </tr>\n",
       "    <tr>\n",
       "      <th>2</th>\n",
       "      <td>cpd00027_e0</td>\n",
       "      <td>5.000000</td>\n",
       "      <td>NaN</td>\n",
       "      <td>NaN</td>\n",
       "      <td>NaN</td>\n",
       "      <td>NaN</td>\n",
       "    </tr>\n",
       "    <tr>\n",
       "      <th>3</th>\n",
       "      <td>cpd00009_e0</td>\n",
       "      <td>1.001258</td>\n",
       "      <td>NaN</td>\n",
       "      <td>NaN</td>\n",
       "      <td>NaN</td>\n",
       "      <td>NaN</td>\n",
       "    </tr>\n",
       "  </tbody>\n",
       "</table>\n",
       "</div>"
      ],
      "text/plain": [
       "<cobra.core.summary.model_summary.ModelSummary at 0x7fa640485c10>"
      ]
     },
     "execution_count": 2,
     "metadata": {},
     "output_type": "execute_result"
    }
   ],
   "source": [
    "kbase_api = cobrakbase.KBaseAPI()\n",
    "model = kbase_api.get_from_ws(\"test_model\",18528)\n",
    "#If you have CPLEX, uncomment this\n",
    "#model.solver = 'optlang-cplex'\n",
    "template = kbase_api.get_from_ws(\"GramNegModelTemplateV3\",\"NewKBaseModelTemplates\")\n",
    "media = kbase_api.get_from_ws(\"Carbon-D-Glucose\",\"KBaseMedia\")\n",
    "model = MSBuilder.gapfill_model(model,\"bio1\",template,media)\n",
    "\n",
    "kmp = KBaseMediaPkg(model)\n",
    "kmp.build_package(media)\n",
    "sol=model.optimize()\n",
    "model.summary()"
   ]
  }
 ],
 "metadata": {
  "kernelspec": {
   "display_name": "Python 3",
   "language": "python",
   "name": "python3"
  },
  "language_info": {
   "codemirror_mode": {
    "name": "ipython",
    "version": 3
   },
   "file_extension": ".py",
   "mimetype": "text/x-python",
   "name": "python",
   "nbconvert_exporter": "python",
   "pygments_lexer": "ipython3",
   "version": "3.7.6"
  }
 },
 "nbformat": 4,
 "nbformat_minor": 4
}
