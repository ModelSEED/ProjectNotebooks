{
 "cells": [
  {
   "cell_type": "code",
   "execution_count": 1,
   "id": "selective-yemen",
   "metadata": {},
   "outputs": [
    {
     "name": "stdout",
     "output_type": "stream",
     "text": [
      "cobrakbase 0.2.8\n"
     ]
    }
   ],
   "source": [
    "# import kbase\n",
    "import os\n",
    "# local_cobrakbase_path = 'C:\\\\Users\\\\Andrew Freiburger\\\\Dropbox\\\\My PC (DESKTOP-M302P50)\\\\Documents\\\\UVic Civil Engineering\\\\Internships\\\\Agronne\\\\cobrakbase'\n",
    "# os.environ[\"HOME\"] = local_cobrakbase_path\n",
    "import cobrakbase\n",
    "token = 'TKWQA762H2SMAYRES3BFUP37LKGNGQSM'\n",
    "kbase = cobrakbase.KBaseAPI(token)\n",
    "\n",
    "ftp_path = '../../../ModelSEEDDatabase'\n",
    "\n",
    "# import cFBA\n",
    "%run ModelSEEDpy/modelseedpy/core/mscommunity.py\n",
    "%run ModelSEEDpy/modelseedpy/core/fbahelper.py\n",
    "%matplotlib inline"
   ]
  },
  {
   "cell_type": "markdown",
   "id": "decreased-burke",
   "metadata": {},
   "source": [
    "## Define the model"
   ]
  },
  {
   "cell_type": "code",
   "execution_count": 2,
   "id": "compound-teach",
   "metadata": {},
   "outputs": [],
   "source": [
    "modelInfo_2 = [\"CMM_iAH991V2_iML1515.kb\",40576]\n",
    "mediaInfo_2 = [\"Btheta_Ecoli_minimal_media\",40576]\n",
    "\n",
    "model = kbase.get_from_ws(modelInfo_2[0],modelInfo_2[1])\n",
    "media = kbase.get_from_ws(mediaInfo_2[0],mediaInfo_2[1])"
   ]
  },
  {
   "cell_type": "markdown",
   "id": "qualified-variation",
   "metadata": {
    "tags": []
   },
   "source": [
    "# drain_fluxes function"
   ]
  },
  {
   "cell_type": "code",
   "execution_count": 25,
   "id": "through-reputation",
   "metadata": {},
   "outputs": [],
   "source": [
    "def drain_fluxes(predict_abundance = False):\n",
    "    biomass_drains = {}\n",
    "    # parse the metabolites in the biomass reactions\n",
    "    for reaction in model.reactions:\n",
    "        if re.search('^bio\\d+$', reaction.id):\n",
    "            for metabolite in reaction.metabolites:\n",
    "                # identify the biomass metabolites\n",
    "                msid = FBAHelper.modelseed_id_from_cobra_metabolite(metabolite)\n",
    "                m = re.search('[a-z](\\d+)', metabolite.compartment).group()\n",
    "                if msid == \"cpd11416\" and m != None:\n",
    "                    # evaluate only cross-feeding\n",
    "                    index = m[1]\n",
    "                    if index != \"0\" and index not in biomass_drains and predict_abundance:\n",
    "                        print(f\"Making biomass drain: {metabolite.id}\")\n",
    "                        drain_reaction = FBAHelper.add_drain_from_metabolite_id(model, metabolite.id,0,100,\"DM_\")\n",
    "                        model.add_reactions([drain_reaction])\n",
    "                        biomass_drains[index] = drain_reaction\n",
    "                \n",
    "    # print the objective value for each specie in the model\n",
    "    for i in range(1,len(biomass_drains)+1):\n",
    "        FBAHelper.set_objective_from_target_reaction(model,f\"DM_cpd11416_c{i}\")\n",
    "        sol=model.optimize()\n",
    "        print(f\"species {i} objective value: {sol.objective_value}\")\n",
    "        \n",
    "    return biomass_drains"
   ]
  },
  {
   "cell_type": "markdown",
   "id": "appreciated-switzerland",
   "metadata": {},
   "source": [
    "# Test the function"
   ]
  },
  {
   "cell_type": "code",
   "execution_count": 26,
   "id": "decreased-growing",
   "metadata": {},
   "outputs": [
    {
     "name": "stdout",
     "output_type": "stream",
     "text": [
      "Making biomass drain:cpd11416_c1\n",
      "Making biomass drain:cpd11416_c2\n",
      "species 1 objective value: 75.52804108181633\n",
      "species 2 objective value: 86.91587102429742\n"
     ]
    },
    {
     "data": {
      "text/plain": [
       "{'1': <Reaction DM_cpd11416_c1 at 0x7f456c6c0b50>,\n",
       " '2': <Reaction DM_cpd11416_c2 at 0x7f456c6c0c40>}"
      ]
     },
     "execution_count": 26,
     "metadata": {},
     "output_type": "execute_result"
    }
   ],
   "source": [
    "drain_fluxes(predict_abundance = True)"
   ]
  },
  {
   "cell_type": "code",
   "execution_count": null,
   "id": "ranging-reproduction",
   "metadata": {},
   "outputs": [],
   "source": []
  },
  {
   "cell_type": "code",
   "execution_count": null,
   "id": "wired-ordering",
   "metadata": {},
   "outputs": [],
   "source": []
  },
  {
   "cell_type": "code",
   "execution_count": null,
   "id": "educated-framework",
   "metadata": {},
   "outputs": [],
   "source": []
  }
 ],
 "metadata": {
  "kernelspec": {
   "display_name": "Python 3",
   "language": "python",
   "name": "python3"
  },
  "language_info": {
   "codemirror_mode": {
    "name": "ipython",
    "version": 3
   },
   "file_extension": ".py",
   "mimetype": "text/x-python",
   "name": "python",
   "nbconvert_exporter": "python",
   "pygments_lexer": "ipython3",
   "version": "3.8.10"
  }
 },
 "nbformat": 4,
 "nbformat_minor": 5
}
