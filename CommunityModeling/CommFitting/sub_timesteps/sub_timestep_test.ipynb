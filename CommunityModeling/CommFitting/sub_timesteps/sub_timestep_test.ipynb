{
 "cells": [
  {
   "cell_type": "markdown",
   "id": "9dfa832e-1d6a-4908-a20c-a9165d0a7e6f",
   "metadata": {},
   "source": [
    "# Full community"
   ]
  },
  {
   "cell_type": "code",
   "execution_count": null,
   "id": "03e1af21-471c-4dd7-ba8a-89b85c7239c1",
   "metadata": {},
   "outputs": [
    {
     "name": "stdout",
     "output_type": "stream",
     "text": [
      "The ['rxn name', 'rxn'] columns were dropped from the phenotypes CSV.\n",
      "The ['C2', 'C12', 'G3'] trials were dropped from the ecoli measurements.\n",
      "The ['B2', 'B12', 'D2', 'D12', 'E2', 'E12', 'F2', 'F12', 'G2', 'G12'] trials were removed from the ecoli measurements, with their deviation over time being less than the threshold of 2.\n",
      "The ['C2', 'C12', 'G3'] trials were dropped from the pf measurements.\n",
      "The ['B2', 'B3', 'B12', 'D2', 'D12', 'E12', 'F12', 'G12'] trials were removed from the pf measurements, with their deviation over time being less than the threshold of 2.\n",
      "The ['C2', 'C12', 'G3'] trials were dropped from the OD measurements.\n",
      "2022-07-08 23:56:45.532513\n"
     ]
    }
   ],
   "source": [
    "from datetime import datetime\n",
    "from zipfile import ZipFile\n",
    "from pandas import read_csv\n",
    "import os\n",
    "# from mscommfitting import MSCommFitting\n",
    "# os.chdir('C:/Users/Andrew Freiburger/Documents/Argonne/ProjectNotebooks/CommunityModeling/CommFitting/Ecoli_maltose')\n",
    "%run ../mscommfitting.py\n",
    "with ZipFile('msComFit.zip', 'r') as zp:\n",
    "    zp.extractall()\n",
    "fluxes_df = read_csv('PhenotypeStoichiometry.csv')\n",
    "graphs = []\n",
    "for metabolite in fluxes_df['rxn'].to_list():\n",
    "    graphs.append({\n",
    "        'trial':'B5',\n",
    "        'content': metabolite,\n",
    "        'species': 'ecoli',\n",
    "        'phenotype': 'malt'\n",
    "    })\n",
    "mscommfit2 = MSCommFitting(phenotypes_csv_path = 'PhenotypeStoichiometry.csv', \n",
    "                           signal_tsv_paths = {'RFP_pf-ec_4-29-22.txt':'ecoli', 'GFP_pf-ec_4-29-22.txt':'pf', 'OD_pf-ec_4-29-22.txt':'OD'},\n",
    "                           media_conc_path = 'media_conc.csv',\n",
    "                           species_abundance_path = 'species_abundances.csv',\n",
    "                           carbon_conc_series = {'rows': {\n",
    "                               'cpd00136': {'B':0, 'C': 0, 'D': 1, 'E': 1, 'F': 4, 'G': 4},\n",
    "                               'cpd00179': {'B':5, 'C': 5, 'D':5, 'E': 5, 'F': 5, 'G': 5},\n",
    "                               }},\n",
    "                           ignore_trials = {'wells': ['C2', 'G3', 'C12']},  # 'columns': [6,7,8,9,10,11,12]},\n",
    "                           # ignore_timesteps = [x for x in range(20,167)],\n",
    "                           unzip_contents='msComFit.zip')\n",
    "print(datetime.today())\n",
    "mscommfit2.define_problem(parameters={\n",
    "    'v':100,\n",
    "    'cvmin': 0.5,\n",
    "    'bcv': 0.5\n",
    "    }, zip_contents=True)\n",
    "print(datetime.today())\n",
    "%time mscommfit2.compute(graphs, 'full_community')\n",
    "print('growth:', mscommfit2.parameters['v'], 'objective value:', mscommfit2.problem.objective.value, '\\n\\n\\n\\n')\n",
    "print(datetime.today())"
   ]
  },
  {
   "cell_type": "code",
   "execution_count": null,
   "id": "73aa3e96-c856-45eb-9d7f-28f78039d9d1",
   "metadata": {},
   "outputs": [],
   "source": []
  }
 ],
 "metadata": {
  "kernelspec": {
   "display_name": "Python 3 (ipykernel)",
   "language": "python",
   "name": "python3"
  },
  "language_info": {
   "codemirror_mode": {
    "name": "ipython",
    "version": 3
   },
   "file_extension": ".py",
   "mimetype": "text/x-python",
   "name": "python",
   "nbconvert_exporter": "python",
   "pygments_lexer": "ipython3",
   "version": "3.9.12"
  }
 },
 "nbformat": 4,
 "nbformat_minor": 5
}
