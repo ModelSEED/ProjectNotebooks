{
 "cells": [
  {
   "cell_type": "code",
   "execution_count": 1,
   "metadata": {},
   "outputs": [
    {
     "name": "stderr",
     "output_type": "stream",
     "text": [
      "C:\\Users\\Andrew Freiburger\\AppData\\Local\\Programs\\Python\\Python39\\lib\\site-packages\\requests\\__init__.py:102: RequestsDependencyWarning: urllib3 (1.26.9) or chardet (5.0.0)/charset_normalizer (2.0.12) doesn't match a supported version!\n",
      "  warnings.warn(\"urllib3 ({}) or chardet ({})/charset_normalizer ({}) doesn't match a supported \"\n"
     ]
    },
    {
     "name": "stdout",
     "output_type": "stream",
     "text": [
      "cobrakbase 0.2.8\n"
     ]
    }
   ],
   "source": [
    "# define the environment path \n",
    "import os\n",
    "local_cobrakbase_path = os.path.join('C:', 'Users', 'Andrew Freiburger','Documents','Argonne','cobrakbase')\n",
    "os.environ[\"HOME\"] = local_cobrakbase_path\n",
    "\n",
    "# import the models\n",
    "import cobrakbase\n",
    "token = '6MLTVYGHR6Y6V32DX255AVC53U2NDY7X'\n",
    "kbase_api = cobrakbase.KBaseAPI(token)\n",
    "\n",
    "# load community content\n",
    "base_media = kbase_api.get_from_ws(\"93465/19/1\")\n",
    "community_members = {\n",
    "                        kbase_api.get_from_ws(\"iML1515\",76994): {\n",
    "                            'name': 'ecoli', \n",
    "                            'phenotypes': {#'acetate': kbase_api.get_from_ws('93465/13/1'), \n",
    "                                        'malt': {\"cpd00179\":[-1,-1]} #kbase_api.get_from_ws(\"93465/23/1\")} #'93465/9/1')}   # !!! The phenotype name must align with the experimental IDs for the graphs to find the appropriate data\n",
    "                            }\n",
    "                        },\n",
    "                        kbase_api.get_from_ws(\"iSB1139.kb.gf\",30650): {\n",
    "                            'name': 'pf',\n",
    "                            'phenotypes': {'acetate': {\"cpd00029\":[-1,-1]}, # kbase_api.get_from_ws(\"93465/25/1\"), #'93465/11/1'), \n",
    "                                        '4HB': {\"cpd00136\":[-1,-1]} # kbase_api.get_from_ws('\t93465/27/1')} #93465/15/1')}\n",
    "                            }\n",
    "                        }\n",
    "                    }"
   ]
  },
  {
   "cell_type": "code",
   "execution_count": 2,
   "metadata": {},
   "outputs": [
    {
     "name": "stdout",
     "output_type": "stream",
     "text": [
      "cpd00179_e0 <=> \n",
      "cpd00179_e0 <-- \n"
     ]
    },
    {
     "name": "stderr",
     "output_type": "stream",
     "text": [
      "C:\\Users\\Andrew Freiburger\\AppData\\Local\\Programs\\Python\\Python39\\lib\\site-packages\\cobra\\medium\\boundary_types.py:60: FutureWarning: The default dtype for empty Series will be 'object' instead of 'float64' in a future version. Specify a dtype explicitly to silence this warning.\n",
      "  matches = pd.Series(\n",
      "C:\\Users\\Andrew Freiburger\\AppData\\Local\\Programs\\Python\\Python39\\lib\\site-packages\\cobra\\medium\\boundary_types.py:60: FutureWarning: The default dtype for empty Series will be 'object' instead of 'float64' in a future version. Specify a dtype explicitly to silence this warning.\n",
      "  matches = pd.Series(\n",
      "C:\\Users\\Andrew Freiburger\\AppData\\Local\\Programs\\Python\\Python39\\lib\\site-packages\\cobra\\medium\\boundary_types.py:60: FutureWarning: The default dtype for empty Series will be 'object' instead of 'float64' in a future version. Specify a dtype explicitly to silence this warning.\n",
      "  matches = pd.Series(\n",
      "C:\\Users\\Andrew Freiburger\\AppData\\Local\\Programs\\Python\\Python39\\lib\\site-packages\\cobra\\medium\\boundary_types.py:60: FutureWarning: The default dtype for empty Series will be 'object' instead of 'float64' in a future version. Specify a dtype explicitly to silence this warning.\n",
      "  matches = pd.Series(\n",
      "C:\\Users\\Andrew Freiburger\\AppData\\Local\\Programs\\Python\\Python39\\lib\\site-packages\\cobra\\medium\\boundary_types.py:60: FutureWarning: The default dtype for empty Series will be 'object' instead of 'float64' in a future version. Specify a dtype explicitly to silence this warning.\n",
      "  matches = pd.Series(\n",
      "C:\\Users\\Andrew Freiburger\\AppData\\Local\\Programs\\Python\\Python39\\lib\\site-packages\\cobra\\medium\\boundary_types.py:60: FutureWarning: The default dtype for empty Series will be 'object' instead of 'float64' in a future version. Specify a dtype explicitly to silence this warning.\n",
      "  matches = pd.Series(\n"
     ]
    },
    {
     "data": {
      "text/plain": [
       "{'dictionary_item_added': [root['EX_cpd00240_e0'], root['EX_cpd00793_e0']],\n",
       " 'values_changed': {\"root['EX_cpd00179_e0']\": {'new_value': 1,\n",
       "   'old_value': 1000},\n",
       "  \"root['EX_cpd00030_e0']\": {'new_value': 100, 'old_value': 1000},\n",
       "  \"root['EX_cpd00048_e0']\": {'new_value': 100, 'old_value': 1000},\n",
       "  \"root['EX_cpd11574_e0']\": {'new_value': 100, 'old_value': 1000},\n",
       "  \"root['EX_cpd00063_e0']\": {'new_value': 100, 'old_value': 1000},\n",
       "  \"root['EX_cpd00034_e0']\": {'new_value': 100, 'old_value': 1000},\n",
       "  \"root['EX_cpd00058_e0']\": {'new_value': 100, 'old_value': 1000},\n",
       "  \"root['EX_cpd00205_e0']\": {'new_value': 100, 'old_value': 1000},\n",
       "  \"root['EX_cpd00009_e0']\": {'new_value': 100, 'old_value': 1000},\n",
       "  \"root['EX_cpd10515_e0']\": {'new_value': 100, 'old_value': 1000},\n",
       "  \"root['EX_cpd00971_e0']\": {'new_value': 100, 'old_value': 1000},\n",
       "  \"root['EX_cpd00254_e0']\": {'new_value': 100, 'old_value': 1000},\n",
       "  \"root['EX_cpd00099_e0']\": {'new_value': 100, 'old_value': 1000}}}"
      ]
     },
     "metadata": {},
     "output_type": "display_data"
    },
    {
     "name": "stdout",
     "output_type": "stream",
     "text": [
      "75.47728839841663\n",
      "cpd00029_e0 <=> \n",
      "cpd00029_e0 <-- \n",
      "cpd00136_e0 <=> \n",
      "cpd00136_e0 <-- \n"
     ]
    },
    {
     "name": "stderr",
     "output_type": "stream",
     "text": [
      "C:\\Users\\Andrew Freiburger\\AppData\\Local\\Programs\\Python\\Python39\\lib\\site-packages\\cobra\\medium\\boundary_types.py:60: FutureWarning: The default dtype for empty Series will be 'object' instead of 'float64' in a future version. Specify a dtype explicitly to silence this warning.\n",
      "  matches = pd.Series(\n",
      "C:\\Users\\Andrew Freiburger\\AppData\\Local\\Programs\\Python\\Python39\\lib\\site-packages\\cobra\\medium\\boundary_types.py:60: FutureWarning: The default dtype for empty Series will be 'object' instead of 'float64' in a future version. Specify a dtype explicitly to silence this warning.\n",
      "  matches = pd.Series(\n",
      "C:\\Users\\Andrew Freiburger\\AppData\\Local\\Programs\\Python\\Python39\\lib\\site-packages\\cobra\\medium\\boundary_types.py:60: FutureWarning: The default dtype for empty Series will be 'object' instead of 'float64' in a future version. Specify a dtype explicitly to silence this warning.\n",
      "  matches = pd.Series(\n",
      "C:\\Users\\Andrew Freiburger\\AppData\\Local\\Programs\\Python\\Python39\\lib\\site-packages\\cobra\\medium\\boundary_types.py:60: FutureWarning: The default dtype for empty Series will be 'object' instead of 'float64' in a future version. Specify a dtype explicitly to silence this warning.\n",
      "  matches = pd.Series(\n",
      "C:\\Users\\Andrew Freiburger\\AppData\\Local\\Programs\\Python\\Python39\\lib\\site-packages\\cobra\\medium\\boundary_types.py:60: FutureWarning: The default dtype for empty Series will be 'object' instead of 'float64' in a future version. Specify a dtype explicitly to silence this warning.\n",
      "  matches = pd.Series(\n",
      "C:\\Users\\Andrew Freiburger\\AppData\\Local\\Programs\\Python\\Python39\\lib\\site-packages\\cobra\\medium\\boundary_types.py:60: FutureWarning: The default dtype for empty Series will be 'object' instead of 'float64' in a future version. Specify a dtype explicitly to silence this warning.\n",
      "  matches = pd.Series(\n",
      "C:\\Users\\Andrew Freiburger\\AppData\\Local\\Programs\\Python\\Python39\\lib\\site-packages\\cobra\\medium\\boundary_types.py:60: FutureWarning: The default dtype for empty Series will be 'object' instead of 'float64' in a future version. Specify a dtype explicitly to silence this warning.\n",
      "  matches = pd.Series(\n",
      "C:\\Users\\Andrew Freiburger\\AppData\\Local\\Programs\\Python\\Python39\\lib\\site-packages\\cobra\\medium\\boundary_types.py:60: FutureWarning: The default dtype for empty Series will be 'object' instead of 'float64' in a future version. Specify a dtype explicitly to silence this warning.\n",
      "  matches = pd.Series(\n",
      "C:\\Users\\Andrew Freiburger\\AppData\\Local\\Programs\\Python\\Python39\\lib\\site-packages\\cobra\\medium\\boundary_types.py:60: FutureWarning: The default dtype for empty Series will be 'object' instead of 'float64' in a future version. Specify a dtype explicitly to silence this warning.\n",
      "  matches = pd.Series(\n",
      "C:\\Users\\Andrew Freiburger\\AppData\\Local\\Programs\\Python\\Python39\\lib\\site-packages\\cobra\\medium\\boundary_types.py:60: FutureWarning: The default dtype for empty Series will be 'object' instead of 'float64' in a future version. Specify a dtype explicitly to silence this warning.\n",
      "  matches = pd.Series(\n"
     ]
    },
    {
     "data": {
      "text/plain": [
       "{'dictionary_item_added': [root['EX_cpd00058_e0'], root['EX_cpd00240_e0'], root['EX_cpd00793_e0'], root['EX_cpd11574_e0'], root['EX_cpd00030_e0'], root['EX_cpd10515_e0']],\n",
       " 'values_changed': {\"root['EX_cpd00205_e0']\": {'new_value': 100,\n",
       "   'old_value': 1000},\n",
       "  \"root['EX_cpd00009_e0']\": {'new_value': 100, 'old_value': 1000},\n",
       "  \"root['EX_cpd00029_e0']\": {'new_value': 1, 'old_value': 1000},\n",
       "  \"root['EX_cpd00048_e0']\": {'new_value': 100, 'old_value': 1000},\n",
       "  \"root['EX_cpd00971_e0']\": {'new_value': 100, 'old_value': 1000},\n",
       "  \"root['EX_cpd00136_e0']\": {'new_value': 1, 'old_value': 1000},\n",
       "  \"root['EX_cpd00254_e0']\": {'new_value': 100, 'old_value': 1000},\n",
       "  \"root['EX_cpd00063_e0']\": {'new_value': 100, 'old_value': 1000},\n",
       "  \"root['EX_cpd00099_e0']\": {'new_value': 100, 'old_value': 1000},\n",
       "  \"root['EX_cpd00034_e0']\": {'new_value': 100, 'old_value': 1000}}}"
      ]
     },
     "metadata": {},
     "output_type": "display_data"
    },
    {
     "name": "stdout",
     "output_type": "stream",
     "text": [
      "22.201073630412868\n"
     ]
    }
   ],
   "source": [
    "from modelseedpy.core.fbahelper import FBAHelper\n",
    "from deepdiff import DeepDiff\n",
    "for model, content in community_members.items():\n",
    "    org_medium = model.medium\n",
    "    model = FBAHelper.update_model_media(model, base_media)\n",
    "    model_reactions = [rxn.id for rxn in model.reactions]\n",
    "    # new_medium = model.medium\n",
    "    for pheno, content2 in content[\"phenotypes\"].items():\n",
    "        for cpd, bounds in content2.items():\n",
    "            rxnID = \"EX_\"+cpd+\"_e0\"\n",
    "            if rxnID not in model_reactions:\n",
    "                model.add_boundary(metabolite=model.metabolites.get_by_id(cpd), reaction_id=rxnID, type=\"exchange\", lb=-100, ub=100)\n",
    "            # new_medium[rxnID] = bounds[1]\n",
    "            # print(model.medium)\n",
    "            print(model.reactions.get_by_id(rxnID).reaction)\n",
    "            model.reactions.get_by_id(rxnID).lower_bound = -1\n",
    "            model.reactions.get_by_id(rxnID).upper_bound = -1\n",
    "            print(model.reactions.get_by_id(rxnID).reaction)\n",
    "            # print(model.medium)\n",
    "    # model.medium = new_medium\n",
    "    display(DeepDiff(org_medium, model.medium))\n",
    "    print(model.optimize().objective_value)"
   ]
  },
  {
   "cell_type": "code",
   "execution_count": 4,
   "metadata": {},
   "outputs": [
    {
     "name": "stdout",
     "output_type": "stream",
     "text": [
      "23 ['EX_cpd00001_e0', 'EX_cpd00007_e0', 'EX_cpd00009_e0', 'EX_cpd00013_e0', 'EX_cpd00030_e0', 'EX_cpd00034_e0', 'EX_cpd00048_e0', 'EX_cpd00058_e0', 'EX_cpd00063_e0', 'EX_cpd00067_e0', 'EX_cpd00099_e0', 'EX_cpd00149_e0', 'EX_cpd00205_e0', 'EX_cpd00244_e0', 'EX_cpd00254_e0', 'EX_cpd00635_e0', 'EX_cpd00971_e0', 'EX_cpd03387_e0', 'EX_cpd03396_e0', 'EX_cpd10515_e0', 'EX_cpd10516_e0', 'EX_cpd11574_e0', 'EX_cpd15574_e0']\n",
      "16 ['EX_cpd00001_e0', 'EX_cpd00007_e0', 'EX_cpd00009_e0', 'EX_cpd00013_e0', 'EX_cpd00030_e0', 'EX_cpd00034_e0', 'EX_cpd00048_e0', 'EX_cpd00063_e0', 'EX_cpd00067_e0', 'EX_cpd00099_e0', 'EX_cpd00149_e0', 'EX_cpd00205_e0', 'EX_cpd00254_e0', 'EX_cpd00971_e0', 'EX_cpd10515_e0', 'EX_cpd10516_e0']\n"
     ]
    }
   ],
   "source": [
    "medium = {\n",
    "         'EX_cpd00048_e0':100,\n",
    "         'EX_cpd00009_e0':100,\n",
    "         'EX_cpd00030_e0': 100,\n",
    "         'EX_cpd10515_e0': 100,\n",
    "         'EX_cpd00971_e0': 100,\n",
    "         'EX_cpd00254_e0': 100,\n",
    "         'EX_cpd00013_e0': 100,\n",
    "         'EX_cpd00205_e0': 100,\n",
    "         'EX_cpd00007_e0': 20,\n",
    "         'EX_cpd00001_e0': 100,\n",
    "         'EX_cpd00067_e0': 100,\n",
    "         'EX_cpd10516_e0': 100.0,\n",
    "         'EX_cpd00034_e0': 100.0,\n",
    "         'EX_cpd00063_e0': 100.0,\n",
    "         'EX_cpd00244_e0': 100.0,\n",
    "         'EX_cpd00058_e0': 100.0,\n",
    "         'EX_cpd03396_e0': 100.0,\n",
    "         'EX_cpd00149_e0': 100.0,\n",
    "         'EX_cpd11574_e0': 100.0,\n",
    "         'EX_cpd00099_e0': 100.0,\n",
    "         'EX_cpd00635_e0':100,\n",
    "         'EX_cpd15574_e0': 100.0,\n",
    "         'EX_cpd03387_e0': 100.0\n",
    "}\n",
    "print(len(medium), sorted(list(medium.keys())))\n",
    "\n",
    "medium2 = {\n",
    "         'EX_cpd00048_e0':100,\n",
    "         'EX_cpd00009_e0':100,\n",
    "         'EX_cpd00030_e0': 100,\n",
    "         'EX_cpd10515_e0': 100,\n",
    "         'EX_cpd00971_e0': 100,\n",
    "         'EX_cpd00254_e0': 100,\n",
    "         'EX_cpd00013_e0': 100,\n",
    "         'EX_cpd00205_e0': 100,\n",
    "         'EX_cpd00007_e0': 20,\n",
    "         'EX_cpd00001_e0': 100,\n",
    "         'EX_cpd00067_e0': 100,\n",
    "         'EX_cpd10516_e0': 100.0,\n",
    "         'EX_cpd00034_e0': 100.0,\n",
    "         'EX_cpd00063_e0': 100.0,\n",
    "         #'EX_ni2_e': 100.0,\n",
    "         #'EX_cu2_e': 100.0,\n",
    "         #'EX_sel_e': 100.0,\n",
    "         'EX_cpd00149_e0': 100.0,\n",
    "         #'EX_mobd_e': 100.0,\n",
    "         'EX_cpd00099_e0': 100.0,\n",
    "         #'EX_cbl1_e':100,\n",
    "         #'EX_tungs_e': 100.0,\n",
    "         #'EX_slnt_e': 100.0\n",
    "}\n",
    "print(len(medium2), sorted(list(medium2.keys())))"
   ]
  },
  {
   "cell_type": "code",
   "execution_count": 5,
   "metadata": {},
   "outputs": [
    {
     "ename": "NameError",
     "evalue": "name 'model1' is not defined",
     "output_type": "error",
     "traceback": [
      "\u001b[1;31m---------------------------------------------------------------------------\u001b[0m",
      "\u001b[1;31mNameError\u001b[0m                                 Traceback (most recent call last)",
      "Input \u001b[1;32mIn [5]\u001b[0m, in \u001b[0;36m<cell line: 2>\u001b[1;34m()\u001b[0m\n\u001b[0;32m      1\u001b[0m \u001b[38;5;66;03m#ec\u001b[39;00m\n\u001b[1;32m----> 2\u001b[0m \u001b[43mmodel1\u001b[49m\u001b[38;5;241m.\u001b[39msolver \u001b[38;5;241m=\u001b[39m \u001b[38;5;124m'\u001b[39m\u001b[38;5;124moptlang-cplex\u001b[39m\u001b[38;5;124m'\u001b[39m\n\u001b[0;32m      3\u001b[0m medium \u001b[38;5;241m=\u001b[39m {\n\u001b[0;32m      4\u001b[0m          \u001b[38;5;124m'\u001b[39m\u001b[38;5;124mEX_cpd00048_e0\u001b[39m\u001b[38;5;124m'\u001b[39m:\u001b[38;5;241m100\u001b[39m,\n\u001b[0;32m      5\u001b[0m          \u001b[38;5;124m'\u001b[39m\u001b[38;5;124mEX_cpd00009_e0\u001b[39m\u001b[38;5;124m'\u001b[39m:\u001b[38;5;241m100\u001b[39m,\n\u001b[1;32m   (...)\u001b[0m\n\u001b[0;32m     26\u001b[0m          \u001b[38;5;124m'\u001b[39m\u001b[38;5;124mEX_cpd03387_e0\u001b[39m\u001b[38;5;124m'\u001b[39m: \u001b[38;5;241m100.0\u001b[39m\n\u001b[0;32m     27\u001b[0m }\n\u001b[0;32m     28\u001b[0m model1\u001b[38;5;241m.\u001b[39mmedium\u001b[38;5;241m=\u001b[39mmedium\n",
      "\u001b[1;31mNameError\u001b[0m: name 'model1' is not defined"
     ]
    }
   ],
   "source": [
    "#ec\n",
    "model1.solver = 'optlang-cplex'\n",
    "medium = {\n",
    "         'EX_cpd00048_e0':100,\n",
    "         'EX_cpd00009_e0':100,\n",
    "         'EX_cpd00030_e0': 100,\n",
    "         'EX_cpd10515_e0': 100,\n",
    "         'EX_cpd00971_e0': 100,\n",
    "         'EX_cpd00254_e0': 100,\n",
    "         'EX_cpd00013_e0': 100,\n",
    "         'EX_cpd00205_e0': 100,\n",
    "         'EX_cpd00007_e0': 20,\n",
    "         'EX_cpd00001_e0': 100,\n",
    "         'EX_cpd00067_e0': 100,\n",
    "         'EX_cpd10516_e0': 100.0,\n",
    "         'EX_cpd00034_e0': 100.0,\n",
    "         'EX_cpd00063_e0': 100.0,\n",
    "         'EX_cpd00244_e0': 100.0,\n",
    "         'EX_cpd00058_e0': 100.0,\n",
    "         'EX_cpd03396_e0': 100.0,\n",
    "         'EX_cpd00149_e0': 100.0,\n",
    "         'EX_cpd11574_e0': 100.0,\n",
    "         'EX_cpd00099_e0': 100.0,\n",
    "         'EX_cpd00635_e0':100,\n",
    "         'EX_cpd15574_e0': 100.0,\n",
    "         'EX_cpd03387_e0': 100.0\n",
    "}\n",
    "model1.medium=medium\n",
    "\n"
   ]
  },
  {
   "cell_type": "code",
   "execution_count": null,
   "metadata": {},
   "outputs": [],
   "source": [
    "biomass_objective = model1.problem.Objective(\n",
    "    1 * model1.reactions.bio1.flux_expression,\n",
    "    direction='max')\n",
    "model1.objective = biomass_objective\n",
    "\n",
    "model1.optimize()"
   ]
  },
  {
   "cell_type": "code",
   "execution_count": null,
   "metadata": {},
   "outputs": [],
   "source": [
    "#pf\n",
    "model2.solver = 'optlang-cplex'\n",
    "medium2 = {\n",
    "         'EX_cpd00048_e0':100,\n",
    "         'EX_cpd00009_e0':100,\n",
    "         'EX_cpd00030_e0': 100,\n",
    "         'EX_cpd10515_e0': 100,\n",
    "         'EX_cpd00971_e0': 100,\n",
    "         'EX_cpd00254_e0': 100,\n",
    "         'EX_cpd00013_e0': 100,\n",
    "         'EX_cpd00205_e0': 100,\n",
    "         'EX_cpd00007_e0': 20,\n",
    "         'EX_cpd00001_e0': 100,\n",
    "         'EX_cpd00067_e0': 100,\n",
    "         'EX_cpd10516_e0': 100.0,\n",
    "         'EX_cpd00034_e0': 100.0,\n",
    "         'EX_cpd00063_e0': 100.0,\n",
    "         #'EX_ni2_e': 100.0,\n",
    "         #'EX_cu2_e': 100.0,\n",
    "         #'EX_sel_e': 100.0,\n",
    "         'EX_cpd00149_e0': 100.0,\n",
    "         #'EX_mobd_e': 100.0,\n",
    "         'EX_cpd00099_e0': 100.0,\n",
    "         #'EX_cbl1_e':100,\n",
    "         #'EX_tungs_e': 100.0,\n",
    "         #'EX_slnt_e': 100.0\n",
    "}\n",
    "model2.medium=medium2"
   ]
  },
  {
   "cell_type": "code",
   "execution_count": null,
   "metadata": {},
   "outputs": [],
   "source": [
    "biomass_objective = model2.problem.Objective(\n",
    "    1 * model2.reactions.bio1.flux_expression,\n",
    "    direction='max')\n",
    "model2.objective = biomass_objective\n",
    "\n",
    "model2.optimize()"
   ]
  },
  {
   "cell_type": "code",
   "execution_count": null,
   "metadata": {},
   "outputs": [],
   "source": [
    "\n",
    "with model1:\n",
    "    #maltose\n",
    "    model1.reactions.EX_cpd00179_e0.upper_bound =-1\n",
    "    model1.reactions.EX_cpd00179_e0.lower_bound =-1\n",
    "    sol_ecMalt=model1.optimize()\n",
    "with model1:\n",
    "    #acetate\n",
    "    model1.reactions.EX_cpd00029_e0.upper_bound =-1\n",
    "    model1.reactions.EX_cpd00029_e0.lower_bound =-1\n",
    "    sol_ecAC=model1.optimize()\n",
    "with model2:\n",
    "    #acetate\n",
    "    model2.reactions.EX_cpd00029_e0.upper_bound =-1\n",
    "    model2.reactions.EX_cpd00029_e0.lower_bound =-1\n",
    "    sol_pfAC=model2.optimize()\n",
    "with model2:\n",
    "    #4HB\n",
    "    model2.reactions.EX_cpd00136_e0.upper_bound =-1\n",
    "    model2.reactions.EX_cpd00136_e0.lower_bound =-1\n",
    "    sol_pf4HB=model2.optimize() \n",
    "    "
   ]
  },
  {
   "cell_type": "code",
   "execution_count": null,
   "metadata": {},
   "outputs": [],
   "source": [
    "sol_ecMalt"
   ]
  },
  {
   "cell_type": "code",
   "execution_count": null,
   "metadata": {
    "tags": []
   },
   "outputs": [],
   "source": [
    "all_ex=[]\n",
    "for rxn in model1.reactions:\n",
    "    if \"EX_\" in rxn.id:\n",
    "        all_ex.append(rxn.id)\n",
    "for rxn in model2.reactions:\n",
    "    if \"EX_\" in rxn.id and rxn.id not in all_ex:\n",
    "        all_ex.append(rxn.id)\n",
    "all_ex"
   ]
  },
  {
   "cell_type": "code",
   "execution_count": null,
   "metadata": {},
   "outputs": [],
   "source": [
    "results=[]\n",
    "line=[\"bio\",\"biomas\",sol_ecMalt.fluxes[\"bio1\"],sol_ecAC.fluxes[\"bio1\"],sol_pfAC.fluxes[\"bio1\"],sol_pf4HB.fluxes[\"bio1\"]]\n",
    "results.append(line)\n",
    "for rxn in all_ex:\n",
    "    if rxn in model1.reactions:\n",
    "        name=model1.reactions.get_by_id(rxn).name\n",
    "        if sol_ecMalt.fluxes[rxn] >0 or sol_ecMalt.fluxes[rxn] <0:\n",
    "            ecmalt=sol_ecMalt.fluxes[rxn]\n",
    "        else:\n",
    "            ecmalt=0\n",
    "        if sol_ecAC.fluxes[rxn]>0 or sol_ecAC.fluxes[rxn]<0:\n",
    "            ecac=sol_ecAC.fluxes[rxn]\n",
    "        else:\n",
    "            ecac=0\n",
    "    else:\n",
    "        ecmalt=0\n",
    "        ecac=0\n",
    "    if rxn in model2.reactions:\n",
    "        name=model2.reactions.get_by_id(rxn).name\n",
    "        if sol_pfAC.fluxes[rxn]>0 or sol_pfAC.fluxes[rxn]<0:\n",
    "            pfac=sol_pfAC.fluxes[rxn]\n",
    "        else:\n",
    "            pfac=0\n",
    "        if sol_pf4HB.fluxes[rxn]>0 or sol_pf4HB.fluxes[rxn]<0:\n",
    "            pf4hb=sol_pf4HB.fluxes[rxn]\n",
    "        else:\n",
    "            pf4hb=0\n",
    "    else:\n",
    "        pfac=0\n",
    "        pf4hb=0\n",
    "    line=[rxn,name,ecmalt,ecac,pfac,pf4hb]\n",
    "    results.append(line)\n",
    "results_df=pd.DataFrame(results)\n",
    "results_df.columns=[\"rxn\",\"rxn name\",\"ecoli-malt\",\"ecoli-acetate\",\"pf-acetate\",\"pf-4HB\"]\n",
    "results_df"
   ]
  },
  {
   "cell_type": "code",
   "execution_count": null,
   "metadata": {},
   "outputs": [],
   "source": [
    "results_df.set_index([\"rxn\",\"rxn name\"],inplace=True)\n",
    "\n",
    "results_df = results_df.loc[(results_df != 0).any(axis=1)]\n",
    "results_df\n",
    "results_df.to_csv('PhenotypeStoichiometry.csv')"
   ]
  },
  {
   "cell_type": "code",
   "execution_count": null,
   "metadata": {},
   "outputs": [],
   "source": []
  }
 ],
 "metadata": {
  "kernelspec": {
   "display_name": "Python 3 (ipykernel)",
   "language": "python",
   "name": "python3"
  },
  "language_info": {
   "codemirror_mode": {
    "name": "ipython",
    "version": 3
   },
   "file_extension": ".py",
   "mimetype": "text/x-python",
   "name": "python",
   "nbconvert_exporter": "python",
   "pygments_lexer": "ipython3",
   "version": "3.9.12"
  }
 },
 "nbformat": 4,
 "nbformat_minor": 4
}
