{
 "cells": [
  {
   "cell_type": "code",
   "execution_count": null,
   "id": "0ad0f5c4-cd46-462f-93d7-4fe72f9eb98b",
   "metadata": {},
   "outputs": [],
   "source": [
    "from zipfile import ZipFile, ZIP_LZMA\n",
    "from pandas import read_csv\n",
    "with ZipFile('../mscomfit.zip', 'r') as zp:\n",
    "    zp.extractall()\n",
    "with open('')"
   ]
  },
  {
   "cell_type": "code",
   "execution_count": null,
   "id": "1a500521-70f3-469f-830b-2f40680bd18f",
   "metadata": {},
   "outputs": [],
   "source": []
  },
  {
   "cell_type": "code",
   "execution_count": null,
   "id": "bad33527-dfc5-46be-a9a2-af9b0fa74058",
   "metadata": {},
   "outputs": [],
   "source": []
  },
  {
   "cell_type": "code",
   "execution_count": null,
   "id": "55582987-111e-45fe-b3ad-9185ae993cd4",
   "metadata": {},
   "outputs": [],
   "source": []
  },
  {
   "cell_type": "code",
   "execution_count": null,
   "id": "04a92e1f-cea7-471b-8989-bfb9d6c48077",
   "metadata": {},
   "outputs": [],
   "source": []
  },
  {
   "cell_type": "code",
   "execution_count": null,
   "id": "d2b78c24-20bf-4bcd-87f5-4d28ffea528b",
   "metadata": {},
   "outputs": [],
   "source": []
  },
  {
   "cell_type": "code",
   "execution_count": null,
   "id": "97339067-f4e7-4ace-8faa-d829e5209b70",
   "metadata": {},
   "outputs": [],
   "source": []
  },
  {
   "cell_type": "code",
   "execution_count": null,
   "id": "ea145c49-03c7-4a4e-93ae-d1d900dc80cf",
   "metadata": {},
   "outputs": [],
   "source": []
  },
  {
   "cell_type": "code",
   "execution_count": null,
   "id": "45c93489-38e9-4943-a4cf-608b77e964fa",
   "metadata": {},
   "outputs": [],
   "source": []
  }
 ],
 "metadata": {
  "kernelspec": {
   "display_name": "Python 3 (ipykernel)",
   "language": "python",
   "name": "python3"
  },
  "language_info": {
   "codemirror_mode": {
    "name": "ipython",
    "version": 3
   },
   "file_extension": ".py",
   "mimetype": "text/x-python",
   "name": "python",
   "nbconvert_exporter": "python",
   "pygments_lexer": "ipython3",
   "version": "3.9.12"
  }
 },
 "nbformat": 4,
 "nbformat_minor": 5
}
