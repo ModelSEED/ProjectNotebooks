{
 "cells": [
  {
   "cell_type": "markdown",
   "id": "dd1149ff-3fdf-4139-b0f6-516686c0afd4",
   "metadata": {},
   "source": [
    "# Load model"
   ]
  },
  {
   "cell_type": "code",
   "execution_count": 1,
   "id": "ac4571ca-19fe-4965-9519-118cd30f62fc",
   "metadata": {},
   "outputs": [
    {
     "name": "stderr",
     "output_type": "stream",
     "text": [
      "C:\\Users\\Andrew Freiburger\\AppData\\Local\\Programs\\Python\\Python39\\lib\\site-packages\\requests\\__init__.py:102: RequestsDependencyWarning: urllib3 (1.26.9) or chardet (5.0.0)/charset_normalizer (2.0.12) doesn't match a supported version!\n",
      "  warnings.warn(\"urllib3 ({}) or chardet ({})/charset_normalizer ({}) doesn't match a supported \"\n"
     ]
    },
    {
     "name": "stdout",
     "output_type": "stream",
     "text": [
      "cobrakbase 0.2.8\n"
     ]
    }
   ],
   "source": [
    "# define the environment path \n",
    "import os\n",
    "local_cobrakbase_path = os.path.join('C:', 'Users', 'Andrew Freiburger','Documents','Argonne','cobrakbase')\n",
    "os.environ[\"HOME\"] = local_cobrakbase_path\n",
    "\n",
    "# import the models\n",
    "import cobrakbase\n",
    "token = 'RBP7R34IILI6IQN5533VVSVUZM6H7YU7'\n",
    "kbase_api = cobrakbase.KBaseAPI(token)\n",
    "# model1 = kbase_api.get_from_ws(\"iML1515\",76994)\n",
    "# model2 = kbase_api.get_from_ws(\"iSB1139.kb.gf\",30650)"
   ]
  },
  {
   "cell_type": "markdown",
   "id": "4cebe4aa-42c9-4062-af65-08930a387ac2",
   "metadata": {},
   "source": [
    "# Dictionary MSCommFitting model"
   ]
  },
  {
   "cell_type": "code",
   "execution_count": 2,
   "id": "ae91cf38-bfb4-4aee-bde9-88c6fbcbef8c",
   "metadata": {},
   "outputs": [
    {
     "name": "stderr",
     "output_type": "stream",
     "text": [
      "C:\\Users\\Andrew Freiburger\\AppData\\Local\\Programs\\Python\\Python39\\lib\\site-packages\\cobra\\medium\\minimal_medium.py:112: FutureWarning: The default dtype for empty Series will be 'object' instead of 'float64' in a future version. Specify a dtype explicitly to silence this warning.\n",
      "  medium = pd.Series()\n",
      "C:\\Users\\Andrew Freiburger\\AppData\\Local\\Programs\\Python\\Python39\\lib\\site-packages\\cobra\\medium\\minimal_medium.py:112: FutureWarning: The default dtype for empty Series will be 'object' instead of 'float64' in a future version. Specify a dtype explicitly to silence this warning.\n",
      "  medium = pd.Series()\n"
     ]
    },
    {
     "name": "stdout",
     "output_type": "stream",
     "text": [
      "The ['B2', 'B3', 'B5', 'B6', 'B7', 'B8', 'B9', 'B10', 'B11', 'B12', 'C2', 'C3', 'C4', 'C5', 'C6', 'C7', 'C8', 'C9', 'C10', 'C11', 'C12', 'D2', 'D3', 'D4', 'D5', 'D6', 'D7', 'D8', 'D9', 'D10', 'D11', 'D12', 'E2', 'E3', 'E4', 'E5', 'E6', 'E7', 'E8', 'E9', 'E10', 'E11', 'E12', 'F2', 'F3', 'F4', 'F5', 'F6', 'F7', 'F8', 'F9', 'F10', 'F11', 'F12', 'G2', 'G3', 'G4', 'G5', 'G6', 'G7', 'G8', 'G9', 'G10', 'G11', 'G12'] trials were dropped from the OD measurements.\n",
      "The ['B2', 'B3', 'B5', 'B6', 'B7', 'B8', 'B9', 'B10', 'B11', 'B12', 'C2', 'C3', 'C4', 'C5', 'C6', 'C7', 'C8', 'C9', 'C10', 'C11', 'C12', 'D2', 'D3', 'D4', 'D5', 'D6', 'D7', 'D8', 'D9', 'D10', 'D11', 'D12', 'E2', 'E3', 'E4', 'E5', 'E6', 'E7', 'E8', 'E9', 'E10', 'E11', 'E12', 'F2', 'F3', 'F4', 'F5', 'F6', 'F7', 'F8', 'F9', 'F10', 'F11', 'F12', 'G2', 'G3', 'G4', 'G5', 'G6', 'G7', 'G8', 'G9', 'G10', 'G11', 'G12'] trials were dropped from the pf measurements.\n"
     ]
    },
    {
     "name": "stderr",
     "output_type": "stream",
     "text": [
      "modelseedpy.core.optlanghelper - WARNING - InputError: The baseTuple of length 5 does not equate that of the additions 1. The lengths will be homogenized to 1.\n"
     ]
    },
    {
     "name": "stdout",
     "output_type": "stream",
     "text": [
      "The ['B2', 'B3', 'B5', 'B6', 'B7', 'B8', 'B9', 'B10', 'B11', 'B12', 'C2', 'C3', 'C4', 'C5', 'C6', 'C7', 'C8', 'C9', 'C10', 'C11', 'C12', 'D2', 'D3', 'D4', 'D5', 'D6', 'D7', 'D8', 'D9', 'D10', 'D11', 'D12', 'E2', 'E3', 'E4', 'E5', 'E6', 'E7', 'E8', 'E9', 'E10', 'E11', 'E12', 'F2', 'F3', 'F4', 'F5', 'F6', 'F7', 'F8', 'F9', 'F10', 'F11', 'F12', 'G2', 'G3', 'G4', 'G5', 'G6', 'G7', 'G8', 'G9', 'G10', 'G11', 'G12'] trials were dropped from the ecoli measurements.\n",
      "2022-08-26 00:14:19.843391 0.07552083333333333 minutes later\n",
      "Done with biomass loop: 0.0 min\n",
      "[tupVariable(name='g_ecoli_malt-2-B4', bounds=Bounds(lb=0, ub=1000), type='continuous'), tupVariable(name='g_ecoli_malt-1-B4', bounds=Bounds(lb=0, ub=1000), type='continuous')] [ 0.00139277  0.         -0.08179784  0.          0.        ]\n"
     ]
    },
    {
     "name": "stderr",
     "output_type": "stream",
     "text": [
      "C:\\Users\\Andrew Freiburger\\AppData\\Local\\Programs\\Python\\Python39\\lib\\site-packages\\modelseedpy\\core\\optlanghelper.py:40: VisibleDeprecationWarning: Creating an ndarray from ragged nested sequences (which is a list-or-tuple of lists-or-tuples-or ndarrays with different lengths or shapes) is deprecated. If you meant to do this, you must specify 'dtype=object' when creating the ndarray.\n",
      "  new_list[index] = base + additions[index]\n"
     ]
    },
    {
     "ename": "ValueError",
     "evalue": "operands could not be broadcast together with shapes (2,3) (5,) ",
     "output_type": "error",
     "traceback": [
      "\u001b[1;31m---------------------------------------------------------------------------\u001b[0m",
      "\u001b[1;31mValueError\u001b[0m                                Traceback (most recent call last)",
      "Input \u001b[1;32mIn [2]\u001b[0m, in \u001b[0;36m<cell line: 52>\u001b[1;34m()\u001b[0m\n\u001b[0;32m     50\u001b[0m time2 \u001b[38;5;241m=\u001b[39m process_time()\n\u001b[0;32m     51\u001b[0m \u001b[38;5;28mprint\u001b[39m(datetime\u001b[38;5;241m.\u001b[39mtoday(), (time2\u001b[38;5;241m-\u001b[39mtime1)\u001b[38;5;241m/\u001b[39m\u001b[38;5;241m60\u001b[39m, \u001b[38;5;124m'\u001b[39m\u001b[38;5;124mminutes later\u001b[39m\u001b[38;5;124m'\u001b[39m)\n\u001b[1;32m---> 52\u001b[0m \u001b[43mmscommfit\u001b[49m\u001b[38;5;241;43m.\u001b[39;49m\u001b[43mdefine_problem\u001b[49m\u001b[43m(\u001b[49m\u001b[43mparameters\u001b[49m\u001b[38;5;241;43m=\u001b[39;49m\u001b[43m{\u001b[49m\n\u001b[0;32m     53\u001b[0m \u001b[43m                                    \u001b[49m\u001b[38;5;124;43m'\u001b[39;49m\u001b[38;5;124;43mv\u001b[39;49m\u001b[38;5;124;43m'\u001b[39;49m\u001b[43m:\u001b[49m\u001b[38;5;241;43m3\u001b[39;49m\u001b[43m,\u001b[49m\n\u001b[0;32m     54\u001b[0m \u001b[43m                                    \u001b[49m\u001b[38;5;124;43m'\u001b[39;49m\u001b[38;5;124;43mcvmin\u001b[39;49m\u001b[38;5;124;43m'\u001b[39;49m\u001b[43m:\u001b[49m\u001b[43m \u001b[49m\u001b[38;5;241;43m100\u001b[39;49m\u001b[43m,\u001b[49m\n\u001b[0;32m     55\u001b[0m \u001b[43m                                    \u001b[49m\u001b[38;5;124;43m'\u001b[39;49m\u001b[38;5;124;43mbcv\u001b[39;49m\u001b[38;5;124;43m'\u001b[39;49m\u001b[43m:\u001b[49m\u001b[43m \u001b[49m\u001b[38;5;241;43m100\u001b[39;49m\u001b[43m,\u001b[49m\n\u001b[0;32m     56\u001b[0m \u001b[43m                                    \u001b[49m\u001b[38;5;124;43m'\u001b[39;49m\u001b[38;5;124;43mdiffpos\u001b[39;49m\u001b[38;5;124;43m'\u001b[39;49m\u001b[43m:\u001b[49m\u001b[43m \u001b[49m\u001b[38;5;241;43m100\u001b[39;49m\u001b[43m,\u001b[49m\n\u001b[0;32m     57\u001b[0m \u001b[43m                                    \u001b[49m\u001b[38;5;124;43m'\u001b[39;49m\u001b[38;5;124;43mdiffneg\u001b[39;49m\u001b[38;5;124;43m'\u001b[39;49m\u001b[43m:\u001b[49m\u001b[43m \u001b[49m\u001b[38;5;241;43m100\u001b[39;49m\n\u001b[0;32m     58\u001b[0m \u001b[43m                                    \u001b[49m\u001b[43m}\u001b[49m\u001b[43m,\u001b[49m\u001b[43m \u001b[49m\n\u001b[0;32m     59\u001b[0m \u001b[43m                         \u001b[49m\u001b[38;5;66;43;03m# zip_name='simple_full_community.zip', \u001b[39;49;00m\n\u001b[0;32m     60\u001b[0m \u001b[43m                         \u001b[49m\u001b[43mfinal_relative_carbon_conc\u001b[49m\u001b[43m \u001b[49m\u001b[38;5;241;43m=\u001b[39;49m\u001b[43m \u001b[49m\u001b[38;5;241;43m0.1\u001b[39;49m\u001b[43m,\u001b[49m\u001b[43m \u001b[49m\n\u001b[0;32m     61\u001b[0m \u001b[43m                         \u001b[49m\u001b[43mmetabolites_to_track\u001b[49m\u001b[43m \u001b[49m\u001b[38;5;241;43m=\u001b[39;49m\u001b[43m \u001b[49m\u001b[43m[\u001b[49m\u001b[38;5;124;43m\"\u001b[39;49m\u001b[38;5;124;43mcpd00179\u001b[39;49m\u001b[38;5;124;43m\"\u001b[39;49m\u001b[43m,\u001b[49m\u001b[38;5;124;43m\"\u001b[39;49m\u001b[38;5;124;43mcpd00029\u001b[39;49m\u001b[38;5;124;43m\"\u001b[39;49m\u001b[43m,\u001b[49m\u001b[38;5;124;43m\"\u001b[39;49m\u001b[38;5;124;43mcpd00136\u001b[39;49m\u001b[38;5;124;43m\"\u001b[39;49m\u001b[43m]\u001b[49m\u001b[43m,\u001b[49m\u001b[43m \u001b[49m\n\u001b[0;32m     62\u001b[0m \u001b[43m                         \u001b[49m\u001b[43mbad_data_timesteps\u001b[49m\u001b[43m \u001b[49m\u001b[38;5;241;43m=\u001b[39;49m\u001b[43m \u001b[49m\u001b[43m{\u001b[49m\u001b[38;5;124;43m'\u001b[39;49m\u001b[38;5;124;43m*\u001b[39;49m\u001b[38;5;124;43m'\u001b[39;49m\u001b[43m:\u001b[49m\u001b[38;5;124;43m'\u001b[39;49m\u001b[38;5;124;43m23:\u001b[39;49m\u001b[38;5;124;43m'\u001b[39;49m\u001b[43m}\u001b[49m\u001b[43m,\u001b[49m\u001b[43m \u001b[49m\u001b[43mzero_start\u001b[49m\u001b[38;5;241;43m=\u001b[39;49m\u001b[43m[\u001b[49m\u001b[38;5;124;43m\"\u001b[39;49m\u001b[38;5;124;43mcpd00029\u001b[39;49m\u001b[38;5;124;43m\"\u001b[39;49m\u001b[43m]\u001b[49m\u001b[43m)\u001b[49m\n\u001b[0;32m     63\u001b[0m \u001b[38;5;28mprint\u001b[39m(datetime\u001b[38;5;241m.\u001b[39mtoday())\n\u001b[0;32m     64\u001b[0m get_ipython()\u001b[38;5;241m.\u001b[39mrun_line_magic(\u001b[38;5;124m'\u001b[39m\u001b[38;5;124mtime\u001b[39m\u001b[38;5;124m'\u001b[39m, \u001b[38;5;124m\"\u001b[39m\u001b[38;5;124mmscommfit.compute(graphs) #, zip_name=\u001b[39m\u001b[38;5;124m'\u001b[39m\u001b[38;5;124msimple_full_community.zip\u001b[39m\u001b[38;5;124m'\u001b[39m\u001b[38;5;124m)\u001b[39m\u001b[38;5;124m\"\u001b[39m)\n",
      "File \u001b[1;32m~\\Documents\\Argonne\\ProjectNotebooks\\CommunityModeling\\CommFitting\\mscommfitting_dict.py:388\u001b[0m, in \u001b[0;36mMSCommFitting.define_problem\u001b[1;34m(self, parameters, export_zip_name, export_parameters, export_lp, final_relative_carbon_conc, metabolites_to_track, bad_data_timesteps, zero_start)\u001b[0m\n\u001b[0;32m    380\u001b[0m \u001b[38;5;66;03m# c_{met} + dt/2*sum_k^K( g_{pheno} ) - c+1_{met} = 0\u001b[39;00m\n\u001b[0;32m    381\u001b[0m growth_phenotypes \u001b[38;5;241m=\u001b[39m [\n\u001b[0;32m    382\u001b[0m     [\u001b[38;5;28mself\u001b[39m\u001b[38;5;241m.\u001b[39mvariables[\u001b[38;5;124m'\u001b[39m\u001b[38;5;124mg_\u001b[39m\u001b[38;5;124m'\u001b[39m\u001b[38;5;241m+\u001b[39mpheno][next_time][trial], \u001b[38;5;28mself\u001b[39m\u001b[38;5;241m.\u001b[39mvariables[\u001b[38;5;124m'\u001b[39m\u001b[38;5;124mg_\u001b[39m\u001b[38;5;124m'\u001b[39m\u001b[38;5;241m+\u001b[39mpheno][time][trial]]\n\u001b[0;32m    383\u001b[0m                      \u001b[38;5;28;01mfor\u001b[39;00m pheno \u001b[38;5;129;01min\u001b[39;00m \u001b[38;5;28mself\u001b[39m\u001b[38;5;241m.\u001b[39mphenotypes_parsed_df\u001b[38;5;241m.\u001b[39mcolumns]\n\u001b[0;32m    384\u001b[0m \u001b[38;5;28mself\u001b[39m\u001b[38;5;241m.\u001b[39mconstraints[\u001b[38;5;124m'\u001b[39m\u001b[38;5;124mdcc_\u001b[39m\u001b[38;5;124m'\u001b[39m\u001b[38;5;241m+\u001b[39mmet][time][trial] \u001b[38;5;241m=\u001b[39m tupConstraint(\n\u001b[0;32m    385\u001b[0m     name\u001b[38;5;241m=\u001b[39m_name(\u001b[38;5;124m\"\u001b[39m\u001b[38;5;124mdcc_\u001b[39m\u001b[38;5;124m\"\u001b[39m, met, time, trial),\n\u001b[0;32m    386\u001b[0m     expr\u001b[38;5;241m=\u001b[39m[(\u001b[38;5;28mself\u001b[39m\u001b[38;5;241m.\u001b[39mvariables[\u001b[38;5;124m\"\u001b[39m\u001b[38;5;124mc_\u001b[39m\u001b[38;5;124m\"\u001b[39m\u001b[38;5;241m+\u001b[39mmet][time][trial]\u001b[38;5;241m.\u001b[39mname),\n\u001b[0;32m    387\u001b[0m           (\u001b[38;5;241m-\u001b[39m\u001b[38;5;241m1\u001b[39m, \u001b[38;5;28mself\u001b[39m\u001b[38;5;241m.\u001b[39mvariables[\u001b[38;5;124m\"\u001b[39m\u001b[38;5;124mc_\u001b[39m\u001b[38;5;124m\"\u001b[39m\u001b[38;5;241m+\u001b[39mmet][next_time][trial]\u001b[38;5;241m.\u001b[39mname),\n\u001b[1;32m--> 388\u001b[0m           \u001b[43mtuple_dot_product\u001b[49m\u001b[43m(\u001b[49m\u001b[43mgrowth_phenotypes\u001b[49m\u001b[43m,\u001b[49m\n\u001b[0;32m    389\u001b[0m \u001b[43m              \u001b[49m\u001b[43m[\u001b[49m\u001b[43mhalf_dt\u001b[49m\u001b[38;5;241;43m*\u001b[39;49m\u001b[38;5;28;43mself\u001b[39;49m\u001b[38;5;241;43m.\u001b[39;49m\u001b[43mphenotypes_parsed_df\u001b[49m\u001b[38;5;241;43m.\u001b[39;49m\u001b[43mvalues\u001b[49m\u001b[43m[\u001b[49m\u001b[43mr_index\u001b[49m\u001b[43m]\u001b[49m\u001b[43m]\u001b[49m\u001b[43m)\u001b[49m  \u001b[38;5;66;03m# array multiplication\u001b[39;00m\n\u001b[0;32m    390\u001b[0m           ])\n\u001b[0;32m    392\u001b[0m constraints\u001b[38;5;241m.\u001b[39mappend(\u001b[38;5;28mself\u001b[39m\u001b[38;5;241m.\u001b[39mconstraints[\u001b[38;5;124m'\u001b[39m\u001b[38;5;124mdcc_\u001b[39m\u001b[38;5;124m'\u001b[39m\u001b[38;5;241m+\u001b[39mmet][time][trial])\n\u001b[0;32m    393\u001b[0m \u001b[38;5;28;01mif\u001b[39;00m next_time \u001b[38;5;241m==\u001b[39m \u001b[38;5;28mself\u001b[39m\u001b[38;5;241m.\u001b[39msimulation_timesteps[\u001b[38;5;241m-\u001b[39m\u001b[38;5;241m1\u001b[39m]:\n",
      "File \u001b[1;32m~\\AppData\\Local\\Programs\\Python\\Python39\\lib\\site-packages\\modelseedpy\\core\\optlanghelper.py:40\u001b[0m, in \u001b[0;36mtuple_dot_product\u001b[1;34m(baseTup, additions)\u001b[0m\n\u001b[0;32m     38\u001b[0m \u001b[38;5;28mprint\u001b[39m(base, additions[index])\n\u001b[0;32m     39\u001b[0m \u001b[38;5;28;01mif\u001b[39;00m isIterable(additions[index]):\n\u001b[1;32m---> 40\u001b[0m     new_list[index] \u001b[38;5;241m=\u001b[39m \u001b[43mbase\u001b[49m\u001b[43m \u001b[49m\u001b[38;5;241;43m+\u001b[39;49m\u001b[43m \u001b[49m\u001b[43madditions\u001b[49m\u001b[43m[\u001b[49m\u001b[43mindex\u001b[49m\u001b[43m]\u001b[49m\n\u001b[0;32m     41\u001b[0m \u001b[38;5;28;01melse\u001b[39;00m:\n\u001b[0;32m     42\u001b[0m     new_list[index] \u001b[38;5;241m=\u001b[39m base \u001b[38;5;241m+\u001b[39m [additions[index]]\n",
      "\u001b[1;31mValueError\u001b[0m: operands could not be broadcast together with shapes (2,3) (5,) "
     ]
    }
   ],
   "source": [
    "from datetime import datetime\n",
    "from time import process_time\n",
    "from pandas import set_option\n",
    "set_option(\"display.max_rows\", None)\n",
    "# import the KBase objects\n",
    "graphs = [\n",
    "    {\n",
    "        'trial':'B4',\n",
    "        'content': 'biomass',\n",
    "        # \"species\": [\"ecoli\"],\n",
    "        'experimental_data': True\n",
    "    },\n",
    "    {\n",
    "        'trial':'B4',\n",
    "        'content': \"cpd00029\",\n",
    "    }\n",
    "]\n",
    "\n",
    "# run MSCommFitting\n",
    "%run mscommfitting_dict.py\n",
    "time1 = process_time()\n",
    "mscommfit = MSCommFitting()\n",
    "mscommfit.load_data(#phenotypes_csv_path = 'PhenotypeStoichiometry.csv', \n",
    "                    community_members = {\n",
    "                        kbase_api.get_from_ws(\"iML1515\",76994): {\n",
    "                            'name': 'ecoli', \n",
    "                            'phenotypes': {#'acetate': kbase_api.get_from_ws('93465/13/1'), \n",
    "                                        'malt': {\"cpd00179\":[-1,-1]} #kbase_api.get_from_ws(\"93465/23/1\")} #'93465/9/1')}   # !!! The phenotype name must align with the experimental IDs for the graphs to find the appropriate data\n",
    "                            }\n",
    "                        },\n",
    "                        kbase_api.get_from_ws(\"iSB1139.kb.gf\",30650): {\n",
    "                            'name': 'pf',\n",
    "                            'phenotypes': {'acetate': {\"cpd00029\":[-1,-1]}, # kbase_api.get_from_ws(\"93465/25/1\"), #'93465/11/1'), \n",
    "                                        '4HB': {\"cpd00136\":[-1,-1]} # kbase_api.get_from_ws('\t93465/27/1')} #93465/15/1')}\n",
    "                            }\n",
    "                        }\n",
    "                    },\n",
    "                    base_media = kbase_api.get_from_ws(\"93465/19/1\"),\n",
    "                    signal_csv_paths = {'path':'Jeffs_data/PF-EC 4-29-22 ratios and 4HB changes (1).xlsx', 'Raw OD(590)':'OD', 'mNeonGreen':'pf', 'mRuby':'ecoli'},\n",
    "                    media_conc_path = 'Jeffs_data/media_conc.csv',\n",
    "                    carbon_conc_series = {'rows': {\n",
    "                        'cpd00136': {'B':0, 'C': 0, 'D': 1, 'E': 1, 'F': 4, 'G': 4},\n",
    "                        'cpd00179': {'B':5, 'C': 5, 'D':5, 'E': 5, 'F': 5, 'G': 5},\n",
    "                        }},\n",
    "                    ignore_trials = {'rows': ['C', 'D', 'E', 'F', 'G'], 'columns': [1,2,3,5,6,7,8,9,10,11,12]} # 'wells': ['C2', 'G3', 'C12']}\n",
    "                   # ignore_timesteps = [x for x in range(20,167)],\n",
    "                    # zip_path='mscomfit.zip'\n",
    ")\n",
    "\n",
    "time2 = process_time()\n",
    "print(datetime.today(), (time2-time1)/60, 'minutes later')\n",
    "mscommfit.define_problem(parameters={\n",
    "                                    'v':3,\n",
    "                                    'cvmin': 100,\n",
    "                                    'bcv': 100,\n",
    "                                    'diffpos': 100,\n",
    "                                    'diffneg': 100\n",
    "                                    }, \n",
    "                         # zip_name='simple_full_community.zip', \n",
    "                         final_relative_carbon_conc = 0.1, \n",
    "                         metabolites_to_track = [\"cpd00179\",\"cpd00029\",\"cpd00136\"], \n",
    "                         bad_data_timesteps = {'*':'23:'}, zero_start=[\"cpd00029\"])\n",
    "print(datetime.today())\n",
    "%time mscommfit.compute(graphs) #, zip_name='simple_full_community.zip')\n",
    "print('growth Vmax:', mscommfit.parameters['v'], 'objective value:', mscommfit.problem.objective.value, '\\n\\n\\n\\n')"
   ]
  },
  {
   "cell_type": "markdown",
   "id": "9cbe93af-0550-4f98-bfd2-ce85f8a41638",
   "metadata": {},
   "source": [
    "### debug the tuple dot product"
   ]
  },
  {
   "cell_type": "code",
   "execution_count": null,
   "id": "e5f4ac6d-3148-4278-b7af-76247af71565",
   "metadata": {},
   "outputs": [],
   "source": [
    "variables = [(  # nested iterables represent summation and multiplication in alternating levels\n",
    "    'g_ecoli_malt-2-B4', 'g_ecoli_malt-1-B4'\n",
    ")]\n",
    "coefficients = [0.00162104, 0, -0.08179784, 0, 0]"
   ]
  },
  {
   "cell_type": "code",
   "execution_count": 18,
   "id": "d71b9e91-c834-4ca9-b58b-bb9e30520ba9",
   "metadata": {},
   "outputs": [],
   "source": [
    "def tuple_dot_product(baseTup, additions):\n",
    "    base_length = len(baseTup); addition_length = len(additions)\n",
    "    if base_length != addition_length:\n",
    "        minimum = min(base_length, addition_length)\n",
    "        logger.warning(f\"InputError: The baseTuple of length {base_length} does not equate that of the additions {addition_length}.\"\n",
    "             f\" The lengths will be homogenized to {minimum}.\")\n",
    "        baseTup = baseTup[:minimum] ; additions = additions[:minimum]\n",
    "        \n",
    "    new_list = baseTup.copy()\n",
    "    for index, base in enumerate(new_list):\n",
    "        # print(base, additions[index])\n",
    "        if isIterable(additions[index]):\n",
    "            new_list[index] = base + additions[index]\n",
    "        else:\n",
    "            new_list[index] = base + [additions[index]]\n",
    "    return new_list\n",
    "\n",
    "def _define_expression(expr:list):\n",
    "    def define_term(value):\n",
    "        print(value)\n",
    "        if isinstance(value, str):\n",
    "            return {\"type\":\"Symbol\", \"name\": value}\n",
    "        elif isinstance(value, (float, int)):\n",
    "            return {\"type\":\"Number\", \"value\": value}\n",
    "\n",
    "    if len(expr) > 1: # level 2 -> summation\n",
    "        expression = {\"type\": \"Add\", \"args\": []}\n",
    "        for term in expr:\n",
    "            if isIterable(term): # level 3 -> multiplication\n",
    "                expression[\"args\"].append({\"type\": \"Mul\", \"args\": []})\n",
    "                if isIterable(term[0]): # level 4 -> summation\n",
    "                    for added_terms in term:\n",
    "                        expression[\"args\"][-1][\"args\"].append({\n",
    "                                \"type\": \"Add\", \"args\": [define_term(add_val) for add_val in added_terms]})\n",
    "                else:\n",
    "                    expression[\"args\"][-1][\"args\"] = [define_term(val) for val in term]\n",
    "            else:\n",
    "                expression[\"args\"].append(define_term(term))\n",
    "    else: # level 1 -> multiplication\n",
    "        expression = {\"type\": \"Mul\", \"args\": [define_term(value) for value in expr[0]]}\n",
    "\n",
    "    return expression  "
   ]
  },
  {
   "cell_type": "code",
   "execution_count": 20,
   "id": "0f688509-ab26-4509-a9ec-77f5370f867a",
   "metadata": {},
   "outputs": [
    {
     "name": "stdout",
     "output_type": "stream",
     "text": [
      "[[['g_test11', 'g_test12'], 1],\n",
      " [['g_test21', 'g_test22'], 2],\n",
      " [['g_test31', 'g_test32'], 3],\n",
      " [['g_test41', 'g_test42'], 4],\n",
      " [['g_test51', 'g_test52'], 5]]\n",
      "g_test11\n",
      "g_test12\n"
     ]
    },
    {
     "ename": "TypeError",
     "evalue": "'int' object is not iterable",
     "output_type": "error",
     "traceback": [
      "\u001b[1;31m---------------------------------------------------------------------------\u001b[0m",
      "\u001b[1;31mTypeError\u001b[0m                                 Traceback (most recent call last)",
      "Input \u001b[1;32mIn [20]\u001b[0m, in \u001b[0;36m<cell line: 9>\u001b[1;34m()\u001b[0m\n\u001b[0;32m      7\u001b[0m dot_product \u001b[38;5;241m=\u001b[39m tuple_dot_product(test_list, [\u001b[38;5;241m1\u001b[39m,\u001b[38;5;241m2\u001b[39m,\u001b[38;5;241m3\u001b[39m,\u001b[38;5;241m4\u001b[39m,\u001b[38;5;241m5\u001b[39m])\n\u001b[0;32m      8\u001b[0m pprint(dot_product)\n\u001b[1;32m----> 9\u001b[0m \u001b[38;5;28mprint\u001b[39m(\u001b[43m_define_expression\u001b[49m\u001b[43m(\u001b[49m\u001b[43mdot_product\u001b[49m\u001b[43m)\u001b[49m)\n",
      "Input \u001b[1;32mIn [18]\u001b[0m, in \u001b[0;36m_define_expression\u001b[1;34m(expr)\u001b[0m\n\u001b[0;32m     31\u001b[0m \u001b[38;5;28;01mif\u001b[39;00m isIterable(term[\u001b[38;5;241m0\u001b[39m]):\n\u001b[0;32m     32\u001b[0m     \u001b[38;5;28;01mfor\u001b[39;00m added_terms \u001b[38;5;129;01min\u001b[39;00m term:\n\u001b[0;32m     33\u001b[0m         expression[\u001b[38;5;124m\"\u001b[39m\u001b[38;5;124margs\u001b[39m\u001b[38;5;124m\"\u001b[39m][\u001b[38;5;241m-\u001b[39m\u001b[38;5;241m1\u001b[39m][\u001b[38;5;124m\"\u001b[39m\u001b[38;5;124margs\u001b[39m\u001b[38;5;124m\"\u001b[39m]\u001b[38;5;241m.\u001b[39mappend({\n\u001b[1;32m---> 34\u001b[0m                 \u001b[38;5;124m\"\u001b[39m\u001b[38;5;124mtype\u001b[39m\u001b[38;5;124m\"\u001b[39m: \u001b[38;5;124m\"\u001b[39m\u001b[38;5;124mAdd\u001b[39m\u001b[38;5;124m\"\u001b[39m, \u001b[38;5;124m\"\u001b[39m\u001b[38;5;124margs\u001b[39m\u001b[38;5;124m\"\u001b[39m: [define_term(add_val) \u001b[38;5;28;01mfor\u001b[39;00m add_val \u001b[38;5;129;01min\u001b[39;00m added_terms]})\n\u001b[0;32m     35\u001b[0m \u001b[38;5;28;01melse\u001b[39;00m:\n\u001b[0;32m     36\u001b[0m     expression[\u001b[38;5;124m\"\u001b[39m\u001b[38;5;124margs\u001b[39m\u001b[38;5;124m\"\u001b[39m][\u001b[38;5;241m-\u001b[39m\u001b[38;5;241m1\u001b[39m][\u001b[38;5;124m\"\u001b[39m\u001b[38;5;124margs\u001b[39m\u001b[38;5;124m\"\u001b[39m] \u001b[38;5;241m=\u001b[39m [define_term(val) \u001b[38;5;28;01mfor\u001b[39;00m val \u001b[38;5;129;01min\u001b[39;00m term]\n",
      "\u001b[1;31mTypeError\u001b[0m: 'int' object is not iterable"
     ]
    }
   ],
   "source": [
    "from pprint import pprint\n",
    "phenos = [\"test1\", \"test2\", \"test3\", \"test4\", \"test5\"]\n",
    "test_list = [  # names represents the variables in the dictionary format\n",
    "    [['g_'+pheno+\"1\", 'g_'+pheno+\"2\"]] for pheno in phenos\n",
    "]\n",
    "# print(test_list)\n",
    "dot_product = tuple_dot_product(test_list, [1,2,3,4,5])\n",
    "pprint(dot_product)\n",
    "print(_define_expression(dot_product))"
   ]
  },
  {
   "cell_type": "code",
   "execution_count": 21,
   "id": "59f19c96-de91-48ac-8708-605aaa230051",
   "metadata": {},
   "outputs": [
    {
     "data": {
      "text/plain": [
       "5"
      ]
     },
     "execution_count": 21,
     "metadata": {},
     "output_type": "execute_result"
    }
   ],
   "source": [
    "def dict_depth(dic, level = 1):\n",
    "    if not isinstance(dic, dict) or not dic:\n",
    "        return level\n",
    "    return max(dict_depth(dic[key], level + 1) for key in dic)\n",
    "\n",
    "dict_depth({1:{2:{3:{4:{5}}}}})"
   ]
  },
  {
   "cell_type": "code",
   "execution_count": 42,
   "id": "cf6708f2-d19a-4ac1-b8e7-3afbfe7a9924",
   "metadata": {},
   "outputs": [
    {
     "data": {
      "text/plain": [
       "12"
      ]
     },
     "execution_count": 42,
     "metadata": {},
     "output_type": "execute_result"
    }
   ],
   "source": [
    "{\"test\":12}[\"test\"]"
   ]
  },
  {
   "cell_type": "markdown",
   "id": "3b017c16-a847-48cb-a8f1-0ccbb8629784",
   "metadata": {},
   "source": [
    "### Dictionary version "
   ]
  },
  {
   "cell_type": "code",
   "execution_count": 67,
   "id": "e68ffbb3-ec5a-4de4-9ac2-5bcc280457df",
   "metadata": {},
   "outputs": [
    {
     "name": "stdout",
     "output_type": "stream",
     "text": [
      "expr\t\t\t {'elements': [{'elements': [{'elements': ['test1', 5], 'operation': 'Add'}, 4], 'operation': 'Mul'}, 'test2'], 'operation': 'Add'}\n",
      "ele\t\t\t {'elements': [{'elements': ['test1', 5], 'operation': 'Add'}, 4], 'operation': 'Mul'}\n",
      "iterable ele\t\t {'elements': [{'elements': ['test1', 5], 'operation': 'Add'}, 4], 'operation': 'Mul'}\n",
      "recursive ele\t\t <class 'dict'> {'elements': ['test1', 5], 'operation': 'Add'}\n",
      "expr\t\t\t {'elements': ['test1', 5], 'operation': 'Add'}\n",
      "ele\t\t\t test1\n",
      "pure ele\t\t test1\n",
      "ele\t\t\t 5\n",
      "pure ele\t\t 5\n",
      "ele\t\t\t test2\n",
      "pure ele\t\t test2\n",
      "{'args': [{'args': [None,\n",
      "                    {'type': 'Number', 'value': 4},\n",
      "                    {'args': ['test1', 5], 'type': 'Add'},\n",
      "                    {'args': ['test1', 5], 'type': 'Add'},\n",
      "                    {'args': ['test1', 5], 'type': 'Add'},\n",
      "                    {'args': ['test1', 5], 'type': 'Add'},\n",
      "                    {'args': ['test1', 5], 'type': 'Add'},\n",
      "                    {'args': ['test1', 5], 'type': 'Add'},\n",
      "                    {'args': ['test1', 5], 'type': 'Add'},\n",
      "                    {'args': ['test1', 5], 'type': 'Add'},\n",
      "                    {'args': ['test1', 5], 'type': 'Add'},\n",
      "                    {'args': ['test1', 5], 'type': 'Add'},\n",
      "                    {'args': ['test1', 5], 'type': 'Add'},\n",
      "                    {'args': ['test1', 5], 'type': 'Add'},\n",
      "                    {'args': ['test1', 5], 'type': 'Add'},\n",
      "                    {'args': ['test1', 5], 'type': 'Add'},\n",
      "                    {'args': ['test1', 5], 'type': 'Add'},\n",
      "                    {'args': ['test1', 5], 'type': 'Add'},\n",
      "                    {'args': ['test1', 5], 'type': 'Add'},\n",
      "                    {'args': ['test1', 5], 'type': 'Add'},\n",
      "                    {'args': ['test1', 5], 'type': 'Add'},\n",
      "                    {'type': 'Number', 'value': 4},\n",
      "                    {'args': ['test1', 5], 'type': 'Add'},\n",
      "                    {'type': 'Number', 'value': 4},\n",
      "                    {'args': ['test1', 5], 'type': 'Add'},\n",
      "                    {'type': 'Number', 'value': 4},\n",
      "                    {'args': ['test1', 5], 'type': 'Add'},\n",
      "                    {'type': 'Number', 'value': 4}],\n",
      "           'type': 'Mul'},\n",
      "          'test2'],\n",
      " 'type': 'Add'}\n"
     ]
    }
   ],
   "source": [
    "from collections import namedtuple\n",
    "from typing import Iterable\n",
    "\n",
    "def define_term(value):\n",
    "    if isinstance(value, str):\n",
    "        return {\"type\":\"Symbol\", \"name\": value}\n",
    "    elif isinstance(value, (float, int)):\n",
    "        return {\"type\":\"Number\", \"value\": value}\n",
    "\n",
    "def get_expression_template(expr):\n",
    "    return {\"type\": expr[\"operation\"], \"args\": []}\n",
    "    \n",
    "def isnumber(obj):\n",
    "    try:\n",
    "        float(obj)\n",
    "        return True\n",
    "    except:\n",
    "        return False\n",
    "\n",
    "def expression_construction(expr):\n",
    "    print(\"expr\\t\\t\\t\", expr)\n",
    "    expression = get_expression_template(expr)\n",
    "    for ele in expr[\"elements\"]:\n",
    "        print(\"ele\\t\\t\\t\", ele)\n",
    "        if not isinstance(ele, (str, float, int)):\n",
    "            print(\"iterable ele\\t\\t\", ele)\n",
    "            arguemnts = []\n",
    "            for ele2 in ele[\"elements\"]:\n",
    "                if not isnumber(ele2):\n",
    "                    print(\"recursive ele\\t\\t\", type(ele2), ele2)\n",
    "                    arguments.append(expression_construction(ele2))\n",
    "                else:\n",
    "                    arguments.append(define_term(ele2))\n",
    "            expression[\"args\"].append(get_expression_template(ele))\n",
    "            expression[\"args\"][-1][\"args\"] = arguments\n",
    "        else:\n",
    "            print(\"pure ele\\t\\t\", ele)\n",
    "            expression[\"args\"].append(ele)\n",
    "    return expression\n",
    "\n",
    "expr_dict = {\"elements\": [\n",
    "                {\"elements\": [\n",
    "                    {\"elements\": [\"test1\", 5], \"operation\": \"Add\"}, \n",
    "                4], \"operation\":\"Mul\"}, \n",
    "            \"test2\"], \"operation\": \"Add\"}\n",
    "        \n",
    "pprint(expression_construction(expr_dict))"
   ]
  },
  {
   "cell_type": "markdown",
   "id": "f8dac7dc-a784-40c3-a087-36a01801b858",
   "metadata": {},
   "source": [
    "### NamedTuple version "
   ]
  },
  {
   "cell_type": "code",
   "execution_count": 64,
   "id": "cb3b266e-ffd8-428b-bea8-d19671f86e65",
   "metadata": {},
   "outputs": [
    {
     "name": "stdout",
     "output_type": "stream",
     "text": [
      "expr\t\t\t tupOperation(elements=[tupOperation(elements=[tupOperation(elements=['test1', 5], operation='summation'), 4], operation='multiplication'), 'test2'], operation='summation')\n",
      "ele\t\t\t tupOperation(elements=[tupOperation(elements=['test1', 5], operation='summation'), 4], operation='multiplication')\n",
      "iterable ele\t\t tupOperation(elements=[tupOperation(elements=['test1', 5], operation='summation'), 4], operation='multiplication')\n",
      "recursive ele\t\t <class '__main__.tupOperation'> tupOperation(elements=['test1', 5], operation='summation')\n",
      "expr\t\t\t tupOperation(elements=['test1', 5], operation='summation')\n",
      "ele\t\t\t test1\n",
      "pure ele\t\t test1\n",
      "ele\t\t\t 5\n",
      "pure ele\t\t 5\n",
      "ele\t\t\t test2\n",
      "pure ele\t\t test2\n",
      "{'args': [{'args': [None,\n",
      "                    {'type': 'Number', 'value': 4},\n",
      "                    {'args': ['test1', 5], 'type': 'Add'},\n",
      "                    {'args': ['test1', 5], 'type': 'Add'},\n",
      "                    {'args': ['test1', 5], 'type': 'Add'},\n",
      "                    {'args': ['test1', 5], 'type': 'Add'},\n",
      "                    {'args': ['test1', 5], 'type': 'Add'},\n",
      "                    {'args': ['test1', 5], 'type': 'Add'},\n",
      "                    {'args': ['test1', 5], 'type': 'Add'},\n",
      "                    {'args': ['test1', 5], 'type': 'Add'},\n",
      "                    {'args': ['test1', 5], 'type': 'Add'},\n",
      "                    {'args': ['test1', 5], 'type': 'Add'},\n",
      "                    {'args': ['test1', 5], 'type': 'Add'},\n",
      "                    {'args': ['test1', 5], 'type': 'Add'},\n",
      "                    {'args': ['test1', 5], 'type': 'Add'},\n",
      "                    {'args': ['test1', 5], 'type': 'Add'},\n",
      "                    {'args': ['test1', 5], 'type': 'Add'},\n",
      "                    {'args': ['test1', 5], 'type': 'Add'},\n",
      "                    {'args': ['test1', 5], 'type': 'Add'},\n",
      "                    {'args': ['test1', 5], 'type': 'Add'},\n",
      "                    {'args': ['test1', 5], 'type': 'Add'},\n",
      "                    {'type': 'Number', 'value': 4},\n",
      "                    {'args': ['test1', 5], 'type': 'Add'},\n",
      "                    {'type': 'Number', 'value': 4}],\n",
      "           'type': 'Add'},\n",
      "          'test2'],\n",
      " 'type': 'Add'}\n"
     ]
    }
   ],
   "source": [
    "from collections import namedtuple\n",
    "from typing import Iterable\n",
    "\n",
    "def define_term(value):\n",
    "    if isinstance(value, str):\n",
    "        return {\"type\":\"Symbol\", \"name\": value}\n",
    "    elif isinstance(value, (float, int)):\n",
    "        return {\"type\":\"Number\", \"value\": value}\n",
    "\n",
    "def get_expression_template(expr, inverse=False):\n",
    "    if expr.operation == \"multiplication\" and not inverse or expr.operation == \"summation\" and inverse:\n",
    "        return {\"type\": \"Mul\", \"args\": []}\n",
    "    else:\n",
    "        return {\"type\": \"Add\", \"args\": []}\n",
    "    \n",
    "def isnumber(obj):\n",
    "    try:\n",
    "        float(obj)\n",
    "        return True\n",
    "    except:\n",
    "        return False\n",
    "\n",
    "def expression_construction(expr):\n",
    "    print(\"expr\\t\\t\\t\", expr)\n",
    "    expression = get_expression_template(expr)\n",
    "    for ele in expr.elements:\n",
    "        print(\"ele\\t\\t\\t\", ele)\n",
    "        if not isinstance(ele, (str, float, int)):\n",
    "            print(\"iterable ele\\t\\t\", ele)\n",
    "            arguemnts = []\n",
    "            for ele2 in ele.elements:\n",
    "                if not isnumber(ele2):\n",
    "                    print(\"recursive ele\\t\\t\", type(ele2), ele2)\n",
    "                    arguments.append(expression_construction(ele2))\n",
    "                else:\n",
    "                    arguments.append(define_term(ele2))\n",
    "            expression[\"args\"].append(get_expression_template(ele, True))\n",
    "            expression[\"args\"][-1][\"args\"] = arguments\n",
    "        else:\n",
    "            print(\"pure ele\\t\\t\", ele)\n",
    "            expression[\"args\"].append(ele)\n",
    "    return expression\n",
    "\n",
    "tupOperation = namedtuple(\"tupOperation\", (\"elements\", \"operation\"), defaults=([], \"summation\"))\n",
    "expr = tupOperation([\n",
    "            tupOperation([\n",
    "                tupOperation([\n",
    "                    \"test1\", 5\n",
    "                ], \"summation\"), 4\n",
    "            ], \"multiplication\"), \"test2\"\n",
    "        ])\n",
    "        \n",
    "pprint(expression_construction(expr))"
   ]
  },
  {
   "cell_type": "code",
   "execution_count": 41,
   "id": "62f6dbbb-434b-4018-984e-073b18033d9d",
   "metadata": {},
   "outputs": [
    {
     "name": "stdout",
     "output_type": "stream",
     "text": [
      "{'args': [{'args': [None, {'type': 'Number', 'value': 4}], 'type': 'Mul'},\n",
      "          'test2'],\n",
      " 'type': 'Add'}\n"
     ]
    }
   ],
   "source": [
    "from collections import namedtuple\n",
    "from typing import Iterable\n",
    "\n",
    "def define_term(value):\n",
    "    if isinstance(value, str):\n",
    "        return {\"type\":\"Symbol\", \"name\": value}\n",
    "    elif isinstance(value, (float, int)):\n",
    "        return {\"type\":\"Number\", \"value\": value}\n",
    "        \n",
    "        \n",
    "tupOperation = namedtuple(\"tupOperation\", (\"elements\", \"operation\"), defaults=([], \"summation\"))\n",
    "expr = tupOperation([\n",
    "    tupOperation([\n",
    "        tupOperation([\"test1\", 5], \"summation\"), 4\n",
    "    ], \"multiplication\"), \n",
    "    \"test2\"\n",
    "])\n",
    "expression = {\"type\": \"Add\", \"args\": []}\n",
    "for ele in expr.elements:\n",
    "    if not isinstance(ele, (str, float, int)):\n",
    "        if ele.operation == \"multiplication\":\n",
    "            arguments = [define_term(ele2) for ele2 in ele.elements]\n",
    "            # print(arguments)\n",
    "            expression[\"args\"].append({\"type\": \"Mul\", \"args\": arguments})\n",
    "    else:\n",
    "        expression[\"args\"].append(ele)\n",
    "        \n",
    "pprint(expression)"
   ]
  },
  {
   "cell_type": "code",
   "execution_count": null,
   "id": "46cba920-2fad-4132-98d2-f7a0520670b4",
   "metadata": {},
   "outputs": [],
   "source": [
    "def _define_expression(expr:list):\n",
    "    def define_term(value):\n",
    "        print(value)\n",
    "        if isinstance(value, str):\n",
    "            return {\"type\":\"Symbol\", \"name\": value}\n",
    "        elif isinstance(value, (float, int)):\n",
    "            return {\"type\":\"Number\", \"value\": value}\n",
    "\n",
    "    if len(expr) == 1:\n",
    "        return {\"type\": \"Mul\", \"args\": [define_term(value) for value in expr[0]]}\n",
    "    \n",
    "    expression = {\"type\": \"Add\", \"args\": []}\n",
    "    summation = False\n",
    "    while len(expr) > 1:\n",
    "        for term in expr:\n",
    "            if isIterable(term): # level 3 -> multiplication\n",
    "                \n",
    "                if summation:\n",
    "                    expression[\"args\"].append({\"type\": \"Mul\", \"args\": []})\n",
    "                else:\n",
    "                    expression[\"args\"].append({\"type\": \"Mul\", \"args\": []})\n",
    "            \n",
    "\n",
    "    if len(expr) > 1: # level 2 -> summation\n",
    "        \n",
    "        for term in expr:\n",
    "            if isIterable(term): # level 3 -> multiplication\n",
    "                expression[\"args\"].append({\"type\": \"Mul\", \"args\": []})\n",
    "                if isIterable(term[0]): # level 4 -> summation\n",
    "                    for added_terms in term:\n",
    "                        expression[\"args\"][-1][\"args\"].append({\n",
    "                                \"type\": \"Add\", \"args\": [define_term(add_val) for add_val in added_terms]})\n",
    "                else:\n",
    "                    expression[\"args\"][-1][\"args\"] = [define_term(val) for val in term]\n",
    "            else:\n",
    "                expression[\"args\"].append(define_term(term))\n",
    "\n",
    "    return expression  "
   ]
  }
 ],
 "metadata": {
  "kernelspec": {
   "display_name": "Python 3 (ipykernel)",
   "language": "python",
   "name": "python3"
  },
  "language_info": {
   "codemirror_mode": {
    "name": "ipython",
    "version": 3
   },
   "file_extension": ".py",
   "mimetype": "text/x-python",
   "name": "python",
   "nbconvert_exporter": "python",
   "pygments_lexer": "ipython3",
   "version": "3.9.12"
  }
 },
 "nbformat": 4,
 "nbformat_minor": 5
}
