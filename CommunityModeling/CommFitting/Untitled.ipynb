{
 "cells": [
  {
   "cell_type": "code",
   "execution_count": 43,
   "id": "d86df4fd-1af2-47e4-80db-7fbb1160f724",
   "metadata": {},
   "outputs": [
    {
     "name": "stdout",
     "output_type": "stream",
     "text": [
      "[\"root['EX_cpd00028_e0']\", \"root['EX_cpd10515_e0']\", \"root['EX_cpd00104_e0']\", \"root['EX_cpd00048_e0']\", \"root['EX_cpd01570_e0']\", \"root['EX_cpd00009_e0']\", \"root['EX_cpd10515_e0']\"]\n"
     ]
    }
   ],
   "source": [
    "from itertools import chain\n",
    "\n",
    "dic = {'dictionary_item_removed': [\"root['EX_cpd00028_e0']\", \"root['EX_cpd10515_e0']\", \"root['EX_cpd00104_e0']\", \"root['EX_cpd00048_e0']\", \"root['EX_cpd01570_e0']\"],\n",
    "      'values_changed': {\"root['EX_cpd00009_e0']\": {'new_value': 1.9414490264533844, 'old_value': 0.17640199998493244}, \"root['EX_cpd10515_e0']\": {'new_value': 9.42943009409891, 'old_value': 0.0009336000000000001}}}\n",
    "\n",
    "flattened_list = list(chain(*[v for v in list(dict(dic).values())]))\n",
    "print(flattened_list)"
   ]
  },
  {
   "cell_type": "code",
   "execution_count": 39,
   "id": "bfb67ee9-3da7-45c1-8429-5f51ac67bab7",
   "metadata": {},
   "outputs": [
    {
     "name": "stdout",
     "output_type": "stream",
     "text": [
      "0\n"
     ]
    }
   ],
   "source": [
    "print(f\"{len([set()]) if set() else 0}\")"
   ]
  },
  {
   "cell_type": "code",
   "execution_count": 37,
   "id": "d67c92c9-83b1-4da8-8987-ce11d90d0bca",
   "metadata": {},
   "outputs": [
    {
     "name": "stdout",
     "output_type": "stream",
     "text": [
      "1\n"
     ]
    }
   ],
   "source": [
    "def isnumber(string):\n",
    "    try:\n",
    "        float(string)\n",
    "    except:\n",
    "        return False\n",
    "    return True\n",
    "\n",
    "def find_dic_number(dic):\n",
    "    for k, v in dic.items():\n",
    "        if isnumber(v):\n",
    "            return v\n",
    "        num = find_dic_number(dic[k])\n",
    "    return num\n",
    "test_dic = {\"tet\":{\"test\":1}}\n",
    "print(find_dic_number(test_dic))"
   ]
  },
  {
   "cell_type": "code",
   "execution_count": 29,
   "id": "db82a07a-21a0-470c-8e2d-b14b512838a5",
   "metadata": {},
   "outputs": [
    {
     "name": "stdout",
     "output_type": "stream",
     "text": [
      "['cpd00179', 'cpd00136']\n"
     ]
    }
   ],
   "source": [
    "from itertools import chain\n",
    "community_members = {\"test\": {'name': 'ecoli', \n",
    "                              'phenotypes': {'malt': {\"cpd00179\":[-1,-1]}}\n",
    "                        },\n",
    "                     \"test2\": {'name': 'pf',\n",
    "                               'phenotypes': {'acetate': {\"cpd00029\":[-1,-1]}, '4HB': {\"cpd00136\":[-1,-1]}}\n",
    "                        }}\n",
    "\n",
    "x = {content[\"name\"]:list(v.keys()) for content in community_members.values() for k,v in content[\"phenotypes\"].items()}\n",
    "print(list(chain(*x.values())))"
   ]
  },
  {
   "cell_type": "code",
   "execution_count": 19,
   "id": "fec82152-27c7-4f01-b99d-cbaf13fc81a1",
   "metadata": {},
   "outputs": [
    {
     "name": "stdout",
     "output_type": "stream",
     "text": [
      "5\n"
     ]
    }
   ],
   "source": [
    "print(int(None or \"5\"))"
   ]
  },
  {
   "cell_type": "code",
   "execution_count": 17,
   "id": "d88df453-d37e-4cab-8582-0b55d6e0e57e",
   "metadata": {},
   "outputs": [
    {
     "name": "stdout",
     "output_type": "stream",
     "text": [
      "[1, 2, 3]\n"
     ]
    }
   ],
   "source": [
    "ls = [1,2,3,4]\n",
    "print(ls[:-1])"
   ]
  },
  {
   "cell_type": "code",
   "execution_count": 16,
   "id": "a497654d-8e6f-438a-a0c2-e9b56e8fed72",
   "metadata": {},
   "outputs": [
    {
     "name": "stdout",
     "output_type": "stream",
     "text": [
      "['__add__', '__class__', '__class_getitem__', '__contains__', '__delattr__', '__delitem__', '__dir__', '__doc__', '__eq__', '__format__', '__ge__', '__getattribute__', '__getitem__', '__gt__', '__hash__', '__iadd__', '__imul__', '__init__', '__init_subclass__', '__iter__', '__le__', '__len__', '__lt__', '__mul__', '__ne__', '__new__', '__reduce__', '__reduce_ex__', '__repr__', '__reversed__', '__rmul__', '__setattr__', '__setitem__', '__sizeof__', '__str__', '__subclasshook__', 'append', 'clear', 'copy', 'count', 'extend', 'index', 'insert', 'pop', 'remove', 'reverse', 'sort']\n"
     ]
    }
   ],
   "source": [
    "ls = []\n",
    "print(dir(ls))"
   ]
  },
  {
   "cell_type": "code",
   "execution_count": 12,
   "id": "3c228ba3-1684-4cea-b4e0-08dd84db89b0",
   "metadata": {},
   "outputs": [],
   "source": [
    "def dict_keys_exists(dic, *keys):\n",
    "    if keys[0] in dic:\n",
    "        remainingKeys = keys[1:]\n",
    "        if len(remainingKeys) > 0:\n",
    "            dict_keys_exists(dic[keys[0]], keys[1:])\n",
    "        return True\n",
    "    return False"
   ]
  },
  {
   "cell_type": "code",
   "execution_count": 13,
   "id": "594a8a57-554f-4a9b-b255-0d5412cb4b8a",
   "metadata": {},
   "outputs": [
    {
     "data": {
      "text/plain": [
       "True"
      ]
     },
     "execution_count": 13,
     "metadata": {},
     "output_type": "execute_result"
    }
   ],
   "source": [
    "test_dic = {\"test\":{\"as\":1}}\n",
    "dict_keys_exists(test_dic, \"test\", \"as\")"
   ]
  },
  {
   "cell_type": "code",
   "execution_count": 14,
   "id": "4cbfd245-358a-4d7f-97e7-d1751599c099",
   "metadata": {},
   "outputs": [
    {
     "name": "stdout",
     "output_type": "stream",
     "text": [
      "12 12\n"
     ]
    }
   ],
   "source": [
    "parameters, bad_data_timesteps = 12 or {}, 12 or {}\n",
    "print(parameters, bad_data_timesteps)"
   ]
  },
  {
   "cell_type": "code",
   "execution_count": 15,
   "id": "3cd8d9b3-f68d-4616-8703-8933c731823f",
   "metadata": {},
   "outputs": [],
   "source": [
    "if []:\n",
    "    print(\"es\")"
   ]
  }
 ],
 "metadata": {
  "kernelspec": {
   "display_name": "Python 3 (ipykernel)",
   "language": "python",
   "name": "python3"
  },
  "language_info": {
   "codemirror_mode": {
    "name": "ipython",
    "version": 3
   },
   "file_extension": ".py",
   "mimetype": "text/x-python",
   "name": "python",
   "nbconvert_exporter": "python",
   "pygments_lexer": "ipython3",
   "version": "3.9.12"
  }
 },
 "nbformat": 4,
 "nbformat_minor": 5
}
