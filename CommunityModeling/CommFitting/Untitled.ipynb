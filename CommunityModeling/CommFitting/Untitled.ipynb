{
 "cells": [
  {
   "cell_type": "code",
   "execution_count": 67,
   "id": "6c1723ca-91d9-4d53-8145-d78ba095f841",
   "metadata": {},
   "outputs": [
    {
     "name": "stdout",
     "output_type": "stream",
     "text": [
      "[1, 2, 32, 4]\n"
     ]
    }
   ],
   "source": [
    "test = [1,2,32,4]\n",
    "new = test[:]\n",
    "print(new)"
   ]
  },
  {
   "cell_type": "code",
   "execution_count": 66,
   "id": "61f0a8a4-14a2-4bf6-a377-9084e05b0333",
   "metadata": {},
   "outputs": [
    {
     "ename": "TypeError",
     "evalue": "only size-1 arrays can be converted to Python scalars",
     "output_type": "error",
     "traceback": [
      "\u001b[1;31m---------------------------------------------------------------------------\u001b[0m",
      "\u001b[1;31mTypeError\u001b[0m                                 Traceback (most recent call last)",
      "Input \u001b[1;32mIn [66]\u001b[0m, in \u001b[0;36m<cell line: 5>\u001b[1;34m()\u001b[0m\n\u001b[0;32m      2\u001b[0m \u001b[38;5;28;01mfrom\u001b[39;00m \u001b[38;5;21;01mmath\u001b[39;00m \u001b[38;5;28;01mimport\u001b[39;00m isclose\n\u001b[0;32m      4\u001b[0m ary \u001b[38;5;241m=\u001b[39m array([\u001b[38;5;241m1\u001b[39m,\u001b[38;5;241m2\u001b[39m,\u001b[38;5;241m3\u001b[39m,\u001b[38;5;241m4\u001b[39m])\n\u001b[1;32m----> 5\u001b[0m \u001b[38;5;28;01mif\u001b[39;00m \u001b[43misclose\u001b[49m\u001b[43m(\u001b[49m\u001b[43mary\u001b[49m\u001b[43m,\u001b[49m\u001b[43m \u001b[49m\u001b[38;5;241;43m0\u001b[39;49m\u001b[43m)\u001b[49m:\n\u001b[0;32m      6\u001b[0m     \u001b[38;5;28mprint\u001b[39m(\u001b[38;5;124m\"\u001b[39m\u001b[38;5;124myup\u001b[39m\u001b[38;5;124m\"\u001b[39m)\n",
      "\u001b[1;31mTypeError\u001b[0m: only size-1 arrays can be converted to Python scalars"
     ]
    }
   ],
   "source": [
    "from numpy import array\n",
    "from math import isclose\n",
    "\n",
    "ary = array([1,2,3,4])\n",
    "if isclose(ary, 0):\n",
    "    print(\"yup\")"
   ]
  },
  {
   "cell_type": "code",
   "execution_count": 65,
   "id": "1f0b11ba-5d03-465a-beef-781e136a6883",
   "metadata": {},
   "outputs": [
    {
     "data": {
      "text/plain": [
       "False"
      ]
     },
     "execution_count": 65,
     "metadata": {},
     "output_type": "execute_result"
    }
   ],
   "source": [
    "test = {'Bacteroides_thetaiotaomicron_VPI-5482.fbamdl.23': None, 'iML1515': None}\n",
    "from numpy import array\n",
    "all(array(list(test.values())) != None)"
   ]
  },
  {
   "cell_type": "code",
   "execution_count": 52,
   "id": "0e2943f2-fd28-4a14-a2ed-dc25a6c977cf",
   "metadata": {},
   "outputs": [
    {
     "name": "stdout",
     "output_type": "stream",
     "text": [
      "values_changed removed\n",
      "{'dictionary_item_removed': [\"root['EX_cpd00028_e0']\", \"root['EX_cpd10515_e0']\", \"root['EX_cpd00104_e0']\", \"root['EX_cpd00048_e0']\", \"root['EX_cpd01570_e0']\"]}\n"
     ]
    }
   ],
   "source": [
    "def remove_media_compounds(media_dict, compounds, printing=True):\n",
    "    for cpd in compounds:\n",
    "        if cpd in media_dict:\n",
    "            media_dict.pop(cpd)\n",
    "            if printing:\n",
    "                print(f\"{cpd} removed\")\n",
    "        else:\n",
    "            print(f\"ERROR: The {cpd} is not located in the media.\")\n",
    "    return media_dict\n",
    "\n",
    "print(remove_media_compounds(dic, [\"values_changed\"]))"
   ]
  },
  {
   "cell_type": "code",
   "execution_count": 51,
   "id": "9d24f3f5-c01a-4675-91f1-5480e9bd6474",
   "metadata": {},
   "outputs": [
    {
     "name": "stdout",
     "output_type": "stream",
     "text": [
      "[(1, 2, 3)]\n"
     ]
    }
   ],
   "source": [
    "from itertools import combinations\n",
    "ls = [1,2,3]\n",
    "print([com for com in combinations(ls, len(ls))])"
   ]
  },
  {
   "cell_type": "code",
   "execution_count": 48,
   "id": "6813ee11-6ac6-4ba9-aca2-a86ffb2a8d0d",
   "metadata": {},
   "outputs": [
    {
     "name": "stdout",
     "output_type": "stream",
     "text": [
      "12\n"
     ]
    }
   ],
   "source": [
    "from pprint import pprint\n",
    "test = 12\n",
    "if \"test\" in locals():\n",
    "    print(locals()[\"test\"])"
   ]
  },
  {
   "cell_type": "code",
   "execution_count": null,
   "id": "0280bdd7-add8-4729-8975-380d22a40036",
   "metadata": {},
   "outputs": [
    {
     "name": "stdout",
     "output_type": "stream",
     "text": [
      "cobrakbase 0.2.8\n"
     ]
    }
   ],
   "source": [
    "import os\n",
    "local_cobrakbase_path = os.path.join('C:', 'Users', 'Andrew Freiburger','Documents','Argonne','cobrakbase')\n",
    "os.environ[\"HOME\"] = local_cobrakbase_path\n",
    "import cobrakbase\n",
    "with open(\"C:/Users/Andrew Freiburger/Documents/Argonne/kbase_token.txt\") as token_file:\n",
    "    kbase_api = cobrakbase.KBaseAPI(token_file.readline())"
   ]
  },
  {
   "cell_type": "code",
   "execution_count": 43,
   "id": "d86df4fd-1af2-47e4-80db-7fbb1160f724",
   "metadata": {},
   "outputs": [
    {
     "name": "stdout",
     "output_type": "stream",
     "text": [
      "[\"root['EX_cpd00028_e0']\", \"root['EX_cpd10515_e0']\", \"root['EX_cpd00104_e0']\", \"root['EX_cpd00048_e0']\", \"root['EX_cpd01570_e0']\", \"root['EX_cpd00009_e0']\", \"root['EX_cpd10515_e0']\"]\n"
     ]
    }
   ],
   "source": [
    "from itertools import chain\n",
    "\n",
    "dic = {'dictionary_item_removed': [\"root['EX_cpd00028_e0']\", \"root['EX_cpd10515_e0']\", \"root['EX_cpd00104_e0']\", \"root['EX_cpd00048_e0']\", \"root['EX_cpd01570_e0']\"],\n",
    "      'values_changed': {\"root['EX_cpd00009_e0']\": {'new_value': 1.9414490264533844, 'old_value': 0.17640199998493244}, \"root['EX_cpd10515_e0']\": {'new_value': 9.42943009409891, 'old_value': 0.0009336000000000001}}}\n",
    "\n",
    "flattened_list = list(chain(*[v for v in list(dict(dic).values())]))\n",
    "print(flattened_list)"
   ]
  },
  {
   "cell_type": "code",
   "execution_count": 39,
   "id": "bfb67ee9-3da7-45c1-8429-5f51ac67bab7",
   "metadata": {},
   "outputs": [
    {
     "name": "stdout",
     "output_type": "stream",
     "text": [
      "0\n"
     ]
    }
   ],
   "source": [
    "print(f\"{len([set()]) if set() else 0}\")"
   ]
  },
  {
   "cell_type": "code",
   "execution_count": 37,
   "id": "d67c92c9-83b1-4da8-8987-ce11d90d0bca",
   "metadata": {},
   "outputs": [
    {
     "name": "stdout",
     "output_type": "stream",
     "text": [
      "1\n"
     ]
    }
   ],
   "source": [
    "def isnumber(string):\n",
    "    try:\n",
    "        float(string)\n",
    "    except:\n",
    "        return False\n",
    "    return True\n",
    "\n",
    "def find_dic_number(dic):\n",
    "    for k, v in dic.items():\n",
    "        if isnumber(v):\n",
    "            return v\n",
    "        num = find_dic_number(dic[k])\n",
    "    return num\n",
    "test_dic = {\"tet\":{\"test\":1}}\n",
    "print(find_dic_number(test_dic))"
   ]
  },
  {
   "cell_type": "code",
   "execution_count": 29,
   "id": "db82a07a-21a0-470c-8e2d-b14b512838a5",
   "metadata": {},
   "outputs": [
    {
     "name": "stdout",
     "output_type": "stream",
     "text": [
      "['cpd00179', 'cpd00136']\n"
     ]
    }
   ],
   "source": [
    "from itertools import chain\n",
    "community_members = {\"test\": {'name': 'ecoli', \n",
    "                              'phenotypes': {'malt': {\"cpd00179\":[-1,-1]}}\n",
    "                        },\n",
    "                     \"test2\": {'name': 'pf',\n",
    "                               'phenotypes': {'acetate': {\"cpd00029\":[-1,-1]}, '4HB': {\"cpd00136\":[-1,-1]}}\n",
    "                        }}\n",
    "\n",
    "x = {content[\"name\"]:list(v.keys()) for content in community_members.values() for k,v in content[\"phenotypes\"].items()}\n",
    "print(list(chain(*x.values())))"
   ]
  },
  {
   "cell_type": "code",
   "execution_count": 19,
   "id": "fec82152-27c7-4f01-b99d-cbaf13fc81a1",
   "metadata": {},
   "outputs": [
    {
     "name": "stdout",
     "output_type": "stream",
     "text": [
      "5\n"
     ]
    }
   ],
   "source": [
    "print(int(None or \"5\"))"
   ]
  },
  {
   "cell_type": "code",
   "execution_count": 17,
   "id": "d88df453-d37e-4cab-8582-0b55d6e0e57e",
   "metadata": {},
   "outputs": [
    {
     "name": "stdout",
     "output_type": "stream",
     "text": [
      "[1, 2, 3]\n"
     ]
    }
   ],
   "source": [
    "ls = [1,2,3,4]\n",
    "print(ls[:-1])"
   ]
  },
  {
   "cell_type": "code",
   "execution_count": 16,
   "id": "a497654d-8e6f-438a-a0c2-e9b56e8fed72",
   "metadata": {},
   "outputs": [
    {
     "name": "stdout",
     "output_type": "stream",
     "text": [
      "['__add__', '__class__', '__class_getitem__', '__contains__', '__delattr__', '__delitem__', '__dir__', '__doc__', '__eq__', '__format__', '__ge__', '__getattribute__', '__getitem__', '__gt__', '__hash__', '__iadd__', '__imul__', '__init__', '__init_subclass__', '__iter__', '__le__', '__len__', '__lt__', '__mul__', '__ne__', '__new__', '__reduce__', '__reduce_ex__', '__repr__', '__reversed__', '__rmul__', '__setattr__', '__setitem__', '__sizeof__', '__str__', '__subclasshook__', 'append', 'clear', 'copy', 'count', 'extend', 'index', 'insert', 'pop', 'remove', 'reverse', 'sort']\n"
     ]
    }
   ],
   "source": [
    "ls = []\n",
    "print(dir(ls))"
   ]
  },
  {
   "cell_type": "code",
   "execution_count": 12,
   "id": "3c228ba3-1684-4cea-b4e0-08dd84db89b0",
   "metadata": {},
   "outputs": [],
   "source": [
    "def dict_keys_exists(dic, *keys):\n",
    "    if keys[0] in dic:\n",
    "        remainingKeys = keys[1:]\n",
    "        if len(remainingKeys) > 0:\n",
    "            dict_keys_exists(dic[keys[0]], keys[1:])\n",
    "        return True\n",
    "    return False"
   ]
  },
  {
   "cell_type": "code",
   "execution_count": 13,
   "id": "594a8a57-554f-4a9b-b255-0d5412cb4b8a",
   "metadata": {},
   "outputs": [
    {
     "data": {
      "text/plain": [
       "True"
      ]
     },
     "execution_count": 13,
     "metadata": {},
     "output_type": "execute_result"
    }
   ],
   "source": [
    "test_dic = {\"test\":{\"as\":1}}\n",
    "dict_keys_exists(test_dic, \"test\", \"as\")"
   ]
  },
  {
   "cell_type": "code",
   "execution_count": 14,
   "id": "4cbfd245-358a-4d7f-97e7-d1751599c099",
   "metadata": {},
   "outputs": [
    {
     "name": "stdout",
     "output_type": "stream",
     "text": [
      "12 12\n"
     ]
    }
   ],
   "source": [
    "parameters, bad_data_timesteps = 12 or {}, 12 or {}\n",
    "print(parameters, bad_data_timesteps)"
   ]
  },
  {
   "cell_type": "code",
   "execution_count": 15,
   "id": "3cd8d9b3-f68d-4616-8703-8933c731823f",
   "metadata": {},
   "outputs": [],
   "source": [
    "if []:\n",
    "    print(\"es\")"
   ]
  }
 ],
 "metadata": {
  "kernelspec": {
   "display_name": "Python 3 (ipykernel)",
   "language": "python",
   "name": "python3"
  },
  "language_info": {
   "codemirror_mode": {
    "name": "ipython",
    "version": 3
   },
   "file_extension": ".py",
   "mimetype": "text/x-python",
   "name": "python",
   "nbconvert_exporter": "python",
   "pygments_lexer": "ipython3",
   "version": "3.9.12"
  }
 },
 "nbformat": 4,
 "nbformat_minor": 5
}
