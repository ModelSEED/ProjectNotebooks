{
 "cells": [
  {
   "cell_type": "markdown",
   "id": "6f48e8b9-e3ab-433b-8967-4989d4146e2c",
   "metadata": {},
   "source": [
    "# Refine MSCommFitting for the standardized experimental framework "
   ]
  },
  {
   "cell_type": "code",
   "execution_count": null,
   "id": "9d226ab6-da9d-42fc-9170-59a63ac4dd4e",
   "metadata": {},
   "outputs": [],
   "source": []
  },
  {
   "cell_type": "code",
   "execution_count": null,
   "id": "0f49b52b-7dd7-41b4-ba2c-c6fc9e49cbbe",
   "metadata": {},
   "outputs": [],
   "source": []
  }
 ],
 "metadata": {
  "kernelspec": {
   "display_name": "Python 3 (ipykernel)",
   "language": "python",
   "name": "python3"
  },
  "language_info": {
   "codemirror_mode": {
    "name": "ipython",
    "version": 3
   },
   "file_extension": ".py",
   "mimetype": "text/x-python",
   "name": "python",
   "nbconvert_exporter": "python",
   "pygments_lexer": "ipython3",
   "version": "3.9.12"
  }
 },
 "nbformat": 4,
 "nbformat_minor": 5
}
