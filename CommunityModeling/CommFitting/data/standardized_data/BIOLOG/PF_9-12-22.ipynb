{
 "cells": [
  {
   "cell_type": "code",
   "execution_count": 2,
   "id": "a8e1afca-8cdc-4460-949e-453dac4b1e58",
   "metadata": {},
   "outputs": [],
   "source": [
    "import json\n",
    "with open(\"../../Jeffs_data/BIOLOG/BIOLOG_trial_conditions.json\", 'r') as trials:\n",
    "    biolog_trials = json.load(trials)\n",
    "    \n",
    "for trial, name in biolog_trials.items():\n",
    "    content = {\"name\": name, \"ModelSEED_ID\": \"\", \"mM\": 0}\n",
    "    biolog_trials[trial] = content\n",
    "    \n",
    "with open(\"../../Jeffs_data/BIOLOG/BIOLOG_trial_conditions.json\", 'w') as trials:\n",
    "    json.dump(biolog_trials, trials, indent=3)"
   ]
  },
  {
   "cell_type": "code",
   "execution_count": null,
   "id": "99cba220-36d4-40fd-9627-e9c27bf6eff9",
   "metadata": {},
   "outputs": [],
   "source": [
    "# define the environment path \n",
    "import os\n",
    "# local_cobrakbase_path = os.path.join('/Users/afreiburger/Documents')\n",
    "local_cobrakbase_path = os.path.join('C:', 'Users', 'Andrew Freiburger','Documents','Argonne','cobrakbase')\n",
    "os.environ[\"HOME\"] = local_cobrakbase_path\n",
    "\n",
    "# import the models\n",
    "import cobrakbase\n",
    "# with open(\"/Users/afreiburger/Documents/kbase_token.txt\") as token_file:\n",
    "with open(\"C:/Users/Andrew Freiburger/Documents/Argonne/kbase_token.txt\") as token_file:\n",
    "    kbase_api = cobrakbase.KBaseAPI(token_file.readline())\n",
    "    \n",
    "import warnings\n",
    "warnings.filterwarnings(action='once')"
   ]
  },
  {
   "cell_type": "code",
   "execution_count": null,
   "id": "98371b66-5ad9-448a-ad24-bda1a0713344",
   "metadata": {},
   "outputs": [],
   "source": []
  },
  {
   "cell_type": "code",
   "execution_count": null,
   "id": "cdc63915-ea56-4a1e-96b8-1609a1c00b23",
   "metadata": {},
   "outputs": [],
   "source": [
    "%run ../datastandardization.py\n",
    "data={\"path\": \"../../Jeffs_data/BIOLOG/PF genIII plate 9-12-22.xlsx\", \"Fluorescence\":\"GFP\"}\n",
    "experimental_metadata, growth_df, fluxes_df, standardized_carbon_conc, signal_species, trial_name_conversion, species_phenos_df, data_timestep_hr, simulation_timestep, media_conc = BiologData.process(\n",
    "    data_path, \"../../Jeffs_data/BIOLOG/BIOLOG_trial_conditions.json\", )"
   ]
  },
  {
   "cell_type": "code",
   "execution_count": null,
   "id": "2cea00b5-982f-4835-b640-8c0da04e1c95",
   "metadata": {},
   "outputs": [],
   "source": []
  }
 ],
 "metadata": {
  "kernelspec": {
   "display_name": "Python 3 (ipykernel)",
   "language": "python",
   "name": "python3"
  },
  "language_info": {
   "codemirror_mode": {
    "name": "ipython",
    "version": 3
   },
   "file_extension": ".py",
   "mimetype": "text/x-python",
   "name": "python",
   "nbconvert_exporter": "python",
   "pygments_lexer": "ipython3",
   "version": "3.9.12"
  }
 },
 "nbformat": 4,
 "nbformat_minor": 5
}
