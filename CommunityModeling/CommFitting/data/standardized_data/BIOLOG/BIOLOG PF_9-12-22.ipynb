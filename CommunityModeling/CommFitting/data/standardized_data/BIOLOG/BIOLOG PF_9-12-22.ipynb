{
 "cells": [
  {
   "cell_type": "code",
   "execution_count": 7,
   "id": "a8e1afca-8cdc-4460-949e-453dac4b1e58",
   "metadata": {},
   "outputs": [
    {
     "name": "stdout",
     "output_type": "stream",
     "text": [
      "{'mismatched': [{'bestMatch': 'Trehalose 6-phosphate',\n",
      "                 'original': 'D-Trehalose'},\n",
      "                {'bestMatch': 'alpha-Cellobiose', 'original': 'D-Cellobiose'},\n",
      "                {'bestMatch': 'Jeff confirmed that the positive control is '\n",
      "                              'merely Glucose.',\n",
      "                 'original': 'Positive Control'},\n",
      "                {'bestMatch': 'D-Raffinose pentahydrate',\n",
      "                 'original': 'D-Raffinose'},\n",
      "                {'bestMatch': 'beta-Lactose', 'original': 'alpha-D-Lactose'},\n",
      "                {'bestMatch': 'beta-D-Glucoside',\n",
      "                 'original': 'beta-Methyl-D-Glucoside'},\n",
      "                {'bestMatch': 'Salicin', 'original': 'D-Salicin'},\n",
      "                {'bestMatch': 'UDP-N-acetyl-D-galactosamine',\n",
      "                 'original': 'N-Acetyl-D-Galactosamine'},\n",
      "                {'bestMatch': 'Neuraminic acid',\n",
      "                 'original': 'N-Acetyl-Neuraminic Acid'},\n",
      "                {'bestMatch': 'beta-D-Glucose', 'original': 'alpha-D-Glucose'},\n",
      "                {'bestMatch': 'L-Lactate', 'original': '1% Sodium Lactate'},\n",
      "                {'bestMatch': 'D-arabitol 5-phosphate',\n",
      "                 'original': 'D-Arabitol'},\n",
      "                {'bestMatch': '1-O-Methyl-myo-inositol',\n",
      "                 'original': 'myo-Inositol'},\n",
      "                {'bestMatch': 'D-Aspartate', 'original': 'D-Aspartic Acid'},\n",
      "                {'bestMatch': 'L-Proline', 'original': 'Glycyl-L-Proline'},\n",
      "                {'bestMatch': 'L-Aspartate', 'original': 'L-Aspartic Acid'},\n",
      "                {'bestMatch': 'L-Glutamate', 'original': 'L-Glutamic Acid'},\n",
      "                {'bestMatch': 'Guanidine', 'original': 'Guanidine HCl'},\n",
      "                {'bestMatch': 'D-Galacturonic acid calcium salt',\n",
      "                 'original': 'D-Galacturonic Acid'},\n",
      "                {'bestMatch': 'L-Galactonate',\n",
      "                 'original': 'L-Galactonic Acid Lactone'},\n",
      "                {'bestMatch': 'D-Mucic Acid', 'original': 'Mucic Acid'},\n",
      "                {'bestMatch': 'Phenylacetic acid',\n",
      "                 'original': 'p-Hydroxy-Phenylacetic Acid'},\n",
      "                {'bestMatch': '2-keto-4-hydroxybutyrate',\n",
      "                 'original': 'alpha-Keto-Butyric Acid'}],\n",
      " 'unmatched': ['D-Glucose-6-PO4',\n",
      "               'Gelatin',\n",
      "               'L-Pyroglutamic Acid',\n",
      "               'Niaproof 4',\n",
      "               'Lithium Chloride',\n",
      "               'Potassium Tellurite',\n",
      "               'Sodium Butyrate',\n",
      "               'Sodium Bromate']}\n"
     ]
    }
   ],
   "source": [
    "from pprint import pprint\n",
    "import json, re\n",
    "with open(\"../../Jeffs_data/BIOLOG/BIOLOG_trial_conditions.json\", 'r') as trials:\n",
    "    biolog_trials = json.load(trials)\n",
    "    \n",
    "# for trial, name in biolog_trials.items():\n",
    "#     content = {\"name\": name, \"ModelSEED_ID\": \"\", \"mM\": 0}\n",
    "#     biolog_trials[trial] = content\n",
    "    \n",
    "# with open(\"../../Jeffs_data/BIOLOG/BIOLOG_trial_conditions.json\", 'w') as trials:\n",
    "#     json.dump(biolog_trials, trials, indent=3)\n",
    "\n",
    "undefinedNames = {\"unmatched\":[], \"mismatched\":[]}\n",
    "for trial, content in biolog_trials.items():\n",
    "    if not content[\"ModelSEED_ID\"]:\n",
    "        undefinedNames[\"unmatched\"].append(content[\"name\"])\n",
    "    elif \"notes\" in content:\n",
    "        best_match = content[\"notes\"] if not re.search(r\"(?<=with )(.+)(?=,)\", content[\"notes\"]) else re.search(r\"(?<=with )(.+)(?=,)\", content[\"notes\"]).group()\n",
    "        undefinedNames[\"mismatched\"].append({\"original\":content[\"name\"], \"bestMatch\": best_match})\n",
    "        \n",
    "with open(\"../../Jeffs_data/BIOLOG/BIOLOG_condition_matching.json\", 'w') as trials:\n",
    "    json.dump(undefinedNames, trials, indent=3)\n",
    "pprint(undefinedNames)"
   ]
  },
  {
   "cell_type": "code",
   "execution_count": 2,
   "id": "4d888027-53ea-4558-ac2f-84a8d5f264af",
   "metadata": {},
   "outputs": [],
   "source": [
    "# def _find_culture(string):\n",
    "#     matches = re.findall(r\"([A-Z]{2}\\+?[A-Z]*)\", string)\n",
    "#     print(matches)\n",
    "#     return [m for m in matches if not any([x in m for x in [\"BIOLOG\", \"III\"]])]\n",
    "\n",
    "# print(_find_culture(\"../../Jeffs_data/BIOLOG/PF genIII plate 9-12-22.xlsx\"))"
   ]
  },
  {
   "cell_type": "code",
   "execution_count": 3,
   "id": "99cba220-36d4-40fd-9627-e9c27bf6eff9",
   "metadata": {},
   "outputs": [],
   "source": [
    "# # define the environment path \n",
    "# import os\n",
    "# # local_cobrakbase_path = os.path.join('/Users/afreiburger/Documents')\n",
    "# local_cobrakbase_path = os.path.join('C:', 'Users', 'Andrew Freiburger','Documents','Argonne','cobrakbase')\n",
    "# os.environ[\"HOME\"] = local_cobrakbase_path\n",
    "\n",
    "# # import the models\n",
    "# import cobrakbase\n",
    "# # with open(\"/Users/afreiburger/Documents/kbase_token.txt\") as token_file:\n",
    "# with open(\"C:/Users/Andrew Freiburger/Documents/Argonne/kbase_token.txt\") as token_file:\n",
    "#     kbase_api = cobrakbase.KBaseAPI(token_file.readline())\n",
    "    \n",
    "# import warnings\n",
    "# warnings.filterwarnings(action='once')\n",
    "\n",
    "# from pandas import set_option\n",
    "# set_option(\"display.max_rows\", None)"
   ]
  },
  {
   "cell_type": "code",
   "execution_count": 4,
   "id": "cdc63915-ea56-4a1e-96b8-1609a1c00b23",
   "metadata": {},
   "outputs": [
    {
     "name": "stdout",
     "output_type": "stream",
     "text": [
      "-3.063614460242093\n",
      "The model GCF_001612705.1.RAST.mdl is unable to be simulated with pFBA and yields a < None (infeasible). > error.\n",
      "-1.3478300695171295\n"
     ]
    }
   ],
   "source": [
    "from cobra.io import load_json_model\n",
    "pf = load_json_model(\"../../../pf.json\")\n",
    "\n",
    "%run ../datastandardization.py\n",
    "data_paths={\"path\": \"../../Jeffs_data/BIOLOG/PF genIII plate 9-12-22.xlsx\", \"Fluorescence\":\"pf\", \"Raw OD(600)\": \"OD\"}\n",
    "experimental_metadata, biolog_df, fluxes_df, standardized_carbon_conc, trial_name_conversion, data_timestep_hr, simulation_timestep = BiologData.process(\n",
    "    data_paths, \n",
    "    \"../../Jeffs_data/BIOLOG/BIOLOG_trial_conditions.json\", \n",
    "    community_members = {\n",
    "        pf: {\n",
    "            'name': 'pf',\n",
    "            'phenotypes': {\n",
    "                'acetate': {\"consumed\":[\"cpd00029\"]}, # kbase_api.get_from_ws(\"93465/25/1\"), #'93465/11/1'), \n",
    "                '4HB': {\"consumed\":[\"cpd00136\"]} # kbase_api.get_from_ws('\t93465/27/1')} #93465/15/1')}\n",
    "                }\n",
    "        }\n",
    "    },\n",
    "    culture=\"P. fluorescens\")"
   ]
  },
  {
   "cell_type": "code",
   "execution_count": 5,
   "id": "98371b66-5ad9-448a-ad24-bda1a0713344",
   "metadata": {
    "tags": []
   },
   "outputs": [
    {
     "data": {
      "text/html": [
       "<div>\n",
       "<style scoped>\n",
       "    .dataframe tbody tr th:only-of-type {\n",
       "        vertical-align: middle;\n",
       "    }\n",
       "\n",
       "    .dataframe tbody tr th {\n",
       "        vertical-align: top;\n",
       "    }\n",
       "\n",
       "    .dataframe thead th {\n",
       "        text-align: right;\n",
       "    }\n",
       "</style>\n",
       "<table border=\"1\" class=\"dataframe\">\n",
       "  <thead>\n",
       "    <tr style=\"text-align: right;\">\n",
       "      <th></th>\n",
       "      <th>trial_IDs</th>\n",
       "      <th>Time (s)</th>\n",
       "      <th>pf:Fluorescence</th>\n",
       "      <th>OD:Raw_OD(600)</th>\n",
       "    </tr>\n",
       "    <tr>\n",
       "      <th>short_codes</th>\n",
       "      <th></th>\n",
       "      <th></th>\n",
       "      <th></th>\n",
       "      <th></th>\n",
       "    </tr>\n",
       "  </thead>\n",
       "  <tbody>\n",
       "    <tr>\n",
       "      <th>B1</th>\n",
       "      <td></td>\n",
       "      <td>21.328953</td>\n",
       "      <td>123309.0</td>\n",
       "      <td>0.149</td>\n",
       "    </tr>\n",
       "    <tr>\n",
       "      <th>B1</th>\n",
       "      <td></td>\n",
       "      <td>622.366807</td>\n",
       "      <td>134573.0</td>\n",
       "      <td>0.156</td>\n",
       "    </tr>\n",
       "    <tr>\n",
       "      <th>B1</th>\n",
       "      <td></td>\n",
       "      <td>1204.739427</td>\n",
       "      <td>139851.0</td>\n",
       "      <td>0.164</td>\n",
       "    </tr>\n",
       "    <tr>\n",
       "      <th>B1</th>\n",
       "      <td></td>\n",
       "      <td>1797.142547</td>\n",
       "      <td>151872.0</td>\n",
       "      <td>0.171</td>\n",
       "    </tr>\n",
       "    <tr>\n",
       "      <th>B1</th>\n",
       "      <td></td>\n",
       "      <td>2389.594406</td>\n",
       "      <td>158283.0</td>\n",
       "      <td>0.178</td>\n",
       "    </tr>\n",
       "    <tr>\n",
       "      <th>...</th>\n",
       "      <td>...</td>\n",
       "      <td>...</td>\n",
       "      <td>...</td>\n",
       "      <td>...</td>\n",
       "    </tr>\n",
       "    <tr>\n",
       "      <th>B96</th>\n",
       "      <td></td>\n",
       "      <td>163538.916047</td>\n",
       "      <td>1089049.0</td>\n",
       "      <td>0.823</td>\n",
       "    </tr>\n",
       "    <tr>\n",
       "      <th>B96</th>\n",
       "      <td></td>\n",
       "      <td>164131.435990</td>\n",
       "      <td>1138113.0</td>\n",
       "      <td>1.024</td>\n",
       "    </tr>\n",
       "    <tr>\n",
       "      <th>B96</th>\n",
       "      <td></td>\n",
       "      <td>164723.973083</td>\n",
       "      <td>1043167.0</td>\n",
       "      <td>0.795</td>\n",
       "    </tr>\n",
       "    <tr>\n",
       "      <th>B96</th>\n",
       "      <td></td>\n",
       "      <td>165316.603682</td>\n",
       "      <td>888713.0</td>\n",
       "      <td>0.637</td>\n",
       "    </tr>\n",
       "    <tr>\n",
       "      <th>B96</th>\n",
       "      <td></td>\n",
       "      <td>165908.809786</td>\n",
       "      <td>1042984.0</td>\n",
       "      <td>0.747</td>\n",
       "    </tr>\n",
       "  </tbody>\n",
       "</table>\n",
       "<p>26976 rows × 4 columns</p>\n",
       "</div>"
      ],
      "text/plain": [
       "            trial_IDs       Time (s)  pf:Fluorescence  OD:Raw_OD(600)\n",
       "short_codes                                                          \n",
       "B1                         21.328953         123309.0           0.149\n",
       "B1                        622.366807         134573.0           0.156\n",
       "B1                       1204.739427         139851.0           0.164\n",
       "B1                       1797.142547         151872.0           0.171\n",
       "B1                       2389.594406         158283.0           0.178\n",
       "...               ...            ...              ...             ...\n",
       "B96                    163538.916047        1089049.0           0.823\n",
       "B96                    164131.435990        1138113.0           1.024\n",
       "B96                    164723.973083        1043167.0           0.795\n",
       "B96                    165316.603682         888713.0           0.637\n",
       "B96                    165908.809786        1042984.0           0.747\n",
       "\n",
       "[26976 rows x 4 columns]"
      ]
     },
     "metadata": {},
     "output_type": "display_data"
    }
   ],
   "source": [
    "from pandas import set_option\n",
    "set_option(\"display.max_rows\", None)\n",
    "set_option(\"display.max_rows\", 500)\n",
    "display(biolog_df)"
   ]
  },
  {
   "cell_type": "code",
   "execution_count": 6,
   "id": "2cea00b5-982f-4835-b640-8c0da04e1c95",
   "metadata": {
    "tags": []
   },
   "outputs": [
    {
     "data": {
      "text/html": [
       "<div>\n",
       "<style scoped>\n",
       "    .dataframe tbody tr th:only-of-type {\n",
       "        vertical-align: middle;\n",
       "    }\n",
       "\n",
       "    .dataframe tbody tr th {\n",
       "        vertical-align: top;\n",
       "    }\n",
       "\n",
       "    .dataframe thead th {\n",
       "        text-align: right;\n",
       "    }\n",
       "</style>\n",
       "<table border=\"1\" class=\"dataframe\">\n",
       "  <thead>\n",
       "    <tr style=\"text-align: right;\">\n",
       "      <th></th>\n",
       "      <th>pf_acetate</th>\n",
       "      <th>pf_4HB</th>\n",
       "      <th>pf_stationary</th>\n",
       "    </tr>\n",
       "    <tr>\n",
       "      <th>rxn</th>\n",
       "      <th></th>\n",
       "      <th></th>\n",
       "      <th></th>\n",
       "    </tr>\n",
       "  </thead>\n",
       "  <tbody>\n",
       "    <tr>\n",
       "      <th>EX_cpd00001_e0</th>\n",
       "      <td>4.533296e+00</td>\n",
       "      <td>2.449417e+00</td>\n",
       "      <td>0</td>\n",
       "    </tr>\n",
       "    <tr>\n",
       "      <th>EX_cpd00007_e0</th>\n",
       "      <td>-2.025521e+00</td>\n",
       "      <td>-5.333032e+00</td>\n",
       "      <td>0</td>\n",
       "    </tr>\n",
       "    <tr>\n",
       "      <th>EX_cpd00009_e0</th>\n",
       "      <td>-7.625410e-02</td>\n",
       "      <td>-7.625410e-02</td>\n",
       "      <td>0</td>\n",
       "    </tr>\n",
       "    <tr>\n",
       "      <th>EX_cpd00011_e0</th>\n",
       "      <td>2.377641e+00</td>\n",
       "      <td>5.685222e+00</td>\n",
       "      <td>0</td>\n",
       "    </tr>\n",
       "    <tr>\n",
       "      <th>EX_cpd00012_e0</th>\n",
       "      <td>0.000000e+00</td>\n",
       "      <td>-8.351191e-15</td>\n",
       "      <td>0</td>\n",
       "    </tr>\n",
       "    <tr>\n",
       "      <th>EX_cpd00013_e0</th>\n",
       "      <td>-8.611666e-01</td>\n",
       "      <td>-8.611666e-01</td>\n",
       "      <td>0</td>\n",
       "    </tr>\n",
       "    <tr>\n",
       "      <th>EX_cpd00029_e0</th>\n",
       "      <td>-3.063614e+00</td>\n",
       "      <td>0.000000e+00</td>\n",
       "      <td>0</td>\n",
       "    </tr>\n",
       "    <tr>\n",
       "      <th>EX_cpd00030_e0</th>\n",
       "      <td>-2.806159e-04</td>\n",
       "      <td>-2.806159e-04</td>\n",
       "      <td>0</td>\n",
       "    </tr>\n",
       "    <tr>\n",
       "      <th>EX_cpd00034_e0</th>\n",
       "      <td>-2.806159e-04</td>\n",
       "      <td>-2.806159e-04</td>\n",
       "      <td>0</td>\n",
       "    </tr>\n",
       "    <tr>\n",
       "      <th>EX_cpd00048_e0</th>\n",
       "      <td>-2.263972e-02</td>\n",
       "      <td>-2.263972e-02</td>\n",
       "      <td>0</td>\n",
       "    </tr>\n",
       "    <tr>\n",
       "      <th>EX_cpd00058_e0</th>\n",
       "      <td>-2.806159e-04</td>\n",
       "      <td>-2.806159e-04</td>\n",
       "      <td>0</td>\n",
       "    </tr>\n",
       "    <tr>\n",
       "      <th>EX_cpd00063_e0</th>\n",
       "      <td>-2.806159e-04</td>\n",
       "      <td>-2.806159e-04</td>\n",
       "      <td>0</td>\n",
       "    </tr>\n",
       "    <tr>\n",
       "      <th>EX_cpd00067_e0</th>\n",
       "      <td>-2.411719e+00</td>\n",
       "      <td>-2.043484e+00</td>\n",
       "      <td>0</td>\n",
       "    </tr>\n",
       "    <tr>\n",
       "      <th>EX_cpd00099_e0</th>\n",
       "      <td>-2.806159e-04</td>\n",
       "      <td>-2.806159e-04</td>\n",
       "      <td>0</td>\n",
       "    </tr>\n",
       "    <tr>\n",
       "      <th>EX_cpd00116_e0</th>\n",
       "      <td>2.806159e-04</td>\n",
       "      <td>2.806159e-04</td>\n",
       "      <td>0</td>\n",
       "    </tr>\n",
       "    <tr>\n",
       "      <th>EX_cpd00136_e0</th>\n",
       "      <td>0.000000e+00</td>\n",
       "      <td>-1.347830e+00</td>\n",
       "      <td>0</td>\n",
       "    </tr>\n",
       "    <tr>\n",
       "      <th>EX_cpd00149_e0</th>\n",
       "      <td>-2.806159e-04</td>\n",
       "      <td>-2.806159e-04</td>\n",
       "      <td>0</td>\n",
       "    </tr>\n",
       "    <tr>\n",
       "      <th>EX_cpd00205_e0</th>\n",
       "      <td>-2.806159e-04</td>\n",
       "      <td>-2.806159e-04</td>\n",
       "      <td>0</td>\n",
       "    </tr>\n",
       "    <tr>\n",
       "      <th>EX_cpd00239_e0</th>\n",
       "      <td>0.000000e+00</td>\n",
       "      <td>2.180846e-14</td>\n",
       "      <td>0</td>\n",
       "    </tr>\n",
       "    <tr>\n",
       "      <th>EX_cpd00254_e0</th>\n",
       "      <td>-2.806159e-04</td>\n",
       "      <td>-2.806159e-04</td>\n",
       "      <td>0</td>\n",
       "    </tr>\n",
       "    <tr>\n",
       "      <th>EX_cpd10515_e0</th>\n",
       "      <td>-1.122464e-03</td>\n",
       "      <td>-8.418477e-04</td>\n",
       "      <td>0</td>\n",
       "    </tr>\n",
       "    <tr>\n",
       "      <th>EX_cpd10516_e0</th>\n",
       "      <td>-1.132427e-12</td>\n",
       "      <td>-2.806159e-04</td>\n",
       "      <td>0</td>\n",
       "    </tr>\n",
       "    <tr>\n",
       "      <th>bio</th>\n",
       "      <td>1.000000e-01</td>\n",
       "      <td>1.000000e-01</td>\n",
       "      <td>0</td>\n",
       "    </tr>\n",
       "  </tbody>\n",
       "</table>\n",
       "</div>"
      ],
      "text/plain": [
       "                  pf_acetate        pf_4HB  pf_stationary\n",
       "rxn                                                      \n",
       "EX_cpd00001_e0  4.533296e+00  2.449417e+00              0\n",
       "EX_cpd00007_e0 -2.025521e+00 -5.333032e+00              0\n",
       "EX_cpd00009_e0 -7.625410e-02 -7.625410e-02              0\n",
       "EX_cpd00011_e0  2.377641e+00  5.685222e+00              0\n",
       "EX_cpd00012_e0  0.000000e+00 -8.351191e-15              0\n",
       "EX_cpd00013_e0 -8.611666e-01 -8.611666e-01              0\n",
       "EX_cpd00029_e0 -3.063614e+00  0.000000e+00              0\n",
       "EX_cpd00030_e0 -2.806159e-04 -2.806159e-04              0\n",
       "EX_cpd00034_e0 -2.806159e-04 -2.806159e-04              0\n",
       "EX_cpd00048_e0 -2.263972e-02 -2.263972e-02              0\n",
       "EX_cpd00058_e0 -2.806159e-04 -2.806159e-04              0\n",
       "EX_cpd00063_e0 -2.806159e-04 -2.806159e-04              0\n",
       "EX_cpd00067_e0 -2.411719e+00 -2.043484e+00              0\n",
       "EX_cpd00099_e0 -2.806159e-04 -2.806159e-04              0\n",
       "EX_cpd00116_e0  2.806159e-04  2.806159e-04              0\n",
       "EX_cpd00136_e0  0.000000e+00 -1.347830e+00              0\n",
       "EX_cpd00149_e0 -2.806159e-04 -2.806159e-04              0\n",
       "EX_cpd00205_e0 -2.806159e-04 -2.806159e-04              0\n",
       "EX_cpd00239_e0  0.000000e+00  2.180846e-14              0\n",
       "EX_cpd00254_e0 -2.806159e-04 -2.806159e-04              0\n",
       "EX_cpd10515_e0 -1.122464e-03 -8.418477e-04              0\n",
       "EX_cpd10516_e0 -1.132427e-12 -2.806159e-04              0\n",
       "bio             1.000000e-01  1.000000e-01              0"
      ]
     },
     "metadata": {},
     "output_type": "display_data"
    },
    {
     "data": {
      "text/html": [
       "<div>\n",
       "<style scoped>\n",
       "    .dataframe tbody tr th:only-of-type {\n",
       "        vertical-align: middle;\n",
       "    }\n",
       "\n",
       "    .dataframe tbody tr th {\n",
       "        vertical-align: top;\n",
       "    }\n",
       "\n",
       "    .dataframe thead th {\n",
       "        text-align: right;\n",
       "    }\n",
       "</style>\n",
       "<table border=\"1\" class=\"dataframe\">\n",
       "  <thead>\n",
       "    <tr style=\"text-align: right;\">\n",
       "      <th></th>\n",
       "      <th>condition</th>\n",
       "      <th>ModelSEED_ID</th>\n",
       "      <th>strain</th>\n",
       "      <th>date</th>\n",
       "    </tr>\n",
       "    <tr>\n",
       "      <th>short_code</th>\n",
       "      <th></th>\n",
       "      <th></th>\n",
       "      <th></th>\n",
       "      <th></th>\n",
       "    </tr>\n",
       "  </thead>\n",
       "  <tbody>\n",
       "    <tr>\n",
       "      <th>B1</th>\n",
       "      <td>Negative Control</td>\n",
       "      <td></td>\n",
       "      <td>P. fluorescens</td>\n",
       "      <td>Sep 12, 22</td>\n",
       "    </tr>\n",
       "    <tr>\n",
       "      <th>B2</th>\n",
       "      <td>Dextrin</td>\n",
       "      <td>cpd11594</td>\n",
       "      <td>P. fluorescens</td>\n",
       "      <td>Sep 12, 22</td>\n",
       "    </tr>\n",
       "    <tr>\n",
       "      <th>B3</th>\n",
       "      <td>D-Maltose</td>\n",
       "      <td>cpd00179</td>\n",
       "      <td>P. fluorescens</td>\n",
       "      <td>Sep 12, 22</td>\n",
       "    </tr>\n",
       "    <tr>\n",
       "      <th>B4</th>\n",
       "      <td>D-Trehalose</td>\n",
       "      <td>cpd00523</td>\n",
       "      <td>P. fluorescens</td>\n",
       "      <td>Sep 12, 22</td>\n",
       "    </tr>\n",
       "    <tr>\n",
       "      <th>B5</th>\n",
       "      <td>D-Cellobiose</td>\n",
       "      <td>cpd03844</td>\n",
       "      <td>P. fluorescens</td>\n",
       "      <td>Sep 12, 22</td>\n",
       "    </tr>\n",
       "    <tr>\n",
       "      <th>B6</th>\n",
       "      <td>Gentiobiose</td>\n",
       "      <td>cpd05158</td>\n",
       "      <td>P. fluorescens</td>\n",
       "      <td>Sep 12, 22</td>\n",
       "    </tr>\n",
       "    <tr>\n",
       "      <th>B7</th>\n",
       "      <td>Sucrose</td>\n",
       "      <td>cpd00076</td>\n",
       "      <td>P. fluorescens</td>\n",
       "      <td>Sep 12, 22</td>\n",
       "    </tr>\n",
       "    <tr>\n",
       "      <th>B8</th>\n",
       "      <td>D-Turanose</td>\n",
       "      <td>cpd20885</td>\n",
       "      <td>P. fluorescens</td>\n",
       "      <td>Sep 12, 22</td>\n",
       "    </tr>\n",
       "    <tr>\n",
       "      <th>B9</th>\n",
       "      <td>Stachyose</td>\n",
       "      <td>cpd01133</td>\n",
       "      <td>P. fluorescens</td>\n",
       "      <td>Sep 12, 22</td>\n",
       "    </tr>\n",
       "    <tr>\n",
       "      <th>B10</th>\n",
       "      <td>Positive Control</td>\n",
       "      <td>cpd00027</td>\n",
       "      <td>P. fluorescens</td>\n",
       "      <td>Sep 12, 22</td>\n",
       "    </tr>\n",
       "    <tr>\n",
       "      <th>B11</th>\n",
       "      <td>pH 6</td>\n",
       "      <td>cpd00067</td>\n",
       "      <td>P. fluorescens</td>\n",
       "      <td>Sep 12, 22</td>\n",
       "    </tr>\n",
       "    <tr>\n",
       "      <th>B12</th>\n",
       "      <td>pH 5</td>\n",
       "      <td>cpd00067</td>\n",
       "      <td>P. fluorescens</td>\n",
       "      <td>Sep 12, 22</td>\n",
       "    </tr>\n",
       "    <tr>\n",
       "      <th>B13</th>\n",
       "      <td>D-Raffinose</td>\n",
       "      <td>cpd30716</td>\n",
       "      <td>P. fluorescens</td>\n",
       "      <td>Sep 12, 22</td>\n",
       "    </tr>\n",
       "    <tr>\n",
       "      <th>B14</th>\n",
       "      <td>alpha-D-Lactose</td>\n",
       "      <td>cpd01354</td>\n",
       "      <td>P. fluorescens</td>\n",
       "      <td>Sep 12, 22</td>\n",
       "    </tr>\n",
       "    <tr>\n",
       "      <th>B15</th>\n",
       "      <td>D-Melibiose</td>\n",
       "      <td>cpd03198</td>\n",
       "      <td>P. fluorescens</td>\n",
       "      <td>Sep 12, 22</td>\n",
       "    </tr>\n",
       "    <tr>\n",
       "      <th>B16</th>\n",
       "      <td>beta-Methyl-D-Glucoside</td>\n",
       "      <td>cpd00710</td>\n",
       "      <td>P. fluorescens</td>\n",
       "      <td>Sep 12, 22</td>\n",
       "    </tr>\n",
       "    <tr>\n",
       "      <th>B17</th>\n",
       "      <td>D-Salicin</td>\n",
       "      <td>cpd01030</td>\n",
       "      <td>P. fluorescens</td>\n",
       "      <td>Sep 12, 22</td>\n",
       "    </tr>\n",
       "    <tr>\n",
       "      <th>B18</th>\n",
       "      <td>N-Acetyl-D-Glucosamine</td>\n",
       "      <td>cpd00122</td>\n",
       "      <td>P. fluorescens</td>\n",
       "      <td>Sep 12, 22</td>\n",
       "    </tr>\n",
       "    <tr>\n",
       "      <th>B19</th>\n",
       "      <td>N-Acetyl-beta-Mannosamine</td>\n",
       "      <td>cpd00492</td>\n",
       "      <td>P. fluorescens</td>\n",
       "      <td>Sep 12, 22</td>\n",
       "    </tr>\n",
       "    <tr>\n",
       "      <th>B20</th>\n",
       "      <td>N-Acetyl-D-Galactosamine</td>\n",
       "      <td>cpd00175</td>\n",
       "      <td>P. fluorescens</td>\n",
       "      <td>Sep 12, 22</td>\n",
       "    </tr>\n",
       "    <tr>\n",
       "      <th>B21</th>\n",
       "      <td>N-Acetyl-Neuraminic Acid</td>\n",
       "      <td>cpd03885</td>\n",
       "      <td>P. fluorescens</td>\n",
       "      <td>Sep 12, 22</td>\n",
       "    </tr>\n",
       "    <tr>\n",
       "      <th>B22</th>\n",
       "      <td>1% NaCl</td>\n",
       "      <td></td>\n",
       "      <td>P. fluorescens</td>\n",
       "      <td>Sep 12, 22</td>\n",
       "    </tr>\n",
       "    <tr>\n",
       "      <th>B23</th>\n",
       "      <td>4% NaCl</td>\n",
       "      <td></td>\n",
       "      <td>P. fluorescens</td>\n",
       "      <td>Sep 12, 22</td>\n",
       "    </tr>\n",
       "    <tr>\n",
       "      <th>B24</th>\n",
       "      <td>8% NaCl</td>\n",
       "      <td></td>\n",
       "      <td>P. fluorescens</td>\n",
       "      <td>Sep 12, 22</td>\n",
       "    </tr>\n",
       "    <tr>\n",
       "      <th>B25</th>\n",
       "      <td>alpha-D-Glucose</td>\n",
       "      <td>cpd00190</td>\n",
       "      <td>P. fluorescens</td>\n",
       "      <td>Sep 12, 22</td>\n",
       "    </tr>\n",
       "    <tr>\n",
       "      <th>B26</th>\n",
       "      <td>D-Mannose</td>\n",
       "      <td>cpd00138</td>\n",
       "      <td>P. fluorescens</td>\n",
       "      <td>Sep 12, 22</td>\n",
       "    </tr>\n",
       "    <tr>\n",
       "      <th>B27</th>\n",
       "      <td>D-Fructose</td>\n",
       "      <td>cpd00082</td>\n",
       "      <td>P. fluorescens</td>\n",
       "      <td>Sep 12, 22</td>\n",
       "    </tr>\n",
       "    <tr>\n",
       "      <th>B28</th>\n",
       "      <td>D-Galactose</td>\n",
       "      <td>cpd00709</td>\n",
       "      <td>P. fluorescens</td>\n",
       "      <td>Sep 12, 22</td>\n",
       "    </tr>\n",
       "    <tr>\n",
       "      <th>B29</th>\n",
       "      <td>3-Methyl Glucose</td>\n",
       "      <td></td>\n",
       "      <td>P. fluorescens</td>\n",
       "      <td>Sep 12, 22</td>\n",
       "    </tr>\n",
       "    <tr>\n",
       "      <th>B30</th>\n",
       "      <td>D-Fucose</td>\n",
       "      <td>cpd00750</td>\n",
       "      <td>P. fluorescens</td>\n",
       "      <td>Sep 12, 22</td>\n",
       "    </tr>\n",
       "    <tr>\n",
       "      <th>B31</th>\n",
       "      <td>L-Fucose</td>\n",
       "      <td>cpd00751</td>\n",
       "      <td>P. fluorescens</td>\n",
       "      <td>Sep 12, 22</td>\n",
       "    </tr>\n",
       "    <tr>\n",
       "      <th>B32</th>\n",
       "      <td>L-Rhamnose</td>\n",
       "      <td>cpd00396</td>\n",
       "      <td>P. fluorescens</td>\n",
       "      <td>Sep 12, 22</td>\n",
       "    </tr>\n",
       "    <tr>\n",
       "      <th>B33</th>\n",
       "      <td>Inosine</td>\n",
       "      <td>cpd00246</td>\n",
       "      <td>P. fluorescens</td>\n",
       "      <td>Sep 12, 22</td>\n",
       "    </tr>\n",
       "    <tr>\n",
       "      <th>B34</th>\n",
       "      <td>1% Sodium Lactate</td>\n",
       "      <td>cpd00159</td>\n",
       "      <td>P. fluorescens</td>\n",
       "      <td>Sep 12, 22</td>\n",
       "    </tr>\n",
       "    <tr>\n",
       "      <th>B35</th>\n",
       "      <td>Fusidic Acid</td>\n",
       "      <td>cpd04095</td>\n",
       "      <td>P. fluorescens</td>\n",
       "      <td>Sep 12, 22</td>\n",
       "    </tr>\n",
       "    <tr>\n",
       "      <th>B36</th>\n",
       "      <td>D-Serine</td>\n",
       "      <td>cpd00550</td>\n",
       "      <td>P. fluorescens</td>\n",
       "      <td>Sep 12, 22</td>\n",
       "    </tr>\n",
       "    <tr>\n",
       "      <th>B37</th>\n",
       "      <td>D-Sorbitol</td>\n",
       "      <td>cpd00588</td>\n",
       "      <td>P. fluorescens</td>\n",
       "      <td>Sep 12, 22</td>\n",
       "    </tr>\n",
       "    <tr>\n",
       "      <th>B38</th>\n",
       "      <td>D-Mannitol</td>\n",
       "      <td>cpd00314</td>\n",
       "      <td>P. fluorescens</td>\n",
       "      <td>Sep 12, 22</td>\n",
       "    </tr>\n",
       "    <tr>\n",
       "      <th>B39</th>\n",
       "      <td>D-Arabitol</td>\n",
       "      <td>cpd23223</td>\n",
       "      <td>P. fluorescens</td>\n",
       "      <td>Sep 12, 22</td>\n",
       "    </tr>\n",
       "    <tr>\n",
       "      <th>B40</th>\n",
       "      <td>myo-Inositol</td>\n",
       "      <td>cpd02296</td>\n",
       "      <td>P. fluorescens</td>\n",
       "      <td>Sep 12, 22</td>\n",
       "    </tr>\n",
       "    <tr>\n",
       "      <th>B41</th>\n",
       "      <td>Glycerol</td>\n",
       "      <td>cpd00100</td>\n",
       "      <td>P. fluorescens</td>\n",
       "      <td>Sep 12, 22</td>\n",
       "    </tr>\n",
       "    <tr>\n",
       "      <th>B42</th>\n",
       "      <td>D-Glucose-6-PO4</td>\n",
       "      <td></td>\n",
       "      <td>P. fluorescens</td>\n",
       "      <td>Sep 12, 22</td>\n",
       "    </tr>\n",
       "    <tr>\n",
       "      <th>B43</th>\n",
       "      <td>D-Fructose-6-PO4</td>\n",
       "      <td>cpd00079</td>\n",
       "      <td>P. fluorescens</td>\n",
       "      <td>Sep 12, 22</td>\n",
       "    </tr>\n",
       "    <tr>\n",
       "      <th>B44</th>\n",
       "      <td>D-Aspartic Acid</td>\n",
       "      <td>cpd00320</td>\n",
       "      <td>P. fluorescens</td>\n",
       "      <td>Sep 12, 22</td>\n",
       "    </tr>\n",
       "    <tr>\n",
       "      <th>B45</th>\n",
       "      <td>D-Serine</td>\n",
       "      <td>cpd00550</td>\n",
       "      <td>P. fluorescens</td>\n",
       "      <td>Sep 12, 22</td>\n",
       "    </tr>\n",
       "    <tr>\n",
       "      <th>B46</th>\n",
       "      <td>Troleandomycin</td>\n",
       "      <td>cpd09300</td>\n",
       "      <td>P. fluorescens</td>\n",
       "      <td>Sep 12, 22</td>\n",
       "    </tr>\n",
       "    <tr>\n",
       "      <th>B47</th>\n",
       "      <td>Rifamycin SV</td>\n",
       "      <td>cpd08835</td>\n",
       "      <td>P. fluorescens</td>\n",
       "      <td>Sep 12, 22</td>\n",
       "    </tr>\n",
       "    <tr>\n",
       "      <th>B48</th>\n",
       "      <td>Minocycline</td>\n",
       "      <td>cpd04461</td>\n",
       "      <td>P. fluorescens</td>\n",
       "      <td>Sep 12, 22</td>\n",
       "    </tr>\n",
       "    <tr>\n",
       "      <th>B49</th>\n",
       "      <td>Gelatin</td>\n",
       "      <td></td>\n",
       "      <td>P. fluorescens</td>\n",
       "      <td>Sep 12, 22</td>\n",
       "    </tr>\n",
       "    <tr>\n",
       "      <th>B50</th>\n",
       "      <td>Glycyl-L-Proline</td>\n",
       "      <td>cpd00129</td>\n",
       "      <td>P. fluorescens</td>\n",
       "      <td>Sep 12, 22</td>\n",
       "    </tr>\n",
       "    <tr>\n",
       "      <th>B51</th>\n",
       "      <td>L-Alanine</td>\n",
       "      <td>cpd00035</td>\n",
       "      <td>P. fluorescens</td>\n",
       "      <td>Sep 12, 22</td>\n",
       "    </tr>\n",
       "    <tr>\n",
       "      <th>B52</th>\n",
       "      <td>L-Arginine</td>\n",
       "      <td>cpd00051</td>\n",
       "      <td>P. fluorescens</td>\n",
       "      <td>Sep 12, 22</td>\n",
       "    </tr>\n",
       "    <tr>\n",
       "      <th>B53</th>\n",
       "      <td>L-Aspartic Acid</td>\n",
       "      <td>cpd00041</td>\n",
       "      <td>P. fluorescens</td>\n",
       "      <td>Sep 12, 22</td>\n",
       "    </tr>\n",
       "    <tr>\n",
       "      <th>B54</th>\n",
       "      <td>L-Glutamic Acid</td>\n",
       "      <td>cpd00023</td>\n",
       "      <td>P. fluorescens</td>\n",
       "      <td>Sep 12, 22</td>\n",
       "    </tr>\n",
       "    <tr>\n",
       "      <th>B55</th>\n",
       "      <td>L-Histidine</td>\n",
       "      <td>cpd00119</td>\n",
       "      <td>P. fluorescens</td>\n",
       "      <td>Sep 12, 22</td>\n",
       "    </tr>\n",
       "    <tr>\n",
       "      <th>B56</th>\n",
       "      <td>L-Pyroglutamic Acid</td>\n",
       "      <td></td>\n",
       "      <td>P. fluorescens</td>\n",
       "      <td>Sep 12, 22</td>\n",
       "    </tr>\n",
       "    <tr>\n",
       "      <th>B57</th>\n",
       "      <td>L-Serine</td>\n",
       "      <td>cpd00054</td>\n",
       "      <td>P. fluorescens</td>\n",
       "      <td>Sep 12, 22</td>\n",
       "    </tr>\n",
       "    <tr>\n",
       "      <th>B58</th>\n",
       "      <td>Lincomycin</td>\n",
       "      <td>cpd04183</td>\n",
       "      <td>P. fluorescens</td>\n",
       "      <td>Sep 12, 22</td>\n",
       "    </tr>\n",
       "    <tr>\n",
       "      <th>B59</th>\n",
       "      <td>Guanidine HCl</td>\n",
       "      <td>cpd19240</td>\n",
       "      <td>P. fluorescens</td>\n",
       "      <td>Sep 12, 22</td>\n",
       "    </tr>\n",
       "    <tr>\n",
       "      <th>B60</th>\n",
       "      <td>Niaproof 4</td>\n",
       "      <td></td>\n",
       "      <td>P. fluorescens</td>\n",
       "      <td>Sep 12, 22</td>\n",
       "    </tr>\n",
       "    <tr>\n",
       "      <th>B61</th>\n",
       "      <td>Pectin</td>\n",
       "      <td>cpd11601</td>\n",
       "      <td>P. fluorescens</td>\n",
       "      <td>Sep 12, 22</td>\n",
       "    </tr>\n",
       "    <tr>\n",
       "      <th>B62</th>\n",
       "      <td>D-Galacturonic Acid</td>\n",
       "      <td>cpd17605</td>\n",
       "      <td>P. fluorescens</td>\n",
       "      <td>Sep 12, 22</td>\n",
       "    </tr>\n",
       "    <tr>\n",
       "      <th>B63</th>\n",
       "      <td>L-Galactonic Acid Lactone</td>\n",
       "      <td>cpd14659</td>\n",
       "      <td>P. fluorescens</td>\n",
       "      <td>Sep 12, 22</td>\n",
       "    </tr>\n",
       "    <tr>\n",
       "      <th>B64</th>\n",
       "      <td>D-Gluconic Acid</td>\n",
       "      <td>cpd32827</td>\n",
       "      <td>P. fluorescens</td>\n",
       "      <td>Sep 12, 22</td>\n",
       "    </tr>\n",
       "    <tr>\n",
       "      <th>B65</th>\n",
       "      <td>D-Glucuronic Acid</td>\n",
       "      <td>cpd00164</td>\n",
       "      <td>P. fluorescens</td>\n",
       "      <td>Sep 12, 22</td>\n",
       "    </tr>\n",
       "    <tr>\n",
       "      <th>B66</th>\n",
       "      <td>Glucuronamide</td>\n",
       "      <td>cpd26269</td>\n",
       "      <td>P. fluorescens</td>\n",
       "      <td>Sep 12, 22</td>\n",
       "    </tr>\n",
       "    <tr>\n",
       "      <th>B67</th>\n",
       "      <td>Mucic Acid</td>\n",
       "      <td>cpd00652</td>\n",
       "      <td>P. fluorescens</td>\n",
       "      <td>Sep 12, 22</td>\n",
       "    </tr>\n",
       "    <tr>\n",
       "      <th>B68</th>\n",
       "      <td>Quinic Acid</td>\n",
       "      <td>cpd00248</td>\n",
       "      <td>P. fluorescens</td>\n",
       "      <td>Sep 12, 22</td>\n",
       "    </tr>\n",
       "    <tr>\n",
       "      <th>B69</th>\n",
       "      <td>D-Saccharic Acid</td>\n",
       "      <td>cpd00571</td>\n",
       "      <td>P. fluorescens</td>\n",
       "      <td>Sep 12, 22</td>\n",
       "    </tr>\n",
       "    <tr>\n",
       "      <th>B70</th>\n",
       "      <td>Vancomycin</td>\n",
       "      <td>cpd04090</td>\n",
       "      <td>P. fluorescens</td>\n",
       "      <td>Sep 12, 22</td>\n",
       "    </tr>\n",
       "    <tr>\n",
       "      <th>B71</th>\n",
       "      <td>Tetrazolium Violet</td>\n",
       "      <td>cpd22643</td>\n",
       "      <td>P. fluorescens</td>\n",
       "      <td>Sep 12, 22</td>\n",
       "    </tr>\n",
       "    <tr>\n",
       "      <th>B72</th>\n",
       "      <td>Tetrazolium Blue</td>\n",
       "      <td>cpd09447</td>\n",
       "      <td>P. fluorescens</td>\n",
       "      <td>Sep 12, 22</td>\n",
       "    </tr>\n",
       "    <tr>\n",
       "      <th>B73</th>\n",
       "      <td>p-Hydroxy-Phenylacetic Acid</td>\n",
       "      <td>cpd19069</td>\n",
       "      <td>P. fluorescens</td>\n",
       "      <td>Sep 12, 22</td>\n",
       "    </tr>\n",
       "    <tr>\n",
       "      <th>B74</th>\n",
       "      <td>Methyl Pyruvate</td>\n",
       "      <td>cpd24420</td>\n",
       "      <td>P. fluorescens</td>\n",
       "      <td>Sep 12, 22</td>\n",
       "    </tr>\n",
       "    <tr>\n",
       "      <th>B75</th>\n",
       "      <td>D-Lactic Acid Methyl Ester</td>\n",
       "      <td>cpd24428</td>\n",
       "      <td>P. fluorescens</td>\n",
       "      <td>Sep 12, 22</td>\n",
       "    </tr>\n",
       "    <tr>\n",
       "      <th>B76</th>\n",
       "      <td>L-Lactic Acid</td>\n",
       "      <td>cpd00159</td>\n",
       "      <td>P. fluorescens</td>\n",
       "      <td>Sep 12, 22</td>\n",
       "    </tr>\n",
       "    <tr>\n",
       "      <th>B77</th>\n",
       "      <td>Citric Acid</td>\n",
       "      <td>cpd00137</td>\n",
       "      <td>P. fluorescens</td>\n",
       "      <td>Sep 12, 22</td>\n",
       "    </tr>\n",
       "    <tr>\n",
       "      <th>B78</th>\n",
       "      <td>alpha-Keto-Glutaric Acid</td>\n",
       "      <td>cpd00024</td>\n",
       "      <td>P. fluorescens</td>\n",
       "      <td>Sep 12, 22</td>\n",
       "    </tr>\n",
       "    <tr>\n",
       "      <th>B79</th>\n",
       "      <td>D-Malic Acid</td>\n",
       "      <td>cpd00386</td>\n",
       "      <td>P. fluorescens</td>\n",
       "      <td>Sep 12, 22</td>\n",
       "    </tr>\n",
       "    <tr>\n",
       "      <th>B80</th>\n",
       "      <td>L-Malic Acid</td>\n",
       "      <td>cpd00130</td>\n",
       "      <td>P. fluorescens</td>\n",
       "      <td>Sep 12, 22</td>\n",
       "    </tr>\n",
       "    <tr>\n",
       "      <th>B81</th>\n",
       "      <td>Bromo-Succinic Acid</td>\n",
       "      <td>cpd23859</td>\n",
       "      <td>P. fluorescens</td>\n",
       "      <td>Sep 12, 22</td>\n",
       "    </tr>\n",
       "    <tr>\n",
       "      <th>B82</th>\n",
       "      <td>Nalidixic Acid</td>\n",
       "      <td>cpd03031</td>\n",
       "      <td>P. fluorescens</td>\n",
       "      <td>Sep 12, 22</td>\n",
       "    </tr>\n",
       "    <tr>\n",
       "      <th>B83</th>\n",
       "      <td>Lithium Chloride</td>\n",
       "      <td></td>\n",
       "      <td>P. fluorescens</td>\n",
       "      <td>Sep 12, 22</td>\n",
       "    </tr>\n",
       "    <tr>\n",
       "      <th>B84</th>\n",
       "      <td>Potassium Tellurite</td>\n",
       "      <td></td>\n",
       "      <td>P. fluorescens</td>\n",
       "      <td>Sep 12, 22</td>\n",
       "    </tr>\n",
       "    <tr>\n",
       "      <th>B85</th>\n",
       "      <td>Tween 40</td>\n",
       "      <td>cpd24417</td>\n",
       "      <td>P. fluorescens</td>\n",
       "      <td>Sep 12, 22</td>\n",
       "    </tr>\n",
       "    <tr>\n",
       "      <th>B86</th>\n",
       "      <td>gamma-Amino-Butyric Acid</td>\n",
       "      <td>cpd00281</td>\n",
       "      <td>P. fluorescens</td>\n",
       "      <td>Sep 12, 22</td>\n",
       "    </tr>\n",
       "    <tr>\n",
       "      <th>B87</th>\n",
       "      <td>alpha-Hydroxy-D,L-Butyric Acid</td>\n",
       "      <td>cpd03561</td>\n",
       "      <td>P. fluorescens</td>\n",
       "      <td>Sep 12, 22</td>\n",
       "    </tr>\n",
       "    <tr>\n",
       "      <th>B88</th>\n",
       "      <td>beta-Hydroxy-D,L-Butyric Acid</td>\n",
       "      <td>cpd29193</td>\n",
       "      <td>P. fluorescens</td>\n",
       "      <td>Sep 12, 22</td>\n",
       "    </tr>\n",
       "    <tr>\n",
       "      <th>B89</th>\n",
       "      <td>alpha-Keto-Butyric Acid</td>\n",
       "      <td>cpd26078</td>\n",
       "      <td>P. fluorescens</td>\n",
       "      <td>Sep 12, 22</td>\n",
       "    </tr>\n",
       "    <tr>\n",
       "      <th>B90</th>\n",
       "      <td>Acetoacetic Acid</td>\n",
       "      <td>cpd00142</td>\n",
       "      <td>P. fluorescens</td>\n",
       "      <td>Sep 12, 22</td>\n",
       "    </tr>\n",
       "    <tr>\n",
       "      <th>B91</th>\n",
       "      <td>Propionic Acid</td>\n",
       "      <td>cpd00141</td>\n",
       "      <td>P. fluorescens</td>\n",
       "      <td>Sep 12, 22</td>\n",
       "    </tr>\n",
       "    <tr>\n",
       "      <th>B92</th>\n",
       "      <td>Acetic Acid</td>\n",
       "      <td>cpd00029</td>\n",
       "      <td>P. fluorescens</td>\n",
       "      <td>Sep 12, 22</td>\n",
       "    </tr>\n",
       "    <tr>\n",
       "      <th>B93</th>\n",
       "      <td>Formic Acid</td>\n",
       "      <td>cpd00047</td>\n",
       "      <td>P. fluorescens</td>\n",
       "      <td>Sep 12, 22</td>\n",
       "    </tr>\n",
       "    <tr>\n",
       "      <th>B94</th>\n",
       "      <td>Aztreonam</td>\n",
       "      <td>cpd04201</td>\n",
       "      <td>P. fluorescens</td>\n",
       "      <td>Sep 12, 22</td>\n",
       "    </tr>\n",
       "    <tr>\n",
       "      <th>B95</th>\n",
       "      <td>Sodium Butyrate</td>\n",
       "      <td></td>\n",
       "      <td>P. fluorescens</td>\n",
       "      <td>Sep 12, 22</td>\n",
       "    </tr>\n",
       "    <tr>\n",
       "      <th>B96</th>\n",
       "      <td>Sodium Bromate</td>\n",
       "      <td></td>\n",
       "      <td>P. fluorescens</td>\n",
       "      <td>Sep 12, 22</td>\n",
       "    </tr>\n",
       "  </tbody>\n",
       "</table>\n",
       "</div>"
      ],
      "text/plain": [
       "                                 condition ModelSEED_ID          strain  \\\n",
       "short_code                                                                \n",
       "B1                        Negative Control               P. fluorescens   \n",
       "B2                                 Dextrin     cpd11594  P. fluorescens   \n",
       "B3                               D-Maltose     cpd00179  P. fluorescens   \n",
       "B4                             D-Trehalose     cpd00523  P. fluorescens   \n",
       "B5                            D-Cellobiose     cpd03844  P. fluorescens   \n",
       "B6                             Gentiobiose     cpd05158  P. fluorescens   \n",
       "B7                                 Sucrose     cpd00076  P. fluorescens   \n",
       "B8                              D-Turanose     cpd20885  P. fluorescens   \n",
       "B9                               Stachyose     cpd01133  P. fluorescens   \n",
       "B10                       Positive Control     cpd00027  P. fluorescens   \n",
       "B11                                   pH 6     cpd00067  P. fluorescens   \n",
       "B12                                   pH 5     cpd00067  P. fluorescens   \n",
       "B13                            D-Raffinose     cpd30716  P. fluorescens   \n",
       "B14                        alpha-D-Lactose     cpd01354  P. fluorescens   \n",
       "B15                            D-Melibiose     cpd03198  P. fluorescens   \n",
       "B16                beta-Methyl-D-Glucoside     cpd00710  P. fluorescens   \n",
       "B17                              D-Salicin     cpd01030  P. fluorescens   \n",
       "B18                 N-Acetyl-D-Glucosamine     cpd00122  P. fluorescens   \n",
       "B19              N-Acetyl-beta-Mannosamine     cpd00492  P. fluorescens   \n",
       "B20               N-Acetyl-D-Galactosamine     cpd00175  P. fluorescens   \n",
       "B21               N-Acetyl-Neuraminic Acid     cpd03885  P. fluorescens   \n",
       "B22                                1% NaCl               P. fluorescens   \n",
       "B23                                4% NaCl               P. fluorescens   \n",
       "B24                                8% NaCl               P. fluorescens   \n",
       "B25                        alpha-D-Glucose     cpd00190  P. fluorescens   \n",
       "B26                              D-Mannose     cpd00138  P. fluorescens   \n",
       "B27                             D-Fructose     cpd00082  P. fluorescens   \n",
       "B28                            D-Galactose     cpd00709  P. fluorescens   \n",
       "B29                       3-Methyl Glucose               P. fluorescens   \n",
       "B30                               D-Fucose     cpd00750  P. fluorescens   \n",
       "B31                               L-Fucose     cpd00751  P. fluorescens   \n",
       "B32                             L-Rhamnose     cpd00396  P. fluorescens   \n",
       "B33                                Inosine     cpd00246  P. fluorescens   \n",
       "B34                      1% Sodium Lactate     cpd00159  P. fluorescens   \n",
       "B35                           Fusidic Acid     cpd04095  P. fluorescens   \n",
       "B36                               D-Serine     cpd00550  P. fluorescens   \n",
       "B37                             D-Sorbitol     cpd00588  P. fluorescens   \n",
       "B38                             D-Mannitol     cpd00314  P. fluorescens   \n",
       "B39                             D-Arabitol     cpd23223  P. fluorescens   \n",
       "B40                           myo-Inositol     cpd02296  P. fluorescens   \n",
       "B41                               Glycerol     cpd00100  P. fluorescens   \n",
       "B42                        D-Glucose-6-PO4               P. fluorescens   \n",
       "B43                       D-Fructose-6-PO4     cpd00079  P. fluorescens   \n",
       "B44                        D-Aspartic Acid     cpd00320  P. fluorescens   \n",
       "B45                               D-Serine     cpd00550  P. fluorescens   \n",
       "B46                         Troleandomycin     cpd09300  P. fluorescens   \n",
       "B47                           Rifamycin SV     cpd08835  P. fluorescens   \n",
       "B48                            Minocycline     cpd04461  P. fluorescens   \n",
       "B49                                Gelatin               P. fluorescens   \n",
       "B50                       Glycyl-L-Proline     cpd00129  P. fluorescens   \n",
       "B51                              L-Alanine     cpd00035  P. fluorescens   \n",
       "B52                             L-Arginine     cpd00051  P. fluorescens   \n",
       "B53                        L-Aspartic Acid     cpd00041  P. fluorescens   \n",
       "B54                        L-Glutamic Acid     cpd00023  P. fluorescens   \n",
       "B55                            L-Histidine     cpd00119  P. fluorescens   \n",
       "B56                    L-Pyroglutamic Acid               P. fluorescens   \n",
       "B57                               L-Serine     cpd00054  P. fluorescens   \n",
       "B58                             Lincomycin     cpd04183  P. fluorescens   \n",
       "B59                          Guanidine HCl     cpd19240  P. fluorescens   \n",
       "B60                             Niaproof 4               P. fluorescens   \n",
       "B61                                 Pectin     cpd11601  P. fluorescens   \n",
       "B62                    D-Galacturonic Acid     cpd17605  P. fluorescens   \n",
       "B63              L-Galactonic Acid Lactone     cpd14659  P. fluorescens   \n",
       "B64                        D-Gluconic Acid     cpd32827  P. fluorescens   \n",
       "B65                      D-Glucuronic Acid     cpd00164  P. fluorescens   \n",
       "B66                          Glucuronamide     cpd26269  P. fluorescens   \n",
       "B67                             Mucic Acid     cpd00652  P. fluorescens   \n",
       "B68                            Quinic Acid     cpd00248  P. fluorescens   \n",
       "B69                       D-Saccharic Acid     cpd00571  P. fluorescens   \n",
       "B70                             Vancomycin     cpd04090  P. fluorescens   \n",
       "B71                     Tetrazolium Violet     cpd22643  P. fluorescens   \n",
       "B72                       Tetrazolium Blue     cpd09447  P. fluorescens   \n",
       "B73            p-Hydroxy-Phenylacetic Acid     cpd19069  P. fluorescens   \n",
       "B74                        Methyl Pyruvate     cpd24420  P. fluorescens   \n",
       "B75             D-Lactic Acid Methyl Ester     cpd24428  P. fluorescens   \n",
       "B76                          L-Lactic Acid     cpd00159  P. fluorescens   \n",
       "B77                            Citric Acid     cpd00137  P. fluorescens   \n",
       "B78               alpha-Keto-Glutaric Acid     cpd00024  P. fluorescens   \n",
       "B79                           D-Malic Acid     cpd00386  P. fluorescens   \n",
       "B80                           L-Malic Acid     cpd00130  P. fluorescens   \n",
       "B81                    Bromo-Succinic Acid     cpd23859  P. fluorescens   \n",
       "B82                         Nalidixic Acid     cpd03031  P. fluorescens   \n",
       "B83                       Lithium Chloride               P. fluorescens   \n",
       "B84                    Potassium Tellurite               P. fluorescens   \n",
       "B85                               Tween 40     cpd24417  P. fluorescens   \n",
       "B86               gamma-Amino-Butyric Acid     cpd00281  P. fluorescens   \n",
       "B87         alpha-Hydroxy-D,L-Butyric Acid     cpd03561  P. fluorescens   \n",
       "B88          beta-Hydroxy-D,L-Butyric Acid     cpd29193  P. fluorescens   \n",
       "B89                alpha-Keto-Butyric Acid     cpd26078  P. fluorescens   \n",
       "B90                       Acetoacetic Acid     cpd00142  P. fluorescens   \n",
       "B91                         Propionic Acid     cpd00141  P. fluorescens   \n",
       "B92                            Acetic Acid     cpd00029  P. fluorescens   \n",
       "B93                            Formic Acid     cpd00047  P. fluorescens   \n",
       "B94                              Aztreonam     cpd04201  P. fluorescens   \n",
       "B95                        Sodium Butyrate               P. fluorescens   \n",
       "B96                         Sodium Bromate               P. fluorescens   \n",
       "\n",
       "                  date  \n",
       "short_code              \n",
       "B1          Sep 12, 22  \n",
       "B2          Sep 12, 22  \n",
       "B3          Sep 12, 22  \n",
       "B4          Sep 12, 22  \n",
       "B5          Sep 12, 22  \n",
       "B6          Sep 12, 22  \n",
       "B7          Sep 12, 22  \n",
       "B8          Sep 12, 22  \n",
       "B9          Sep 12, 22  \n",
       "B10         Sep 12, 22  \n",
       "B11         Sep 12, 22  \n",
       "B12         Sep 12, 22  \n",
       "B13         Sep 12, 22  \n",
       "B14         Sep 12, 22  \n",
       "B15         Sep 12, 22  \n",
       "B16         Sep 12, 22  \n",
       "B17         Sep 12, 22  \n",
       "B18         Sep 12, 22  \n",
       "B19         Sep 12, 22  \n",
       "B20         Sep 12, 22  \n",
       "B21         Sep 12, 22  \n",
       "B22         Sep 12, 22  \n",
       "B23         Sep 12, 22  \n",
       "B24         Sep 12, 22  \n",
       "B25         Sep 12, 22  \n",
       "B26         Sep 12, 22  \n",
       "B27         Sep 12, 22  \n",
       "B28         Sep 12, 22  \n",
       "B29         Sep 12, 22  \n",
       "B30         Sep 12, 22  \n",
       "B31         Sep 12, 22  \n",
       "B32         Sep 12, 22  \n",
       "B33         Sep 12, 22  \n",
       "B34         Sep 12, 22  \n",
       "B35         Sep 12, 22  \n",
       "B36         Sep 12, 22  \n",
       "B37         Sep 12, 22  \n",
       "B38         Sep 12, 22  \n",
       "B39         Sep 12, 22  \n",
       "B40         Sep 12, 22  \n",
       "B41         Sep 12, 22  \n",
       "B42         Sep 12, 22  \n",
       "B43         Sep 12, 22  \n",
       "B44         Sep 12, 22  \n",
       "B45         Sep 12, 22  \n",
       "B46         Sep 12, 22  \n",
       "B47         Sep 12, 22  \n",
       "B48         Sep 12, 22  \n",
       "B49         Sep 12, 22  \n",
       "B50         Sep 12, 22  \n",
       "B51         Sep 12, 22  \n",
       "B52         Sep 12, 22  \n",
       "B53         Sep 12, 22  \n",
       "B54         Sep 12, 22  \n",
       "B55         Sep 12, 22  \n",
       "B56         Sep 12, 22  \n",
       "B57         Sep 12, 22  \n",
       "B58         Sep 12, 22  \n",
       "B59         Sep 12, 22  \n",
       "B60         Sep 12, 22  \n",
       "B61         Sep 12, 22  \n",
       "B62         Sep 12, 22  \n",
       "B63         Sep 12, 22  \n",
       "B64         Sep 12, 22  \n",
       "B65         Sep 12, 22  \n",
       "B66         Sep 12, 22  \n",
       "B67         Sep 12, 22  \n",
       "B68         Sep 12, 22  \n",
       "B69         Sep 12, 22  \n",
       "B70         Sep 12, 22  \n",
       "B71         Sep 12, 22  \n",
       "B72         Sep 12, 22  \n",
       "B73         Sep 12, 22  \n",
       "B74         Sep 12, 22  \n",
       "B75         Sep 12, 22  \n",
       "B76         Sep 12, 22  \n",
       "B77         Sep 12, 22  \n",
       "B78         Sep 12, 22  \n",
       "B79         Sep 12, 22  \n",
       "B80         Sep 12, 22  \n",
       "B81         Sep 12, 22  \n",
       "B82         Sep 12, 22  \n",
       "B83         Sep 12, 22  \n",
       "B84         Sep 12, 22  \n",
       "B85         Sep 12, 22  \n",
       "B86         Sep 12, 22  \n",
       "B87         Sep 12, 22  \n",
       "B88         Sep 12, 22  \n",
       "B89         Sep 12, 22  \n",
       "B90         Sep 12, 22  \n",
       "B91         Sep 12, 22  \n",
       "B92         Sep 12, 22  \n",
       "B93         Sep 12, 22  \n",
       "B94         Sep 12, 22  \n",
       "B95         Sep 12, 22  \n",
       "B96         Sep 12, 22  "
      ]
     },
     "metadata": {},
     "output_type": "display_data"
    }
   ],
   "source": [
    "set_option(\"display.max_rows\", None)\n",
    "display(fluxes_df)\n",
    "display(experimental_metadata)"
   ]
  },
  {
   "cell_type": "markdown",
   "id": "4be040ca-4e6d-49de-8c44-ddb55b7e3797",
   "metadata": {},
   "source": [
    "# Test the generalized data in CommFitting"
   ]
  },
  {
   "cell_type": "code",
   "execution_count": 7,
   "id": "5d5199c2-9942-4b17-bfb9-ef578f03da22",
   "metadata": {
    "collapsed": true,
    "jupyter": {
     "outputs_hidden": true
    },
    "tags": []
   },
   "outputs": [
    {
     "data": {
      "text/html": [
       "<div>\n",
       "<style scoped>\n",
       "    .dataframe tbody tr th:only-of-type {\n",
       "        vertical-align: middle;\n",
       "    }\n",
       "\n",
       "    .dataframe tbody tr th {\n",
       "        vertical-align: top;\n",
       "    }\n",
       "\n",
       "    .dataframe thead th {\n",
       "        text-align: right;\n",
       "    }\n",
       "</style>\n",
       "<table border=\"1\" class=\"dataframe\">\n",
       "  <thead>\n",
       "    <tr style=\"text-align: right;\">\n",
       "      <th></th>\n",
       "      <th>condition</th>\n",
       "      <th>ModelSEED_ID</th>\n",
       "      <th>strain</th>\n",
       "      <th>date</th>\n",
       "    </tr>\n",
       "    <tr>\n",
       "      <th>short_code</th>\n",
       "      <th></th>\n",
       "      <th></th>\n",
       "      <th></th>\n",
       "      <th></th>\n",
       "    </tr>\n",
       "  </thead>\n",
       "  <tbody>\n",
       "    <tr>\n",
       "      <th>B1</th>\n",
       "      <td>Negative Control</td>\n",
       "      <td></td>\n",
       "      <td>P. fluorescens</td>\n",
       "      <td>Sep 12, 22</td>\n",
       "    </tr>\n",
       "    <tr>\n",
       "      <th>B2</th>\n",
       "      <td>Dextrin</td>\n",
       "      <td>cpd11594</td>\n",
       "      <td>P. fluorescens</td>\n",
       "      <td>Sep 12, 22</td>\n",
       "    </tr>\n",
       "    <tr>\n",
       "      <th>B3</th>\n",
       "      <td>D-Maltose</td>\n",
       "      <td>cpd00179</td>\n",
       "      <td>P. fluorescens</td>\n",
       "      <td>Sep 12, 22</td>\n",
       "    </tr>\n",
       "    <tr>\n",
       "      <th>B4</th>\n",
       "      <td>D-Trehalose</td>\n",
       "      <td>cpd00523</td>\n",
       "      <td>P. fluorescens</td>\n",
       "      <td>Sep 12, 22</td>\n",
       "    </tr>\n",
       "    <tr>\n",
       "      <th>B5</th>\n",
       "      <td>D-Cellobiose</td>\n",
       "      <td>cpd03844</td>\n",
       "      <td>P. fluorescens</td>\n",
       "      <td>Sep 12, 22</td>\n",
       "    </tr>\n",
       "    <tr>\n",
       "      <th>B6</th>\n",
       "      <td>Gentiobiose</td>\n",
       "      <td>cpd05158</td>\n",
       "      <td>P. fluorescens</td>\n",
       "      <td>Sep 12, 22</td>\n",
       "    </tr>\n",
       "    <tr>\n",
       "      <th>B7</th>\n",
       "      <td>Sucrose</td>\n",
       "      <td>cpd00076</td>\n",
       "      <td>P. fluorescens</td>\n",
       "      <td>Sep 12, 22</td>\n",
       "    </tr>\n",
       "    <tr>\n",
       "      <th>B8</th>\n",
       "      <td>D-Turanose</td>\n",
       "      <td>cpd20885</td>\n",
       "      <td>P. fluorescens</td>\n",
       "      <td>Sep 12, 22</td>\n",
       "    </tr>\n",
       "    <tr>\n",
       "      <th>B9</th>\n",
       "      <td>Stachyose</td>\n",
       "      <td>cpd01133</td>\n",
       "      <td>P. fluorescens</td>\n",
       "      <td>Sep 12, 22</td>\n",
       "    </tr>\n",
       "    <tr>\n",
       "      <th>B10</th>\n",
       "      <td>Positive Control</td>\n",
       "      <td>cpd00027</td>\n",
       "      <td>P. fluorescens</td>\n",
       "      <td>Sep 12, 22</td>\n",
       "    </tr>\n",
       "    <tr>\n",
       "      <th>B11</th>\n",
       "      <td>pH 6</td>\n",
       "      <td>cpd00067</td>\n",
       "      <td>P. fluorescens</td>\n",
       "      <td>Sep 12, 22</td>\n",
       "    </tr>\n",
       "    <tr>\n",
       "      <th>B12</th>\n",
       "      <td>pH 5</td>\n",
       "      <td>cpd00067</td>\n",
       "      <td>P. fluorescens</td>\n",
       "      <td>Sep 12, 22</td>\n",
       "    </tr>\n",
       "    <tr>\n",
       "      <th>B13</th>\n",
       "      <td>D-Raffinose</td>\n",
       "      <td>cpd30716</td>\n",
       "      <td>P. fluorescens</td>\n",
       "      <td>Sep 12, 22</td>\n",
       "    </tr>\n",
       "    <tr>\n",
       "      <th>B14</th>\n",
       "      <td>alpha-D-Lactose</td>\n",
       "      <td>cpd01354</td>\n",
       "      <td>P. fluorescens</td>\n",
       "      <td>Sep 12, 22</td>\n",
       "    </tr>\n",
       "    <tr>\n",
       "      <th>B15</th>\n",
       "      <td>D-Melibiose</td>\n",
       "      <td>cpd03198</td>\n",
       "      <td>P. fluorescens</td>\n",
       "      <td>Sep 12, 22</td>\n",
       "    </tr>\n",
       "    <tr>\n",
       "      <th>B16</th>\n",
       "      <td>beta-Methyl-D-Glucoside</td>\n",
       "      <td>cpd00710</td>\n",
       "      <td>P. fluorescens</td>\n",
       "      <td>Sep 12, 22</td>\n",
       "    </tr>\n",
       "    <tr>\n",
       "      <th>B17</th>\n",
       "      <td>D-Salicin</td>\n",
       "      <td>cpd01030</td>\n",
       "      <td>P. fluorescens</td>\n",
       "      <td>Sep 12, 22</td>\n",
       "    </tr>\n",
       "    <tr>\n",
       "      <th>B18</th>\n",
       "      <td>N-Acetyl-D-Glucosamine</td>\n",
       "      <td>cpd00122</td>\n",
       "      <td>P. fluorescens</td>\n",
       "      <td>Sep 12, 22</td>\n",
       "    </tr>\n",
       "    <tr>\n",
       "      <th>B19</th>\n",
       "      <td>N-Acetyl-beta-Mannosamine</td>\n",
       "      <td>cpd00492</td>\n",
       "      <td>P. fluorescens</td>\n",
       "      <td>Sep 12, 22</td>\n",
       "    </tr>\n",
       "    <tr>\n",
       "      <th>B20</th>\n",
       "      <td>N-Acetyl-D-Galactosamine</td>\n",
       "      <td>cpd00175</td>\n",
       "      <td>P. fluorescens</td>\n",
       "      <td>Sep 12, 22</td>\n",
       "    </tr>\n",
       "    <tr>\n",
       "      <th>B21</th>\n",
       "      <td>N-Acetyl-Neuraminic Acid</td>\n",
       "      <td>cpd03885</td>\n",
       "      <td>P. fluorescens</td>\n",
       "      <td>Sep 12, 22</td>\n",
       "    </tr>\n",
       "    <tr>\n",
       "      <th>B22</th>\n",
       "      <td>1% NaCl</td>\n",
       "      <td></td>\n",
       "      <td>P. fluorescens</td>\n",
       "      <td>Sep 12, 22</td>\n",
       "    </tr>\n",
       "    <tr>\n",
       "      <th>B23</th>\n",
       "      <td>4% NaCl</td>\n",
       "      <td></td>\n",
       "      <td>P. fluorescens</td>\n",
       "      <td>Sep 12, 22</td>\n",
       "    </tr>\n",
       "    <tr>\n",
       "      <th>B24</th>\n",
       "      <td>8% NaCl</td>\n",
       "      <td></td>\n",
       "      <td>P. fluorescens</td>\n",
       "      <td>Sep 12, 22</td>\n",
       "    </tr>\n",
       "    <tr>\n",
       "      <th>B25</th>\n",
       "      <td>alpha-D-Glucose</td>\n",
       "      <td>cpd00190</td>\n",
       "      <td>P. fluorescens</td>\n",
       "      <td>Sep 12, 22</td>\n",
       "    </tr>\n",
       "    <tr>\n",
       "      <th>B26</th>\n",
       "      <td>D-Mannose</td>\n",
       "      <td>cpd00138</td>\n",
       "      <td>P. fluorescens</td>\n",
       "      <td>Sep 12, 22</td>\n",
       "    </tr>\n",
       "    <tr>\n",
       "      <th>B27</th>\n",
       "      <td>D-Fructose</td>\n",
       "      <td>cpd00082</td>\n",
       "      <td>P. fluorescens</td>\n",
       "      <td>Sep 12, 22</td>\n",
       "    </tr>\n",
       "    <tr>\n",
       "      <th>B28</th>\n",
       "      <td>D-Galactose</td>\n",
       "      <td>cpd00709</td>\n",
       "      <td>P. fluorescens</td>\n",
       "      <td>Sep 12, 22</td>\n",
       "    </tr>\n",
       "    <tr>\n",
       "      <th>B29</th>\n",
       "      <td>3-Methyl Glucose</td>\n",
       "      <td></td>\n",
       "      <td>P. fluorescens</td>\n",
       "      <td>Sep 12, 22</td>\n",
       "    </tr>\n",
       "    <tr>\n",
       "      <th>B30</th>\n",
       "      <td>D-Fucose</td>\n",
       "      <td>cpd00750</td>\n",
       "      <td>P. fluorescens</td>\n",
       "      <td>Sep 12, 22</td>\n",
       "    </tr>\n",
       "    <tr>\n",
       "      <th>B31</th>\n",
       "      <td>L-Fucose</td>\n",
       "      <td>cpd00751</td>\n",
       "      <td>P. fluorescens</td>\n",
       "      <td>Sep 12, 22</td>\n",
       "    </tr>\n",
       "    <tr>\n",
       "      <th>B32</th>\n",
       "      <td>L-Rhamnose</td>\n",
       "      <td>cpd00396</td>\n",
       "      <td>P. fluorescens</td>\n",
       "      <td>Sep 12, 22</td>\n",
       "    </tr>\n",
       "    <tr>\n",
       "      <th>B33</th>\n",
       "      <td>Inosine</td>\n",
       "      <td>cpd00246</td>\n",
       "      <td>P. fluorescens</td>\n",
       "      <td>Sep 12, 22</td>\n",
       "    </tr>\n",
       "    <tr>\n",
       "      <th>B34</th>\n",
       "      <td>1% Sodium Lactate</td>\n",
       "      <td>cpd00159</td>\n",
       "      <td>P. fluorescens</td>\n",
       "      <td>Sep 12, 22</td>\n",
       "    </tr>\n",
       "    <tr>\n",
       "      <th>B35</th>\n",
       "      <td>Fusidic Acid</td>\n",
       "      <td>cpd04095</td>\n",
       "      <td>P. fluorescens</td>\n",
       "      <td>Sep 12, 22</td>\n",
       "    </tr>\n",
       "    <tr>\n",
       "      <th>B36</th>\n",
       "      <td>D-Serine</td>\n",
       "      <td>cpd00550</td>\n",
       "      <td>P. fluorescens</td>\n",
       "      <td>Sep 12, 22</td>\n",
       "    </tr>\n",
       "    <tr>\n",
       "      <th>B37</th>\n",
       "      <td>D-Sorbitol</td>\n",
       "      <td>cpd00588</td>\n",
       "      <td>P. fluorescens</td>\n",
       "      <td>Sep 12, 22</td>\n",
       "    </tr>\n",
       "    <tr>\n",
       "      <th>B38</th>\n",
       "      <td>D-Mannitol</td>\n",
       "      <td>cpd00314</td>\n",
       "      <td>P. fluorescens</td>\n",
       "      <td>Sep 12, 22</td>\n",
       "    </tr>\n",
       "    <tr>\n",
       "      <th>B39</th>\n",
       "      <td>D-Arabitol</td>\n",
       "      <td>cpd23223</td>\n",
       "      <td>P. fluorescens</td>\n",
       "      <td>Sep 12, 22</td>\n",
       "    </tr>\n",
       "    <tr>\n",
       "      <th>B40</th>\n",
       "      <td>myo-Inositol</td>\n",
       "      <td>cpd02296</td>\n",
       "      <td>P. fluorescens</td>\n",
       "      <td>Sep 12, 22</td>\n",
       "    </tr>\n",
       "    <tr>\n",
       "      <th>B41</th>\n",
       "      <td>Glycerol</td>\n",
       "      <td>cpd00100</td>\n",
       "      <td>P. fluorescens</td>\n",
       "      <td>Sep 12, 22</td>\n",
       "    </tr>\n",
       "    <tr>\n",
       "      <th>B42</th>\n",
       "      <td>D-Glucose-6-PO4</td>\n",
       "      <td></td>\n",
       "      <td>P. fluorescens</td>\n",
       "      <td>Sep 12, 22</td>\n",
       "    </tr>\n",
       "    <tr>\n",
       "      <th>B43</th>\n",
       "      <td>D-Fructose-6-PO4</td>\n",
       "      <td>cpd00079</td>\n",
       "      <td>P. fluorescens</td>\n",
       "      <td>Sep 12, 22</td>\n",
       "    </tr>\n",
       "    <tr>\n",
       "      <th>B44</th>\n",
       "      <td>D-Aspartic Acid</td>\n",
       "      <td>cpd00320</td>\n",
       "      <td>P. fluorescens</td>\n",
       "      <td>Sep 12, 22</td>\n",
       "    </tr>\n",
       "    <tr>\n",
       "      <th>B45</th>\n",
       "      <td>D-Serine</td>\n",
       "      <td>cpd00550</td>\n",
       "      <td>P. fluorescens</td>\n",
       "      <td>Sep 12, 22</td>\n",
       "    </tr>\n",
       "    <tr>\n",
       "      <th>B46</th>\n",
       "      <td>Troleandomycin</td>\n",
       "      <td>cpd09300</td>\n",
       "      <td>P. fluorescens</td>\n",
       "      <td>Sep 12, 22</td>\n",
       "    </tr>\n",
       "    <tr>\n",
       "      <th>B47</th>\n",
       "      <td>Rifamycin SV</td>\n",
       "      <td>cpd08835</td>\n",
       "      <td>P. fluorescens</td>\n",
       "      <td>Sep 12, 22</td>\n",
       "    </tr>\n",
       "    <tr>\n",
       "      <th>B48</th>\n",
       "      <td>Minocycline</td>\n",
       "      <td>cpd04461</td>\n",
       "      <td>P. fluorescens</td>\n",
       "      <td>Sep 12, 22</td>\n",
       "    </tr>\n",
       "    <tr>\n",
       "      <th>B49</th>\n",
       "      <td>Gelatin</td>\n",
       "      <td></td>\n",
       "      <td>P. fluorescens</td>\n",
       "      <td>Sep 12, 22</td>\n",
       "    </tr>\n",
       "    <tr>\n",
       "      <th>B50</th>\n",
       "      <td>Glycyl-L-Proline</td>\n",
       "      <td>cpd00129</td>\n",
       "      <td>P. fluorescens</td>\n",
       "      <td>Sep 12, 22</td>\n",
       "    </tr>\n",
       "    <tr>\n",
       "      <th>B51</th>\n",
       "      <td>L-Alanine</td>\n",
       "      <td>cpd00035</td>\n",
       "      <td>P. fluorescens</td>\n",
       "      <td>Sep 12, 22</td>\n",
       "    </tr>\n",
       "    <tr>\n",
       "      <th>B52</th>\n",
       "      <td>L-Arginine</td>\n",
       "      <td>cpd00051</td>\n",
       "      <td>P. fluorescens</td>\n",
       "      <td>Sep 12, 22</td>\n",
       "    </tr>\n",
       "    <tr>\n",
       "      <th>B53</th>\n",
       "      <td>L-Aspartic Acid</td>\n",
       "      <td>cpd00041</td>\n",
       "      <td>P. fluorescens</td>\n",
       "      <td>Sep 12, 22</td>\n",
       "    </tr>\n",
       "    <tr>\n",
       "      <th>B54</th>\n",
       "      <td>L-Glutamic Acid</td>\n",
       "      <td>cpd00023</td>\n",
       "      <td>P. fluorescens</td>\n",
       "      <td>Sep 12, 22</td>\n",
       "    </tr>\n",
       "    <tr>\n",
       "      <th>B55</th>\n",
       "      <td>L-Histidine</td>\n",
       "      <td>cpd00119</td>\n",
       "      <td>P. fluorescens</td>\n",
       "      <td>Sep 12, 22</td>\n",
       "    </tr>\n",
       "    <tr>\n",
       "      <th>B56</th>\n",
       "      <td>L-Pyroglutamic Acid</td>\n",
       "      <td></td>\n",
       "      <td>P. fluorescens</td>\n",
       "      <td>Sep 12, 22</td>\n",
       "    </tr>\n",
       "    <tr>\n",
       "      <th>B57</th>\n",
       "      <td>L-Serine</td>\n",
       "      <td>cpd00054</td>\n",
       "      <td>P. fluorescens</td>\n",
       "      <td>Sep 12, 22</td>\n",
       "    </tr>\n",
       "    <tr>\n",
       "      <th>B58</th>\n",
       "      <td>Lincomycin</td>\n",
       "      <td>cpd04183</td>\n",
       "      <td>P. fluorescens</td>\n",
       "      <td>Sep 12, 22</td>\n",
       "    </tr>\n",
       "    <tr>\n",
       "      <th>B59</th>\n",
       "      <td>Guanidine HCl</td>\n",
       "      <td>cpd19240</td>\n",
       "      <td>P. fluorescens</td>\n",
       "      <td>Sep 12, 22</td>\n",
       "    </tr>\n",
       "    <tr>\n",
       "      <th>B60</th>\n",
       "      <td>Niaproof 4</td>\n",
       "      <td></td>\n",
       "      <td>P. fluorescens</td>\n",
       "      <td>Sep 12, 22</td>\n",
       "    </tr>\n",
       "    <tr>\n",
       "      <th>B61</th>\n",
       "      <td>Pectin</td>\n",
       "      <td>cpd11601</td>\n",
       "      <td>P. fluorescens</td>\n",
       "      <td>Sep 12, 22</td>\n",
       "    </tr>\n",
       "    <tr>\n",
       "      <th>B62</th>\n",
       "      <td>D-Galacturonic Acid</td>\n",
       "      <td>cpd17605</td>\n",
       "      <td>P. fluorescens</td>\n",
       "      <td>Sep 12, 22</td>\n",
       "    </tr>\n",
       "    <tr>\n",
       "      <th>B63</th>\n",
       "      <td>L-Galactonic Acid Lactone</td>\n",
       "      <td>cpd14659</td>\n",
       "      <td>P. fluorescens</td>\n",
       "      <td>Sep 12, 22</td>\n",
       "    </tr>\n",
       "    <tr>\n",
       "      <th>B64</th>\n",
       "      <td>D-Gluconic Acid</td>\n",
       "      <td>cpd32827</td>\n",
       "      <td>P. fluorescens</td>\n",
       "      <td>Sep 12, 22</td>\n",
       "    </tr>\n",
       "    <tr>\n",
       "      <th>B65</th>\n",
       "      <td>D-Glucuronic Acid</td>\n",
       "      <td>cpd00164</td>\n",
       "      <td>P. fluorescens</td>\n",
       "      <td>Sep 12, 22</td>\n",
       "    </tr>\n",
       "    <tr>\n",
       "      <th>B66</th>\n",
       "      <td>Glucuronamide</td>\n",
       "      <td>cpd26269</td>\n",
       "      <td>P. fluorescens</td>\n",
       "      <td>Sep 12, 22</td>\n",
       "    </tr>\n",
       "    <tr>\n",
       "      <th>B67</th>\n",
       "      <td>Mucic Acid</td>\n",
       "      <td>cpd00652</td>\n",
       "      <td>P. fluorescens</td>\n",
       "      <td>Sep 12, 22</td>\n",
       "    </tr>\n",
       "    <tr>\n",
       "      <th>B68</th>\n",
       "      <td>Quinic Acid</td>\n",
       "      <td>cpd00248</td>\n",
       "      <td>P. fluorescens</td>\n",
       "      <td>Sep 12, 22</td>\n",
       "    </tr>\n",
       "    <tr>\n",
       "      <th>B69</th>\n",
       "      <td>D-Saccharic Acid</td>\n",
       "      <td>cpd00571</td>\n",
       "      <td>P. fluorescens</td>\n",
       "      <td>Sep 12, 22</td>\n",
       "    </tr>\n",
       "    <tr>\n",
       "      <th>B70</th>\n",
       "      <td>Vancomycin</td>\n",
       "      <td>cpd04090</td>\n",
       "      <td>P. fluorescens</td>\n",
       "      <td>Sep 12, 22</td>\n",
       "    </tr>\n",
       "    <tr>\n",
       "      <th>B71</th>\n",
       "      <td>Tetrazolium Violet</td>\n",
       "      <td>cpd22643</td>\n",
       "      <td>P. fluorescens</td>\n",
       "      <td>Sep 12, 22</td>\n",
       "    </tr>\n",
       "    <tr>\n",
       "      <th>B72</th>\n",
       "      <td>Tetrazolium Blue</td>\n",
       "      <td>cpd09447</td>\n",
       "      <td>P. fluorescens</td>\n",
       "      <td>Sep 12, 22</td>\n",
       "    </tr>\n",
       "    <tr>\n",
       "      <th>B73</th>\n",
       "      <td>p-Hydroxy-Phenylacetic Acid</td>\n",
       "      <td>cpd19069</td>\n",
       "      <td>P. fluorescens</td>\n",
       "      <td>Sep 12, 22</td>\n",
       "    </tr>\n",
       "    <tr>\n",
       "      <th>B74</th>\n",
       "      <td>Methyl Pyruvate</td>\n",
       "      <td>cpd24420</td>\n",
       "      <td>P. fluorescens</td>\n",
       "      <td>Sep 12, 22</td>\n",
       "    </tr>\n",
       "    <tr>\n",
       "      <th>B75</th>\n",
       "      <td>D-Lactic Acid Methyl Ester</td>\n",
       "      <td>cpd24428</td>\n",
       "      <td>P. fluorescens</td>\n",
       "      <td>Sep 12, 22</td>\n",
       "    </tr>\n",
       "    <tr>\n",
       "      <th>B76</th>\n",
       "      <td>L-Lactic Acid</td>\n",
       "      <td>cpd00159</td>\n",
       "      <td>P. fluorescens</td>\n",
       "      <td>Sep 12, 22</td>\n",
       "    </tr>\n",
       "    <tr>\n",
       "      <th>B77</th>\n",
       "      <td>Citric Acid</td>\n",
       "      <td>cpd00137</td>\n",
       "      <td>P. fluorescens</td>\n",
       "      <td>Sep 12, 22</td>\n",
       "    </tr>\n",
       "    <tr>\n",
       "      <th>B78</th>\n",
       "      <td>alpha-Keto-Glutaric Acid</td>\n",
       "      <td>cpd00024</td>\n",
       "      <td>P. fluorescens</td>\n",
       "      <td>Sep 12, 22</td>\n",
       "    </tr>\n",
       "    <tr>\n",
       "      <th>B79</th>\n",
       "      <td>D-Malic Acid</td>\n",
       "      <td>cpd00386</td>\n",
       "      <td>P. fluorescens</td>\n",
       "      <td>Sep 12, 22</td>\n",
       "    </tr>\n",
       "    <tr>\n",
       "      <th>B80</th>\n",
       "      <td>L-Malic Acid</td>\n",
       "      <td>cpd00130</td>\n",
       "      <td>P. fluorescens</td>\n",
       "      <td>Sep 12, 22</td>\n",
       "    </tr>\n",
       "    <tr>\n",
       "      <th>B81</th>\n",
       "      <td>Bromo-Succinic Acid</td>\n",
       "      <td>cpd23859</td>\n",
       "      <td>P. fluorescens</td>\n",
       "      <td>Sep 12, 22</td>\n",
       "    </tr>\n",
       "    <tr>\n",
       "      <th>B82</th>\n",
       "      <td>Nalidixic Acid</td>\n",
       "      <td>cpd03031</td>\n",
       "      <td>P. fluorescens</td>\n",
       "      <td>Sep 12, 22</td>\n",
       "    </tr>\n",
       "    <tr>\n",
       "      <th>B83</th>\n",
       "      <td>Lithium Chloride</td>\n",
       "      <td></td>\n",
       "      <td>P. fluorescens</td>\n",
       "      <td>Sep 12, 22</td>\n",
       "    </tr>\n",
       "    <tr>\n",
       "      <th>B84</th>\n",
       "      <td>Potassium Tellurite</td>\n",
       "      <td></td>\n",
       "      <td>P. fluorescens</td>\n",
       "      <td>Sep 12, 22</td>\n",
       "    </tr>\n",
       "    <tr>\n",
       "      <th>B85</th>\n",
       "      <td>Tween 40</td>\n",
       "      <td>cpd24417</td>\n",
       "      <td>P. fluorescens</td>\n",
       "      <td>Sep 12, 22</td>\n",
       "    </tr>\n",
       "    <tr>\n",
       "      <th>B86</th>\n",
       "      <td>gamma-Amino-Butyric Acid</td>\n",
       "      <td>cpd00281</td>\n",
       "      <td>P. fluorescens</td>\n",
       "      <td>Sep 12, 22</td>\n",
       "    </tr>\n",
       "    <tr>\n",
       "      <th>B87</th>\n",
       "      <td>alpha-Hydroxy-D,L-Butyric Acid</td>\n",
       "      <td>cpd03561</td>\n",
       "      <td>P. fluorescens</td>\n",
       "      <td>Sep 12, 22</td>\n",
       "    </tr>\n",
       "    <tr>\n",
       "      <th>B88</th>\n",
       "      <td>beta-Hydroxy-D,L-Butyric Acid</td>\n",
       "      <td>cpd29193</td>\n",
       "      <td>P. fluorescens</td>\n",
       "      <td>Sep 12, 22</td>\n",
       "    </tr>\n",
       "    <tr>\n",
       "      <th>B89</th>\n",
       "      <td>alpha-Keto-Butyric Acid</td>\n",
       "      <td>cpd26078</td>\n",
       "      <td>P. fluorescens</td>\n",
       "      <td>Sep 12, 22</td>\n",
       "    </tr>\n",
       "    <tr>\n",
       "      <th>B90</th>\n",
       "      <td>Acetoacetic Acid</td>\n",
       "      <td>cpd00142</td>\n",
       "      <td>P. fluorescens</td>\n",
       "      <td>Sep 12, 22</td>\n",
       "    </tr>\n",
       "    <tr>\n",
       "      <th>B91</th>\n",
       "      <td>Propionic Acid</td>\n",
       "      <td>cpd00141</td>\n",
       "      <td>P. fluorescens</td>\n",
       "      <td>Sep 12, 22</td>\n",
       "    </tr>\n",
       "    <tr>\n",
       "      <th>B92</th>\n",
       "      <td>Acetic Acid</td>\n",
       "      <td>cpd00029</td>\n",
       "      <td>P. fluorescens</td>\n",
       "      <td>Sep 12, 22</td>\n",
       "    </tr>\n",
       "    <tr>\n",
       "      <th>B93</th>\n",
       "      <td>Formic Acid</td>\n",
       "      <td>cpd00047</td>\n",
       "      <td>P. fluorescens</td>\n",
       "      <td>Sep 12, 22</td>\n",
       "    </tr>\n",
       "    <tr>\n",
       "      <th>B94</th>\n",
       "      <td>Aztreonam</td>\n",
       "      <td>cpd04201</td>\n",
       "      <td>P. fluorescens</td>\n",
       "      <td>Sep 12, 22</td>\n",
       "    </tr>\n",
       "    <tr>\n",
       "      <th>B95</th>\n",
       "      <td>Sodium Butyrate</td>\n",
       "      <td></td>\n",
       "      <td>P. fluorescens</td>\n",
       "      <td>Sep 12, 22</td>\n",
       "    </tr>\n",
       "    <tr>\n",
       "      <th>B96</th>\n",
       "      <td>Sodium Bromate</td>\n",
       "      <td></td>\n",
       "      <td>P. fluorescens</td>\n",
       "      <td>Sep 12, 22</td>\n",
       "    </tr>\n",
       "  </tbody>\n",
       "</table>\n",
       "</div>"
      ],
      "text/plain": [
       "                                 condition ModelSEED_ID          strain  \\\n",
       "short_code                                                                \n",
       "B1                        Negative Control               P. fluorescens   \n",
       "B2                                 Dextrin     cpd11594  P. fluorescens   \n",
       "B3                               D-Maltose     cpd00179  P. fluorescens   \n",
       "B4                             D-Trehalose     cpd00523  P. fluorescens   \n",
       "B5                            D-Cellobiose     cpd03844  P. fluorescens   \n",
       "B6                             Gentiobiose     cpd05158  P. fluorescens   \n",
       "B7                                 Sucrose     cpd00076  P. fluorescens   \n",
       "B8                              D-Turanose     cpd20885  P. fluorescens   \n",
       "B9                               Stachyose     cpd01133  P. fluorescens   \n",
       "B10                       Positive Control     cpd00027  P. fluorescens   \n",
       "B11                                   pH 6     cpd00067  P. fluorescens   \n",
       "B12                                   pH 5     cpd00067  P. fluorescens   \n",
       "B13                            D-Raffinose     cpd30716  P. fluorescens   \n",
       "B14                        alpha-D-Lactose     cpd01354  P. fluorescens   \n",
       "B15                            D-Melibiose     cpd03198  P. fluorescens   \n",
       "B16                beta-Methyl-D-Glucoside     cpd00710  P. fluorescens   \n",
       "B17                              D-Salicin     cpd01030  P. fluorescens   \n",
       "B18                 N-Acetyl-D-Glucosamine     cpd00122  P. fluorescens   \n",
       "B19              N-Acetyl-beta-Mannosamine     cpd00492  P. fluorescens   \n",
       "B20               N-Acetyl-D-Galactosamine     cpd00175  P. fluorescens   \n",
       "B21               N-Acetyl-Neuraminic Acid     cpd03885  P. fluorescens   \n",
       "B22                                1% NaCl               P. fluorescens   \n",
       "B23                                4% NaCl               P. fluorescens   \n",
       "B24                                8% NaCl               P. fluorescens   \n",
       "B25                        alpha-D-Glucose     cpd00190  P. fluorescens   \n",
       "B26                              D-Mannose     cpd00138  P. fluorescens   \n",
       "B27                             D-Fructose     cpd00082  P. fluorescens   \n",
       "B28                            D-Galactose     cpd00709  P. fluorescens   \n",
       "B29                       3-Methyl Glucose               P. fluorescens   \n",
       "B30                               D-Fucose     cpd00750  P. fluorescens   \n",
       "B31                               L-Fucose     cpd00751  P. fluorescens   \n",
       "B32                             L-Rhamnose     cpd00396  P. fluorescens   \n",
       "B33                                Inosine     cpd00246  P. fluorescens   \n",
       "B34                      1% Sodium Lactate     cpd00159  P. fluorescens   \n",
       "B35                           Fusidic Acid     cpd04095  P. fluorescens   \n",
       "B36                               D-Serine     cpd00550  P. fluorescens   \n",
       "B37                             D-Sorbitol     cpd00588  P. fluorescens   \n",
       "B38                             D-Mannitol     cpd00314  P. fluorescens   \n",
       "B39                             D-Arabitol     cpd23223  P. fluorescens   \n",
       "B40                           myo-Inositol     cpd02296  P. fluorescens   \n",
       "B41                               Glycerol     cpd00100  P. fluorescens   \n",
       "B42                        D-Glucose-6-PO4               P. fluorescens   \n",
       "B43                       D-Fructose-6-PO4     cpd00079  P. fluorescens   \n",
       "B44                        D-Aspartic Acid     cpd00320  P. fluorescens   \n",
       "B45                               D-Serine     cpd00550  P. fluorescens   \n",
       "B46                         Troleandomycin     cpd09300  P. fluorescens   \n",
       "B47                           Rifamycin SV     cpd08835  P. fluorescens   \n",
       "B48                            Minocycline     cpd04461  P. fluorescens   \n",
       "B49                                Gelatin               P. fluorescens   \n",
       "B50                       Glycyl-L-Proline     cpd00129  P. fluorescens   \n",
       "B51                              L-Alanine     cpd00035  P. fluorescens   \n",
       "B52                             L-Arginine     cpd00051  P. fluorescens   \n",
       "B53                        L-Aspartic Acid     cpd00041  P. fluorescens   \n",
       "B54                        L-Glutamic Acid     cpd00023  P. fluorescens   \n",
       "B55                            L-Histidine     cpd00119  P. fluorescens   \n",
       "B56                    L-Pyroglutamic Acid               P. fluorescens   \n",
       "B57                               L-Serine     cpd00054  P. fluorescens   \n",
       "B58                             Lincomycin     cpd04183  P. fluorescens   \n",
       "B59                          Guanidine HCl     cpd19240  P. fluorescens   \n",
       "B60                             Niaproof 4               P. fluorescens   \n",
       "B61                                 Pectin     cpd11601  P. fluorescens   \n",
       "B62                    D-Galacturonic Acid     cpd17605  P. fluorescens   \n",
       "B63              L-Galactonic Acid Lactone     cpd14659  P. fluorescens   \n",
       "B64                        D-Gluconic Acid     cpd32827  P. fluorescens   \n",
       "B65                      D-Glucuronic Acid     cpd00164  P. fluorescens   \n",
       "B66                          Glucuronamide     cpd26269  P. fluorescens   \n",
       "B67                             Mucic Acid     cpd00652  P. fluorescens   \n",
       "B68                            Quinic Acid     cpd00248  P. fluorescens   \n",
       "B69                       D-Saccharic Acid     cpd00571  P. fluorescens   \n",
       "B70                             Vancomycin     cpd04090  P. fluorescens   \n",
       "B71                     Tetrazolium Violet     cpd22643  P. fluorescens   \n",
       "B72                       Tetrazolium Blue     cpd09447  P. fluorescens   \n",
       "B73            p-Hydroxy-Phenylacetic Acid     cpd19069  P. fluorescens   \n",
       "B74                        Methyl Pyruvate     cpd24420  P. fluorescens   \n",
       "B75             D-Lactic Acid Methyl Ester     cpd24428  P. fluorescens   \n",
       "B76                          L-Lactic Acid     cpd00159  P. fluorescens   \n",
       "B77                            Citric Acid     cpd00137  P. fluorescens   \n",
       "B78               alpha-Keto-Glutaric Acid     cpd00024  P. fluorescens   \n",
       "B79                           D-Malic Acid     cpd00386  P. fluorescens   \n",
       "B80                           L-Malic Acid     cpd00130  P. fluorescens   \n",
       "B81                    Bromo-Succinic Acid     cpd23859  P. fluorescens   \n",
       "B82                         Nalidixic Acid     cpd03031  P. fluorescens   \n",
       "B83                       Lithium Chloride               P. fluorescens   \n",
       "B84                    Potassium Tellurite               P. fluorescens   \n",
       "B85                               Tween 40     cpd24417  P. fluorescens   \n",
       "B86               gamma-Amino-Butyric Acid     cpd00281  P. fluorescens   \n",
       "B87         alpha-Hydroxy-D,L-Butyric Acid     cpd03561  P. fluorescens   \n",
       "B88          beta-Hydroxy-D,L-Butyric Acid     cpd29193  P. fluorescens   \n",
       "B89                alpha-Keto-Butyric Acid     cpd26078  P. fluorescens   \n",
       "B90                       Acetoacetic Acid     cpd00142  P. fluorescens   \n",
       "B91                         Propionic Acid     cpd00141  P. fluorescens   \n",
       "B92                            Acetic Acid     cpd00029  P. fluorescens   \n",
       "B93                            Formic Acid     cpd00047  P. fluorescens   \n",
       "B94                              Aztreonam     cpd04201  P. fluorescens   \n",
       "B95                        Sodium Butyrate               P. fluorescens   \n",
       "B96                         Sodium Bromate               P. fluorescens   \n",
       "\n",
       "                  date  \n",
       "short_code              \n",
       "B1          Sep 12, 22  \n",
       "B2          Sep 12, 22  \n",
       "B3          Sep 12, 22  \n",
       "B4          Sep 12, 22  \n",
       "B5          Sep 12, 22  \n",
       "B6          Sep 12, 22  \n",
       "B7          Sep 12, 22  \n",
       "B8          Sep 12, 22  \n",
       "B9          Sep 12, 22  \n",
       "B10         Sep 12, 22  \n",
       "B11         Sep 12, 22  \n",
       "B12         Sep 12, 22  \n",
       "B13         Sep 12, 22  \n",
       "B14         Sep 12, 22  \n",
       "B15         Sep 12, 22  \n",
       "B16         Sep 12, 22  \n",
       "B17         Sep 12, 22  \n",
       "B18         Sep 12, 22  \n",
       "B19         Sep 12, 22  \n",
       "B20         Sep 12, 22  \n",
       "B21         Sep 12, 22  \n",
       "B22         Sep 12, 22  \n",
       "B23         Sep 12, 22  \n",
       "B24         Sep 12, 22  \n",
       "B25         Sep 12, 22  \n",
       "B26         Sep 12, 22  \n",
       "B27         Sep 12, 22  \n",
       "B28         Sep 12, 22  \n",
       "B29         Sep 12, 22  \n",
       "B30         Sep 12, 22  \n",
       "B31         Sep 12, 22  \n",
       "B32         Sep 12, 22  \n",
       "B33         Sep 12, 22  \n",
       "B34         Sep 12, 22  \n",
       "B35         Sep 12, 22  \n",
       "B36         Sep 12, 22  \n",
       "B37         Sep 12, 22  \n",
       "B38         Sep 12, 22  \n",
       "B39         Sep 12, 22  \n",
       "B40         Sep 12, 22  \n",
       "B41         Sep 12, 22  \n",
       "B42         Sep 12, 22  \n",
       "B43         Sep 12, 22  \n",
       "B44         Sep 12, 22  \n",
       "B45         Sep 12, 22  \n",
       "B46         Sep 12, 22  \n",
       "B47         Sep 12, 22  \n",
       "B48         Sep 12, 22  \n",
       "B49         Sep 12, 22  \n",
       "B50         Sep 12, 22  \n",
       "B51         Sep 12, 22  \n",
       "B52         Sep 12, 22  \n",
       "B53         Sep 12, 22  \n",
       "B54         Sep 12, 22  \n",
       "B55         Sep 12, 22  \n",
       "B56         Sep 12, 22  \n",
       "B57         Sep 12, 22  \n",
       "B58         Sep 12, 22  \n",
       "B59         Sep 12, 22  \n",
       "B60         Sep 12, 22  \n",
       "B61         Sep 12, 22  \n",
       "B62         Sep 12, 22  \n",
       "B63         Sep 12, 22  \n",
       "B64         Sep 12, 22  \n",
       "B65         Sep 12, 22  \n",
       "B66         Sep 12, 22  \n",
       "B67         Sep 12, 22  \n",
       "B68         Sep 12, 22  \n",
       "B69         Sep 12, 22  \n",
       "B70         Sep 12, 22  \n",
       "B71         Sep 12, 22  \n",
       "B72         Sep 12, 22  \n",
       "B73         Sep 12, 22  \n",
       "B74         Sep 12, 22  \n",
       "B75         Sep 12, 22  \n",
       "B76         Sep 12, 22  \n",
       "B77         Sep 12, 22  \n",
       "B78         Sep 12, 22  \n",
       "B79         Sep 12, 22  \n",
       "B80         Sep 12, 22  \n",
       "B81         Sep 12, 22  \n",
       "B82         Sep 12, 22  \n",
       "B83         Sep 12, 22  \n",
       "B84         Sep 12, 22  \n",
       "B85         Sep 12, 22  \n",
       "B86         Sep 12, 22  \n",
       "B87         Sep 12, 22  \n",
       "B88         Sep 12, 22  \n",
       "B89         Sep 12, 22  \n",
       "B90         Sep 12, 22  \n",
       "B91         Sep 12, 22  \n",
       "B92         Sep 12, 22  \n",
       "B93         Sep 12, 22  \n",
       "B94         Sep 12, 22  \n",
       "B95         Sep 12, 22  \n",
       "B96         Sep 12, 22  "
      ]
     },
     "metadata": {},
     "output_type": "display_data"
    },
    {
     "name": "stdout",
     "output_type": "stream",
     "text": [
      "B1\n"
     ]
    },
    {
     "data": {
      "text/plain": [
       "condition       Negative Control\n",
       "ModelSEED_ID                    \n",
       "strain            P. fluorescens\n",
       "date                  Sep 12, 22\n",
       "Name: B1, dtype: object"
      ]
     },
     "metadata": {},
     "output_type": "display_data"
    },
    {
     "name": "stdout",
     "output_type": "stream",
     "text": [
      "Done with concentrations and biomass loops: 0.0015625 min\n",
      "Done with DCC loop: 0.00026041666666666666 min\n",
      "Done with the dbc & diffc loop: 0.00234375 min\n",
      "Solver: <class 'optlang.glpk_interface.Model'>\n",
      "Done with loading the variables, constraints, and objective: 0.08177083333333333 min\n",
      "Done exporting the content: 0.014322916666666666 min\n",
      "The simulation lacks any flux.\n",
      "\n",
      "\n",
      "\n",
      "\n",
      "B2\n"
     ]
    },
    {
     "data": {
      "text/plain": [
       "condition              Dextrin\n",
       "ModelSEED_ID          cpd11594\n",
       "strain          P. fluorescens\n",
       "date                Sep 12, 22\n",
       "Name: B2, dtype: object"
      ]
     },
     "metadata": {},
     "output_type": "display_data"
    },
    {
     "name": "stdout",
     "output_type": "stream",
     "text": [
      "Done with concentrations and biomass loops: 0.0013020833333333333 min\n",
      "Done with DCC loop: 0.0 min\n",
      "Done with the dbc & diffc loop: 0.00234375 min\n",
      "Solver: <class 'optlang.glpk_interface.Model'>\n",
      "Done with loading the variables, constraints, and objective: 0.07421875 min\n",
      "Done exporting the content: 0.009635416666666667 min\n",
      "The simulation lacks any flux.\n",
      "\n",
      "\n",
      "\n",
      "\n",
      "B3\n"
     ]
    },
    {
     "data": {
      "text/plain": [
       "condition            D-Maltose\n",
       "ModelSEED_ID          cpd00179\n",
       "strain          P. fluorescens\n",
       "date                Sep 12, 22\n",
       "Name: B3, dtype: object"
      ]
     },
     "metadata": {},
     "output_type": "display_data"
    },
    {
     "name": "stdout",
     "output_type": "stream",
     "text": [
      "Done with concentrations and biomass loops: 0.0015625 min\n",
      "Done with DCC loop: 0.0 min\n",
      "Done with the dbc & diffc loop: 0.00234375 min\n",
      "Solver: <class 'optlang.glpk_interface.Model'>\n",
      "Done with loading the variables, constraints, and objective: 0.07083333333333333 min\n",
      "Done exporting the content: 0.009895833333333333 min\n",
      "The simulation lacks any flux.\n",
      "\n",
      "\n",
      "\n",
      "\n",
      "B4\n"
     ]
    },
    {
     "data": {
      "text/plain": [
       "condition          D-Trehalose\n",
       "ModelSEED_ID          cpd00523\n",
       "strain          P. fluorescens\n",
       "date                Sep 12, 22\n",
       "Name: B4, dtype: object"
      ]
     },
     "metadata": {},
     "output_type": "display_data"
    },
    {
     "name": "stdout",
     "output_type": "stream",
     "text": [
      "Done with concentrations and biomass loops: 0.0015625 min\n",
      "Done with DCC loop: 0.0 min\n",
      "Done with the dbc & diffc loop: 0.0026041666666666665 min\n",
      "Solver: <class 'optlang.glpk_interface.Model'>\n",
      "Done with loading the variables, constraints, and objective: 0.07239583333333334 min\n",
      "Done exporting the content: 0.009375 min\n",
      "The simulation lacks any flux.\n",
      "\n",
      "\n",
      "\n",
      "\n",
      "B5\n"
     ]
    },
    {
     "data": {
      "text/plain": [
       "condition         D-Cellobiose\n",
       "ModelSEED_ID          cpd03844\n",
       "strain          P. fluorescens\n",
       "date                Sep 12, 22\n",
       "Name: B5, dtype: object"
      ]
     },
     "metadata": {},
     "output_type": "display_data"
    },
    {
     "name": "stdout",
     "output_type": "stream",
     "text": [
      "Done with concentrations and biomass loops: 0.0013020833333333333 min\n",
      "Done with DCC loop: 0.0 min\n",
      "Done with the dbc & diffc loop: 0.0067708333333333336 min\n",
      "Solver: <class 'optlang.glpk_interface.Model'>\n",
      "Done with loading the variables, constraints, and objective: 0.06692708333333333 min\n",
      "Done exporting the content: 0.013802083333333333 min\n",
      "The simulation lacks any flux.\n",
      "\n",
      "\n",
      "\n",
      "\n",
      "B6\n"
     ]
    },
    {
     "data": {
      "text/plain": [
       "condition          Gentiobiose\n",
       "ModelSEED_ID          cpd05158\n",
       "strain          P. fluorescens\n",
       "date                Sep 12, 22\n",
       "Name: B6, dtype: object"
      ]
     },
     "metadata": {},
     "output_type": "display_data"
    },
    {
     "name": "stdout",
     "output_type": "stream",
     "text": [
      "Done with concentrations and biomass loops: 0.0013020833333333333 min\n",
      "Done with DCC loop: 0.0 min\n",
      "Done with the dbc & diffc loop: 0.0026041666666666665 min\n",
      "Solver: <class 'optlang.glpk_interface.Model'>\n",
      "Done with loading the variables, constraints, and objective: 0.07057291666666667 min\n",
      "Done exporting the content: 0.009375 min\n",
      "The simulation lacks any flux.\n",
      "\n",
      "\n",
      "\n",
      "\n",
      "B7\n"
     ]
    },
    {
     "data": {
      "text/plain": [
       "condition              Sucrose\n",
       "ModelSEED_ID          cpd00076\n",
       "strain          P. fluorescens\n",
       "date                Sep 12, 22\n",
       "Name: B7, dtype: object"
      ]
     },
     "metadata": {},
     "output_type": "display_data"
    },
    {
     "name": "stdout",
     "output_type": "stream",
     "text": [
      "Done with concentrations and biomass loops: 0.0013020833333333333 min\n",
      "Done with DCC loop: 0.0 min\n",
      "Done with the dbc & diffc loop: 0.0026041666666666665 min\n",
      "Solver: <class 'optlang.glpk_interface.Model'>\n",
      "Done with loading the variables, constraints, and objective: 0.07161458333333333 min\n",
      "Done exporting the content: 0.013802083333333333 min\n",
      "The simulation lacks any flux.\n",
      "\n",
      "\n",
      "\n",
      "\n",
      "B8\n"
     ]
    },
    {
     "data": {
      "text/plain": [
       "condition           D-Turanose\n",
       "ModelSEED_ID          cpd20885\n",
       "strain          P. fluorescens\n",
       "date                Sep 12, 22\n",
       "Name: B8, dtype: object"
      ]
     },
     "metadata": {},
     "output_type": "display_data"
    },
    {
     "name": "stdout",
     "output_type": "stream",
     "text": [
      "Done with concentrations and biomass loops: 0.0015625 min\n",
      "Done with DCC loop: 0.0 min\n",
      "Done with the dbc & diffc loop: 0.00234375 min\n",
      "Solver: <class 'optlang.glpk_interface.Model'>\n",
      "Done with loading the variables, constraints, and objective: 0.07135416666666666 min\n",
      "Done exporting the content: 0.009635416666666667 min\n",
      "The simulation lacks any flux.\n",
      "\n",
      "\n",
      "\n",
      "\n",
      "B9\n"
     ]
    },
    {
     "data": {
      "text/plain": [
       "condition            Stachyose\n",
       "ModelSEED_ID          cpd01133\n",
       "strain          P. fluorescens\n",
       "date                Sep 12, 22\n",
       "Name: B9, dtype: object"
      ]
     },
     "metadata": {},
     "output_type": "display_data"
    },
    {
     "name": "stdout",
     "output_type": "stream",
     "text": [
      "Done with concentrations and biomass loops: 0.0010416666666666667 min\n",
      "Done with DCC loop: 0.00026041666666666666 min\n",
      "Done with the dbc & diffc loop: 0.0026041666666666665 min\n",
      "Solver: <class 'optlang.glpk_interface.Model'>\n",
      "Done with loading the variables, constraints, and objective: 0.07213541666666666 min\n",
      "Done exporting the content: 0.009375 min\n",
      "The simulation lacks any flux.\n",
      "\n",
      "\n",
      "\n",
      "\n",
      "B10\n"
     ]
    },
    {
     "data": {
      "text/plain": [
       "condition       Positive Control\n",
       "ModelSEED_ID            cpd00027\n",
       "strain            P. fluorescens\n",
       "date                  Sep 12, 22\n",
       "Name: B10, dtype: object"
      ]
     },
     "metadata": {},
     "output_type": "display_data"
    },
    {
     "name": "stdout",
     "output_type": "stream",
     "text": [
      "Done with concentrations and biomass loops: 0.00546875 min\n",
      "Done with DCC loop: 0.00026041666666666666 min\n",
      "Done with the dbc & diffc loop: 0.0026041666666666665 min\n",
      "Solver: <class 'optlang.glpk_interface.Model'>\n",
      "Done with loading the variables, constraints, and objective: 0.07291666666666667 min\n",
      "Done exporting the content: 0.009635416666666667 min\n",
      "The simulation lacks any flux.\n",
      "\n",
      "\n",
      "\n",
      "\n",
      "B11\n"
     ]
    },
    {
     "data": {
      "text/plain": [
       "condition                 pH 6\n",
       "ModelSEED_ID          cpd00067\n",
       "strain          P. fluorescens\n",
       "date                Sep 12, 22\n",
       "Name: B11, dtype: object"
      ]
     },
     "metadata": {},
     "output_type": "display_data"
    },
    {
     "name": "stdout",
     "output_type": "stream",
     "text": [
      "Done with concentrations and biomass loops: 0.0013020833333333333 min\n",
      "Done with DCC loop: 0.00026041666666666666 min\n",
      "Done with the dbc & diffc loop: 0.003125 min\n",
      "Solver: <class 'optlang.glpk_interface.Model'>\n",
      "Done with loading the variables, constraints, and objective: 0.07994791666666666 min\n",
      "Done exporting the content: 0.010677083333333334 min\n",
      "The simulation lacks any flux.\n",
      "\n",
      "\n",
      "\n",
      "\n",
      "B12\n"
     ]
    },
    {
     "data": {
      "text/plain": [
       "condition                 pH 5\n",
       "ModelSEED_ID          cpd00067\n",
       "strain          P. fluorescens\n",
       "date                Sep 12, 22\n",
       "Name: B12, dtype: object"
      ]
     },
     "metadata": {},
     "output_type": "display_data"
    },
    {
     "name": "stdout",
     "output_type": "stream",
     "text": [
      "Done with concentrations and biomass loops: 0.00625 min\n",
      "Done with DCC loop: 0.00026041666666666666 min\n",
      "Done with the dbc & diffc loop: 0.003125 min\n",
      "Solver: <class 'optlang.glpk_interface.Model'>\n",
      "Done with loading the variables, constraints, and objective: 0.078125 min\n",
      "Done exporting the content: 0.0109375 min\n",
      "graph_0\n",
      "{'content': 'biomass',\n",
      " 'experimental_data': False,\n",
      " 'phenotype': set(),\n",
      " 'species': ['Raw_OD(600)'],\n",
      " 'trial': 'G48'}\n",
      "graph_1\n",
      "{'content': 'conc',\n",
      " 'experimental_data': False,\n",
      " 'mets': ['cpd00067'],\n",
      " 'trial': 'G48'}\n",
      "graph_2\n",
      "{'content': 'biomass',\n",
      " 'experimental_data': False,\n",
      " 'phenotype': set(),\n",
      " 'species': ['ecoli'],\n",
      " 'trial': 'G48'}\n",
      "graph_3\n",
      "{'content': 'total_biomass',\n",
      " 'experimental_data': True,\n",
      " 'species': ['Raw_OD(600)'],\n",
      " 'trial': 'G48'}\n",
      "\n",
      "\n",
      "\n",
      "\n",
      "B13\n"
     ]
    },
    {
     "data": {
      "text/plain": [
       "condition          D-Raffinose\n",
       "ModelSEED_ID          cpd30716\n",
       "strain          P. fluorescens\n",
       "date                Sep 12, 22\n",
       "Name: B13, dtype: object"
      ]
     },
     "metadata": {},
     "output_type": "display_data"
    },
    {
     "name": "stdout",
     "output_type": "stream",
     "text": [
      "Done with concentrations and biomass loops: 0.0013020833333333333 min\n",
      "Done with DCC loop: 0.0 min\n",
      "Done with the dbc & diffc loop: 0.0026041666666666665 min\n",
      "Solver: <class 'optlang.glpk_interface.Model'>\n",
      "Done with loading the variables, constraints, and objective: 0.07916666666666666 min\n",
      "Done exporting the content: 0.009895833333333333 min\n",
      "The simulation lacks any flux.\n",
      "\n",
      "\n",
      "\n",
      "\n",
      "B14\n"
     ]
    },
    {
     "data": {
      "text/plain": [
       "condition       alpha-D-Lactose\n",
       "ModelSEED_ID           cpd01354\n",
       "strain           P. fluorescens\n",
       "date                 Sep 12, 22\n",
       "Name: B14, dtype: object"
      ]
     },
     "metadata": {},
     "output_type": "display_data"
    },
    {
     "name": "stdout",
     "output_type": "stream",
     "text": [
      "Done with concentrations and biomass loops: 0.0013020833333333333 min\n",
      "Done with DCC loop: 0.0 min\n",
      "Done with the dbc & diffc loop: 0.0026041666666666665 min\n",
      "Solver: <class 'optlang.glpk_interface.Model'>\n",
      "Done with loading the variables, constraints, and objective: 0.06692708333333333 min\n",
      "Done exporting the content: 0.009375 min\n",
      "The simulation lacks any flux.\n",
      "\n",
      "\n",
      "\n",
      "\n",
      "B15\n"
     ]
    },
    {
     "data": {
      "text/plain": [
       "condition          D-Melibiose\n",
       "ModelSEED_ID          cpd03198\n",
       "strain          P. fluorescens\n",
       "date                Sep 12, 22\n",
       "Name: B15, dtype: object"
      ]
     },
     "metadata": {},
     "output_type": "display_data"
    },
    {
     "name": "stdout",
     "output_type": "stream",
     "text": [
      "Done with concentrations and biomass loops: 0.0015625 min\n",
      "Done with DCC loop: 0.0 min\n",
      "Done with the dbc & diffc loop: 0.0026041666666666665 min\n",
      "Solver: <class 'optlang.glpk_interface.Model'>\n",
      "Done with loading the variables, constraints, and objective: 0.08255208333333333 min\n",
      "Done exporting the content: 0.009635416666666667 min\n",
      "The simulation lacks any flux.\n",
      "\n",
      "\n",
      "\n",
      "\n",
      "B16\n"
     ]
    },
    {
     "data": {
      "text/plain": [
       "condition       beta-Methyl-D-Glucoside\n",
       "ModelSEED_ID                   cpd00710\n",
       "strain                   P. fluorescens\n",
       "date                         Sep 12, 22\n",
       "Name: B16, dtype: object"
      ]
     },
     "metadata": {},
     "output_type": "display_data"
    },
    {
     "name": "stdout",
     "output_type": "stream",
     "text": [
      "Done with concentrations and biomass loops: 0.0013020833333333333 min\n",
      "Done with DCC loop: 0.0 min\n",
      "Done with the dbc & diffc loop: 0.0026041666666666665 min\n",
      "Solver: <class 'optlang.glpk_interface.Model'>\n",
      "Done with loading the variables, constraints, and objective: 0.06666666666666667 min\n",
      "Done exporting the content: 0.022916666666666665 min\n",
      "The simulation lacks any flux.\n",
      "\n",
      "\n",
      "\n",
      "\n",
      "B17\n"
     ]
    },
    {
     "data": {
      "text/plain": [
       "condition            D-Salicin\n",
       "ModelSEED_ID          cpd01030\n",
       "strain          P. fluorescens\n",
       "date                Sep 12, 22\n",
       "Name: B17, dtype: object"
      ]
     },
     "metadata": {},
     "output_type": "display_data"
    },
    {
     "name": "stdout",
     "output_type": "stream",
     "text": [
      "Done with concentrations and biomass loops: 0.0013020833333333333 min\n",
      "Done with DCC loop: 0.0 min\n",
      "Done with the dbc & diffc loop: 0.00234375 min\n",
      "Solver: <class 'optlang.glpk_interface.Model'>\n",
      "Done with loading the variables, constraints, and objective: 0.0671875 min\n",
      "Done exporting the content: 0.009895833333333333 min\n",
      "The simulation lacks any flux.\n",
      "\n",
      "\n",
      "\n",
      "\n",
      "B18\n"
     ]
    },
    {
     "data": {
      "text/plain": [
       "condition       N-Acetyl-D-Glucosamine\n",
       "ModelSEED_ID                  cpd00122\n",
       "strain                  P. fluorescens\n",
       "date                        Sep 12, 22\n",
       "Name: B18, dtype: object"
      ]
     },
     "metadata": {},
     "output_type": "display_data"
    },
    {
     "name": "stdout",
     "output_type": "stream",
     "text": [
      "Done with concentrations and biomass loops: 0.0013020833333333333 min\n",
      "Done with DCC loop: 0.0 min\n",
      "Done with the dbc & diffc loop: 0.00234375 min\n",
      "Solver: <class 'optlang.glpk_interface.Model'>\n",
      "Done with loading the variables, constraints, and objective: 0.08255208333333333 min\n",
      "Done exporting the content: 0.009635416666666667 min\n",
      "The simulation lacks any flux.\n",
      "\n",
      "\n",
      "\n",
      "\n",
      "B19\n"
     ]
    },
    {
     "data": {
      "text/plain": [
       "condition       N-Acetyl-beta-Mannosamine\n",
       "ModelSEED_ID                     cpd00492\n",
       "strain                     P. fluorescens\n",
       "date                           Sep 12, 22\n",
       "Name: B19, dtype: object"
      ]
     },
     "metadata": {},
     "output_type": "display_data"
    },
    {
     "name": "stdout",
     "output_type": "stream",
     "text": [
      "Done with concentrations and biomass loops: 0.0013020833333333333 min\n",
      "Done with DCC loop: 0.0 min\n",
      "Done with the dbc & diffc loop: 0.002864583333333333 min\n",
      "Solver: <class 'optlang.glpk_interface.Model'>\n",
      "Done with loading the variables, constraints, and objective: 0.06744791666666666 min\n",
      "Done exporting the content: 0.02421875 min\n",
      "The simulation lacks any flux.\n",
      "\n",
      "\n",
      "\n",
      "\n",
      "B20\n"
     ]
    },
    {
     "data": {
      "text/plain": [
       "condition       N-Acetyl-D-Galactosamine\n",
       "ModelSEED_ID                    cpd00175\n",
       "strain                    P. fluorescens\n",
       "date                          Sep 12, 22\n",
       "Name: B20, dtype: object"
      ]
     },
     "metadata": {},
     "output_type": "display_data"
    },
    {
     "name": "stdout",
     "output_type": "stream",
     "text": [
      "Done with concentrations and biomass loops: 0.0013020833333333333 min\n",
      "Done with DCC loop: 0.0 min\n",
      "Done with the dbc & diffc loop: 0.00234375 min\n",
      "Solver: <class 'optlang.glpk_interface.Model'>\n",
      "Done with loading the variables, constraints, and objective: 0.06822916666666666 min\n",
      "Done exporting the content: 0.009375 min\n",
      "The simulation lacks any flux.\n",
      "\n",
      "\n",
      "\n",
      "\n",
      "B21\n"
     ]
    },
    {
     "data": {
      "text/plain": [
       "condition       N-Acetyl-Neuraminic Acid\n",
       "ModelSEED_ID                    cpd03885\n",
       "strain                    P. fluorescens\n",
       "date                          Sep 12, 22\n",
       "Name: B21, dtype: object"
      ]
     },
     "metadata": {},
     "output_type": "display_data"
    },
    {
     "name": "stdout",
     "output_type": "stream",
     "text": [
      "Done with concentrations and biomass loops: 0.0013020833333333333 min\n",
      "Done with DCC loop: 0.0 min\n",
      "Done with the dbc & diffc loop: 0.0026041666666666665 min\n",
      "Solver: <class 'optlang.glpk_interface.Model'>\n",
      "Done with loading the variables, constraints, and objective: 0.08046875 min\n",
      "Done exporting the content: 0.009635416666666667 min\n",
      "The simulation lacks any flux.\n",
      "\n",
      "\n",
      "\n",
      "\n",
      "B22\n"
     ]
    },
    {
     "data": {
      "text/plain": [
       "condition              1% NaCl\n",
       "ModelSEED_ID                  \n",
       "strain          P. fluorescens\n",
       "date                Sep 12, 22\n",
       "Name: B22, dtype: object"
      ]
     },
     "metadata": {},
     "output_type": "display_data"
    },
    {
     "name": "stdout",
     "output_type": "stream",
     "text": [
      "Done with concentrations and biomass loops: 0.0013020833333333333 min\n",
      "Done with DCC loop: 0.00026041666666666666 min\n",
      "Done with the dbc & diffc loop: 0.003125 min\n",
      "Solver: <class 'optlang.glpk_interface.Model'>\n",
      "Done with loading the variables, constraints, and objective: 0.07447916666666667 min\n",
      "Done exporting the content: 0.025260416666666667 min\n",
      "The simulation lacks any flux.\n",
      "\n",
      "\n",
      "\n",
      "\n",
      "B23\n"
     ]
    },
    {
     "data": {
      "text/plain": [
       "condition              4% NaCl\n",
       "ModelSEED_ID                  \n",
       "strain          P. fluorescens\n",
       "date                Sep 12, 22\n",
       "Name: B23, dtype: object"
      ]
     },
     "metadata": {},
     "output_type": "display_data"
    },
    {
     "name": "stdout",
     "output_type": "stream",
     "text": [
      "Done with concentrations and biomass loops: 0.0013020833333333333 min\n",
      "Done with DCC loop: 0.00026041666666666666 min\n",
      "Done with the dbc & diffc loop: 0.003125 min\n",
      "Solver: <class 'optlang.glpk_interface.Model'>\n",
      "Done with loading the variables, constraints, and objective: 0.07473958333333333 min\n",
      "Done exporting the content: 0.011197916666666667 min\n",
      "The simulation lacks any flux.\n",
      "\n",
      "\n",
      "\n",
      "\n",
      "B24\n"
     ]
    },
    {
     "data": {
      "text/plain": [
       "condition              8% NaCl\n",
       "ModelSEED_ID                  \n",
       "strain          P. fluorescens\n",
       "date                Sep 12, 22\n",
       "Name: B24, dtype: object"
      ]
     },
     "metadata": {},
     "output_type": "display_data"
    },
    {
     "name": "stdout",
     "output_type": "stream",
     "text": [
      "Done with concentrations and biomass loops: 0.0018229166666666667 min\n",
      "Done with DCC loop: 0.00026041666666666666 min\n",
      "Done with the dbc & diffc loop: 0.002864583333333333 min\n",
      "Solver: <class 'optlang.glpk_interface.Model'>\n",
      "Done with loading the variables, constraints, and objective: 0.0875 min\n",
      "Done exporting the content: 0.011458333333333333 min\n",
      "The simulation lacks any flux.\n",
      "\n",
      "\n",
      "\n",
      "\n",
      "B25\n"
     ]
    },
    {
     "data": {
      "text/plain": [
       "condition       alpha-D-Glucose\n",
       "ModelSEED_ID           cpd00190\n",
       "strain           P. fluorescens\n",
       "date                 Sep 12, 22\n",
       "Name: B25, dtype: object"
      ]
     },
     "metadata": {},
     "output_type": "display_data"
    },
    {
     "name": "stdout",
     "output_type": "stream",
     "text": [
      "Done with concentrations and biomass loops: 0.0013020833333333333 min\n",
      "Done with DCC loop: 0.0 min\n",
      "Done with the dbc & diffc loop: 0.0026041666666666665 min\n",
      "Solver: <class 'optlang.glpk_interface.Model'>\n",
      "Done with loading the variables, constraints, and objective: 0.08072916666666667 min\n",
      "Done exporting the content: 0.009114583333333334 min\n",
      "The simulation lacks any flux.\n",
      "\n",
      "\n",
      "\n",
      "\n",
      "B26\n"
     ]
    },
    {
     "data": {
      "text/plain": [
       "condition            D-Mannose\n",
       "ModelSEED_ID          cpd00138\n",
       "strain          P. fluorescens\n",
       "date                Sep 12, 22\n",
       "Name: B26, dtype: object"
      ]
     },
     "metadata": {},
     "output_type": "display_data"
    },
    {
     "name": "stdout",
     "output_type": "stream",
     "text": [
      "Done with concentrations and biomass loops: 0.0013020833333333333 min\n",
      "Done with DCC loop: 0.0 min\n",
      "Done with the dbc & diffc loop: 0.002864583333333333 min\n",
      "Solver: <class 'optlang.glpk_interface.Model'>\n",
      "Done with loading the variables, constraints, and objective: 0.06744791666666666 min\n",
      "Done exporting the content: 0.02265625 min\n",
      "The simulation lacks any flux.\n",
      "\n",
      "\n",
      "\n",
      "\n",
      "B27\n"
     ]
    },
    {
     "data": {
      "text/plain": [
       "condition           D-Fructose\n",
       "ModelSEED_ID          cpd00082\n",
       "strain          P. fluorescens\n",
       "date                Sep 12, 22\n",
       "Name: B27, dtype: object"
      ]
     },
     "metadata": {},
     "output_type": "display_data"
    },
    {
     "name": "stdout",
     "output_type": "stream",
     "text": [
      "Done with concentrations and biomass loops: 0.0015625 min\n",
      "Done with DCC loop: 0.0 min\n",
      "Done with the dbc & diffc loop: 0.0026041666666666665 min\n",
      "Solver: <class 'optlang.glpk_interface.Model'>\n",
      "Done with loading the variables, constraints, and objective: 0.06666666666666667 min\n",
      "Done exporting the content: 0.009114583333333334 min\n",
      "The simulation lacks any flux.\n",
      "\n",
      "\n",
      "\n",
      "\n",
      "B28\n"
     ]
    },
    {
     "data": {
      "text/plain": [
       "condition          D-Galactose\n",
       "ModelSEED_ID          cpd00709\n",
       "strain          P. fluorescens\n",
       "date                Sep 12, 22\n",
       "Name: B28, dtype: object"
      ]
     },
     "metadata": {},
     "output_type": "display_data"
    },
    {
     "name": "stdout",
     "output_type": "stream",
     "text": [
      "Done with concentrations and biomass loops: 0.0013020833333333333 min\n",
      "Done with DCC loop: 0.0 min\n",
      "Done with the dbc & diffc loop: 0.00234375 min\n",
      "Solver: <class 'optlang.glpk_interface.Model'>\n",
      "Done with loading the variables, constraints, and objective: 0.08020833333333334 min\n",
      "Done exporting the content: 0.009114583333333334 min\n",
      "The simulation lacks any flux.\n",
      "\n",
      "\n",
      "\n",
      "\n",
      "B29\n"
     ]
    },
    {
     "data": {
      "text/plain": [
       "condition       3-Methyl Glucose\n",
       "ModelSEED_ID                    \n",
       "strain            P. fluorescens\n",
       "date                  Sep 12, 22\n",
       "Name: B29, dtype: object"
      ]
     },
     "metadata": {},
     "output_type": "display_data"
    },
    {
     "name": "stdout",
     "output_type": "stream",
     "text": [
      "Done with concentrations and biomass loops: 0.0015625 min\n",
      "Done with DCC loop: 0.00026041666666666666 min\n",
      "Done with the dbc & diffc loop: 0.002864583333333333 min\n",
      "Solver: <class 'optlang.glpk_interface.Model'>\n",
      "Done with loading the variables, constraints, and objective: 0.0734375 min\n",
      "Done exporting the content: 0.025260416666666667 min\n",
      "The simulation lacks any flux.\n",
      "\n",
      "\n",
      "\n",
      "\n",
      "B30\n"
     ]
    },
    {
     "data": {
      "text/plain": [
       "condition             D-Fucose\n",
       "ModelSEED_ID          cpd00750\n",
       "strain          P. fluorescens\n",
       "date                Sep 12, 22\n",
       "Name: B30, dtype: object"
      ]
     },
     "metadata": {},
     "output_type": "display_data"
    },
    {
     "name": "stdout",
     "output_type": "stream",
     "text": [
      "Done with concentrations and biomass loops: 0.0013020833333333333 min\n",
      "Done with DCC loop: 0.0 min\n",
      "Done with the dbc & diffc loop: 0.0026041666666666665 min\n",
      "Solver: <class 'optlang.glpk_interface.Model'>\n",
      "Done with loading the variables, constraints, and objective: 0.06692708333333333 min\n",
      "Done exporting the content: 0.009114583333333334 min\n",
      "The simulation lacks any flux.\n",
      "\n",
      "\n",
      "\n",
      "\n",
      "B31\n"
     ]
    },
    {
     "data": {
      "text/plain": [
       "condition             L-Fucose\n",
       "ModelSEED_ID          cpd00751\n",
       "strain          P. fluorescens\n",
       "date                Sep 12, 22\n",
       "Name: B31, dtype: object"
      ]
     },
     "metadata": {},
     "output_type": "display_data"
    },
    {
     "name": "stdout",
     "output_type": "stream",
     "text": [
      "Done with concentrations and biomass loops: 0.0015625 min\n",
      "Done with DCC loop: 0.0 min\n",
      "Done with the dbc & diffc loop: 0.0026041666666666665 min\n",
      "Solver: <class 'optlang.glpk_interface.Model'>\n",
      "Done with loading the variables, constraints, and objective: 0.0796875 min\n",
      "Done exporting the content: 0.009114583333333334 min\n",
      "The simulation lacks any flux.\n",
      "\n",
      "\n",
      "\n",
      "\n",
      "B32\n"
     ]
    },
    {
     "data": {
      "text/plain": [
       "condition           L-Rhamnose\n",
       "ModelSEED_ID          cpd00396\n",
       "strain          P. fluorescens\n",
       "date                Sep 12, 22\n",
       "Name: B32, dtype: object"
      ]
     },
     "metadata": {},
     "output_type": "display_data"
    },
    {
     "name": "stdout",
     "output_type": "stream",
     "text": [
      "Done with concentrations and biomass loops: 0.0013020833333333333 min\n",
      "Done with DCC loop: 0.0 min\n",
      "Done with the dbc & diffc loop: 0.002864583333333333 min\n",
      "Solver: <class 'optlang.glpk_interface.Model'>\n",
      "Done with loading the variables, constraints, and objective: 0.06744791666666666 min\n",
      "Done exporting the content: 0.023177083333333334 min\n",
      "The simulation lacks any flux.\n",
      "\n",
      "\n",
      "\n",
      "\n",
      "B33\n"
     ]
    },
    {
     "data": {
      "text/plain": [
       "condition              Inosine\n",
       "ModelSEED_ID          cpd00246\n",
       "strain          P. fluorescens\n",
       "date                Sep 12, 22\n",
       "Name: B33, dtype: object"
      ]
     },
     "metadata": {},
     "output_type": "display_data"
    },
    {
     "name": "stdout",
     "output_type": "stream",
     "text": [
      "Done with concentrations and biomass loops: 0.0013020833333333333 min\n",
      "Done with DCC loop: 0.0 min\n",
      "Done with the dbc & diffc loop: 0.00234375 min\n",
      "Solver: <class 'optlang.glpk_interface.Model'>\n",
      "Done with loading the variables, constraints, and objective: 0.06744791666666666 min\n",
      "Done exporting the content: 0.009375 min\n",
      "The simulation lacks any flux.\n",
      "\n",
      "\n",
      "\n",
      "\n",
      "B34\n"
     ]
    },
    {
     "data": {
      "text/plain": [
       "condition       1% Sodium Lactate\n",
       "ModelSEED_ID             cpd00159\n",
       "strain             P. fluorescens\n",
       "date                   Sep 12, 22\n",
       "Name: B34, dtype: object"
      ]
     },
     "metadata": {},
     "output_type": "display_data"
    },
    {
     "name": "stdout",
     "output_type": "stream",
     "text": [
      "Done with concentrations and biomass loops: 0.0013020833333333333 min\n",
      "Done with DCC loop: 0.0 min\n",
      "Done with the dbc & diffc loop: 0.0026041666666666665 min\n",
      "Solver: <class 'optlang.glpk_interface.Model'>\n",
      "Done with loading the variables, constraints, and objective: 0.0796875 min\n",
      "Done exporting the content: 0.009114583333333334 min\n",
      "The simulation lacks any flux.\n",
      "\n",
      "\n",
      "\n",
      "\n",
      "B35\n"
     ]
    },
    {
     "data": {
      "text/plain": [
       "condition         Fusidic Acid\n",
       "ModelSEED_ID          cpd04095\n",
       "strain          P. fluorescens\n",
       "date                Sep 12, 22\n",
       "Name: B35, dtype: object"
      ]
     },
     "metadata": {},
     "output_type": "display_data"
    },
    {
     "name": "stdout",
     "output_type": "stream",
     "text": [
      "Done with concentrations and biomass loops: 0.0013020833333333333 min\n",
      "Done with DCC loop: 0.0 min\n",
      "Done with the dbc & diffc loop: 0.0026041666666666665 min\n",
      "Solver: <class 'optlang.glpk_interface.Model'>\n",
      "Done with loading the variables, constraints, and objective: 0.0671875 min\n",
      "Done exporting the content: 0.02265625 min\n",
      "The simulation lacks any flux.\n",
      "\n",
      "\n",
      "\n",
      "\n",
      "B36\n"
     ]
    },
    {
     "data": {
      "text/plain": [
       "condition             D-Serine\n",
       "ModelSEED_ID          cpd00550\n",
       "strain          P. fluorescens\n",
       "date                Sep 12, 22\n",
       "Name: B36, dtype: object"
      ]
     },
     "metadata": {},
     "output_type": "display_data"
    },
    {
     "name": "stdout",
     "output_type": "stream",
     "text": [
      "Done with concentrations and biomass loops: 0.0015625 min\n",
      "Done with DCC loop: 0.0 min\n",
      "Done with the dbc & diffc loop: 0.00234375 min\n",
      "Solver: <class 'optlang.glpk_interface.Model'>\n",
      "Done with loading the variables, constraints, and objective: 0.06744791666666666 min\n",
      "Done exporting the content: 0.009375 min\n",
      "The simulation lacks any flux.\n",
      "\n",
      "\n",
      "\n",
      "\n",
      "B37\n"
     ]
    },
    {
     "data": {
      "text/plain": [
       "condition           D-Sorbitol\n",
       "ModelSEED_ID          cpd00588\n",
       "strain          P. fluorescens\n",
       "date                Sep 12, 22\n",
       "Name: B37, dtype: object"
      ]
     },
     "metadata": {},
     "output_type": "display_data"
    },
    {
     "name": "stdout",
     "output_type": "stream",
     "text": [
      "Done with concentrations and biomass loops: 0.0015625 min\n",
      "Done with DCC loop: 0.0 min\n",
      "Done with the dbc & diffc loop: 0.0026041666666666665 min\n",
      "Solver: <class 'optlang.glpk_interface.Model'>\n",
      "Done with loading the variables, constraints, and objective: 0.0796875 min\n",
      "Done exporting the content: 0.009114583333333334 min\n",
      "The simulation lacks any flux.\n",
      "\n",
      "\n",
      "\n",
      "\n",
      "B38\n"
     ]
    },
    {
     "data": {
      "text/plain": [
       "condition           D-Mannitol\n",
       "ModelSEED_ID          cpd00314\n",
       "strain          P. fluorescens\n",
       "date                Sep 12, 22\n",
       "Name: B38, dtype: object"
      ]
     },
     "metadata": {},
     "output_type": "display_data"
    },
    {
     "name": "stdout",
     "output_type": "stream",
     "text": [
      "Done with concentrations and biomass loops: 0.0013020833333333333 min\n",
      "Done with DCC loop: 0.0 min\n",
      "Done with the dbc & diffc loop: 0.0026041666666666665 min\n",
      "Solver: <class 'optlang.glpk_interface.Model'>\n",
      "Done with loading the variables, constraints, and objective: 0.06770833333333333 min\n",
      "Done exporting the content: 0.009635416666666667 min\n",
      "The simulation lacks any flux.\n",
      "\n",
      "\n",
      "\n",
      "\n",
      "B39\n"
     ]
    },
    {
     "data": {
      "text/plain": [
       "condition           D-Arabitol\n",
       "ModelSEED_ID          cpd23223\n",
       "strain          P. fluorescens\n",
       "date                Sep 12, 22\n",
       "Name: B39, dtype: object"
      ]
     },
     "metadata": {},
     "output_type": "display_data"
    },
    {
     "name": "stdout",
     "output_type": "stream",
     "text": [
      "Done with concentrations and biomass loops: 0.0013020833333333333 min\n",
      "Done with DCC loop: 0.0 min\n",
      "Done with the dbc & diffc loop: 0.015625 min\n",
      "Solver: <class 'optlang.glpk_interface.Model'>\n",
      "Done with loading the variables, constraints, and objective: 0.06614583333333333 min\n",
      "Done exporting the content: 0.009375 min\n",
      "The simulation lacks any flux.\n",
      "\n",
      "\n",
      "\n",
      "\n",
      "B40\n"
     ]
    },
    {
     "data": {
      "text/plain": [
       "condition         myo-Inositol\n",
       "ModelSEED_ID          cpd02296\n",
       "strain          P. fluorescens\n",
       "date                Sep 12, 22\n",
       "Name: B40, dtype: object"
      ]
     },
     "metadata": {},
     "output_type": "display_data"
    },
    {
     "name": "stdout",
     "output_type": "stream",
     "text": [
      "Done with concentrations and biomass loops: 0.0013020833333333333 min\n",
      "Done with DCC loop: 0.0 min\n",
      "Done with the dbc & diffc loop: 0.0026041666666666665 min\n",
      "Solver: <class 'optlang.glpk_interface.Model'>\n",
      "Done with loading the variables, constraints, and objective: 0.08020833333333334 min\n",
      "Done exporting the content: 0.009114583333333334 min\n",
      "The simulation lacks any flux.\n",
      "\n",
      "\n",
      "\n",
      "\n",
      "B41\n"
     ]
    },
    {
     "data": {
      "text/plain": [
       "condition             Glycerol\n",
       "ModelSEED_ID          cpd00100\n",
       "strain          P. fluorescens\n",
       "date                Sep 12, 22\n",
       "Name: B41, dtype: object"
      ]
     },
     "metadata": {},
     "output_type": "display_data"
    },
    {
     "name": "stdout",
     "output_type": "stream",
     "text": [
      "Done with concentrations and biomass loops: 0.0015625 min\n",
      "Done with DCC loop: 0.0 min\n",
      "Done with the dbc & diffc loop: 0.0026041666666666665 min\n",
      "Solver: <class 'optlang.glpk_interface.Model'>\n",
      "Done with loading the variables, constraints, and objective: 0.06640625 min\n",
      "Done exporting the content: 0.008854166666666666 min\n",
      "The simulation lacks any flux.\n",
      "\n",
      "\n",
      "\n",
      "\n",
      "B42\n"
     ]
    },
    {
     "data": {
      "text/plain": [
       "condition       D-Glucose-6-PO4\n",
       "ModelSEED_ID                   \n",
       "strain           P. fluorescens\n",
       "date                 Sep 12, 22\n",
       "Name: B42, dtype: object"
      ]
     },
     "metadata": {},
     "output_type": "display_data"
    },
    {
     "name": "stdout",
     "output_type": "stream",
     "text": [
      "Done with concentrations and biomass loops: 0.0015625 min\n",
      "Done with DCC loop: 0.00026041666666666666 min\n",
      "Done with the dbc & diffc loop: 0.01640625 min\n",
      "Solver: <class 'optlang.glpk_interface.Model'>\n",
      "Done with loading the variables, constraints, and objective: 0.07395833333333333 min\n",
      "Done exporting the content: 0.011197916666666667 min\n",
      "The simulation lacks any flux.\n",
      "\n",
      "\n",
      "\n",
      "\n",
      "B43\n"
     ]
    },
    {
     "data": {
      "text/plain": [
       "condition       D-Fructose-6-PO4\n",
       "ModelSEED_ID            cpd00079\n",
       "strain            P. fluorescens\n",
       "date                  Sep 12, 22\n",
       "Name: B43, dtype: object"
      ]
     },
     "metadata": {},
     "output_type": "display_data"
    },
    {
     "name": "stdout",
     "output_type": "stream",
     "text": [
      "Done with concentrations and biomass loops: 0.0015625 min\n",
      "Done with DCC loop: 0.0 min\n",
      "Done with the dbc & diffc loop: 0.0026041666666666665 min\n",
      "Solver: <class 'optlang.glpk_interface.Model'>\n",
      "Done with loading the variables, constraints, and objective: 0.08177083333333333 min\n",
      "Done exporting the content: 0.009635416666666667 min\n",
      "The simulation lacks any flux.\n",
      "\n",
      "\n",
      "\n",
      "\n",
      "B44\n"
     ]
    },
    {
     "data": {
      "text/plain": [
       "condition       D-Aspartic Acid\n",
       "ModelSEED_ID           cpd00320\n",
       "strain           P. fluorescens\n",
       "date                 Sep 12, 22\n",
       "Name: B44, dtype: object"
      ]
     },
     "metadata": {},
     "output_type": "display_data"
    },
    {
     "name": "stdout",
     "output_type": "stream",
     "text": [
      "Done with concentrations and biomass loops: 0.0013020833333333333 min\n",
      "Done with DCC loop: 0.0 min\n",
      "Done with the dbc & diffc loop: 0.0026041666666666665 min\n",
      "Solver: <class 'optlang.glpk_interface.Model'>\n",
      "Done with loading the variables, constraints, and objective: 0.06770833333333333 min\n",
      "Done exporting the content: 0.009114583333333334 min\n",
      "The simulation lacks any flux.\n",
      "\n",
      "\n",
      "\n",
      "\n",
      "B45\n"
     ]
    },
    {
     "data": {
      "text/plain": [
       "condition             D-Serine\n",
       "ModelSEED_ID          cpd00550\n",
       "strain          P. fluorescens\n",
       "date                Sep 12, 22\n",
       "Name: B45, dtype: object"
      ]
     },
     "metadata": {},
     "output_type": "display_data"
    },
    {
     "name": "stdout",
     "output_type": "stream",
     "text": [
      "Done with concentrations and biomass loops: 0.014583333333333334 min\n",
      "Done with DCC loop: 0.0 min\n",
      "Done with the dbc & diffc loop: 0.0026041666666666665 min\n",
      "Solver: <class 'optlang.glpk_interface.Model'>\n",
      "Done with loading the variables, constraints, and objective: 0.06744791666666666 min\n",
      "Done exporting the content: 0.009635416666666667 min\n",
      "The simulation lacks any flux.\n",
      "\n",
      "\n",
      "\n",
      "\n",
      "B46\n"
     ]
    },
    {
     "data": {
      "text/plain": [
       "condition       Troleandomycin\n",
       "ModelSEED_ID          cpd09300\n",
       "strain          P. fluorescens\n",
       "date                Sep 12, 22\n",
       "Name: B46, dtype: object"
      ]
     },
     "metadata": {},
     "output_type": "display_data"
    },
    {
     "name": "stdout",
     "output_type": "stream",
     "text": [
      "Done with concentrations and biomass loops: 0.0015625 min\n",
      "Done with DCC loop: 0.0 min\n",
      "Done with the dbc & diffc loop: 0.0026041666666666665 min\n",
      "Solver: <class 'optlang.glpk_interface.Model'>\n",
      "Done with loading the variables, constraints, and objective: 0.08072916666666667 min\n",
      "Done exporting the content: 0.009375 min\n",
      "The simulation lacks any flux.\n",
      "\n",
      "\n",
      "\n",
      "\n",
      "B47\n"
     ]
    },
    {
     "data": {
      "text/plain": [
       "condition         Rifamycin SV\n",
       "ModelSEED_ID          cpd08835\n",
       "strain          P. fluorescens\n",
       "date                Sep 12, 22\n",
       "Name: B47, dtype: object"
      ]
     },
     "metadata": {},
     "output_type": "display_data"
    },
    {
     "name": "stdout",
     "output_type": "stream",
     "text": [
      "Done with concentrations and biomass loops: 0.0013020833333333333 min\n",
      "Done with DCC loop: 0.0 min\n",
      "Done with the dbc & diffc loop: 0.0026041666666666665 min\n",
      "Solver: <class 'optlang.glpk_interface.Model'>\n",
      "Done with loading the variables, constraints, and objective: 0.0671875 min\n",
      "Done exporting the content: 0.009114583333333334 min\n",
      "The simulation lacks any flux.\n",
      "\n",
      "\n",
      "\n",
      "\n",
      "B48\n"
     ]
    },
    {
     "data": {
      "text/plain": [
       "condition          Minocycline\n",
       "ModelSEED_ID          cpd04461\n",
       "strain          P. fluorescens\n",
       "date                Sep 12, 22\n",
       "Name: B48, dtype: object"
      ]
     },
     "metadata": {},
     "output_type": "display_data"
    },
    {
     "name": "stdout",
     "output_type": "stream",
     "text": [
      "Done with concentrations and biomass loops: 0.0015625 min\n",
      "Done with DCC loop: 0.0 min\n",
      "Done with the dbc & diffc loop: 0.015885416666666666 min\n",
      "Solver: <class 'optlang.glpk_interface.Model'>\n",
      "Done with loading the variables, constraints, and objective: 0.0671875 min\n",
      "Done exporting the content: 0.009635416666666667 min\n",
      "The simulation lacks any flux.\n",
      "\n",
      "\n",
      "\n",
      "\n",
      "B49\n"
     ]
    },
    {
     "data": {
      "text/plain": [
       "condition              Gelatin\n",
       "ModelSEED_ID                  \n",
       "strain          P. fluorescens\n",
       "date                Sep 12, 22\n",
       "Name: B49, dtype: object"
      ]
     },
     "metadata": {},
     "output_type": "display_data"
    },
    {
     "name": "stdout",
     "output_type": "stream",
     "text": [
      "Done with concentrations and biomass loops: 0.0015625 min\n",
      "Done with DCC loop: 0.00026041666666666666 min\n",
      "Done with the dbc & diffc loop: 0.002864583333333333 min\n",
      "Solver: <class 'optlang.glpk_interface.Model'>\n",
      "Done with loading the variables, constraints, and objective: 0.08671875 min\n",
      "Done exporting the content: 0.0109375 min\n",
      "The simulation lacks any flux.\n",
      "\n",
      "\n",
      "\n",
      "\n",
      "B50\n"
     ]
    },
    {
     "data": {
      "text/plain": [
       "condition       Glycyl-L-Proline\n",
       "ModelSEED_ID            cpd00129\n",
       "strain            P. fluorescens\n",
       "date                  Sep 12, 22\n",
       "Name: B50, dtype: object"
      ]
     },
     "metadata": {},
     "output_type": "display_data"
    },
    {
     "name": "stdout",
     "output_type": "stream",
     "text": [
      "Done with concentrations and biomass loops: 0.0015625 min\n",
      "Done with DCC loop: 0.0 min\n",
      "Done with the dbc & diffc loop: 0.00234375 min\n",
      "Solver: <class 'optlang.glpk_interface.Model'>\n",
      "Done with loading the variables, constraints, and objective: 0.06692708333333333 min\n",
      "Done exporting the content: 0.009375 min\n",
      "The simulation lacks any flux.\n",
      "\n",
      "\n",
      "\n",
      "\n",
      "B51\n"
     ]
    },
    {
     "data": {
      "text/plain": [
       "condition            L-Alanine\n",
       "ModelSEED_ID          cpd00035\n",
       "strain          P. fluorescens\n",
       "date                Sep 12, 22\n",
       "Name: B51, dtype: object"
      ]
     },
     "metadata": {},
     "output_type": "display_data"
    },
    {
     "name": "stdout",
     "output_type": "stream",
     "text": [
      "Done with concentrations and biomass loops: 0.014583333333333334 min\n",
      "Done with DCC loop: 0.0 min\n",
      "Done with the dbc & diffc loop: 0.0026041666666666665 min\n",
      "Solver: <class 'optlang.glpk_interface.Model'>\n",
      "Done with loading the variables, constraints, and objective: 0.06666666666666667 min\n",
      "Done exporting the content: 0.009375 min\n",
      "The simulation lacks any flux.\n",
      "\n",
      "\n",
      "\n",
      "\n",
      "B52\n"
     ]
    },
    {
     "data": {
      "text/plain": [
       "condition           L-Arginine\n",
       "ModelSEED_ID          cpd00051\n",
       "strain          P. fluorescens\n",
       "date                Sep 12, 22\n",
       "Name: B52, dtype: object"
      ]
     },
     "metadata": {},
     "output_type": "display_data"
    },
    {
     "name": "stdout",
     "output_type": "stream",
     "text": [
      "Done with concentrations and biomass loops: 0.0015625 min\n",
      "Done with DCC loop: 0.0 min\n",
      "Done with the dbc & diffc loop: 0.0026041666666666665 min\n",
      "Solver: <class 'optlang.glpk_interface.Model'>\n",
      "Done with loading the variables, constraints, and objective: 0.07994791666666666 min\n",
      "Done exporting the content: 0.009375 min\n",
      "The simulation lacks any flux.\n",
      "\n",
      "\n",
      "\n",
      "\n",
      "B53\n"
     ]
    },
    {
     "data": {
      "text/plain": [
       "condition       L-Aspartic Acid\n",
       "ModelSEED_ID           cpd00041\n",
       "strain           P. fluorescens\n",
       "date                 Sep 12, 22\n",
       "Name: B53, dtype: object"
      ]
     },
     "metadata": {},
     "output_type": "display_data"
    },
    {
     "name": "stdout",
     "output_type": "stream",
     "text": [
      "Done with concentrations and biomass loops: 0.0013020833333333333 min\n",
      "Done with DCC loop: 0.0 min\n",
      "Done with the dbc & diffc loop: 0.0026041666666666665 min\n",
      "Solver: <class 'optlang.glpk_interface.Model'>\n",
      "Done with loading the variables, constraints, and objective: 0.06588541666666667 min\n",
      "Done exporting the content: 0.009114583333333334 min\n",
      "The simulation lacks any flux.\n",
      "\n",
      "\n",
      "\n",
      "\n",
      "B54\n"
     ]
    },
    {
     "data": {
      "text/plain": [
       "condition       L-Glutamic Acid\n",
       "ModelSEED_ID           cpd00023\n",
       "strain           P. fluorescens\n",
       "date                 Sep 12, 22\n",
       "Name: B54, dtype: object"
      ]
     },
     "metadata": {},
     "output_type": "display_data"
    },
    {
     "name": "stdout",
     "output_type": "stream",
     "text": [
      "Done with concentrations and biomass loops: 0.014322916666666666 min\n",
      "Done with DCC loop: 0.0 min\n",
      "Done with the dbc & diffc loop: 0.002864583333333333 min\n",
      "Solver: <class 'optlang.glpk_interface.Model'>\n",
      "Done with loading the variables, constraints, and objective: 0.06666666666666667 min\n",
      "Done exporting the content: 0.009114583333333334 min\n",
      "The simulation lacks any flux.\n",
      "\n",
      "\n",
      "\n",
      "\n",
      "B55\n"
     ]
    },
    {
     "data": {
      "text/plain": [
       "condition          L-Histidine\n",
       "ModelSEED_ID          cpd00119\n",
       "strain          P. fluorescens\n",
       "date                Sep 12, 22\n",
       "Name: B55, dtype: object"
      ]
     },
     "metadata": {},
     "output_type": "display_data"
    },
    {
     "name": "stdout",
     "output_type": "stream",
     "text": [
      "Done with concentrations and biomass loops: 0.0013020833333333333 min\n",
      "Done with DCC loop: 0.0 min\n",
      "Done with the dbc & diffc loop: 0.0026041666666666665 min\n",
      "Solver: <class 'optlang.glpk_interface.Model'>\n",
      "Done with loading the variables, constraints, and objective: 0.07994791666666666 min\n",
      "Done exporting the content: 0.009635416666666667 min\n",
      "The simulation lacks any flux.\n",
      "\n",
      "\n",
      "\n",
      "\n",
      "B56\n"
     ]
    },
    {
     "data": {
      "text/plain": [
       "condition       L-Pyroglutamic Acid\n",
       "ModelSEED_ID                       \n",
       "strain               P. fluorescens\n",
       "date                     Sep 12, 22\n",
       "Name: B56, dtype: object"
      ]
     },
     "metadata": {},
     "output_type": "display_data"
    },
    {
     "name": "stdout",
     "output_type": "stream",
     "text": [
      "Done with concentrations and biomass loops: 0.0018229166666666667 min\n",
      "Done with DCC loop: 0.00026041666666666666 min\n",
      "Done with the dbc & diffc loop: 0.003125 min\n",
      "Solver: <class 'optlang.glpk_interface.Model'>\n",
      "Done with loading the variables, constraints, and objective: 0.07526041666666666 min\n",
      "Done exporting the content: 0.025 min\n",
      "The simulation lacks any flux.\n",
      "\n",
      "\n",
      "\n",
      "\n",
      "B57\n"
     ]
    },
    {
     "data": {
      "text/plain": [
       "condition             L-Serine\n",
       "ModelSEED_ID          cpd00054\n",
       "strain          P. fluorescens\n",
       "date                Sep 12, 22\n",
       "Name: B57, dtype: object"
      ]
     },
     "metadata": {},
     "output_type": "display_data"
    },
    {
     "name": "stdout",
     "output_type": "stream",
     "text": [
      "Done with concentrations and biomass loops: 0.0013020833333333333 min\n",
      "Done with DCC loop: 0.0 min\n",
      "Done with the dbc & diffc loop: 0.0026041666666666665 min\n",
      "Solver: <class 'optlang.glpk_interface.Model'>\n",
      "Done with loading the variables, constraints, and objective: 0.06770833333333333 min\n",
      "Done exporting the content: 0.009375 min\n",
      "The simulation lacks any flux.\n",
      "\n",
      "\n",
      "\n",
      "\n",
      "B58\n"
     ]
    },
    {
     "data": {
      "text/plain": [
       "condition           Lincomycin\n",
       "ModelSEED_ID          cpd04183\n",
       "strain          P. fluorescens\n",
       "date                Sep 12, 22\n",
       "Name: B58, dtype: object"
      ]
     },
     "metadata": {},
     "output_type": "display_data"
    },
    {
     "name": "stdout",
     "output_type": "stream",
     "text": [
      "Done with concentrations and biomass loops: 0.0013020833333333333 min\n",
      "Done with DCC loop: 0.0 min\n",
      "Done with the dbc & diffc loop: 0.0026041666666666665 min\n",
      "Solver: <class 'optlang.glpk_interface.Model'>\n",
      "Done with loading the variables, constraints, and objective: 0.08046875 min\n",
      "Done exporting the content: 0.009895833333333333 min\n",
      "The simulation lacks any flux.\n",
      "\n",
      "\n",
      "\n",
      "\n",
      "B59\n"
     ]
    },
    {
     "data": {
      "text/plain": [
       "condition        Guanidine HCl\n",
       "ModelSEED_ID          cpd19240\n",
       "strain          P. fluorescens\n",
       "date                Sep 12, 22\n",
       "Name: B59, dtype: object"
      ]
     },
     "metadata": {},
     "output_type": "display_data"
    },
    {
     "name": "stdout",
     "output_type": "stream",
     "text": [
      "Done with concentrations and biomass loops: 0.0013020833333333333 min\n",
      "Done with DCC loop: 0.0 min\n",
      "Done with the dbc & diffc loop: 0.002864583333333333 min\n",
      "Solver: <class 'optlang.glpk_interface.Model'>\n",
      "Done with loading the variables, constraints, and objective: 0.0671875 min\n",
      "Done exporting the content: 0.0234375 min\n",
      "The simulation lacks any flux.\n",
      "\n",
      "\n",
      "\n",
      "\n",
      "B60\n"
     ]
    },
    {
     "data": {
      "text/plain": [
       "condition           Niaproof 4\n",
       "ModelSEED_ID                  \n",
       "strain          P. fluorescens\n",
       "date                Sep 12, 22\n",
       "Name: B60, dtype: object"
      ]
     },
     "metadata": {},
     "output_type": "display_data"
    },
    {
     "name": "stdout",
     "output_type": "stream",
     "text": [
      "Done with concentrations and biomass loops: 0.0015625 min\n",
      "Done with DCC loop: 0.00026041666666666666 min\n",
      "Done with the dbc & diffc loop: 0.002864583333333333 min\n",
      "Solver: <class 'optlang.glpk_interface.Model'>\n",
      "Done with loading the variables, constraints, and objective: 0.075 min\n",
      "Done exporting the content: 0.0109375 min\n",
      "The simulation lacks any flux.\n",
      "\n",
      "\n",
      "\n",
      "\n",
      "B61\n"
     ]
    },
    {
     "data": {
      "text/plain": [
       "condition               Pectin\n",
       "ModelSEED_ID          cpd11601\n",
       "strain          P. fluorescens\n",
       "date                Sep 12, 22\n",
       "Name: B61, dtype: object"
      ]
     },
     "metadata": {},
     "output_type": "display_data"
    },
    {
     "name": "stdout",
     "output_type": "stream",
     "text": [
      "Done with concentrations and biomass loops: 0.0013020833333333333 min\n",
      "Done with DCC loop: 0.0 min\n",
      "Done with the dbc & diffc loop: 0.0026041666666666665 min\n",
      "Solver: <class 'optlang.glpk_interface.Model'>\n",
      "Done with loading the variables, constraints, and objective: 0.07994791666666666 min\n",
      "Done exporting the content: 0.009895833333333333 min\n",
      "The simulation lacks any flux.\n",
      "\n",
      "\n",
      "\n",
      "\n",
      "B62\n"
     ]
    },
    {
     "data": {
      "text/plain": [
       "condition       D-Galacturonic Acid\n",
       "ModelSEED_ID               cpd17605\n",
       "strain               P. fluorescens\n",
       "date                     Sep 12, 22\n",
       "Name: B62, dtype: object"
      ]
     },
     "metadata": {},
     "output_type": "display_data"
    },
    {
     "name": "stdout",
     "output_type": "stream",
     "text": [
      "Done with concentrations and biomass loops: 0.0013020833333333333 min\n",
      "Done with DCC loop: 0.0 min\n",
      "Done with the dbc & diffc loop: 0.0026041666666666665 min\n",
      "Solver: <class 'optlang.glpk_interface.Model'>\n",
      "Done with loading the variables, constraints, and objective: 0.06796875 min\n",
      "Done exporting the content: 0.023177083333333334 min\n",
      "The simulation lacks any flux.\n",
      "\n",
      "\n",
      "\n",
      "\n",
      "B63\n"
     ]
    },
    {
     "data": {
      "text/plain": [
       "condition       L-Galactonic Acid Lactone\n",
       "ModelSEED_ID                     cpd14659\n",
       "strain                     P. fluorescens\n",
       "date                           Sep 12, 22\n",
       "Name: B63, dtype: object"
      ]
     },
     "metadata": {},
     "output_type": "display_data"
    },
    {
     "name": "stdout",
     "output_type": "stream",
     "text": [
      "Done with concentrations and biomass loops: 0.0013020833333333333 min\n",
      "Done with DCC loop: 0.0 min\n",
      "Done with the dbc & diffc loop: 0.0026041666666666665 min\n",
      "Solver: <class 'optlang.glpk_interface.Model'>\n",
      "Done with loading the variables, constraints, and objective: 0.06692708333333333 min\n",
      "Done exporting the content: 0.009375 min\n",
      "The simulation lacks any flux.\n",
      "\n",
      "\n",
      "\n",
      "\n",
      "B64\n"
     ]
    },
    {
     "data": {
      "text/plain": [
       "condition       D-Gluconic Acid\n",
       "ModelSEED_ID           cpd32827\n",
       "strain           P. fluorescens\n",
       "date                 Sep 12, 22\n",
       "Name: B64, dtype: object"
      ]
     },
     "metadata": {},
     "output_type": "display_data"
    },
    {
     "name": "stdout",
     "output_type": "stream",
     "text": [
      "Done with concentrations and biomass loops: 0.0015625 min\n",
      "Done with DCC loop: 0.0 min\n",
      "Done with the dbc & diffc loop: 0.0026041666666666665 min\n",
      "Solver: <class 'optlang.glpk_interface.Model'>\n",
      "Done with loading the variables, constraints, and objective: 0.07994791666666666 min\n",
      "Done exporting the content: 0.009375 min\n",
      "The simulation lacks any flux.\n",
      "\n",
      "\n",
      "\n",
      "\n",
      "B65\n"
     ]
    },
    {
     "data": {
      "text/plain": [
       "condition       D-Glucuronic Acid\n",
       "ModelSEED_ID             cpd00164\n",
       "strain             P. fluorescens\n",
       "date                   Sep 12, 22\n",
       "Name: B65, dtype: object"
      ]
     },
     "metadata": {},
     "output_type": "display_data"
    },
    {
     "name": "stdout",
     "output_type": "stream",
     "text": [
      "Done with concentrations and biomass loops: 0.0013020833333333333 min\n",
      "Done with DCC loop: 0.0 min\n",
      "Done with the dbc & diffc loop: 0.002864583333333333 min\n",
      "Solver: <class 'optlang.glpk_interface.Model'>\n",
      "Done with loading the variables, constraints, and objective: 0.06796875 min\n",
      "Done exporting the content: 0.02421875 min\n",
      "The simulation lacks any flux.\n",
      "\n",
      "\n",
      "\n",
      "\n",
      "B66\n"
     ]
    },
    {
     "data": {
      "text/plain": [
       "condition        Glucuronamide\n",
       "ModelSEED_ID          cpd26269\n",
       "strain          P. fluorescens\n",
       "date                Sep 12, 22\n",
       "Name: B66, dtype: object"
      ]
     },
     "metadata": {},
     "output_type": "display_data"
    },
    {
     "name": "stdout",
     "output_type": "stream",
     "text": [
      "Done with concentrations and biomass loops: 0.0013020833333333333 min\n",
      "Done with DCC loop: 0.0 min\n",
      "Done with the dbc & diffc loop: 0.0026041666666666665 min\n",
      "Solver: <class 'optlang.glpk_interface.Model'>\n",
      "Done with loading the variables, constraints, and objective: 0.06744791666666666 min\n",
      "Done exporting the content: 0.009114583333333334 min\n",
      "The simulation lacks any flux.\n",
      "\n",
      "\n",
      "\n",
      "\n",
      "B67\n"
     ]
    },
    {
     "data": {
      "text/plain": [
       "condition           Mucic Acid\n",
       "ModelSEED_ID          cpd00652\n",
       "strain          P. fluorescens\n",
       "date                Sep 12, 22\n",
       "Name: B67, dtype: object"
      ]
     },
     "metadata": {},
     "output_type": "display_data"
    },
    {
     "name": "stdout",
     "output_type": "stream",
     "text": [
      "Done with concentrations and biomass loops: 0.0013020833333333333 min\n",
      "Done with DCC loop: 0.0 min\n",
      "Done with the dbc & diffc loop: 0.0026041666666666665 min\n",
      "Solver: <class 'optlang.glpk_interface.Model'>\n",
      "Done with loading the variables, constraints, and objective: 0.0796875 min\n",
      "Done exporting the content: 0.009635416666666667 min\n",
      "The simulation lacks any flux.\n",
      "\n",
      "\n",
      "\n",
      "\n",
      "B68\n"
     ]
    },
    {
     "data": {
      "text/plain": [
       "condition          Quinic Acid\n",
       "ModelSEED_ID          cpd00248\n",
       "strain          P. fluorescens\n",
       "date                Sep 12, 22\n",
       "Name: B68, dtype: object"
      ]
     },
     "metadata": {},
     "output_type": "display_data"
    },
    {
     "name": "stdout",
     "output_type": "stream",
     "text": [
      "Done with concentrations and biomass loops: 0.0013020833333333333 min\n",
      "Done with DCC loop: 0.0 min\n",
      "Done with the dbc & diffc loop: 0.0026041666666666665 min\n",
      "Solver: <class 'optlang.glpk_interface.Model'>\n",
      "Done with loading the variables, constraints, and objective: 0.06822916666666666 min\n",
      "Done exporting the content: 0.023697916666666666 min\n",
      "The simulation lacks any flux.\n",
      "\n",
      "\n",
      "\n",
      "\n",
      "B69\n"
     ]
    },
    {
     "data": {
      "text/plain": [
       "condition       D-Saccharic Acid\n",
       "ModelSEED_ID            cpd00571\n",
       "strain            P. fluorescens\n",
       "date                  Sep 12, 22\n",
       "Name: B69, dtype: object"
      ]
     },
     "metadata": {},
     "output_type": "display_data"
    },
    {
     "name": "stdout",
     "output_type": "stream",
     "text": [
      "Done with concentrations and biomass loops: 0.0013020833333333333 min\n",
      "Done with DCC loop: 0.0 min\n",
      "Done with the dbc & diffc loop: 0.0026041666666666665 min\n",
      "Solver: <class 'optlang.glpk_interface.Model'>\n",
      "Done with loading the variables, constraints, and objective: 0.06927083333333334 min\n",
      "Done exporting the content: 0.009375 min\n",
      "The simulation lacks any flux.\n",
      "\n",
      "\n",
      "\n",
      "\n",
      "B70\n"
     ]
    },
    {
     "data": {
      "text/plain": [
       "condition           Vancomycin\n",
       "ModelSEED_ID          cpd04090\n",
       "strain          P. fluorescens\n",
       "date                Sep 12, 22\n",
       "Name: B70, dtype: object"
      ]
     },
     "metadata": {},
     "output_type": "display_data"
    },
    {
     "name": "stdout",
     "output_type": "stream",
     "text": [
      "Done with concentrations and biomass loops: 0.0013020833333333333 min\n",
      "Done with DCC loop: 0.0 min\n",
      "Done with the dbc & diffc loop: 0.0026041666666666665 min\n",
      "Solver: <class 'optlang.glpk_interface.Model'>\n",
      "Done with loading the variables, constraints, and objective: 0.08072916666666667 min\n",
      "Done exporting the content: 0.009375 min\n",
      "The simulation lacks any flux.\n",
      "\n",
      "\n",
      "\n",
      "\n",
      "B71\n"
     ]
    },
    {
     "data": {
      "text/plain": [
       "condition       Tetrazolium Violet\n",
       "ModelSEED_ID              cpd22643\n",
       "strain              P. fluorescens\n",
       "date                    Sep 12, 22\n",
       "Name: B71, dtype: object"
      ]
     },
     "metadata": {},
     "output_type": "display_data"
    },
    {
     "name": "stdout",
     "output_type": "stream",
     "text": [
      "Done with concentrations and biomass loops: 0.0013020833333333333 min\n",
      "Done with DCC loop: 0.0 min\n",
      "Done with the dbc & diffc loop: 0.00234375 min\n",
      "Solver: <class 'optlang.glpk_interface.Model'>\n",
      "Done with loading the variables, constraints, and objective: 0.08046875 min\n",
      "Done exporting the content: 0.009114583333333334 min\n",
      "The simulation lacks any flux.\n",
      "\n",
      "\n",
      "\n",
      "\n",
      "B72\n"
     ]
    },
    {
     "data": {
      "text/plain": [
       "condition       Tetrazolium Blue\n",
       "ModelSEED_ID            cpd09447\n",
       "strain            P. fluorescens\n",
       "date                  Sep 12, 22\n",
       "Name: B72, dtype: object"
      ]
     },
     "metadata": {},
     "output_type": "display_data"
    },
    {
     "name": "stdout",
     "output_type": "stream",
     "text": [
      "Done with concentrations and biomass loops: 0.0013020833333333333 min\n",
      "Done with DCC loop: 0.0 min\n",
      "Done with the dbc & diffc loop: 0.002864583333333333 min\n",
      "Solver: <class 'optlang.glpk_interface.Model'>\n",
      "Done with loading the variables, constraints, and objective: 0.06692708333333333 min\n",
      "Done exporting the content: 0.009635416666666667 min\n",
      "The simulation lacks any flux.\n",
      "\n",
      "\n",
      "\n",
      "\n",
      "B73\n"
     ]
    },
    {
     "data": {
      "text/plain": [
       "condition       p-Hydroxy-Phenylacetic Acid\n",
       "ModelSEED_ID                       cpd19069\n",
       "strain                       P. fluorescens\n",
       "date                             Sep 12, 22\n",
       "Name: B73, dtype: object"
      ]
     },
     "metadata": {},
     "output_type": "display_data"
    },
    {
     "name": "stdout",
     "output_type": "stream",
     "text": [
      "Done with concentrations and biomass loops: 0.0013020833333333333 min\n",
      "Done with DCC loop: 0.0 min\n",
      "Done with the dbc & diffc loop: 0.0026041666666666665 min\n",
      "Solver: <class 'optlang.glpk_interface.Model'>\n",
      "Done with loading the variables, constraints, and objective: 0.08098958333333334 min\n",
      "Done exporting the content: 0.009635416666666667 min\n",
      "The simulation lacks any flux.\n",
      "\n",
      "\n",
      "\n",
      "\n",
      "B74\n"
     ]
    },
    {
     "data": {
      "text/plain": [
       "condition       Methyl Pyruvate\n",
       "ModelSEED_ID           cpd24420\n",
       "strain           P. fluorescens\n",
       "date                 Sep 12, 22\n",
       "Name: B74, dtype: object"
      ]
     },
     "metadata": {},
     "output_type": "display_data"
    },
    {
     "name": "stdout",
     "output_type": "stream",
     "text": [
      "Done with concentrations and biomass loops: 0.0015625 min\n",
      "Done with DCC loop: 0.0 min\n",
      "Done with the dbc & diffc loop: 0.0026041666666666665 min\n",
      "Solver: <class 'optlang.glpk_interface.Model'>\n",
      "Done with loading the variables, constraints, and objective: 0.06692708333333333 min\n",
      "Done exporting the content: 0.0234375 min\n",
      "The simulation lacks any flux.\n",
      "\n",
      "\n",
      "\n",
      "\n",
      "B75\n"
     ]
    },
    {
     "data": {
      "text/plain": [
       "condition       D-Lactic Acid Methyl Ester\n",
       "ModelSEED_ID                      cpd24428\n",
       "strain                      P. fluorescens\n",
       "date                            Sep 12, 22\n",
       "Name: B75, dtype: object"
      ]
     },
     "metadata": {},
     "output_type": "display_data"
    },
    {
     "name": "stdout",
     "output_type": "stream",
     "text": [
      "Done with concentrations and biomass loops: 0.0013020833333333333 min\n",
      "Done with DCC loop: 0.0 min\n",
      "Done with the dbc & diffc loop: 0.0026041666666666665 min\n",
      "Solver: <class 'optlang.glpk_interface.Model'>\n",
      "Done with loading the variables, constraints, and objective: 0.06796875 min\n",
      "Done exporting the content: 0.009375 min\n",
      "The simulation lacks any flux.\n",
      "\n",
      "\n",
      "\n",
      "\n",
      "B76\n"
     ]
    },
    {
     "data": {
      "text/plain": [
       "condition        L-Lactic Acid\n",
       "ModelSEED_ID          cpd00159\n",
       "strain          P. fluorescens\n",
       "date                Sep 12, 22\n",
       "Name: B76, dtype: object"
      ]
     },
     "metadata": {},
     "output_type": "display_data"
    },
    {
     "name": "stdout",
     "output_type": "stream",
     "text": [
      "Done with concentrations and biomass loops: 0.0013020833333333333 min\n",
      "Done with DCC loop: 0.0 min\n",
      "Done with the dbc & diffc loop: 0.00234375 min\n",
      "Solver: <class 'optlang.glpk_interface.Model'>\n",
      "Done with loading the variables, constraints, and objective: 0.07916666666666666 min\n",
      "Done exporting the content: 0.008854166666666666 min\n",
      "The simulation lacks any flux.\n",
      "\n",
      "\n",
      "\n",
      "\n",
      "B77\n"
     ]
    },
    {
     "data": {
      "text/plain": [
       "condition          Citric Acid\n",
       "ModelSEED_ID          cpd00137\n",
       "strain          P. fluorescens\n",
       "date                Sep 12, 22\n",
       "Name: B77, dtype: object"
      ]
     },
     "metadata": {},
     "output_type": "display_data"
    },
    {
     "name": "stdout",
     "output_type": "stream",
     "text": [
      "Done with concentrations and biomass loops: 0.0015625 min\n",
      "Done with DCC loop: 0.0 min\n",
      "Done with the dbc & diffc loop: 0.0026041666666666665 min\n",
      "Solver: <class 'optlang.glpk_interface.Model'>\n",
      "Done with loading the variables, constraints, and objective: 0.0671875 min\n",
      "Done exporting the content: 0.0234375 min\n",
      "The simulation lacks any flux.\n",
      "\n",
      "\n",
      "\n",
      "\n",
      "B78\n"
     ]
    },
    {
     "data": {
      "text/plain": [
       "condition       alpha-Keto-Glutaric Acid\n",
       "ModelSEED_ID                    cpd00024\n",
       "strain                    P. fluorescens\n",
       "date                          Sep 12, 22\n",
       "Name: B78, dtype: object"
      ]
     },
     "metadata": {},
     "output_type": "display_data"
    },
    {
     "name": "stdout",
     "output_type": "stream",
     "text": [
      "Done with concentrations and biomass loops: 0.0015625 min\n",
      "Done with DCC loop: 0.0 min\n",
      "Done with the dbc & diffc loop: 0.00234375 min\n",
      "Solver: <class 'optlang.glpk_interface.Model'>\n",
      "Done with loading the variables, constraints, and objective: 0.06744791666666666 min\n",
      "Done exporting the content: 0.009375 min\n",
      "The simulation lacks any flux.\n",
      "\n",
      "\n",
      "\n",
      "\n",
      "B79\n"
     ]
    },
    {
     "data": {
      "text/plain": [
       "condition         D-Malic Acid\n",
       "ModelSEED_ID          cpd00386\n",
       "strain          P. fluorescens\n",
       "date                Sep 12, 22\n",
       "Name: B79, dtype: object"
      ]
     },
     "metadata": {},
     "output_type": "display_data"
    },
    {
     "name": "stdout",
     "output_type": "stream",
     "text": [
      "Done with concentrations and biomass loops: 0.0015625 min\n",
      "Done with DCC loop: 0.0 min\n",
      "Done with the dbc & diffc loop: 0.0026041666666666665 min\n",
      "Solver: <class 'optlang.glpk_interface.Model'>\n",
      "Done with loading the variables, constraints, and objective: 0.08151041666666667 min\n",
      "Done exporting the content: 0.009375 min\n",
      "The simulation lacks any flux.\n",
      "\n",
      "\n",
      "\n",
      "\n",
      "B80\n"
     ]
    },
    {
     "data": {
      "text/plain": [
       "condition         L-Malic Acid\n",
       "ModelSEED_ID          cpd00130\n",
       "strain          P. fluorescens\n",
       "date                Sep 12, 22\n",
       "Name: B80, dtype: object"
      ]
     },
     "metadata": {},
     "output_type": "display_data"
    },
    {
     "name": "stdout",
     "output_type": "stream",
     "text": [
      "Done with concentrations and biomass loops: 0.0013020833333333333 min\n",
      "Done with DCC loop: 0.0 min\n",
      "Done with the dbc & diffc loop: 0.0026041666666666665 min\n",
      "Solver: <class 'optlang.glpk_interface.Model'>\n",
      "Done with loading the variables, constraints, and objective: 0.06822916666666666 min\n",
      "Done exporting the content: 0.009635416666666667 min\n",
      "The simulation lacks any flux.\n",
      "\n",
      "\n",
      "\n",
      "\n",
      "B81\n"
     ]
    },
    {
     "data": {
      "text/plain": [
       "condition       Bromo-Succinic Acid\n",
       "ModelSEED_ID               cpd23859\n",
       "strain               P. fluorescens\n",
       "date                     Sep 12, 22\n",
       "Name: B81, dtype: object"
      ]
     },
     "metadata": {},
     "output_type": "display_data"
    },
    {
     "name": "stdout",
     "output_type": "stream",
     "text": [
      "Done with concentrations and biomass loops: 0.015104166666666667 min\n",
      "Done with DCC loop: 0.0 min\n",
      "Done with the dbc & diffc loop: 0.0026041666666666665 min\n",
      "Solver: <class 'optlang.glpk_interface.Model'>\n",
      "Done with loading the variables, constraints, and objective: 0.0671875 min\n",
      "Done exporting the content: 0.009375 min\n",
      "The simulation lacks any flux.\n",
      "\n",
      "\n",
      "\n",
      "\n",
      "B82\n"
     ]
    },
    {
     "data": {
      "text/plain": [
       "condition       Nalidixic Acid\n",
       "ModelSEED_ID          cpd03031\n",
       "strain          P. fluorescens\n",
       "date                Sep 12, 22\n",
       "Name: B82, dtype: object"
      ]
     },
     "metadata": {},
     "output_type": "display_data"
    },
    {
     "name": "stdout",
     "output_type": "stream",
     "text": [
      "Done with concentrations and biomass loops: 0.0013020833333333333 min\n",
      "Done with DCC loop: 0.0 min\n",
      "Done with the dbc & diffc loop: 0.0026041666666666665 min\n",
      "Solver: <class 'optlang.glpk_interface.Model'>\n",
      "Done with loading the variables, constraints, and objective: 0.08072916666666667 min\n",
      "Done exporting the content: 0.009635416666666667 min\n",
      "The simulation lacks any flux.\n",
      "\n",
      "\n",
      "\n",
      "\n",
      "B83\n"
     ]
    },
    {
     "data": {
      "text/plain": [
       "condition       Lithium Chloride\n",
       "ModelSEED_ID                    \n",
       "strain            P. fluorescens\n",
       "date                  Sep 12, 22\n",
       "Name: B83, dtype: object"
      ]
     },
     "metadata": {},
     "output_type": "display_data"
    },
    {
     "name": "stdout",
     "output_type": "stream",
     "text": [
      "Done with concentrations and biomass loops: 0.0015625 min\n",
      "Done with DCC loop: 0.00026041666666666666 min\n",
      "Done with the dbc & diffc loop: 0.003125 min\n",
      "Solver: <class 'optlang.glpk_interface.Model'>\n",
      "Done with loading the variables, constraints, and objective: 0.07447916666666667 min\n",
      "Done exporting the content: 0.024739583333333332 min\n",
      "The simulation lacks any flux.\n",
      "\n",
      "\n",
      "\n",
      "\n",
      "B84\n"
     ]
    },
    {
     "data": {
      "text/plain": [
       "condition       Potassium Tellurite\n",
       "ModelSEED_ID                       \n",
       "strain               P. fluorescens\n",
       "date                     Sep 12, 22\n",
       "Name: B84, dtype: object"
      ]
     },
     "metadata": {},
     "output_type": "display_data"
    },
    {
     "name": "stdout",
     "output_type": "stream",
     "text": [
      "Done with concentrations and biomass loops: 0.0015625 min\n",
      "Done with DCC loop: 0.00026041666666666666 min\n",
      "Done with the dbc & diffc loop: 0.002864583333333333 min\n",
      "Solver: <class 'optlang.glpk_interface.Model'>\n",
      "Done with loading the variables, constraints, and objective: 0.07552083333333333 min\n",
      "Done exporting the content: 0.011197916666666667 min\n",
      "The simulation lacks any flux.\n",
      "\n",
      "\n",
      "\n",
      "\n",
      "B85\n"
     ]
    },
    {
     "data": {
      "text/plain": [
       "condition             Tween 40\n",
       "ModelSEED_ID          cpd24417\n",
       "strain          P. fluorescens\n",
       "date                Sep 12, 22\n",
       "Name: B85, dtype: object"
      ]
     },
     "metadata": {},
     "output_type": "display_data"
    },
    {
     "name": "stdout",
     "output_type": "stream",
     "text": [
      "Done with concentrations and biomass loops: 0.0013020833333333333 min\n",
      "Done with DCC loop: 0.0 min\n",
      "Done with the dbc & diffc loop: 0.0026041666666666665 min\n",
      "Solver: <class 'optlang.glpk_interface.Model'>\n",
      "Done with loading the variables, constraints, and objective: 0.08151041666666667 min\n",
      "Done exporting the content: 0.009895833333333333 min\n",
      "The simulation lacks any flux.\n",
      "\n",
      "\n",
      "\n",
      "\n",
      "B86\n"
     ]
    },
    {
     "data": {
      "text/plain": [
       "condition       gamma-Amino-Butyric Acid\n",
       "ModelSEED_ID                    cpd00281\n",
       "strain                    P. fluorescens\n",
       "date                          Sep 12, 22\n",
       "Name: B86, dtype: object"
      ]
     },
     "metadata": {},
     "output_type": "display_data"
    },
    {
     "name": "stdout",
     "output_type": "stream",
     "text": [
      "Done with concentrations and biomass loops: 0.0015625 min\n",
      "Done with DCC loop: 0.0 min\n",
      "Done with the dbc & diffc loop: 0.0026041666666666665 min\n",
      "Solver: <class 'optlang.glpk_interface.Model'>\n",
      "Done with loading the variables, constraints, and objective: 0.06796875 min\n",
      "Done exporting the content: 0.0234375 min\n",
      "The simulation lacks any flux.\n",
      "\n",
      "\n",
      "\n",
      "\n",
      "B87\n"
     ]
    },
    {
     "data": {
      "text/plain": [
       "condition       alpha-Hydroxy-D,L-Butyric Acid\n",
       "ModelSEED_ID                          cpd03561\n",
       "strain                          P. fluorescens\n",
       "date                                Sep 12, 22\n",
       "Name: B87, dtype: object"
      ]
     },
     "metadata": {},
     "output_type": "display_data"
    },
    {
     "name": "stdout",
     "output_type": "stream",
     "text": [
      "Done with concentrations and biomass loops: 0.0013020833333333333 min\n",
      "Done with DCC loop: 0.0 min\n",
      "Done with the dbc & diffc loop: 0.0026041666666666665 min\n",
      "Solver: <class 'optlang.glpk_interface.Model'>\n",
      "Done with loading the variables, constraints, and objective: 0.06666666666666667 min\n",
      "Done exporting the content: 0.009375 min\n",
      "The simulation lacks any flux.\n",
      "\n",
      "\n",
      "\n",
      "\n",
      "B88\n"
     ]
    },
    {
     "data": {
      "text/plain": [
       "condition       beta-Hydroxy-D,L-Butyric Acid\n",
       "ModelSEED_ID                         cpd29193\n",
       "strain                         P. fluorescens\n",
       "date                               Sep 12, 22\n",
       "Name: B88, dtype: object"
      ]
     },
     "metadata": {},
     "output_type": "display_data"
    },
    {
     "name": "stdout",
     "output_type": "stream",
     "text": [
      "Done with concentrations and biomass loops: 0.0013020833333333333 min\n",
      "Done with DCC loop: 0.0 min\n",
      "Done with the dbc & diffc loop: 0.003125 min\n",
      "Solver: <class 'optlang.glpk_interface.Model'>\n",
      "Done with loading the variables, constraints, and objective: 0.07994791666666666 min\n",
      "Done exporting the content: 0.009375 min\n",
      "The simulation lacks any flux.\n",
      "\n",
      "\n",
      "\n",
      "\n",
      "B89\n"
     ]
    },
    {
     "data": {
      "text/plain": [
       "condition       alpha-Keto-Butyric Acid\n",
       "ModelSEED_ID                   cpd26078\n",
       "strain                   P. fluorescens\n",
       "date                         Sep 12, 22\n",
       "Name: B89, dtype: object"
      ]
     },
     "metadata": {},
     "output_type": "display_data"
    },
    {
     "name": "stdout",
     "output_type": "stream",
     "text": [
      "Done with concentrations and biomass loops: 0.0013020833333333333 min\n",
      "Done with DCC loop: 0.0 min\n",
      "Done with the dbc & diffc loop: 0.00234375 min\n",
      "Solver: <class 'optlang.glpk_interface.Model'>\n",
      "Done with loading the variables, constraints, and objective: 0.06692708333333333 min\n",
      "Done exporting the content: 0.022916666666666665 min\n",
      "The simulation lacks any flux.\n",
      "\n",
      "\n",
      "\n",
      "\n",
      "B90\n"
     ]
    },
    {
     "data": {
      "text/plain": [
       "condition       Acetoacetic Acid\n",
       "ModelSEED_ID            cpd00142\n",
       "strain            P. fluorescens\n",
       "date                  Sep 12, 22\n",
       "Name: B90, dtype: object"
      ]
     },
     "metadata": {},
     "output_type": "display_data"
    },
    {
     "name": "stdout",
     "output_type": "stream",
     "text": [
      "Done with concentrations and biomass loops: 0.0013020833333333333 min\n",
      "Done with DCC loop: 0.0 min\n",
      "Done with the dbc & diffc loop: 0.0026041666666666665 min\n",
      "Solver: <class 'optlang.glpk_interface.Model'>\n",
      "Done with loading the variables, constraints, and objective: 0.06770833333333333 min\n",
      "Done exporting the content: 0.009114583333333334 min\n",
      "The simulation lacks any flux.\n",
      "\n",
      "\n",
      "\n",
      "\n",
      "B91\n"
     ]
    },
    {
     "data": {
      "text/plain": [
       "condition       Propionic Acid\n",
       "ModelSEED_ID          cpd00141\n",
       "strain          P. fluorescens\n",
       "date                Sep 12, 22\n",
       "Name: B91, dtype: object"
      ]
     },
     "metadata": {},
     "output_type": "display_data"
    },
    {
     "name": "stdout",
     "output_type": "stream",
     "text": [
      "Done with concentrations and biomass loops: 0.0015625 min\n",
      "Done with DCC loop: 0.0 min\n",
      "Done with the dbc & diffc loop: 0.0026041666666666665 min\n",
      "Solver: <class 'optlang.glpk_interface.Model'>\n",
      "Done with loading the variables, constraints, and objective: 0.0796875 min\n",
      "Done exporting the content: 0.009375 min\n",
      "The simulation lacks any flux.\n",
      "\n",
      "\n",
      "\n",
      "\n",
      "B92\n"
     ]
    },
    {
     "data": {
      "text/plain": [
       "condition          Acetic Acid\n",
       "ModelSEED_ID          cpd00029\n",
       "strain          P. fluorescens\n",
       "date                Sep 12, 22\n",
       "Name: B92, dtype: object"
      ]
     },
     "metadata": {},
     "output_type": "display_data"
    },
    {
     "name": "stdout",
     "output_type": "stream",
     "text": [
      "Done with concentrations and biomass loops: 0.0015625 min\n",
      "Done with DCC loop: 0.00026041666666666666 min\n",
      "Done with the dbc & diffc loop: 0.002864583333333333 min\n",
      "Solver: <class 'optlang.glpk_interface.Model'>\n",
      "Done with loading the variables, constraints, and objective: 0.08723958333333333 min\n",
      "Done exporting the content: 0.0109375 min\n",
      "The simulation lacks any flux.\n",
      "\n",
      "\n",
      "\n",
      "\n",
      "B93\n"
     ]
    },
    {
     "data": {
      "text/plain": [
       "condition          Formic Acid\n",
       "ModelSEED_ID          cpd00047\n",
       "strain          P. fluorescens\n",
       "date                Sep 12, 22\n",
       "Name: B93, dtype: object"
      ]
     },
     "metadata": {},
     "output_type": "display_data"
    },
    {
     "name": "stdout",
     "output_type": "stream",
     "text": [
      "Done with concentrations and biomass loops: 0.0013020833333333333 min\n",
      "Done with DCC loop: 0.0 min\n",
      "Done with the dbc & diffc loop: 0.002864583333333333 min\n",
      "Solver: <class 'optlang.glpk_interface.Model'>\n",
      "Done with loading the variables, constraints, and objective: 0.0671875 min\n",
      "Done exporting the content: 0.009114583333333334 min\n",
      "The simulation lacks any flux.\n",
      "\n",
      "\n",
      "\n",
      "\n",
      "B94\n"
     ]
    },
    {
     "data": {
      "text/plain": [
       "condition            Aztreonam\n",
       "ModelSEED_ID          cpd04201\n",
       "strain          P. fluorescens\n",
       "date                Sep 12, 22\n",
       "Name: B94, dtype: object"
      ]
     },
     "metadata": {},
     "output_type": "display_data"
    },
    {
     "name": "stdout",
     "output_type": "stream",
     "text": [
      "Done with concentrations and biomass loops: 0.0013020833333333333 min\n",
      "Done with DCC loop: 0.0 min\n",
      "Done with the dbc & diffc loop: 0.0026041666666666665 min\n",
      "Solver: <class 'optlang.glpk_interface.Model'>\n",
      "Done with loading the variables, constraints, and objective: 0.08125 min\n",
      "Done exporting the content: 0.009635416666666667 min\n",
      "The simulation lacks any flux.\n",
      "\n",
      "\n",
      "\n",
      "\n",
      "B95\n"
     ]
    },
    {
     "data": {
      "text/plain": [
       "condition       Sodium Butyrate\n",
       "ModelSEED_ID                   \n",
       "strain           P. fluorescens\n",
       "date                 Sep 12, 22\n",
       "Name: B95, dtype: object"
      ]
     },
     "metadata": {},
     "output_type": "display_data"
    },
    {
     "name": "stdout",
     "output_type": "stream",
     "text": [
      "Done with concentrations and biomass loops: 0.0018229166666666667 min\n",
      "Done with DCC loop: 0.00026041666666666666 min\n",
      "Done with the dbc & diffc loop: 0.002864583333333333 min\n",
      "Solver: <class 'optlang.glpk_interface.Model'>\n",
      "Done with loading the variables, constraints, and objective: 0.08697916666666666 min\n",
      "Done exporting the content: 0.0109375 min\n",
      "The simulation lacks any flux.\n",
      "\n",
      "\n",
      "\n",
      "\n",
      "B96\n"
     ]
    },
    {
     "data": {
      "text/plain": [
       "condition       Sodium Bromate\n",
       "ModelSEED_ID                  \n",
       "strain          P. fluorescens\n",
       "date                Sep 12, 22\n",
       "Name: B96, dtype: object"
      ]
     },
     "metadata": {},
     "output_type": "display_data"
    },
    {
     "name": "stdout",
     "output_type": "stream",
     "text": [
      "Done with concentrations and biomass loops: 0.0015625 min\n",
      "Done with DCC loop: 0.00026041666666666666 min\n",
      "Done with the dbc & diffc loop: 0.002864583333333333 min\n",
      "Solver: <class 'optlang.glpk_interface.Model'>\n",
      "Done with loading the variables, constraints, and objective: 0.07604166666666666 min\n",
      "Done exporting the content: 0.010677083333333334 min\n",
      "The simulation lacks any flux.\n",
      "\n",
      "\n",
      "\n",
      "\n"
     ]
    },
    {
     "data": {
      "image/png": "[encoded data removed]",
      "text/plain": [
       "<Figure size 2200x1400 with 1 Axes>"
      ]
     },
     "metadata": {
      "needs_background": "light"
     },
     "output_type": "display_data"
    },
    {
     "data": {
      "image/png": "[encoded data removed]",
      "text/plain": [
       "<Figure size 2200x1400 with 1 Axes>"
      ]
     },
     "metadata": {
      "needs_background": "light"
     },
     "output_type": "display_data"
    },
    {
     "data": {
      "image/png": "[encoded data removed]",
      "text/plain": [
       "<Figure size 2200x1400 with 1 Axes>"
      ]
     },
     "metadata": {
      "needs_background": "light"
     },
     "output_type": "display_data"
    },
    {
     "data": {
      "image/png": "[encoded data removed]",
      "text/plain": [
       "<Figure size 2200x1400 with 1 Axes>"
      ]
     },
     "metadata": {
      "needs_background": "light"
     },
     "output_type": "display_data"
    }
   ],
   "source": [
    "%run ../../../mscommfitting.py\n",
    "\n",
    "biologfit = BIOLOGPhitting(fluxes_df, standardized_carbon_conc, None, biolog_df, experimental_metadata, '../../../../../../ModelSEED/ModelSEEDDatabase')\n",
    "biologfit.fitAll(parameters={\n",
    "        'v':.3,\n",
    "        'cvmin': 0.1,\n",
    "        'bcv': 0.0001,\n",
    "        'diffpos': 100,\n",
    "        'diffneg': 100,\n",
    "    },\n",
    "    rel_final_conc = 0.1,\n",
    "    graphs=[\n",
    "        {\n",
    "            'trial':'G48',\n",
    "            \"phenotype\": '*',\n",
    "            'content': 'biomass',\n",
    "            'experimental_data': False\n",
    "        },\n",
    "        {\n",
    "            'trial':'G48',\n",
    "            'content': \"conc\",\n",
    "        },\n",
    "        {\n",
    "            'trial':'G48',\n",
    "            \"phenotype\": '*',\n",
    "            \"species\":[\"ecoli\"],\n",
    "            'content': 'biomass'\n",
    "        },\n",
    "        {\n",
    "            'trial':'G48',\n",
    "            'content': 'total_biomass',\n",
    "            'experimental_data': True\n",
    "        }\n",
    "    ])"
   ]
  },
  {
   "cell_type": "code",
   "execution_count": 8,
   "id": "269d6f0c-bc25-41ef-820c-525b1c0c3846",
   "metadata": {},
   "outputs": [],
   "source": [
    "# biologfit.compute(graphs = [\n",
    "#     {\n",
    "#         'trial':'A3',\n",
    "#         'content': 'all_biomass',\n",
    "#         'experimental_data': True\n",
    "#     }\n",
    "# ], publishing=False)"
   ]
  },
  {
   "cell_type": "code",
   "execution_count": 9,
   "id": "aee849d0-9818-4ba1-bb9a-f5d0da092f34",
   "metadata": {},
   "outputs": [],
   "source": [
    "# commfit.compute(graphs = [\n",
    "#     {\n",
    "#         'trial':'A3',\n",
    "#         \"phenotype\": '*',\n",
    "#         'content': 'biomass',\n",
    "#         'experimental_data': False\n",
    "#     }\n",
    "# ], publishing=False)"
   ]
  },
  {
   "cell_type": "markdown",
   "id": "02309ae4-f297-4c79-a163-595d787d1ae8",
   "metadata": {},
   "source": [
    "# Testing BIOLOGPhitting"
   ]
  },
  {
   "cell_type": "code",
   "execution_count": 2,
   "id": "8656c96c-6a3c-42b8-bc06-e89d746431b0",
   "metadata": {},
   "outputs": [
    {
     "name": "stdout",
     "output_type": "stream",
     "text": [
      "['__class__', '__delattr__', '__dict__', '__dir__', '__doc__', '__eq__', '__format__', '__ge__', '__getattribute__', '__getstate__', '__gt__', '__hash__', '__init__', '__init_subclass__', '__le__', '__lt__', '__module__', '__ne__', '__new__', '__reduce__', '__reduce_ex__', '__repr__', '__setattr__', '__sizeof__', '__str__', '__subclasshook__', '__weakref__', '_annotation', '_bound', '_id', '_model', '_reaction', '_repr_html_', '_set_id_with_model', 'abbr', 'annotation', 'charge', 'compartment', 'constraint', 'copy', 'delta_g', 'delta_g_error', 'elements', 'flags', 'formula', 'formula_weight', 'id', 'inchi', 'inchi_key', 'is_abstract', 'is_cofactor', 'is_core', 'is_obsolete', 'linked_compound', 'mass', 'model', 'name', 'names', 'notes', 'pka', 'pkb', 'reactions', 'remove_from_model', 'seed_id', 'shadow_price', 'smiles', 'source', 'summary', 'to_template_compartment_compound', 'y']\n"
     ]
    }
   ],
   "source": [
    "from modelseedpy.biochem import from_local\n",
    "msdb = from_local('../../../../../../ModelSEED/ModelSEEDDatabase')"
   ]
  },
  {
   "cell_type": "code",
   "execution_count": 4,
   "id": "31b799d8-b441-459f-abfb-45d0f772d66d",
   "metadata": {},
   "outputs": [
    {
     "name": "stdout",
     "output_type": "stream",
     "text": [
      "{'C': 6, 'H': 12, 'O': 6}\n",
      "['__class__', '__delattr__', '__dict__', '__dir__', '__doc__', '__eq__', '__format__', '__ge__', '__getattribute__', '__getstate__', '__gt__', '__hash__', '__init__', '__init_subclass__', '__le__', '__lt__', '__module__', '__ne__', '__new__', '__reduce__', '__reduce_ex__', '__repr__', '__setattr__', '__sizeof__', '__str__', '__subclasshook__', '__weakref__', '_annotation', '_bound', '_id', '_model', '_reaction', '_repr_html_', '_set_id_with_model', 'abbr', 'annotation', 'charge', 'compartment', 'constraint', 'copy', 'delta_g', 'delta_g_error', 'elements', 'flags', 'formula', 'formula_weight', 'id', 'inchi', 'inchi_key', 'is_abstract', 'is_cofactor', 'is_core', 'is_obsolete', 'linked_compound', 'mass', 'model', 'name', 'names', 'notes', 'pka', 'pkb', 'reactions', 'remove_from_model', 'seed_id', 'shadow_price', 'smiles', 'source', 'summary', 'to_template_compartment_compound', 'y']\n"
     ]
    }
   ],
   "source": [
    "cpd = msdb.compounds.get_by_id(\"cpd00027\")\n",
    "print(cpd.elements)\n",
    "print(dir(cpd))"
   ]
  },
  {
   "cell_type": "code",
   "execution_count": 1,
   "id": "aab2c30a-eb23-42fe-8212-f413bf87c480",
   "metadata": {},
   "outputs": [
    {
     "name": "stdout",
     "output_type": "stream",
     "text": [
      "B1\n"
     ]
    },
    {
     "data": {
      "text/plain": [
       "condition       Negative Control\n",
       "ModelSEED_ID                None\n",
       "strain                        pf\n",
       "date                  Sep 12, 22\n",
       "Name: B1, dtype: object"
      ]
     },
     "metadata": {},
     "output_type": "display_data"
    },
    {
     "name": "stdout",
     "output_type": "stream",
     "text": [
      "B2\n"
     ]
    },
    {
     "data": {
      "text/plain": [
       "condition          Dextrin\n",
       "ModelSEED_ID      cpd11594\n",
       "strain                  pf\n",
       "date            Sep 12, 22\n",
       "Name: B2, dtype: object"
      ]
     },
     "metadata": {},
     "output_type": "display_data"
    },
    {
     "name": "stdout",
     "output_type": "stream",
     "text": [
      "B3\n"
     ]
    },
    {
     "data": {
      "text/plain": [
       "condition        D-Maltose\n",
       "ModelSEED_ID      cpd00179\n",
       "strain                  pf\n",
       "date            Sep 12, 22\n",
       "Name: B3, dtype: object"
      ]
     },
     "metadata": {},
     "output_type": "display_data"
    },
    {
     "name": "stdout",
     "output_type": "stream",
     "text": [
      "cpd00179 C12H22O11\n",
      "passed\n",
      "D=Maltose {'consumed': ['cpd00179']}\n",
      "Done with concentrations and biomass loops: 0.0005208333333333333 min\n",
      "Done with DCC loop: 0.0 min\n",
      "Done with the DBC & diffc loop: 0.00234375 min\n",
      "Solver: <class 'optlang.glpk_interface.Model'>\n",
      "Done with loading the variables, constraints, and objective: 0.06067708333333333 min\n",
      "Done exporting the content: 0.010677083333333334 min\n",
      "The simulation lacks any flux.\n",
      "\n",
      "\n",
      "\n",
      "\n",
      "B4\n"
     ]
    },
    {
     "data": {
      "text/plain": [
       "condition       D-Trehalose\n",
       "ModelSEED_ID       cpd00523\n",
       "strain                   pf\n",
       "date             Sep 12, 22\n",
       "Name: B4, dtype: object"
      ]
     },
     "metadata": {},
     "output_type": "display_data"
    },
    {
     "name": "stdout",
     "output_type": "stream",
     "text": [
      "cpd00523 C12H21O14P\n",
      "passed\n",
      "D=Trehalose {'consumed': ['cpd00523']}\n"
     ]
    },
    {
     "ename": "KeyError",
     "evalue": "'EX_cpd00523_e0'",
     "output_type": "error",
     "traceback": [
      "\u001b[1;31m---------------------------------------------------------------------------\u001b[0m",
      "\u001b[1;31mKeyError\u001b[0m                                  Traceback (most recent call last)",
      "Input \u001b[1;32mIn [1]\u001b[0m, in \u001b[0;36m<cell line: 13>\u001b[1;34m()\u001b[0m\n\u001b[0;32m      8\u001b[0m experimental_metadata, biolog_df, standardized_carbon_conc, trial_name_conversion, data_timestep_hr, simulation_timestep \u001b[38;5;241m=\u001b[39m BiologData\u001b[38;5;241m.\u001b[39mprocess(\n\u001b[0;32m      9\u001b[0m     {\u001b[38;5;124m\"\u001b[39m\u001b[38;5;124mpath\u001b[39m\u001b[38;5;124m\"\u001b[39m: \u001b[38;5;124m\"\u001b[39m\u001b[38;5;124m../../Jeffs_data/BIOLOG/PF genIII plate 9-12-22.xlsx\u001b[39m\u001b[38;5;124m\"\u001b[39m, \u001b[38;5;124m\"\u001b[39m\u001b[38;5;124mFluorescence\u001b[39m\u001b[38;5;124m\"\u001b[39m:\u001b[38;5;124m\"\u001b[39m\u001b[38;5;124mpf\u001b[39m\u001b[38;5;124m\"\u001b[39m, \u001b[38;5;124m\"\u001b[39m\u001b[38;5;124mRaw OD(600)\u001b[39m\u001b[38;5;124m\"\u001b[39m: \u001b[38;5;124m\"\u001b[39m\u001b[38;5;124mOD\u001b[39m\u001b[38;5;124m\"\u001b[39m}, \n\u001b[0;32m     10\u001b[0m     \u001b[38;5;124m\"\u001b[39m\u001b[38;5;124m../../Jeffs_data/BIOLOG/BIOLOG_trial_conditions.json\u001b[39m\u001b[38;5;124m\"\u001b[39m)\n\u001b[0;32m     12\u001b[0m biologfit \u001b[38;5;241m=\u001b[39m BIOLOGPhitting(standardized_carbon_conc, \u001b[38;5;28;01mNone\u001b[39;00m, biolog_df, experimental_metadata, \u001b[38;5;124m'\u001b[39m\u001b[38;5;124m../../../../../../ModelSEED/ModelSEEDDatabase\u001b[39m\u001b[38;5;124m'\u001b[39m)\n\u001b[1;32m---> 13\u001b[0m \u001b[43mbiologfit\u001b[49m\u001b[38;5;241;43m.\u001b[39;49m\u001b[43mfitAll\u001b[49m\u001b[43m(\u001b[49m\u001b[43mmodels_list\u001b[49m\u001b[38;5;241;43m=\u001b[39;49m\u001b[43m{\u001b[49m\u001b[38;5;124;43m\"\u001b[39;49m\u001b[38;5;124;43mpf\u001b[39;49m\u001b[38;5;124;43m\"\u001b[39;49m\u001b[43m:\u001b[49m\u001b[43mpf\u001b[49m\u001b[43m}\u001b[49m\u001b[43m,\u001b[49m\n\u001b[0;32m     14\u001b[0m \u001b[43m    \u001b[49m\u001b[43mparameters\u001b[49m\u001b[38;5;241;43m=\u001b[39;49m\u001b[43m{\u001b[49m\n\u001b[0;32m     15\u001b[0m \u001b[43m        \u001b[49m\u001b[38;5;124;43m'\u001b[39;49m\u001b[38;5;124;43mv\u001b[39;49m\u001b[38;5;124;43m'\u001b[39;49m\u001b[43m:\u001b[49m\u001b[38;5;241;43m.3\u001b[39;49m\u001b[43m,\u001b[49m\n\u001b[0;32m     16\u001b[0m \u001b[43m        \u001b[49m\u001b[38;5;124;43m'\u001b[39;49m\u001b[38;5;124;43mcvmin\u001b[39;49m\u001b[38;5;124;43m'\u001b[39;49m\u001b[43m:\u001b[49m\u001b[43m \u001b[49m\u001b[38;5;241;43m0.1\u001b[39;49m\u001b[43m,\u001b[49m\n\u001b[0;32m     17\u001b[0m \u001b[43m        \u001b[49m\u001b[38;5;124;43m'\u001b[39;49m\u001b[38;5;124;43mbcv\u001b[39;49m\u001b[38;5;124;43m'\u001b[39;49m\u001b[43m:\u001b[49m\u001b[43m \u001b[49m\u001b[38;5;241;43m0.0001\u001b[39;49m\u001b[43m,\u001b[49m\n\u001b[0;32m     18\u001b[0m \u001b[43m        \u001b[49m\u001b[38;5;124;43m'\u001b[39;49m\u001b[38;5;124;43mdiffpos\u001b[39;49m\u001b[38;5;124;43m'\u001b[39;49m\u001b[43m:\u001b[49m\u001b[43m \u001b[49m\u001b[38;5;241;43m100\u001b[39;49m\u001b[43m,\u001b[49m\n\u001b[0;32m     19\u001b[0m \u001b[43m        \u001b[49m\u001b[38;5;124;43m'\u001b[39;49m\u001b[38;5;124;43mdiffneg\u001b[39;49m\u001b[38;5;124;43m'\u001b[39;49m\u001b[43m:\u001b[49m\u001b[43m \u001b[49m\u001b[38;5;241;43m100\u001b[39;49m\u001b[43m,\u001b[49m\n\u001b[0;32m     20\u001b[0m \u001b[43m    \u001b[49m\u001b[43m}\u001b[49m\u001b[43m,\u001b[49m\n\u001b[0;32m     21\u001b[0m \u001b[43m    \u001b[49m\u001b[43mrel_final_conc\u001b[49m\u001b[43m \u001b[49m\u001b[38;5;241;43m=\u001b[39;49m\u001b[43m \u001b[49m\u001b[38;5;241;43m0.1\u001b[39;49m\u001b[43m,\u001b[49m\n\u001b[0;32m     22\u001b[0m \u001b[43m    \u001b[49m\u001b[43mgraphs\u001b[49m\u001b[38;5;241;43m=\u001b[39;49m\u001b[43m[\u001b[49m\n\u001b[0;32m     23\u001b[0m \u001b[43m        \u001b[49m\u001b[43m{\u001b[49m\n\u001b[0;32m     24\u001b[0m \u001b[43m            \u001b[49m\u001b[38;5;124;43m\"\u001b[39;49m\u001b[38;5;124;43mphenotype\u001b[39;49m\u001b[38;5;124;43m\"\u001b[39;49m\u001b[43m:\u001b[49m\u001b[43m \u001b[49m\u001b[38;5;124;43m'\u001b[39;49m\u001b[38;5;124;43m*\u001b[39;49m\u001b[38;5;124;43m'\u001b[39;49m\u001b[43m,\u001b[49m\n\u001b[0;32m     25\u001b[0m \u001b[43m            \u001b[49m\u001b[38;5;124;43m'\u001b[39;49m\u001b[38;5;124;43mcontent\u001b[39;49m\u001b[38;5;124;43m'\u001b[39;49m\u001b[43m:\u001b[49m\u001b[43m \u001b[49m\u001b[38;5;124;43m'\u001b[39;49m\u001b[38;5;124;43mbiomass\u001b[39;49m\u001b[38;5;124;43m'\u001b[39;49m\u001b[43m,\u001b[49m\n\u001b[0;32m     26\u001b[0m \u001b[43m            \u001b[49m\u001b[38;5;124;43m'\u001b[39;49m\u001b[38;5;124;43mexperimental_data\u001b[39;49m\u001b[38;5;124;43m'\u001b[39;49m\u001b[43m:\u001b[49m\u001b[43m \u001b[49m\u001b[38;5;28;43;01mFalse\u001b[39;49;00m\n\u001b[0;32m     27\u001b[0m \u001b[43m        \u001b[49m\u001b[43m}\u001b[49m\u001b[43m,\u001b[49m\n\u001b[0;32m     28\u001b[0m \u001b[43m        \u001b[49m\u001b[43m{\u001b[49m\n\u001b[0;32m     29\u001b[0m \u001b[43m            \u001b[49m\u001b[38;5;124;43m'\u001b[39;49m\u001b[38;5;124;43mcontent\u001b[39;49m\u001b[38;5;124;43m'\u001b[39;49m\u001b[43m:\u001b[49m\u001b[43m \u001b[49m\u001b[38;5;124;43m\"\u001b[39;49m\u001b[38;5;124;43mconc\u001b[39;49m\u001b[38;5;124;43m\"\u001b[39;49m\u001b[43m,\u001b[49m\n\u001b[0;32m     30\u001b[0m \u001b[43m        \u001b[49m\u001b[43m}\u001b[49m\u001b[43m,\u001b[49m\n\u001b[0;32m     31\u001b[0m \u001b[43m        \u001b[49m\u001b[43m{\u001b[49m\n\u001b[0;32m     32\u001b[0m \u001b[43m            \u001b[49m\u001b[38;5;124;43m\"\u001b[39;49m\u001b[38;5;124;43mphenotype\u001b[39;49m\u001b[38;5;124;43m\"\u001b[39;49m\u001b[43m:\u001b[49m\u001b[43m \u001b[49m\u001b[38;5;124;43m'\u001b[39;49m\u001b[38;5;124;43m*\u001b[39;49m\u001b[38;5;124;43m'\u001b[39;49m\u001b[43m,\u001b[49m\n\u001b[0;32m     33\u001b[0m \u001b[43m            \u001b[49m\u001b[38;5;124;43m\"\u001b[39;49m\u001b[38;5;124;43mspecies\u001b[39;49m\u001b[38;5;124;43m\"\u001b[39;49m\u001b[43m:\u001b[49m\u001b[43m[\u001b[49m\u001b[38;5;124;43m\"\u001b[39;49m\u001b[38;5;124;43mecoli\u001b[39;49m\u001b[38;5;124;43m\"\u001b[39;49m\u001b[43m]\u001b[49m\u001b[43m,\u001b[49m\n\u001b[0;32m     34\u001b[0m \u001b[43m            \u001b[49m\u001b[38;5;124;43m'\u001b[39;49m\u001b[38;5;124;43mcontent\u001b[39;49m\u001b[38;5;124;43m'\u001b[39;49m\u001b[43m:\u001b[49m\u001b[43m \u001b[49m\u001b[38;5;124;43m'\u001b[39;49m\u001b[38;5;124;43mbiomass\u001b[39;49m\u001b[38;5;124;43m'\u001b[39;49m\n\u001b[0;32m     35\u001b[0m \u001b[43m        \u001b[49m\u001b[43m}\u001b[49m\u001b[43m,\u001b[49m\n\u001b[0;32m     36\u001b[0m \u001b[43m        \u001b[49m\u001b[43m{\u001b[49m\n\u001b[0;32m     37\u001b[0m \u001b[43m            \u001b[49m\u001b[38;5;124;43m'\u001b[39;49m\u001b[38;5;124;43mcontent\u001b[39;49m\u001b[38;5;124;43m'\u001b[39;49m\u001b[43m:\u001b[49m\u001b[43m \u001b[49m\u001b[38;5;124;43m'\u001b[39;49m\u001b[38;5;124;43mtotal_biomass\u001b[39;49m\u001b[38;5;124;43m'\u001b[39;49m\u001b[43m,\u001b[49m\n\u001b[0;32m     38\u001b[0m \u001b[43m            \u001b[49m\u001b[38;5;124;43m'\u001b[39;49m\u001b[38;5;124;43mexperimental_data\u001b[39;49m\u001b[38;5;124;43m'\u001b[39;49m\u001b[43m:\u001b[49m\u001b[43m \u001b[49m\u001b[38;5;28;43;01mTrue\u001b[39;49;00m\n\u001b[0;32m     39\u001b[0m \u001b[43m        \u001b[49m\u001b[43m}\u001b[49m\n\u001b[0;32m     40\u001b[0m \u001b[43m    \u001b[49m\u001b[43m]\u001b[49m\u001b[43m)\u001b[49m\n",
      "File \u001b[1;32m~\\Documents\\Argonne\\ProjectNotebooks\\CommunityModeling\\CommFitting\\mscommfitting.py:1130\u001b[0m, in \u001b[0;36mBIOLOGPhitting.fitAll\u001b[1;34m(self, models_list, parameters, rel_final_conc, abs_final_conc, graphs, data_timesteps, export_zip_name, export_parameters, figures_zip_name, publishing)\u001b[0m\n\u001b[0;32m   1127\u001b[0m \u001b[38;5;28mprint\u001b[39m(\u001b[38;5;124m\"\u001b[39m\u001b[38;5;124mpassed\u001b[39m\u001b[38;5;124m\"\u001b[39m)\n\u001b[0;32m   1128\u001b[0m \u001b[38;5;66;03m# TODO - define the fluxes_df and phenotype(s) for each condition in this loop\u001b[39;00m\n\u001b[0;32m   1129\u001b[0m \u001b[38;5;66;03m## define the parameters for each experiment\u001b[39;00m\n\u001b[1;32m-> 1130\u001b[0m fluxes_df, media_conc \u001b[38;5;241m=\u001b[39m \u001b[43mGrowthData\u001b[49m\u001b[38;5;241;43m.\u001b[39;49m\u001b[43mphenotypes\u001b[49m\u001b[43m(\u001b[49m\u001b[38;5;28;43;01mNone\u001b[39;49;00m\u001b[43m,\u001b[49m\u001b[43m \u001b[49m\u001b[43mcommunity_members\u001b[49m\u001b[43m)\u001b[49m\n\u001b[0;32m   1131\u001b[0m mets_to_track \u001b[38;5;241m=\u001b[39m zero_start \u001b[38;5;241m=\u001b[39m exp_list\n\u001b[0;32m   1132\u001b[0m rel_final_conc \u001b[38;5;241m=\u001b[39m {experiment[\u001b[38;5;124m\"\u001b[39m\u001b[38;5;124mModelSEED_ID\u001b[39m\u001b[38;5;124m\"\u001b[39m]: org_rel_final_conc}\n",
      "File \u001b[1;32m~\\Documents\\Argonne\\ProjectNotebooks\\CommunityModeling\\CommFitting\\data\\standardized_data\\datastandardization.py:321\u001b[0m, in \u001b[0;36mGrowthData.phenotypes\u001b[1;34m(base_media, community_members, solver)\u001b[0m\n\u001b[0;32m    307\u001b[0m pheno_util\u001b[38;5;241m.\u001b[39mmodel\u001b[38;5;241m.\u001b[39msolver \u001b[38;5;241m=\u001b[39m solver\n\u001b[0;32m    308\u001b[0m \u001b[38;5;66;03m# pheno_util.compatibilize()   only for non-ModelSEED models\u001b[39;00m\n\u001b[0;32m    309\u001b[0m \u001b[38;5;66;03m## define the media and uptake fluxes, which are 100 except for O_2, where its inclusion is interpreted as an aerobic model\u001b[39;00m\n\u001b[0;32m    310\u001b[0m \u001b[38;5;66;03m# if base_media:\u001b[39;00m\n\u001b[1;32m   (...)\u001b[0m\n\u001b[0;32m    319\u001b[0m \n\u001b[0;32m    320\u001b[0m \u001b[38;5;66;03m## The default complete media will be used until this method is developed and ready for refinement\u001b[39;00m\n\u001b[1;32m--> 321\u001b[0m phenoRXNs \u001b[38;5;241m=\u001b[39m [pheno_util\u001b[38;5;241m.\u001b[39mmodel\u001b[38;5;241m.\u001b[39mreactions\u001b[38;5;241m.\u001b[39mget_by_id(\u001b[38;5;124m\"\u001b[39m\u001b[38;5;124mEX_\u001b[39m\u001b[38;5;124m\"\u001b[39m\u001b[38;5;241m+\u001b[39mpheno_cpd\u001b[38;5;241m+\u001b[39m\u001b[38;5;124m\"\u001b[39m\u001b[38;5;124m_e0\u001b[39m\u001b[38;5;124m\"\u001b[39m)\n\u001b[0;32m    322\u001b[0m              \u001b[38;5;28;01mfor\u001b[39;00m pheno_cpd \u001b[38;5;129;01min\u001b[39;00m pheno_cpds[\u001b[38;5;124m\"\u001b[39m\u001b[38;5;124mconsumed\u001b[39m\u001b[38;5;124m\"\u001b[39m]]\n\u001b[0;32m    323\u001b[0m media \u001b[38;5;241m=\u001b[39m {cpd: \u001b[38;5;241m100\u001b[39m \u001b[38;5;28;01mfor\u001b[39;00m cpd, flux \u001b[38;5;129;01min\u001b[39;00m pheno_util\u001b[38;5;241m.\u001b[39mmodel\u001b[38;5;241m.\u001b[39mmedium\u001b[38;5;241m.\u001b[39mitems()}\n\u001b[0;32m    324\u001b[0m media\u001b[38;5;241m.\u001b[39mupdate({phenoRXN\u001b[38;5;241m.\u001b[39mid: \u001b[38;5;241m1000\u001b[39m \u001b[38;5;28;01mfor\u001b[39;00m phenoRXN \u001b[38;5;129;01min\u001b[39;00m phenoRXNs})\n",
      "File \u001b[1;32m~\\Documents\\Argonne\\ProjectNotebooks\\CommunityModeling\\CommFitting\\data\\standardized_data\\datastandardization.py:321\u001b[0m, in \u001b[0;36m<listcomp>\u001b[1;34m(.0)\u001b[0m\n\u001b[0;32m    307\u001b[0m pheno_util\u001b[38;5;241m.\u001b[39mmodel\u001b[38;5;241m.\u001b[39msolver \u001b[38;5;241m=\u001b[39m solver\n\u001b[0;32m    308\u001b[0m \u001b[38;5;66;03m# pheno_util.compatibilize()   only for non-ModelSEED models\u001b[39;00m\n\u001b[0;32m    309\u001b[0m \u001b[38;5;66;03m## define the media and uptake fluxes, which are 100 except for O_2, where its inclusion is interpreted as an aerobic model\u001b[39;00m\n\u001b[0;32m    310\u001b[0m \u001b[38;5;66;03m# if base_media:\u001b[39;00m\n\u001b[1;32m   (...)\u001b[0m\n\u001b[0;32m    319\u001b[0m \n\u001b[0;32m    320\u001b[0m \u001b[38;5;66;03m## The default complete media will be used until this method is developed and ready for refinement\u001b[39;00m\n\u001b[1;32m--> 321\u001b[0m phenoRXNs \u001b[38;5;241m=\u001b[39m [\u001b[43mpheno_util\u001b[49m\u001b[38;5;241;43m.\u001b[39;49m\u001b[43mmodel\u001b[49m\u001b[38;5;241;43m.\u001b[39;49m\u001b[43mreactions\u001b[49m\u001b[38;5;241;43m.\u001b[39;49m\u001b[43mget_by_id\u001b[49m\u001b[43m(\u001b[49m\u001b[38;5;124;43m\"\u001b[39;49m\u001b[38;5;124;43mEX_\u001b[39;49m\u001b[38;5;124;43m\"\u001b[39;49m\u001b[38;5;241;43m+\u001b[39;49m\u001b[43mpheno_cpd\u001b[49m\u001b[38;5;241;43m+\u001b[39;49m\u001b[38;5;124;43m\"\u001b[39;49m\u001b[38;5;124;43m_e0\u001b[39;49m\u001b[38;5;124;43m\"\u001b[39;49m\u001b[43m)\u001b[49m\n\u001b[0;32m    322\u001b[0m              \u001b[38;5;28;01mfor\u001b[39;00m pheno_cpd \u001b[38;5;129;01min\u001b[39;00m pheno_cpds[\u001b[38;5;124m\"\u001b[39m\u001b[38;5;124mconsumed\u001b[39m\u001b[38;5;124m\"\u001b[39m]]\n\u001b[0;32m    323\u001b[0m media \u001b[38;5;241m=\u001b[39m {cpd: \u001b[38;5;241m100\u001b[39m \u001b[38;5;28;01mfor\u001b[39;00m cpd, flux \u001b[38;5;129;01min\u001b[39;00m pheno_util\u001b[38;5;241m.\u001b[39mmodel\u001b[38;5;241m.\u001b[39mmedium\u001b[38;5;241m.\u001b[39mitems()}\n\u001b[0;32m    324\u001b[0m media\u001b[38;5;241m.\u001b[39mupdate({phenoRXN\u001b[38;5;241m.\u001b[39mid: \u001b[38;5;241m1000\u001b[39m \u001b[38;5;28;01mfor\u001b[39;00m phenoRXN \u001b[38;5;129;01min\u001b[39;00m phenoRXNs})\n",
      "File \u001b[1;32m~\\AppData\\Local\\Programs\\Python\\Python39\\lib\\site-packages\\cobra\\core\\dictlist.py:74\u001b[0m, in \u001b[0;36mDictList.get_by_id\u001b[1;34m(self, id)\u001b[0m\n\u001b[0;32m     72\u001b[0m \u001b[38;5;28;01mdef\u001b[39;00m \u001b[38;5;21mget_by_id\u001b[39m(\u001b[38;5;28mself\u001b[39m, \u001b[38;5;28mid\u001b[39m: Union[Object, \u001b[38;5;28mstr\u001b[39m]) \u001b[38;5;241m-\u001b[39m\u001b[38;5;241m>\u001b[39m Object:\n\u001b[0;32m     73\u001b[0m     \u001b[38;5;124;03m\"\"\"Return the element with a matching id.\"\"\"\u001b[39;00m\n\u001b[1;32m---> 74\u001b[0m     \u001b[38;5;28;01mreturn\u001b[39;00m \u001b[38;5;28mlist\u001b[39m\u001b[38;5;241m.\u001b[39m\u001b[38;5;21m__getitem__\u001b[39m(\u001b[38;5;28mself\u001b[39m, \u001b[38;5;28;43mself\u001b[39;49m\u001b[38;5;241;43m.\u001b[39;49m\u001b[43m_dict\u001b[49m\u001b[43m[\u001b[49m\u001b[38;5;28;43mid\u001b[39;49m\u001b[43m]\u001b[49m)\n",
      "\u001b[1;31mKeyError\u001b[0m: 'EX_cpd00523_e0'"
     ]
    }
   ],
   "source": [
    "from cobra.io import load_json_model\n",
    "pf = load_json_model(\"../../../pf.json\")\n",
    "\n",
    "%run ../datastandardization.py\n",
    "%run ../../../mscommfitting.py\n",
    "\n",
    "# \n",
    "experimental_metadata, biolog_df, standardized_carbon_conc, trial_name_conversion, data_timestep_hr, simulation_timestep = BiologData.process(\n",
    "    {\"path\": \"../../Jeffs_data/BIOLOG/PF genIII plate 9-12-22.xlsx\", \"Fluorescence\":\"pf\", \"Raw OD(600)\": \"OD\"}, \n",
    "    \"../../Jeffs_data/BIOLOG/BIOLOG_trial_conditions.json\")\n",
    "\n",
    "biologfit = BIOLOGPhitting(standardized_carbon_conc, None, biolog_df, experimental_metadata, '../../../../../../ModelSEED/ModelSEEDDatabase')\n",
    "biologfit.fitAll(models_list={\"pf\":pf},\n",
    "    parameters={\n",
    "        'v':.3,\n",
    "        'cvmin': 0.1,\n",
    "        'bcv': 0.0001,\n",
    "        'diffpos': 100,\n",
    "        'diffneg': 100,\n",
    "    },\n",
    "    rel_final_conc = 0.1,\n",
    "    graphs=[\n",
    "        {\n",
    "            \"phenotype\": '*',\n",
    "            'content': 'biomass',\n",
    "            'experimental_data': False\n",
    "        },\n",
    "        {\n",
    "            'content': \"conc\",\n",
    "        },\n",
    "        {\n",
    "            \"phenotype\": '*',\n",
    "            \"species\":[\"ecoli\"],\n",
    "            'content': 'biomass'\n",
    "        },\n",
    "        {\n",
    "            'content': 'total_biomass',\n",
    "            'experimental_data': True\n",
    "        }\n",
    "    ])"
   ]
  },
  {
   "cell_type": "code",
   "execution_count": null,
   "id": "73388cb7-d45c-4a86-9b8e-235e31fa5dca",
   "metadata": {},
   "outputs": [],
   "source": [
    "display(experimental_metadata, biolog_df)"
   ]
  },
  {
   "cell_type": "code",
   "execution_count": null,
   "id": "057ec01d-9ae5-4a58-b25b-b6173ef1ca16",
   "metadata": {},
   "outputs": [],
   "source": []
  }
 ],
 "metadata": {
  "kernelspec": {
   "display_name": "Python 3 (ipykernel)",
   "language": "python",
   "name": "python3"
  },
  "language_info": {
   "codemirror_mode": {
    "name": "ipython",
    "version": 3
   },
   "file_extension": ".py",
   "mimetype": "text/x-python",
   "name": "python",
   "nbconvert_exporter": "python",
   "pygments_lexer": "ipython3",
   "version": "3.9.12"
  }
 },
 "nbformat": 4,
 "nbformat_minor": 5
}
