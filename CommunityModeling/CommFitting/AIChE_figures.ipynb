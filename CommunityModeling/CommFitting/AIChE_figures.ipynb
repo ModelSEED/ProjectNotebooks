{
 "cells": [
  {
   "cell_type": "code",
   "execution_count": 1,
   "id": "53eb0f78-bbd7-4267-b538-ac47efdfc615",
   "metadata": {},
   "outputs": [
    {
     "name": "stdout",
     "output_type": "stream",
     "text": [
      "cobrakbase 0.2.8\n"
     ]
    }
   ],
   "source": [
    "# define the environment path \n",
    "import os\n",
    "# local_cobrakbase_path = os.path.join('/Users/afreiburger/Documents')\n",
    "local_cobrakbase_path = os.path.join('C:', 'Users', 'Andrew Freiburger','Documents','Argonne','cobrakbase')\n",
    "os.environ[\"HOME\"] = local_cobrakbase_path\n",
    "\n",
    "# import the models\n",
    "import cobrakbase\n",
    "# with open(\"/Users/afreiburger/Documents/kbase_token.txt\") as token_file:\n",
    "with open(\"C:/Users/Andrew Freiburger/Documents/Argonne/kbase_token.txt\") as token_file:\n",
    "    kbase_api = cobrakbase.KBaseAPI(token_file.readline())\n",
    "ecoli = kbase_api.get_from_ws(\"iML1515\",76994)\n",
    "    \n",
    "import warnings\n",
    "warnings.filterwarnings(action='once')\n",
    "\n",
    "from pandas import set_option\n",
    "set_option(\"display.max_rows\", None)"
   ]
  },
  {
   "cell_type": "code",
   "execution_count": null,
   "id": "be456ac4-4bb1-4591-8c8f-fcbff02f6e1c",
   "metadata": {
    "tags": []
   },
   "outputs": [],
   "source": [
    "pf = kbase_api.get_from_ws(\"iSB1139.kb.gf\",30650)\n",
    "# %run ../../../ModelSEEDpy/modelseedpy/community/mscompatibility.py\n",
    "%run ../../../ModelSEED/ModelSEEDpy/modelseedpy/community/mscompatibility.py\n",
    "pf = MSCompatibility.standardize(pf)[0]"
   ]
  },
  {
   "cell_type": "code",
   "execution_count": 32,
   "id": "d39f27f4-e545-47a2-9086-2f0fdff25429",
   "metadata": {},
   "outputs": [
    {
     "name": "stdout",
     "output_type": "stream",
     "text": [
      "cpd00036_e0 + 2 cpd00067_e0 --> cpd00036_c0 + 2 cpd00067_c0\n",
      "cpd00260_c0 --> cpd00036_c0 + cpd00040_c0\n",
      "cpd00001_c0 + cpd03525_c0 --> cpd00023_c0 + cpd00036_c0\n",
      "cpd00001_c0 + cpd00822_c0 --> cpd00013_c0 + cpd00036_c0 + cpd00094_c0\n",
      "cpd00078_c0 + cpd00142_c0 <=> cpd00036_c0 + cpd00279_c0\n",
      "cpd00036_c0 + cpd00067_c0 --> cpd00036_e0 + cpd00067_e0\n",
      "cpd00001_c0 + r1328_c0 --> cpd00036_c0 + r1146_c0\n",
      "cpd00007_c0 + cpd00870_c0 + r1313_c0 --> cpd00011_c0 + cpd00036_c0 + cpd00266_c0\n",
      "cpd00007_c0 + cpd00210_c0 + r1313_c0 --> cpd00011_c0 + cpd00036_c0 + cpd00081_c0 + cpd04122_c0\n",
      "cpd00239_c0 + cpd00822_c0 --> cpd00036_c0 + cpd00135_c0\n",
      "cpd02799_c0 <=> cpd00020_c0 + cpd00036_c0\n",
      "r180_b0 --> cpd00036_e0\n",
      "cpd00001_c0 + cpd00006_c0 + cpd00199_c0 <=> cpd00005_c0 + cpd00036_c0 + cpd00067_c0\n",
      "\n",
      "\n",
      "The molecules that contribute to the creation of Succinate in iSB1139:\n",
      " ['cpd00001_c0', 'cpd00006_c0', 'cpd00007_c0', 'cpd00036_e0', 'cpd00067_e0', 'cpd00078_c0', 'cpd00142_c0', 'cpd00199_c0', 'cpd00210_c0', 'cpd00239_c0', 'cpd00260_c0', 'cpd00822_c0', 'cpd00870_c0', 'cpd02799_c0', 'cpd03525_c0', 'r1313_c0', 'r1328_c0']\n"
     ]
    }
   ],
   "source": [
    "succinateIDs = [\"cpd00036\", \"r180\"]\n",
    "source_molecules = set()\n",
    "for rxn in pf.reactions:\n",
    "    rxn_met_ids = [met.id for met in rxn.products]\n",
    "    source_molecules.update(set([react.id for react in rxn.reactants if \"cpd00036_c0\" in rxn_met_ids]))\n",
    "    if any([succincate_ID in metID for metID in rxn_met_ids for succincate_ID in succinateIDs]):\n",
    "        print(rxn.reaction)\n",
    "        # if any([\"cpd00036_c0\" in rxn_met_ids]):\n",
    "        #     print(rxn.reaction)\n",
    "    \n",
    "print(\"\\n\\nThe molecules that contribute to the creation of Succinate in iSB1139:\\n\", sorted(list(source_molecules)))"
   ]
  },
  {
   "cell_type": "code",
   "execution_count": 37,
   "id": "068ec1da-0764-4128-a11c-dede2f5dea13",
   "metadata": {},
   "outputs": [
    {
     "name": "stdout",
     "output_type": "stream",
     "text": [
      "['__class__', '__delattr__', '__dict__', '__dir__', '__doc__', '__eq__', '__format__', '__ge__', '__getattribute__', '__gt__', '__hash__', '__iadd__', '__idiv__', '__imul__', '__init__', '__init_subclass__', '__isub__', '__itruediv__', '__le__', '__lt__', '__module__', '__ne__', '__new__', '__reduce__', '__reduce_ex__', '__repr__', '__setattr__', '__sizeof__', '__str__', '__subclasshook__', '__weakref__', '_canonicalize', '_direction', '_expression', '_expression_expired', '_get_expression', '_name', '_problem', '_substitute_variables', '_validate_optimization_expression_name', '_value', 'clone', 'direction', 'expression', 'from_json', 'get_linear_coefficients', 'is_Linear', 'is_Quadratic', 'name', 'problem', 'set_linear_coefficients', 'to_json', 'value', 'variables']\n",
      "{0 <= bio1_reverse_b18f7 <= 0, 0 <= bio1 <= 1000}\n"
     ]
    }
   ],
   "source": [
    "print(dir(pf.objective))\n",
    "print(pf.objective.variables)"
   ]
  },
  {
   "cell_type": "code",
   "execution_count": 5,
   "id": "77639d63-14d7-4b3b-ac28-9dc0267a7b11",
   "metadata": {},
   "outputs": [
    {
     "name": "stdout",
     "output_type": "stream",
     "text": [
      "succinate b0 frozenset({<ModelReaction MIRXN__DASH__83_e0 at 0x1719b2e20d0>})\n"
     ]
    }
   ],
   "source": [
    "mysterious_met = pf.metabolites.get_by_id(\"r180_b0\")\n",
    "print(mysterious_met.name, mysterious_met.compartment, mysterious_met.reactions)"
   ]
  },
  {
   "cell_type": "code",
   "execution_count": 16,
   "id": "d01448d1-beb2-40a2-a8f5-732ae6a4a616",
   "metadata": {
    "collapsed": true,
    "jupyter": {
     "outputs_hidden": true
    },
    "tags": []
   },
   "outputs": [
    {
     "name": "stdout",
     "output_type": "stream",
     "text": [
      "r142_b0 --> cpd00266_e0 \t\t\t\t ['Carnitine', 'L-carnitine']\n",
      "r133_b0 --> cpd00001_e0 \t\t\t\t ['H2O', 'H2O']\n",
      "r132_b0 --> cpd11640_e0 \t\t\t\t ['H2', 'H2']\n",
      "r136_b0 --> cpd01113_e0 \t\t\t\t ['Hexanoate', 'Hexanoate (n-C6:0)']\n",
      "r134_b0 --> cpd00214_e0 \t\t\t\t ['Palmitate', 'Hexadecanoate (n-C16:0)']\n",
      "r138_b0 --> cpd00205_e0 \t\t\t\t ['K+', 'K+']\n",
      "r137_b0 --> cpd00260_e0 \t\t\t\t ['Isocitrate', 'isocitrate']\n",
      "r140_b0 --> cpd00051_e0 \t\t\t\t ['L-Arginine', 'L-arginine']\n",
      "r139_b0 --> cpd00035_e0 \t\t\t\t ['L-Alanine', 'L-alanine']\n",
      "r1399_c0 --> r274_b0 \t\t\t\t ['protoheme IX', 'protoheme IX']\n",
      "cpd00060_c0 --> r254_b0 \t\t\t\t ['L-methionine', 'L-Methionine']\n",
      "cpd00066_c0 --> r255_b0 \t\t\t\t ['L-phenylalanine', 'L-Phenylalanine']\n",
      "cpd00039_c0 --> r252_b0 \t\t\t\t ['L-lysine', 'L-Lysine']\n",
      "cpd00130_c0 --> r253_b0 \t\t\t\t ['malate', 'L-Malate']\n",
      "cpd00161_c0 --> r259_b0 \t\t\t\t ['L-threonine', 'L-Threonine']\n",
      "cpd00069_c0 --> r260_b0 \t\t\t\t ['L-tyrosine', 'L-Tyrosine']\n",
      "cpd00129_c0 --> r256_b0 \t\t\t\t ['L-proline', 'L-Proline']\n",
      "cpd00054_c0 --> r258_b0 \t\t\t\t ['L-serine', 'L-Serine']\n",
      "cpd00308_c0 --> r262_b0 \t\t\t\t ['malonate', 'Malonate']\n",
      "cpd00084_c0 --> r244_b0 \t\t\t\t ['L-cysteine', 'L-Cysteine']\n",
      "r166_b0 --> cpd00030_e0 \t\t\t\t ['Mn2+_e0', 'Mn2+']\n",
      "cpd00007_b0 --> cpd00007_e0 \t\t\t\t ['O2', 'O2']\n",
      "r174_b0 --> cpd00064_e0 \t\t\t\t ['Ornithine', 'L-ornithine']\n",
      "r96_b0 --> cpd00242_e0 \t\t\t\t ['H2CO3', 'HCO3-']\n",
      "r97_b0 --> cpd00098_e0 \t\t\t\t ['Choline', 'choline']\n",
      "r88_b0 --> cpd00480_e0 \t\t\t\t ['2-dehydro-D-gluconate_e0', '2-dehydro-D-gluconate']\n",
      "r89_b0 --> cpd00024_e0 \t\t\t\t ['alpha-ketoglutarate_e0', 'alpha-ketoglutarate']\n",
      "r91_b0 --> cpd00281_e0 \t\t\t\t ['GABA', '4-aminobutyrate']\n",
      "r92_b0 --> cpd00136_e0 \t\t\t\t ['4-Hydroxybenzoate', 'p-hydroxybenzoate']\n",
      "r93_b0 --> cpd00029_e0 \t\t\t\t ['Acetate', 'acetate']\n",
      "r94_b0 --> cpd01092_e0 \t\t\t\t ['Allantoin', 'allantoin']\n",
      "r95_b0 --> cpd00013_e0 \t\t\t\t ['NH3', 'ammonia']\n",
      "cpd00179_b0 --> cpd00179_e0 \t\t\t\t ['Maltose', 'Maltose']\n",
      "r167_b0 --> cpd00131_e0 \t\t\t\t ['Mo2+_e0', 'Mo2+']\n",
      "r169_b0 --> cpd00971_e0 \t\t\t\t ['Na+', 'Na+']\n",
      "cpd00209_b0 --> cpd00209_e0 \t\t\t\t ['Nitrate', 'Nitrate']\n",
      "cpd00075_b0 --> cpd00075_e0 \t\t\t\t ['Nitrite', 'Nitrite']\n",
      "cpd00009_b0 --> cpd00009_e0 \t\t\t\t ['Phosphate', 'Phosphate']\n",
      "cpd00002_c0 --> cpd00002_b0 \t\t\t\t ['ATP', 'ATP']\n",
      "cpd00136_c0 --> r198_b0 \t\t\t\t ['p-hydroxybenzoate', '4-Hydroxybenzoate']\n",
      "cpd00029_c0 --> r199_b0 \t\t\t\t ['acetate', 'Acetate']\n",
      "cpd01092_c0 --> r203_b0 \t\t\t\t ['allantoin', 'Allantoin']\n",
      "cpd00013_c0 --> r204_b0 \t\t\t\t ['ammonia', 'NH3']\n",
      "r1446_c0 --> r195_b0 \t\t\t\t ['2-dehydro-D-gluconate', '2-dehydro-D-gluconate']\n",
      "r1313_c0 --> r196_b0 \t\t\t\t ['alpha-ketoglutarate', 'alpha-ketoglutarate']\n",
      "cpd00281_c0 --> r197_b0 \t\t\t\t ['4-aminobutyrate', 'GABA']\n",
      "r130_b0 --> cpd00139_e0 \t\t\t\t ['Glycolate', 'glycolate']\n",
      "r131_b0 --> cpd00067_e0 \t\t\t\t ['H+', 'H+']\n",
      "r126_b0 --> cpd00100_e0 \t\t\t\t ['Glycerol', 'glycerol']\n",
      "r127_b0 --> cpd00080_e0 \t\t\t\t ['Glycerol-3-phosphate', 'sn-glycerol-3-phosphate']\n",
      "r128_b0 --> cpd00033_e0 \t\t\t\t ['Glycine', 'glycine']\n",
      "cpd00540_b0 --> cpd00540_e0 \t\t\t\t ['BET', 'BET']\n",
      "cpd00105_b0 --> cpd00105_e0 \t\t\t\t ['D-Ribose', 'D-Ribose']\n",
      "cpd00154_b0 --> cpd00154_e0 \t\t\t\t ['Xylose', 'Xylose']\n",
      "r123_b0 --> cpd10515_e0 \t\t\t\t ['Fe2+_e0', 'Fe2+']\n",
      "r125_b0 --> cpd00106_e0 \t\t\t\t ['Fumarate', 'fumarate']\n",
      "cpd00053_c0 --> r247_b0 \t\t\t\t ['L-glutamine', 'L-Glutamine']\n",
      "cpd00023_c0 --> r245_b0 \t\t\t\t ['L-glutamate', 'L-Glutamate']\n",
      "cpd00322_c0 --> r249_b0 \t\t\t\t ['L-isoleucine', 'L-Isoleucine']\n",
      "cpd00119_c0 --> r248_b0 \t\t\t\t ['L-histidine', 'L-Histidine']\n",
      "cpd00041_c0 --> r205_b0 \t\t\t\t ['L-aspartate', 'L-Aspartate']\n",
      "cpd00051_c0 --> r241_b0 \t\t\t\t ['L-arginine', 'L-Arginine']\n",
      "cpd00266_c0 --> r243_b0 \t\t\t\t ['L-carnitine', 'Carnitine']\n",
      "cpd00107_c0 --> r251_b0 \t\t\t\t ['L-leucine', 'L-Leucine']\n",
      "cpd00159_c0 --> r250_b0 \t\t\t\t ['L-lactate', 'L-Lactate']\n",
      "r1537_b0 --> cpd00681_e0 \t\t\t\t ['Choline sulfate', 'choline sulfate']\n",
      "r345_b0 --> cpd00065_e0 \t\t\t\t ['L-Tryptophan', 'L-tryptophan']\n",
      "r141_b0 --> cpd00041_e0 \t\t\t\t ['L-Aspartate', 'L-aspartate']\n",
      "cpd00224_b0 --> cpd00224_e0 \t\t\t\t ['L-Arabinose', 'L-Arabinose']\n",
      "cpd16742_b0 --> cpd16742_e0 \t\t\t\t ['pentanesulfonate', 'pentanesulfonate']\n",
      "cpd00033_c0 --> r230_b0 \t\t\t\t ['glycine', 'Glycine']\n",
      "cpd00139_c0 --> r231_b0 \t\t\t\t ['glycolate', 'Glycolate']\n",
      "cpd00067_c0 --> r232_b0 \t\t\t\t ['H+', 'H+']\n",
      "cpd11640_c0 --> r233_b0 \t\t\t\t ['H2', 'H2']\n",
      "cpd00001_c0 --> r234_b0 \t\t\t\t ['H2O', 'H2O']\n",
      "cpd00214_c0 --> r236_b0 \t\t\t\t ['Hexadecanoate (n-C16:0)', 'Palmitate']\n",
      "cpd01113_c0 --> r237_b0 \t\t\t\t ['Hexanoate (n-C6:0)', 'Hexanoate']\n",
      "cpd00260_c0 --> r238_b0 \t\t\t\t ['isocitrate', 'Isocitrate']\n",
      "cpd00205_c0 --> r239_b0 \t\t\t\t ['K+', 'K+']\n",
      "cpd00035_c0 --> r240_b0 \t\t\t\t ['L-alanine', 'L-Alanine']\n",
      "cpd00156_c0 --> r261_b0 \t\t\t\t ['L-valine', 'L-Valine']\n",
      "r158_b0 --> cpd00161_e0 \t\t\t\t ['L-Threonine', 'L-threonine']\n",
      "r156_b0 --> cpd00054_e0 \t\t\t\t ['L-Serine', 'L-serine']\n",
      "r155_b0 --> cpd00129_e0 \t\t\t\t ['L-Proline', 'L-proline']\n",
      "r162_b0 --> cpd00308_e0 \t\t\t\t ['Malonate', 'malonate']\n",
      "cpd00254_b0 --> cpd00254_e0 \t\t\t\t ['Mg', 'Mg']\n",
      "r160_b0 --> cpd00156_e0 \t\t\t\t ['L-Valine', 'L-valine']\n",
      "r159_b0 --> cpd00069_e0 \t\t\t\t ['L-Tyrosine', 'L-tyrosine']\n",
      "r164_b0 --> cpd00227_e0 \t\t\t\t ['L-Homoserine', 'homoserine']\n",
      "cpd00099_b0 --> cpd00099_e0 \t\t\t\t ['Cl-', 'Cl-']\n",
      "cpd00681_c0 --> r1538_b0 \t\t\t\t ['choline sulfate', 'Choline sulfate']\n",
      "r504_c0 --> r275_b0 \t\t\t\t ['heme ', 'heme']\n",
      "cpd00309_c0 --> r276_b0 \t\t\t\t ['xanthine', 'XAN']\n",
      "cpd00065_c0 --> r347_b0 \t\t\t\t ['L-tryptophan', 'L-Tryptophan']\n",
      "r110_b0 --> cpd00222_e0 \t\t\t\t ['GLCN', 'gluconate']\n",
      "r109_b0 --> cpd00653_e0 \t\t\t\t ['D-Galactonate', 'D-galactonate']\n",
      "0.81 r1239_c0 + 0.19 r727_c0 --> r1539_b0 \t\t\t\t ['Exported alginate, DA=0.19', 'mannuronate', 'acetyl-mannuronate']\n",
      "0.68 r1239_c0 + 0.32 r727_c0 --> r1540_b0 \t\t\t\t ['Exported alginate, DA=0.32', 'mannuronate', 'acetyl-mannuronate']\n",
      "r120_b0 --> cpd01741_e0 \t\t\t\t ['ddca', 'Dodecanoate (n-C12:0)']\n",
      "r119_b0 --> cpd00637_e0 \t\t\t\t ['D-Methionine', 'D-methionine']\n",
      "cpd00138_b0 --> cpd00138_e0 \t\t\t\t ['D-Mannose', 'D-Mannose']\n",
      "r117_b0 --> cpd00314_e0 \t\t\t\t ['D-Mannitol', 'mannitol']\n",
      "r116_b0 --> cpd00386_e0 \t\t\t\t ['D-Malate', 'D-malate']\n",
      "r115_b0 --> cpd00221_e0 \t\t\t\t ['D-Lactate', 'D-lactate']\n",
      "r114_b0 --> cpd00448_e0 \t\t\t\t ['D-Glyceraldehyde', 'glyceraldehyde']\n",
      "cpd00190_b0 --> cpd00190_e0 \t\t\t\t ['beta-D-Glucose', 'beta-D-Glucose']\n",
      "cpd08023_b0 --> cpd08023_e0 \t\t\t\t ['methanesulfonate', 'methanesulfonate']\n",
      "r189_b0 --> cpd00965_e0 \t\t\t\t ['Hg', 'Hg0']\n",
      "cpd00063_b0 --> cpd00063_e0 \t\t\t\t ['Ca2+', 'Ca2+']\n",
      "r187_b0 --> cpd03343_e0 \t\t\t\t ['Phenylpropanoate', '3-phenylpropionate']\n",
      "r188_b0 --> cpd00571_e0 \t\t\t\t ['D-Glucarate_e0', 'D-glucarate']\n",
      "cpd00034_b0 --> cpd00034_e0 \t\t\t\t ['Zn2+', 'Zn2+']\n",
      "cpd11579_b0 --> cpd11579_e0 \t\t\t\t ['ethanesulfonate', 'ethanesulfonate']\n",
      "r192_b0 --> cpd00002_c0 + cpd00028_e0 \t\t\t\t ['protoheme IX_e0', 'ATP', 'protoheme IX']\n",
      "r193_b0 --> cpd00309_e0 \t\t\t\t ['XAN', 'xanthine']\n",
      "cpd00386_c0 --> r221_b0 \t\t\t\t ['D-malate', 'D-Malate']\n",
      "cpd00221_c0 --> r220_b0 \t\t\t\t ['D-lactate', 'D-Lactate']\n",
      "cpd00448_c0 --> r219_b0 \t\t\t\t ['glyceraldehyde', 'D-Glyceraldehyde']\n",
      "cpd00222_c0 --> r218_b0 \t\t\t\t ['gluconate', 'GLCN']\n",
      "cpd00106_c0 --> r227_b0 \t\t\t\t ['fumarate', 'Fumarate']\n",
      "cpd01741_c0 --> r226_b0 \t\t\t\t ['Dodecanoate (n-C12:0)', 'ddca']\n",
      "cpd00637_c0 --> r225_b0 \t\t\t\t ['D-methionine', 'D-Methionine']\n",
      "cpd00314_c0 --> r222_b0 \t\t\t\t ['mannitol', 'D-Mannitol']\n",
      "cpd00080_c0 --> r229_b0 \t\t\t\t ['sn-glycerol-3-phosphate', 'Glycerol-3-phosphate']\n",
      "cpd00100_c0 --> r228_b0 \t\t\t\t ['glycerol', 'Glycerol']\n",
      "cpd03048_b0 --> cpd03048_e0 \t\t\t\t ['Isethionate', 'Isethionate']\n",
      "r150_b0 --> cpd00107_e0 \t\t\t\t ['L-Leucine', 'L-leucine']\n",
      "r151_b0 --> cpd00039_e0 \t\t\t\t ['L-Lysine', 'L-lysine']\n",
      "r148_b0 --> cpd00322_e0 \t\t\t\t ['L-Isoleucine', 'L-isoleucine']\n",
      "r149_b0 --> cpd00159_e0 \t\t\t\t ['L-Lactate', 'L-lactate']\n",
      "r145_b0 --> cpd00053_e0 \t\t\t\t ['L-Glutamine', 'L-glutamine']\n",
      "r147_b0 --> cpd00119_e0 \t\t\t\t ['L-Histidine', 'L-histidine']\n",
      "r143_b0 --> cpd00084_e0 \t\t\t\t ['L-Cysteine', 'L-cysteine']\n",
      "r144_b0 --> cpd00023_e0 \t\t\t\t ['L-Glutamate', 'L-glutamate']\n",
      "r152_b0 --> cpd00130_e0 \t\t\t\t ['L-Malate', 'malate']\n",
      "r153_b0 --> cpd00060_e0 \t\t\t\t ['L-Methionine', 'L-methionine']\n",
      "r154_b0 --> cpd00066_e0 \t\t\t\t ['L-Phenylalanine', 'L-phenylalanine']\n",
      "cpd00965_c0 --> r273_b0 \t\t\t\t ['Hg0', 'Hg']\n",
      "cpd00609_c0 --> r272_b0 \t\t\t\t ['D-glucarate', 'D-Glucarate']\n",
      "cpd03343_c0 --> r271_b0 \t\t\t\t ['3-phenylpropionate', 'Phenylpropanoate']\n",
      "cpd03847_c0 --> r270_b0 \t\t\t\t ['tetradecanoate (n-C14:0)', 'Myristic acid']\n",
      "cpd00210_c0 --> r269_b0 \t\t\t\t ['taurine', 'Taurine']\n",
      "cpd00036_c0 --> r267_b0 \t\t\t\t ['succinate', 'Succinate']\n",
      "cpd00064_c0 --> r266_b0 \t\t\t\t ['L-ornithine', 'Ornithine']\n",
      "cpd00355_c0 --> r265_b0 \t\t\t\t ['nicotinamide mononucleotide', 'Nicotinamide ribonucleotide']\n",
      "cpd00971_c0 --> r264_b0 \t\t\t\t ['Na+', 'Na+']\n",
      "cpd00227_c0 --> r263_b0 \t\t\t\t ['homoserine', 'L-Homoserine']\n",
      "cpd11416_c0 --> cpd11416_b0 \t\t\t\t ['Biomass', 'Biomass']\n",
      "r100_b0 --> cpd00011_e0 \t\t\t\t ['CO2', 'CO2']\n",
      "cpd00149_b0 --> cpd00149_e0 \t\t\t\t ['Co2+', 'Co2+']\n",
      "r98_b0 --> cpd00137_e0 \t\t\t\t ['Citrate', 'citrate']\n",
      "cpd00166_b0 --> cpd00166_e0 \t\t\t\t ['Calomide', 'Calomide']\n",
      "r105_b0 --> cpd00587_e0 \t\t\t\t ['D-Cysteine', 'D-cysteine']\n",
      "r106_b0 --> cpd00550_e0 \t\t\t\t ['D-Serine', 'D-serine']\n",
      "r103_b0 --> cpd00307_e0 \t\t\t\t ['Cytosine', 'cytosine']\n",
      "r104_b0 --> cpd00117_e0 \t\t\t\t ['D-Alanine', 'D-alanine']\n",
      "r170_b0 --> cpd00355_e0 \t\t\t\t ['Nicotinamide ribonucleotide', 'nicotinamide mononucleotide']\n",
      "r107_b0 --> cpd01107_e0 \t\t\t\t ['Decanoate', 'Decanoate (n-C10:0)']\n",
      "cpd00082_b0 --> cpd00082_e0 \t\t\t\t ['D-Fructose', 'D-Fructose']\n",
      "cpd00092_b0 --> cpd00092_e0 \t\t\t\t ['Uracil', 'Uracil']\n",
      "cpd00794_b0 --> cpd00794_e0 \t\t\t\t ['TRHL', 'TRHL']\n",
      "r182_b0 --> cpd00210_e0 \t\t\t\t ['Taurine', 'taurine']\n",
      "cpd00048_b0 --> cpd00048_e0 \t\t\t\t ['Sulfate', 'Sulfate']\n",
      "cpd00268_b0 --> cpd00268_e0 \t\t\t\t ['H2S2O3', 'H2S2O3']\n",
      "r183_b0 --> cpd03847_e0 \t\t\t\t ['Myristic acid', 'tetradecanoate (n-C14:0)']\n",
      "cpd00118_b0 --> cpd00118_e0 \t\t\t\t ['Putrescine', 'Putrescine']\n",
      "cpd04099_b0 --> cpd04099_e0 \t\t\t\t ['Phosphonate', 'Phosphonate']\n",
      "r180_b0 --> cpd00036_e0 \t\t\t\t ['Succinate', 'succinate']\n",
      "cpd00264_b0 --> cpd00264_e0 \t\t\t\t ['Spermidine', 'Spermidine']\n",
      "cpd00587_c0 --> r214_b0 \t\t\t\t ['D-cysteine', 'D-Cysteine']\n",
      "cpd00550_c0 --> r215_b0 \t\t\t\t ['D-serine', 'D-Serine']\n",
      "cpd00307_c0 --> r211_b0 \t\t\t\t ['cytosine', 'Cytosine']\n",
      "cpd00117_c0 --> r213_b0 \t\t\t\t ['D-alanine', 'D-Alanine']\n",
      "cpd00137_c0 --> r209_b0 \t\t\t\t ['citrate', 'Citrate']\n",
      "cpd00011_c0 --> r210_b0 \t\t\t\t ['CO2', 'CO2']\n",
      "cpd00242_c0 --> r207_b0 \t\t\t\t ['HCO3-', 'H2CO3']\n",
      "cpd00098_c0 --> r208_b0 \t\t\t\t ['choline', 'Choline']\n",
      "cpd01107_c0 --> r216_b0 \t\t\t\t ['Decanoate (n-C10:0)', 'Decanoate']\n",
      "cpd00653_c0 --> r217_b0 \t\t\t\t ['D-galactonate', 'D-Galactonate']\n"
     ]
    }
   ],
   "source": [
    "for rxn in pf.reactions:\n",
    "    if any([met.compartment == \"b0\" for met in rxn.products+rxn.reactants]):\n",
    "        print(rxn.reaction, \"\\t\\t\\t\\t\", [met.name for met in rxn.products+rxn.reactants])        "
   ]
  },
  {
   "cell_type": "code",
   "execution_count": 2,
   "id": "51c09530-1e23-4abf-b697-f235780eb06d",
   "metadata": {
    "tags": []
   },
   "outputs": [],
   "source": [
    "# %run ../../../ModelSEED/ModelSEEDpy/modelseedpy/community/mscompatibility.py\n",
    "# MSCompatibility.standardize(ecoli)"
   ]
  },
  {
   "cell_type": "code",
   "execution_count": 2,
   "id": "6568e630-2e2f-48c9-9df2-b804b9b65374",
   "metadata": {},
   "outputs": [],
   "source": [
    "graphs_list = [\n",
    "    {\n",
    "        'trial':'G48',\n",
    "        \"phenotype\": '*',\n",
    "        'content': 'biomass',\n",
    "        'experimental_data': False\n",
    "    },\n",
    "    {\n",
    "        'trial':'G48',\n",
    "        'content': \"conc\",\n",
    "    },\n",
    "    {\n",
    "        'trial':'G48',\n",
    "        \"phenotype\": '*',\n",
    "        \"species\":[\"ecoli\"],\n",
    "        'content': 'biomass'\n",
    "    },\n",
    "    {\n",
    "        'trial':'G48',\n",
    "        'content': 'total_biomass',\n",
    "        'experimental_data': True\n",
    "    }\n",
    "]\n",
    "\n",
    "def update_graphs(trial, conc):\n",
    "    graphs = graphs_list.copy()\n",
    "    for graph in graphs:\n",
    "        graph[\"trial\"] = trial\n",
    "    return graphs"
   ]
  },
  {
   "cell_type": "markdown",
   "id": "d77c6a0f-b681-487e-8deb-4feac4c7fa2b",
   "metadata": {},
   "source": [
    "# Maltose"
   ]
  },
  {
   "cell_type": "markdown",
   "id": "953e4009-be7e-436b-a32d-214ee855ecae",
   "metadata": {},
   "source": [
    "## G2, 1:20 Ecoli:PF"
   ]
  },
  {
   "cell_type": "code",
   "execution_count": 2,
   "id": "f04c29a0-1a16-4c78-bd67-76f085df6161",
   "metadata": {
    "tags": []
   },
   "outputs": [
    {
     "name": "stderr",
     "output_type": "stream",
     "text": [
      "C:\\Users\\Andrew Freiburger\\Documents\\Argonne\\ProjectNotebooks\\CommunityModeling\\CommFitting\\data\\standardized_data\\datastandardization.py:108: DeprecationWarning: invalid escape sequence \\_\n",
      "  met_id = re.sub('(\\_\\w\\d+)', '', met)\n",
      "modelseedpy.community.mscompatibility - WARNING - ModelSEEDError: The metabolite (sq-e_e0 | Sulphoquinovose | Sulphoquinovose) is not recognized by the ModelSEED Database\n",
      "modelseedpy.community.mscompatibility - WARNING - IDWarning: The original ID cpd00609_e0 is a ModelSEED ID, and may not be desirably changed to cpd00609_e0.\n",
      "modelseedpy.community.mscompatibility - WARNING - ModelSEEDError: The metabolite (metglcur-e_e0 | 1-O-methyl-Beta-D-glucuronate | Omethylbetadglucuronate | 1-O-methyl-Beta-D-glucuronate) is not recognized by the ModelSEED Database\n",
      "modelseedpy.community.mscompatibility - WARNING - IDWarning: The original ID cpd03191_e0 is a ModelSEED ID, and may not be desirably changed to cpd03191_e0.\n",
      "modelseedpy.community.mscompatibility - WARNING - IDWarning: The original ID cpd15411_e0 is a ModelSEED ID, and may not be desirably changed to cpd15411_e0.\n",
      "C:\\Users\\Andrew Freiburger\\AppData\\Local\\Programs\\Python\\Python39\\lib\\site-packages\\cobra\\core\\model.py:522: DeprecationWarning: add_reaction deprecated. Use add_reactions instead\n",
      "  warn(\"add_reaction deprecated. Use add_reactions instead\", DeprecationWarning)\n",
      "modelseedpy.community.mscompatibility - WARNING - ModelSEEDError: The metabolite (colipap-e_e0 | Core oligosaccharide lipid A diphosphate | Core oligosaccharide lipid A diphosphate) is not recognized by the ModelSEED Database\n",
      "modelseedpy.community.mscompatibility - ERROR - The iML1515 model has residual non-standard metabolites in its exchange reactions: {'colipap-e_e0', 'sq-e_e0', 'metglcur-e_e0'}. Specify a True `printing` parameter to view why these metabolites were not corrected.\n"
     ]
    },
    {
     "name": "stdout",
     "output_type": "stream",
     "text": [
      "\n",
      "\n",
      "3 reactions were substituted and 7 metabolite IDs were redefined in iML1515 by standardize().\n"
     ]
    },
    {
     "name": "stderr",
     "output_type": "stream",
     "text": [
      "C:\\Users\\Andrew Freiburger\\AppData\\Local\\Programs\\Python\\Python39\\lib\\site-packages\\cobra\\medium\\minimal_medium.py:112: FutureWarning: The default dtype for empty Series will be 'object' instead of 'float64' in a future version. Specify a dtype explicitly to silence this warning.\n",
      "  medium = pd.Series()\n"
     ]
    },
    {
     "name": "stdout",
     "output_type": "stream",
     "text": [
      "\n",
      "The exchange 'EX_cpd00609_e0' is incorrectly defined in the iML1515 model.\n",
      "\n",
      "\n",
      "The exchange 'EX_cpd03191_e0' is incorrectly defined in the iML1515 model.\n",
      "\n",
      "Minimize\n",
      "1.0*EX_cpd00029_e0 - 1.0*EX_cpd00029_e0_reverse_7bbb8\n",
      "-48.980765197263786\n"
     ]
    },
    {
     "name": "stderr",
     "output_type": "stream",
     "text": [
      "modelseedpy.community.mscompatibility - WARNING - ModelSEEDError: The metabolite (sq-e_e0 | Sulphoquinovose | Sulphoquinovose) is not recognized by the ModelSEED Database\n",
      "modelseedpy.community.mscompatibility - WARNING - IDWarning: The original ID cpd00609_e0 is a ModelSEED ID, and may not be desirably changed to cpd00609_e0.\n",
      "modelseedpy.community.mscompatibility - WARNING - ModelSEEDError: The metabolite (metglcur-e_e0 | 1-O-methyl-Beta-D-glucuronate | Omethylbetadglucuronate | 1-O-methyl-Beta-D-glucuronate) is not recognized by the ModelSEED Database\n",
      "modelseedpy.community.mscompatibility - WARNING - IDWarning: The original ID cpd03191_e0 is a ModelSEED ID, and may not be desirably changed to cpd03191_e0.\n",
      "modelseedpy.community.mscompatibility - WARNING - IDWarning: The original ID cpd15411_e0 is a ModelSEED ID, and may not be desirably changed to cpd15411_e0.\n",
      "C:\\Users\\Andrew Freiburger\\AppData\\Local\\Programs\\Python\\Python39\\lib\\site-packages\\cobra\\core\\model.py:522: DeprecationWarning: add_reaction deprecated. Use add_reactions instead\n",
      "  warn(\"add_reaction deprecated. Use add_reactions instead\", DeprecationWarning)\n",
      "modelseedpy.community.mscompatibility - WARNING - ModelSEEDError: The metabolite (colipap-e_e0 | Core oligosaccharide lipid A diphosphate | Core oligosaccharide lipid A diphosphate) is not recognized by the ModelSEED Database\n",
      "modelseedpy.community.mscompatibility - ERROR - The iML1515 model has residual non-standard metabolites in its exchange reactions: {'colipap-e_e0', 'sq-e_e0', 'metglcur-e_e0'}. Specify a True `printing` parameter to view why these metabolites were not corrected.\n"
     ]
    },
    {
     "name": "stdout",
     "output_type": "stream",
     "text": [
      "\n",
      "\n",
      "3 reactions were substituted and 7 metabolite IDs were redefined in iML1515 by standardize().\n"
     ]
    },
    {
     "name": "stderr",
     "output_type": "stream",
     "text": [
      "C:\\Users\\Andrew Freiburger\\AppData\\Local\\Programs\\Python\\Python39\\lib\\site-packages\\cobra\\medium\\minimal_medium.py:112: FutureWarning: The default dtype for empty Series will be 'object' instead of 'float64' in a future version. Specify a dtype explicitly to silence this warning.\n",
      "  medium = pd.Series()\n"
     ]
    },
    {
     "name": "stdout",
     "output_type": "stream",
     "text": [
      "\n",
      "The exchange 'EX_cpd00609_e0' is incorrectly defined in the iML1515 model.\n",
      "\n",
      "\n",
      "The exchange 'EX_cpd03191_e0' is incorrectly defined in the iML1515 model.\n",
      "\n",
      "Minimize\n",
      "1.0*EX_cpd00179_e0 - 1.0*EX_cpd00179_e0_reverse_356c6\n",
      "-109.00245354826072\n"
     ]
    },
    {
     "name": "stderr",
     "output_type": "stream",
     "text": [
      "modelseedpy.community.mscompatibility - WARNING - IDWarning: The original ID cpd00609_e0 is a ModelSEED ID, and may not be desirably changed to cpd00609_e0.\n",
      "modelseedpy.community.mscompatibility - WARNING - ModelSEEDError: The metabolite (r1535_e0 | H+ involved in electron transport and ATP generation | H+ involved in electron transport and ATP generation) is not recognized by the ModelSEED Database\n",
      "C:\\Users\\Andrew Freiburger\\AppData\\Local\\Programs\\Python\\Python39\\lib\\site-packages\\cobra\\core\\model.py:522: DeprecationWarning: add_reaction deprecated. Use add_reactions instead\n",
      "  warn(\"add_reaction deprecated. Use add_reactions instead\", DeprecationWarning)\n",
      "modelseedpy.community.mscompatibility - ERROR - The iSB1139 model has residual non-standard metabolites in its exchange reactions: {'r1535_e0'}. Specify a True `printing` parameter to view why these metabolites were not corrected.\n"
     ]
    },
    {
     "name": "stdout",
     "output_type": "stream",
     "text": [
      "\n",
      "\n",
      "4 reactions were substituted and 7 metabolite IDs were redefined in iSB1139 by standardize().\n"
     ]
    },
    {
     "name": "stderr",
     "output_type": "stream",
     "text": [
      "C:\\Users\\Andrew Freiburger\\AppData\\Local\\Programs\\Python\\Python39\\lib\\site-packages\\cobra\\medium\\minimal_medium.py:112: FutureWarning: The default dtype for empty Series will be 'object' instead of 'float64' in a future version. Specify a dtype explicitly to silence this warning.\n",
      "  medium = pd.Series()\n"
     ]
    },
    {
     "name": "stdout",
     "output_type": "stream",
     "text": [
      "\n",
      "The exchange 'EX_cpd00609_e0' is incorrectly defined in the iSB1139 model.\n",
      "\n",
      "Minimize\n",
      "1.0*EX_cpd00029_e0 - 1.0*EX_cpd00029_e0_reverse_7bbb8\n",
      "-10.820120794326566\n"
     ]
    },
    {
     "name": "stderr",
     "output_type": "stream",
     "text": [
      "modelseedpy.community.mscompatibility - WARNING - IDWarning: The original ID cpd00609_e0 is a ModelSEED ID, and may not be desirably changed to cpd00609_e0.\n",
      "modelseedpy.community.mscompatibility - WARNING - ModelSEEDError: The metabolite (r1535_e0 | H+ involved in electron transport and ATP generation | H+ involved in electron transport and ATP generation) is not recognized by the ModelSEED Database\n",
      "C:\\Users\\Andrew Freiburger\\AppData\\Local\\Programs\\Python\\Python39\\lib\\site-packages\\cobra\\core\\model.py:522: DeprecationWarning: add_reaction deprecated. Use add_reactions instead\n",
      "  warn(\"add_reaction deprecated. Use add_reactions instead\", DeprecationWarning)\n",
      "modelseedpy.community.mscompatibility - ERROR - The iSB1139 model has residual non-standard metabolites in its exchange reactions: {'r1535_e0'}. Specify a True `printing` parameter to view why these metabolites were not corrected.\n"
     ]
    },
    {
     "name": "stdout",
     "output_type": "stream",
     "text": [
      "\n",
      "\n",
      "4 reactions were substituted and 7 metabolite IDs were redefined in iSB1139 by standardize().\n"
     ]
    },
    {
     "name": "stderr",
     "output_type": "stream",
     "text": [
      "C:\\Users\\Andrew Freiburger\\AppData\\Local\\Programs\\Python\\Python39\\lib\\site-packages\\cobra\\medium\\minimal_medium.py:112: FutureWarning: The default dtype for empty Series will be 'object' instead of 'float64' in a future version. Specify a dtype explicitly to silence this warning.\n",
      "  medium = pd.Series()\n"
     ]
    },
    {
     "name": "stdout",
     "output_type": "stream",
     "text": [
      "\n",
      "The exchange 'EX_cpd00609_e0' is incorrectly defined in the iSB1139 model.\n",
      "\n",
      "Minimize\n",
      "1.0*EX_cpd00136_e0 - 1.0*EX_cpd00136_e0_reverse_afcbc\n",
      "-14.954137490000988\n",
      "The ['B2', 'B3', 'B5', 'B6', 'B7', 'B8', 'B9', 'B10', 'B11', 'B12', 'C2', 'C3', 'C4', 'C5', 'C6', 'C7', 'C8', 'C9', 'C10', 'C11', 'C12', 'D2', 'D3', 'D4', 'D5', 'D6', 'D7', 'D8', 'D9', 'D10', 'D11', 'D12', 'E2', 'E3', 'E4', 'E5', 'E6', 'E7', 'E8', 'E9', 'E10', 'E11', 'E12', 'F2', 'F3', 'F4', 'F5', 'F6', 'F7', 'F8', 'F9', 'F10', 'F11', 'F12', 'G2', 'G3', 'G4', 'G5', 'G6', 'G7', 'G8', 'G9', 'G10', 'G11', 'G12'] trials were dropped from the OD measurements per the ignore_trials parameter.\n",
      "The [160, 161, 162, 163, 164, 165, 166] timesteps (with [1.1927582  1.19249437 1.1894573  1.18660331 1.18786633 1.18184414\n",
      " 1.17995412] values) were removed for the OD data since the OD plateaued and is no longer valid.\n",
      "The ['B2', 'B3', 'B5', 'B6', 'B7', 'B8', 'B9', 'B10', 'B11', 'B12', 'C2', 'C3', 'C4', 'C5', 'C6', 'C7', 'C8', 'C9', 'C10', 'C11', 'C12', 'D2', 'D3', 'D4', 'D5', 'D6', 'D7', 'D8', 'D9', 'D10', 'D11', 'D12', 'E2', 'E3', 'E4', 'E5', 'E6', 'E7', 'E8', 'E9', 'E10', 'E11', 'E12', 'F2', 'F3', 'F4', 'F5', 'F6', 'F7', 'F8', 'F9', 'F10', 'F11', 'F12', 'G2', 'G3', 'G4', 'G5', 'G6', 'G7', 'G8', 'G9', 'G10', 'G11', 'G12'] trials were dropped from the pf measurements per the ignore_trials parameter.\n",
      "The ['B2', 'B3', 'B5', 'B6', 'B7', 'B8', 'B9', 'B10', 'B11', 'B12', 'C2', 'C3', 'C4', 'C5', 'C6', 'C7', 'C8', 'C9', 'C10', 'C11', 'C12', 'D2', 'D3', 'D4', 'D5', 'D6', 'D7', 'D8', 'D9', 'D10', 'D11', 'D12', 'E2', 'E3', 'E4', 'E5', 'E6', 'E7', 'E8', 'E9', 'E10', 'E11', 'E12', 'F2', 'F3', 'F4', 'F5', 'F6', 'F7', 'F8', 'F9', 'F10', 'F11', 'F12', 'G2', 'G3', 'G4', 'G5', 'G6', 'G7', 'G8', 'G9', 'G10', 'G11', 'G12'] trials were dropped from the ecoli measurements per the ignore_trials parameter.\n",
      "4.13203125 minutes\n"
     ]
    }
   ],
   "source": [
    "%run ./data/standardized_data/datastandardization.py\n",
    "growth_data_path=\"data/Jeffs_data/PF-EC 4-29-22 ratios and 4HB changes.xlsx\"\n",
    "from time import process_time\n",
    "time1 = process_time()\n",
    "experimental_metadata, growth_df, fluxes_df, standardized_carbon_conc, signal_species, trial_name_conversion, species_phenos_df, data_timestep_hr, simulation_timestep, media_conc = GrowthData.process(\n",
    "    community_members = {\n",
    "        kbase_api.get_from_ws(\"iML1515\",76994): {\n",
    "            'name': 'ecoli', \n",
    "            'phenotypes': {'acetate': [\"cpd00029\"], #kbase_api.get_from_ws('93465/13/1'), \n",
    "                        'malt': [\"cpd00179\"]} #kbase_api.get_from_ws(\"93465/23/1\")} #'93465/9/1')}   # !!! The phenotype name must align with the experimental IDs for the graphs to find the appropriate data\n",
    "            },\n",
    "        kbase_api.get_from_ws(\"iSB1139.kb.gf\",30650): {\n",
    "            'name': 'pf',\n",
    "            'phenotypes': {'acetate': [\"cpd00029\"], # kbase_api.get_from_ws(\"93465/25/1\"), #'93465/11/1'), \n",
    "                        '4HB': [\"cpd00136\"]} # kbase_api.get_from_ws('\t93465/27/1')} #93465/15/1')}\n",
    "            }\n",
    "        },\n",
    "    # msdb_path = \"../../../ModelSEED/ModelSEEDDatabase\",\n",
    "    data_paths = {'path':growth_data_path, 'Raw OD(590)':'OD', 'mNeonGreen':'pf', 'mRuby':'ecoli'},\n",
    "    species_abundances = {\n",
    "        1:{\"ecoli\":0, \"pf\":1},\n",
    "        2:{\"ecoli\":1, \"pf\":50},\n",
    "        3:{\"ecoli\":1, \"pf\":20},\n",
    "        4:{\"ecoli\":1, \"pf\":10},\n",
    "        5:{\"ecoli\":1, \"pf\":3},\n",
    "        6:{\"ecoli\":1, \"pf\":1},\n",
    "        7:{\"ecoli\":3, \"pf\":1},\n",
    "        8:{\"ecoli\":10, \"pf\":1},\n",
    "        9:{\"ecoli\":20, \"pf\":1},\n",
    "        10:{\"ecoli\":1, \"pf\":0},\n",
    "        11:{\"ecoli\":0, \"pf\":0}\n",
    "      },\n",
    "    carbon_conc_series = {'rows': {\n",
    "        'cpd00136': {'B':0, 'C': 0, 'D': 1, 'E': 1, 'F': 4, 'G': 4},\n",
    "        'cpd00179': {'B':5, 'C': 5, 'D':5, 'E': 5, 'F': 5, 'G': 5},\n",
    "    }},\n",
    "    ignore_trials = {'rows': ['C', 'D', 'E', 'F', 'G'], 'columns': [1,2,3,5,6,7,8,9,10,11,12]},\n",
    "    # ignore_timesteps=\"10:\",  # The \n",
    "    species_identities_rows = {\n",
    "        1:{\"ecoli\":\"mRuby\"},\n",
    "        2:{\"ecoli\":\"ACS\"},\n",
    "        3:{\"ecoli\":\"mRuby\"},\n",
    "        4:{\"ecoli\":\"ACS\"},\n",
    "        5:{\"ecoli\":\"mRuby\"},\n",
    "        6:{\"ecoli\":\"ACS\"}\n",
    "    }\n",
    ")\n",
    "print(f\"{(process_time()-time1)/60} minutes\")"
   ]
  },
  {
   "cell_type": "code",
   "execution_count": null,
   "id": "6c2f82f7-e0fc-4045-80bd-a6d081fcdd01",
   "metadata": {
    "tags": []
   },
   "outputs": [],
   "source": [
    "display(media_conc)"
   ]
  },
  {
   "cell_type": "markdown",
   "id": "6f6c65fc-4623-42bf-99c7-ce78768ab82c",
   "metadata": {},
   "source": [
    "### forced Acetate consumption"
   ]
  },
  {
   "cell_type": "code",
   "execution_count": null,
   "id": "db1375d1-4a75-4d7b-b124-bb035825360b",
   "metadata": {
    "tags": []
   },
   "outputs": [],
   "source": [
    "%run mscommfitting.py\n",
    "\n",
    "commfit = CommPhitting(fluxes_df, standardized_carbon_conc, media_conc, signal_species, species_phenos_df, growth_df, experimental_metadata)\n",
    "commfit.fit(\n",
    "    parameters={\n",
    "        'v':.3,\n",
    "        'cvmin': 1,\n",
    "        'bcv': 0.0001,\n",
    "        'diffpos': 100,\n",
    "        'diffneg': 100\n",
    "        }, \n",
    "     rel_final_conc = {\"cpd00179\":0.5},\n",
    "     zero_start=[\"cpd00029\"],\n",
    "    abs_final_conc={\"cpd00029\":0.5}, # metabolomics data\n",
    "     mets_to_track = [\"cpd00179\",\"cpd00029\"],\n",
    "       graphs = update_graphs(\"G3\", None), \n",
    "     # export_zip_name='for_michaelis_menten.zip', \n",
    "     # data_timesteps = {\"A3\":list(range(10))},\n",
    "    msdb_path='../../../ModelSEED/ModelSEEDDatabase',\n",
    "    publishing=True)"
   ]
  },
  {
   "cell_type": "code",
   "execution_count": null,
   "id": "8098239f-f987-45f7-87d8-5445f917a2c0",
   "metadata": {
    "tags": []
   },
   "outputs": [],
   "source": [
    "display(trial_name_conversion)"
   ]
  },
  {
   "cell_type": "code",
   "execution_count": null,
   "id": "fc4ff95b-8f47-493a-9fde-6c709e413257",
   "metadata": {
    "tags": []
   },
   "outputs": [],
   "source": [
    "display(experimental_metadata)"
   ]
  },
  {
   "cell_type": "code",
   "execution_count": null,
   "id": "f9bf79f5-077f-4733-b4ec-6111664cd6bf",
   "metadata": {},
   "outputs": [],
   "source": [
    "%run mscommfitting.py\n",
    "\n",
    "commfit = MSCommFitting(fluxes_df, standardized_carbon_conc, media_conc, signal_species, species_phenos_df, growth_df, experimental_metadata)\n",
    "commfit.fit(\n",
    "    parameters={\n",
    "        'v':.3,\n",
    "        'cvmin': 100,\n",
    "        'bcv': 100,\n",
    "        'diffpos': 100,\n",
    "        'diffneg': 100\n",
    "        }, \n",
    "     carbon_sources = {\"cpd00179\":0.2,},    \n",
    "     mets_to_track = [\"cpd00179\",\"cpd00029\"],\n",
    "     zero_start=[\"cpd00029\"],\n",
    "       graphs = update_graphs(\"G3\"), \n",
    "     # export_zip_name='for_michaelis_menten.zip', \n",
    "     # data_timesteps = {\"A3\":list(range(10))},\n",
    "    msdb_path='../../../ModelSEED/ModelSEEDDatabase',\n",
    "    publishing=True)"
   ]
  },
  {
   "cell_type": "markdown",
   "id": "69e666dd-aa9a-492e-a173-4ec1cf5ec972",
   "metadata": {
    "tags": []
   },
   "source": [
    "### G6, with 1:1 Ecoli:PF"
   ]
  },
  {
   "cell_type": "code",
   "execution_count": null,
   "id": "b460e173-7076-4e2c-97b5-734b3b7ebb07",
   "metadata": {
    "tags": []
   },
   "outputs": [],
   "source": [
    "%run ./data/standardized_data/datastandardization.py\n",
    "growth_data_path=\"data/Jeffs_data/PF-EC 4-29-22 ratios and 4HB changes.xlsx\"\n",
    "experimental_metadata, growth_df, fluxes_df, standardized_carbon_conc, signal_species, trial_name_conversion, species_phenos_df, data_timestep_hr, simulation_timestep, media_conc = GrowthData.process(\n",
    "    base_media=kbase_api.get_from_ws(\"93465/19/1\"),\n",
    "    community_members = {\n",
    "        kbase_api.get_from_ws(\"iML1515\",76994): {\n",
    "            'name': 'ecoli', \n",
    "            'phenotypes': {'acetate': {\"cpd00029\":[-1,-1]}, #kbase_api.get_from_ws('93465/13/1'), \n",
    "                        'malt': {\"cpd00179\":[-1,-1]} #kbase_api.get_from_ws(\"93465/23/1\")} #'93465/9/1')}   # !!! The phenotype name must align with the experimental IDs for the graphs to find the appropriate data\n",
    "            }\n",
    "        },\n",
    "        kbase_api.get_from_ws(\"iSB1139.kb.gf\",30650): {\n",
    "            'name': 'pf',\n",
    "            'phenotypes': {'acetate': {\"cpd00029\":[-1,-1]}, # kbase_api.get_from_ws(\"93465/25/1\"), #'93465/11/1'), \n",
    "                        '4HB': {\"cpd00136\":[-1,-1]} # kbase_api.get_from_ws('\t93465/27/1')} #93465/15/1')}\n",
    "            }\n",
    "        }\n",
    "    },\n",
    "    data_paths = {'path':growth_data_path, 'Raw OD(590)':'OD', 'mNeonGreen':'pf', 'mRuby':'ecoli'},\n",
    "    species_abundances = {\n",
    "        1:{\"ecoli\":0, \"pf\":1},\n",
    "        2:{\"ecoli\":1, \"pf\":50},\n",
    "        3:{\"ecoli\":1, \"pf\":20},\n",
    "        4:{\"ecoli\":1, \"pf\":10},\n",
    "        5:{\"ecoli\":1, \"pf\":3},\n",
    "        6:{\"ecoli\":1, \"pf\":1},\n",
    "        7:{\"ecoli\":3, \"pf\":1},\n",
    "        8:{\"ecoli\":10, \"pf\":1},\n",
    "        9:{\"ecoli\":20, \"pf\":1},\n",
    "        10:{\"ecoli\":1, \"pf\":0},\n",
    "        11:{\"ecoli\":0, \"pf\":0}\n",
    "      },\n",
    "    carbon_conc_series = {'rows': {\n",
    "        'cpd00136': {'B':0, 'C': 0, 'D': 1, 'E': 1, 'F': 4, 'G': 4},\n",
    "        'cpd00179': {'B':5, 'C': 5, 'D':5, 'E': 5, 'F': 5, 'G': 5},\n",
    "    }},\n",
    "    ignore_trials = {'rows': ['C', 'D', 'E', 'F', 'G'], 'columns': [1,2,3,4,5,6,8,9,10,11,12]},\n",
    "    # ignore_timesteps=\"10:\",  # The \n",
    "    species_identities_rows = {\n",
    "        1:{\"ecoli\":\"mRuby\"},\n",
    "        2:{\"ecoli\":\"ACS\"},\n",
    "        3:{\"ecoli\":\"mRuby\"},\n",
    "        4:{\"ecoli\":\"ACS\"},\n",
    "        5:{\"ecoli\":\"mRuby\"},\n",
    "        6:{\"ecoli\":\"ACS\"}\n",
    "    }\n",
    ")"
   ]
  },
  {
   "cell_type": "code",
   "execution_count": null,
   "id": "359750dd-2021-4de2-b2a8-97b2d01a97b5",
   "metadata": {
    "tags": []
   },
   "outputs": [],
   "source": [
    "%run mscommfitting.py\n",
    "\n",
    "commfit = MSCommFitting(fluxes_df, standardized_carbon_conc, media_conc, signal_species, species_phenos_df, growth_df, experimental_metadata)\n",
    "commfit.fit(\n",
    "    parameters={\n",
    "        'v':.3,\n",
    "        'cvmin': 100,\n",
    "        'bcv': 100,\n",
    "        'diffpos': 100,\n",
    "        'diffneg': 100\n",
    "        }, \n",
    "     final_rel_c12_conc = 0.1,\n",
    "     mets_to_track = [\"cpd00179\",\"cpd00029\"],\n",
    "     zero_start=[\"cpd00029\"],\n",
    "       graphs = [\n",
    "            {\n",
    "                'trial':'G6',\n",
    "                \"phenotype\": '*',\n",
    "                'content': 'biomass',\n",
    "                'experimental_data': False\n",
    "            },\n",
    "            {\n",
    "                'trial':'G6',\n",
    "                'content': \"conc\",\n",
    "            },\n",
    "            {\n",
    "                'trial':'G6',\n",
    "                \"phenotype\": '*',\n",
    "                \"species\":[\"ecoli\"],\n",
    "                'content': 'biomass'\n",
    "            }\n",
    "        ], \n",
    "     # export_zip_name='for_michaelis_menten.zip', \n",
    "     # data_timesteps = {\"A3\":list(range(10))},\n",
    "    msdb_path='../../../ModelSEED/ModelSEEDDatabase',\n",
    "    publishing=True)"
   ]
  },
  {
   "cell_type": "markdown",
   "id": "c327138a-6129-4a8a-8564-321033fc1dd8",
   "metadata": {},
   "source": [
    "### G2, 1:50 Ecoli:PF"
   ]
  },
  {
   "cell_type": "code",
   "execution_count": null,
   "id": "cb0b97d4-887c-42b0-be77-84ac549932ad",
   "metadata": {
    "tags": []
   },
   "outputs": [],
   "source": [
    "%run ./data/standardized_data/datastandardization.py\n",
    "growth_data_path=\"data/Jeffs_data/PF-EC 4-29-22 ratios and 4HB changes.xlsx\"\n",
    "experimental_metadata, growth_df, fluxes_df, standardized_carbon_conc, signal_species, trial_name_conversion, species_phenos_df, data_timestep_hr, simulation_timestep, media_conc = GrowthData.process(\n",
    "    base_media=kbase_api.get_from_ws(\"93465/19/1\"),\n",
    "    community_members = {\n",
    "        kbase_api.get_from_ws(\"iML1515\",76994): {\n",
    "            'name': 'ecoli', \n",
    "            'phenotypes': {'acetate': {\"cpd00029\":[-1,-1]}, #kbase_api.get_from_ws('93465/13/1'), \n",
    "                        'malt': {\"cpd00179\":[-1,-1]} #kbase_api.get_from_ws(\"93465/23/1\")} #'93465/9/1')}   # !!! The phenotype name must align with the experimental IDs for the graphs to find the appropriate data\n",
    "            }\n",
    "        },\n",
    "        kbase_api.get_from_ws(\"iSB1139.kb.gf\",30650): {\n",
    "            'name': 'pf',\n",
    "            'phenotypes': {'acetate': {\"cpd00029\":[-1,-1]}, # kbase_api.get_from_ws(\"93465/25/1\"), #'93465/11/1'), \n",
    "                        '4HB': {\"cpd00136\":[-1,-1]} # kbase_api.get_from_ws('\t93465/27/1')} #93465/15/1')}\n",
    "            }\n",
    "        }\n",
    "    },\n",
    "    data_paths = {'path':growth_data_path, 'Raw OD(590)':'OD', 'mNeonGreen':'pf', 'mRuby':'ecoli'},\n",
    "    species_abundances = {\n",
    "        1:{\"ecoli\":0, \"pf\":1},\n",
    "        2:{\"ecoli\":1, \"pf\":50},\n",
    "        3:{\"ecoli\":1, \"pf\":20},\n",
    "        4:{\"ecoli\":1, \"pf\":10},\n",
    "        5:{\"ecoli\":1, \"pf\":3},\n",
    "        6:{\"ecoli\":1, \"pf\":1},\n",
    "        7:{\"ecoli\":3, \"pf\":1},\n",
    "        8:{\"ecoli\":10, \"pf\":1},\n",
    "        9:{\"ecoli\":20, \"pf\":1},\n",
    "        10:{\"ecoli\":1, \"pf\":0},\n",
    "        11:{\"ecoli\":0, \"pf\":0}\n",
    "      },\n",
    "    carbon_conc_series = {'rows': {\n",
    "        'cpd00136': {'B':0, 'C': 0, 'D': 1, 'E': 1, 'F': 4, 'G': 4},\n",
    "        'cpd00179': {'B':5, 'C': 5, 'D':5, 'E': 5, 'F': 5, 'G': 5},\n",
    "    }},\n",
    "    ignore_trials = {'rows': ['C', 'D', 'E', 'F', 'G'], 'columns': [1,2,4,5,6,7,8,9,10,11,12]},\n",
    "    # ignore_timesteps=\"10:\",  # The \n",
    "    species_identities_rows = {\n",
    "        1:{\"ecoli\":\"mRuby\"},\n",
    "        2:{\"ecoli\":\"ACS\"},\n",
    "        3:{\"ecoli\":\"mRuby\"},\n",
    "        4:{\"ecoli\":\"ACS\"},\n",
    "        5:{\"ecoli\":\"mRuby\"},\n",
    "        6:{\"ecoli\":\"ACS\"}\n",
    "    }\n",
    ")"
   ]
  },
  {
   "cell_type": "markdown",
   "id": "f5856aaa-8861-4cfd-bdc2-9539d1342350",
   "metadata": {},
   "source": [
    "### G4, 1:10 Ecoli:PF"
   ]
  },
  {
   "cell_type": "code",
   "execution_count": null,
   "id": "bb16afa5-8f32-4da4-b12b-1c844d74999e",
   "metadata": {
    "tags": []
   },
   "outputs": [],
   "source": [
    "%run ./data/standardized_data/datastandardization.py\n",
    "growth_data_path=\"data/Jeffs_data/PF-EC 4-29-22 ratios and 4HB changes.xlsx\"\n",
    "experimental_metadata, growth_df, fluxes_df, standardized_carbon_conc, signal_species, trial_name_conversion, species_phenos_df, data_timestep_hr, simulation_timestep, media_conc = GrowthData.process(\n",
    "    base_media=kbase_api.get_from_ws(\"93465/19/1\"),\n",
    "    community_members = {\n",
    "        kbase_api.get_from_ws(\"iML1515\",76994): {\n",
    "            'name': 'ecoli', \n",
    "            'phenotypes': {'acetate': {\"cpd00029\":[-1,-1]}, #kbase_api.get_from_ws('93465/13/1'), \n",
    "                        'malt': {\"cpd00179\":[-1,-1]} #kbase_api.get_from_ws(\"93465/23/1\")} #'93465/9/1')}   # !!! The phenotype name must align with the experimental IDs for the graphs to find the appropriate data\n",
    "            }\n",
    "        },\n",
    "        kbase_api.get_from_ws(\"iSB1139.kb.gf\",30650): {\n",
    "            'name': 'pf',\n",
    "            'phenotypes': {'acetate': {\"cpd00029\":[-1,-1]}, # kbase_api.get_from_ws(\"93465/25/1\"), #'93465/11/1'), \n",
    "                        '4HB': {\"cpd00136\":[-1,-1]} # kbase_api.get_from_ws('\t93465/27/1')} #93465/15/1')}\n",
    "            }\n",
    "        }\n",
    "    },\n",
    "    data_paths = {'path':growth_data_path, 'Raw OD(590)':'OD', 'mNeonGreen':'pf', 'mRuby':'ecoli'},\n",
    "    species_abundances = {\n",
    "        1:{\"ecoli\":0, \"pf\":1},\n",
    "        2:{\"ecoli\":1, \"pf\":50},\n",
    "        3:{\"ecoli\":1, \"pf\":20},\n",
    "        4:{\"ecoli\":1, \"pf\":10},\n",
    "        5:{\"ecoli\":1, \"pf\":3},\n",
    "        6:{\"ecoli\":1, \"pf\":1},\n",
    "        7:{\"ecoli\":3, \"pf\":1},\n",
    "        8:{\"ecoli\":10, \"pf\":1},\n",
    "        9:{\"ecoli\":20, \"pf\":1},\n",
    "        10:{\"ecoli\":1, \"pf\":0},\n",
    "        11:{\"ecoli\":0, \"pf\":0}\n",
    "      },\n",
    "    carbon_conc_series = {'rows': {\n",
    "        'cpd00136': {'B':0, 'C': 0, 'D': 1, 'E': 1, 'F': 4, 'G': 4},\n",
    "        'cpd00179': {'B':5, 'C': 5, 'D':5, 'E': 5, 'F': 5, 'G': 5},\n",
    "    }},\n",
    "    ignore_trials = {'rows': ['C', 'D', 'E', 'F', 'G'], 'columns': [1,2,3,4,6,7,8,9,10,11,12]},\n",
    "    # ignore_timesteps=\"10:\",  # The \n",
    "    species_identities_rows = {\n",
    "        1:{\"ecoli\":\"mRuby\"},\n",
    "        2:{\"ecoli\":\"ACS\"},\n",
    "        3:{\"ecoli\":\"mRuby\"},\n",
    "        4:{\"ecoli\":\"ACS\"},\n",
    "        5:{\"ecoli\":\"mRuby\"},\n",
    "        6:{\"ecoli\":\"ACS\"}\n",
    "    }\n",
    ")"
   ]
  },
  {
   "cell_type": "markdown",
   "id": "fd87e4d3-8649-461d-80a7-622e557cb87e",
   "metadata": {},
   "source": [
    "### forced consumption of Acetate"
   ]
  },
  {
   "cell_type": "code",
   "execution_count": null,
   "id": "b3369c7a-af81-43ef-a68a-0f8339d0fc0c",
   "metadata": {},
   "outputs": [],
   "source": [
    "%run mscommfitting.py\n",
    "\n",
    "commfit = MSCommFitting(fluxes_df, standardized_carbon_conc, media_conc, signal_species, species_phenos_df, growth_df, experimental_metadata)\n",
    "commfit.fit(\n",
    "    parameters={\n",
    "        'v':.3,\n",
    "        'cvmin': 100,\n",
    "        'bcv': 100,\n",
    "        'diffpos': 100,\n",
    "        'diffneg': 100\n",
    "        }, \n",
    "     mets_to_track = [\"cpd00179\",\"cpd00029\"],\n",
    "     rel_final_conc = {\"cpd00179\":0.2},\n",
    "     zero_start=[\"cpd00029\"],\n",
    "    abs_final_conc={\"cpd00029\":0.5}, # metabolomics data\n",
    "       graphs = update_graphs(\"G4\", None), \n",
    "     # export_zip_name='for_michaelis_menten.zip', \n",
    "     # data_timesteps = {\"A3\":list(range(10))},\n",
    "    msdb_path='../../../ModelSEED/ModelSEEDDatabase',\n",
    "    publishing=True)"
   ]
  },
  {
   "cell_type": "code",
   "execution_count": null,
   "id": "606fd321-674a-47fb-b9bc-1e40321b16fc",
   "metadata": {
    "tags": []
   },
   "outputs": [],
   "source": [
    "%run mscommfitting.py\n",
    "\n",
    "commfit = MSCommFitting(fluxes_df, standardized_carbon_conc, media_conc, signal_species, species_phenos_df, growth_df, experimental_metadata)\n",
    "commfit.fit(\n",
    "    parameters={\n",
    "        'v':.3,\n",
    "        'cvmin': 100,\n",
    "        'bcv': 100,\n",
    "        'diffpos': 100,\n",
    "        'diffneg': 100\n",
    "        }, \n",
    "     mets_to_track = [\"cpd00179\",\"cpd00029\"],\n",
    "     carbon_sources = {\"cpd00179\":0.2},\n",
    "     zero_start=[\"cpd00029\"],\n",
    "       graphs = update_graphs(\"G4\"), \n",
    "     # export_zip_name='for_michaelis_menten.zip', \n",
    "     # data_timesteps = {\"A3\":list(range(10))},\n",
    "    msdb_path='../../../ModelSEED/ModelSEEDDatabase',\n",
    "    publishing=True)"
   ]
  },
  {
   "cell_type": "markdown",
   "id": "addbaa6f-466f-486b-a94a-8e9e6119433d",
   "metadata": {
    "tags": []
   },
   "source": [
    "# Maltose+4HB"
   ]
  },
  {
   "cell_type": "code",
   "execution_count": null,
   "id": "8beb4e11-49a1-4f65-a0f0-aab168badb69",
   "metadata": {
    "tags": []
   },
   "outputs": [],
   "source": [
    "%run ./data/standardized_data/datastandardization.py\n",
    "growth_data_path=\"data/Jeffs_data/PF-EC 4-29-22 ratios and 4HB changes.xlsx\"\n",
    "experimental_metadata, growth_df, fluxes_df, standardized_carbon_conc, signal_species, trial_name_conversion, species_phenos_df, data_timestep_hr, simulation_timestep, media_conc = GrowthData.process(\n",
    "    base_media=kbase_api.get_from_ws(\"93465/19/1\"),\n",
    "    community_members = {\n",
    "        kbase_api.get_from_ws(\"iML1515\",76994): {\n",
    "            'name': 'ecoli', \n",
    "            'phenotypes': {'acetate': {\"cpd00029\":[-1,-1]}, #kbase_api.get_from_ws('93465/13/1'), \n",
    "                        'malt': {\"cpd00179\":[-1,-1]} #kbase_api.get_from_ws(\"93465/23/1\")} #'93465/9/1')}   # !!! The phenotype name must align with the experimental IDs for the graphs to find the appropriate data\n",
    "            }\n",
    "        },\n",
    "        kbase_api.get_from_ws(\"iSB1139.kb.gf\",30650): {\n",
    "            'name': 'pf',\n",
    "            'phenotypes': {'acetate': {\"cpd00029\":[-1,-1]}, # kbase_api.get_from_ws(\"93465/25/1\"), #'93465/11/1'), \n",
    "                        '4HB': {\"cpd00136\":[-1,-1]} # kbase_api.get_from_ws('\t93465/27/1')} #93465/15/1')}\n",
    "            }\n",
    "        }\n",
    "    },\n",
    "    data_paths = {'path':growth_data_path, 'Raw OD(590)':'OD', 'mNeonGreen':'pf', 'mRuby':'ecoli'},\n",
    "    species_abundances = {\n",
    "        1:{\"ecoli\":0, \"pf\":1},\n",
    "        2:{\"ecoli\":1, \"pf\":50},\n",
    "        3:{\"ecoli\":1, \"pf\":20},\n",
    "        4:{\"ecoli\":1, \"pf\":10},\n",
    "        5:{\"ecoli\":1, \"pf\":3},\n",
    "        6:{\"ecoli\":1, \"pf\":1},\n",
    "        7:{\"ecoli\":3, \"pf\":1},\n",
    "        8:{\"ecoli\":10, \"pf\":1},\n",
    "        9:{\"ecoli\":20, \"pf\":1},\n",
    "        10:{\"ecoli\":1, \"pf\":0},\n",
    "        11:{\"ecoli\":0, \"pf\":0}\n",
    "      },\n",
    "    carbon_conc_series = {'rows': {\n",
    "        'cpd00136': {'B':0, 'C': 0, 'D': 1, 'E': 1, 'F': 4, 'G': 4},\n",
    "        'cpd00179': {'B':5, 'C': 5, 'D':5, 'E': 5, 'F': 5, 'G': 5},\n",
    "    }},\n",
    "    ignore_trials = {'rows': ['C', 'D', 'E', 'B', 'G'], 'columns': [1,2,3,4,6,7,8,9,10,11,12]},\n",
    "    # ignore_timesteps=\"10:\",  # The \n",
    "    species_identities_rows = {\n",
    "        1:{\"ecoli\":\"mRuby\"},\n",
    "        2:{\"ecoli\":\"ACS\"},\n",
    "        3:{\"ecoli\":\"mRuby\"},\n",
    "        4:{\"ecoli\":\"ACS\"},\n",
    "        5:{\"ecoli\":\"mRuby\"},\n",
    "        6:{\"ecoli\":\"ACS\"}\n",
    "    }\n",
    ")"
   ]
  },
  {
   "cell_type": "markdown",
   "id": "bb56c0b0-b99a-4acb-afb7-44bc318fa1b7",
   "metadata": {},
   "source": [
    "#### Probing the feasibility limit of [Acetate]"
   ]
  },
  {
   "cell_type": "code",
   "execution_count": null,
   "id": "61babfee-2e7f-42eb-9eff-8286a9a01bd8",
   "metadata": {},
   "outputs": [],
   "source": [
    "# identify a final Acetate concentration that is feasible\n",
    "from numpy import logspace, linspace\n",
    "# problems = {}\n",
    "# for conc in linspace(.09, .1, 10):\n",
    "#     %run mscommfitting.py\n",
    "#     problems[conc] = MSCommFitting(fluxes_df, standardized_carbon_conc, media_conc, signal_species, species_phenos_df, growth_df, experimental_metadata)\n",
    "#     try:\n",
    "#         problems[conc].fit(\n",
    "#             parameters={\n",
    "#                 'v':.4,\n",
    "#                 'cvmin': 100,\n",
    "#                 'bcv': 100,\n",
    "#                 'diffpos': 100,\n",
    "#                 'diffneg': 100\n",
    "#                 }, \n",
    "#              mets_to_track = [\"cpd00179\",\"cpd00029\",\"cpd00136\"],\n",
    "#                graphs = update_graphs(\"G48\", None), \n",
    "#              rel_final_conc = {\"cpd00179\":.8, \"cpd00136\":0.2},\n",
    "#              zero_start=[\"cpd00029\"],\n",
    "#             abs_final_conc={\"cpd00029\":conc}, # metabolomics data\n",
    "#              # export_zip_name='for_michaelis_menten.zip', \n",
    "#              # data_timesteps = {\"A3\":list(range(10))},\n",
    "#             # msdb_path='../../../ModelSEEDDatabase',\n",
    "#             msdb_path='../../../ModelSEED/ModelSEEDDatabase',\n",
    "#             publishing=True)\n",
    "#         print(conc, \"\\t\\tSuccess\", \"\\n\\n\")\n",
    "#     except Exception as e:\n",
    "#         print(conc, \"\\t\\t\", e, \"\\n\\n\")\n",
    "\n",
    "problems = {}\n",
    "for conc in [0.09, 0.099]:\n",
    "    %run mscommfitting.py\n",
    "    problems[conc] = MSCommFitting(fluxes_df, standardized_carbon_conc, media_conc, signal_species, species_phenos_df, growth_df, experimental_metadata)\n",
    "    try:\n",
    "        problems[conc].fit(\n",
    "            parameters={\n",
    "                'v':.4,\n",
    "                'cvmin': 100,\n",
    "                'bcv': 100,\n",
    "                'diffpos': 100,\n",
    "                'diffneg': 100\n",
    "                }, \n",
    "             mets_to_track = [\"cpd00179\",\"cpd00029\",\"cpd00136\"],\n",
    "               graphs = update_graphs(\"G48\", None), \n",
    "             rel_final_conc = {\"cpd00179\":.8, \"cpd00136\":0.2},\n",
    "             zero_start=[\"cpd00029\"],\n",
    "            abs_final_conc={\"cpd00029\":conc}, # metabolomics data\n",
    "             # export_zip_name='for_michaelis_menten.zip', \n",
    "             # data_timesteps = {\"A3\":list(range(10))},\n",
    "            # msdb_path='../../../ModelSEEDDatabase',\n",
    "            msdb_path='../../../ModelSEED/ModelSEEDDatabase',\n",
    "            publishing=True)\n",
    "        print(conc, \"\\t\\tSuccess\", \"\\n\\n\")\n",
    "    except Exception as e:\n",
    "        print(conc, \"\\t\\t\", e, \"\\n\\n\")"
   ]
  },
  {
   "cell_type": "markdown",
   "id": "0c9a520d-f484-44aa-b1df-71f0ea7684c5",
   "metadata": {},
   "source": [
    "#### Confirming that perturbing the carbon source consumption is ineffectual for the feasibility limit of the final [Aceate]"
   ]
  },
  {
   "cell_type": "code",
   "execution_count": null,
   "id": "2d9d5533-9b54-4175-a9fb-d939c509568a",
   "metadata": {
    "tags": []
   },
   "outputs": [],
   "source": [
    "# identify a final Acetate concentration that is feasible\n",
    "from numpy import logspace\n",
    "problems = {}\n",
    "for conc in logspace(-.5, -3, 10):\n",
    "    %run mscommfitting.py\n",
    "    problems[conc] = MSCommFitting(fluxes_df, standardized_carbon_conc, media_conc, signal_species, species_phenos_df, growth_df, experimental_metadata)\n",
    "    try:\n",
    "        problems[conc].fit(\n",
    "            parameters={\n",
    "                'v':.4,\n",
    "                'cvmin': 100,\n",
    "                'bcv': 100,\n",
    "                'diffpos': 100,\n",
    "                'diffneg': 100\n",
    "                }, \n",
    "             mets_to_track = [\"cpd00179\",\"cpd00029\",\"cpd00136\"],\n",
    "               graphs = update_graphs(\"G48\", None), \n",
    "             rel_final_conc = {\"cpd00179\":.01, \"cpd00136\":0.01},\n",
    "             zero_start=[\"cpd00029\"],\n",
    "            abs_final_conc={\"cpd00029\":conc}, # metabolomics data\n",
    "             # export_zip_name='for_michaelis_menten.zip', \n",
    "             # data_timesteps = {\"A3\":list(range(10))},\n",
    "            # msdb_path='../../../ModelSEEDDatabase',\n",
    "            msdb_path='../../../ModelSEED/ModelSEEDDatabase',\n",
    "            publishing=True)\n",
    "        print(conc, \"\\t\\tSuccess\", \"\\n\\n\")\n",
    "    except Exception as e:\n",
    "        print(conc, \"\\t\\t\", e, \"\\n\\n\")"
   ]
  },
  {
   "cell_type": "markdown",
   "id": "0287e1e4-7ab8-42a3-a499-8c43a89b721d",
   "metadata": {},
   "source": [
    "# Acetate"
   ]
  },
  {
   "cell_type": "code",
   "execution_count": null,
   "id": "b8970f50-5b89-4f73-a22e-1c6e9a113ee4",
   "metadata": {},
   "outputs": [],
   "source": [
    "%run ./data/standardized_data/datastandardization.py\n",
    "growth_data_path=\"data/Jeffs_data/PF-EC-PFEC on Acetate 6-17-22.xlsx\"\n",
    "experimental_metadata, growth_df, fluxes_df, standardized_carbon_conc, signal_species, trial_name_conversion, species_phenos_df, data_timestep_hr, simulation_timestep, media_conc = GrowthData.process(\n",
    "    base_media=kbase_api.get_from_ws(\"93465/19/1\"),\n",
    "    community_members = {\n",
    "        kbase_api.get_from_ws(\"iML1515\",76994): {\n",
    "            'name': 'ecoli', \n",
    "            'phenotypes': {'acetate': {\"cpd00029\":[-1,-1]}, #kbase_api.get_from_ws('93465/13/1'), \n",
    "                        'malt': {\"cpd00179\":[-1,-1]} #kbase_api.get_from_ws(\"93465/23/1\")} #'93465/9/1')}   # !!! The phenotype name must align with the experimental IDs for the graphs to find the appropriate data\n",
    "            }\n",
    "        },\n",
    "        kbase_api.get_from_ws(\"iSB1139.kb.gf\",30650): {\n",
    "            'name': 'pf',\n",
    "            'phenotypes': {'acetate': {\"cpd00029\":[-1,-1]}, # kbase_api.get_from_ws(\"93465/25/1\"), #'93465/11/1'), \n",
    "                        '4HB': {\"cpd00136\":[-1,-1]} # kbase_api.get_from_ws('\t93465/27/1')} #93465/15/1')}\n",
    "            }\n",
    "        }\n",
    "    },\n",
    "    data_paths = {'path':growth_data_path, 'Raw OD(590)':'OD', 'Fluorescence':'pf', 'Fluorescence 1':'ecoli'},\n",
    "    species_abundances = {num:{\"ecoli\":1, \"pf\":1} for num in range(1,13)},\n",
    "    carbon_conc_series = {'columns': {\n",
    "        'cpd00029': {2:100, 3: 50, 4: 25, 5: 12.5, 6: 6.25, 7: 3},\n",
    "    }},\n",
    "    ignore_trials = {'rows': ['C', 'D', 'B', 'F'], 'columns': [1,2,4,5,6,7,8,9,10,11,12]},\n",
    "    # ignore_timesteps=\"10:\",  # The \n",
    "    species_identities_rows = {\n",
    "        1:{\"ecoli\":\"mRuby\"},\n",
    "        2:{\"ecoli\":\"ACS\"},\n",
    "        3:{\"pf\":\"\"},\n",
    "        4:{\"ecoli\":\"mRuby\"},\n",
    "        5:{\"ecoli\":\"ACS\"},\n",
    "    },\n",
    "    significant_deviation=None\n",
    ")"
   ]
  },
  {
   "cell_type": "markdown",
   "id": "486be992-3293-49d0-9d2c-8bf451cb59ae",
   "metadata": {
    "tags": []
   },
   "source": [
    "#### Find the trial instances that contain the coculture \"E\" trials"
   ]
  },
  {
   "cell_type": "code",
   "execution_count": null,
   "id": "0879048e-a515-4aa2-83cb-2a0c3de6bee8",
   "metadata": {
    "tags": []
   },
   "outputs": [],
   "source": [
    "# from pandas import ExcelFile\n",
    "# acetate_experiment = ExcelFile(\"data/Jeffs_data/PF-EC-PFEC on Acetate 6-17-22.xlsx\").parse(\"Fluorescence 1\")\n",
    "# acetate_experiment.columns = acetate_experiment.iloc[6]\n",
    "# acetate_experiment.drop(acetate_experiment.index[:7], inplace=True)\n",
    "# acetate_experiment.index = acetate_experiment['Well']\n",
    "# acetate_experiment.drop('Well', axis=1, inplace=True)\n",
    "# coculture_trials = acetate_experiment[acetate_experiment.index.str.contains(\"E\")]\n",
    "# coculture_trials = coculture_trials[coculture_trials[\"Cycle #\"] == \"Result\"]\n",
    "# display(coculture_trials.iloc[0::1])"
   ]
  },
  {
   "cell_type": "code",
   "execution_count": null,
   "id": "0b11b512-ab5e-4d2f-b5ee-07b9a273cb9f",
   "metadata": {
    "tags": []
   },
   "outputs": [],
   "source": [
    "display(trial_name_conversion)\n",
    "display(experimental_metadata)"
   ]
  },
  {
   "cell_type": "code",
   "execution_count": null,
   "id": "007bbbf7-e86e-46b0-b72e-3082f1b6e0b1",
   "metadata": {
    "tags": []
   },
   "outputs": [],
   "source": [
    "# display(experimental_metadata)\n",
    "display(growth_df)\n",
    "# display(fluxes_df)"
   ]
  },
  {
   "cell_type": "code",
   "execution_count": null,
   "id": "157dcdf5-4126-4ab0-8834-d0f440f076ef",
   "metadata": {},
   "outputs": [],
   "source": [
    "%run mscommfitting.py\n",
    "\n",
    "commfit = MSCommFitting(fluxes_df, standardized_carbon_conc, media_conc, signal_species, species_phenos_df, growth_df, experimental_metadata)\n",
    "commfit.fit(\n",
    "    parameters={\n",
    "        'v':.3,\n",
    "        'cvmin': 100,\n",
    "        'bcv': 100,\n",
    "        'diffpos': 100,\n",
    "        'diffneg': 100\n",
    "        }, \n",
    "     mets_to_track = [\"cpd00029\"],\n",
    "       graphs = update_graphs(\"G38\", None), \n",
    "     rel_final_conc = {\"cpd00029\":0.2},\n",
    "     # export_zip_name='for_michaelis_menten.zip', \n",
    "     # data_timesteps = {\"A3\":list(range(10))},\n",
    "    msdb_path='../../../ModelSEED/ModelSEEDDatabase',\n",
    "    publishing=True)"
   ]
  },
  {
   "cell_type": "code",
   "execution_count": null,
   "id": "2dcbc6fe-9ef3-4887-ac7d-4ac88e02e49c",
   "metadata": {},
   "outputs": [],
   "source": []
  }
 ],
 "metadata": {
  "kernelspec": {
   "display_name": "Python 3 (ipykernel)",
   "language": "python",
   "name": "python3"
  },
  "language_info": {
   "codemirror_mode": {
    "name": "ipython",
    "version": 3
   },
   "file_extension": ".py",
   "mimetype": "text/x-python",
   "name": "python",
   "nbconvert_exporter": "python",
   "pygments_lexer": "ipython3",
   "version": "3.9.12"
  }
 },
 "nbformat": 4,
 "nbformat_minor": 5
}
