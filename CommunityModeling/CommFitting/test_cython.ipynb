{
 "cells": [
  {
   "cell_type": "code",
   "execution_count": 7,
   "id": "18d4c890-510e-4ef3-9637-434f54d8b0f9",
   "metadata": {
    "collapsed": true,
    "jupyter": {
     "outputs_hidden": true
    },
    "tags": []
   },
   "outputs": [
    {
     "name": "stdout",
     "output_type": "stream",
     "text": [
      "The ['rxn name', 'rxn'] columns were dropped from the phenotypes CSV.\n",
      "GFP {'GFP': 'ecoli', 'RFP': 'pf', 'OD': 'OD'}\n",
      "RFP {'GFP': 'ecoli', 'RFP': 'pf', 'OD': 'OD'}\n",
      "OD {'GFP': 'ecoli', 'RFP': 'pf', 'OD': 'OD'}\n",
      "GFP {'GFP': 'ecoli', 'RFP': 'pf', 'OD': 'OD'}\n",
      "RFP {'GFP': 'ecoli', 'RFP': 'pf', 'OD': 'OD'}\n",
      "OD {'GFP': 'ecoli', 'RFP': 'pf', 'OD': 'OD'}\n",
      "GFP {'GFP': 'ecoli', 'RFP': 'pf', 'OD': 'OD'}\n",
      "RFP {'GFP': 'ecoli', 'RFP': 'pf', 'OD': 'OD'}\n",
      "OD {'GFP': 'ecoli', 'RFP': 'pf', 'OD': 'OD'}\n",
      "GFP {'GFP': 'ecoli', 'RFP': 'pf', 'OD': 'OD'}\n",
      "RFP {'GFP': 'ecoli', 'RFP': 'pf', 'OD': 'OD'}\n"
     ]
    },
    {
     "ename": "KeyboardInterrupt",
     "evalue": "",
     "output_type": "error",
     "traceback": [
      "\u001b[1;31m---------------------------------------------------------------------------\u001b[0m",
      "\u001b[1;31mKeyboardInterrupt\u001b[0m                         Traceback (most recent call last)",
      "Input \u001b[1;32mIn [7]\u001b[0m, in \u001b[0;36m<cell line: 11>\u001b[1;34m()\u001b[0m\n\u001b[0;32m      1\u001b[0m \u001b[38;5;66;03m# from modelseedpy import MSCommFitting\u001b[39;00m\n\u001b[0;32m      2\u001b[0m \u001b[38;5;66;03m# from mscommfitting import MSCommFitting\u001b[39;00m\n\u001b[0;32m      3\u001b[0m mscommfit \u001b[38;5;241m=\u001b[39m MSCommFitting(\n\u001b[0;32m      4\u001b[0m     phenotypes_csv_path \u001b[38;5;241m=\u001b[39m \u001b[38;5;124m'\u001b[39m\u001b[38;5;124mPhenotypeStoichiometry.csv\u001b[39m\u001b[38;5;124m'\u001b[39m, \n\u001b[0;32m      5\u001b[0m     signal_tsv_paths \u001b[38;5;241m=\u001b[39m {\n\u001b[1;32m   (...)\u001b[0m\n\u001b[0;32m      9\u001b[0m     }\n\u001b[0;32m     10\u001b[0m )\n\u001b[1;32m---> 11\u001b[0m \u001b[43mmscommfit\u001b[49m\u001b[38;5;241;43m.\u001b[39;49m\u001b[43mdefine_problem\u001b[49m\u001b[43m(\u001b[49m\u001b[43m)\u001b[49m\n",
      "File \u001b[1;32m~\\Documents\\Argonne\\ProjectNotebooks\\CommunityModeling\\CommFitting\\mscommfitting.pyx:171\u001b[0m, in \u001b[0;36mMSCommFitting.define_problem\u001b[1;34m(self, conversion_rates, constraints)\u001b[0m\n\u001b[0;32m    167\u001b[0m \u001b[38;5;28mself\u001b[39m\u001b[38;5;241m.\u001b[39mvariables[\u001b[38;5;124m'\u001b[39m\u001b[38;5;124mg_\u001b[39m\u001b[38;5;124m'\u001b[39m\u001b[38;5;241m+\u001b[39mstrain][trial][time] \u001b[38;5;241m=\u001b[39m Variable(         \u001b[38;5;66;03m# biomass growth\u001b[39;00m\n\u001b[0;32m    168\u001b[0m     _variable_name(\u001b[38;5;124m\"\u001b[39m\u001b[38;5;124mg_\u001b[39m\u001b[38;5;124m\"\u001b[39m, strain, trial, time), lb\u001b[38;5;241m=\u001b[39m\u001b[38;5;241m0\u001b[39m, ub\u001b[38;5;241m=\u001b[39m\u001b[38;5;241m1000\u001b[39m)   \n\u001b[0;32m    169\u001b[0m \u001b[38;5;28mself\u001b[39m\u001b[38;5;241m.\u001b[39mvariables[\u001b[38;5;124m'\u001b[39m\u001b[38;5;124mcvt_\u001b[39m\u001b[38;5;124m'\u001b[39m\u001b[38;5;241m+\u001b[39mstrain][trial][time] \u001b[38;5;241m=\u001b[39m Variable(       \u001b[38;5;66;03m# conversion rate to the stationary phase\u001b[39;00m\n\u001b[0;32m    170\u001b[0m     _variable_name(\u001b[38;5;124m\"\u001b[39m\u001b[38;5;124mcvt_\u001b[39m\u001b[38;5;124m\"\u001b[39m, strain, trial, time), lb\u001b[38;5;241m=\u001b[39m\u001b[38;5;241m0\u001b[39m, ub\u001b[38;5;241m=\u001b[39m\u001b[38;5;241m100\u001b[39m)   \n\u001b[1;32m--> 171\u001b[0m \u001b[38;5;28mself\u001b[39m\u001b[38;5;241m.\u001b[39mvariables[\u001b[38;5;124m'\u001b[39m\u001b[38;5;124mcvf_\u001b[39m\u001b[38;5;124m'\u001b[39m\u001b[38;5;241m+\u001b[39mstrain][trial][time] \u001b[38;5;241m=\u001b[39m \u001b[43mVariable\u001b[49m\u001b[43m(\u001b[49m\u001b[43m       \u001b[49m\u001b[38;5;66;43;03m# conversion from to the stationary phase\u001b[39;49;00m\n\u001b[0;32m    172\u001b[0m \u001b[43m    \u001b[49m\u001b[43m_variable_name\u001b[49m\u001b[43m(\u001b[49m\u001b[38;5;124;43m\"\u001b[39;49m\u001b[38;5;124;43mcvf_\u001b[39;49m\u001b[38;5;124;43m\"\u001b[39;49m\u001b[43m,\u001b[49m\u001b[43m \u001b[49m\u001b[43mstrain\u001b[49m\u001b[43m,\u001b[49m\u001b[43m \u001b[49m\u001b[43mtrial\u001b[49m\u001b[43m,\u001b[49m\u001b[43m \u001b[49m\u001b[43mtime\u001b[49m\u001b[43m)\u001b[49m\u001b[43m,\u001b[49m\u001b[43m \u001b[49m\u001b[43mlb\u001b[49m\u001b[38;5;241;43m=\u001b[39;49m\u001b[38;5;241;43m0\u001b[39;49m\u001b[43m,\u001b[49m\u001b[43m \u001b[49m\u001b[43mub\u001b[49m\u001b[38;5;241;43m=\u001b[39;49m\u001b[38;5;241;43m100\u001b[39;49m\u001b[43m)\u001b[49m                   \n\u001b[0;32m    173\u001b[0m \u001b[38;5;28mself\u001b[39m\u001b[38;5;241m.\u001b[39mvariables[\u001b[38;5;124m'\u001b[39m\u001b[38;5;124mb+1_\u001b[39m\u001b[38;5;124m'\u001b[39m\u001b[38;5;241m+\u001b[39mstrain][trial][next_time] \u001b[38;5;241m=\u001b[39m Variable(  \u001b[38;5;66;03m# predicted biomass abundance\u001b[39;00m\n\u001b[0;32m    174\u001b[0m     _variable_name(\u001b[38;5;124m\"\u001b[39m\u001b[38;5;124mb+1_\u001b[39m\u001b[38;5;124m\"\u001b[39m, strain, trial, next_time), lb\u001b[38;5;241m=\u001b[39m\u001b[38;5;241m0\u001b[39m, ub\u001b[38;5;241m=\u001b[39m\u001b[38;5;241m1000\u001b[39m) \n\u001b[0;32m    176\u001b[0m \u001b[38;5;66;03m# g_{strain} - b_{strain}*v = 0\u001b[39;00m\n",
      "File \u001b[1;32m~\\AppData\\Local\\Programs\\Python\\Python39\\lib\\site-packages\\optlang\\symbolics.py:127\u001b[0m, in \u001b[0;36mSymbol.__new__\u001b[1;34m(cls, name, **kwargs)\u001b[0m\n\u001b[0;32m    124\u001b[0m \u001b[38;5;28;01mif\u001b[39;00m \u001b[38;5;129;01mnot\u001b[39;00m \u001b[38;5;28misinstance\u001b[39m(name, six\u001b[38;5;241m.\u001b[39mstring_types):\n\u001b[0;32m    125\u001b[0m     \u001b[38;5;28;01mraise\u001b[39;00m \u001b[38;5;167;01mTypeError\u001b[39;00m(\u001b[38;5;124m\"\u001b[39m\u001b[38;5;124mname should be a string, not \u001b[39m\u001b[38;5;132;01m%s\u001b[39;00m\u001b[38;5;124m\"\u001b[39m \u001b[38;5;241m%\u001b[39m \u001b[38;5;28mrepr\u001b[39m(\u001b[38;5;28mtype\u001b[39m(name)))\n\u001b[1;32m--> 127\u001b[0m obj \u001b[38;5;241m=\u001b[39m \u001b[43msympy\u001b[49m\u001b[38;5;241;43m.\u001b[39;49m\u001b[43mSymbol\u001b[49m\u001b[38;5;241;43m.\u001b[39;49m\u001b[38;5;21;43m__new__\u001b[39;49m\u001b[43m(\u001b[49m\u001b[38;5;28;43mcls\u001b[39;49m\u001b[43m,\u001b[49m\u001b[43m \u001b[49m\u001b[38;5;28;43mstr\u001b[39;49m\u001b[43m(\u001b[49m\u001b[43muuid\u001b[49m\u001b[38;5;241;43m.\u001b[39;49m\u001b[43muuid1\u001b[49m\u001b[43m(\u001b[49m\u001b[43m)\u001b[49m\u001b[43m)\u001b[49m\u001b[43m)\u001b[49m\n\u001b[0;32m    129\u001b[0m obj\u001b[38;5;241m.\u001b[39mname \u001b[38;5;241m=\u001b[39m name\n\u001b[0;32m    130\u001b[0m obj\u001b[38;5;241m.\u001b[39m_assumptions \u001b[38;5;241m=\u001b[39m FactKB(_assume_rules)\n",
      "File \u001b[1;32m~\\AppData\\Local\\Programs\\Python\\Python39\\lib\\site-packages\\sympy\\core\\symbol.py:292\u001b[0m, in \u001b[0;36mSymbol.__new__\u001b[1;34m(cls, name, **assumptions)\u001b[0m\n\u001b[0;32m    282\u001b[0m \u001b[38;5;124;03m\"\"\"Symbols are identified by name and assumptions::\u001b[39;00m\n\u001b[0;32m    283\u001b[0m \n\u001b[0;32m    284\u001b[0m \u001b[38;5;124;03m>>> from sympy import Symbol\u001b[39;00m\n\u001b[1;32m   (...)\u001b[0m\n\u001b[0;32m    289\u001b[0m \n\u001b[0;32m    290\u001b[0m \u001b[38;5;124;03m\"\"\"\u001b[39;00m\n\u001b[0;32m    291\u001b[0m \u001b[38;5;28mcls\u001b[39m\u001b[38;5;241m.\u001b[39m_sanitize(assumptions, \u001b[38;5;28mcls\u001b[39m)\n\u001b[1;32m--> 292\u001b[0m \u001b[38;5;28;01mreturn\u001b[39;00m Symbol\u001b[38;5;241m.\u001b[39m__xnew_cached_(\u001b[38;5;28mcls\u001b[39m, name, \u001b[38;5;241m*\u001b[39m\u001b[38;5;241m*\u001b[39massumptions)\n",
      "File \u001b[1;32m~\\AppData\\Local\\Programs\\Python\\Python39\\lib\\site-packages\\sympy\\core\\cache.py:70\u001b[0m, in \u001b[0;36m__cacheit.<locals>.func_wrapper.<locals>.wrapper\u001b[1;34m(*args, **kwargs)\u001b[0m\n\u001b[0;32m     67\u001b[0m \u001b[38;5;129m@wraps\u001b[39m(func)\n\u001b[0;32m     68\u001b[0m \u001b[38;5;28;01mdef\u001b[39;00m \u001b[38;5;21mwrapper\u001b[39m(\u001b[38;5;241m*\u001b[39margs, \u001b[38;5;241m*\u001b[39m\u001b[38;5;241m*\u001b[39mkwargs):\n\u001b[0;32m     69\u001b[0m     \u001b[38;5;28;01mtry\u001b[39;00m:\n\u001b[1;32m---> 70\u001b[0m         retval \u001b[38;5;241m=\u001b[39m cfunc(\u001b[38;5;241m*\u001b[39margs, \u001b[38;5;241m*\u001b[39m\u001b[38;5;241m*\u001b[39mkwargs)\n\u001b[0;32m     71\u001b[0m     \u001b[38;5;28;01mexcept\u001b[39;00m \u001b[38;5;167;01mTypeError\u001b[39;00m \u001b[38;5;28;01mas\u001b[39;00m e:\n\u001b[0;32m     72\u001b[0m         \u001b[38;5;28;01mif\u001b[39;00m \u001b[38;5;129;01mnot\u001b[39;00m e\u001b[38;5;241m.\u001b[39margs \u001b[38;5;129;01mor\u001b[39;00m \u001b[38;5;129;01mnot\u001b[39;00m e\u001b[38;5;241m.\u001b[39margs[\u001b[38;5;241m0\u001b[39m]\u001b[38;5;241m.\u001b[39mstartswith(\u001b[38;5;124m'\u001b[39m\u001b[38;5;124munhashable type:\u001b[39m\u001b[38;5;124m'\u001b[39m):\n",
      "File \u001b[1;32m~\\AppData\\Local\\Programs\\Python\\Python39\\lib\\site-packages\\sympy\\core\\symbol.py:314\u001b[0m, in \u001b[0;36mSymbol.__new_stage2__\u001b[1;34m(cls, name, **assumptions)\u001b[0m\n\u001b[0;32m    312\u001b[0m is_commutative \u001b[38;5;241m=\u001b[39m fuzzy_bool(assumptions\u001b[38;5;241m.\u001b[39mget(\u001b[38;5;124m'\u001b[39m\u001b[38;5;124mcommutative\u001b[39m\u001b[38;5;124m'\u001b[39m, \u001b[38;5;28;01mTrue\u001b[39;00m))\n\u001b[0;32m    313\u001b[0m assumptions[\u001b[38;5;124m'\u001b[39m\u001b[38;5;124mcommutative\u001b[39m\u001b[38;5;124m'\u001b[39m] \u001b[38;5;241m=\u001b[39m is_commutative\n\u001b[1;32m--> 314\u001b[0m obj\u001b[38;5;241m.\u001b[39m_assumptions \u001b[38;5;241m=\u001b[39m \u001b[43mStdFactKB\u001b[49m\u001b[43m(\u001b[49m\u001b[43massumptions\u001b[49m\u001b[43m)\u001b[49m\n\u001b[0;32m    315\u001b[0m obj\u001b[38;5;241m.\u001b[39m_assumptions\u001b[38;5;241m.\u001b[39m_generator \u001b[38;5;241m=\u001b[39m tmp_asm_copy  \u001b[38;5;66;03m# Issue #8873\u001b[39;00m\n\u001b[0;32m    316\u001b[0m \u001b[38;5;28;01mreturn\u001b[39;00m obj\n",
      "File \u001b[1;32m~\\AppData\\Local\\Programs\\Python\\Python39\\lib\\site-packages\\sympy\\core\\assumptions.py:459\u001b[0m, in \u001b[0;36mStdFactKB.__init__\u001b[1;34m(self, facts)\u001b[0m\n\u001b[0;32m    457\u001b[0m     \u001b[38;5;28mself\u001b[39m\u001b[38;5;241m.\u001b[39m_generator \u001b[38;5;241m=\u001b[39m facts\u001b[38;5;241m.\u001b[39mgenerator\n\u001b[0;32m    458\u001b[0m \u001b[38;5;28;01mif\u001b[39;00m facts:\n\u001b[1;32m--> 459\u001b[0m     \u001b[38;5;28;43mself\u001b[39;49m\u001b[38;5;241;43m.\u001b[39;49m\u001b[43mdeduce_all_facts\u001b[49m\u001b[43m(\u001b[49m\u001b[43mfacts\u001b[49m\u001b[43m)\u001b[49m\n",
      "File \u001b[1;32m~\\AppData\\Local\\Programs\\Python\\Python39\\lib\\site-packages\\sympy\\core\\facts.py:520\u001b[0m, in \u001b[0;36mFactKB.deduce_all_facts\u001b[1;34m(self, facts)\u001b[0m\n\u001b[0;32m    518\u001b[0m \u001b[38;5;66;03m# --- alpha chains ---\u001b[39;00m\n\u001b[0;32m    519\u001b[0m \u001b[38;5;28;01mfor\u001b[39;00m k, v \u001b[38;5;129;01min\u001b[39;00m facts:\n\u001b[1;32m--> 520\u001b[0m     \u001b[38;5;28;01mif\u001b[39;00m \u001b[38;5;129;01mnot\u001b[39;00m \u001b[38;5;28;43mself\u001b[39;49m\u001b[38;5;241m.\u001b[39m_tell(k, v) \u001b[38;5;129;01mor\u001b[39;00m v \u001b[38;5;129;01mis\u001b[39;00m \u001b[38;5;28;01mNone\u001b[39;00m:\n\u001b[0;32m    521\u001b[0m         \u001b[38;5;28;01mcontinue\u001b[39;00m\n\u001b[0;32m    523\u001b[0m     \u001b[38;5;66;03m# lookup routing tables\u001b[39;00m\n",
      "\u001b[1;31mKeyboardInterrupt\u001b[0m: "
     ]
    }
   ],
   "source": [
    "%run mscommfitting.pyx\n",
    "# from mscommfitting import MSCommFitting\n",
    "mscommfit = MSCommFitting(\n",
    "    phenotypes_csv_path = 'PhenotypeStoichiometry.csv', \n",
    "    signal_tsv_paths = {\n",
    "        'GFP_pf-ec_4-29-22.txt':'ecoli', \n",
    "        'RFP_pf-ec_4-29-22.txt':'pf', \n",
    "        'OD_pf-ec_4-29-22.txt':'OD'\n",
    "    }\n",
    ")\n",
    "mscommfit.define_problem()"
   ]
  },
  {
   "cell_type": "code",
   "execution_count": 16,
   "id": "80bfdf9f-7727-449b-b5d0-a8fede950753",
   "metadata": {},
   "outputs": [
    {
     "name": "stdout",
     "output_type": "stream",
     "text": [
      "The ['rxn name', 'rxn'] columns were dropped from the phenotypes CSV.\n",
      "CPU times: total: 46.9 ms\n",
      "Wall time: 45 ms\n",
      "2022-06-22 01:03:36.813482\n",
      "Done with predictory loops: 0.9830729166666666 min\n",
      "Done with metabolites loops: 5.34140625 min\n",
      "Done with the dbc & diffc loop: 2.124739583333333 min\n",
      "Done with loading the variables, constraints, and objective: 4.302604166666667 min\n",
      "CPU times: total: 12min 45s\n",
      "Wall time: 12min 45s\n",
      "2022-06-22 01:16:22.318516\n"
     ]
    }
   ],
   "source": [
    "from datetime import datetime\n",
    "# from mscommfitting import MSCommFitting\n",
    "%run mscommfitting.pyx\n",
    "%time mscommfit = MSCommFitting(phenotypes_csv_path = 'PhenotypeStoichiometry.csv', signal_tsv_paths = {'GFP_pf-ec_4-29-22.txt':'ecoli', 'RFP_pf-ec_4-29-22.txt':'pf', 'OD_pf-ec_4-29-22.txt':'OD'})\n",
    "print(datetime.today())\n",
    "%time mscommfit.define_problem()\n",
    "print(datetime.today())"
   ]
  },
  {
   "cell_type": "code",
   "execution_count": null,
   "id": "f95b5be3-ff92-4ca5-bca4-fb32ae92c77e",
   "metadata": {},
   "outputs": [],
   "source": [
    "%time mscommfit.compute()"
   ]
  },
  {
   "cell_type": "code",
   "execution_count": null,
   "id": "19ac4591-02ac-431f-9926-9b83c7585624",
   "metadata": {},
   "outputs": [],
   "source": [
    "print(mscommfit.solution)"
   ]
  },
  {
   "cell_type": "code",
   "execution_count": 2,
   "id": "e69f373a-55e5-45c3-9fd2-bf98eee16c3b",
   "metadata": {},
   "outputs": [
    {
     "name": "stdout",
     "output_type": "stream",
     "text": [
      "CPU times: total: 719 ms\n",
      "Wall time: 718 ms\n",
      "CPU times: total: 891 ms\n",
      "Wall time: 887 ms\n",
      "CPU times: total: 875 ms\n",
      "Wall time: 876 ms\n"
     ]
    }
   ],
   "source": [
    "from numpy import empty\n",
    "from cython.parallel import prange\n",
    "import cython\n",
    "def normal(lst):\n",
    "    for i, x in enumerate(lst):\n",
    "        i\n",
    "        x\n",
    "def parallelized(lst):\n",
    "    for i in prange(len(lst)):\n",
    "        lst[i]\n",
    "\n",
    "@cython.nogil\n",
    "@cython.cfunc\n",
    "def parallelized_nogil(lst):\n",
    "    for i in prange(len(lst), chunksize = 100000):\n",
    "        lst[i]\n",
    "\n",
    "        \n",
    "%time normal(empty(10000000))\n",
    "%time parallelized(empty(10000000))\n",
    "%time parallelized_nogil(empty(10000000))"
   ]
  }
 ],
 "metadata": {
  "kernelspec": {
   "display_name": "Python 3 (ipykernel)",
   "language": "python",
   "name": "python3"
  },
  "language_info": {
   "codemirror_mode": {
    "name": "ipython",
    "version": 3
   },
   "file_extension": ".py",
   "mimetype": "text/x-python",
   "name": "python",
   "nbconvert_exporter": "python",
   "pygments_lexer": "ipython3",
   "version": "3.9.12"
  }
 },
 "nbformat": 4,
 "nbformat_minor": 5
}
