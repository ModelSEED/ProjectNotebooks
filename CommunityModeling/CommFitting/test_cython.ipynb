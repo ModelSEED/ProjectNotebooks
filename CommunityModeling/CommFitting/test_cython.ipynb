{
 "cells": [
  {
   "cell_type": "code",
   "execution_count": null,
   "id": "18d4c890-510e-4ef3-9637-434f54d8b0f9",
   "metadata": {},
   "outputs": [],
   "source": [
    "from modelseedpy import MSCommFitting\n",
    "mscommfit = MSCommFitting(\n",
    "    phenotypes_csv_path = 'PhenotypeStoichiometry.csv', \n",
    "    signal_tsv_paths = {\n",
    "        'GFP_pf-ec_4-29-22.txt':'ecoli', \n",
    "        'RFP_pf-ec_4-29-22.txt':'pf', \n",
    "        'OD_pf-ec_4-29-22.txt':None\n",
    "    }\n",
    ")\n",
    "mscommfit.define_problem()"
   ]
  },
  {
   "cell_type": "code",
   "execution_count": null,
   "id": "80bfdf9f-7727-449b-b5d0-a8fede950753",
   "metadata": {},
   "outputs": [
    {
     "name": "stdout",
     "output_type": "stream",
     "text": [
      "The ['rxn name', 'Present in Carbon-D-Glucose (https://narrative.kbase.us/#dataview/262/473/2)', 'rxn'] columns were dropped from the phenotypes CSV.\n",
      "CPU times: total: 46.9 ms\n",
      "Wall time: 42.1 ms\n",
      "2022-06-18 23:14:46.704979\n",
      "Done with predictory loops: 74.11822916666667 min\n"
     ]
    }
   ],
   "source": [
    "from datetime import datetime\n",
    "# from mscommfitting import MSCommFitting\n",
    "%run mscommfitting.pyx\n",
    "%time mscommfit = MSCommFitting(phenotypes_csv_path = 'PhenotypeStoichiometry.csv', signal_tsv_paths = {'GFP_pf-ec_4-29-22.txt':'ecoli', 'RFP_pf-ec_4-29-22.txt':'pf', 'OD_pf-ec_4-29-22.txt':None})\n",
    "print(datetime.today())\n",
    "%time mscommfit.define_problem()\n",
    "print(datetime.today())"
   ]
  },
  {
   "cell_type": "code",
   "execution_count": 2,
   "id": "e69f373a-55e5-45c3-9fd2-bf98eee16c3b",
   "metadata": {},
   "outputs": [
    {
     "name": "stdout",
     "output_type": "stream",
     "text": [
      "CPU times: total: 719 ms\n",
      "Wall time: 718 ms\n",
      "CPU times: total: 891 ms\n",
      "Wall time: 887 ms\n",
      "CPU times: total: 875 ms\n",
      "Wall time: 876 ms\n"
     ]
    }
   ],
   "source": [
    "from numpy import empty\n",
    "from cython.parallel import prange\n",
    "import cython\n",
    "def normal(lst):\n",
    "    for i, x in enumerate(lst):\n",
    "        i\n",
    "        x\n",
    "def parallelized(lst):\n",
    "    for i in prange(len(lst)):\n",
    "        lst[i]\n",
    "\n",
    "@cython.nogil\n",
    "@cython.cfunc\n",
    "def parallelized_nogil(lst):\n",
    "    for i in prange(len(lst), chunksize = 100000):\n",
    "        lst[i]\n",
    "\n",
    "        \n",
    "%time normal(empty(10000000))\n",
    "%time parallelized(empty(10000000))\n",
    "%time parallelized_nogil(empty(10000000))"
   ]
  }
 ],
 "metadata": {
  "kernelspec": {
   "display_name": "Python 3 (ipykernel)",
   "language": "python",
   "name": "python3"
  },
  "language_info": {
   "codemirror_mode": {
    "name": "ipython",
    "version": 3
   },
   "file_extension": ".py",
   "mimetype": "text/x-python",
   "name": "python",
   "nbconvert_exporter": "python",
   "pygments_lexer": "ipython3",
   "version": "3.9.12"
  }
 },
 "nbformat": 4,
 "nbformat_minor": 5
}
