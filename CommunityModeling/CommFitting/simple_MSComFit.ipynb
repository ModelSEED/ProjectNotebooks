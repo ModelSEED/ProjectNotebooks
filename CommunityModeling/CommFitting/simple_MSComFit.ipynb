{
 "cells": [
  {
   "cell_type": "markdown",
   "id": "ff24466d-c07c-46f3-8291-eb05a574dd39",
   "metadata": {},
   "source": [
    "# May experiments"
   ]
  },
  {
   "cell_type": "code",
   "execution_count": 18,
   "id": "85c4487e-1700-465b-a7f5-d87575a1e9c1",
   "metadata": {},
   "outputs": [
    {
     "name": "stdout",
     "output_type": "stream",
     "text": [
      "The ['rxn name', 'rxn'] columns were dropped from the phenotypes CSV.\n",
      "2022-06-29 21:08:48.635768\n",
      "Done with biomass loop: 0.7473958333333334 min\n",
      "Done with metabolites loop: 4.340625 min\n",
      "Done with the dbc & diffc loop: 1.409375 min\n",
      "Done with loading the variables, constraints, and objective: 3.7651041666666667 min\n",
      "Done exporting the content: 0.640625 min\n",
      "2022-06-29 21:19:45.484696\n"
     ]
    }
   ],
   "source": [
    "from datetime import datetime\n",
    "# from mscommfitting import MSCommFitting\n",
    "%run mscommfitting.py\n",
    "mscommfit2 = MSCommFitting(phenotypes_csv_path = 'PhenotypeStoichiometry.csv', \n",
    "                           signal_tsv_paths = {'GFP_pf-ec_4-29-22.txt':'ecoli', 'RFP_pf-ec_4-29-22.txt':'pf', 'OD_pf-ec_4-29-22.txt':'OD'},\n",
    "                           media_conc_path = 'media_conc.csv',\n",
    "                           carbon_conc_series = {'rows': {\n",
    "                               'cpd00136': {'B':0, 'C': 0, 'D': 1, 'E': 1, 'F': 4, 'G': 4},\n",
    "                               'cpd00179': {'B':5, 'C': 5, 'D':5, 'E': 5, 'F': 5, 'G': 5},\n",
    "                               }},\n",
    "                           ignore_trials = {'wells': ['C2', 'G3', 'C12']},\n",
    "                           zipped_contents = True)\n",
    "print(datetime.today())\n",
    "mscommfit2.define_problem()\n",
    "print(datetime.today())"
   ]
  },
  {
   "cell_type": "code",
   "execution_count": null,
   "id": "93e00133-56cd-47c7-83b2-4835f56583c6",
   "metadata": {},
   "outputs": [],
   "source": [
    "# plot the content for desired trials \n",
    "graphs = [\n",
    "    {\n",
    "        'trial':'B2',\n",
    "        'content': 'biomass',\n",
    "        'species': 'ecoli',\n",
    "        'strain': 'acetate'\n",
    "    },\n",
    "    {\n",
    "        'trial':'B2',\n",
    "        'content': 'growth',\n",
    "        'species': 'ecoli',\n",
    "        'strain': 'acetate'\n",
    "    }   \n",
    "]\n",
    "\n",
    "%time mscommfit2.compute(graphs)"
   ]
  },
  {
   "cell_type": "code",
   "execution_count": null,
   "id": "ef70d01f-c093-4abc-afba-ecb87ff30463",
   "metadata": {},
   "outputs": [],
   "source": [
    "print(mscommfit2.problem.objective.value)"
   ]
  },
  {
   "cell_type": "markdown",
   "id": "ae56b7ea-c896-434d-ade2-1e6dcadcb948",
   "metadata": {},
   "source": [
    "# June experiments"
   ]
  },
  {
   "cell_type": "code",
   "execution_count": null,
   "id": "8b47a07c-ef0b-4054-8b62-e4a937b5758f",
   "metadata": {},
   "outputs": [],
   "source": [
    "from datetime import datetime\n",
    "# from mscommfitting import MSCommFitting\n",
    "%run mscommfitting.py\n",
    "mscommfit2 = MSCommFitting(phenotypes_csv_path = 'PhenotypeStoichiometry.csv', \n",
    "                           signal_tsv_paths = {'GFP_pf-ec_4-29-22.txt':'ecoli', 'RFP_pf-ec_4-29-22.txt':'pf', 'OD_pf-ec_4-29-22.txt':'OD'},\n",
    "                           media_conc_path = 'media_conc.csv',\n",
    "                           carbon_conc_series = {'rows': {\n",
    "                                   'B': {'mM':10, 'id': 'cpd00179'},\n",
    "                                   'C': {'mM':5, 'id': 'cpd00179'},\n",
    "                                   'D': {'mM':2, 'id': 'cpd00179'},\n",
    "                                   'E': {'mM':8, 'id': 'cpd00136'},\n",
    "                                   'F': {'mM':4, 'id': 'cpd00136'},\n",
    "                                   'G': {'mM':1, 'id': 'cpd00136'}\n",
    "                               },\n",
    "                                                 'columns': {\n",
    "                                   '2': {'mM':100, 'id': 'cpd00029'},\n",
    "                                   '3': {'mM':50, 'id': 'cpd00029'},\n",
    "                                   '4': {'mM':25, 'id': 'cpd00029'},\n",
    "                                   '5': {'mM':12.5, 'id': 'cpd00029'},\n",
    "                                   '6': {'mM':6.25, 'id': 'cpd00029'},\n",
    "                                   '7': {'mM':3, 'id': 'cpd00029'}\n",
    "                               }\n",
    "                           },\n",
    "                           ignore_trials = {'columns':[8,9,10,11,12]},\n",
    "                           zipped_contents = True)\n",
    "print(datetime.today())\n",
    "mscommfit2.define_problem()\n",
    "print(datetime.today())"
   ]
  },
  {
   "cell_type": "code",
   "execution_count": null,
   "id": "588250ac-6771-4980-8af0-fc042887bb11",
   "metadata": {},
   "outputs": [],
   "source": []
  },
  {
   "cell_type": "code",
   "execution_count": null,
   "id": "51be3f14-af5c-4c76-be96-ace604b61a8f",
   "metadata": {},
   "outputs": [],
   "source": []
  },
  {
   "cell_type": "code",
   "execution_count": null,
   "id": "05054e05-97e3-4612-a678-20480df437e9",
   "metadata": {},
   "outputs": [],
   "source": []
  }
 ],
 "metadata": {
  "kernelspec": {
   "display_name": "Python 3 (ipykernel)",
   "language": "python",
   "name": "python3"
  },
  "language_info": {
   "codemirror_mode": {
    "name": "ipython",
    "version": 3
   },
   "file_extension": ".py",
   "mimetype": "text/x-python",
   "name": "python",
   "nbconvert_exporter": "python",
   "pygments_lexer": "ipython3",
   "version": "3.9.12"
  }
 },
 "nbformat": 4,
 "nbformat_minor": 5
}
