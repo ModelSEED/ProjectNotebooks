{
 "cells": [
  {
   "cell_type": "code",
   "execution_count": 1,
   "id": "0ba3ad09-1bc3-4c90-bb12-e108abc33671",
   "metadata": {},
   "outputs": [],
   "source": [
    "from cobra.io import load_json_model\n",
    "ecoli = load_json_model(\"ecoli.json\")\n",
    "pf = load_json_model(\"pf.json\")"
   ]
  },
  {
   "cell_type": "code",
   "execution_count": 2,
   "id": "e9400b7a-a1ac-4436-b9cf-b4d9921038fe",
   "metadata": {},
   "outputs": [
    {
     "name": "stdout",
     "output_type": "stream",
     "text": [
      "cobrakbase 0.2.8\n"
     ]
    }
   ],
   "source": [
    "# define the environment path \n",
    "import os\n",
    "local_cobrakbase_path = '/Users/afreiburger/Documents'\n",
    "# local_cobrakbase_path = os.path.join('C:', 'Users', 'Andrew Freiburger','Documents','Argonne','cobrakbase')\n",
    "os.environ[\"HOME\"] = local_cobrakbase_path\n",
    "\n",
    "# import the models\n",
    "import cobrakbase\n",
    "with open(\"/Users/afreiburger/Documents/kbase_token.txt\") as token_file:\n",
    "# with open(\"C:/Users/Andrew Freiburger/Documents/Argonne/kbase_token.txt\") as token_file:\n",
    "    kbase_api = cobrakbase.KBaseAPI(token_file.readline())\n",
    "comm = kbase_api.get_from_ws(\"SynBioComm\",93465)"
   ]
  },
  {
   "cell_type": "code",
   "execution_count": 3,
   "id": "4a2ec1b3-4a3d-4f4c-b701-b376328fc8bb",
   "metadata": {},
   "outputs": [
    {
     "name": "stdout",
     "output_type": "stream",
     "text": [
      "<Solution 0.000 at 0x13c06d820>\n"
     ]
    }
   ],
   "source": [
    "comm_gf = kbase_api.get_from_ws(\"SynBioComm_\",93465)\n",
    "print(comm_gf.optimize())"
   ]
  },
  {
   "cell_type": "code",
   "execution_count": 5,
   "id": "d547b63d-4583-4aa5-9450-4f7885c8956c",
   "metadata": {},
   "outputs": [
    {
     "name": "stdout",
     "output_type": "stream",
     "text": [
      "<Solution 4.599 at 0x10fb76ac0>\n",
      "<Solution 0.494 at 0x13fbeae50>\n",
      "<Solution 0.000 at 0x10fb76430>\n"
     ]
    }
   ],
   "source": [
    "print(ecoli.optimize())\n",
    "print(pf.optimize())\n",
    "print(comm.optimize())"
   ]
  },
  {
   "cell_type": "code",
   "execution_count": 3,
   "id": "aefc2c12-6499-40d9-9a81-48f346bc32fa",
   "metadata": {},
   "outputs": [
    {
     "ename": "ModelError",
     "evalue": "The SynBioComm model is broken and does not grow in complete media.",
     "output_type": "error",
     "traceback": [
      "\u001b[0;31m---------------------------------------------------------------------------\u001b[0m",
      "\u001b[0;31mModelError\u001b[0m                                Traceback (most recent call last)",
      "Cell \u001b[0;32mIn [3], line 2\u001b[0m\n\u001b[1;32m      1\u001b[0m \u001b[38;5;28;01mfrom\u001b[39;00m \u001b[38;5;21;01mmodelseedpy\u001b[39;00m \u001b[38;5;28;01mimport\u001b[39;00m MSSteadyCom, MSCommunity\n\u001b[0;32m----> 2\u001b[0m steadycom \u001b[38;5;241m=\u001b[39m MSSteadyCom\u001b[38;5;241m.\u001b[39mcompute(MSCommunity(comm), comm, models\u001b[38;5;241m=\u001b[39m[ecoli, pf])\n",
      "File \u001b[0;32m/Users/afreiburger/Library/Python/3.9/lib/python/site-packages/modelseedpy/community/mscommunity.py:123\u001b[0m, in \u001b[0;36mMSCommunity.__init__\u001b[0;34m(self, model, models, names, abundances, pfba, lp_filename)\u001b[0m\n\u001b[1;32m    120\u001b[0m \u001b[38;5;66;03m# defining the models\u001b[39;00m\n\u001b[1;32m    121\u001b[0m model \u001b[38;5;241m=\u001b[39m model \u001b[38;5;28;01mif\u001b[39;00m \u001b[38;5;129;01mnot\u001b[39;00m models \u001b[38;5;28;01melse\u001b[39;00m build_from_species_models(\n\u001b[1;32m    122\u001b[0m     models, names\u001b[38;5;241m=\u001b[39mnames, abundances\u001b[38;5;241m=\u001b[39mabundances, cobra_model\u001b[38;5;241m=\u001b[39m\u001b[38;5;28;01mTrue\u001b[39;00m)\n\u001b[0;32m--> 123\u001b[0m \u001b[38;5;28mself\u001b[39m\u001b[38;5;241m.\u001b[39mutil \u001b[38;5;241m=\u001b[39m \u001b[43mMSModelUtil\u001b[49m\u001b[43m(\u001b[49m\u001b[43mmodel\u001b[49m\u001b[43m)\u001b[49m\n\u001b[1;32m    124\u001b[0m \u001b[38;5;28mself\u001b[39m\u001b[38;5;241m.\u001b[39mid \u001b[38;5;241m=\u001b[39m \u001b[38;5;28mself\u001b[39m\u001b[38;5;241m.\u001b[39mutil\u001b[38;5;241m.\u001b[39mmodel\u001b[38;5;241m.\u001b[39mid\n\u001b[1;32m    125\u001b[0m \u001b[38;5;28mself\u001b[39m\u001b[38;5;241m.\u001b[39mpkgmgr \u001b[38;5;241m=\u001b[39m MSPackageManager\u001b[38;5;241m.\u001b[39mget_pkg_mgr(\u001b[38;5;28mself\u001b[39m\u001b[38;5;241m.\u001b[39mutil\u001b[38;5;241m.\u001b[39mmodel)\n",
      "File \u001b[0;32m/Users/afreiburger/Library/Python/3.9/lib/python/site-packages/modelseedpy/core/msmodelutl.py:77\u001b[0m, in \u001b[0;36mMSModelUtil.__init__\u001b[0;34m(self, model)\u001b[0m\n\u001b[1;32m     75\u001b[0m \u001b[38;5;28mself\u001b[39m\u001b[38;5;241m.\u001b[39mtest_objective \u001b[38;5;241m=\u001b[39m \u001b[38;5;28mself\u001b[39m\u001b[38;5;241m.\u001b[39mscore \u001b[38;5;241m=\u001b[39m \u001b[38;5;28;01mNone\u001b[39;00m\n\u001b[1;32m     76\u001b[0m \u001b[38;5;28;01mif\u001b[39;00m \u001b[38;5;28mself\u001b[39m\u001b[38;5;241m.\u001b[39mmodel\u001b[38;5;241m.\u001b[39mslim_optimize() \u001b[38;5;241m==\u001b[39m \u001b[38;5;241m0\u001b[39m:\n\u001b[0;32m---> 77\u001b[0m     \u001b[38;5;28;01mraise\u001b[39;00m ModelError(\u001b[38;5;124mf\u001b[39m\u001b[38;5;124m\"\u001b[39m\u001b[38;5;124mThe \u001b[39m\u001b[38;5;132;01m{\u001b[39;00m\u001b[38;5;28mself\u001b[39m\u001b[38;5;241m.\u001b[39mmodel\u001b[38;5;241m.\u001b[39mid\u001b[38;5;132;01m}\u001b[39;00m\u001b[38;5;124m model is broken and does not grow in complete media.\u001b[39m\u001b[38;5;124m\"\u001b[39m)\n",
      "\u001b[0;31mModelError\u001b[0m: The SynBioComm model is broken and does not grow in complete media."
     ]
    }
   ],
   "source": [
    "from modelseedpy import MSSteadyCom, MSCommunity\n",
    "steadycom = MSSteadyCom.compute(MSCommunity(comm), comm, models=[ecoli, pf])"
   ]
  }
 ],
 "metadata": {
  "kernelspec": {
   "display_name": "Python 3 (ipykernel)",
   "language": "python",
   "name": "python3"
  },
  "language_info": {
   "codemirror_mode": {
    "name": "ipython",
    "version": 3
   },
   "file_extension": ".py",
   "mimetype": "text/x-python",
   "name": "python",
   "nbconvert_exporter": "python",
   "pygments_lexer": "ipython3",
   "version": "3.9.6"
  }
 },
 "nbformat": 4,
 "nbformat_minor": 5
}
