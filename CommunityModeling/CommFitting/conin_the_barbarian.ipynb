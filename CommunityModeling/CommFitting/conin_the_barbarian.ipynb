{
 "cells": [
  {
   "cell_type": "markdown",
   "metadata": {},
   "source": [
    "# Load and execute the model"
   ]
  },
  {
   "cell_type": "code",
   "execution_count": 1,
   "metadata": {},
   "outputs": [
    {
     "name": "stdout",
     "output_type": "stream",
     "text": [
      "python version 3.7.6\n"
     ]
    }
   ],
   "source": [
    "import platform\n",
    "print(\"python version \" + platform.python_version())\n",
    "import sys\n",
    "import json\n",
    "import re\n",
    "import os\n",
    "from os.path import exists\n",
    "if exists(\"config.cfg\"):\n",
    "    from configparser import ConfigParser\n",
    "    config = ConfigParser()\n",
    "    config.read(\"config.cfg\")\n",
    "    paths = config.get(\"script\", \"syspaths\").split(\";\")\n",
    "    for path in paths:\n",
    "        sys.path.append(path)\n",
    "        \n",
    "graphs = [\n",
    "    {\n",
    "        'trial':'B4',\n",
    "        'content': 'OD',\n",
    "        'experimental_data': True\n",
    "    }\n",
    "]"
   ]
  },
  {
   "cell_type": "code",
   "execution_count": null,
   "metadata": {},
   "outputs": [],
   "source": [
    "from datetime import datetime\n",
    "%run mscommfitting.py\n",
    "mscommfit = MSCommFitting()\n",
    "mscommfit.load_data(phenotypes_csv_path = 'PhenotypeStoichiometry.csv', \n",
    "                           signal_tsv_paths = {'RFP_pf-ec_4-29-22.txt':'ecoli', 'GFP_pf-ec_4-29-22.txt':'pf', 'OD_pf-ec_4-29-22.txt':'OD'},\n",
    "                           media_conc_path = 'media_conc.csv',\n",
    "                           species_abundance_path = 'species_abundances.csv',\n",
    "                           carbon_conc_series = {\n",
    "                               'cpd00136': {'B':0, 'C': 0, 'D': 1, 'E': 1, 'F': 4, 'G': 4},\n",
    "                               'cpd00179': {'B':5, 'C': 5, 'D':5, 'E': 5, 'F': 5, 'G': 5},\n",
    "                               },\n",
    "                           ignore_trials = {'rows': ['C', 'D', 'E', 'F']}, # 'wells': ['C2', 'G3', 'C12']},  # 'columns': [6,7,8,9,10,11,12]},\n",
    "                           # ignore_timesteps = [x for x in range(20,167)],\n",
    "                           zip_path='mscomfit.zip'\n",
    "                   )\n",
    "print(datetime.today())\n",
    "mscommfit.define_problem(parameters={\n",
    "    'v':0.4,\n",
    "    'cvmin': 100,\n",
    "    'bcv': 100,\n",
    "    'diffpos': 100,\n",
    "    'diffneg': 100\n",
    "    }, zip_name='simple_full_community.zip',flexible_consumption = True,metabolites_to_track = [\"cpd00179\",\"cpd00029\",\"cpd00136\"])\n",
    "print(datetime.today())\n",
    "%time mscommfit.compute(graphs, zip_name='simple_full_community.zip')\n",
    "print('growth:', mscommfit.parameters['v'], 'objective value:', mscommfit.problem.objective.value, '\\n\\n\\n\\n')\n",
    "print(datetime.today())"
   ]
  },
  {
   "cell_type": "markdown",
   "metadata": {},
   "source": [
    "# Change the parameters"
   ]
  },
  {
   "cell_type": "code",
   "execution_count": null,
   "metadata": {},
   "outputs": [
    {
     "name": "stdout",
     "output_type": "stream",
     "text": [
      "Done loading the JSON: 0.04457041666666726 min\n"
     ]
    },
    {
     "name": "stderr",
     "output_type": "stream",
     "text": [
      "/Users/chenry/opt/anaconda3/lib/python3.7/zipfile.py:1506 \u001b[1;31mUserWarning\u001b[0m: Duplicate name: 'mscommfitting.json'\n"
     ]
    },
    {
     "name": "stdout",
     "output_type": "stream",
     "text": [
      "Done exporting the model: 0.4064566499999993 min\n"
     ]
    }
   ],
   "source": [
    "mscommfit.change_parameters(vmax=-.4, zip_name='simple_full_community_edited.zip')  # The Vmax argument can be either a number or a dictionary that is organized by [\"time\"][\"trial\"], just as the naming scheme of the variables and constraints\n",
    "%time mscommfit.compute(graphs, 'simple_full_community_edited.zip')\n",
    "print('growth:', mscommfit.parameters['v'], 'objective value:', mscommfit.problem.objective.value, '\\n\\n\\n\\n')\n",
    "print(datetime.today())"
   ]
  },
  {
   "cell_type": "code",
   "execution_count": null,
   "metadata": {},
   "outputs": [],
   "source": []
  }
 ],
 "metadata": {
  "kernelspec": {
   "display_name": "Python 3",
   "language": "python",
   "name": "python3"
  },
  "language_info": {
   "codemirror_mode": {
    "name": "ipython",
    "version": 3
   },
   "file_extension": ".py",
   "mimetype": "text/x-python",
   "name": "python",
   "nbconvert_exporter": "python",
   "pygments_lexer": "ipython3",
   "version": "3.7.6"
  }
 },
 "nbformat": 4,
 "nbformat_minor": 5
}
