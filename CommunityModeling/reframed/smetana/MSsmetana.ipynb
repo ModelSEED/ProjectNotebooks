{
 "cells": [
  {
   "cell_type": "markdown",
   "id": "eec88526-d579-4c9f-a52b-52ff03f094e6",
   "metadata": {},
   "source": [
    "# load a model"
   ]
  },
  {
   "cell_type": "code",
   "execution_count": 1,
   "id": "48c02ea2-795c-4490-97a2-ec9c3e099d30",
   "metadata": {},
   "outputs": [
    {
     "name": "stderr",
     "output_type": "stream",
     "text": [
      "C:\\Users\\Andrew Freiburger\\AppData\\Local\\Programs\\Python\\Python39\\lib\\site-packages\\requests\\__init__.py:102: RequestsDependencyWarning: urllib3 (1.26.9) or chardet (5.0.0)/charset_normalizer (2.0.12) doesn't match a supported version!\n",
      "  warnings.warn(\"urllib3 ({}) or chardet ({})/charset_normalizer ({}) doesn't match a supported \"\n"
     ]
    },
    {
     "name": "stdout",
     "output_type": "stream",
     "text": [
      "cobrakbase 0.2.8\n"
     ]
    }
   ],
   "source": [
    "# define the environment path \n",
    "import os\n",
    "local_cobrakbase_path = os.path.join('C:', 'Users', 'Andrew Freiburger','Documents','Argonne','cobrakbase')\n",
    "os.environ[\"HOME\"] = local_cobrakbase_path\n",
    "\n",
    "# import the models\n",
    "import cobrakbase\n",
    "token = '6MLTVYGHR6Y6V32DX255AVC53U2NDY7X'\n",
    "kbase_api = cobrakbase.KBaseAPI(token)\n",
    "media = kbase_api.get_from_ws(\"93465/17/1\")"
   ]
  },
  {
   "cell_type": "markdown",
   "id": "1e649d12-05d6-4efd-bd5a-e8eada84fa3c",
   "metadata": {},
   "source": [
    "# Load a complete community from KBase"
   ]
  },
  {
   "cell_type": "code",
   "execution_count": 2,
   "id": "bc5f7e3c-54ba-4d92-963f-4a4bc31e4298",
   "metadata": {},
   "outputs": [
    {
     "name": "stderr",
     "output_type": "stream",
     "text": [
      "WARNING:cobrakbase.core.kbasefba.fbamodel_builder:unable to add sink for [cpd15302_c0]: not found\n",
      "WARNING:cobrakbase.core.kbasefba.fbamodel_builder:unable to add sink for [cpd15302_c0]: not found\n",
      "WARNING:cobrakbase.core.kbasefba.fbamodel_builder:unable to add sink for [cpd11416_c0]: not found\n",
      "WARNING:cobrakbase.core.kbasefba.fbamodel_builder:unable to add sink for [cpd02701_c0]: not found\n",
      "WARNING:cobrakbase.core.kbasefba.fbamodel_builder:unable to add sink for [cpd15302_c0]: not found\n"
     ]
    }
   ],
   "source": [
    "model1 = kbase_api.get_from_ws(\"E_iAH991V2\",40576)\n",
    "model2 = kbase_api.get_from_ws(\"E_iML1515.kb\",40576)\n",
    "com_model = kbase_api.get_from_ws(\"CMM_iAH991V2_iML1515.kb\",40576)"
   ]
  },
  {
   "cell_type": "code",
   "execution_count": 3,
   "id": "8907b30c-2639-4bd1-931d-0d80f7661c0e",
   "metadata": {},
   "outputs": [
    {
     "data": {
      "text/plain": [
       "143.7027657990241"
      ]
     },
     "metadata": {},
     "output_type": "display_data"
    },
    {
     "name": "stdout",
     "output_type": "stream",
     "text": [
      "{'EX_2omxyl_e0': 1000, 'EX_cpd15459_e0': 1000, 'EX_cpd00136_e0': 1000, 'EX_cpd00166_e0': 1000, 'EX_cpd00215_e0': 1000, 'EX_cpd00300_e0': 1000, 'EX_cpd00464_e0': 1000, 'EX_cpd15411_e0': 1000, 'EX_cpd00024_e0': 1000, 'EX_ha_pre1_e0': 1000, 'EX_cpd00266_e0': 1000, 'EX_cpd15298_e0': 1000, 'EX_cpd01080_e0': 1000, 'EX_cpd15495_e0': 1000, 'EX_strch1_e0': 1000, 'EX_cpd00210_e0': 1000, 'EX_lmn2_e0': 1000, 'EX_4abzglu-e_e0': 1000, 'EX_plac_e0': 1000, 'EX_cpd11602_e0': 1000, 'EX_cpd00644_e0': 1000, 'EX_cpd15493_e0': 1000, 'EX_metsox-S-L-e_e0': 1000, 'EX_2omfuc_e0': 1000, 'EX_cpd11606_e0': 1000, 'EX_cpd04089_e0': 1000, 'EX_core8_e0': 1000, 'EX_lps_bt_e0': 1000, 'EX_cpd00152_e0': 1000, 'EX_cpd03387_e0': 1000, 'EX_cpd04461_e0': 1000, 'EX_cpd00309_e0': 1000, 'EX_arabinogal_e0': 1000, 'EX_cpd03846_e0': 1000, 'EX_acerA_e0': 1000, 'EX_cpd00214_e0': 1000, 'EX_cpd00013_e0': 1000, 'EX_core5_e0': 1000, 'EX_rhamnogalurII_e0': 1000, 'EX_lacdfucttr_e0': 1000, 'EX_core6_e0': 1000, 'EX_cpd00516_e0': 1000, 'EX_cpd00150_e0': 1000, 'EX_cpd15437_e0': 1000, 'EX_neulacnttr_e0': 1000, 'EX_cpd00066_e0': 1000, 'EX_metglcur-e_e0': 1000, 'EX_f1a_e0': 1000, 'EX_cpd00153_e0': 1000, 'EX_cpd15390_e0': 1000, 'EX_cpd15466_e0': 1000, 'EX_cpd10719_e0': 1000, 'EX_hspg_e0': 1000, 'EX_cpd00099_e0': 1000, 'EX_isocapr_e0': 1000, 'EX_cpd00371_e0': 1000, 'EX_cpd00031_e0': 1000, 'EX_cpd00531_e0': 1000, 'EX_cpd00298_e0': 1000, 'EX_phppa_e0': 1000, 'EX_hspg_degr_15_e0': 1000, 'EX_dt5hsu_e0': 1000, 'EX_cpd01012_e0': 1000, 'EX_cpd15518_e0': 1000, 'EX_cpd00672_e0': 1000, 'EX_cpd15438_e0': 1000, 'EX_mqn9_e0': 1000, 'EX_unsdigalur_e0': 1000, 'EX_s2l2n2m2masn_e0': 1000, 'EX_cpd00098_e0': 1000, 'EX_sq-e_e0': 1000, 'EX_cpd03422_e0': 1000, 'EX_l2n2m2mn_e0': 1000, 'EX_manb_e0': 1000, 'EX_cpd08304_e0': 1000, 'EX_cpd11658_e0': 1000, 'EX_cpd01155_e0': 1000, 'EX_cpd15460_e0': 1000, 'EX_alaglu_e0': 1000, 'EX_cpd00497_e0': 1000, 'EX_cpd15574_e0': 1000, 'EX_cpd15386_e0': 1000, 'EX_cpd00381_e0': 1000, 'EX_cpd00046_e0': 1000, 'EX_cpd01092_e0': 1000, 'EX_cpd00047_e0': 1000, 'EX_cpd00206_e0': 1000, 'EX_cpd00222_e0': 1000, 'EX_cpd00030_e0': 1000, 'EX_cpd30760_e0': 1000, 'EX_cpd00428_e0': 1000, 'EX_cpd00971_e0': 1000, 'EX_cps_bt_e0': 1000, 'EX_mqn10_e0': 1000, 'EX_cpd00144_e0': 1000, 'EX_cpd00885_e0': 1000, 'EX_cpd03198_e0': 1000, 'EX_homogal_e0': 1000, 'EX_cpd00299_e0': 1000, 'EX_cpd00703_e0': 1000, 'EX_cpd00296_e0': 1000, 'EX_cpd00709_e0': 1000, 'EX_pect_e0': 1000, 'EX_cspg_c_rest_e0': 1000, 'EX_cpd00119_e0': 1000, 'EX_cpd00118_e0': 1000, 'EX_cpd00033_e0': 1000, 'EX_glyglu_e0': 1000, 'EX_cpd01067_e0': 1000, 'EX_cpd00244_e0': 1000, 'EX_cpd15500_e0': 1000, 'EX_cpd01107_e0': 1000, 'EX_cpd00259_e0': 1000, 'EX_cpd00060_e0': 1000, 'EX_gncore2_e0': 1000, 'EX_cpd00322_e0': 1000, 'EX_cpd00363_e0': 1000, 'EX_cpd15237_e0': 1000, 'EX_cpd00158_e0': 1000, 'EX_metala_e0': 1000, 'EX_cpd00988_e0': 1000, 'EX_cpd00100_e0': 1000, 'EX_cpd00107_e0': 1000, 'EX_cpd00132_e0': 1000, 'EX_cpd01572_e0': 1000, 'EX_cpd00039_e0': 1000, 'EX_dsT_antigen_e0': 1000, 'EX_kestottr_e0': 1000, 'EX_cpd11574_e0': 1000, 'EX_lacnttr_e0': 1000, 'EX_cpd15605_e0': 1000, 'EX_cpd03191_e0': 1000, 'EX_idour_e0': 1000, 'EX_cpd15127_e0': 1000, 'EX_cpd00247_e0': 1000, 'EX_hspg_rest_e0': 1000, 'EX_cpd00226_e0': 1000, 'EX_hspg_degr_6_e0': 1000, 'EX_cpd00076_e0': 1000, 'EX_cpd01908_e0': 1000, 'EX_cpd00208_e0': 1000, 'EX_cpd00034_e0': 1000, 'EX_cpd00573_e0': 1000, 'EX_cpd00043_e0': 1000, 'EX_cpd00176_e0': 1000, 'EX_cpd03704_e0': 1000, 'EX_cpd00084_e0': 1000, 'EX_pecticgal_e0': 1000, 'EX_cpd01211_e0': 1000, 'EX_cpd01741_e0': 1000, 'EX_cpd00507_e0': 1000, 'EX_cpd00072_e0': 1000, 'EX_cpd00448_e0': 1000, 'EX_starch1200_e0': 1000, 'EX_cpd00268_e0': 1000, 'EX_cpd00205_e0': 1000, 'EX_Ser_Thr_e0': 1000, 'EX_cpd00026_e0': 1000, 'EX_cpd00659_e0': 1000, 'EX_cpd00294_e0': 1000, 'EX_cpd00036_e0': 1000, 'EX_cpd00223_e0': 1000, 'EX_pullulan1200_e0': 1000, 'EX_s2l2fn2m2masn_e0': 1000, 'EX_cpd00305_e0': 1000, 'EX_cpd00288_e0': 1000, 'EX_glypro_e0': 1000, 'EX_cpd00063_e0': 1000, 'EX_cpd00020_e0': 1000, 'EX_cpd00263_e0': 1000, 'EX_cpd10515_e0': 1000, 'EX_hspg_degr_4_e0': 1000, 'EX_levantttr_e0': 1000, 'EX_cpd00731_e0': 1000, 'EX_core3_e0': 1000, 'EX_cpd00540_e0': 1000, 'EX_cpd00128_e0': 1000, 'EX_cpd00139_e0': 1000, 'EX_rhamnogalurI_e0': 1000, 'EX_cpd00001_e0': 1000, 'EX_cpd00117_e0': 1000, 'EX_cpd00281_e0': 1000, 'EX_hspg_degr_5_e0': 1000, 'EX_cpd00051_e0': 1000, 'EX_cpd00007_e0': 1000, 'EX_cpd00654_e0': 1000, 'EX_cpd03586_e0': 1000, 'EX_cpd00359_e0': 1000, 'EX_kesto_e0': 1000, 'EX_cpd00081_e0': 1000, 'EX_cpd00418_e0': 1000, 'EX_cpd01376_e0': 1000, 'EX_cpd00129_e0': 1000, 'EX_hspg_degr_14_e0': 1000, 'EX_cpd04097_e0': 1000, 'EX_cpd03587_e0': 1000, 'EX_cpd03396_e0': 1000, 'EX_cspg_c_degr_e0': 1000, 'EX_cpd01861_e0': 1000, 'EX_levanttr_e0': 1000, 'EX_cpd01570_e0': 1000, 'EX_cpd00220_e0': 1000, 'EX_cpd01571_e0': 1000, 'EX_cpd10924_e0': 1000, 'EX_cpd00142_e0': 1000, 'EX_cpd00355_e0': 1000, 'EX_cpd03912_e0': 1000, 'EX_cpd08023_e0': 1000, 'EX_gam26s_e0': 1000, 'EX_cpd01151_e0': 1000, 'EX_lacnnttr_e0': 1000, 'EX_hspg_degr_8_e0': 1000, 'EX_cpd00666_e0': 1000, 'EX_cpd00637_e0': 1000, 'EX_galam_e0': 1000, 'EX_cpd00211_e0': 1000, 'EX_T_antigen_e0': 1000, 'EX_fucneulacnhx_e0': 1000, 'EX_gchola_e0': 1000, 'EX_cspg_a_degr_e0': 1000, 'EX_hspg_degr_3_e0': 1000, 'EX_cpd00023_e0': 1000, 'EX_sT_antigen_e0': 1000, 'EX_cpd02150_e0': 1000, 'EX_hspg_degr_10_e0': 1000, 'EX_cpd11579_e0': 1000, 'EX_cpd15606_e0': 1000, 'EX_levan1000_e0': 1000, 'EX_cpd15463_e0': 1000, 'EX_cpd00902_e0': 1000, 'EX_cpd15388_e0': 1000, 'EX_cpd00680_e0': 1000, 'EX_cpd00037_e0': 1000, 'EX_cpd00154_e0': 1000, 'EX_cpd00412_e0': 1000, 'EX_acgalidour_e0': 1000, 'EX_isoval_e0': 1000, 'EX_cpd03724_e0': 1000, 'EX_cpd00126_e0': 1000, 'EX_cpd15836_e0': 1000, 'EX_cpd00391_e0': 1000, 'EX_cpd15462_e0': 1000, 'EX_cpd00276_e0': 1000, 'EX_cpd00450_e0': 1000, 'EX_acgalidour2s_e0': 1000, 'EX_cpd15432_e0': 1000, 'EX_cpd00108_e0': 1000, 'EX_n2m2mn_e0': 1000, 'EX_cpd00383_e0': 1000, 'EX_cpd11584_e0': 1000, 'EX_cpd00089_e0': 1000, 'EX_metsox-R-L-e_e0': 1000, 'EX_cpd08374_e0': 1000, 'EX_cpd15483_e0': 1000, 'EX_cpd00184_e0': 1000, 'EX_cpd02027_e0': 1000, 'EX_hspg_degr_11_e0': 1000, 'EX_hspg_degr_9_e0': 1000, 'EX_cpd00587_e0': 1000, 'EX_cpd14659_e0': 1000, 'EX_cpd03453_e0': 1000, 'EX_mbenz_e0': 1000, 'EX_arabttr_e0': 1000, 'EX_cpd00552_e0': 1000, 'EX_kestopt_e0': 1000, 'EX_cpd00264_e0': 1000, 'EX_tartr-D-e_e0': 1000, 'EX_acgalglcur_e0': 1000, 'EX_cpd15551_e0': 1000, 'EX_strch2_e0': 1000, 'EX_cpd05228_e0': 1000, 'EX_cpd00035_e0': 1000, 'EX_cpd15461_e0': 1000, 'EX_cpd00058_e0': 1000, 'EX_cpd00248_e0': 1000, 'EX_cpd15396_e0': 1000, 'EX_cpd24363_e0': 1000, 'EX_cpd00794_e0': 1000, 'EX_cpd00235_e0': 1000, 'EX_cpd00430_e0': 1000, 'EX_cpd00227_e0': 1000, 'EX_cpd00224_e0': 1000, 'EX_alagly_e0': 1000, 'EX_cpd04098_e0': 1000, 'EX_cpd00064_e0': 1000, 'EX_cpd00249_e0': 1000, 'EX_alathr_e0': 1000, 'EX_cpd21754_e0': 1000, 'EX_cpd00536_e0': 1000, 'EX_chtbs_e0': 1000, 'EX_cpd00989_e0': 1000, 'EX_cpd00122_e0': 1000, 'EX_hspg_degr_1_e0': 1000, 'EX_cpd00092_e0': 1000, 'EX_levanb_e0': 1000, 'EX_cpd04099_e0': 1000, 'EX_cpd03032_e0': 1000, 'EX_cpd00239_e0': 1000, 'EX_lacndfuchx_e0': 1000, 'EX_glyasp_e0': 1000, 'EX_core4_e0': 1000, 'EX_cpd03726_e0': 1000, 'EX_cpd19028_e0': 1000, 'EX_cpd03725_e0': 1000, 'EX_amylose300_e0': 1000, 'EX_cpd00011_e0': 1000, 'EX_cpd02611_e0': 1000, 'EX_hspg_degr_7_e0': 1000, 'EX_cpd01055_e0': 1000, 'EX_cpd11596_e0': 1000, 'EX_cpd00106_e0': 1000, 'EX_cpd00069_e0': 1000, 'EX_cpd01391_e0': 1000, 'EX_cpd00042_e0': 1000, 'EX_cpd00159_e0': 1000, 'EX_cpd00075_e0': 1000, 'EX_cpd03701_e0': 1000, 'EX_cpd03279_e0': 1000, 'EX_cspg_b_e0': 1000, 'EX_cpd00541_e0': 1000, 'EX_cpd00455_e0': 1000, 'EX_cpd10516_e0': 1000, 'EX_cpd15468_e0': 1000, 'EX_cpd00277_e0': 1000, 'EX_cpd02357_e0': 1000, 'EX_cspg_ab_rest_e0': 1000, 'EX_cpd03343_e0': 1000, 'EX_cpd00164_e0': 1000, 'EX_cpd00143_e0': 1000, 'EX_cpd00550_e0': 1000, 'EX_cpd00635_e0': 1000, 'EX_cpd00091_e0': 1000, 'EX_cpd00441_e0': 1000, 'EX_cpd00027_e0': 1000, 'EX_cpd03696_e0': 1000, 'EX_hspg_degr_12_e0': 1000, 'EX_cpd00532_e0': 1000, 'EX_isobut_e0': 1000, 'EX_cpd00832_e0': 1000, 'EX_cpd00104_e0': 1000, 'EX_cpd00179_e0': 1000, 'EX_cpd00738_e0': 1000, 'EX_cpd01329_e0': 1000, 'EX_cpd08021_e0': 1000, 'EX_cpd00151_e0': 1000, 'EX_cpd00246_e0': 1000, 'EX_cpd15482_e0': 1000, 'EX_cpd00048_e0': 1000, 'EX_cpd00121_e0': 1000, 'EX_cpd00489_e0': 1000, 'EX_sTn_antigen_e0': 1000, 'EX_cpd00018_e0': 1000, 'EX_cpd00453_e0': 1000, 'EX_s2l2n2m2mn_e0': 1000, 'EX_cpd00161_e0': 1000, 'EX_manttr_e0': 1000, 'EX_cpd00745_e0': 1000, 'EX_cpd03047_e0': 1000, 'EX_cpd03702_e0': 1000, 'EX_sphmyln_bt_e0': 1000, 'EX_stys_e0': 1000, 'EX_Tn_antigen_e0': 1000, 'EX_cpd04095_e0': 1000, 'EX_2fuclac_e0': 1000, 'EX_cpd01757_e0': 1000, 'EX_cpd15604_e0': 1000, 'EX_cpd00307_e0': 1000, 'EX_cpd08928_e0': 1000, 'EX_m2mn_e0': 1000, 'EX_cpd01157_e0': 1000, 'EX_cpd00875_e0': 1000, 'EX_glyasn_e0': 1000, 'EX_indlac_e0': 1000, 'EX_lacnfucpt_e0': 1000, 'EX_manpt_e0': 1000, 'EX_cpd00908_e0': 1000, 'EX_cpd03161_e0': 1000, 'EX_colipap-e_e0': 1000, 'EX_cpd02361_e0': 1000, 'EX_cpd01113_e0': 1000, 'EX_cpd00232_e0': 1000, 'EX_dhps-e_e0': 1000, 'EX_mantr_e0': 1000, 'EX_cpd00149_e0': 1000, 'EX_cpd02090_e0': 1000, 'EX_cpd11587_e0': 1000, 'EX_7ocholate_e0': 1000, 'EX_cpd00137_e0': 1000, 'EX_cpd03454_e0': 1000, 'EX_cpd00029_e0': 1000, 'EX_cpd00609_e0': 1000, 'EX_3fuclac_e0': 1000, 'EX_lmn30_e0': 1000, 'EX_cpd03977_e0': 1000, 'EX_cpd04100_e0': 1000, 'EX_core2_e0': 1000, 'EX_3ddlhept_e0': 1000, 'EX_core7_e0': 1000, 'EX_cpd00130_e0': 1000, 'EX_cpd01217_e0': 1000, 'EX_cpd00054_e0': 1000, 'EX_cpd00009_e0': 1000, 'EX_cpd00073_e0': 1000, 'EX_cpd00280_e0': 1000, 'EX_cpd02500_e0': 1000, 'EX_cpd00162_e0': 1000, 'EX_cpd00652_e0': 1000, 'EX_cpd00050_e0': 1000, 'EX_cpd00221_e0': 1000, 'EX_cpd00207_e0': 1000, 'EX_cpd00116_e0': 1000, 'EX_cpd00080_e0': 1000, 'EX_cpd01024_e0': 1000, 'EX_cpd00085_e0': 1000, 'EX_cpd00141_e0': 1000, 'EX_cpd03105_e0': 1000, 'EX_apio_D_e0': 1000, 'EX_cpd00059_e0': 1000, 'EX_cpd00653_e0': 1000, 'EX_leuleu_e0': 1000, 'EX_cpd00038_e0': 1000, 'EX_cpd00065_e0': 1000, 'EX_cpd00015_e0': 1000, 'EX_cpd00348_e0': 1000, 'EX_cpd00025_e0': 1000, 'EX_phearg_e0': 1000, 'EX_cpd00374_e0': 1000, 'EX_cpd06201_e0': 1000, 'EX_mqn11_e0': 1000, 'EX_cpd00105_e0': 1000, 'EX_cpd08305_e0': 1000, 'EX_cpd00067_e0': 1000, 'EX_alaasp_e0': 1000, 'EX_cpd11591_e0': 1000, 'EX_cpd01405_e0': 1000, 'EX_cpd00438_e0': 1000, 'EX_cpd15392_e0': 1000, 'EX_12ethd_e0': 1000, 'EX_cpd00751_e0': 1000, 'EX_cpd01399_e0': 1000, 'EX_cpd01981_e0': 1000, 'EX_arabinan101_e0': 1000, 'EX_cpd00138_e0': 1000, 'EX_cpd00055_e0': 1000, 'EX_cpd03294_e0': 1000, 'EX_cpd01017_e0': 1000, 'EX_cpd01262_e0': 1000, 'EX_cpd01171_e0': 1000, 'EX_cpd11583_e0': 1000, 'EX_cpd00314_e0': 1000, 'EX_cpd00811_e0': 1000, 'EX_s2l2n2m2m_e0': 1000, 'EX_cpd00157_e0': 1000, 'EX_cspg_c_e0': 1000, 'EX_cpd09878_e0': 1000, 'EX_cpd00386_e0': 1000, 'EX_cpd12843_e0': 1000, 'EX_cpd00870_e0': 1000, 'EX_cpd00311_e0': 1000, 'EX_cpd00053_e0': 1000, 'EX_pe_cer1_bt_e0': 1000, 'EX_cpd00396_e0': 1000, 'EX_cpd00588_e0': 1000, 'EX_cpd00114_e0': 1000, 'EX_ha_e0': 1000, 'EX_hspg_degr_13_e0': 1000, 'EX_ha_deg1_e0': 1000, 'EX_cpd00722_e0': 1000, 'EX_cpd11640_e0': 1000, 'EX_cpd00209_e0': 1000, 'EX_cpd09252_e0': 1000, 'EX_cpd00082_e0': 1000, 'EX_hspg_degr_2_e0': 1000, 'EX_cpd11580_e0': 1000, 'EX_cpd00028_e0': 1000, 'EX_gncore1_e0': 1000, 'EX_cpd15457_e0': 1000, 'EX_cpd03048_e0': 1000, 'EX_cpd00156_e0': 1000, 'EX_cpd25960_e0': 1000, 'EX_cpd00254_e0': 1000, 'EX_cpd00419_e0': 1000, 'EX_cpd00079_e0': 1000, 'EX_cpd00182_e0': 1000, 'EX_glycogen1500_e0': 1000, 'EX_cpd15385_e0': 1000, 'EX_cpd00218_e0': 1000, 'EX_cpd00367_e0': 1000, 'EX_oligofru4_e0': 1000, 'EX_mn_e0': 1000, 'EX_cpd00393_e0': 1000, 'EX_cpd01015_e0': 1000, 'EX_amannan140_e0': 1000, 'EX_cpd00382_e0': 1000, 'EX_cpd00041_e0': 1000, 'EX_cpd00111_e0': 1000, 'EX_cspg_a_e0': 1000, 'EX_cpd00071_e0': 1000, 'EX_cpd15559_e0': 1000, 'EX_cpd15494_e0': 1000, 'EX_cpd15387_e0': 1000, 'EX_cpd00175_e0': 1000, 'EX_cpd04273_e0': 1000, 'EX_cpd00781_e0': 1000, 'EX_cspg_b_degr_e0': 1000, 'EX_cpd03847_e0': 1000, 'EX_leugly_e0': 1000, 'EX_argarg_e0': 1000, 'EX_cpd00492_e0': 1000}\n"
     ]
    }
   ],
   "source": [
    "display(com_model.optimize().objective_value)\n",
    "print(com_model.medium)\n",
    "# minimal_media = cobra.medium.minimal_medium(com_model, 0.1, minimize_components=True)"
   ]
  },
  {
   "cell_type": "code",
   "execution_count": null,
   "id": "b1a2c895-3cd1-475f-8fe2-33a6b34df422",
   "metadata": {},
   "outputs": [
    {
     "name": "stdout",
     "output_type": "stream",
     "text": [
      "CPU times: total: 0 ns\n",
      "Wall time: 3 ms\n",
      "done defining the biomass reaction: 0.0\n"
     ]
    }
   ],
   "source": [
    "%run MSsmetana2.py\n",
    "%time smtna = Smetana([model1, model2], com_model, media)\n",
    "%time mus = smtna.mu_score()\n",
    "print(mus)"
   ]
  },
  {
   "cell_type": "code",
   "execution_count": null,
   "id": "dab4f715-fba9-4113-8857-aa1a55c93b07",
   "metadata": {},
   "outputs": [],
   "source": [
    "compartments = set()\n",
    "for met in com_model.metabolites:\n",
    "    compartments.add(met.compartment)\n",
    "display(compartments)"
   ]
  },
  {
   "cell_type": "markdown",
   "id": "6e99ec85-f7ca-47a7-badb-55b3923eabf2",
   "metadata": {},
   "source": [
    "### load the closest recapitulation of the Supporting Information example"
   ]
  },
  {
   "cell_type": "code",
   "execution_count": null,
   "id": "1186f3dc-e16c-4920-ae32-8d2400505fad",
   "metadata": {},
   "outputs": [],
   "source": [
    "# model_paths = [\n",
    "#     \"76994/2/2\",    # iML1515\n",
    "#     \"30650/16/3\",   # iSB1139\n",
    "#     \"122814/48/1\",  # M. barkeri Fusaro\n",
    "#     \"122814/45/1\",  # B. subtilis\n",
    "#     \"122814/42/1\",  # A. baylyi ADP1\n",
    "#     \"122814/39/1\",  # M. pneumoniae M129\n",
    "#     \"122814/36/1\",  # L. lactis 1403\n",
    "#     \"122814/33/1\",  # S. cerevisiae 288C\n",
    "#     \"122814/30/1\",  # H. pylori 26695\n",
    "#     \"122814/27/1\",  # P. putida KT2440\n",
    "#     \"122814/24/1\",  # E. coli K12 MG1655\n",
    "#     \"122814/21/1\",  # P. aeruginosa PA17\n",
    "#     \"122814/16/1\",  # M. genitalium G37\n",
    "#     \"122814/15/1\",  # S. auerus N315   \n",
    "#     ]\n",
    "# models = []\n",
    "# for path in model_paths:\n",
    "#     models.append(kbase_api.get_from_ws(path))"
   ]
  },
  {
   "cell_type": "code",
   "execution_count": null,
   "id": "6048ed21-8bc7-448e-b8e5-a8027ff5dd97",
   "metadata": {
    "tags": []
   },
   "outputs": [],
   "source": [
    "from modelseedpy.community.mscommunity import MSCommunity\n",
    "community, biomass_indices = MSCommunity.build_from_species_models(models, cobra_model=True)\n",
    "display(community.optimize().objective_value)"
   ]
  },
  {
   "cell_type": "code",
   "execution_count": null,
   "id": "3bbcee37-1e21-4b77-9c2b-f074ee266e0d",
   "metadata": {
    "tags": []
   },
   "outputs": [],
   "source": [
    "from collections import Counter\n",
    "counter = Counter([rxn.removeprefix(\"EX_\") for rxn in minimal_media.index])\n",
    "ex_rxns = {ex_rxn.id.removeprefix(\"EX_\"): met for ex_rxn in models[1].exchanges for met in ex_rxn.metabolites}\n",
    "scores = {met: counter[ex] / len(minimal_media) for ex, met in ex_rxns.items()}\n",
    "display(scores)"
   ]
  },
  {
   "cell_type": "markdown",
   "id": "8449e45c-583d-497a-894a-a70aa14fe14c",
   "metadata": {},
   "source": [
    "# calculate SMETANA scores"
   ]
  },
  {
   "cell_type": "markdown",
   "id": "f21bda45-9e2b-44f5-a12f-9c1beebc51cf",
   "metadata": {},
   "source": [
    "### SCS"
   ]
  },
  {
   "cell_type": "code",
   "execution_count": null,
   "id": "eec28a77-2325-4c3e-87c3-2e687001aadc",
   "metadata": {
    "tags": []
   },
   "outputs": [],
   "source": [
    "# %run ../../../../modelseedpy/modelseedpy/community/mscommunity.py\n",
    "# community, indices = MSCommunity.build_from_species_models(models)"
   ]
  },
  {
   "cell_type": "code",
   "execution_count": null,
   "id": "2474cf30-aec0-4db5-b936-33223cfb1f5f",
   "metadata": {
    "tags": []
   },
   "outputs": [],
   "source": [
    "# for reaction in smtna.community.reactions:\n",
    "#     print(dir(reaction))\n",
    "#     break\n",
    "# for content in dir(smtna.community.problem):\n",
    "#     if 'g' not in content:\n",
    "#         print(content)"
   ]
  },
  {
   "cell_type": "code",
   "execution_count": null,
   "id": "a8b43f9f-4aaa-47b5-8e0a-be87695eb269",
   "metadata": {},
   "outputs": [],
   "source": [
    "%run MSsmetana.py\n",
    "smtna = Smetana(models, media=media)\n",
    "scs = smtna.sc_score()\n",
    "print(scs)"
   ]
  },
  {
   "cell_type": "markdown",
   "id": "eccc82d0-1929-43ad-8193-fed60810e477",
   "metadata": {},
   "source": [
    "### MUS"
   ]
  },
  {
   "cell_type": "code",
   "execution_count": null,
   "id": "4a5d692f-7f83-4df7-8f6d-db45201eb53f",
   "metadata": {},
   "outputs": [],
   "source": [
    "%run MSsmetana2.py\n",
    "smtna = Smetana(models, media=media)\n",
    "mus = smtna.mu_score()\n",
    "print(mus)"
   ]
  },
  {
   "cell_type": "markdown",
   "id": "0c886275-699f-43e7-8a49-50262bfc9118",
   "metadata": {},
   "source": [
    "### MPS"
   ]
  },
  {
   "cell_type": "code",
   "execution_count": null,
   "id": "afa8af36-96c6-4523-8cc1-f471f9fbdafa",
   "metadata": {},
   "outputs": [],
   "source": [
    "%run MSsmetana.py\n",
    "smtna = Smetana(models, media=None)\n",
    "mps = smtna.mp_score()\n",
    "print(mps)"
   ]
  },
  {
   "cell_type": "markdown",
   "id": "e9290d07-0555-4fe3-bdc1-5665055809ec",
   "metadata": {},
   "source": [
    "### MIP"
   ]
  },
  {
   "cell_type": "code",
   "execution_count": null,
   "id": "d972170f-f25e-4671-a6e5-b1a2fc615cdc",
   "metadata": {},
   "outputs": [],
   "source": [
    "%run MSsmetana.py\n",
    "smtna = Smetana(models, media=None)\n",
    "mip = smtna.mip_score()\n",
    "print(mip)"
   ]
  },
  {
   "cell_type": "markdown",
   "id": "a2f547da-9a04-4fd6-a591-bd882439bca6",
   "metadata": {},
   "source": [
    "### MRO"
   ]
  },
  {
   "cell_type": "code",
   "execution_count": null,
   "id": "66f5b3c9-cb90-42af-9bb1-77baeba948b4",
   "metadata": {},
   "outputs": [],
   "source": [
    "%run MSsmetana.py\n",
    "smtna = Smetana(models, media=None)\n",
    "mro = smtna.mro_score()\n",
    "print(mro)"
   ]
  },
  {
   "cell_type": "markdown",
   "id": "812158b3-ec92-4c72-a5c4-722317e97f01",
   "metadata": {},
   "source": [
    "### SMETANA"
   ]
  },
  {
   "cell_type": "code",
   "execution_count": null,
   "id": "08258c8c-77b1-408c-8bb5-757fb40380d7",
   "metadata": {},
   "outputs": [],
   "source": [
    "%run MSsmetana.py\n",
    "smtna = Smetana(models, media=None)\n",
    "sms = smtna.smetana_score()\n",
    "print(sms)"
   ]
  },
  {
   "cell_type": "markdown",
   "id": "c19a04f0-4f58-416a-971d-3672c3fbf1a5",
   "metadata": {},
   "source": [
    "# Minimal media"
   ]
  },
  {
   "cell_type": "code",
   "execution_count": null,
   "id": "90fd830c-694d-423a-9344-726605999918",
   "metadata": {},
   "outputs": [],
   "source": [
    "%run MSsmetana.py\n",
    "\n",
    "# define the environment path \n",
    "import os\n",
    "local_cobrakbase_path = os.path.join('C:', 'Users', 'Andrew Freiburger','Documents','Argonne','cobrakbase')\n",
    "os.environ[\"HOME\"] = local_cobrakbase_path\n",
    "\n",
    "# import the models\n",
    "import cobrakbase\n",
    "token = 'XA5SZKL5HHKOI6O3C7PPIWUIO5S6JCJ7'\n",
    "kbase_api = cobrakbase.KBaseAPI(token)\n",
    "\n",
    "\n",
    "model = kbase_api.get_from_ws(\"76994/2/2\")\n",
    "# for model in models:\n",
    "#     results, sol = Smetana.minimal_medium(model)\n",
    "results, sol = Smetana.minimal_medium(model)\n",
    "print(results, sol)"
   ]
  },
  {
   "cell_type": "markdown",
   "id": "5ada4fa9-33aa-43e0-aed8-f2f4da058863",
   "metadata": {
    "tags": []
   },
   "source": [
    "# recapitulate the SI example community"
   ]
  },
  {
   "cell_type": "code",
   "execution_count": null,
   "id": "7d1d7cb4-8e1c-44da-8cf3-bf4b3004f328",
   "metadata": {},
   "outputs": [],
   "source": []
  }
 ],
 "metadata": {
  "kernelspec": {
   "display_name": "Python 3 (ipykernel)",
   "language": "python",
   "name": "python3"
  },
  "language_info": {
   "codemirror_mode": {
    "name": "ipython",
    "version": 3
   },
   "file_extension": ".py",
   "mimetype": "text/x-python",
   "name": "python",
   "nbconvert_exporter": "python",
   "pygments_lexer": "ipython3",
   "version": "3.9.12"
  }
 },
 "nbformat": 4,
 "nbformat_minor": 5
}
