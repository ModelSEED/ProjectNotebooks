{
 "cells": [
  {
   "cell_type": "markdown",
   "id": "eec88526-d579-4c9f-a52b-52ff03f094e6",
   "metadata": {},
   "source": [
    "# load a model"
   ]
  },
  {
   "cell_type": "code",
   "execution_count": 1,
   "id": "48c02ea2-795c-4490-97a2-ec9c3e099d30",
   "metadata": {},
   "outputs": [
    {
     "name": "stderr",
     "output_type": "stream",
     "text": [
      "C:\\Users\\Andrew Freiburger\\AppData\\Local\\Programs\\Python\\Python39\\lib\\site-packages\\requests\\__init__.py:102: RequestsDependencyWarning: urllib3 (1.26.9) or chardet (5.0.0)/charset_normalizer (2.0.12) doesn't match a supported version!\n",
      "  warnings.warn(\"urllib3 ({}) or chardet ({})/charset_normalizer ({}) doesn't match a supported \"\n"
     ]
    },
    {
     "name": "stdout",
     "output_type": "stream",
     "text": [
      "cobrakbase 0.2.8\n"
     ]
    }
   ],
   "source": [
    "# define the environment path \n",
    "import os\n",
    "local_cobrakbase_path = os.path.join('C:', 'Users', 'Andrew Freiburger','Documents','Argonne','cobrakbase')\n",
    "os.environ[\"HOME\"] = local_cobrakbase_path\n",
    "\n",
    "# import the models\n",
    "import cobrakbase\n",
    "token = 'XA5SZKL5HHKOI6O3C7PPIWUIO5S6JCJ7'\n",
    "kbase_api = cobrakbase.KBaseAPI(token)"
   ]
  },
  {
   "cell_type": "markdown",
   "id": "6e99ec85-f7ca-47a7-badb-55b3923eabf2",
   "metadata": {},
   "source": [
    "### load the closest recapitulation of the Supporting Information example"
   ]
  },
  {
   "cell_type": "code",
   "execution_count": 2,
   "id": "1186f3dc-e16c-4920-ae32-8d2400505fad",
   "metadata": {},
   "outputs": [
    {
     "name": "stderr",
     "output_type": "stream",
     "text": [
      "WARNING:cobrakbase.core.kbasefba.fbamodel_builder:unable to add sink for [cpd15302_c0]: not found\n",
      "WARNING:cobrakbase.core.kbasefba.fbamodel_builder:unable to add sink for [cpd11416_c0]: not found\n",
      "WARNING:cobrakbase.core.kbasefba.fbamodel_builder:unable to add sink for [cpd15302_c0]: not found\n",
      "WARNING:cobrakbase.core.kbasefba.fbamodel_builder:unable to add sink for [cpd15302_c0]: not found\n",
      "WARNING:cobrakbase.core.kbasefba.fbamodel_builder:unable to add sink for [cpd02701_c0]: not found\n",
      "WARNING:cobrakbase.core.kbasefba.fbamodel_builder:unable to add sink for [cpd15302_c0]: not found\n",
      "WARNING:cobrakbase.core.kbasefba.fbamodel_builder:unable to add sink for [cpd02701_c0]: not found\n",
      "WARNING:cobrakbase.core.kbasefba.fbamodel_builder:unable to add sink for [cpd15302_c0]: not found\n",
      "WARNING:cobrakbase.core.kbasefba.fbamodel_builder:unable to add sink for [cpd02701_c0]: not found\n",
      "WARNING:cobrakbase.core.kbasefba.fbamodel_builder:unable to add sink for [cpd15302_c0]: not found\n",
      "WARNING:cobrakbase.core.kbasefba.fbamodel_builder:unable to add sink for [cpd02701_c0]: not found\n",
      "WARNING:cobrakbase.core.kbasefba.fbamodel_builder:unable to add sink for [cpd15302_c0]: not found\n",
      "WARNING:cobrakbase.core.kbasefba.fbamodel_builder:unable to add sink for [cpd02701_c0]: not found\n",
      "WARNING:cobrakbase.core.kbasefba.fbamodel_builder:unable to add sink for [cpd15302_c0]: not found\n",
      "WARNING:cobrakbase.core.kbasefba.fbamodel_builder:unable to add sink for [cpd02701_c0]: not found\n",
      "WARNING:cobrakbase.core.kbasefba.fbamodel_builder:unable to add sink for [cpd15302_c0]: not found\n",
      "WARNING:cobrakbase.core.kbasefba.fbamodel_builder:unable to add sink for [cpd02701_c0]: not found\n",
      "WARNING:cobrakbase.core.kbasefba.fbamodel_builder:unable to add sink for [cpd15302_c0]: not found\n",
      "WARNING:cobrakbase.core.kbasefba.fbamodel_builder:unable to add sink for [cpd02701_c0]: not found\n",
      "WARNING:cobrakbase.core.kbasefba.fbamodel_builder:unable to add sink for [cpd15302_c0]: not found\n",
      "WARNING:cobrakbase.core.kbasefba.fbamodel_builder:unable to add sink for [cpd02701_c0]: not found\n",
      "WARNING:cobrakbase.core.kbasefba.fbamodel_builder:unable to add sink for [cpd15302_c0]: not found\n",
      "WARNING:cobrakbase.core.kbasefba.fbamodel_builder:unable to add sink for [cpd02701_c0]: not found\n",
      "WARNING:cobrakbase.core.kbasefba.fbamodel_builder:unable to add sink for [cpd15302_c0]: not found\n",
      "WARNING:cobrakbase.core.kbasefba.fbamodel_builder:unable to add sink for [cpd02701_c0]: not found\n",
      "WARNING:cobrakbase.core.kbasefba.fbamodel_builder:unable to add sink for [cpd15302_c0]: not found\n",
      "WARNING:cobrakbase.core.kbasefba.fbamodel_builder:unable to add sink for [cpd02701_c0]: not found\n"
     ]
    }
   ],
   "source": [
    "# define the environment path \n",
    "import os\n",
    "local_cobrakbase_path = os.path.join('C:', 'Users', 'Andrew Freiburger','Documents','Argonne','cobrakbase')\n",
    "os.environ[\"HOME\"] = local_cobrakbase_path\n",
    "\n",
    "# import the models\n",
    "import cobrakbase\n",
    "token = 'XA5SZKL5HHKOI6O3C7PPIWUIO5S6JCJ7'\n",
    "kbase_api = cobrakbase.KBaseAPI(token)\n",
    "model_paths = [\n",
    "    \"76994/2/2\",    # iML1515\n",
    "    \"30650/16/3\",   # iSB1139\n",
    "    \"122814/48/1\",  # M. barkeri Fusaro\n",
    "    \"122814/45/1\",  # B. subtilis\n",
    "    \"122814/42/1\",  # A. baylyi ADP1\n",
    "    \"122814/39/1\",  # M. pneumoniae M129\n",
    "    \"122814/36/1\",  # L. lactis 1403\n",
    "    \"122814/33/1\",  # S. cerevisiae 288C\n",
    "    \"122814/30/1\",  # H. pylori 26695\n",
    "    \"122814/27/1\",  # P. putida KT2440\n",
    "    \"122814/24/1\",  # E. coli K12 MG1655\n",
    "    \"122814/21/1\",  # P. aeruginosa PA17\n",
    "    \"122814/16/1\",  # M. genitalium G37\n",
    "    \"122814/15/1\",  # S. auerus N315   \n",
    "    ]\n",
    "models = []\n",
    "for path in model_paths:\n",
    "    models.append(kbase_api.get_from_ws(path))"
   ]
  },
  {
   "cell_type": "markdown",
   "id": "8449e45c-583d-497a-894a-a70aa14fe14c",
   "metadata": {},
   "source": [
    "# calculate SMETANA scores"
   ]
  },
  {
   "cell_type": "markdown",
   "id": "f21bda45-9e2b-44f5-a12f-9c1beebc51cf",
   "metadata": {},
   "source": [
    "### SCS"
   ]
  },
  {
   "cell_type": "code",
   "execution_count": 3,
   "id": "eec28a77-2325-4c3e-87c3-2e687001aadc",
   "metadata": {
    "tags": []
   },
   "outputs": [],
   "source": [
    "# %run ../../../../modelseedpy/modelseedpy/community/mscommunity.py\n",
    "# community, indices = MSCommunity.build_from_species_models(models)"
   ]
  },
  {
   "cell_type": "code",
   "execution_count": 16,
   "id": "2474cf30-aec0-4db5-b936-33223cfb1f5f",
   "metadata": {
    "collapsed": true,
    "jupyter": {
     "outputs_hidden": true
    },
    "tags": []
   },
   "outputs": [
    {
     "name": "stdout",
     "output_type": "stream",
     "text": [
      "Constraint\n",
      "GLP_BV\n",
      "GLP_CV\n",
      "GLP_DB\n",
      "GLP_ETMLIM\n",
      "GLP_FEAS\n",
      "GLP_FR\n",
      "GLP_FX\n",
      "GLP_INFEAS\n",
      "GLP_IV\n",
      "GLP_LO\n",
      "GLP_MAX\n",
      "GLP_MIN\n",
      "GLP_MSG_ALL\n",
      "GLP_MSG_ERR\n",
      "GLP_MSG_OFF\n",
      "GLP_MSG_ON\n",
      "GLP_NOFEAS\n",
      "GLP_OFF\n",
      "GLP_ON\n",
      "GLP_OPT\n",
      "GLP_SF_AUTO\n",
      "GLP_UNBND\n",
      "GLP_UNDEF\n",
      "GLP_UP\n",
      "Model\n",
      "Objective\n",
      "TemporaryFilename\n",
      "Variable\n",
      "_GLPK_STATUS_TO_STATUS\n",
      "_GLPK_VTYPE_TO_VTYPE\n",
      "_VTYPE_TO_GLPK_VTYPE\n",
      "__builtins__\n",
      "__cached__\n",
      "__doc__\n",
      "__file__\n",
      "__loader__\n",
      "__name__\n",
      "__spec__\n",
      "doubleArray\n",
      "intArray\n",
      "interface\n",
      "parse_optimization_expression\n",
      "six\n",
      "symbolics\n"
     ]
    }
   ],
   "source": [
    "# for reaction in smtna.community.reactions:\n",
    "#     print(dir(reaction))\n",
    "#     break\n",
    "# for content in dir(smtna.community.problem):\n",
    "#     if 'g' not in content:\n",
    "#         print(content)"
   ]
  },
  {
   "cell_type": "code",
   "execution_count": 24,
   "id": "a8b43f9f-4aaa-47b5-8e0a-be87695eb269",
   "metadata": {},
   "outputs": [
    {
     "name": "stdout",
     "output_type": "stream",
     "text": [
      "['bio0', 'bio2']\n",
      "0 iML1515\n",
      "[1]\n",
      "bio0 2\n",
      "[1, 0]\n",
      "bio2 2\n",
      "['bio4']\n",
      "1 iSB1139\n",
      "cpd11416_c1 iSB1139\n",
      "[1, 0, 2]\n",
      "bio4 2\n",
      "['bio5']\n",
      "2 m_barkeriFusaro\n",
      "cpd11416_c2 m_barkeriFusaro\n",
      "[1, 0, 2, 4]\n",
      "bio5 2\n",
      "['bio6']\n",
      "3 b_subtilis168\n",
      "cpd11416_c3 b_subtilis168\n",
      "[1, 0, 2, 4, 5]\n",
      "bio6 2\n",
      "['bio7']\n",
      "4 a_baylyiADP1\n",
      "cpd11416_c4 a_baylyiADP1\n",
      "[1, 0, 2, 4, 5, 6]\n",
      "bio7 2\n",
      "['bio8']\n",
      "5 m_pneumoniaeM129\n",
      "cpd11416_c5 m_pneumoniaeM129\n",
      "[1, 0, 2, 4, 5, 6, 7]\n",
      "bio8 2\n",
      "['bio9']\n",
      "6 l_lactisIL1403\n",
      "cpd11416_c6 l_lactisIL1403\n",
      "[1, 0, 2, 4, 5, 6, 7, 8]\n",
      "bio9 2\n",
      "['bio10']\n",
      "7 s_cerevisiaeS288C\n",
      "cpd11416_c7 s_cerevisiaeS288C\n",
      "[1, 0, 2, 4, 5, 6, 7, 8, 9]\n",
      "bio10 2\n",
      "['bio11']\n",
      "8 h_pylori26695\n",
      "cpd11416_c8 h_pylori26695\n",
      "[1, 0, 2, 4, 5, 6, 7, 8, 9, 10]\n",
      "bio11 2\n",
      "['bio12']\n",
      "9 p_putidaKT2440\n",
      "cpd11416_c9 p_putidaKT2440\n",
      "[1, 0, 2, 4, 5, 6, 7, 8, 9, 10, 11]\n",
      "bio12 2\n",
      "['bio13']\n",
      "10 e_coliK12MG1655_1\n",
      "cpd11416_c10 e_coliK12MG1655_1\n",
      "[1, 0, 2, 4, 5, 6, 7, 8, 9, 10, 11, 12]\n",
      "bio13 2\n",
      "['bio14']\n",
      "11 p_aeruginosa_PA17\n",
      "cpd11416_c11 p_aeruginosa_PA17\n",
      "[1, 0, 2, 4, 5, 6, 7, 8, 9, 10, 11, 12, 13]\n",
      "bio14 2\n",
      "['bio15']\n",
      "12 m_genitaliumG37\n",
      "cpd11416_c12 m_genitaliumG37\n",
      "[1, 0, 2, 4, 5, 6, 7, 8, 9, 10, 11, 12, 13, 14]\n",
      "bio15 2\n",
      "['bio16']\n",
      "13 s_auerusN315\n",
      "cpd11416_c13 s_auerusN315\n",
      "[1, 0, 2, 4, 5, 6, 7, 8, 9, 10, 11, 12, 13, 14, 15]\n",
      "bio16 2\n"
     ]
    },
    {
     "ename": "ContainerAlreadyContains",
     "evalue": "Container '<optlang.container.Container object at 0x000001F6A49CE8B0>' already contains an object with name 'EX_cpd00224_e0'.",
     "output_type": "error",
     "traceback": [
      "\u001b[1;31m---------------------------------------------------------------------------\u001b[0m",
      "\u001b[1;31mContainerAlreadyContains\u001b[0m                  Traceback (most recent call last)",
      "Input \u001b[1;32mIn [24]\u001b[0m, in \u001b[0;36m<cell line: 3>\u001b[1;34m()\u001b[0m\n\u001b[0;32m      1\u001b[0m get_ipython()\u001b[38;5;241m.\u001b[39mrun_line_magic(\u001b[38;5;124m'\u001b[39m\u001b[38;5;124mrun\u001b[39m\u001b[38;5;124m'\u001b[39m, \u001b[38;5;124m'\u001b[39m\u001b[38;5;124mMSsmetana.py\u001b[39m\u001b[38;5;124m'\u001b[39m)\n\u001b[0;32m      2\u001b[0m smtna \u001b[38;5;241m=\u001b[39m Smetana(models, media\u001b[38;5;241m=\u001b[39m\u001b[38;5;28;01mNone\u001b[39;00m)\n\u001b[1;32m----> 3\u001b[0m scs \u001b[38;5;241m=\u001b[39m \u001b[43msmtna\u001b[49m\u001b[38;5;241;43m.\u001b[39;49m\u001b[43msc_score\u001b[49m\u001b[43m(\u001b[49m\u001b[43m)\u001b[49m\n\u001b[0;32m      4\u001b[0m \u001b[38;5;28mprint\u001b[39m(scs)\n",
      "File \u001b[1;32m~\\Documents\\Argonne\\ProjectNotebooks\\CommunityModeling\\reframed\\smetana\\MSsmetana.py:48\u001b[0m, in \u001b[0;36mSmetana.sc_score\u001b[1;34m(self, min_growth, n_solutions, abstol)\u001b[0m\n\u001b[0;32m     46\u001b[0m             ub \u001b[38;5;241m=\u001b[39m Constraint(rxn\u001b[38;5;241m.\u001b[39mflux_expression \u001b[38;5;241m+\u001b[39m \u001b[38;5;241m1000\u001b[39m\u001b[38;5;241m*\u001b[39mvariables[model\u001b[38;5;241m.\u001b[39mid], name\u001b[38;5;241m=\u001b[39m\u001b[38;5;124mf\u001b[39m\u001b[38;5;124m\"\u001b[39m\u001b[38;5;124mc_\u001b[39m\u001b[38;5;132;01m{\u001b[39;00mrxn\u001b[38;5;241m.\u001b[39mid\u001b[38;5;132;01m}\u001b[39;00m\u001b[38;5;124m_ub\u001b[39m\u001b[38;5;124m\"\u001b[39m, lb\u001b[38;5;241m=\u001b[39m\u001b[38;5;241m0\u001b[39m)\n\u001b[0;32m     47\u001b[0m             constraints\u001b[38;5;241m.\u001b[39mextend([lb, ub])\n\u001b[1;32m---> 48\u001b[0m \u001b[38;5;28mself\u001b[39m\u001b[38;5;241m.\u001b[39mcommunity \u001b[38;5;241m=\u001b[39m \u001b[38;5;28;43mself\u001b[39;49m\u001b[38;5;241;43m.\u001b[39;49m\u001b[43m_add_vars_cons\u001b[49m\u001b[43m(\u001b[49m\u001b[38;5;28;43mself\u001b[39;49m\u001b[38;5;241;43m.\u001b[39;49m\u001b[43mcommunity\u001b[49m\u001b[43m,\u001b[49m\u001b[43m \u001b[49m\u001b[38;5;28;43mlist\u001b[39;49m\u001b[43m(\u001b[49m\u001b[43mvariables\u001b[49m\u001b[38;5;241;43m.\u001b[39;49m\u001b[43mvalues\u001b[49m\u001b[43m(\u001b[49m\u001b[43m)\u001b[49m\u001b[43m)\u001b[49m\u001b[38;5;241;43m+\u001b[39;49m\u001b[43mconstraints\u001b[49m\u001b[43m)\u001b[49m\n\u001b[0;32m     50\u001b[0m \u001b[38;5;66;03m# calculate the SCS\u001b[39;00m\n\u001b[0;32m     51\u001b[0m scores \u001b[38;5;241m=\u001b[39m {}\n",
      "File \u001b[1;32m~\\Documents\\Argonne\\ProjectNotebooks\\CommunityModeling\\reframed\\smetana\\MSsmetana.py:26\u001b[0m, in \u001b[0;36mSmetana._add_vars_cons\u001b[1;34m(self, model, vars_cons)\u001b[0m\n\u001b[0;32m     24\u001b[0m \u001b[38;5;28;01mdef\u001b[39;00m \u001b[38;5;21m_add_vars_cons\u001b[39m(\u001b[38;5;28mself\u001b[39m, model, vars_cons):\n\u001b[0;32m     25\u001b[0m     model\u001b[38;5;241m.\u001b[39madd_cons_vars(vars_cons)\n\u001b[1;32m---> 26\u001b[0m     \u001b[43mmodel\u001b[49m\u001b[38;5;241;43m.\u001b[39;49m\u001b[43msolver\u001b[49m\u001b[38;5;241;43m.\u001b[39;49m\u001b[43mupdate\u001b[49m\u001b[43m(\u001b[49m\u001b[43m)\u001b[49m\n\u001b[0;32m     27\u001b[0m     \u001b[38;5;28;01mreturn\u001b[39;00m model\n",
      "File \u001b[1;32m~\\AppData\\Local\\Programs\\Python\\Python39\\lib\\site-packages\\optlang\\interface.py:1474\u001b[0m, in \u001b[0;36mModel.update\u001b[1;34m(self, callback)\u001b[0m\n\u001b[0;32m   1472\u001b[0m add_constr \u001b[38;5;241m=\u001b[39m \u001b[38;5;28mself\u001b[39m\u001b[38;5;241m.\u001b[39m_pending_modifications\u001b[38;5;241m.\u001b[39madd_constr\n\u001b[0;32m   1473\u001b[0m \u001b[38;5;28;01mif\u001b[39;00m \u001b[38;5;28mlen\u001b[39m(add_constr) \u001b[38;5;241m>\u001b[39m \u001b[38;5;241m0\u001b[39m:\n\u001b[1;32m-> 1474\u001b[0m     \u001b[38;5;28;43mself\u001b[39;49m\u001b[38;5;241;43m.\u001b[39;49m\u001b[43m_add_constraints\u001b[49m\u001b[43m(\u001b[49m\u001b[43madd_constr\u001b[49m\u001b[43m)\u001b[49m\n\u001b[0;32m   1475\u001b[0m     \u001b[38;5;28mself\u001b[39m\u001b[38;5;241m.\u001b[39m_pending_modifications\u001b[38;5;241m.\u001b[39madd_constr \u001b[38;5;241m=\u001b[39m []\n\u001b[0;32m   1477\u001b[0m add_constr_sloppy \u001b[38;5;241m=\u001b[39m \u001b[38;5;28mself\u001b[39m\u001b[38;5;241m.\u001b[39m_pending_modifications\u001b[38;5;241m.\u001b[39madd_constr_sloppy\n",
      "File \u001b[1;32m~\\AppData\\Local\\Programs\\Python\\Python39\\lib\\site-packages\\optlang\\glpk_interface.py:761\u001b[0m, in \u001b[0;36mModel._add_constraints\u001b[1;34m(self, constraints, sloppy)\u001b[0m\n\u001b[0;32m    760\u001b[0m \u001b[38;5;28;01mdef\u001b[39;00m \u001b[38;5;21m_add_constraints\u001b[39m(\u001b[38;5;28mself\u001b[39m, constraints, sloppy\u001b[38;5;241m=\u001b[39m\u001b[38;5;28;01mFalse\u001b[39;00m):\n\u001b[1;32m--> 761\u001b[0m     \u001b[38;5;28;43msuper\u001b[39;49m\u001b[43m(\u001b[49m\u001b[43mModel\u001b[49m\u001b[43m,\u001b[49m\u001b[43m \u001b[49m\u001b[38;5;28;43mself\u001b[39;49m\u001b[43m)\u001b[49m\u001b[38;5;241;43m.\u001b[39;49m\u001b[43m_add_constraints\u001b[49m\u001b[43m(\u001b[49m\u001b[43mconstraints\u001b[49m\u001b[43m,\u001b[49m\u001b[43m \u001b[49m\u001b[43msloppy\u001b[49m\u001b[38;5;241;43m=\u001b[39;49m\u001b[43msloppy\u001b[49m\u001b[43m)\u001b[49m\n\u001b[0;32m    762\u001b[0m     \u001b[38;5;28;01mfor\u001b[39;00m constraint \u001b[38;5;129;01min\u001b[39;00m constraints:\n\u001b[0;32m    763\u001b[0m         constraint\u001b[38;5;241m.\u001b[39m_problem \u001b[38;5;241m=\u001b[39m \u001b[38;5;28;01mNone\u001b[39;00m  \u001b[38;5;66;03m# This needs to be done in order to not trigger constraint._get_expression()\u001b[39;00m\n",
      "File \u001b[1;32m~\\AppData\\Local\\Programs\\Python\\Python39\\lib\\site-packages\\optlang\\interface.py:1577\u001b[0m, in \u001b[0;36mModel._add_constraints\u001b[1;34m(self, constraints, sloppy)\u001b[0m\n\u001b[0;32m   1575\u001b[0m missing_vars \u001b[38;5;241m=\u001b[39m [var \u001b[38;5;28;01mfor\u001b[39;00m var \u001b[38;5;129;01min\u001b[39;00m variables \u001b[38;5;28;01mif\u001b[39;00m var\u001b[38;5;241m.\u001b[39mproblem \u001b[38;5;129;01mis\u001b[39;00m \u001b[38;5;129;01mnot\u001b[39;00m \u001b[38;5;28mself\u001b[39m]\n\u001b[0;32m   1576\u001b[0m \u001b[38;5;28;01mif\u001b[39;00m \u001b[38;5;28mlen\u001b[39m(missing_vars) \u001b[38;5;241m>\u001b[39m \u001b[38;5;241m0\u001b[39m:\n\u001b[1;32m-> 1577\u001b[0m     \u001b[38;5;28;43mself\u001b[39;49m\u001b[38;5;241;43m.\u001b[39;49m\u001b[43m_add_variables\u001b[49m\u001b[43m(\u001b[49m\u001b[43mmissing_vars\u001b[49m\u001b[43m)\u001b[49m\n\u001b[0;32m   1578\u001b[0m \u001b[38;5;28;01mfor\u001b[39;00m var \u001b[38;5;129;01min\u001b[39;00m variables:\n\u001b[0;32m   1579\u001b[0m     \u001b[38;5;28;01mtry\u001b[39;00m:\n",
      "File \u001b[1;32m~\\AppData\\Local\\Programs\\Python\\Python39\\lib\\site-packages\\optlang\\glpk_interface.py:739\u001b[0m, in \u001b[0;36mModel._add_variables\u001b[1;34m(self, variables)\u001b[0m\n\u001b[0;32m    737\u001b[0m     \u001b[38;5;28mself\u001b[39m\u001b[38;5;241m.\u001b[39m_glpk_set_col_bounds(variable)\n\u001b[0;32m    738\u001b[0m     glp_set_col_kind(\u001b[38;5;28mself\u001b[39m\u001b[38;5;241m.\u001b[39mproblem, variable\u001b[38;5;241m.\u001b[39m_index, _VTYPE_TO_GLPK_VTYPE[variable\u001b[38;5;241m.\u001b[39mtype])\n\u001b[1;32m--> 739\u001b[0m \u001b[38;5;28;43msuper\u001b[39;49m\u001b[43m(\u001b[49m\u001b[43mModel\u001b[49m\u001b[43m,\u001b[49m\u001b[43m \u001b[49m\u001b[38;5;28;43mself\u001b[39;49m\u001b[43m)\u001b[49m\u001b[38;5;241;43m.\u001b[39;49m\u001b[43m_add_variables\u001b[49m\u001b[43m(\u001b[49m\u001b[43mvariables\u001b[49m\u001b[43m)\u001b[49m\n",
      "File \u001b[1;32m~\\AppData\\Local\\Programs\\Python\\Python39\\lib\\site-packages\\optlang\\interface.py:1537\u001b[0m, in \u001b[0;36mModel._add_variables\u001b[1;34m(self, variables)\u001b[0m\n\u001b[0;32m   1535\u001b[0m \u001b[38;5;28;01mdef\u001b[39;00m \u001b[38;5;21m_add_variables\u001b[39m(\u001b[38;5;28mself\u001b[39m, variables):\n\u001b[0;32m   1536\u001b[0m     \u001b[38;5;28;01mfor\u001b[39;00m variable \u001b[38;5;129;01min\u001b[39;00m variables:\n\u001b[1;32m-> 1537\u001b[0m         \u001b[38;5;28;43mself\u001b[39;49m\u001b[38;5;241;43m.\u001b[39;49m\u001b[43m_variables\u001b[49m\u001b[38;5;241;43m.\u001b[39;49m\u001b[43mappend\u001b[49m\u001b[43m(\u001b[49m\u001b[43mvariable\u001b[49m\u001b[43m)\u001b[49m\n\u001b[0;32m   1538\u001b[0m         \u001b[38;5;28mself\u001b[39m\u001b[38;5;241m.\u001b[39m_variables_to_constraints_mapping[variable\u001b[38;5;241m.\u001b[39mname] \u001b[38;5;241m=\u001b[39m \u001b[38;5;28mset\u001b[39m([])\n\u001b[0;32m   1539\u001b[0m         variable\u001b[38;5;241m.\u001b[39mproblem \u001b[38;5;241m=\u001b[39m \u001b[38;5;28mself\u001b[39m\n",
      "File \u001b[1;32m~\\AppData\\Local\\Programs\\Python\\Python39\\lib\\site-packages\\optlang\\container.py:172\u001b[0m, in \u001b[0;36mContainer.append\u001b[1;34m(self, value)\u001b[0m\n\u001b[0;32m    170\u001b[0m name \u001b[38;5;241m=\u001b[39m value\u001b[38;5;241m.\u001b[39mname\n\u001b[0;32m    171\u001b[0m \u001b[38;5;28;01mif\u001b[39;00m name \u001b[38;5;129;01min\u001b[39;00m \u001b[38;5;28mself\u001b[39m\u001b[38;5;241m.\u001b[39m_dict:\n\u001b[1;32m--> 172\u001b[0m     \u001b[38;5;28;01mraise\u001b[39;00m ContainerAlreadyContains(\u001b[38;5;124m\"\u001b[39m\u001b[38;5;124mContainer \u001b[39m\u001b[38;5;124m'\u001b[39m\u001b[38;5;132;01m%s\u001b[39;00m\u001b[38;5;124m'\u001b[39m\u001b[38;5;124m already contains an object with name \u001b[39m\u001b[38;5;124m'\u001b[39m\u001b[38;5;132;01m%s\u001b[39;00m\u001b[38;5;124m'\u001b[39m\u001b[38;5;124m.\u001b[39m\u001b[38;5;124m\"\u001b[39m \u001b[38;5;241m%\u001b[39m (\u001b[38;5;28mself\u001b[39m, value\u001b[38;5;241m.\u001b[39mname))\n\u001b[0;32m    173\u001b[0m \u001b[38;5;28mself\u001b[39m\u001b[38;5;241m.\u001b[39m_indices[name] \u001b[38;5;241m=\u001b[39m \u001b[38;5;28mlen\u001b[39m(\u001b[38;5;28mself\u001b[39m)\n\u001b[0;32m    174\u001b[0m \u001b[38;5;28mself\u001b[39m\u001b[38;5;241m.\u001b[39m_object_list\u001b[38;5;241m.\u001b[39mappend(value)\n",
      "\u001b[1;31mContainerAlreadyContains\u001b[0m: Container '<optlang.container.Container object at 0x000001F6A49CE8B0>' already contains an object with name 'EX_cpd00224_e0'."
     ]
    }
   ],
   "source": [
    "%run MSsmetana.py\n",
    "smtna = Smetana(models, media=None)\n",
    "scs = smtna.sc_score()\n",
    "print(scs)"
   ]
  },
  {
   "cell_type": "markdown",
   "id": "eccc82d0-1929-43ad-8193-fed60810e477",
   "metadata": {},
   "source": [
    "### MUS"
   ]
  },
  {
   "cell_type": "code",
   "execution_count": null,
   "id": "4a5d692f-7f83-4df7-8f6d-db45201eb53f",
   "metadata": {},
   "outputs": [],
   "source": [
    "%run MSsmetana.py\n",
    "smtna = Smetana(models, media=None)\n",
    "mus = smtna.mu_score()\n",
    "print(mus)"
   ]
  },
  {
   "cell_type": "markdown",
   "id": "0c886275-699f-43e7-8a49-50262bfc9118",
   "metadata": {},
   "source": [
    "### MPS"
   ]
  },
  {
   "cell_type": "code",
   "execution_count": null,
   "id": "afa8af36-96c6-4523-8cc1-f471f9fbdafa",
   "metadata": {},
   "outputs": [],
   "source": [
    "%run MSsmetana.py\n",
    "smtna = Smetana(models, media=None)\n",
    "mps = smtna.mp_score()\n",
    "print(mps)"
   ]
  },
  {
   "cell_type": "markdown",
   "id": "e9290d07-0555-4fe3-bdc1-5665055809ec",
   "metadata": {},
   "source": [
    "### MIP"
   ]
  },
  {
   "cell_type": "code",
   "execution_count": null,
   "id": "d972170f-f25e-4671-a6e5-b1a2fc615cdc",
   "metadata": {},
   "outputs": [],
   "source": [
    "%run MSsmetana.py\n",
    "smtna = Smetana(models, media=None)\n",
    "mip = smtna.mip_score()\n",
    "print(mip)"
   ]
  },
  {
   "cell_type": "markdown",
   "id": "a2f547da-9a04-4fd6-a591-bd882439bca6",
   "metadata": {},
   "source": [
    "### MRO"
   ]
  },
  {
   "cell_type": "code",
   "execution_count": null,
   "id": "66f5b3c9-cb90-42af-9bb1-77baeba948b4",
   "metadata": {},
   "outputs": [],
   "source": [
    "%run MSsmetana.py\n",
    "smtna = Smetana(models, media=None)\n",
    "mro = smtna.mro_score()\n",
    "print(mro)"
   ]
  },
  {
   "cell_type": "markdown",
   "id": "812158b3-ec92-4c72-a5c4-722317e97f01",
   "metadata": {},
   "source": [
    "### SMETANA"
   ]
  },
  {
   "cell_type": "code",
   "execution_count": null,
   "id": "08258c8c-77b1-408c-8bb5-757fb40380d7",
   "metadata": {},
   "outputs": [],
   "source": [
    "%run MSsmetana.py\n",
    "smtna = Smetana(models, media=None)\n",
    "sms = smtna.smetana_score()\n",
    "print(sms)"
   ]
  },
  {
   "cell_type": "markdown",
   "id": "5ada4fa9-33aa-43e0-aed8-f2f4da058863",
   "metadata": {
    "tags": []
   },
   "source": [
    "# recapitulate the SI example community"
   ]
  },
  {
   "cell_type": "code",
   "execution_count": null,
   "id": "7d1d7cb4-8e1c-44da-8cf3-bf4b3004f328",
   "metadata": {},
   "outputs": [],
   "source": []
  }
 ],
 "metadata": {
  "kernelspec": {
   "display_name": "Python 3 (ipykernel)",
   "language": "python",
   "name": "python3"
  },
  "language_info": {
   "codemirror_mode": {
    "name": "ipython",
    "version": 3
   },
   "file_extension": ".py",
   "mimetype": "text/x-python",
   "name": "python",
   "nbconvert_exporter": "python",
   "pygments_lexer": "ipython3",
   "version": "3.9.12"
  }
 },
 "nbformat": 4,
 "nbformat_minor": 5
}
