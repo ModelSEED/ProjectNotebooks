{
 "cells": [
  {
   "cell_type": "markdown",
   "id": "eec88526-d579-4c9f-a52b-52ff03f094e6",
   "metadata": {},
   "source": [
    "# load a model"
   ]
  },
  {
   "cell_type": "code",
   "execution_count": 1,
   "id": "48c02ea2-795c-4490-97a2-ec9c3e099d30",
   "metadata": {},
   "outputs": [
    {
     "name": "stderr",
     "output_type": "stream",
     "text": [
      "C:\\Users\\Andrew Freiburger\\AppData\\Local\\Programs\\Python\\Python39\\lib\\site-packages\\requests\\__init__.py:102: RequestsDependencyWarning: urllib3 (1.26.9) or chardet (5.0.0)/charset_normalizer (2.0.12) doesn't match a supported version!\n",
      "  warnings.warn(\"urllib3 ({}) or chardet ({})/charset_normalizer ({}) doesn't match a supported \"\n"
     ]
    },
    {
     "name": "stdout",
     "output_type": "stream",
     "text": [
      "cobrakbase 0.2.8\n"
     ]
    }
   ],
   "source": [
    "# define the environment path \n",
    "import os\n",
    "local_cobrakbase_path = os.path.join('C:', 'Users', 'Andrew Freiburger','Documents','Argonne','cobrakbase')\n",
    "os.environ[\"HOME\"] = local_cobrakbase_path\n",
    "\n",
    "# import the models\n",
    "import cobrakbase\n",
    "token = '6MLTVYGHR6Y6V32DX255AVC53U2NDY7X'\n",
    "kbase_api = cobrakbase.KBaseAPI(token)\n",
    "media = kbase_api.get_from_ws(\"93465/17/1\")"
   ]
  },
  {
   "cell_type": "markdown",
   "id": "1e649d12-05d6-4efd-bd5a-e8eada84fa3c",
   "metadata": {},
   "source": [
    "# Load a complete community from KBase"
   ]
  },
  {
   "cell_type": "code",
   "execution_count": 2,
   "id": "bc5f7e3c-54ba-4d92-963f-4a4bc31e4298",
   "metadata": {},
   "outputs": [],
   "source": [
    "model1 = kbase_api.get_from_ws(\"E_iAH991V2\",40576)\n",
    "model2 = kbase_api.get_from_ws(\"E_iML1515.kb\",40576)\n",
    "com_model = kbase_api.get_from_ws(\"CMM_iAH991V2_iML1515.kb\",40576)"
   ]
  },
  {
   "cell_type": "markdown",
   "id": "aeabefa3-c27d-4a4e-9083-f51c49d7eb40",
   "metadata": {},
   "source": [
    "# "
   ]
  },
  {
   "cell_type": "code",
   "execution_count": 5,
   "id": "0fca299e-b7d4-45eb-acb3-5b348ba7cc1c",
   "metadata": {
    "collapsed": true,
    "jupyter": {
     "outputs_hidden": true
    },
    "tags": []
   },
   "outputs": [
    {
     "data": {
      "text/plain": [
       "{'EX_cps_bt_e0': 1000,\n",
       " 'EX_levanttr_e0': 1000,\n",
       " 'EX_mqn10_e0': 1000,\n",
       " 'EX_cpd00220_e0': 1000,\n",
       " 'EX_hspg_rest_e0': 1000,\n",
       " 'EX_hspg_e0': 1000,\n",
       " 'EX_cpd00184_e0': 1000,\n",
       " 'EX_galam_e0': 1000,\n",
       " 'EX_mn_e0': 1000,\n",
       " 'EX_gam26s_e0': 1000,\n",
       " 'EX_levanb_e0': 1000,\n",
       " 'EX_cpd00116_e0': 1000,\n",
       " 'EX_cpd00182_e0': 1000,\n",
       " 'EX_glycogen1500_e0': 1000,\n",
       " 'EX_alagly_e0': 1000,\n",
       " 'EX_cpd03105_e0': 1000,\n",
       " 'EX_cpd00396_e0': 1000,\n",
       " 'EX_cpd00030_e0': 1000,\n",
       " 'EX_s2l2n2m2m_e0': 1000,\n",
       " 'EX_2omxyl_e0': 1000,\n",
       " 'EX_cpd00438_e0': 1000,\n",
       " 'EX_12ethd_e0': 1000,\n",
       " 'EX_cpd00875_e0': 1000,\n",
       " 'EX_manttr_e0': 1000,\n",
       " 'EX_cpd00108_e0': 1000,\n",
       " 'EX_oligofru4_e0': 1000,\n",
       " 'EX_cpd00011_e0': 1000,\n",
       " 'EX_cpd00054_e0': 1000,\n",
       " 'EX_mqn9_e0': 1000,\n",
       " 'EX_kestopt_e0': 1000,\n",
       " 'EX_dsT_antigen_e0': 1000,\n",
       " 'EX_sphmyln_bt_e0': 1000,\n",
       " 'EX_cpd00221_e0': 1000,\n",
       " 'EX_cpd00073_e0': 1000,\n",
       " 'EX_cpd00971_e0': 1000,\n",
       " 'EX_hspg_degr_8_e0': 1000,\n",
       " 'EX_f1a_e0': 1000,\n",
       " 'EX_cpd00393_e0': 1000,\n",
       " 'EX_lacndfuchx_e0': 1000,\n",
       " 'EX_arabinogal_e0': 1000,\n",
       " 'EX_core2_e0': 1000,\n",
       " 'EX_cpd00540_e0': 1000,\n",
       " 'EX_arabinan101_e0': 1000,\n",
       " 'EX_cpd00036_e0': 1000,\n",
       " 'EX_hspg_degr_14_e0': 1000,\n",
       " 'EX_cpd00107_e0': 1000,\n",
       " 'EX_cspg_c_degr_e0': 1000,\n",
       " 'EX_neulacnttr_e0': 1000,\n",
       " 'EX_lacnfucpt_e0': 1000,\n",
       " 'EX_mqn11_e0': 1000,\n",
       " 'EX_cpd00832_e0': 1000,\n",
       " 'EX_l2n2m2mn_e0': 1000,\n",
       " 'EX_cpd10515_e0': 1000,\n",
       " 'EX_levantttr_e0': 1000,\n",
       " 'EX_cpd00143_e0': 1000,\n",
       " 'EX_cpd00635_e0': 1000,\n",
       " 'EX_leuleu_e0': 1000,\n",
       " 'EX_s2l2n2m2mn_e0': 1000,\n",
       " 'EX_cpd00367_e0': 1000,\n",
       " 'EX_cpd00264_e0': 1000,\n",
       " 'EX_cpd00164_e0': 1000,\n",
       " 'EX_cpd00138_e0': 1000,\n",
       " 'EX_core6_e0': 1000,\n",
       " 'EX_cpd05228_e0': 1000,\n",
       " 'EX_cpd15500_e0': 1000,\n",
       " 'EX_hspg_degr_11_e0': 1000,\n",
       " 'EX_T_antigen_e0': 1000,\n",
       " 'EX_kesto_e0': 1000,\n",
       " 'EX_argarg_e0': 1000,\n",
       " 'EX_7ocholate_e0': 1000,\n",
       " 'EX_cpd15494_e0': 1000,\n",
       " 'EX_pe_cer1_bt_e0': 1000,\n",
       " 'EX_cpd00020_e0': 1000,\n",
       " 'EX_cpd15606_e0': 1000,\n",
       " 'EX_cpd10516_e0': 1000,\n",
       " 'EX_cpd00106_e0': 1000,\n",
       " 'EX_gncore1_e0': 1000,\n",
       " 'EX_cpd00311_e0': 1000,\n",
       " 'EX_cspg_a_degr_e0': 1000,\n",
       " 'EX_cpd00703_e0': 1000,\n",
       " 'EX_cpd00058_e0': 1000,\n",
       " 'EX_amylose300_e0': 1000,\n",
       " 'EX_cpd15551_e0': 1000,\n",
       " 'EX_arabttr_e0': 1000,\n",
       " 'EX_cpd00122_e0': 1000,\n",
       " 'EX_cpd00322_e0': 1000,\n",
       " 'EX_cpd00412_e0': 1000,\n",
       " 'EX_cpd00007_e0': 1000,\n",
       " 'EX_2omfuc_e0': 1000,\n",
       " 'EX_lps_bt_e0': 1000,\n",
       " 'EX_cpd00430_e0': 1000,\n",
       " 'EX_cpd00035_e0': 1000,\n",
       " 'EX_phearg_e0': 1000,\n",
       " 'EX_amannan140_e0': 1000,\n",
       " 'EX_lacdfucttr_e0': 1000,\n",
       " 'EX_hspg_degr_4_e0': 1000,\n",
       " 'EX_cpd00039_e0': 1000,\n",
       " 'EX_cpd00023_e0': 1000,\n",
       " 'EX_cpd11640_e0': 1000,\n",
       " 'EX_3fuclac_e0': 1000,\n",
       " 'EX_cpd00033_e0': 1000,\n",
       " 'EX_cpd11584_e0': 1000,\n",
       " 'EX_cpd00644_e0': 1000,\n",
       " 'EX_2fuclac_e0': 1000,\n",
       " 'EX_hspg_degr_5_e0': 1000,\n",
       " 'EX_cpd00149_e0': 1000,\n",
       " 'EX_indlac_e0': 1000,\n",
       " 'EX_fucneulacnhx_e0': 1000,\n",
       " 'EX_cpd11591_e0': 1000,\n",
       " 'EX_cspg_b_e0': 1000,\n",
       " 'EX_cpd15604_e0': 1000,\n",
       " 'EX_cpd00218_e0': 1000,\n",
       " 'EX_cpd11658_e0': 1000,\n",
       " 'EX_cpd01399_e0': 1000,\n",
       " 'EX_isobut_e0': 1000,\n",
       " 'EX_cpd00075_e0': 1000,\n",
       " 'EX_cpd00082_e0': 1000,\n",
       " 'EX_cpd00277_e0': 1000,\n",
       " 'EX_unsdigalur_e0': 1000,\n",
       " 'EX_kestottr_e0': 1000,\n",
       " 'EX_cpd00224_e0': 1000,\n",
       " 'EX_cpd00084_e0': 1000,\n",
       " 'EX_hspg_degr_10_e0': 1000,\n",
       " 'EX_cpd01329_e0': 1000,\n",
       " 'EX_cpd00249_e0': 1000,\n",
       " 'EX_cpd03047_e0': 1000,\n",
       " 'EX_cpd00013_e0': 1000,\n",
       " 'EX_lmn2_e0': 1000,\n",
       " 'EX_cpd00254_e0': 1000,\n",
       " 'EX_cpd00119_e0': 1000,\n",
       " 'EX_cpd15605_e0': 1000,\n",
       " 'EX_core5_e0': 1000,\n",
       " 'EX_chtbs_e0': 1000,\n",
       " 'EX_pullulan1200_e0': 1000,\n",
       " 'EX_gncore2_e0': 1000,\n",
       " 'EX_cpd00069_e0': 1000,\n",
       " 'EX_strch2_e0': 1000,\n",
       " 'EX_cpd00263_e0': 1000,\n",
       " 'EX_cpd00028_e0': 1000,\n",
       " 'EX_cpd00210_e0': 1000,\n",
       " 'EX_cpd00098_e0': 1000,\n",
       " 'EX_cpd00156_e0': 1000,\n",
       " 'EX_hspg_degr_2_e0': 1000,\n",
       " 'EX_isoval_e0': 1000,\n",
       " 'EX_s2l2n2m2masn_e0': 1000,\n",
       " 'EX_cpd03725_e0': 1000,\n",
       " 'EX_glyglu_e0': 1000,\n",
       " 'EX_manpt_e0': 1000,\n",
       " 'EX_m2mn_e0': 1000,\n",
       " 'EX_cpd00027_e0': 1000,\n",
       " 'EX_cpd00280_e0': 1000,\n",
       " 'EX_cpd11602_e0': 1000,\n",
       " 'EX_cpd00166_e0': 1000,\n",
       " 'EX_levan1000_e0': 1000,\n",
       " 'EX_cpd01017_e0': 1000,\n",
       " 'EX_cpd00063_e0': 1000,\n",
       " 'EX_acgalidour2s_e0': 1000,\n",
       " 'EX_cpd00794_e0': 1000,\n",
       " 'EX_cpd00029_e0': 1000,\n",
       " 'EX_cpd00731_e0': 1000,\n",
       " 'EX_cpd00205_e0': 1000,\n",
       " 'EX_mantr_e0': 1000,\n",
       " 'EX_cpd00428_e0': 1000,\n",
       " 'EX_cpd00179_e0': 1000,\n",
       " 'EX_acgalidour_e0': 1000,\n",
       " 'EX_cpd00067_e0': 1000,\n",
       " 'EX_cpd00305_e0': 1000,\n",
       " 'EX_cpd00064_e0': 1000,\n",
       " 'EX_hspg_degr_13_e0': 1000,\n",
       " 'EX_alathr_e0': 1000,\n",
       " 'EX_cpd00117_e0': 1000,\n",
       " 'EX_cpd00099_e0': 1000,\n",
       " 'EX_cpd00246_e0': 1000,\n",
       " 'EX_n2m2mn_e0': 1000,\n",
       " 'EX_cspg_ab_rest_e0': 1000,\n",
       " 'EX_cpd03198_e0': 1000,\n",
       " 'EX_cpd11606_e0': 1000,\n",
       " 'EX_cpd00053_e0': 1000,\n",
       " 'EX_cpd00141_e0': 1000,\n",
       " 'EX_mbenz_e0': 1000,\n",
       " 'EX_lacnnttr_e0': 1000,\n",
       " 'EX_manb_e0': 1000,\n",
       " 'EX_hspg_degr_15_e0': 1000,\n",
       " 'EX_cpd00309_e0': 1000,\n",
       " 'EX_rhamnogalurII_e0': 1000,\n",
       " 'EX_stys_e0': 1000,\n",
       " 'EX_cpd03279_e0': 1000,\n",
       " 'EX_apio_D_e0': 1000,\n",
       " 'EX_rhamnogalurI_e0': 1000,\n",
       " 'EX_cpd01391_e0': 1000,\n",
       " 'EX_cspg_c_e0': 1000,\n",
       " 'EX_cpd00355_e0': 1000,\n",
       " 'EX_cpd00232_e0': 1000,\n",
       " 'EX_pecticgal_e0': 1000,\n",
       " 'EX_cpd15495_e0': 1000,\n",
       " 'EX_cpd00041_e0': 1000,\n",
       " 'EX_cpd00154_e0': 1000,\n",
       " 'EX_starch1200_e0': 1000,\n",
       " 'EX_core4_e0': 1000,\n",
       " 'EX_glyasp_e0': 1000,\n",
       " 'EX_cpd00161_e0': 1000,\n",
       " 'EX_gchola_e0': 1000,\n",
       " 'EX_cpd00239_e0': 1000,\n",
       " 'EX_cpd00132_e0': 1000,\n",
       " 'EX_cpd00009_e0': 1000,\n",
       " 'EX_ha_deg1_e0': 1000,\n",
       " 'EX_lmn30_e0': 1000,\n",
       " 'EX_cpd00048_e0': 1000,\n",
       " 'EX_s2l2fn2m2masn_e0': 1000,\n",
       " 'EX_cpd00034_e0': 1000,\n",
       " 'EX_cpd01861_e0': 1000,\n",
       " 'EX_hspg_degr_6_e0': 1000,\n",
       " 'EX_cpd11580_e0': 1000,\n",
       " 'EX_cpd00453_e0': 1000,\n",
       " 'EX_cpd00104_e0': 1000,\n",
       " 'EX_cpd00153_e0': 1000,\n",
       " 'EX_cpd00276_e0': 1000,\n",
       " 'EX_Tn_antigen_e0': 1000,\n",
       " 'EX_3ddlhept_e0': 1000,\n",
       " 'EX_dt5hsu_e0': 1000,\n",
       " 'EX_core3_e0': 1000,\n",
       " 'EX_cpd15836_e0': 1000,\n",
       " 'EX_hspg_degr_1_e0': 1000,\n",
       " 'EX_cpd00382_e0': 1000,\n",
       " 'EX_hspg_degr_3_e0': 1000,\n",
       " 'EX_cpd00051_e0': 1000,\n",
       " 'EX_idour_e0': 1000,\n",
       " 'EX_cpd01012_e0': 1000,\n",
       " 'EX_alaglu_e0': 1000,\n",
       " 'EX_core7_e0': 1000,\n",
       " 'EX_hspg_degr_12_e0': 1000,\n",
       " 'EX_metala_e0': 1000,\n",
       " 'EX_cpd00137_e0': 1000,\n",
       " 'EX_cpd11583_e0': 1000,\n",
       " 'EX_cpd00066_e0': 1000,\n",
       " 'EX_cpd00047_e0': 1000,\n",
       " 'EX_cpd00489_e0': 1000,\n",
       " 'EX_cpd01262_e0': 1000,\n",
       " 'EX_cpd00654_e0': 1000,\n",
       " 'EX_cpd11587_e0': 1000,\n",
       " 'EX_cpd00092_e0': 1000,\n",
       " 'EX_cpd00076_e0': 1000,\n",
       " 'EX_cpd00751_e0': 1000,\n",
       " 'EX_ha_pre1_e0': 1000,\n",
       " 'EX_cpd00060_e0': 1000,\n",
       " 'EX_alaasp_e0': 1000,\n",
       " 'EX_hspg_degr_7_e0': 1000,\n",
       " 'EX_leugly_e0': 1000,\n",
       " 'EX_pect_e0': 1000,\n",
       " 'EX_cpd08305_e0': 1000,\n",
       " 'EX_cpd00105_e0': 1000,\n",
       " 'EX_cpd04097_e0': 1000,\n",
       " 'EX_cpd00531_e0': 1000,\n",
       " 'EX_phppa_e0': 1000,\n",
       " 'EX_hspg_degr_9_e0': 1000,\n",
       " 'EX_cpd00001_e0': 1000,\n",
       " 'EX_plac_e0': 1000,\n",
       " 'EX_cpd00065_e0': 1000,\n",
       " 'EX_ha_e0': 1000,\n",
       " 'EX_cpd00118_e0': 1000,\n",
       " 'EX_core8_e0': 1000,\n",
       " 'EX_homogal_e0': 1000,\n",
       " 'EX_cspg_b_degr_e0': 1000,\n",
       " 'EX_Ser_Thr_e0': 1000,\n",
       " 'EX_cspg_a_e0': 1000,\n",
       " 'EX_cpd00136_e0': 1000,\n",
       " 'EX_strch1_e0': 1000,\n",
       " 'EX_cpd00281_e0': 1000,\n",
       " 'EX_lacnttr_e0': 1000,\n",
       " 'EX_sTn_antigen_e0': 1000,\n",
       " 'EX_acgalglcur_e0': 1000,\n",
       " 'EX_glypro_e0': 1000,\n",
       " 'EX_cpd00363_e0': 1000,\n",
       " 'EX_isocapr_e0': 1000,\n",
       " 'EX_glyasn_e0': 1000,\n",
       " 'EX_cpd00159_e0': 1000,\n",
       " 'EX_cpd00208_e0': 1000,\n",
       " 'EX_cpd00129_e0': 1000,\n",
       " 'EX_cspg_c_rest_e0': 1000,\n",
       " 'EX_sT_antigen_e0': 1000,\n",
       " 'EX_acerA_e0': 1000}"
      ]
     },
     "metadata": {},
     "output_type": "display_data"
    }
   ],
   "source": [
    "display(model1.medium)"
   ]
  },
  {
   "cell_type": "code",
   "execution_count": 4,
   "id": "e3686179-fd1d-4536-9247-77ebac6473d7",
   "metadata": {
    "collapsed": true,
    "jupyter": {
     "outputs_hidden": true
    },
    "tags": []
   },
   "outputs": [
    {
     "name": "stdout",
     "output_type": "stream",
     "text": [
      "bio1: 0.5 cpd11416_c1 + 0.5 cpd11416_c2 --> cpd11416_c0\n",
      "bio2: 70.028756 cpd00001_c1 + 75.55223 cpd00002_c1 + 0.001831 cpd00003_c1 + 0.000447 cpd00006_c1 + 0.000576 cpd00010_c1 + 0.013013 cpd00013_c1 + 0.000223 cpd00015_c1 + 0.000223 cpd00016_c1 + 0.000223 cpd00017_c1 + 0.26316 cpd00023_c1 + 0.000223 cpd00028_c1 + 0.000691 cpd00030_c1 + 0.612638 cpd00033_c1 + 0.000341 cpd00034_c1 + 0.513689 cpd00035_c1 + 0.215096 cpd00038_c1 + 0.343161 cpd00039_c1 + 0.241055 cpd00041_c1 + 0.004338 cpd00048_c1 + 0.295792 cpd00051_c1 + 0.133508 cpd00052_c1 + 0.26316 cpd00053_c1 + 0.215792 cpd00054_c1 + 0.000223 cpd00056_c1 + 0.000709 cpd00058_c1 + 0.153686 cpd00060_c1 + 0.144104 cpd00062_c1 + 0.005205 cpd00063_c1 + 0.056843 cpd00065_c1 + 0.185265 cpd00066_c1 + 0.137896 cpd00069_c1 + 9.8e-05 cpd00078_c1 + 0.09158 cpd00084_c1 + 0.000223 cpd00087_c1 + 0.005205 cpd00099_c1 + 2e-06 cpd00104_c1 + 0.450531 cpd00107_c1 + 0.026166 cpd00115_c1 + 0.094738 cpd00119_c1 + 0.000223 cpd00125_c1 + 0.221055 cpd00129_c1 + 0.241055 cpd00132_c1 + 2.5e-05 cpd00149_c1 + 0.423162 cpd00156_c1 + 0.253687 cpd00161_c1 + 0.000223 cpd00201_c1 + 0.195193 cpd00205_c1 + 0.000223 cpd00220_c1 + 0.027017 cpd00241_c1 + 0.000323 cpd00244_c1 + 0.008675 cpd00254_c1 + 0.290529 cpd00322_c1 + 0.027017 cpd00356_c1 + 0.026166 cpd00357_c1 + 0.000223 cpd00557_c1 + 0.000223 cpd03445_c1 + 0.019456 cpd03586_e0 + 0.006715 cpd10515_c1 + 0.007808 cpd10516_c1 + 7e-06 cpd11574_c1 + 0.013894 cpd15514_p1 + 0.063814 cpd15531_p1 + 0.075214 cpd15532_p1 + 2.6e-05 cpd24604_c1 + 0.00026 cpd24682_c1 + 5.5e-05 cpd25775_c1 --> 75.37723 cpd00008_c1 + 75.37323 cpd00009_c1 + 0.773903 cpd00012_c1 + 75.37723 cpd00067_c1 + cpd11416_c1\n",
      "bio3: 70.028756 cpd00001_c1 + 75.55223 cpd00002_c1 + 0.001787 cpd00003_c1 + 4.5e-05 cpd00004_c1 + 0.000335 cpd00005_c1 + 0.000112 cpd00006_c1 + 0.000168 cpd00010_c1 + 0.012379 cpd00013_c1 + 0.000223 cpd00015_c1 + 0.000223 cpd00016_c1 + 0.000223 cpd00017_c1 + 0.000279 cpd00022_c1 + 0.255712 cpd00023_c1 + 0.000223 cpd00028_c1 + 0.000658 cpd00030_c1 + 0.595297 cpd00033_c1 + 0.000324 cpd00034_c1 + 0.499149 cpd00035_c1 + 0.209121 cpd00038_c1 + 0.333448 cpd00039_c1 + 0.234232 cpd00041_c1 + 0.000223 cpd00042_c1 + 0.004126 cpd00048_c1 + 0.28742 cpd00051_c1 + 0.129799 cpd00052_c1 + 0.255712 cpd00053_c1 + 0.209684 cpd00054_c1 + 0.000223 cpd00056_c1 + 0.000674 cpd00058_c1 + 0.149336 cpd00060_c1 + 0.140101 cpd00062_c1 + 0.004952 cpd00063_c1 + 0.055234 cpd00065_c1 + 0.180021 cpd00066_c1 + 0.133993 cpd00069_c1 + 3.1e-05 cpd00070_c1 + 9.8e-05 cpd00078_c1 + 0.088988 cpd00084_c1 + 0.000223 cpd00087_c1 + 0.004952 cpd00099_c1 + 2e-06 cpd00104_c1 + 0.437778 cpd00107_c1 + 0.024805 cpd00115_c1 + 0.03327 cpd00118_c1 + 0.092056 cpd00119_c1 + 0.000223 cpd00125_c1 + 0.214798 cpd00129_c1 + 0.234232 cpd00132_c1 + 2.4e-05 cpd00149_c1 + 0.154187 cpd00155_c1 + 0.411184 cpd00156_c1 + 0.246506 cpd00161_c1 + 0.000223 cpd00166_c1 + 0.000223 cpd00201_c1 + 0.18569 cpd00205_c1 + 0.000223 cpd00216_c1 + 0.000223 cpd00220_c1 + 0.025612 cpd00241_c1 + 0.000307 cpd00244_c1 + 0.008253 cpd00254_c1 + 0.006744 cpd00264_c1 + 0.282306 cpd00322_c1 + 0.000223 cpd00345_c1 + 0.025612 cpd00356_c1 + 0.024805 cpd00357_c1 + 0.000223 cpd00557_c1 + 0.000223 cpd03453_c1 + 0.006388 cpd10515_c1 + 0.007428 cpd10516_c1 + 0.000223 cpd11313_c1 + 7e-06 cpd11574_c1 + 0.000223 cpd15353_c1 + 0.002944 cpd15428_p1 + 0.00229 cpd15429_p1 + 0.00118 cpd15431_p1 + 0.008151 cpd15432_e0 + 0.000223 cpd15499_c1 + 0.001345 cpd15501_p1 + 0.000605 cpd15503_p1 + 0.005381 cpd15505_p1 + 0.005448 cpd15506_p1 + 0.000673 cpd15508_p1 + 0.044164 cpd15531_p1 + 0.03435 cpd15532_p1 + 0.017704 cpd15534_p1 + 0.010599 cpd15538_p1 + 0.008244 cpd15539_p1 + 0.004249 cpd15541_p1 + 0.000223 cpd15561_c1 + 7e-06 cpd21288_c1 + 2.5e-05 cpd24604_c1 + 0.000248 cpd24682_c1 + 5.5e-05 cpd25775_c1 + 3e-06 lipopb-c_c1 + 7e-06 mocogdp-c_c1 --> 75.37723 cpd00008_c1 + 75.37323 cpd00009_c1 + 0.749831 cpd00012_c1 + 75.37723 cpd00067_c1 + cpd11416_c1\n",
      "bio4: 0.010648 clpnai15_c2 + 0.010648 clpnai17_c2 + 0.010648 clpni14_c2 + 0.010648 clpni15_c2 + 0.010648 clpni16_c2 + 0.010648 clpni17_c2 + 34.7965 cpd00001_c2 + 40.1701 cpd00002_c2 + 0.004668 cpd00003_c2 + 0.004668 cpd00006_c2 + 0.004668 cpd00010_c2 + 0.004668 cpd00015_c2 + 0.004668 cpd00016_c2 + 0.004668 cpd00017_c2 + 0.25601 cpd00023_c2 + 0.004668 cpd00028_c2 + 0.004668 cpd00030_c2 + 0.5958 cpd00033_c2 + 0.004668 cpd00034_c2 + 0.50006 cpd00035_c2 + 0.2091 cpd00038_c2 + 0.33355 cpd00039_c2 + 0.23468 cpd00041_c2 + 0.28828 cpd00051_c2 + 0.12988 cpd00052_c2 + 0.25601 cpd00053_c2 + 0.2097 cpd00054_c2 + 0.004668 cpd00056_c2 + 0.14934 cpd00060_c2 + 0.14027 cpd00062_c2 + 0.004668 cpd00063_c2 + 0.055157 cpd00065_c2 + 0.18056 cpd00066_c2 + 0.13425 cpd00069_c2 + 0.08898 cpd00084_c2 + 0.004668 cpd00087_c2 + 0.004668 cpd00104_c2 + 0.43866 cpd00107_c2 + 0.023503 cpd00115_c2 + 0.092623 cpd00119_c2 + 0.21543 cpd00129_c2 + 0.23468 cpd00132_c2 + 0.004668 cpd00149_c2 + 0.4116 cpd00156_c2 + 0.24665 cpd00161_c2 + 0.004668 cpd00166_c2 + 0.004668 cpd00201_c2 + 0.004668 cpd00205_c2 + 0.004668 cpd00220_c2 + 0.023503 cpd00241_c2 + 0.004668 cpd00254_c2 + 0.004668 cpd00264_c2 + 0.28255 cpd00322_c2 + 0.004668 cpd00345_c2 + 0.023503 cpd00356_c2 + 0.023503 cpd00357_c2 + 0.004668 cpd00971_c2 + 0.092476 cpd02229_c2 + 0.004668 cpd10515_c2 + 0.004668 cpd10516_c2 + 0.004668 cpd11451_c2 + 0.004668 cpd11493_c2 + 0.010648 cpd15426_c2 + 0.010648 cpd15428_c2 + 0.010648 cpd15430_c2 + 0.004668 cpd15499_c2 + 0.010648 cpd15528_c2 + 0.010648 cpd15529_c2 + 0.010648 cpd15531_c2 + 0.010648 cpd15533_c2 + 0.010648 cpd15534_c2 + 0.010648 cpd15535_c2 + 0.010648 cpd15536_c2 + 0.010648 cpd15538_c2 + 0.010648 cpd15540_c2 + 0.010648 cpd15541_c2 + 0.092476 cpd15654_c2 + 0.004668 cps_bt_e0 + 0.01945 lps_bt_e0 + 0.004668 mql10_c2 + 0.004668 mql11_c2 + 0.004668 mql9_c2 + 0.004668 pe_cer1_bt_e0 + 0.010648 peai15_c2 + 0.010648 peai17_c2 + 0.010648 pei14_c2 + 0.010648 pei15_c2 + 0.010648 pei16_c2 + 0.010648 pei17_c2 + 0.010648 pgai17_c2 + 0.010648 pgi17_c2 + 0.004668 sphmyln_bt_e0 --> 40 cpd00008_c2 + 39.9953 cpd00009_c2 + 0.60238 cpd00012_c2 + 40 cpd00067_c2 + cpd11416_c2 + 0.004668 cpd12370_c2\n"
     ]
    }
   ],
   "source": [
    "for rxn in com_model.reactions:\n",
    "    if \"bio\" in rxn.id:\n",
    "        print(rxn)\n",
    "# print(dir(com_model.reactions))"
   ]
  },
  {
   "cell_type": "code",
   "execution_count": 3,
   "id": "8907b30c-2639-4bd1-931d-0d80f7661c0e",
   "metadata": {
    "collapsed": true,
    "jupyter": {
     "outputs_hidden": true
    },
    "tags": []
   },
   "outputs": [
    {
     "data": {
      "text/plain": [
       "143.7027657990241"
      ]
     },
     "metadata": {},
     "output_type": "display_data"
    },
    {
     "name": "stdout",
     "output_type": "stream",
     "text": [
      "{'EX_2omxyl_e0': 1000, 'EX_cpd15459_e0': 1000, 'EX_cpd00136_e0': 1000, 'EX_cpd00166_e0': 1000, 'EX_cpd00215_e0': 1000, 'EX_cpd00300_e0': 1000, 'EX_cpd00464_e0': 1000, 'EX_cpd15411_e0': 1000, 'EX_cpd00024_e0': 1000, 'EX_ha_pre1_e0': 1000, 'EX_cpd00266_e0': 1000, 'EX_cpd15298_e0': 1000, 'EX_cpd01080_e0': 1000, 'EX_cpd15495_e0': 1000, 'EX_strch1_e0': 1000, 'EX_cpd00210_e0': 1000, 'EX_lmn2_e0': 1000, 'EX_4abzglu-e_e0': 1000, 'EX_plac_e0': 1000, 'EX_cpd11602_e0': 1000, 'EX_cpd00644_e0': 1000, 'EX_cpd15493_e0': 1000, 'EX_metsox-S-L-e_e0': 1000, 'EX_2omfuc_e0': 1000, 'EX_cpd11606_e0': 1000, 'EX_cpd04089_e0': 1000, 'EX_core8_e0': 1000, 'EX_lps_bt_e0': 1000, 'EX_cpd00152_e0': 1000, 'EX_cpd03387_e0': 1000, 'EX_cpd04461_e0': 1000, 'EX_cpd00309_e0': 1000, 'EX_arabinogal_e0': 1000, 'EX_cpd03846_e0': 1000, 'EX_acerA_e0': 1000, 'EX_cpd00214_e0': 1000, 'EX_cpd00013_e0': 1000, 'EX_core5_e0': 1000, 'EX_rhamnogalurII_e0': 1000, 'EX_lacdfucttr_e0': 1000, 'EX_core6_e0': 1000, 'EX_cpd00516_e0': 1000, 'EX_cpd00150_e0': 1000, 'EX_cpd15437_e0': 1000, 'EX_neulacnttr_e0': 1000, 'EX_cpd00066_e0': 1000, 'EX_metglcur-e_e0': 1000, 'EX_f1a_e0': 1000, 'EX_cpd00153_e0': 1000, 'EX_cpd15390_e0': 1000, 'EX_cpd15466_e0': 1000, 'EX_cpd10719_e0': 1000, 'EX_hspg_e0': 1000, 'EX_cpd00099_e0': 1000, 'EX_isocapr_e0': 1000, 'EX_cpd00371_e0': 1000, 'EX_cpd00031_e0': 1000, 'EX_cpd00531_e0': 1000, 'EX_cpd00298_e0': 1000, 'EX_phppa_e0': 1000, 'EX_hspg_degr_15_e0': 1000, 'EX_dt5hsu_e0': 1000, 'EX_cpd01012_e0': 1000, 'EX_cpd15518_e0': 1000, 'EX_cpd00672_e0': 1000, 'EX_cpd15438_e0': 1000, 'EX_mqn9_e0': 1000, 'EX_unsdigalur_e0': 1000, 'EX_s2l2n2m2masn_e0': 1000, 'EX_cpd00098_e0': 1000, 'EX_sq-e_e0': 1000, 'EX_cpd03422_e0': 1000, 'EX_l2n2m2mn_e0': 1000, 'EX_manb_e0': 1000, 'EX_cpd08304_e0': 1000, 'EX_cpd11658_e0': 1000, 'EX_cpd01155_e0': 1000, 'EX_cpd15460_e0': 1000, 'EX_alaglu_e0': 1000, 'EX_cpd00497_e0': 1000, 'EX_cpd15574_e0': 1000, 'EX_cpd15386_e0': 1000, 'EX_cpd00381_e0': 1000, 'EX_cpd00046_e0': 1000, 'EX_cpd01092_e0': 1000, 'EX_cpd00047_e0': 1000, 'EX_cpd00206_e0': 1000, 'EX_cpd00222_e0': 1000, 'EX_cpd00030_e0': 1000, 'EX_cpd30760_e0': 1000, 'EX_cpd00428_e0': 1000, 'EX_cpd00971_e0': 1000, 'EX_cps_bt_e0': 1000, 'EX_mqn10_e0': 1000, 'EX_cpd00144_e0': 1000, 'EX_cpd00885_e0': 1000, 'EX_cpd03198_e0': 1000, 'EX_homogal_e0': 1000, 'EX_cpd00299_e0': 1000, 'EX_cpd00703_e0': 1000, 'EX_cpd00296_e0': 1000, 'EX_cpd00709_e0': 1000, 'EX_pect_e0': 1000, 'EX_cspg_c_rest_e0': 1000, 'EX_cpd00119_e0': 1000, 'EX_cpd00118_e0': 1000, 'EX_cpd00033_e0': 1000, 'EX_glyglu_e0': 1000, 'EX_cpd01067_e0': 1000, 'EX_cpd00244_e0': 1000, 'EX_cpd15500_e0': 1000, 'EX_cpd01107_e0': 1000, 'EX_cpd00259_e0': 1000, 'EX_cpd00060_e0': 1000, 'EX_gncore2_e0': 1000, 'EX_cpd00322_e0': 1000, 'EX_cpd00363_e0': 1000, 'EX_cpd15237_e0': 1000, 'EX_cpd00158_e0': 1000, 'EX_metala_e0': 1000, 'EX_cpd00988_e0': 1000, 'EX_cpd00100_e0': 1000, 'EX_cpd00107_e0': 1000, 'EX_cpd00132_e0': 1000, 'EX_cpd01572_e0': 1000, 'EX_cpd00039_e0': 1000, 'EX_dsT_antigen_e0': 1000, 'EX_kestottr_e0': 1000, 'EX_cpd11574_e0': 1000, 'EX_lacnttr_e0': 1000, 'EX_cpd15605_e0': 1000, 'EX_cpd03191_e0': 1000, 'EX_idour_e0': 1000, 'EX_cpd15127_e0': 1000, 'EX_cpd00247_e0': 1000, 'EX_hspg_rest_e0': 1000, 'EX_cpd00226_e0': 1000, 'EX_hspg_degr_6_e0': 1000, 'EX_cpd00076_e0': 1000, 'EX_cpd01908_e0': 1000, 'EX_cpd00208_e0': 1000, 'EX_cpd00034_e0': 1000, 'EX_cpd00573_e0': 1000, 'EX_cpd00043_e0': 1000, 'EX_cpd00176_e0': 1000, 'EX_cpd03704_e0': 1000, 'EX_cpd00084_e0': 1000, 'EX_pecticgal_e0': 1000, 'EX_cpd01211_e0': 1000, 'EX_cpd01741_e0': 1000, 'EX_cpd00507_e0': 1000, 'EX_cpd00072_e0': 1000, 'EX_cpd00448_e0': 1000, 'EX_starch1200_e0': 1000, 'EX_cpd00268_e0': 1000, 'EX_cpd00205_e0': 1000, 'EX_Ser_Thr_e0': 1000, 'EX_cpd00026_e0': 1000, 'EX_cpd00659_e0': 1000, 'EX_cpd00294_e0': 1000, 'EX_cpd00036_e0': 1000, 'EX_cpd00223_e0': 1000, 'EX_pullulan1200_e0': 1000, 'EX_s2l2fn2m2masn_e0': 1000, 'EX_cpd00305_e0': 1000, 'EX_cpd00288_e0': 1000, 'EX_glypro_e0': 1000, 'EX_cpd00063_e0': 1000, 'EX_cpd00020_e0': 1000, 'EX_cpd00263_e0': 1000, 'EX_cpd10515_e0': 1000, 'EX_hspg_degr_4_e0': 1000, 'EX_levantttr_e0': 1000, 'EX_cpd00731_e0': 1000, 'EX_core3_e0': 1000, 'EX_cpd00540_e0': 1000, 'EX_cpd00128_e0': 1000, 'EX_cpd00139_e0': 1000, 'EX_rhamnogalurI_e0': 1000, 'EX_cpd00001_e0': 1000, 'EX_cpd00117_e0': 1000, 'EX_cpd00281_e0': 1000, 'EX_hspg_degr_5_e0': 1000, 'EX_cpd00051_e0': 1000, 'EX_cpd00007_e0': 1000, 'EX_cpd00654_e0': 1000, 'EX_cpd03586_e0': 1000, 'EX_cpd00359_e0': 1000, 'EX_kesto_e0': 1000, 'EX_cpd00081_e0': 1000, 'EX_cpd00418_e0': 1000, 'EX_cpd01376_e0': 1000, 'EX_cpd00129_e0': 1000, 'EX_hspg_degr_14_e0': 1000, 'EX_cpd04097_e0': 1000, 'EX_cpd03587_e0': 1000, 'EX_cpd03396_e0': 1000, 'EX_cspg_c_degr_e0': 1000, 'EX_cpd01861_e0': 1000, 'EX_levanttr_e0': 1000, 'EX_cpd01570_e0': 1000, 'EX_cpd00220_e0': 1000, 'EX_cpd01571_e0': 1000, 'EX_cpd10924_e0': 1000, 'EX_cpd00142_e0': 1000, 'EX_cpd00355_e0': 1000, 'EX_cpd03912_e0': 1000, 'EX_cpd08023_e0': 1000, 'EX_gam26s_e0': 1000, 'EX_cpd01151_e0': 1000, 'EX_lacnnttr_e0': 1000, 'EX_hspg_degr_8_e0': 1000, 'EX_cpd00666_e0': 1000, 'EX_cpd00637_e0': 1000, 'EX_galam_e0': 1000, 'EX_cpd00211_e0': 1000, 'EX_T_antigen_e0': 1000, 'EX_fucneulacnhx_e0': 1000, 'EX_gchola_e0': 1000, 'EX_cspg_a_degr_e0': 1000, 'EX_hspg_degr_3_e0': 1000, 'EX_cpd00023_e0': 1000, 'EX_sT_antigen_e0': 1000, 'EX_cpd02150_e0': 1000, 'EX_hspg_degr_10_e0': 1000, 'EX_cpd11579_e0': 1000, 'EX_cpd15606_e0': 1000, 'EX_levan1000_e0': 1000, 'EX_cpd15463_e0': 1000, 'EX_cpd00902_e0': 1000, 'EX_cpd15388_e0': 1000, 'EX_cpd00680_e0': 1000, 'EX_cpd00037_e0': 1000, 'EX_cpd00154_e0': 1000, 'EX_cpd00412_e0': 1000, 'EX_acgalidour_e0': 1000, 'EX_isoval_e0': 1000, 'EX_cpd03724_e0': 1000, 'EX_cpd00126_e0': 1000, 'EX_cpd15836_e0': 1000, 'EX_cpd00391_e0': 1000, 'EX_cpd15462_e0': 1000, 'EX_cpd00276_e0': 1000, 'EX_cpd00450_e0': 1000, 'EX_acgalidour2s_e0': 1000, 'EX_cpd15432_e0': 1000, 'EX_cpd00108_e0': 1000, 'EX_n2m2mn_e0': 1000, 'EX_cpd00383_e0': 1000, 'EX_cpd11584_e0': 1000, 'EX_cpd00089_e0': 1000, 'EX_metsox-R-L-e_e0': 1000, 'EX_cpd08374_e0': 1000, 'EX_cpd15483_e0': 1000, 'EX_cpd00184_e0': 1000, 'EX_cpd02027_e0': 1000, 'EX_hspg_degr_11_e0': 1000, 'EX_hspg_degr_9_e0': 1000, 'EX_cpd00587_e0': 1000, 'EX_cpd14659_e0': 1000, 'EX_cpd03453_e0': 1000, 'EX_mbenz_e0': 1000, 'EX_arabttr_e0': 1000, 'EX_cpd00552_e0': 1000, 'EX_kestopt_e0': 1000, 'EX_cpd00264_e0': 1000, 'EX_tartr-D-e_e0': 1000, 'EX_acgalglcur_e0': 1000, 'EX_cpd15551_e0': 1000, 'EX_strch2_e0': 1000, 'EX_cpd05228_e0': 1000, 'EX_cpd00035_e0': 1000, 'EX_cpd15461_e0': 1000, 'EX_cpd00058_e0': 1000, 'EX_cpd00248_e0': 1000, 'EX_cpd15396_e0': 1000, 'EX_cpd24363_e0': 1000, 'EX_cpd00794_e0': 1000, 'EX_cpd00235_e0': 1000, 'EX_cpd00430_e0': 1000, 'EX_cpd00227_e0': 1000, 'EX_cpd00224_e0': 1000, 'EX_alagly_e0': 1000, 'EX_cpd04098_e0': 1000, 'EX_cpd00064_e0': 1000, 'EX_cpd00249_e0': 1000, 'EX_alathr_e0': 1000, 'EX_cpd21754_e0': 1000, 'EX_cpd00536_e0': 1000, 'EX_chtbs_e0': 1000, 'EX_cpd00989_e0': 1000, 'EX_cpd00122_e0': 1000, 'EX_hspg_degr_1_e0': 1000, 'EX_cpd00092_e0': 1000, 'EX_levanb_e0': 1000, 'EX_cpd04099_e0': 1000, 'EX_cpd03032_e0': 1000, 'EX_cpd00239_e0': 1000, 'EX_lacndfuchx_e0': 1000, 'EX_glyasp_e0': 1000, 'EX_core4_e0': 1000, 'EX_cpd03726_e0': 1000, 'EX_cpd19028_e0': 1000, 'EX_cpd03725_e0': 1000, 'EX_amylose300_e0': 1000, 'EX_cpd00011_e0': 1000, 'EX_cpd02611_e0': 1000, 'EX_hspg_degr_7_e0': 1000, 'EX_cpd01055_e0': 1000, 'EX_cpd11596_e0': 1000, 'EX_cpd00106_e0': 1000, 'EX_cpd00069_e0': 1000, 'EX_cpd01391_e0': 1000, 'EX_cpd00042_e0': 1000, 'EX_cpd00159_e0': 1000, 'EX_cpd00075_e0': 1000, 'EX_cpd03701_e0': 1000, 'EX_cpd03279_e0': 1000, 'EX_cspg_b_e0': 1000, 'EX_cpd00541_e0': 1000, 'EX_cpd00455_e0': 1000, 'EX_cpd10516_e0': 1000, 'EX_cpd15468_e0': 1000, 'EX_cpd00277_e0': 1000, 'EX_cpd02357_e0': 1000, 'EX_cspg_ab_rest_e0': 1000, 'EX_cpd03343_e0': 1000, 'EX_cpd00164_e0': 1000, 'EX_cpd00143_e0': 1000, 'EX_cpd00550_e0': 1000, 'EX_cpd00635_e0': 1000, 'EX_cpd00091_e0': 1000, 'EX_cpd00441_e0': 1000, 'EX_cpd00027_e0': 1000, 'EX_cpd03696_e0': 1000, 'EX_hspg_degr_12_e0': 1000, 'EX_cpd00532_e0': 1000, 'EX_isobut_e0': 1000, 'EX_cpd00832_e0': 1000, 'EX_cpd00104_e0': 1000, 'EX_cpd00179_e0': 1000, 'EX_cpd00738_e0': 1000, 'EX_cpd01329_e0': 1000, 'EX_cpd08021_e0': 1000, 'EX_cpd00151_e0': 1000, 'EX_cpd00246_e0': 1000, 'EX_cpd15482_e0': 1000, 'EX_cpd00048_e0': 1000, 'EX_cpd00121_e0': 1000, 'EX_cpd00489_e0': 1000, 'EX_sTn_antigen_e0': 1000, 'EX_cpd00018_e0': 1000, 'EX_cpd00453_e0': 1000, 'EX_s2l2n2m2mn_e0': 1000, 'EX_cpd00161_e0': 1000, 'EX_manttr_e0': 1000, 'EX_cpd00745_e0': 1000, 'EX_cpd03047_e0': 1000, 'EX_cpd03702_e0': 1000, 'EX_sphmyln_bt_e0': 1000, 'EX_stys_e0': 1000, 'EX_Tn_antigen_e0': 1000, 'EX_cpd04095_e0': 1000, 'EX_2fuclac_e0': 1000, 'EX_cpd01757_e0': 1000, 'EX_cpd15604_e0': 1000, 'EX_cpd00307_e0': 1000, 'EX_cpd08928_e0': 1000, 'EX_m2mn_e0': 1000, 'EX_cpd01157_e0': 1000, 'EX_cpd00875_e0': 1000, 'EX_glyasn_e0': 1000, 'EX_indlac_e0': 1000, 'EX_lacnfucpt_e0': 1000, 'EX_manpt_e0': 1000, 'EX_cpd00908_e0': 1000, 'EX_cpd03161_e0': 1000, 'EX_colipap-e_e0': 1000, 'EX_cpd02361_e0': 1000, 'EX_cpd01113_e0': 1000, 'EX_cpd00232_e0': 1000, 'EX_dhps-e_e0': 1000, 'EX_mantr_e0': 1000, 'EX_cpd00149_e0': 1000, 'EX_cpd02090_e0': 1000, 'EX_cpd11587_e0': 1000, 'EX_7ocholate_e0': 1000, 'EX_cpd00137_e0': 1000, 'EX_cpd03454_e0': 1000, 'EX_cpd00029_e0': 1000, 'EX_cpd00609_e0': 1000, 'EX_3fuclac_e0': 1000, 'EX_lmn30_e0': 1000, 'EX_cpd03977_e0': 1000, 'EX_cpd04100_e0': 1000, 'EX_core2_e0': 1000, 'EX_3ddlhept_e0': 1000, 'EX_core7_e0': 1000, 'EX_cpd00130_e0': 1000, 'EX_cpd01217_e0': 1000, 'EX_cpd00054_e0': 1000, 'EX_cpd00009_e0': 1000, 'EX_cpd00073_e0': 1000, 'EX_cpd00280_e0': 1000, 'EX_cpd02500_e0': 1000, 'EX_cpd00162_e0': 1000, 'EX_cpd00652_e0': 1000, 'EX_cpd00050_e0': 1000, 'EX_cpd00221_e0': 1000, 'EX_cpd00207_e0': 1000, 'EX_cpd00116_e0': 1000, 'EX_cpd00080_e0': 1000, 'EX_cpd01024_e0': 1000, 'EX_cpd00085_e0': 1000, 'EX_cpd00141_e0': 1000, 'EX_cpd03105_e0': 1000, 'EX_apio_D_e0': 1000, 'EX_cpd00059_e0': 1000, 'EX_cpd00653_e0': 1000, 'EX_leuleu_e0': 1000, 'EX_cpd00038_e0': 1000, 'EX_cpd00065_e0': 1000, 'EX_cpd00015_e0': 1000, 'EX_cpd00348_e0': 1000, 'EX_cpd00025_e0': 1000, 'EX_phearg_e0': 1000, 'EX_cpd00374_e0': 1000, 'EX_cpd06201_e0': 1000, 'EX_mqn11_e0': 1000, 'EX_cpd00105_e0': 1000, 'EX_cpd08305_e0': 1000, 'EX_cpd00067_e0': 1000, 'EX_alaasp_e0': 1000, 'EX_cpd11591_e0': 1000, 'EX_cpd01405_e0': 1000, 'EX_cpd00438_e0': 1000, 'EX_cpd15392_e0': 1000, 'EX_12ethd_e0': 1000, 'EX_cpd00751_e0': 1000, 'EX_cpd01399_e0': 1000, 'EX_cpd01981_e0': 1000, 'EX_arabinan101_e0': 1000, 'EX_cpd00138_e0': 1000, 'EX_cpd00055_e0': 1000, 'EX_cpd03294_e0': 1000, 'EX_cpd01017_e0': 1000, 'EX_cpd01262_e0': 1000, 'EX_cpd01171_e0': 1000, 'EX_cpd11583_e0': 1000, 'EX_cpd00314_e0': 1000, 'EX_cpd00811_e0': 1000, 'EX_s2l2n2m2m_e0': 1000, 'EX_cpd00157_e0': 1000, 'EX_cspg_c_e0': 1000, 'EX_cpd09878_e0': 1000, 'EX_cpd00386_e0': 1000, 'EX_cpd12843_e0': 1000, 'EX_cpd00870_e0': 1000, 'EX_cpd00311_e0': 1000, 'EX_cpd00053_e0': 1000, 'EX_pe_cer1_bt_e0': 1000, 'EX_cpd00396_e0': 1000, 'EX_cpd00588_e0': 1000, 'EX_cpd00114_e0': 1000, 'EX_ha_e0': 1000, 'EX_hspg_degr_13_e0': 1000, 'EX_ha_deg1_e0': 1000, 'EX_cpd00722_e0': 1000, 'EX_cpd11640_e0': 1000, 'EX_cpd00209_e0': 1000, 'EX_cpd09252_e0': 1000, 'EX_cpd00082_e0': 1000, 'EX_hspg_degr_2_e0': 1000, 'EX_cpd11580_e0': 1000, 'EX_cpd00028_e0': 1000, 'EX_gncore1_e0': 1000, 'EX_cpd15457_e0': 1000, 'EX_cpd03048_e0': 1000, 'EX_cpd00156_e0': 1000, 'EX_cpd25960_e0': 1000, 'EX_cpd00254_e0': 1000, 'EX_cpd00419_e0': 1000, 'EX_cpd00079_e0': 1000, 'EX_cpd00182_e0': 1000, 'EX_glycogen1500_e0': 1000, 'EX_cpd15385_e0': 1000, 'EX_cpd00218_e0': 1000, 'EX_cpd00367_e0': 1000, 'EX_oligofru4_e0': 1000, 'EX_mn_e0': 1000, 'EX_cpd00393_e0': 1000, 'EX_cpd01015_e0': 1000, 'EX_amannan140_e0': 1000, 'EX_cpd00382_e0': 1000, 'EX_cpd00041_e0': 1000, 'EX_cpd00111_e0': 1000, 'EX_cspg_a_e0': 1000, 'EX_cpd00071_e0': 1000, 'EX_cpd15559_e0': 1000, 'EX_cpd15494_e0': 1000, 'EX_cpd15387_e0': 1000, 'EX_cpd00175_e0': 1000, 'EX_cpd04273_e0': 1000, 'EX_cpd00781_e0': 1000, 'EX_cspg_b_degr_e0': 1000, 'EX_cpd03847_e0': 1000, 'EX_leugly_e0': 1000, 'EX_argarg_e0': 1000, 'EX_cpd00492_e0': 1000}\n"
     ]
    }
   ],
   "source": [
    "display(com_model.optimize().objective_value)\n",
    "print(com_model.medium)\n",
    "# minimal_media = cobra.medium.minimal_medium(com_model, 0.1, minimize_components=True)"
   ]
  },
  {
   "cell_type": "code",
   "execution_count": null,
   "id": "b1a2c895-3cd1-475f-8fe2-33a6b34df422",
   "metadata": {},
   "outputs": [
    {
     "name": "stdout",
     "output_type": "stream",
     "text": [
      "CPU times: total: 0 ns\n",
      "Wall time: 3 ms\n",
      "done defining the biomass reaction: 0.0\n"
     ]
    }
   ],
   "source": [
    "%run MSsmetana2.py\n",
    "%time smtna = Smetana([model1, model2], com_model, media)\n",
    "%time mus = smtna.mu_score()\n",
    "print(mus)"
   ]
  },
  {
   "cell_type": "code",
   "execution_count": null,
   "id": "dab4f715-fba9-4113-8857-aa1a55c93b07",
   "metadata": {},
   "outputs": [],
   "source": [
    "compartments = set()\n",
    "for met in com_model.metabolites:\n",
    "    compartments.add(met.compartment)\n",
    "display(compartments)"
   ]
  },
  {
   "cell_type": "markdown",
   "id": "6e99ec85-f7ca-47a7-badb-55b3923eabf2",
   "metadata": {},
   "source": [
    "### load the closest recapitulation of the Supporting Information example"
   ]
  },
  {
   "cell_type": "code",
   "execution_count": null,
   "id": "1186f3dc-e16c-4920-ae32-8d2400505fad",
   "metadata": {},
   "outputs": [],
   "source": [
    "# model_paths = [\n",
    "#     \"76994/2/2\",    # iML1515\n",
    "#     \"30650/16/3\",   # iSB1139\n",
    "#     \"122814/48/1\",  # M. barkeri Fusaro\n",
    "#     \"122814/45/1\",  # B. subtilis\n",
    "#     \"122814/42/1\",  # A. baylyi ADP1\n",
    "#     \"122814/39/1\",  # M. pneumoniae M129\n",
    "#     \"122814/36/1\",  # L. lactis 1403\n",
    "#     \"122814/33/1\",  # S. cerevisiae 288C\n",
    "#     \"122814/30/1\",  # H. pylori 26695\n",
    "#     \"122814/27/1\",  # P. putida KT2440\n",
    "#     \"122814/24/1\",  # E. coli K12 MG1655\n",
    "#     \"122814/21/1\",  # P. aeruginosa PA17\n",
    "#     \"122814/16/1\",  # M. genitalium G37\n",
    "#     \"122814/15/1\",  # S. auerus N315   \n",
    "#     ]\n",
    "# models = []\n",
    "# for path in model_paths:\n",
    "#     models.append(kbase_api.get_from_ws(path))"
   ]
  },
  {
   "cell_type": "code",
   "execution_count": null,
   "id": "6048ed21-8bc7-448e-b8e5-a8027ff5dd97",
   "metadata": {
    "tags": []
   },
   "outputs": [],
   "source": [
    "from modelseedpy.community.mscommunity import MSCommunity\n",
    "community, biomass_indices = MSCommunity.build_from_species_models(models, cobra_model=True)\n",
    "display(community.optimize().objective_value)"
   ]
  },
  {
   "cell_type": "code",
   "execution_count": null,
   "id": "3bbcee37-1e21-4b77-9c2b-f074ee266e0d",
   "metadata": {
    "tags": []
   },
   "outputs": [],
   "source": [
    "from collections import Counter\n",
    "counter = Counter([rxn.removeprefix(\"EX_\") for rxn in minimal_media.index])\n",
    "ex_rxns = {ex_rxn.id.removeprefix(\"EX_\"): met for ex_rxn in models[1].exchanges for met in ex_rxn.metabolites}\n",
    "scores = {met: counter[ex] / len(minimal_media) for ex, met in ex_rxns.items()}\n",
    "display(scores)"
   ]
  },
  {
   "cell_type": "markdown",
   "id": "8449e45c-583d-497a-894a-a70aa14fe14c",
   "metadata": {},
   "source": [
    "# calculate SMETANA scores"
   ]
  },
  {
   "cell_type": "markdown",
   "id": "f21bda45-9e2b-44f5-a12f-9c1beebc51cf",
   "metadata": {},
   "source": [
    "### SCS"
   ]
  },
  {
   "cell_type": "code",
   "execution_count": null,
   "id": "eec28a77-2325-4c3e-87c3-2e687001aadc",
   "metadata": {
    "tags": []
   },
   "outputs": [],
   "source": [
    "# %run ../../../../modelseedpy/modelseedpy/community/mscommunity.py\n",
    "# community, indices = MSCommunity.build_from_species_models(models)"
   ]
  },
  {
   "cell_type": "code",
   "execution_count": null,
   "id": "2474cf30-aec0-4db5-b936-33223cfb1f5f",
   "metadata": {
    "tags": []
   },
   "outputs": [],
   "source": [
    "# for reaction in smtna.community.reactions:\n",
    "#     print(dir(reaction))\n",
    "#     break\n",
    "# for content in dir(smtna.community.problem):\n",
    "#     if 'g' not in content:\n",
    "#         print(content)"
   ]
  },
  {
   "cell_type": "code",
   "execution_count": null,
   "id": "a8b43f9f-4aaa-47b5-8e0a-be87695eb269",
   "metadata": {},
   "outputs": [],
   "source": [
    "%run MSsmetana.py\n",
    "smtna = Smetana(models, media=media)\n",
    "scs = smtna.sc_score()\n",
    "print(scs)"
   ]
  },
  {
   "cell_type": "markdown",
   "id": "eccc82d0-1929-43ad-8193-fed60810e477",
   "metadata": {},
   "source": [
    "### MUS"
   ]
  },
  {
   "cell_type": "code",
   "execution_count": null,
   "id": "4a5d692f-7f83-4df7-8f6d-db45201eb53f",
   "metadata": {},
   "outputs": [],
   "source": [
    "%run MSsmetana2.py\n",
    "smtna = Smetana(models, media=media)\n",
    "mus = smtna.mu_score()\n",
    "print(mus)"
   ]
  },
  {
   "cell_type": "markdown",
   "id": "0c886275-699f-43e7-8a49-50262bfc9118",
   "metadata": {},
   "source": [
    "### MPS"
   ]
  },
  {
   "cell_type": "code",
   "execution_count": null,
   "id": "afa8af36-96c6-4523-8cc1-f471f9fbdafa",
   "metadata": {},
   "outputs": [],
   "source": [
    "%run MSsmetana.py\n",
    "smtna = Smetana(models, media=None)\n",
    "mps = smtna.mp_score()\n",
    "print(mps)"
   ]
  },
  {
   "cell_type": "markdown",
   "id": "e9290d07-0555-4fe3-bdc1-5665055809ec",
   "metadata": {},
   "source": [
    "### MIP"
   ]
  },
  {
   "cell_type": "code",
   "execution_count": null,
   "id": "d972170f-f25e-4671-a6e5-b1a2fc615cdc",
   "metadata": {},
   "outputs": [],
   "source": [
    "%run MSsmetana.py\n",
    "smtna = Smetana(models, media=None)\n",
    "mip = smtna.mip_score()\n",
    "print(mip)"
   ]
  },
  {
   "cell_type": "markdown",
   "id": "a2f547da-9a04-4fd6-a591-bd882439bca6",
   "metadata": {},
   "source": [
    "### MRO"
   ]
  },
  {
   "cell_type": "code",
   "execution_count": null,
   "id": "66f5b3c9-cb90-42af-9bb1-77baeba948b4",
   "metadata": {},
   "outputs": [],
   "source": [
    "%run MSsmetana.py\n",
    "smtna = Smetana(models, media=None)\n",
    "mro = smtna.mro_score()\n",
    "print(mro)"
   ]
  },
  {
   "cell_type": "markdown",
   "id": "812158b3-ec92-4c72-a5c4-722317e97f01",
   "metadata": {},
   "source": [
    "### SMETANA"
   ]
  },
  {
   "cell_type": "code",
   "execution_count": null,
   "id": "08258c8c-77b1-408c-8bb5-757fb40380d7",
   "metadata": {},
   "outputs": [],
   "source": [
    "%run MSsmetana.py\n",
    "smtna = Smetana(models, media=None)\n",
    "sms = smtna.smetana_score()\n",
    "print(sms)"
   ]
  },
  {
   "cell_type": "markdown",
   "id": "c19a04f0-4f58-416a-971d-3672c3fbf1a5",
   "metadata": {},
   "source": [
    "# Minimal media"
   ]
  },
  {
   "cell_type": "code",
   "execution_count": null,
   "id": "90fd830c-694d-423a-9344-726605999918",
   "metadata": {},
   "outputs": [],
   "source": [
    "%run MSsmetana.py\n",
    "\n",
    "# define the environment path \n",
    "import os\n",
    "local_cobrakbase_path = os.path.join('C:', 'Users', 'Andrew Freiburger','Documents','Argonne','cobrakbase')\n",
    "os.environ[\"HOME\"] = local_cobrakbase_path\n",
    "\n",
    "# import the models\n",
    "import cobrakbase\n",
    "token = 'XA5SZKL5HHKOI6O3C7PPIWUIO5S6JCJ7'\n",
    "kbase_api = cobrakbase.KBaseAPI(token)\n",
    "\n",
    "\n",
    "model = kbase_api.get_from_ws(\"76994/2/2\")\n",
    "# for model in models:\n",
    "#     results, sol = Smetana.minimal_medium(model)\n",
    "results, sol = Smetana.minimal_medium(model)\n",
    "print(results, sol)"
   ]
  },
  {
   "cell_type": "markdown",
   "id": "5ada4fa9-33aa-43e0-aed8-f2f4da058863",
   "metadata": {
    "tags": []
   },
   "source": [
    "# recapitulate the SI example community"
   ]
  },
  {
   "cell_type": "code",
   "execution_count": null,
   "id": "7d1d7cb4-8e1c-44da-8cf3-bf4b3004f328",
   "metadata": {},
   "outputs": [],
   "source": []
  },
  {
   "cell_type": "markdown",
   "id": "d28bc00f-558a-47cb-ac64-a57fdb17bc88",
   "metadata": {},
   "source": [
    "# Jenga method debug"
   ]
  },
  {
   "cell_type": "code",
   "execution_count": 1,
   "id": "226117a3-0486-4eb5-8a81-06778b4f5cda",
   "metadata": {},
   "outputs": [
    {
     "name": "stderr",
     "output_type": "stream",
     "text": [
      "C:\\Users\\Andrew Freiburger\\AppData\\Local\\Programs\\Python\\Python39\\lib\\site-packages\\requests\\__init__.py:102: RequestsDependencyWarning: urllib3 (1.26.9) or chardet (5.0.0)/charset_normalizer (2.0.12) doesn't match a supported version!\n",
      "  warnings.warn(\"urllib3 ({}) or chardet ({})/charset_normalizer ({}) doesn't match a supported \"\n"
     ]
    },
    {
     "name": "stdout",
     "output_type": "stream",
     "text": [
      "cobrakbase 0.2.8\n"
     ]
    }
   ],
   "source": [
    "# define the environment path \n",
    "import os\n",
    "local_cobrakbase_path = os.path.join('C:', 'Users', 'Andrew Freiburger','Documents','Argonne','cobrakbase')\n",
    "os.environ[\"HOME\"] = local_cobrakbase_path\n",
    "\n",
    "# import the models\n",
    "import cobrakbase\n",
    "token = 'RBP7R34IILI6IQN5533VVSVUZM6H7YU7'\n",
    "kbase_api = cobrakbase.KBaseAPI(token)\n",
    "model1 = kbase_api.get_from_ws(\"E_iAH991V2\",40576)\n",
    "model2 = kbase_api.get_from_ws(\"E_iML1515.kb\",40576)\n",
    "models = [model1, model2]\n",
    "com_model = kbase_api.get_from_ws(\"CMM_iAH991V2_iML1515.kb\",40576)\n",
    "\n",
    "# prevent excessive warnings\n",
    "import warnings\n",
    "warnings.filterwarnings(action='once')"
   ]
  },
  {
   "cell_type": "code",
   "execution_count": 4,
   "id": "075f26cf-35c5-4f05-b12c-1299f44c7ecc",
   "metadata": {},
   "outputs": [
    {
     "name": "stderr",
     "output_type": "stream",
     "text": [
      "C:\\Users\\Andrew Freiburger\\Documents\\Argonne\\ModelSEEDpy\\modelseedpy\\community\\mscommunity.py:213: DeprecationWarning: invalid escape sequence \\d\n",
      "  if re.search('^(bio)(\\d+)$', rxn.id):\n",
      "C:\\Users\\Andrew Freiburger\\AppData\\Local\\Programs\\Python\\Python39\\lib\\site-packages\\cobra\\medium\\minimal_medium.py:112: FutureWarning: The default dtype for empty Series will be 'object' instead of 'float64' in a future version. Specify a dtype explicitly to silence this warning.\n",
      "  medium = pd.Series()\n",
      "C:\\Users\\Andrew Freiburger\\AppData\\Local\\Programs\\Python\\Python39\\lib\\site-packages\\cobra\\medium\\minimal_medium.py:112: FutureWarning: The default dtype for empty Series will be 'object' instead of 'float64' in a future version. Specify a dtype explicitly to silence this warning.\n",
      "  medium = pd.Series()\n"
     ]
    },
    {
     "name": "stdout",
     "output_type": "stream",
     "text": [
      "Initial media defined with 23 exchanges\n",
      "The 5040 permutations of the {'EX_cpd00007_e0', 'EX_cpd00048_e0', 'EX_cpd00541_e0', 'EX_cpd00104_e0', 'EX_cpd10515_e0', 'EX_cpd00028_e0', 'EX_cpd00009_e0'} redundant compounds, from absolute tolerance of 1e-4, will be examined.\n",
      "{'EX_cpd00007_e0', 'EX_cpd00048_e0'}\n",
      "{'EX_cpd00541_e0', 'EX_cpd00007_e0', 'EX_cpd00048_e0'}\n",
      "{'EX_cpd00541_e0', 'EX_cpd00007_e0', 'EX_cpd00048_e0', 'EX_cpd00104_e0'}\n",
      "{'EX_cpd00007_e0', 'EX_cpd00048_e0', 'EX_cpd00541_e0', 'EX_cpd00104_e0', 'EX_cpd10515_e0'}\n",
      "{'EX_cpd00007_e0', 'EX_cpd00048_e0', 'EX_cpd00541_e0', 'EX_cpd00104_e0', 'EX_cpd10515_e0', 'EX_cpd00028_e0'}\n",
      "{'EX_cpd00007_e0', 'EX_cpd00048_e0', 'EX_cpd00541_e0', 'EX_cpd00104_e0', 'EX_cpd10515_e0', 'EX_cpd00028_e0', 'EX_cpd00009_e0'}\n",
      "[{'EX_cpd00007_e0', 'EX_cpd00048_e0', 'EX_cpd00541_e0', 'EX_cpd00104_e0', 'EX_cpd10515_e0', 'EX_cpd00028_e0', 'EX_cpd00009_e0'}]\n",
      "[{'EX_cpd00007_e0', 'EX_cpd00048_e0', 'EX_cpd00541_e0', 'EX_cpd00104_e0', 'EX_cpd10515_e0', 'EX_cpd00028_e0'}] [{'EX_cpd00007_e0', 'EX_cpd00048_e0', 'EX_cpd00541_e0', 'EX_cpd00104_e0', 'EX_cpd10515_e0', 'EX_cpd00028_e0'}]\n",
      "Unique combinations:\n",
      "1 [{'EX_cpd00007_e0', 'EX_cpd00048_e0', 'EX_cpd00541_e0', 'EX_cpd00104_e0', 'EX_cpd10515_e0', 'EX_cpd00028_e0'}]\n",
      "{11243: [{'EX_cpd00007_e0', 'EX_cpd00048_e0', 'EX_cpd00541_e0', 'EX_cpd00104_e0', 'EX_cpd10515_e0', 'EX_cpd00028_e0'}]}\n",
      "EX_cpd00007_e0 removed\n",
      "EX_cpd00048_e0 removed\n",
      "EX_cpd00541_e0 removed\n",
      "EX_cpd00104_e0 removed\n",
      "EX_cpd10515_e0 removed\n",
      "EX_cpd00028_e0 removed\n",
      "{'EX_cpd00009_e0': 0.1768688000036794,\n",
      " 'EX_cpd00018_e0': 999.9979822,\n",
      " 'EX_cpd00030_e0': 0.0005326000000265237,\n",
      " 'EX_cpd00034_e0': 0.0004992000000265238,\n",
      " 'EX_cpd00058_e0': 6.739999999999998e-05,\n",
      " 'EX_cpd00063_e0': 0.0009620000000722939,\n",
      " 'EX_cpd00098_e0': 0.0004668000000265238,\n",
      " 'EX_cpd00099_e0': 0.0004952000000457701,\n",
      " 'EX_cpd00149_e0': 0.0004692000000265238,\n",
      " 'EX_cpd00166_e0': 0.0004891000000265238,\n",
      " 'EX_cpd00205_e0': 0.019035799999983283,\n",
      " 'EX_cpd00244_e0': 3.07e-05,\n",
      " 'EX_cpd00254_e0': 0.0012921000000005733,\n",
      " 'EX_cpd00971_e0': 0.0004668000001402106,\n",
      " 'EX_cpd01017_e0': 346.16439278956796,\n",
      " 'EX_cpd03725_e0': 236.67168150488908,\n",
      " 'EX_cpd11574_e0': 2.1000000000000002e-06}\n",
      "Jenga fluxes examined after 17.444791666666667 minutes, with 6 change(s): {'dictionary_item_removed': [root['EX_cpd10515_e0'], root['EX_cpd00007_e0'], root['EX_cpd00028_e0'], root['EX_cpd00104_e0'], root['EX_cpd00048_e0'], root['EX_cpd00541_e0']]}\n"
     ]
    }
   ],
   "source": [
    "%run ../../../../ModelSEEDpy/modelseedpy/community/mscommunity.py\n",
    "non_interacting = MSCommunity.minimal_community_media(models, com_model, False)"
   ]
  },
  {
   "cell_type": "code",
   "execution_count": 1,
   "id": "ef7046f1-a614-4e7d-85b8-f793e9a9924f",
   "metadata": {},
   "outputs": [
    {
     "name": "stderr",
     "output_type": "stream",
     "text": [
      "C:\\Users\\Andrew Freiburger\\AppData\\Local\\Programs\\Python\\Python39\\lib\\site-packages\\requests\\__init__.py:102: RequestsDependencyWarning: urllib3 (1.26.9) or chardet (5.0.0)/charset_normalizer (2.0.12) doesn't match a supported version!\n",
      "  warnings.warn(\"urllib3 ({}) or chardet ({})/charset_normalizer ({}) doesn't match a supported \"\n"
     ]
    },
    {
     "name": "stdout",
     "output_type": "stream",
     "text": [
      "EX_cpd00007_e0 removed\n",
      "EX_cpd00104_e0 removed\n",
      "EX_cpd00028_e0 removed\n",
      "ERROR: The EX_cpd00037_e0 is not located in the media.\n",
      "EX_cpd10515_e0 removed\n",
      "ERROR: The EX_cpd00541_e0 is not located in the media.\n"
     ]
    }
   ],
   "source": [
    "from modelseedpy.core.fbahelper import FBAHelper\n",
    "\n",
    "media = {'EX_cpd00007_e0': 1000,\n",
    " 'EX_cpd00009_e0': 2.9779716628444723,\n",
    " 'EX_cpd00028_e0': 0.0004668000000265238,\n",
    " 'EX_cpd00030_e0': 0.0005359000000265238,\n",
    " 'EX_cpd00034_e0': 0.0005009000000265238,\n",
    " 'EX_cpd00048_e0': 0.025181600000034356,\n",
    " 'EX_cpd00058_e0': 7.09e-05,\n",
    " 'EX_cpd00063_e0': 0.0009873000000197862,\n",
    " 'EX_cpd00099_e0': 0.0005204999999932625,\n",
    " 'EX_cpd00104_e0': 2e-07,\n",
    " 'EX_cpd00149_e0': 0.0004693000000265238,\n",
    " 'EX_cpd00166_e0': 0.0004668000000265238,\n",
    " 'EX_cpd00205_e0': 0.019986099999982798,\n",
    " 'EX_cpd00244_e0': 3.23e-05,\n",
    " 'EX_cpd00254_e0': 0.0013343000000531902,\n",
    " 'EX_cpd00296_e0': 261.78999720518283,\n",
    " 'EX_cpd00971_e0': 0.0004668000001402106,\n",
    " 'EX_cpd01017_e0': 824.2636444260851,\n",
    " 'EX_cpd03725_e0': 657.6688983940277,\n",
    " 'EX_cpd10515_e0': 6.8362962026137515,\n",
    " 'EX_cpd11574_e0': 7.000000000000001e-07,\n",
    " 'EX_sphmyln_bt_e0': 0.0004668000000129604}\n",
    "\n",
    "possible_removal_tracker = {11232: [['EX_cpd00007_e0', 'EX_cpd00104_e0', 'EX_cpd00028_e0', 'EX_cpd00037_e0', 'EX_cpd10515_e0', 'EX_cpd00541_e0']]}\n",
    "new_media = FBAHelper.remove_media_compounds(media, list(possible_removal_tracker.values())[0][0])\n"
   ]
  },
  {
   "cell_type": "code",
   "execution_count": 2,
   "id": "ba6eec99-aa34-4194-a4da-6a98b07466c7",
   "metadata": {},
   "outputs": [
    {
     "ename": "TypeError",
     "evalue": "cannot unpack non-iterable NoneType object",
     "output_type": "error",
     "traceback": [
      "\u001b[1;31m---------------------------------------------------------------------------\u001b[0m",
      "\u001b[1;31mTypeError\u001b[0m                                 Traceback (most recent call last)",
      "Input \u001b[1;32mIn [2]\u001b[0m, in \u001b[0;36m<cell line: 2>\u001b[1;34m()\u001b[0m\n\u001b[0;32m      1\u001b[0m tup \u001b[38;5;241m=\u001b[39m (\u001b[38;5;241m1\u001b[39m, \u001b[38;5;241m2\u001b[39m, \u001b[38;5;241m3\u001b[39m)\n\u001b[1;32m----> 2\u001b[0m (a, b, c) \u001b[38;5;241m=\u001b[39m \u001b[38;5;28;01mNone\u001b[39;00m\n\u001b[0;32m      3\u001b[0m \u001b[38;5;28mprint\u001b[39m(a)\n",
      "\u001b[1;31mTypeError\u001b[0m: cannot unpack non-iterable NoneType object"
     ]
    }
   ],
   "source": [
    "tup = (1, 2, 3)\n",
    "(a, b, c) = None\n",
    "print(a)"
   ]
  }
 ],
 "metadata": {
  "kernelspec": {
   "display_name": "Python 3 (ipykernel)",
   "language": "python",
   "name": "python3"
  },
  "language_info": {
   "codemirror_mode": {
    "name": "ipython",
    "version": 3
   },
   "file_extension": ".py",
   "mimetype": "text/x-python",
   "name": "python",
   "nbconvert_exporter": "python",
   "pygments_lexer": "ipython3",
   "version": "3.9.12"
  }
 },
 "nbformat": 4,
 "nbformat_minor": 5
}
