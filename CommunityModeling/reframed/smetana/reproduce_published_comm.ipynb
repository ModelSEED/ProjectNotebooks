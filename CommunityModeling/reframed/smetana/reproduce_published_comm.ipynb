{
 "cells": [
  {
   "cell_type": "markdown",
   "id": "7125398c",
   "metadata": {},
   "source": [
    "# load a model"
   ]
  },
  {
   "cell_type": "code",
   "execution_count": 1,
   "id": "a576b647",
   "metadata": {},
   "outputs": [
    {
     "name": "stderr",
     "output_type": "stream",
     "text": [
      "C:\\Users\\Andrew Freiburger\\AppData\\Local\\Programs\\Python\\Python39\\lib\\site-packages\\requests\\__init__.py:102: RequestsDependencyWarning: urllib3 (1.26.9) or chardet (5.0.0)/charset_normalizer (2.0.12) doesn't match a supported version!\n",
      "  warnings.warn(\"urllib3 ({}) or chardet ({})/charset_normalizer ({}) doesn't match a supported \"\n"
     ]
    },
    {
     "name": "stdout",
     "output_type": "stream",
     "text": [
      "cobrakbase 0.2.8\n"
     ]
    },
    {
     "name": "stderr",
     "output_type": "stream",
     "text": [
      "WARNING:cobrakbase.core.kbasefba.fbamodel_builder:unable to add sink for [cpd15302_c0]: not found\n",
      "WARNING:cobrakbase.core.kbasefba.fbamodel_builder:unable to add sink for [cpd11416_c0]: not found\n",
      "WARNING:cobrakbase.core.kbasefba.fbamodel_builder:unable to add sink for [cpd15302_c0]: not found\n"
     ]
    }
   ],
   "source": [
    "# define the environment path \n",
    "import os\n",
    "local_cobrakbase_path = os.path.join('C:', 'Users', 'Andrew Freiburger','Documents','Argonne','cobrakbase')\n",
    "os.environ[\"HOME\"] = local_cobrakbase_path\n",
    "\n",
    "# import the models\n",
    "import cobrakbase\n",
    "token = 'XA5SZKL5HHKOI6O3C7PPIWUIO5S6JCJ7'\n",
    "kbase_api = cobrakbase.KBaseAPI(token)\n",
    "model1 = kbase_api.get_from_ws(\"iML1515\",76994)\n",
    "model2 = kbase_api.get_from_ws(\"iSB1139.kb.gf\",30650)"
   ]
  },
  {
   "cell_type": "markdown",
   "id": "800fa967",
   "metadata": {},
   "source": [
    "### load the closest recapitulation of the Supporting Information example"
   ]
  },
  {
   "cell_type": "code",
   "execution_count": 23,
   "id": "08f90167",
   "metadata": {},
   "outputs": [
    {
     "name": "stderr",
     "output_type": "stream",
     "text": [
      "WARNING:cobrakbase.core.kbasefba.fbamodel_builder:unable to add sink for [cpd15302_c0]: not found\n",
      "WARNING:cobrakbase.core.kbasefba.fbamodel_builder:unable to add sink for [cpd11416_c0]: not found\n",
      "WARNING:cobrakbase.core.kbasefba.fbamodel_builder:unable to add sink for [cpd15302_c0]: not found\n",
      "WARNING:cobrakbase.core.kbasefba.fbamodel_builder:unable to add sink for [cpd02701_c0]: not found\n",
      "WARNING:cobrakbase.core.kbasefba.fbamodel_builder:unable to add sink for [cpd15302_c0]: not found\n",
      "WARNING:cobrakbase.core.kbasefba.fbamodel_builder:unable to add sink for [cpd02701_c0]: not found\n",
      "WARNING:cobrakbase.core.kbasefba.fbamodel_builder:unable to add sink for [cpd15302_c0]: not found\n",
      "WARNING:cobrakbase.core.kbasefba.fbamodel_builder:unable to add sink for [cpd02701_c0]: not found\n",
      "WARNING:cobrakbase.core.kbasefba.fbamodel_builder:unable to add sink for [cpd15302_c0]: not found\n",
      "WARNING:cobrakbase.core.kbasefba.fbamodel_builder:unable to add sink for [cpd02701_c0]: not found\n",
      "WARNING:cobrakbase.core.kbasefba.fbamodel_builder:unable to add sink for [cpd15302_c0]: not found\n",
      "WARNING:cobrakbase.core.kbasefba.fbamodel_builder:unable to add sink for [cpd02701_c0]: not found\n",
      "WARNING:cobrakbase.core.kbasefba.fbamodel_builder:unable to add sink for [cpd15302_c0]: not found\n",
      "WARNING:cobrakbase.core.kbasefba.fbamodel_builder:unable to add sink for [cpd02701_c0]: not found\n",
      "WARNING:cobrakbase.core.kbasefba.fbamodel_builder:unable to add sink for [cpd15302_c0]: not found\n",
      "WARNING:cobrakbase.core.kbasefba.fbamodel_builder:unable to add sink for [cpd02701_c0]: not found\n",
      "WARNING:cobrakbase.core.kbasefba.fbamodel_builder:unable to add sink for [cpd15302_c0]: not found\n",
      "WARNING:cobrakbase.core.kbasefba.fbamodel_builder:unable to add sink for [cpd02701_c0]: not found\n",
      "WARNING:cobrakbase.core.kbasefba.fbamodel_builder:unable to add sink for [cpd15302_c0]: not found\n",
      "WARNING:cobrakbase.core.kbasefba.fbamodel_builder:unable to add sink for [cpd02701_c0]: not found\n",
      "WARNING:cobrakbase.core.kbasefba.fbamodel_builder:unable to add sink for [cpd15302_c0]: not found\n",
      "WARNING:cobrakbase.core.kbasefba.fbamodel_builder:unable to add sink for [cpd02701_c0]: not found\n",
      "WARNING:cobrakbase.core.kbasefba.fbamodel_builder:unable to add sink for [cpd15302_c0]: not found\n",
      "WARNING:cobrakbase.core.kbasefba.fbamodel_builder:unable to add sink for [cpd02701_c0]: not found\n",
      "WARNING:cobrakbase.core.kbasefba.fbamodel_builder:unable to add sink for [cpd15302_c0]: not found\n",
      "WARNING:cobrakbase.core.kbasefba.fbamodel_builder:unable to add sink for [cpd02701_c0]: not found\n",
      "WARNING:cobrakbase.core.kbasefba.fbamodel_builder:unable to add sink for [cpd15302_c0]: not found\n"
     ]
    }
   ],
   "source": [
    "# define the environment path \n",
    "import os\n",
    "local_cobrakbase_path = os.path.join('C:', 'Users', 'Andrew Freiburger','Documents','Argonne','cobrakbase')\n",
    "os.environ[\"HOME\"] = local_cobrakbase_path\n",
    "\n",
    "# import the models\n",
    "import cobrakbase\n",
    "token = 'XA5SZKL5HHKOI6O3C7PPIWUIO5S6JCJ7'\n",
    "kbase_api = cobrakbase.KBaseAPI(token)\n",
    "model_paths = [\n",
    "    \"76994/2/2\",    # iML1515\n",
    "    \"30650/16/3\",   # iSB1139\n",
    "    \"122814/48/1\",  # M. barkeri Fusaro\n",
    "    \"122814/45/1\",  # B. subtilis\n",
    "    \"122814/42/1\",  # A. baylyi ADP1\n",
    "    \"122814/39/1\",  # M. pneumoniae M129\n",
    "    \"122814/36/1\",  # L. lactis 1403\n",
    "    \"122814/33/1\",  # S. cerevisiae 288C\n",
    "    \"122814/30/1\",  # H. pylori 26695\n",
    "    \"122814/27/1\",  # P. putida KT2440\n",
    "    \"122814/24/1\",  # E. coli K12 MG1655\n",
    "    \"122814/21/1\",  # P. aeruginosa PA17\n",
    "    \"122814/16/1\",  # M. genitalium G37\n",
    "    \"122814/15/1\",  # S. auerus N315   \n",
    "    ]\n",
    "models = []\n",
    "for path in model_paths:\n",
    "    models.append(kbase_api.get_from_ws(path))"
   ]
  },
  {
   "cell_type": "markdown",
   "id": "fcff7001",
   "metadata": {},
   "source": [
    "# calculate SMETANA scores"
   ]
  },
  {
   "cell_type": "markdown",
   "id": "67d2c029",
   "metadata": {},
   "source": [
    "### SCS"
   ]
  },
  {
   "cell_type": "code",
   "execution_count": 26,
   "id": "a1148d66",
   "metadata": {},
   "outputs": [
    {
     "name": "stdout",
     "output_type": "stream",
     "text": [
      "<class 'reframed.solvers.optlang_solver.OptLangSolver'> <reframed.solvers.optlang_solver.OptLangSolver object at 0x000001EC9F86F580>\n",
      "{'iML1515': {'l_lactisIL1403': 0.0, 'p_putidaKT2440': 0.0, 'e_coliK12MG1655_1': 0.0, 'a_baylyiADP1': 0.0, 's_auerusN315': 0.0, 's_cerevisiaeS288C': 0.0, 'b_subtilis168': 0.0, 'm_pneumoniaeM129': 0.0, 'm_barkeriFusaro': 0.0, 'h_pylori26695': 0.0, 'p_aeruginosa_PA17': 0.0, 'm_genitaliumG37': 0.0, 'iSB1139': 0.0}, 'iSB1139': {'l_lactisIL1403': 0.0, 'iML1515': 0.0, 'p_putidaKT2440': 0.0, 'e_coliK12MG1655_1': 0.0, 'a_baylyiADP1': 0.0, 's_auerusN315': 0.0, 's_cerevisiaeS288C': 0.0, 'b_subtilis168': 0.0, 'm_pneumoniaeM129': 0.0, 'm_barkeriFusaro': 0.0, 'p_aeruginosa_PA17': 0.0, 'm_genitaliumG37': 0.0, 'h_pylori26695': 0.0}, 'm_barkeriFusaro': {'l_lactisIL1403': 0.0, 'iML1515': 0.0, 'p_putidaKT2440': 0.0, 'e_coliK12MG1655_1': 0.0, 'a_baylyiADP1': 0.0, 's_auerusN315': 0.0, 's_cerevisiaeS288C': 0.0, 'b_subtilis168': 0.0, 'm_pneumoniaeM129': 0.0, 'p_aeruginosa_PA17': 0.0, 'h_pylori26695': 0.0, 'm_genitaliumG37': 0.0, 'iSB1139': 0.0}, 'b_subtilis168': {'l_lactisIL1403': 0.0, 'iML1515': 0.0, 'p_putidaKT2440': 0.0, 'e_coliK12MG1655_1': 0.0, 'a_baylyiADP1': 0.0, 's_auerusN315': 0.0, 's_cerevisiaeS288C': 0.0, 'm_pneumoniaeM129': 0.0, 'm_barkeriFusaro': 0.0, 'h_pylori26695': 0.0, 'p_aeruginosa_PA17': 0.0, 'm_genitaliumG37': 0.0, 'iSB1139': 0.0}, 'a_baylyiADP1': {'l_lactisIL1403': 0.0, 'iML1515': 0.0, 'p_putidaKT2440': 0.0, 'e_coliK12MG1655_1': 0.0, 's_auerusN315': 0.0, 's_cerevisiaeS288C': 0.0, 'b_subtilis168': 0.0, 'm_pneumoniaeM129': 0.0, 'm_barkeriFusaro': 0.0, 'h_pylori26695': 0.0, 'p_aeruginosa_PA17': 0.0, 'm_genitaliumG37': 0.0, 'iSB1139': 0.0}, 'm_pneumoniaeM129': {'l_lactisIL1403': 0.0, 'iML1515': 0.0, 'p_putidaKT2440': 0.0, 'e_coliK12MG1655_1': 0.0, 'a_baylyiADP1': 0.0, 's_auerusN315': 0.0, 's_cerevisiaeS288C': 0.0, 'b_subtilis168': 0.0, 'm_barkeriFusaro': 0.0, 'p_aeruginosa_PA17': 0.0, 'h_pylori26695': 0.0, 'm_genitaliumG37': 0.0, 'iSB1139': 0.0}, 'l_lactisIL1403': {'iML1515': 0.0, 'p_putidaKT2440': 0.0, 'e_coliK12MG1655_1': 0.0, 'a_baylyiADP1': 0.0, 's_auerusN315': 0.0, 's_cerevisiaeS288C': 0.0, 'b_subtilis168': 0.0, 'm_barkeriFusaro': 0.0, 'm_pneumoniaeM129': 0.0, 'h_pylori26695': 0.0, 'p_aeruginosa_PA17': 0.0, 'm_genitaliumG37': 0.0, 'iSB1139': 0.0}, 's_cerevisiaeS288C': {'l_lactisIL1403': 0.0, 'iML1515': 0.0, 'p_putidaKT2440': 0.0, 'e_coliK12MG1655_1': 0.0, 'a_baylyiADP1': 0.0, 's_auerusN315': 0.0, 'b_subtilis168': 0.0, 'm_barkeriFusaro': 0.0, 'm_pneumoniaeM129': 0.0, 'h_pylori26695': 0.0, 'p_aeruginosa_PA17': 0.0, 'm_genitaliumG37': 0.0, 'iSB1139': 0.0}, 'h_pylori26695': {'l_lactisIL1403': 0.0, 'iML1515': 0.0, 'p_putidaKT2440': 0.0, 'e_coliK12MG1655_1': 0.0, 'a_baylyiADP1': 0.0, 's_auerusN315': 0.0, 's_cerevisiaeS288C': 0.0, 'b_subtilis168': 0.0, 'm_barkeriFusaro': 0.0, 'm_pneumoniaeM129': 0.0, 'p_aeruginosa_PA17': 0.0, 'm_genitaliumG37': 0.0, 'iSB1139': 0.0}, 'p_putidaKT2440': {'l_lactisIL1403': 0.0, 'iML1515': 0.0, 'e_coliK12MG1655_1': 0.0, 'a_baylyiADP1': 0.0, 's_auerusN315': 0.0, 's_cerevisiaeS288C': 0.0, 'b_subtilis168': 0.0, 'm_barkeriFusaro': 0.0, 'm_pneumoniaeM129': 0.0, 'h_pylori26695': 0.0, 'p_aeruginosa_PA17': 0.0, 'm_genitaliumG37': 0.0, 'iSB1139': 0.0}, 'e_coliK12MG1655_1': {'l_lactisIL1403': 0.0, 'iML1515': 0.0, 'p_putidaKT2440': 0.0, 'a_baylyiADP1': 0.0, 's_auerusN315': 0.0, 's_cerevisiaeS288C': 0.0, 'b_subtilis168': 0.0, 'm_barkeriFusaro': 0.0, 'm_pneumoniaeM129': 0.0, 'h_pylori26695': 0.0, 'p_aeruginosa_PA17': 0.0, 'm_genitaliumG37': 0.0, 'iSB1139': 0.0}, 'p_aeruginosa_PA17': {'l_lactisIL1403': 0.0, 'iML1515': 0.0, 'p_putidaKT2440': 0.0, 'e_coliK12MG1655_1': 0.0, 'a_baylyiADP1': 0.0, 's_auerusN315': 0.0, 's_cerevisiaeS288C': 0.0, 'b_subtilis168': 0.0, 'm_barkeriFusaro': 0.0, 'm_pneumoniaeM129': 0.0, 'h_pylori26695': 0.0, 'm_genitaliumG37': 0.0, 'iSB1139': 0.0}, 'm_genitaliumG37': {'l_lactisIL1403': 0.0, 'iML1515': 0.0, 'p_putidaKT2440': 0.0, 'e_coliK12MG1655_1': 0.0, 'a_baylyiADP1': 0.0, 's_auerusN315': 0.0, 's_cerevisiaeS288C': 0.0, 'b_subtilis168': 0.0, 'm_barkeriFusaro': 0.0, 'm_pneumoniaeM129': 0.0, 'h_pylori26695': 0.0, 'p_aeruginosa_PA17': 0.0, 'iSB1139': 0.0}, 's_auerusN315': {'l_lactisIL1403': 0.0, 'iML1515': 0.0, 'p_putidaKT2440': 0.0, 'e_coliK12MG1655_1': 0.0, 'a_baylyiADP1': 0.0, 's_cerevisiaeS288C': 0.0, 'b_subtilis168': 0.0, 'm_barkeriFusaro': 0.0, 'm_pneumoniaeM129': 0.0, 'h_pylori26695': 0.0, 'p_aeruginosa_PA17': 0.0, 'm_genitaliumG37': 0.0, 'iSB1139': 0.0}}\n"
     ]
    }
   ],
   "source": [
    "%run reframed_smetana.py\n",
    "smtna = smetana(models)\n",
    "scs = smtna.sc_score()\n",
    "print(scs)"
   ]
  },
  {
   "cell_type": "markdown",
   "id": "048e4762",
   "metadata": {},
   "source": [
    "### MUS"
   ]
  },
  {
   "cell_type": "code",
   "execution_count": 27,
   "id": "a57373cc",
   "metadata": {},
   "outputs": [
    {
     "name": "stdout",
     "output_type": "stream",
     "text": [
      "{'iML1515': {}, 'iSB1139': None, 'm_barkeriFusaro': None, 'b_subtilis168': None, 'a_baylyiADP1': None, 'm_pneumoniaeM129': None, 'l_lactisIL1403': None, 's_cerevisiaeS288C': None, 'h_pylori26695': None, 'p_putidaKT2440': None, 'e_coliK12MG1655_1': None, 'p_aeruginosa_PA17': None, 'm_genitaliumG37': None, 's_auerusN315': None}\n"
     ]
    },
    {
     "name": "stderr",
     "output_type": "stream",
     "text": [
      "C:\\Users\\Andrew Freiburger\\Documents\\Argonne\\ProjectNotebooks\\CommunityModeling\\reframed\\smetana\\MSsmetana.py:146: UserWarning: MUS: Failed to find a minimal growth medium for iSB1139\n",
      "  warn('MUS: Failed to find a minimal growth medium for ' + org_id)\n",
      "C:\\Users\\Andrew Freiburger\\Documents\\Argonne\\ProjectNotebooks\\CommunityModeling\\reframed\\smetana\\MSsmetana.py:146: UserWarning: MUS: Failed to find a minimal growth medium for m_barkeriFusaro\n",
      "  warn('MUS: Failed to find a minimal growth medium for ' + org_id)\n",
      "C:\\Users\\Andrew Freiburger\\Documents\\Argonne\\ProjectNotebooks\\CommunityModeling\\reframed\\smetana\\MSsmetana.py:146: UserWarning: MUS: Failed to find a minimal growth medium for b_subtilis168\n",
      "  warn('MUS: Failed to find a minimal growth medium for ' + org_id)\n",
      "C:\\Users\\Andrew Freiburger\\Documents\\Argonne\\ProjectNotebooks\\CommunityModeling\\reframed\\smetana\\MSsmetana.py:146: UserWarning: MUS: Failed to find a minimal growth medium for a_baylyiADP1\n",
      "  warn('MUS: Failed to find a minimal growth medium for ' + org_id)\n",
      "C:\\Users\\Andrew Freiburger\\Documents\\Argonne\\ProjectNotebooks\\CommunityModeling\\reframed\\smetana\\MSsmetana.py:146: UserWarning: MUS: Failed to find a minimal growth medium for m_pneumoniaeM129\n",
      "  warn('MUS: Failed to find a minimal growth medium for ' + org_id)\n",
      "C:\\Users\\Andrew Freiburger\\Documents\\Argonne\\ProjectNotebooks\\CommunityModeling\\reframed\\smetana\\MSsmetana.py:146: UserWarning: MUS: Failed to find a minimal growth medium for l_lactisIL1403\n",
      "  warn('MUS: Failed to find a minimal growth medium for ' + org_id)\n",
      "C:\\Users\\Andrew Freiburger\\Documents\\Argonne\\ProjectNotebooks\\CommunityModeling\\reframed\\smetana\\MSsmetana.py:146: UserWarning: MUS: Failed to find a minimal growth medium for s_cerevisiaeS288C\n",
      "  warn('MUS: Failed to find a minimal growth medium for ' + org_id)\n",
      "C:\\Users\\Andrew Freiburger\\Documents\\Argonne\\ProjectNotebooks\\CommunityModeling\\reframed\\smetana\\MSsmetana.py:146: UserWarning: MUS: Failed to find a minimal growth medium for h_pylori26695\n",
      "  warn('MUS: Failed to find a minimal growth medium for ' + org_id)\n",
      "C:\\Users\\Andrew Freiburger\\Documents\\Argonne\\ProjectNotebooks\\CommunityModeling\\reframed\\smetana\\MSsmetana.py:146: UserWarning: MUS: Failed to find a minimal growth medium for p_putidaKT2440\n",
      "  warn('MUS: Failed to find a minimal growth medium for ' + org_id)\n",
      "C:\\Users\\Andrew Freiburger\\Documents\\Argonne\\ProjectNotebooks\\CommunityModeling\\reframed\\smetana\\MSsmetana.py:146: UserWarning: MUS: Failed to find a minimal growth medium for e_coliK12MG1655_1\n",
      "  warn('MUS: Failed to find a minimal growth medium for ' + org_id)\n",
      "C:\\Users\\Andrew Freiburger\\Documents\\Argonne\\ProjectNotebooks\\CommunityModeling\\reframed\\smetana\\MSsmetana.py:146: UserWarning: MUS: Failed to find a minimal growth medium for p_aeruginosa_PA17\n",
      "  warn('MUS: Failed to find a minimal growth medium for ' + org_id)\n",
      "C:\\Users\\Andrew Freiburger\\Documents\\Argonne\\ProjectNotebooks\\CommunityModeling\\reframed\\smetana\\MSsmetana.py:146: UserWarning: MUS: Failed to find a minimal growth medium for m_genitaliumG37\n",
      "  warn('MUS: Failed to find a minimal growth medium for ' + org_id)\n",
      "C:\\Users\\Andrew Freiburger\\Documents\\Argonne\\ProjectNotebooks\\CommunityModeling\\reframed\\smetana\\MSsmetana.py:146: UserWarning: MUS: Failed to find a minimal growth medium for s_auerusN315\n",
      "  warn('MUS: Failed to find a minimal growth medium for ' + org_id)\n"
     ]
    }
   ],
   "source": [
    "%run reframed_smetana.py\n",
    "smtna = smetana(models)\n",
    "mus = smtna.mu_score()\n",
    "print(mus)"
   ]
  },
  {
   "cell_type": "markdown",
   "id": "d0122d81",
   "metadata": {},
   "source": [
    "### MPS"
   ]
  },
  {
   "cell_type": "code",
   "execution_count": 28,
   "id": "5d29db2e",
   "metadata": {},
   "outputs": [
    {
     "name": "stdout",
     "output_type": "stream",
     "text": [
      "{'iML1515': {}, 'iSB1139': {}, 'm_barkeriFusaro': {}, 'b_subtilis168': {}, 'a_baylyiADP1': {}, 'm_pneumoniaeM129': {}, 'l_lactisIL1403': {}, 's_cerevisiaeS288C': {}, 'h_pylori26695': {}, 'p_putidaKT2440': {}, 'e_coliK12MG1655_1': {}, 'p_aeruginosa_PA17': {}, 'm_genitaliumG37': {}, 's_auerusN315': {}}\n"
     ]
    }
   ],
   "source": [
    "%run reframed_smetana.py\n",
    "smtna = smetana(models)\n",
    "mps = smtna.mp_score()\n",
    "print(mps)"
   ]
  },
  {
   "cell_type": "markdown",
   "id": "32aae4e3",
   "metadata": {},
   "source": [
    "### MIP"
   ]
  },
  {
   "cell_type": "code",
   "execution_count": 29,
   "id": "6f6003a4",
   "metadata": {},
   "outputs": [
    {
     "name": "stdout",
     "output_type": "stream",
     "text": [
      "(0, {'noninteracting_medium': [], 'interacting_medium': []})\n"
     ]
    }
   ],
   "source": [
    "%run reframed_smetana.py\n",
    "smtna = smetana(models)\n",
    "mip = smtna.mip_score()\n",
    "print(mip)"
   ]
  },
  {
   "cell_type": "markdown",
   "id": "73f38f2f",
   "metadata": {},
   "source": [
    "### MRO"
   ]
  },
  {
   "cell_type": "code",
   "execution_count": 30,
   "id": "5c4e1854",
   "metadata": {},
   "outputs": [
    {
     "name": "stdout",
     "output_type": "stream",
     "text": [
      "(None, {'community_medium': set(), 'individual_media': {'iML1515': set(), 'iSB1139': set(), 'm_barkeriFusaro': set(), 'b_subtilis168': set(), 'a_baylyiADP1': set(), 'm_pneumoniaeM129': set(), 'l_lactisIL1403': set(), 's_cerevisiaeS288C': set(), 'h_pylori26695': set(), 'p_putidaKT2440': set(), 'e_coliK12MG1655_1': set(), 'p_aeruginosa_PA17': set(), 'm_genitaliumG37': set(), 's_auerusN315': set()}})\n"
     ]
    }
   ],
   "source": [
    "%run reframed_smetana.py\n",
    "smtna = smetana(models)\n",
    "mro = smtna.mro_score()\n",
    "print(mro)"
   ]
  },
  {
   "cell_type": "markdown",
   "id": "664d70d4",
   "metadata": {},
   "source": [
    "### SMETANA"
   ]
  },
  {
   "cell_type": "code",
   "execution_count": 31,
   "id": "c2fd719c",
   "metadata": {},
   "outputs": [
    {
     "name": "stdout",
     "output_type": "stream",
     "text": [
      "<class 'reframed.solvers.optlang_solver.OptLangSolver'> <reframed.solvers.optlang_solver.OptLangSolver object at 0x000001EC059223D0>\n"
     ]
    },
    {
     "name": "stderr",
     "output_type": "stream",
     "text": [
      "C:\\Users\\Andrew Freiburger\\Documents\\Argonne\\ProjectNotebooks\\CommunityModeling\\reframed\\smetana\\MSsmetana.py:146: UserWarning: MUS: Failed to find a minimal growth medium for iSB1139\n",
      "  warn('MUS: Failed to find a minimal growth medium for ' + org_id)\n",
      "C:\\Users\\Andrew Freiburger\\Documents\\Argonne\\ProjectNotebooks\\CommunityModeling\\reframed\\smetana\\MSsmetana.py:146: UserWarning: MUS: Failed to find a minimal growth medium for m_barkeriFusaro\n",
      "  warn('MUS: Failed to find a minimal growth medium for ' + org_id)\n",
      "C:\\Users\\Andrew Freiburger\\Documents\\Argonne\\ProjectNotebooks\\CommunityModeling\\reframed\\smetana\\MSsmetana.py:146: UserWarning: MUS: Failed to find a minimal growth medium for b_subtilis168\n",
      "  warn('MUS: Failed to find a minimal growth medium for ' + org_id)\n",
      "C:\\Users\\Andrew Freiburger\\Documents\\Argonne\\ProjectNotebooks\\CommunityModeling\\reframed\\smetana\\MSsmetana.py:146: UserWarning: MUS: Failed to find a minimal growth medium for a_baylyiADP1\n",
      "  warn('MUS: Failed to find a minimal growth medium for ' + org_id)\n",
      "C:\\Users\\Andrew Freiburger\\Documents\\Argonne\\ProjectNotebooks\\CommunityModeling\\reframed\\smetana\\MSsmetana.py:146: UserWarning: MUS: Failed to find a minimal growth medium for m_pneumoniaeM129\n",
      "  warn('MUS: Failed to find a minimal growth medium for ' + org_id)\n",
      "C:\\Users\\Andrew Freiburger\\Documents\\Argonne\\ProjectNotebooks\\CommunityModeling\\reframed\\smetana\\MSsmetana.py:146: UserWarning: MUS: Failed to find a minimal growth medium for l_lactisIL1403\n",
      "  warn('MUS: Failed to find a minimal growth medium for ' + org_id)\n",
      "C:\\Users\\Andrew Freiburger\\Documents\\Argonne\\ProjectNotebooks\\CommunityModeling\\reframed\\smetana\\MSsmetana.py:146: UserWarning: MUS: Failed to find a minimal growth medium for s_cerevisiaeS288C\n",
      "  warn('MUS: Failed to find a minimal growth medium for ' + org_id)\n",
      "C:\\Users\\Andrew Freiburger\\Documents\\Argonne\\ProjectNotebooks\\CommunityModeling\\reframed\\smetana\\MSsmetana.py:146: UserWarning: MUS: Failed to find a minimal growth medium for h_pylori26695\n",
      "  warn('MUS: Failed to find a minimal growth medium for ' + org_id)\n",
      "C:\\Users\\Andrew Freiburger\\Documents\\Argonne\\ProjectNotebooks\\CommunityModeling\\reframed\\smetana\\MSsmetana.py:146: UserWarning: MUS: Failed to find a minimal growth medium for p_putidaKT2440\n",
      "  warn('MUS: Failed to find a minimal growth medium for ' + org_id)\n",
      "C:\\Users\\Andrew Freiburger\\Documents\\Argonne\\ProjectNotebooks\\CommunityModeling\\reframed\\smetana\\MSsmetana.py:146: UserWarning: MUS: Failed to find a minimal growth medium for e_coliK12MG1655_1\n",
      "  warn('MUS: Failed to find a minimal growth medium for ' + org_id)\n",
      "C:\\Users\\Andrew Freiburger\\Documents\\Argonne\\ProjectNotebooks\\CommunityModeling\\reframed\\smetana\\MSsmetana.py:146: UserWarning: MUS: Failed to find a minimal growth medium for p_aeruginosa_PA17\n",
      "  warn('MUS: Failed to find a minimal growth medium for ' + org_id)\n",
      "C:\\Users\\Andrew Freiburger\\Documents\\Argonne\\ProjectNotebooks\\CommunityModeling\\reframed\\smetana\\MSsmetana.py:146: UserWarning: MUS: Failed to find a minimal growth medium for m_genitaliumG37\n",
      "  warn('MUS: Failed to find a minimal growth medium for ' + org_id)\n",
      "C:\\Users\\Andrew Freiburger\\Documents\\Argonne\\ProjectNotebooks\\CommunityModeling\\reframed\\smetana\\MSsmetana.py:146: UserWarning: MUS: Failed to find a minimal growth medium for s_auerusN315\n",
      "  warn('MUS: Failed to find a minimal growth medium for ' + org_id)\n"
     ]
    },
    {
     "name": "stdout",
     "output_type": "stream",
     "text": [
      "0\n"
     ]
    }
   ],
   "source": [
    "%run reframed_smetana.py\n",
    "smtna = smetana(models)\n",
    "sms = smtna.smetana_score()\n",
    "print(sms)"
   ]
  },
  {
   "cell_type": "markdown",
   "id": "d86c9b93",
   "metadata": {
    "tags": []
   },
   "source": [
    "# recapitulate the SI example community"
   ]
  },
  {
   "cell_type": "code",
   "execution_count": null,
   "id": "d0976332",
   "metadata": {},
   "outputs": [],
   "source": []
  }
 ],
 "metadata": {
  "kernelspec": {
   "display_name": "Python 3",
   "language": "python",
   "name": "python3"
  },
  "language_info": {
   "codemirror_mode": {
    "name": "ipython",
    "version": 3
   },
   "file_extension": ".py",
   "mimetype": "text/x-python",
   "name": "python",
   "nbconvert_exporter": "python",
   "pygments_lexer": "ipython3",
   "version": "3.7.4"
  }
 },
 "nbformat": 4,
 "nbformat_minor": 5
}
