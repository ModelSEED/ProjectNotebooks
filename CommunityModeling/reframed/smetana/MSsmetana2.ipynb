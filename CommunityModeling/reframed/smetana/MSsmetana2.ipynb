{
 "cells": [
  {
   "cell_type": "code",
   "execution_count": 1,
   "id": "0b145823",
   "metadata": {},
   "outputs": [
    {
     "name": "stderr",
     "output_type": "stream",
     "text": [
      "C:\\Users\\Andrew Freiburger\\AppData\\Local\\Programs\\Python\\Python39\\lib\\site-packages\\requests\\__init__.py:102: RequestsDependencyWarning: urllib3 (1.26.9) or chardet (5.0.0)/charset_normalizer (2.0.12) doesn't match a supported version!\n",
      "  warnings.warn(\"urllib3 ({}) or chardet ({})/charset_normalizer ({}) doesn't match a supported \"\n"
     ]
    },
    {
     "name": "stdout",
     "output_type": "stream",
     "text": [
      "cobrakbase 0.2.8\n"
     ]
    }
   ],
   "source": [
    "# define the environment path \n",
    "import os\n",
    "local_cobrakbase_path = os.path.join('C:', 'Users', 'Andrew Freiburger','Documents','Argonne','cobrakbase')\n",
    "os.environ[\"HOME\"] = local_cobrakbase_path\n",
    "\n",
    "# import the models\n",
    "import cobrakbase\n",
    "token = 'WNIJW5W2A376KPOGSMCJB4RTEFUULXZE'\n",
    "kbase_api = cobrakbase.KBaseAPI(token)\n",
    "model1 = kbase_api.get_from_ws(\"E_iAH991V2\",40576)\n",
    "model2 = kbase_api.get_from_ws(\"E_iML1515.kb\",40576)\n",
    "models = [model1, model2]\n",
    "com_model = kbase_api.get_from_ws(\"CMM_iAH991V2_iML1515.kb\",40576)\n",
    "\n",
    "# prevent excessive warnings\n",
    "import warnings\n",
    "warnings.filterwarnings(action='once')"
   ]
  },
  {
   "cell_type": "markdown",
   "id": "e1f7613d",
   "metadata": {},
   "source": [
    "# Class example"
   ]
  },
  {
   "cell_type": "code",
   "execution_count": 2,
<<<<<<< HEAD
   "id": "15f96648",
   "metadata": {},
=======
   "id": "49538482-47fa-4a3d-a6be-24a4827a9e2e",
   "metadata": {
    "tags": []
   },
>>>>>>> 3cd9b9493e8f4fa6c58de969420d58f1ff5e699a
   "outputs": [],
   "source": [
    "import json\n",
    "%run MSsmetana2.py\n",
    "\n",
    "# This media was previously calculated and exported for convenience to no redefine it with each simulation\n",
    "with open(\"CMM_iAH991V2_iML1515.kb_media.json\", 'r') as medium:\n",
    "    media=json.load(medium)\n",
    "\n",
    "smetana_scores = Smetana(models, com_model, media_dict=media, compatibilize=False)"
   ]
  },
  {
   "cell_type": "code",
   "execution_count": 3,
   "id": "1474df78",
   "metadata": {
    "collapsed": true,
    "jupyter": {
     "outputs_hidden": true
    },
    "tags": []
   },
   "outputs": [
    {
     "name": "stdout",
     "output_type": "stream",
     "text": [
      "MRO score:\t\t\t42.86% of member minimal media, on average, overlap with other member minimal media.\n"
     ]
    },
    {
     "name": "stderr",
     "output_type": "stream",
     "text": [
      "C:\\Users\\Andrew Freiburger\\AppData\\Local\\Programs\\Python\\Python39\\lib\\site-packages\\cobra\\medium\\minimal_medium.py:112: FutureWarning: The default dtype for empty Series will be 'object' instead of 'float64' in a future version. Specify a dtype explicitly to silence this warning.\n",
      "  medium = pd.Series()\n",
      "C:\\Users\\Andrew Freiburger\\AppData\\Local\\Programs\\Python\\Python39\\lib\\site-packages\\cobra\\medium\\minimal_medium.py:112: FutureWarning: The default dtype for empty Series will be 'object' instead of 'float64' in a future version. Specify a dtype explicitly to silence this warning.\n",
      "  medium = pd.Series()\n"
     ]
    },
    {
     "name": "stdout",
     "output_type": "stream",
     "text": [
      "Initial media defined with 23 exchanges\n",
      "The 5040 permutations of the {'EX_cpd00028_e0', 'EX_cpd00104_e0', 'EX_cpd00009_e0', 'EX_cpd00541_e0', 'EX_cpd00048_e0', 'EX_cpd10515_e0', 'EX_cpd01570_e0'} redundant compounds, from absolute tolerance of 1e-4, will be examined.\n",
      "{'EX_cpd00028_e0', 'EX_cpd00104_e0', 'EX_cpd00009_e0', 'EX_cpd00541_e0', 'EX_cpd00048_e0', 'EX_cpd10515_e0', 'EX_cpd01570_e0'}\n",
      "[{'EX_cpd00028_e0', 'EX_cpd00104_e0', 'EX_cpd00009_e0', 'EX_cpd00541_e0', 'EX_cpd00048_e0', 'EX_cpd10515_e0', 'EX_cpd01570_e0'}]\n",
      "[{'EX_cpd00028_e0', 'EX_cpd00104_e0', 'EX_cpd00009_e0', 'EX_cpd00541_e0', 'EX_cpd00048_e0', 'EX_cpd10515_e0'}] [{'EX_cpd00028_e0', 'EX_cpd00104_e0', 'EX_cpd00009_e0', 'EX_cpd00541_e0', 'EX_cpd00048_e0', 'EX_cpd10515_e0'}]\n",
      "Unique combinations:\n",
      "1 [{'EX_cpd00028_e0', 'EX_cpd00104_e0', 'EX_cpd00009_e0', 'EX_cpd00541_e0', 'EX_cpd00048_e0', 'EX_cpd10515_e0'}]\n",
      "{11245: [{'EX_cpd00028_e0', 'EX_cpd00104_e0', 'EX_cpd00009_e0', 'EX_cpd00541_e0', 'EX_cpd00048_e0', 'EX_cpd10515_e0'}]}\n",
      "EX_cpd00028_e0 removed\n",
      "EX_cpd00104_e0 removed\n",
      "EX_cpd00009_e0 removed\n",
      "EX_cpd00541_e0 removed\n",
      "EX_cpd00048_e0 removed\n",
      "EX_cpd10515_e0 removed\n",
      "{'EX_cpd00007_e0': 1000.0000223,\n",
      " 'EX_cpd00030_e0': 0.0005326000000265237,\n",
      " 'EX_cpd00034_e0': 0.0004992000000265238,\n",
      " 'EX_cpd00058_e0': 6.739999999999998e-05,\n",
      " 'EX_cpd00063_e0': 0.0009620000000722939,\n",
      " 'EX_cpd00098_e0': 10.500407471304925,\n",
      " 'EX_cpd00099_e0': 0.0004952000000457701,\n",
      " 'EX_cpd00149_e0': 0.0004692000000265238,\n",
      " 'EX_cpd00166_e0': 0.0004891000000265238,\n",
      " 'EX_cpd00205_e0': 0.019035799999983283,\n",
      " 'EX_cpd00244_e0': 3.07e-05,\n",
      " 'EX_cpd00254_e0': 0.0012921000000005733,\n",
      " 'EX_cpd00971_e0': 0.0004668000001402106,\n",
      " 'EX_cpd01017_e0': 591.3730964939617,\n",
      " 'EX_cpd01570_e0': 138.92131569784812,\n",
      " 'EX_cpd03725_e0': 554.212955031386,\n",
      " 'EX_cpd11574_e0': 2.1000000000000002e-06}\n",
      "Jenga fluxes examined after 15.700260416666667 minutes, with 6 change(s): {'dictionary_item_removed': [root['EX_cpd00009_e0'], root['EX_cpd00028_e0'], root['EX_cpd10515_e0'], root['EX_cpd00541_e0'], root['EX_cpd00104_e0'], root['EX_cpd00048_e0']]}\n",
      "Difference between the non-interacting and interacting media.\n",
      "{'dictionary_item_added': [root['EX_cpd00009_e0'], root['EX_cpd00104_e0']],\n",
      " 'dictionary_item_removed': [root['EX_cpd01017_e0'], root['EX_cpd01570_e0']],\n",
      " 'values_changed': {\"root['EX_cpd00007_e0']\": {'new_value': 534.8875709068566,\n",
      "                                               'old_value': 1000.0000223},\n",
      "                    \"root['EX_cpd00030_e0']\": {'new_value': 0.0005359000000265238,\n",
      "                                               'old_value': 0.0005326000000265237},\n",
      "                    \"root['EX_cpd00034_e0']\": {'new_value': 0.0005009000000265238,\n",
      "                                               'old_value': 0.0004992000000265238},\n",
      "                    \"root['EX_cpd00058_e0']\": {'new_value': 7.09e-05,\n",
      "                                               'old_value': 6.739999999999998e-05},\n",
      "                    \"root['EX_cpd00063_e0']\": {'new_value': 0.0009873000000197862,\n",
      "                                               'old_value': 0.0009620000000722939},\n",
      "                    \"root['EX_cpd00098_e0']\": {'new_value': 0.0004668000000265238,\n",
      "                                               'old_value': 10.500407471304925},\n",
      "                    \"root['EX_cpd00099_e0']\": {'new_value': 0.0005204999999932625,\n",
      "                                               'old_value': 0.0004952000000457701},\n",
      "                    \"root['EX_cpd00149_e0']\": {'new_value': 0.0004693000000265238,\n",
      "                                               'old_value': 0.0004692000000265238},\n",
      "                    \"root['EX_cpd00166_e0']\": {'new_value': 0.0004668000000265238,\n",
      "                                               'old_value': 0.0004891000000265238},\n",
      "                    \"root['EX_cpd00205_e0']\": {'new_value': 0.019986099999982798,\n",
      "                                               'old_value': 0.019035799999983283},\n",
      "                    \"root['EX_cpd00244_e0']\": {'new_value': 3.23e-05,\n",
      "                                               'old_value': 3.07e-05},\n",
      "                    \"root['EX_cpd00254_e0']\": {'new_value': 0.0013343000000531902,\n",
      "                                               'old_value': 0.0012921000000005733},\n",
      "                    \"root['EX_cpd03725_e0']\": {'new_value': 632.8198637528724,\n",
      "                                               'old_value': 554.212955031386},\n",
      "                    \"root['EX_cpd11574_e0']\": {'new_value': 7.000000000000001e-07,\n",
      "                                               'old_value': 2.1000000000000002e-06}}}\n",
      "MIP score:\t\t\t0 required community compounds are sourced via syntrophy in the community.\n",
      "MU score:\t\t\tThe fraction of solutions in which each member is the syntrophic receiver that contain a respective metabolite.\n",
      "\n",
      "{'Bacteroides_thetaiotaomicron_VPI-5482.fbamdl.23': {'alaglu_e0': 0.59,\n",
      "                                                     'alathr_e0': 0.67,\n",
      "                                                     'arabttr_e0': 0.05,\n",
      "                                                     'argarg_e0': 0.06,\n",
      "                                                     'cpd00001_e0': 1.0,\n",
      "                                                     'cpd00007_e0': 1.0,\n",
      "                                                     'cpd00009_e0': 1.0,\n",
      "                                                     'cpd00020_e0': 1.0,\n",
      "                                                     'cpd00027_e0': 0.08,\n",
      "                                                     'cpd00028_e0': 1.0,\n",
      "                                                     'cpd00030_e0': 1.0,\n",
      "                                                     'cpd00034_e0': 1.0,\n",
      "                                                     'cpd00039_e0': 1.0,\n",
      "                                                     'cpd00041_e0': 0.02,\n",
      "                                                     'cpd00053_e0': 0.69,\n",
      "                                                     'cpd00054_e0': 0.9,\n",
      "                                                     'cpd00060_e0': 0.32,\n",
      "                                                     'cpd00063_e0': 1.0,\n",
      "                                                     'cpd00065_e0': 1.0,\n",
      "                                                     'cpd00066_e0': 0.08,\n",
      "                                                     'cpd00069_e0': 0.3,\n",
      "                                                     'cpd00082_e0': 0.02,\n",
      "                                                     'cpd00084_e0': 0.73,\n",
      "                                                     'cpd00092_e0': 0.06,\n",
      "                                                     'cpd00104_e0': 1.0,\n",
      "                                                     'cpd00105_e0': 0.01,\n",
      "                                                     'cpd00106_e0': 0.04,\n",
      "                                                     'cpd00107_e0': 0.11,\n",
      "                                                     'cpd00108_e0': 0.74,\n",
      "                                                     'cpd00117_e0': 0.01,\n",
      "                                                     'cpd00119_e0': 0.55,\n",
      "                                                     'cpd00122_e0': 0.99,\n",
      "                                                     'cpd00129_e0': 0.88,\n",
      "                                                     'cpd00132_e0': 0.53,\n",
      "                                                     'cpd00149_e0': 1.0,\n",
      "                                                     'cpd00156_e0': 1.0,\n",
      "                                                     'cpd00159_e0': 0.09,\n",
      "                                                     'cpd00161_e0': 1.0,\n",
      "                                                     'cpd00166_e0': 1.0,\n",
      "                                                     'cpd00179_e0': 0.06,\n",
      "                                                     'cpd00182_e0': 1.0,\n",
      "                                                     'cpd00184_e0': 0.96,\n",
      "                                                     'cpd00205_e0': 1.0,\n",
      "                                                     'cpd00208_e0': 0.03,\n",
      "                                                     'cpd00218_e0': 1.0,\n",
      "                                                     'cpd00220_e0': 1.0,\n",
      "                                                     'cpd00221_e0': 0.4,\n",
      "                                                     'cpd00224_e0': 0.9,\n",
      "                                                     'cpd00249_e0': 0.01,\n",
      "                                                     'cpd00254_e0': 1.0,\n",
      "                                                     'cpd00263_e0': 1.0,\n",
      "                                                     'cpd00264_e0': 1.0,\n",
      "                                                     'cpd00277_e0': 0.67,\n",
      "                                                     'cpd00280_e0': 0.94,\n",
      "                                                     'cpd00305_e0': 1.0,\n",
      "                                                     'cpd00311_e0': 0.35,\n",
      "                                                     'cpd00322_e0': 1.0,\n",
      "                                                     'cpd00363_e0': 0.33,\n",
      "                                                     'cpd00367_e0': 1.0,\n",
      "                                                     'cpd00393_e0': 1.0,\n",
      "                                                     'cpd00396_e0': 0.85,\n",
      "                                                     'cpd00430_e0': 0.04,\n",
      "                                                     'cpd00438_e0': 0.04,\n",
      "                                                     'cpd00644_e0': 1.0,\n",
      "                                                     'cpd00654_e0': 0.94,\n",
      "                                                     'cpd00971_e0': 1.0,\n",
      "                                                     'cpd01017_e0': 0.27,\n",
      "                                                     'cpd10515_e0': 1.0,\n",
      "                                                     'cpd10516_e0': 0.13,\n",
      "                                                     'cpd11583_e0': 0.01,\n",
      "                                                     'cpd11584_e0': 0.49,\n",
      "                                                     'cpd11587_e0': 0.05,\n",
      "                                                     'cpd11591_e0': 0.45,\n",
      "                                                     'cpd15500_e0': 1.0,\n",
      "                                                     'cpd15605_e0': 0.61,\n",
      "                                                     'cpd15606_e0': 0.81,\n",
      "                                                     'cps_bt_e0': 1.0,\n",
      "                                                     'dt5hsu_e0': 0.04,\n",
      "                                                     'galam_e0': 0.39,\n",
      "                                                     'glyasn_e0': 0.47,\n",
      "                                                     'glycogen1500_e0': 0.12,\n",
      "                                                     'glyglu_e0': 0.45,\n",
      "                                                     'glypro_e0': 0.1,\n",
      "                                                     'gncore2_e0': 0.01,\n",
      "                                                     'hspg_degr_11_e0': 0.86,\n",
      "                                                     'hspg_degr_6_e0': 0.35,\n",
      "                                                     'lacdfucttr_e0': 0.03,\n",
      "                                                     'lacnttr_e0': 0.01,\n",
      "                                                     'leugly_e0': 0.01,\n",
      "                                                     'leuleu_e0': 0.88,\n",
      "                                                     'levan1000_e0': 0.27,\n",
      "                                                     'lps_bt_e0': 1.0,\n",
      "                                                     'metala_e0': 0.5,\n",
      "                                                     'pe_cer1_bt_e0': 1.0,\n",
      "                                                     'pect_e0': 0.22,\n",
      "                                                     'phearg_e0': 0.94,\n",
      "                                                     'rhamnogalurI_e0': 0.05,\n",
      "                                                     's2l2n2m2m_e0': 0.04,\n",
      "                                                     's2l2n2m2mn_e0': 0.01,\n",
      "                                                     'sphmyln_bt_e0': 1.0},\n",
      " 'iML1515': {'4abzglu-e_e0': 1.0,\n",
      "             'cpd00001_e0': 0.5,\n",
      "             'cpd00007_e0': 1.0,\n",
      "             'cpd00020_e0': 0.27,\n",
      "             'cpd00023_e0': 0.96,\n",
      "             'cpd00024_e0': 1.0,\n",
      "             'cpd00030_e0': 1.0,\n",
      "             'cpd00034_e0': 1.0,\n",
      "             'cpd00039_e0': 1.0,\n",
      "             'cpd00042_e0': 1.0,\n",
      "             'cpd00048_e0': 1.0,\n",
      "             'cpd00051_e0': 1.0,\n",
      "             'cpd00053_e0': 0.01,\n",
      "             'cpd00054_e0': 0.43,\n",
      "             'cpd00058_e0': 0.15,\n",
      "             'cpd00060_e0': 1.0,\n",
      "             'cpd00063_e0': 1.0,\n",
      "             'cpd00066_e0': 1.0,\n",
      "             'cpd00069_e0': 1.0,\n",
      "             'cpd00071_e0': 0.56,\n",
      "             'cpd00072_e0': 0.04,\n",
      "             'cpd00079_e0': 0.7,\n",
      "             'cpd00080_e0': 0.89,\n",
      "             'cpd00084_e0': 0.76,\n",
      "             'cpd00089_e0': 0.04,\n",
      "             'cpd00091_e0': 0.04,\n",
      "             'cpd00092_e0': 0.19,\n",
      "             'cpd00098_e0': 0.32,\n",
      "             'cpd00099_e0': 1.0,\n",
      "             'cpd00100_e0': 0.14,\n",
      "             'cpd00106_e0': 0.08,\n",
      "             'cpd00107_e0': 1.0,\n",
      "             'cpd00118_e0': 0.78,\n",
      "             'cpd00119_e0': 1.0,\n",
      "             'cpd00121_e0': 0.03,\n",
      "             'cpd00126_e0': 0.01,\n",
      "             'cpd00128_e0': 0.04,\n",
      "             'cpd00129_e0': 1.0,\n",
      "             'cpd00130_e0': 0.22,\n",
      "             'cpd00132_e0': 1.0,\n",
      "             'cpd00144_e0': 0.01,\n",
      "             'cpd00149_e0': 1.0,\n",
      "             'cpd00152_e0': 0.22,\n",
      "             'cpd00156_e0': 1.0,\n",
      "             'cpd00157_e0': 0.37,\n",
      "             'cpd00159_e0': 0.05,\n",
      "             'cpd00161_e0': 1.0,\n",
      "             'cpd00164_e0': 0.01,\n",
      "             'cpd00166_e0': 1.0,\n",
      "             'cpd00182_e0': 0.72,\n",
      "             'cpd00184_e0': 0.94,\n",
      "             'cpd00205_e0': 1.0,\n",
      "             'cpd00207_e0': 0.33,\n",
      "             'cpd00208_e0': 0.03,\n",
      "             'cpd00209_e0': 0.9,\n",
      "             'cpd00214_e0': 0.11,\n",
      "             'cpd00221_e0': 0.01,\n",
      "             'cpd00244_e0': 1.0,\n",
      "             'cpd00246_e0': 0.12,\n",
      "             'cpd00248_e0': 0.56,\n",
      "             'cpd00249_e0': 0.37,\n",
      "             'cpd00254_e0': 1.0,\n",
      "             'cpd00264_e0': 1.0,\n",
      "             'cpd00277_e0': 0.29,\n",
      "             'cpd00280_e0': 0.02,\n",
      "             'cpd00281_e0': 0.12,\n",
      "             'cpd00288_e0': 1.0,\n",
      "             'cpd00294_e0': 0.01,\n",
      "             'cpd00298_e0': 0.06,\n",
      "             'cpd00299_e0': 0.01,\n",
      "             'cpd00305_e0': 1.0,\n",
      "             'cpd00309_e0': 0.07,\n",
      "             'cpd00311_e0': 0.38,\n",
      "             'cpd00322_e0': 1.0,\n",
      "             'cpd00355_e0': 1.0,\n",
      "             'cpd00359_e0': 1.0,\n",
      "             'cpd00363_e0': 0.15,\n",
      "             'cpd00367_e0': 0.97,\n",
      "             'cpd00383_e0': 0.44,\n",
      "             'cpd00391_e0': 0.04,\n",
      "             'cpd00412_e0': 0.41,\n",
      "             'cpd00418_e0': 0.53,\n",
      "             'cpd00438_e0': 0.31,\n",
      "             'cpd00448_e0': 0.01,\n",
      "             'cpd00497_e0': 0.01,\n",
      "             'cpd00507_e0': 0.17,\n",
      "             'cpd00532_e0': 1.0,\n",
      "             'cpd00550_e0': 0.06,\n",
      "             'cpd00609_e0': 0.37,\n",
      "             'cpd00644_e0': 1.0,\n",
      "             'cpd00652_e0': 0.14,\n",
      "             'cpd00666_e0': 0.81,\n",
      "             'cpd00672_e0': 0.23,\n",
      "             'cpd00731_e0': 0.04,\n",
      "             'cpd00738_e0': 0.06,\n",
      "             'cpd00781_e0': 0.01,\n",
      "             'cpd00811_e0': 0.33,\n",
      "             'cpd00885_e0': 0.08,\n",
      "             'cpd00908_e0': 0.11,\n",
      "             'cpd00988_e0': 0.02,\n",
      "             'cpd01092_e0': 1.0,\n",
      "             'cpd01217_e0': 0.05,\n",
      "             'cpd01570_e0': 0.03,\n",
      "             'cpd01571_e0': 0.03,\n",
      "             'cpd01908_e0': 0.02,\n",
      "             'cpd02027_e0': 1.0,\n",
      "             'cpd02090_e0': 0.11,\n",
      "             'cpd03191_e0': 0.02,\n",
      "             'cpd03279_e0': 0.04,\n",
      "             'cpd03453_e0': 0.02,\n",
      "             'cpd03587_e0': 0.11,\n",
      "             'cpd03701_e0': 0.01,\n",
      "             'cpd03704_e0': 0.01,\n",
      "             'cpd03726_e0': 0.98,\n",
      "             'cpd04099_e0': 0.05,\n",
      "             'cpd08021_e0': 0.12,\n",
      "             'cpd08928_e0': 0.18,\n",
      "             'cpd10515_e0': 1.0,\n",
      "             'cpd11574_e0': 1.0,\n",
      "             'cpd11640_e0': 0.5,\n",
      "             'cpd14659_e0': 0.01,\n",
      "             'cpd15385_e0': 0.09,\n",
      "             'cpd15386_e0': 0.69,\n",
      "             'cpd15387_e0': 0.32,\n",
      "             'cpd15388_e0': 0.16,\n",
      "             'cpd15432_e0': 1.0,\n",
      "             'cpd15468_e0': 0.45,\n",
      "             'cpd30760_e0': 0.85,\n",
      "             'metglcur-e_e0': 0.01,\n",
      "             'tartr-D-e_e0': 0.48}}\n",
      "MP score:\t\t\tThe possible contributions of each member in the member media include:\n",
      "\n",
      "{'Bacteroides_thetaiotaomicron_VPI-5482.fbamdl.23': ['cpd00239_e0',\n",
      "                                                     'cpd00309_e0',\n",
      "                                                     'cpd00067_e0',\n",
      "                                                     'cpd00106_e0',\n",
      "                                                     'cpd00001_e0',\n",
      "                                                     'cpd00029_e0',\n",
      "                                                     'cpd00013_e0',\n",
      "                                                     'cpd00047_e0',\n",
      "                                                     'cpd11640_e0',\n",
      "                                                     'cpd00540_e0',\n",
      "                                                     'cpd10515_e0',\n",
      "                                                     'cpd00092_e0',\n",
      "                                                     'cpd00020_e0',\n",
      "                                                     'cpd00073_e0',\n",
      "                                                     'cpd00036_e0',\n",
      "                                                     'cpd00084_e0',\n",
      "                                                     'cpd10516_e0',\n",
      "                                                     'cpd00033_e0',\n",
      "                                                     'cpd00011_e0',\n",
      "                                                     'cpd00075_e0',\n",
      "                                                     'cpd00137_e0',\n",
      "                                                     'cpd00159_e0',\n",
      "                                                     'cpd00041_e0',\n",
      "                                                     'cpd00221_e0',\n",
      "                                                     'cpd00054_e0',\n",
      "                                                     'cpd00132_e0',\n",
      "                                                     'cpd00023_e0',\n",
      "                                                     'cpd00141_e0',\n",
      "                                                     'cpd00117_e0',\n",
      "                                                     'cpd00428_e0',\n",
      "                                                     'cpd00035_e0',\n",
      "                                                     'cpd00053_e0',\n",
      "                                                     'cpd00161_e0',\n",
      "                                                     'cpd00363_e0',\n",
      "                                                     'cpd00281_e0',\n",
      "                                                     'isobut_e0',\n",
      "                                                     'cpd00129_e0',\n",
      "                                                     'cpd00051_e0',\n",
      "                                                     'cpd03105_e0',\n",
      "                                                     'cpd00064_e0',\n",
      "                                                     'cpd00156_e0',\n",
      "                                                     'cpd00060_e0',\n",
      "                                                     'cpd00218_e0',\n",
      "                                                     'cpd00119_e0',\n",
      "                                                     'cpd01861_e0',\n",
      "                                                     'cpd00249_e0',\n",
      "                                                     'cpd00453_e0',\n",
      "                                                     'cpd00039_e0',\n",
      "                                                     'cpd00118_e0',\n",
      "                                                     'cpd00182_e0',\n",
      "                                                     'cpd00107_e0',\n",
      "                                                     'cpd00105_e0',\n",
      "                                                     'cpd00246_e0',\n",
      "                                                     'cpd00322_e0',\n",
      "                                                     'cpd00311_e0',\n",
      "                                                     'cpd00367_e0',\n",
      "                                                     'isoval_e0',\n",
      "                                                     'cpd00654_e0',\n",
      "                                                     'isocapr_e0',\n",
      "                                                     'cpd15836_e0',\n",
      "                                                     'cpd00136_e0',\n",
      "                                                     'cpd00438_e0',\n",
      "                                                     'cpd00644_e0',\n",
      "                                                     'cpd00489_e0',\n",
      "                                                     'cpd00153_e0',\n",
      "                                                     'cpd00122_e0',\n",
      "                                                     'argarg_e0',\n",
      "                                                     'cpd00393_e0',\n",
      "                                                     'cpd00430_e0',\n",
      "                                                     '12ethd_e0',\n",
      "                                                     'cpd00069_e0',\n",
      "                                                     'cpd00731_e0',\n",
      "                                                     'cpd00184_e0',\n",
      "                                                     'cpd00143_e0',\n",
      "                                                     'cpd00066_e0',\n",
      "                                                     'plac_e0',\n",
      "                                                     'cpd00703_e0',\n",
      "                                                     'cpd00264_e0',\n",
      "                                                     'phppa_e0',\n",
      "                                                     'mbenz_e0',\n",
      "                                                     'cpd00065_e0',\n",
      "                                                     'indlac_e0',\n",
      "                                                     'cpd05228_e0',\n",
      "                                                     'phearg_e0',\n",
      "                                                     'cpd00220_e0',\n",
      "                                                     'cpd00305_e0',\n",
      "                                                     'cpd00116_e0',\n",
      "                                                     'cpd15500_e0',\n",
      "                                                     'mqn10_e0',\n",
      "                                                     'cpd11606_e0',\n",
      "                                                     'mqn9_e0',\n",
      "                                                     'mqn11_e0'],\n",
      " 'iML1515': ['cpd00309_e0',\n",
      "             'cpd00001_e0',\n",
      "             'cpd00013_e0',\n",
      "             'cpd11640_e0',\n",
      "             'cpd00092_e0',\n",
      "             'cpd00540_e0',\n",
      "             'cpd00106_e0',\n",
      "             'cpd00029_e0',\n",
      "             'cpd00128_e0',\n",
      "             'cpd10515_e0',\n",
      "             'cpd00020_e0',\n",
      "             'cpd00239_e0',\n",
      "             'cpd00067_e0',\n",
      "             'cpd00036_e0',\n",
      "             'cpd00084_e0',\n",
      "             'cpd00033_e0',\n",
      "             'cpd00047_e0',\n",
      "             'cpd00226_e0',\n",
      "             'cpd00024_e0',\n",
      "             'cpd10516_e0',\n",
      "             'cpd00075_e0',\n",
      "             'cpd00139_e0',\n",
      "             'cpd00011_e0',\n",
      "             'cpd00071_e0',\n",
      "             'cpd00130_e0',\n",
      "             'cpd00207_e0',\n",
      "             'cpd00137_e0',\n",
      "             'cpd00041_e0',\n",
      "             'cpd00221_e0',\n",
      "             'cpd00073_e0',\n",
      "             'cpd00054_e0',\n",
      "             'cpd00159_e0',\n",
      "             'cpd00132_e0',\n",
      "             'cpd00223_e0',\n",
      "             'cpd01092_e0',\n",
      "             'cpd00141_e0',\n",
      "             'cpd00023_e0',\n",
      "             'cpd00151_e0',\n",
      "             'cpd00117_e0',\n",
      "             'cpd00157_e0',\n",
      "             'cpd00035_e0',\n",
      "             'cpd00722_e0',\n",
      "             'cpd00053_e0',\n",
      "             'cpd00161_e0',\n",
      "             'cpd00448_e0',\n",
      "             'cpd00281_e0',\n",
      "             'cpd00363_e0',\n",
      "             'cpd00227_e0',\n",
      "             'cpd00042_e0',\n",
      "             'cpd00781_e0',\n",
      "             'cpd00100_e0',\n",
      "             'cpd00129_e0',\n",
      "             'cpd00156_e0',\n",
      "             'cpd00051_e0',\n",
      "             'cpd00060_e0',\n",
      "             'cpd00218_e0',\n",
      "             'cpd00064_e0',\n",
      "             'cpd01861_e0',\n",
      "             'cpd00249_e0',\n",
      "             'cpd00453_e0',\n",
      "             'cpd00152_e0',\n",
      "             'cpd00119_e0',\n",
      "             'cpd01217_e0',\n",
      "             'cpd00367_e0',\n",
      "             'cpd00745_e0',\n",
      "             'cpd00222_e0',\n",
      "             'cpd00105_e0',\n",
      "             'cpd00246_e0',\n",
      "             'cpd00039_e0',\n",
      "             'cpd00322_e0',\n",
      "             'cpd00182_e0',\n",
      "             'cpd00573_e0',\n",
      "             'cpd00118_e0',\n",
      "             'cpd00107_e0',\n",
      "             'cpd00311_e0',\n",
      "             'cpd01113_e0',\n",
      "             'cpd00654_e0',\n",
      "             'cpd01155_e0',\n",
      "             'cpd15127_e0',\n",
      "             'cpd00438_e0',\n",
      "             '4abzglu-e_e0',\n",
      "             'cpd00122_e0',\n",
      "             'cpd00162_e0',\n",
      "             'cpd00644_e0',\n",
      "             'cpd00069_e0',\n",
      "             'cpd15386_e0',\n",
      "             'cpd00731_e0',\n",
      "             'cpd00184_e0',\n",
      "             'cpd00066_e0',\n",
      "             'cpd00264_e0',\n",
      "             'cpd01981_e0',\n",
      "             'cpd00359_e0',\n",
      "             'cpd00065_e0',\n",
      "             'cpd15387_e0',\n",
      "             'cpd15396_e0',\n",
      "             'cpd00305_e0',\n",
      "             'cpd03453_e0',\n",
      "             'cpd03726_e0',\n",
      "             'cpd00116_e0']}\n"
     ]
    },
    {
     "data": {
      "text/plain": [
       "{'Bacteroides_thetaiotaomicron_VPI-5482.fbamdl.23': ['cpd00239_e0',\n",
       "  'cpd00309_e0',\n",
       "  'cpd00067_e0',\n",
       "  'cpd00106_e0',\n",
       "  'cpd00001_e0',\n",
       "  'cpd00029_e0',\n",
       "  'cpd00013_e0',\n",
       "  'cpd00047_e0',\n",
       "  'cpd11640_e0',\n",
       "  'cpd00540_e0',\n",
       "  'cpd10515_e0',\n",
       "  'cpd00092_e0',\n",
       "  'cpd00020_e0',\n",
       "  'cpd00073_e0',\n",
       "  'cpd00036_e0',\n",
       "  'cpd00084_e0',\n",
       "  'cpd10516_e0',\n",
       "  'cpd00033_e0',\n",
       "  'cpd00011_e0',\n",
       "  'cpd00075_e0',\n",
       "  'cpd00137_e0',\n",
       "  'cpd00159_e0',\n",
       "  'cpd00041_e0',\n",
       "  'cpd00221_e0',\n",
       "  'cpd00054_e0',\n",
       "  'cpd00132_e0',\n",
       "  'cpd00023_e0',\n",
       "  'cpd00141_e0',\n",
       "  'cpd00117_e0',\n",
       "  'cpd00428_e0',\n",
       "  'cpd00035_e0',\n",
       "  'cpd00053_e0',\n",
       "  'cpd00161_e0',\n",
       "  'cpd00363_e0',\n",
       "  'cpd00281_e0',\n",
       "  'isobut_e0',\n",
       "  'cpd00129_e0',\n",
       "  'cpd00051_e0',\n",
       "  'cpd03105_e0',\n",
       "  'cpd00064_e0',\n",
       "  'cpd00156_e0',\n",
       "  'cpd00060_e0',\n",
       "  'cpd00218_e0',\n",
       "  'cpd00119_e0',\n",
       "  'cpd01861_e0',\n",
       "  'cpd00249_e0',\n",
       "  'cpd00453_e0',\n",
       "  'cpd00039_e0',\n",
       "  'cpd00118_e0',\n",
       "  'cpd00182_e0',\n",
       "  'cpd00107_e0',\n",
       "  'cpd00105_e0',\n",
       "  'cpd00246_e0',\n",
       "  'cpd00322_e0',\n",
       "  'cpd00311_e0',\n",
       "  'cpd00367_e0',\n",
       "  'isoval_e0',\n",
       "  'cpd00654_e0',\n",
       "  'isocapr_e0',\n",
       "  'cpd15836_e0',\n",
       "  'cpd00136_e0',\n",
       "  'cpd00438_e0',\n",
       "  'cpd00644_e0',\n",
       "  'cpd00489_e0',\n",
       "  'cpd00153_e0',\n",
       "  'cpd00122_e0',\n",
       "  'argarg_e0',\n",
       "  'cpd00393_e0',\n",
       "  'cpd00430_e0',\n",
       "  '12ethd_e0',\n",
       "  'cpd00069_e0',\n",
       "  'cpd00731_e0',\n",
       "  'cpd00184_e0',\n",
       "  'cpd00143_e0',\n",
       "  'cpd00066_e0',\n",
       "  'plac_e0',\n",
       "  'cpd00703_e0',\n",
       "  'cpd00264_e0',\n",
       "  'phppa_e0',\n",
       "  'mbenz_e0',\n",
       "  'cpd00065_e0',\n",
       "  'indlac_e0',\n",
       "  'cpd05228_e0',\n",
       "  'phearg_e0',\n",
       "  'cpd00220_e0',\n",
       "  'cpd00305_e0',\n",
       "  'cpd00116_e0',\n",
       "  'cpd15500_e0',\n",
       "  'mqn10_e0',\n",
       "  'cpd11606_e0',\n",
       "  'mqn9_e0',\n",
       "  'mqn11_e0'],\n",
       " 'iML1515': ['cpd00309_e0',\n",
       "  'cpd00001_e0',\n",
       "  'cpd00013_e0',\n",
       "  'cpd11640_e0',\n",
       "  'cpd00092_e0',\n",
       "  'cpd00540_e0',\n",
       "  'cpd00106_e0',\n",
       "  'cpd00029_e0',\n",
       "  'cpd00128_e0',\n",
       "  'cpd10515_e0',\n",
       "  'cpd00020_e0',\n",
       "  'cpd00239_e0',\n",
       "  'cpd00067_e0',\n",
       "  'cpd00036_e0',\n",
       "  'cpd00084_e0',\n",
       "  'cpd00033_e0',\n",
       "  'cpd00047_e0',\n",
       "  'cpd00226_e0',\n",
       "  'cpd00024_e0',\n",
       "  'cpd10516_e0',\n",
       "  'cpd00075_e0',\n",
       "  'cpd00139_e0',\n",
       "  'cpd00011_e0',\n",
       "  'cpd00071_e0',\n",
       "  'cpd00130_e0',\n",
       "  'cpd00207_e0',\n",
       "  'cpd00137_e0',\n",
       "  'cpd00041_e0',\n",
       "  'cpd00221_e0',\n",
       "  'cpd00073_e0',\n",
       "  'cpd00054_e0',\n",
       "  'cpd00159_e0',\n",
       "  'cpd00132_e0',\n",
       "  'cpd00223_e0',\n",
       "  'cpd01092_e0',\n",
       "  'cpd00141_e0',\n",
       "  'cpd00023_e0',\n",
       "  'cpd00151_e0',\n",
       "  'cpd00117_e0',\n",
       "  'cpd00157_e0',\n",
       "  'cpd00035_e0',\n",
       "  'cpd00722_e0',\n",
       "  'cpd00053_e0',\n",
       "  'cpd00161_e0',\n",
       "  'cpd00448_e0',\n",
       "  'cpd00281_e0',\n",
       "  'cpd00363_e0',\n",
       "  'cpd00227_e0',\n",
       "  'cpd00042_e0',\n",
       "  'cpd00781_e0',\n",
       "  'cpd00100_e0',\n",
       "  'cpd00129_e0',\n",
       "  'cpd00156_e0',\n",
       "  'cpd00051_e0',\n",
       "  'cpd00060_e0',\n",
       "  'cpd00218_e0',\n",
       "  'cpd00064_e0',\n",
       "  'cpd01861_e0',\n",
       "  'cpd00249_e0',\n",
       "  'cpd00453_e0',\n",
       "  'cpd00152_e0',\n",
       "  'cpd00119_e0',\n",
       "  'cpd01217_e0',\n",
       "  'cpd00367_e0',\n",
       "  'cpd00745_e0',\n",
       "  'cpd00222_e0',\n",
       "  'cpd00105_e0',\n",
       "  'cpd00246_e0',\n",
       "  'cpd00039_e0',\n",
       "  'cpd00322_e0',\n",
       "  'cpd00182_e0',\n",
       "  'cpd00573_e0',\n",
       "  'cpd00118_e0',\n",
       "  'cpd00107_e0',\n",
       "  'cpd00311_e0',\n",
       "  'cpd01113_e0',\n",
       "  'cpd00654_e0',\n",
       "  'cpd01155_e0',\n",
       "  'cpd15127_e0',\n",
       "  'cpd00438_e0',\n",
       "  '4abzglu-e_e0',\n",
       "  'cpd00122_e0',\n",
       "  'cpd00162_e0',\n",
       "  'cpd00644_e0',\n",
       "  'cpd00069_e0',\n",
       "  'cpd15386_e0',\n",
       "  'cpd00731_e0',\n",
       "  'cpd00184_e0',\n",
       "  'cpd00066_e0',\n",
       "  'cpd00264_e0',\n",
       "  'cpd01981_e0',\n",
       "  'cpd00359_e0',\n",
       "  'cpd00065_e0',\n",
       "  'cpd15387_e0',\n",
       "  'cpd15396_e0',\n",
       "  'cpd00305_e0',\n",
       "  'cpd03453_e0',\n",
       "  'cpd03726_e0',\n",
       "  'cpd00116_e0']}"
      ]
     },
     "execution_count": 3,
     "metadata": {},
     "output_type": "execute_result"
    }
   ],
   "source": [
    "# MRO score\n",
    "smetana_scores.mro_score()\n",
    "# print(\"MRO score:\\t\\t\\t\", smetana_scores.mro)\n",
    "\n",
    "# MIP score\n",
    "smetana_scores.mip_score(interacting_media=smetana_scores.media)\n",
    "# print(\"\\n\\nMIP score:\\t\\t\\t\", smetana_scores.mip)\n",
    "\n",
    "# MU score\n",
    "smetana_scores.mu_score()\n",
    "# print(\"\\n\\nMU score:\\t\\t\\t\", smetana_scores.mu)\n",
    "\n",
    "# MP score\n",
    "smetana_scores.mp_score()\n",
    "# print(\"\\n\\nMP score:\\t\\t\\t\", smetana_scores.mp)"
   ]
  },
  {
   "cell_type": "code",
<<<<<<< HEAD
   "execution_count": 6,
   "id": "14937b13",
=======
   "execution_count": 4,
   "id": "37e19f24-3359-4ec5-8f58-68df19bd8587",
>>>>>>> 3cd9b9493e8f4fa6c58de969420d58f1ff5e699a
   "metadata": {
    "collapsed": true,
    "jupyter": {
     "outputs_hidden": true
    },
    "tags": []
   },
   "outputs": [
    {
     "name": "stderr",
     "output_type": "stream",
     "text": [
      "modelseedpy.community.mscompatibility - WARNING - IDWarning: The original ID cpd03191_e0 is a ModelSEED ID, and may not be desirably changed to cpd00880_e0.\n",
      "modelseedpy.community.mscompatibility - WARNING - IDWarning: The original ID cpd15494_e0 is a ModelSEED ID, and may not be desirably changed to cpd03718_e0.\n",
      "C:\\Users\\Andrew Freiburger\\AppData\\Local\\Programs\\Python\\Python39\\lib\\site-packages\\cobra\\core\\model.py:522: DeprecationWarning: add_reaction deprecated. Use add_reactions instead\n",
      "  warn(\"add_reaction deprecated. Use add_reactions instead\", DeprecationWarning)\n",
      "modelseedpy.community.mscompatibility - WARNING - ModelSEEDError: The old metabolite cpd01399_e0 cross-references ({'AraCyc': ['MALTOTETRAOSE'], 'BiGG': ['maltttr'], 'BrachyCyc': ['MALTOTETRAOSE'], 'KEGG': ['C02052', 'G00457'], 'MetaCyc': ['MALTOTETRAOSE']}) do not overlap with those ({'KEGG': ['C00713', 'G00277', 'G00746'], 'MetaCyc': ['CPD-13556']}) of the new metabolite cpd01399_e0.\n",
      "modelseedpy.community.mscompatibility - WARNING - IDWarning: The original ID cpd01399_e0 is a ModelSEED ID, and may not be desirably changed to cpd00537_e0.\n"
     ]
    },
    {
     "name": "stdout",
     "output_type": "stream",
     "text": [
      "\n",
      "\n",
      "\n",
      "Standardize exchange reactions in CMM_iAH991V2_iML1515.kb \n",
      " ============================================================\n"
     ]
    },
    {
     "name": "stderr",
     "output_type": "stream",
     "text": [
      "modelseedpy.community.mscompatibility - WARNING - ModelSEEDError: The metabolite (metglcur-e_e0 | 1-O-methyl-Beta-D-glucuronate | Omethylbetadglucuronate | 1-O-methyl-Beta-D-glucuronate) is not recognized by the ModelSEED Database\n",
      "modelseedpy.community.mscompatibility - WARNING - IDWarning: The original ID cpd15411_e0 is a ModelSEED ID, and may not be desirably changed to cpd03294_e0.\n",
      "modelseedpy.community.mscompatibility - WARNING - ReactionWarning: The metabolite cpd03294_e0 replacement for cpd15411_e0 already exists in the reaction rxn08144_e0 | cpd10516_e0 + cpd15411_e0 --> cpd03294_e0, which inhibits an update.\n",
      "modelseedpy.community.mscompatibility - WARNING - IDWarning: The original ID cpd00609_e0 is a ModelSEED ID, and may not be desirably changed to cpd00571_e0.\n",
      "C:\\Users\\Andrew Freiburger\\AppData\\Local\\Programs\\Python\\Python39\\lib\\site-packages\\cobra\\io\\dict.py:89: DeprecationWarning: `np.float` is a deprecated alias for the builtin `float`. To silence this warning, use `float` by itself. Doing this will not modify any behavior and is safe. If you specifically wanted the numpy scalar type, use `np.float64` here.\n",
      "Deprecated in NumPy 1.20; for more details and guidance: https://numpy.org/devdocs/release/1.20.0-notes.html#deprecations\n",
      "  if isinstance(value, np.float):\n",
      "C:\\Users\\Andrew Freiburger\\AppData\\Local\\Programs\\Python\\Python39\\lib\\site-packages\\cobra\\io\\dict.py:91: DeprecationWarning: `np.bool` is a deprecated alias for the builtin `bool`. To silence this warning, use `bool` by itself. Doing this will not modify any behavior and is safe. If you specifically wanted the numpy scalar type, use `np.bool_` here.\n",
      "Deprecated in NumPy 1.20; for more details and guidance: https://numpy.org/devdocs/release/1.20.0-notes.html#deprecations\n",
      "  if isinstance(value, np.bool):\n"
     ]
    },
    {
     "name": "stdout",
     "output_type": "stream",
     "text": [
      "\n",
      "\n",
      "344 reactions were substituted and 12 metabolite IDs were redefined by standardize().\n"
     ]
    },
    {
     "name": "stderr",
     "output_type": "stream",
     "text": [
      "modelseedpy.community.mscompatibility - WARNING - IDWarning: The original ID cpd15494_e0 is a ModelSEED ID, and may not be desirably changed to cpd03718_e0.\n",
      "modelseedpy.community.mscompatibility - WARNING - ReactionWarning: The metabolite cpd32553_e0 replacement for hspg_degr_5_e0 already exists in the reaction AS3TASE__DASH__HS1_c0 | cpd00001_e0 + cpd32553_e0 --> cpd00048_e0 + cpd00067_e0 + hspg_degr_5_e0, which inhibits an update.\n",
      "modelseedpy.community.mscompatibility - WARNING - ModelSEEDError: The old metabolite cpd01399_e0 cross-references ({'AraCyc': ['MALTOTETRAOSE'], 'BiGG': ['maltttr'], 'BrachyCyc': ['MALTOTETRAOSE'], 'KEGG': ['C02052', 'G00457'], 'MetaCyc': ['MALTOTETRAOSE']}) do not overlap with those ({'KEGG': ['C00713', 'G00277', 'G00746'], 'MetaCyc': ['CPD-13556']}) of the new metabolite cpd01399_e0.\n",
      "modelseedpy.community.mscompatibility - WARNING - IDWarning: The original ID cpd01399_e0 is a ModelSEED ID, and may not be desirably changed to cpd00537_e0.\n",
      "modelseedpy.community.mscompatibility - WARNING - ReactionWarning: The metabolite cpd32553_e0 replacement for hspg_degr_3_e0 already exists in the reaction AS6TASE__DASH__HS1_c0 | 2 cpd00001_e0 + hspg_degr_3_e0 --> 2 cpd00048_e0 + 2 cpd00067_e0 + cpd32553_e0, which inhibits an update.\n"
     ]
    },
    {
     "name": "stdout",
     "output_type": "stream",
     "text": [
      "\n",
      "\n",
      "\n",
      "Standardize exchange reactions in Bacteroides_thetaiotaomicron_VPI-5482.fbamdl.23 \n",
      " ====================================================================================\n"
     ]
    },
    {
     "name": "stderr",
     "output_type": "stream",
     "text": [
      "modelseedpy.community.mscompatibility - WARNING - ModelSEEDError: The old metabolite cpd00098_e0 cross-references ({'AraCyc': ['CHOLINE'], 'BiGG': ['chol'], 'BrachyCyc': ['CHOLINE'], 'KEGG': ['C00114'], 'MetaCyc': ['CHOLINE']}) do not overlap with those ({'MetaCyc': ['GLYCO-CT-PHOSPHATE']}) of the new metabolite cpd00098_e0.\n",
      "modelseedpy.community.mscompatibility - WARNING - IDWarning: The original ID cpd00098_e0 is a ModelSEED ID, and may not be desirably changed to cpd32553_e0.\n",
      "modelseedpy.community.mscompatibility - WARNING - IDWarning: The original ID cpd03191_e0 is a ModelSEED ID, and may not be desirably changed to cpd00880_e0.\n",
      "modelseedpy.community.mscompatibility - WARNING - ModelSEEDError: The metabolite (metglcur-e_e0 | 1-O-methyl-Beta-D-glucuronate | Omethylbetadglucuronate | 1-O-methyl-Beta-D-glucuronate) is not recognized by the ModelSEED Database\n",
      "modelseedpy.community.mscompatibility - WARNING - IDWarning: The original ID cpd15411_e0 is a ModelSEED ID, and may not be desirably changed to cpd03294_e0.\n",
      "modelseedpy.community.mscompatibility - WARNING - ReactionWarning: The metabolite cpd03294_e0 replacement for cpd15411_e0 already exists in the reaction rxn08144_e0 | cpd10516_e0 + cpd15411_e0 --> cpd03294_e0, which inhibits an update.\n",
      "modelseedpy.community.mscompatibility - WARNING - IDWarning: The original ID cpd00609_e0 is a ModelSEED ID, and may not be desirably changed to cpd00571_e0.\n"
     ]
    },
    {
     "name": "stdout",
     "output_type": "stream",
     "text": [
      "\n",
      "\n",
      "\n",
      "Standardize exchange reactions in iML1515 \n",
      " ============================================\n",
      "\n",
      "\n",
      "343 reactions were substituted and 13 metabolite IDs were redefined by standardize().\n"
     ]
    },
    {
     "name": "stderr",
     "output_type": "stream",
     "text": [
      "modelseedpy.community.mscompatibility - WARNING - ReactionWarning: The metabolite cpd32553_e0 replacement for hspg_degr_5_e0 already exists in the reaction AS3TASE__DASH__HS1_c0 | cpd00001_e0 + cpd32553_e0 --> cpd00048_e0 + cpd00067_e0 + hspg_degr_5_e0, which inhibits an update.\n",
      "modelseedpy.community.mscompatibility - WARNING - ReactionWarning: The metabolite cpd32553_e0 replacement for hspg_degr_3_e0 already exists in the reaction AS6TASE__DASH__HS1_c0 | 2 cpd00001_e0 + hspg_degr_3_e0 --> 2 cpd00048_e0 + 2 cpd00067_e0 + cpd32553_e0, which inhibits an update.\n",
      "modelseedpy.community.mscompatibility - WARNING - ModelSEEDError: The old metabolite cpd00098_e0 cross-references ({'AraCyc': ['CHOLINE'], 'BiGG': ['chol'], 'BrachyCyc': ['CHOLINE'], 'KEGG': ['C00114'], 'MetaCyc': ['CHOLINE']}) do not overlap with those ({'MetaCyc': ['GLYCO-CT-PHOSPHATE']}) of the new metabolite cpd00098_e0.\n",
      "modelseedpy.community.mscompatibility - WARNING - IDWarning: The original ID cpd00098_e0 is a ModelSEED ID, and may not be desirably changed to cpd32553_e0.\n"
     ]
    },
    {
     "name": "stdout",
     "output_type": "stream",
     "text": [
      "\n",
      "\n",
      "\n",
      "Standardize exchange reactions in Bacteroides_thetaiotaomicron_VPI-5482.fbamdl.23 \n",
      " ====================================================================================\n"
     ]
    },
    {
     "name": "stderr",
     "output_type": "stream",
     "text": [
      "modelseedpy.community.mscompatibility - WARNING - ModelSEEDError: The metabolite (metglcur-e_e0 | 1-O-methyl-Beta-D-glucuronate | Omethylbetadglucuronate | 1-O-methyl-Beta-D-glucuronate) is not recognized by the ModelSEED Database\n",
      "modelseedpy.community.mscompatibility - WARNING - IDWarning: The original ID cpd15411_e0 is a ModelSEED ID, and may not be desirably changed to cpd03294_e0.\n",
      "modelseedpy.community.mscompatibility - WARNING - ReactionWarning: The metabolite cpd03294_e0 replacement for cpd15411_e0 already exists in the reaction rxn08144_e0 | cpd10516_e0 + cpd15411_e0 --> cpd03294_e0, which inhibits an update.\n"
     ]
    },
    {
     "name": "stdout",
     "output_type": "stream",
     "text": [
      "\n",
      "\n",
      "\n",
      "Standardize exchange reactions in iML1515 \n",
      " ============================================\n",
      "\n",
      "\n",
      "343 reactions were substituted and 0 metabolite IDs were redefined by standardize().\n"
     ]
    },
    {
     "name": "stderr",
     "output_type": "stream",
     "text": [
      "C:\\Users\\Andrew Freiburger\\AppData\\Local\\Programs\\Python\\Python39\\lib\\site-packages\\modelseedpy\\community\\mscommunity.py:213: DeprecationWarning: invalid escape sequence \\d\n",
      "  if re.search('^(bio)(\\d+)$', rxn.id):\n"
     ]
    },
    {
     "ename": "ContainerAlreadyContains",
     "evalue": "Container '<optlang.container.Container object at 0x0000025C81F6ADF0>' already contains an object with name 'bio1_reverse_b18f7'.",
     "output_type": "error",
     "traceback": [
      "\u001b[1;31m---------------------------------------------------------------------------\u001b[0m",
      "\u001b[1;31mContainerAlreadyContains\u001b[0m                  Traceback (most recent call last)",
      "Input \u001b[1;32mIn [4]\u001b[0m, in \u001b[0;36m<cell line: 7>\u001b[1;34m()\u001b[0m\n\u001b[0;32m      5\u001b[0m     media\u001b[38;5;241m=\u001b[39mjson\u001b[38;5;241m.\u001b[39mload(medium)\n\u001b[0;32m      6\u001b[0m smetana_scores \u001b[38;5;241m=\u001b[39m Smetana(models, com_model, media_dict\u001b[38;5;241m=\u001b[39mmedia)\n\u001b[1;32m----> 7\u001b[0m \u001b[43msmetana_scores\u001b[49m\u001b[38;5;241;43m.\u001b[39;49m\u001b[43mmip_score\u001b[49m\u001b[43m(\u001b[49m\u001b[43minteracting_media\u001b[49m\u001b[38;5;241;43m=\u001b[39;49m\u001b[43mmedia\u001b[49m\u001b[43m)\u001b[49m\n\u001b[0;32m      8\u001b[0m \u001b[38;5;28mprint\u001b[39m(\u001b[38;5;124m\"\u001b[39m\u001b[38;5;130;01m\\n\u001b[39;00m\u001b[38;5;130;01m\\n\u001b[39;00m\u001b[38;5;124mMP score:\u001b[39m\u001b[38;5;130;01m\\t\u001b[39;00m\u001b[38;5;130;01m\\t\u001b[39;00m\u001b[38;5;130;01m\\t\u001b[39;00m\u001b[38;5;124m\"\u001b[39m, smetana_scores\u001b[38;5;241m.\u001b[39mmp)\n",
      "File \u001b[1;32m~\\Documents\\Argonne\\ProjectNotebooks\\CommunityModeling\\reframed\\smetana\\MSsmetana2.py:34\u001b[0m, in \u001b[0;36mSmetana.mip_score\u001b[1;34m(self, interacting_media, noninteracting_media)\u001b[0m\n\u001b[0;32m     33\u001b[0m \u001b[38;5;28;01mdef\u001b[39;00m \u001b[38;5;21mmip_score\u001b[39m(\u001b[38;5;28mself\u001b[39m, interacting_media:\u001b[38;5;28mdict\u001b[39m\u001b[38;5;241m=\u001b[39m\u001b[38;5;28;01mNone\u001b[39;00m, noninteracting_media:\u001b[38;5;28mdict\u001b[39m\u001b[38;5;241m=\u001b[39m\u001b[38;5;28;01mNone\u001b[39;00m):\n\u001b[1;32m---> 34\u001b[0m     \u001b[38;5;28mself\u001b[39m\u001b[38;5;241m.\u001b[39mmip \u001b[38;5;241m=\u001b[39m \u001b[43mSmetana\u001b[49m\u001b[38;5;241;43m.\u001b[39;49m\u001b[43mmip\u001b[49m\u001b[43m(\u001b[49m\u001b[38;5;28;43mself\u001b[39;49m\u001b[38;5;241;43m.\u001b[39;49m\u001b[43mmodels\u001b[49m\u001b[43m,\u001b[49m\u001b[43m \u001b[49m\u001b[38;5;28;43mself\u001b[39;49m\u001b[38;5;241;43m.\u001b[39;49m\u001b[43mcommunity\u001b[49m\u001b[43m,\u001b[49m\u001b[43m \u001b[49m\u001b[38;5;28;43mself\u001b[39;49m\u001b[38;5;241;43m.\u001b[39;49m\u001b[43mmin_growth\u001b[49m\u001b[43m,\u001b[49m\n\u001b[0;32m     35\u001b[0m \u001b[43m                           \u001b[49m\u001b[43minteracting_media\u001b[49m\u001b[43m,\u001b[49m\u001b[43m \u001b[49m\u001b[43mnoninteracting_media\u001b[49m\u001b[43m,\u001b[49m\u001b[43m \u001b[49m\u001b[43mcompatibilize\u001b[49m\u001b[38;5;241;43m=\u001b[39;49m\u001b[38;5;28;43mself\u001b[39;49m\u001b[38;5;241;43m.\u001b[39;49m\u001b[43mcompatibilize\u001b[49m\u001b[43m)\u001b[49m\n\u001b[0;32m     36\u001b[0m     \u001b[38;5;28;01mif\u001b[39;00m \u001b[38;5;28mself\u001b[39m\u001b[38;5;241m.\u001b[39mprinting:\n\u001b[0;32m     37\u001b[0m         \u001b[38;5;28mprint\u001b[39m(\u001b[38;5;124mf\u001b[39m\u001b[38;5;124m\"\u001b[39m\u001b[38;5;124mMIP score:\u001b[39m\u001b[38;5;130;01m\\t\u001b[39;00m\u001b[38;5;130;01m\\t\u001b[39;00m\u001b[38;5;130;01m\\t\u001b[39;00m\u001b[38;5;132;01m{\u001b[39;00m\u001b[38;5;28mself\u001b[39m\u001b[38;5;241m.\u001b[39mmip\u001b[38;5;132;01m}\u001b[39;00m\u001b[38;5;124m required community compounds are sourced via syntrophy in the community.\u001b[39m\u001b[38;5;124m\"\u001b[39m)\n",
      "File \u001b[1;32m~\\Documents\\Argonne\\ProjectNotebooks\\CommunityModeling\\reframed\\smetana\\MSsmetana2.py:125\u001b[0m, in \u001b[0;36mSmetana.mip\u001b[1;34m(cobra_models, com_model, min_growth, interacting_media_dict, noninteracting_media_dict, compatibilize)\u001b[0m\n\u001b[0;32m    123\u001b[0m     noninteracting_medium \u001b[38;5;241m=\u001b[39m noninteracting_media_dict[\u001b[38;5;124m\"\u001b[39m\u001b[38;5;124mcommunity_media\u001b[39m\u001b[38;5;124m\"\u001b[39m]\n\u001b[0;32m    124\u001b[0m \u001b[38;5;28;01melse\u001b[39;00m:\n\u001b[1;32m--> 125\u001b[0m     noninteracting_medium \u001b[38;5;241m=\u001b[39m \u001b[43mSmetana\u001b[49m\u001b[38;5;241;43m.\u001b[39;49m\u001b[43m_get_media\u001b[49m\u001b[43m(\u001b[49m\u001b[38;5;28;43;01mNone\u001b[39;49;00m\u001b[43m,\u001b[49m\u001b[43m \u001b[49m\u001b[43mcobra_models\u001b[49m\u001b[43m,\u001b[49m\u001b[43m \u001b[49m\u001b[43mmin_growth\u001b[49m\u001b[43m,\u001b[49m\u001b[43m \u001b[49m\u001b[43mcom_model\u001b[49m\u001b[43m,\u001b[49m\u001b[43m \u001b[49m\u001b[38;5;28;43;01mFalse\u001b[39;49;00m\u001b[43m)\u001b[49m[\u001b[38;5;124m\"\u001b[39m\u001b[38;5;124mcommunity_media\u001b[39m\u001b[38;5;124m\"\u001b[39m]\n\u001b[0;32m    127\u001b[0m \u001b[38;5;28;01mif\u001b[39;00m interacting_media_dict:\n\u001b[0;32m    128\u001b[0m     interacting_medium \u001b[38;5;241m=\u001b[39m interacting_media_dict[\u001b[38;5;124m\"\u001b[39m\u001b[38;5;124mcommunity_media\u001b[39m\u001b[38;5;124m\"\u001b[39m]\n",
      "File \u001b[1;32m~\\Documents\\Argonne\\ProjectNotebooks\\CommunityModeling\\reframed\\smetana\\MSsmetana2.py:94\u001b[0m, in \u001b[0;36mSmetana._get_media\u001b[1;34m(media, model_s_, min_growth, com_model, syntrophy)\u001b[0m\n\u001b[0;32m     91\u001b[0m \u001b[38;5;129m@staticmethod\u001b[39m\n\u001b[0;32m     92\u001b[0m \u001b[38;5;28;01mdef\u001b[39;00m \u001b[38;5;21m_get_media\u001b[39m(media, model_s_\u001b[38;5;241m=\u001b[39m\u001b[38;5;28;01mNone\u001b[39;00m, min_growth\u001b[38;5;241m=\u001b[39m\u001b[38;5;28;01mNone\u001b[39;00m, com_model\u001b[38;5;241m=\u001b[39m\u001b[38;5;28;01mNone\u001b[39;00m, syntrophy\u001b[38;5;241m=\u001b[39m\u001b[38;5;28;01mTrue\u001b[39;00m):\n\u001b[0;32m     93\u001b[0m     \u001b[38;5;28;01mif\u001b[39;00m \u001b[38;5;129;01mnot\u001b[39;00m media:  \u001b[38;5;66;03m# May be either a singular model or a list of models\u001b[39;00m\n\u001b[1;32m---> 94\u001b[0m         \u001b[38;5;28;01mreturn\u001b[39;00m \u001b[43mMSCommunity\u001b[49m\u001b[38;5;241;43m.\u001b[39;49m\u001b[43mminimal_community_media\u001b[49m\u001b[43m(\u001b[49m\u001b[43mmodel_s_\u001b[49m\u001b[43m,\u001b[49m\u001b[43m \u001b[49m\u001b[43mcom_model\u001b[49m\u001b[43m,\u001b[49m\u001b[43m \u001b[49m\u001b[43msyntrophy\u001b[49m\u001b[43m,\u001b[49m\u001b[43m \u001b[49m\u001b[43mmin_growth\u001b[49m\u001b[43m)\u001b[49m\n\u001b[0;32m     95\u001b[0m     \u001b[38;5;28;01mif\u001b[39;00m \u001b[38;5;129;01mnot\u001b[39;00m com_model:  \u001b[38;5;66;03m# Must be a singular model\u001b[39;00m\n\u001b[0;32m     96\u001b[0m         \u001b[38;5;28;01mreturn\u001b[39;00m media[\u001b[38;5;124m\"\u001b[39m\u001b[38;5;124mmembers\u001b[39m\u001b[38;5;124m\"\u001b[39m][model_s_\u001b[38;5;241m.\u001b[39mid][\u001b[38;5;124m\"\u001b[39m\u001b[38;5;124mmedia\u001b[39m\u001b[38;5;124m\"\u001b[39m]\n",
      "File \u001b[1;32m~\\AppData\\Local\\Programs\\Python\\Python39\\lib\\site-packages\\modelseedpy\\community\\mscommunity.py:587\u001b[0m, in \u001b[0;36mMSCommunity.minimal_community_media\u001b[1;34m(models, com_model, syntrophy, min_growth, conserved_cpds, export, printing)\u001b[0m\n\u001b[0;32m    585\u001b[0m media[\u001b[38;5;124m\"\u001b[39m\u001b[38;5;124mmembers\u001b[39m\u001b[38;5;124m\"\u001b[39m][model\u001b[38;5;241m.\u001b[39mid] \u001b[38;5;241m=\u001b[39m {}\n\u001b[0;32m    586\u001b[0m \u001b[38;5;28;01mwith\u001b[39;00m model:\n\u001b[1;32m--> 587\u001b[0m     media[\u001b[38;5;124m\"\u001b[39m\u001b[38;5;124mmembers\u001b[39m\u001b[38;5;124m\"\u001b[39m][model\u001b[38;5;241m.\u001b[39mid][\u001b[38;5;124m\"\u001b[39m\u001b[38;5;124mmedia\u001b[39m\u001b[38;5;124m\"\u001b[39m] \u001b[38;5;241m=\u001b[39m \u001b[43mminimal_medium\u001b[49m\u001b[43m(\u001b[49m\u001b[43mmodel\u001b[49m\u001b[43m,\u001b[49m\u001b[43m \u001b[49m\u001b[43mmin_growth\u001b[49m\u001b[43m,\u001b[49m\u001b[43m \u001b[49m\u001b[43mminimize_components\u001b[49m\u001b[38;5;241;43m=\u001b[39;49m\u001b[38;5;28;43;01mTrue\u001b[39;49;00m\u001b[43m)\u001b[49m\u001b[38;5;241m.\u001b[39mto_dict()\n\u001b[0;32m    588\u001b[0m     model\u001b[38;5;241m.\u001b[39mmedium \u001b[38;5;241m=\u001b[39m media[\u001b[38;5;124m\"\u001b[39m\u001b[38;5;124mmembers\u001b[39m\u001b[38;5;124m\"\u001b[39m][model\u001b[38;5;241m.\u001b[39mid][\u001b[38;5;124m\"\u001b[39m\u001b[38;5;124mmedia\u001b[39m\u001b[38;5;124m\"\u001b[39m]\n\u001b[0;32m    589\u001b[0m     media[\u001b[38;5;124m\"\u001b[39m\u001b[38;5;124mmembers\u001b[39m\u001b[38;5;124m\"\u001b[39m][model\u001b[38;5;241m.\u001b[39mid][\u001b[38;5;124m\"\u001b[39m\u001b[38;5;124msolution\u001b[39m\u001b[38;5;124m\"\u001b[39m] \u001b[38;5;241m=\u001b[39m FBAHelper\u001b[38;5;241m.\u001b[39msolution_to_dict(model\u001b[38;5;241m.\u001b[39moptimize())\n",
      "File \u001b[1;32m~\\AppData\\Local\\Programs\\Python\\Python39\\lib\\site-packages\\cobra\\medium\\minimal_medium.py:206\u001b[0m, in \u001b[0;36mminimal_medium\u001b[1;34m(model, min_objective_value, exports, minimize_components, open_exchanges)\u001b[0m\n\u001b[0;32m    200\u001b[0m obj_const \u001b[38;5;241m=\u001b[39m mod\u001b[38;5;241m.\u001b[39mproblem\u001b[38;5;241m.\u001b[39mConstraint(\n\u001b[0;32m    201\u001b[0m     mod\u001b[38;5;241m.\u001b[39mobjective\u001b[38;5;241m.\u001b[39mexpression,\n\u001b[0;32m    202\u001b[0m     lb\u001b[38;5;241m=\u001b[39mmin_objective_value,\n\u001b[0;32m    203\u001b[0m     name\u001b[38;5;241m=\u001b[39m\u001b[38;5;124m\"\u001b[39m\u001b[38;5;124mmedium_obj_constraint\u001b[39m\u001b[38;5;124m\"\u001b[39m,\n\u001b[0;32m    204\u001b[0m )\n\u001b[0;32m    205\u001b[0m mod\u001b[38;5;241m.\u001b[39madd_cons_vars([obj_const])\n\u001b[1;32m--> 206\u001b[0m \u001b[43mmod\u001b[49m\u001b[38;5;241;43m.\u001b[39;49m\u001b[43msolver\u001b[49m\u001b[38;5;241;43m.\u001b[39;49m\u001b[43mupdate\u001b[49m\u001b[43m(\u001b[49m\u001b[43m)\u001b[49m\n\u001b[0;32m    207\u001b[0m mod\u001b[38;5;241m.\u001b[39mobjective \u001b[38;5;241m=\u001b[39m Zero\n\u001b[0;32m    208\u001b[0m logger\u001b[38;5;241m.\u001b[39mdebug(\u001b[38;5;124m\"\u001b[39m\u001b[38;5;124mAdding new media objective.\u001b[39m\u001b[38;5;124m\"\u001b[39m)\n",
      "File \u001b[1;32m~\\AppData\\Local\\Programs\\Python\\Python39\\lib\\site-packages\\optlang\\interface.py:1474\u001b[0m, in \u001b[0;36mModel.update\u001b[1;34m(self, callback)\u001b[0m\n\u001b[0;32m   1472\u001b[0m add_constr \u001b[38;5;241m=\u001b[39m \u001b[38;5;28mself\u001b[39m\u001b[38;5;241m.\u001b[39m_pending_modifications\u001b[38;5;241m.\u001b[39madd_constr\n\u001b[0;32m   1473\u001b[0m \u001b[38;5;28;01mif\u001b[39;00m \u001b[38;5;28mlen\u001b[39m(add_constr) \u001b[38;5;241m>\u001b[39m \u001b[38;5;241m0\u001b[39m:\n\u001b[1;32m-> 1474\u001b[0m     \u001b[38;5;28;43mself\u001b[39;49m\u001b[38;5;241;43m.\u001b[39;49m\u001b[43m_add_constraints\u001b[49m\u001b[43m(\u001b[49m\u001b[43madd_constr\u001b[49m\u001b[43m)\u001b[49m\n\u001b[0;32m   1475\u001b[0m     \u001b[38;5;28mself\u001b[39m\u001b[38;5;241m.\u001b[39m_pending_modifications\u001b[38;5;241m.\u001b[39madd_constr \u001b[38;5;241m=\u001b[39m []\n\u001b[0;32m   1477\u001b[0m add_constr_sloppy \u001b[38;5;241m=\u001b[39m \u001b[38;5;28mself\u001b[39m\u001b[38;5;241m.\u001b[39m_pending_modifications\u001b[38;5;241m.\u001b[39madd_constr_sloppy\n",
      "File \u001b[1;32m~\\AppData\\Local\\Programs\\Python\\Python39\\lib\\site-packages\\optlang\\glpk_interface.py:761\u001b[0m, in \u001b[0;36mModel._add_constraints\u001b[1;34m(self, constraints, sloppy)\u001b[0m\n\u001b[0;32m    760\u001b[0m \u001b[38;5;28;01mdef\u001b[39;00m \u001b[38;5;21m_add_constraints\u001b[39m(\u001b[38;5;28mself\u001b[39m, constraints, sloppy\u001b[38;5;241m=\u001b[39m\u001b[38;5;28;01mFalse\u001b[39;00m):\n\u001b[1;32m--> 761\u001b[0m     \u001b[38;5;28;43msuper\u001b[39;49m\u001b[43m(\u001b[49m\u001b[43mModel\u001b[49m\u001b[43m,\u001b[49m\u001b[43m \u001b[49m\u001b[38;5;28;43mself\u001b[39;49m\u001b[43m)\u001b[49m\u001b[38;5;241;43m.\u001b[39;49m\u001b[43m_add_constraints\u001b[49m\u001b[43m(\u001b[49m\u001b[43mconstraints\u001b[49m\u001b[43m,\u001b[49m\u001b[43m \u001b[49m\u001b[43msloppy\u001b[49m\u001b[38;5;241;43m=\u001b[39;49m\u001b[43msloppy\u001b[49m\u001b[43m)\u001b[49m\n\u001b[0;32m    762\u001b[0m     \u001b[38;5;28;01mfor\u001b[39;00m constraint \u001b[38;5;129;01min\u001b[39;00m constraints:\n\u001b[0;32m    763\u001b[0m         constraint\u001b[38;5;241m.\u001b[39m_problem \u001b[38;5;241m=\u001b[39m \u001b[38;5;28;01mNone\u001b[39;00m  \u001b[38;5;66;03m# This needs to be done in order to not trigger constraint._get_expression()\u001b[39;00m\n",
      "File \u001b[1;32m~\\AppData\\Local\\Programs\\Python\\Python39\\lib\\site-packages\\optlang\\interface.py:1577\u001b[0m, in \u001b[0;36mModel._add_constraints\u001b[1;34m(self, constraints, sloppy)\u001b[0m\n\u001b[0;32m   1575\u001b[0m missing_vars \u001b[38;5;241m=\u001b[39m [var \u001b[38;5;28;01mfor\u001b[39;00m var \u001b[38;5;129;01min\u001b[39;00m variables \u001b[38;5;28;01mif\u001b[39;00m var\u001b[38;5;241m.\u001b[39mproblem \u001b[38;5;129;01mis\u001b[39;00m \u001b[38;5;129;01mnot\u001b[39;00m \u001b[38;5;28mself\u001b[39m]\n\u001b[0;32m   1576\u001b[0m \u001b[38;5;28;01mif\u001b[39;00m \u001b[38;5;28mlen\u001b[39m(missing_vars) \u001b[38;5;241m>\u001b[39m \u001b[38;5;241m0\u001b[39m:\n\u001b[1;32m-> 1577\u001b[0m     \u001b[38;5;28;43mself\u001b[39;49m\u001b[38;5;241;43m.\u001b[39;49m\u001b[43m_add_variables\u001b[49m\u001b[43m(\u001b[49m\u001b[43mmissing_vars\u001b[49m\u001b[43m)\u001b[49m\n\u001b[0;32m   1578\u001b[0m \u001b[38;5;28;01mfor\u001b[39;00m var \u001b[38;5;129;01min\u001b[39;00m variables:\n\u001b[0;32m   1579\u001b[0m     \u001b[38;5;28;01mtry\u001b[39;00m:\n",
      "File \u001b[1;32m~\\AppData\\Local\\Programs\\Python\\Python39\\lib\\site-packages\\optlang\\glpk_interface.py:739\u001b[0m, in \u001b[0;36mModel._add_variables\u001b[1;34m(self, variables)\u001b[0m\n\u001b[0;32m    737\u001b[0m     \u001b[38;5;28mself\u001b[39m\u001b[38;5;241m.\u001b[39m_glpk_set_col_bounds(variable)\n\u001b[0;32m    738\u001b[0m     glp_set_col_kind(\u001b[38;5;28mself\u001b[39m\u001b[38;5;241m.\u001b[39mproblem, variable\u001b[38;5;241m.\u001b[39m_index, _VTYPE_TO_GLPK_VTYPE[variable\u001b[38;5;241m.\u001b[39mtype])\n\u001b[1;32m--> 739\u001b[0m \u001b[38;5;28;43msuper\u001b[39;49m\u001b[43m(\u001b[49m\u001b[43mModel\u001b[49m\u001b[43m,\u001b[49m\u001b[43m \u001b[49m\u001b[38;5;28;43mself\u001b[39;49m\u001b[43m)\u001b[49m\u001b[38;5;241;43m.\u001b[39;49m\u001b[43m_add_variables\u001b[49m\u001b[43m(\u001b[49m\u001b[43mvariables\u001b[49m\u001b[43m)\u001b[49m\n",
      "File \u001b[1;32m~\\AppData\\Local\\Programs\\Python\\Python39\\lib\\site-packages\\optlang\\interface.py:1537\u001b[0m, in \u001b[0;36mModel._add_variables\u001b[1;34m(self, variables)\u001b[0m\n\u001b[0;32m   1535\u001b[0m \u001b[38;5;28;01mdef\u001b[39;00m \u001b[38;5;21m_add_variables\u001b[39m(\u001b[38;5;28mself\u001b[39m, variables):\n\u001b[0;32m   1536\u001b[0m     \u001b[38;5;28;01mfor\u001b[39;00m variable \u001b[38;5;129;01min\u001b[39;00m variables:\n\u001b[1;32m-> 1537\u001b[0m         \u001b[38;5;28;43mself\u001b[39;49m\u001b[38;5;241;43m.\u001b[39;49m\u001b[43m_variables\u001b[49m\u001b[38;5;241;43m.\u001b[39;49m\u001b[43mappend\u001b[49m\u001b[43m(\u001b[49m\u001b[43mvariable\u001b[49m\u001b[43m)\u001b[49m\n\u001b[0;32m   1538\u001b[0m         \u001b[38;5;28mself\u001b[39m\u001b[38;5;241m.\u001b[39m_variables_to_constraints_mapping[variable\u001b[38;5;241m.\u001b[39mname] \u001b[38;5;241m=\u001b[39m \u001b[38;5;28mset\u001b[39m([])\n\u001b[0;32m   1539\u001b[0m         variable\u001b[38;5;241m.\u001b[39mproblem \u001b[38;5;241m=\u001b[39m \u001b[38;5;28mself\u001b[39m\n",
      "File \u001b[1;32m~\\AppData\\Local\\Programs\\Python\\Python39\\lib\\site-packages\\optlang\\container.py:172\u001b[0m, in \u001b[0;36mContainer.append\u001b[1;34m(self, value)\u001b[0m\n\u001b[0;32m    170\u001b[0m name \u001b[38;5;241m=\u001b[39m value\u001b[38;5;241m.\u001b[39mname\n\u001b[0;32m    171\u001b[0m \u001b[38;5;28;01mif\u001b[39;00m name \u001b[38;5;129;01min\u001b[39;00m \u001b[38;5;28mself\u001b[39m\u001b[38;5;241m.\u001b[39m_dict:\n\u001b[1;32m--> 172\u001b[0m     \u001b[38;5;28;01mraise\u001b[39;00m ContainerAlreadyContains(\u001b[38;5;124m\"\u001b[39m\u001b[38;5;124mContainer \u001b[39m\u001b[38;5;124m'\u001b[39m\u001b[38;5;132;01m%s\u001b[39;00m\u001b[38;5;124m'\u001b[39m\u001b[38;5;124m already contains an object with name \u001b[39m\u001b[38;5;124m'\u001b[39m\u001b[38;5;132;01m%s\u001b[39;00m\u001b[38;5;124m'\u001b[39m\u001b[38;5;124m.\u001b[39m\u001b[38;5;124m\"\u001b[39m \u001b[38;5;241m%\u001b[39m (\u001b[38;5;28mself\u001b[39m, value\u001b[38;5;241m.\u001b[39mname))\n\u001b[0;32m    173\u001b[0m \u001b[38;5;28mself\u001b[39m\u001b[38;5;241m.\u001b[39m_indices[name] \u001b[38;5;241m=\u001b[39m \u001b[38;5;28mlen\u001b[39m(\u001b[38;5;28mself\u001b[39m)\n\u001b[0;32m    174\u001b[0m \u001b[38;5;28mself\u001b[39m\u001b[38;5;241m.\u001b[39m_object_list\u001b[38;5;241m.\u001b[39mappend(value)\n",
      "\u001b[1;31mContainerAlreadyContains\u001b[0m: Container '<optlang.container.Container object at 0x0000025C81F6ADF0>' already contains an object with name 'bio1_reverse_b18f7'."
     ]
    }
   ],
   "source": [
    "import json\n",
    "%run MSsmetana2.py\n",
    "# msdb = os.path.join('..', '..', '..', '..', 'ModelSEEDDatabase')\n",
    "with open(\"CMM_iAH991V2_iML1515.kb_media.json\", 'r') as medium:\n",
    "    media=json.load(medium)\n",
    "smetana_scores = Smetana(models, com_model, media_dict=media)\n",
    "smetana_scores.mip_score(interacting_media=media)\n",
    "print(\"\\n\\nMP score:\\t\\t\\t\", smetana_scores.mp)"
   ]
  },
  {
   "cell_type": "code",
   "execution_count": null,
   "id": "6aa419e1-cb4d-4964-9c17-53c9a3ae5d24",
   "metadata": {},
   "outputs": [],
   "source": [
    "print(model1.reactions.bio1)\n",
    "print(\"\\n\\n\\n\")\n",
    "print(com_model.reactions.bio3) # composed of model1 and model2"
   ]
  },
  {
   "cell_type": "code",
   "execution_count": null,
   "id": "98f106f2-5e4d-49b6-a878-7967432d51b1",
   "metadata": {},
   "outputs": [],
   "source": [
    "from optlang import Objective\n",
    "from optlang.symbolics import Zero\n",
    "from modelseedpy import FBAHelper\n",
    "# pprint(dir(model1.problem))\n",
    "for ex in FBAHelper.exchange_reactions(model1):\n",
    "    FBAHelper.add_objective(model1, ex.forward_variable, \"min\")\n",
    "    print(model1.objective)\n",
    "    break"
   ]
  },
  {
   "cell_type": "code",
   "execution_count": null,
   "id": "10876584-ca00-4262-9025-c016c2974d04",
   "metadata": {
    "tags": []
   },
   "outputs": [],
   "source": [
    "import json\n",
    "%run MSsmetana2.py\n",
    "# msdb = os.path.join('..', '..', '..', '..', 'ModelSEEDDatabase')\n",
    "with open(\"CMM_iAH991V2_iML1515.kb_media.json\", 'r') as medium:\n",
    "    media=json.load(medium)\n",
    "smetana_scores = Smetana(models, com_model, media_dict=media)\n",
    "smetana_scores.mp_score()\n",
    "print(\"\\n\\nMP score:\\t\\t\\t\", smetana_scores.mp)"
   ]
  },
  {
   "cell_type": "markdown",
   "id": "5bf5d684",
   "metadata": {},
   "source": [
    "# Static method examples"
   ]
  },
  {
   "cell_type": "code",
<<<<<<< HEAD
   "execution_count": 2,
   "id": "a2b39a0b",
=======
   "execution_count": null,
   "id": "2f79d48d",
>>>>>>> 3cd9b9493e8f4fa6c58de969420d58f1ff5e699a
   "metadata": {},
   "outputs": [],
   "source": [
    "# %run MSsmetana2.py\n",
    "# msdb = os.path.join('..', '..', '..', '..', 'ModelSEEDDatabase')\n",
    "# mus = Smetana.mu_score(models, msdb)\n",
    "# print(mus)"
   ]
  },
  {
   "cell_type": "markdown",
   "id": "d6e1115c",
   "metadata": {},
   "source": [
    "## MRO"
   ]
  },
  {
   "cell_type": "code",
<<<<<<< HEAD
   "execution_count": 7,
   "id": "6bf36157",
=======
   "execution_count": null,
   "id": "f83295f4-9d69-4de0-b5e7-ecf543bfa113",
>>>>>>> 3cd9b9493e8f4fa6c58de969420d58f1ff5e699a
   "metadata": {},
   "outputs": [],
   "source": [
    "import json\n",
    "%run MSsmetana2.py\n",
    "# msdb = os.path.join('..', '..', '..', '..', 'ModelSEEDDatabase')\n",
    "with open(\"CMM_iAH991V2_iML1515.kb_media.json\", 'r') as medium:\n",
    "    media=json.load(medium)\n",
    "mro = Smetana.mro(models, media_dict=media)\n",
    "print(mro)"
   ]
  },
  {
   "cell_type": "markdown",
   "id": "49fa00e0",
   "metadata": {},
   "source": [
    "## MU"
   ]
  },
  {
   "cell_type": "code",
<<<<<<< HEAD
   "execution_count": 10,
   "id": "a3c02476",
=======
   "execution_count": null,
   "id": "b73431ea-1977-4896-862b-7ada542a508f",
>>>>>>> 3cd9b9493e8f4fa6c58de969420d58f1ff5e699a
   "metadata": {
    "tags": []
   },
   "outputs": [],
   "source": [
    "import json\n",
    "%run MSsmetana2.py\n",
    "# msdb = os.path.join('..', '..', '..', '..', 'ModelSEEDDatabase')\n",
    "# with open(\"CMM_iAH991V2_iML1515.kb_media.json\", 'r') as medium:\n",
    "#     media=json.load(medium)\n",
    "mu = Smetana.mu(models)\n",
    "print(mu)"
   ]
  },
  {
   "cell_type": "markdown",
   "id": "ab7ded93",
   "metadata": {},
   "source": [
    "# MP"
   ]
  },
  {
   "cell_type": "code",
<<<<<<< HEAD
   "execution_count": 35,
   "id": "44ab5511",
=======
   "execution_count": null,
   "id": "691140d1-9c07-493a-8eb9-32b01ee9e7b1",
>>>>>>> 3cd9b9493e8f4fa6c58de969420d58f1ff5e699a
   "metadata": {
    "tags": []
   },
   "outputs": [],
   "source": [
    "from pprint import pprint\n",
    "import json\n",
    "\n",
    "%run MSsmetana2.py\n",
    "# msdb = os.path.join('..', '..', '..', '..', 'ModelSEEDDatabase')\n",
    "# with open(\"CMM_iAH991V2_iML1515.kb_media.json\", 'r') as medium:\n",
    "#     media=json.load(medium)\n",
    "mp = Smetana.mp(models, com_model, media_dict=media)\n",
    "for model, exchanges in mp.items():\n",
    "    print(model, \"\\t\\t\", exchanges)"
   ]
  },
  {
   "cell_type": "markdown",
   "id": "786cc94b",
   "metadata": {
    "tags": []
   },
   "source": [
    "## MIP"
   ]
  },
  {
   "cell_type": "code",
<<<<<<< HEAD
   "execution_count": 9,
   "id": "5fbeec1e",
=======
   "execution_count": null,
   "id": "3b5cff24-f1b1-49ac-81ee-67b0d078fd08",
>>>>>>> 3cd9b9493e8f4fa6c58de969420d58f1ff5e699a
   "metadata": {
    "tags": []
   },
   "outputs": [],
   "source": [
    "from pprint import pprint\n",
    "import json\n",
    "\n",
    "%run MSsmetana2.py\n",
    "# msdb = os.path.join('..', '..', '..', '..', 'ModelSEEDDatabase')\n",
    "with open(\"CMM_iAH991V2_iML1515.kb_media.json\", 'r') as medium:\n",
    "    media=json.load(medium)\n",
    "mip = Smetana.mip(models, com_model, interacting_media_dict=media, compatibilize=False)\n",
    "pprint(mip)"
   ]
  },
  {
   "cell_type": "markdown",
   "id": "f77b2935-99e7-4f3d-a84b-310b2e107145",
   "metadata": {},
   "source": [
    "## SC"
   ]
  },
  {
   "cell_type": "code",
   "execution_count": 2,
   "id": "dd4f9944-bec7-409c-91f0-aca478178d34",
   "metadata": {
    "tags": []
   },
   "outputs": [
    {
     "name": "stderr",
     "output_type": "stream",
     "text": [
      "C:\\Users\\Andrew Freiburger\\AppData\\Local\\Programs\\Python\\Python39\\lib\\site-packages\\cobra\\util\\solver.py:554: UserWarning: Solver status is 'infeasible'.\n",
      "  warn(f\"Solver status is '{status}'.\", UserWarning)\n"
     ]
    },
    {
     "name": "stdout",
     "output_type": "stream",
     "text": [
      "SC score:\t\t\t\n",
      "{'Bacteroides_thetaiotaomicron_VPI-5482.fbamdl.23': None, 'iML1515': None}\n"
     ]
    },
    {
     "name": "stderr",
     "output_type": "stream",
     "text": [
      "C:\\Users\\Andrew Freiburger\\AppData\\Local\\Programs\\Python\\Python39\\lib\\site-packages\\cobra\\util\\solver.py:554: UserWarning: Solver status is 'infeasible'.\n",
      "  warn(f\"Solver status is '{status}'.\", UserWarning)\n"
     ]
    }
   ],
   "source": [
    "from pprint import pprint\n",
    "import json\n",
    "\n",
    "%run MSsmetana2.py\n",
    "# msdb = os.path.join('..', '..', '..', '..', 'ModelSEEDDatabase')\n",
    "# with open(\"CMM_iAH991V2_iML1515.kb_media.json\", 'r') as medium:\n",
    "#     media=json.load(medium)\n",
    "sc = Smetana.sc(models, com_model)\n",
    "print(\"SC score:\\t\\t\\t\")\n",
    "pprint(sc)"
   ]
  },
  {
   "cell_type": "markdown",
<<<<<<< HEAD
   "id": "61be7ea0",
=======
   "id": "1424e855-2ce0-4dcc-85ff-9dc35f945aeb",
>>>>>>> 3cd9b9493e8f4fa6c58de969420d58f1ff5e699a
   "metadata": {},
   "source": [
    "# SMETANA score"
   ]
  },
  {
   "cell_type": "code",
<<<<<<< HEAD
   "execution_count": 4,
   "id": "f2f3180e",
   "metadata": {
    "collapsed": true,
    "jupyter": {
     "outputs_hidden": true
    },
    "tags": []
   },
=======
   "execution_count": 1,
   "id": "f614971d-2520-4917-a938-518558d0ce4d",
   "metadata": {},
>>>>>>> 3cd9b9493e8f4fa6c58de969420d58f1ff5e699a
   "outputs": [
    {
     "name": "stderr",
     "output_type": "stream",
     "text": [
      "C:\\Users\\Andrew Freiburger\\AppData\\Local\\Programs\\Python\\Python39\\lib\\site-packages\\requests\\__init__.py:102: RequestsDependencyWarning: urllib3 (1.26.9) or chardet (5.0.0)/charset_normalizer (2.0.12) doesn't match a supported version!\n",
      "  warnings.warn(\"urllib3 ({}) or chardet ({})/charset_normalizer ({}) doesn't match a supported \"\n"
     ]
    },
    {
     "name": "stdout",
     "output_type": "stream",
     "text": [
      "cobrakbase 0.2.8\n"
     ]
    }
   ],
   "source": [
    "# define the environment path \n",
    "import os\n",
    "local_cobrakbase_path = os.path.join('C:', 'Users', 'Andrew Freiburger','Documents','Argonne','cobrakbase')\n",
    "os.environ[\"HOME\"] = local_cobrakbase_path\n",
    "\n",
    "# import the models\n",
    "import cobrakbase\n",
    "token = 'WNIJW5W2A376KPOGSMCJB4RTEFUULXZE'\n",
    "kbase_api = cobrakbase.KBaseAPI(token)\n",
    "model1 = kbase_api.get_from_ws(\"E_iAH991V2\",40576)\n",
    "model2 = kbase_api.get_from_ws(\"E_iML1515.kb\",40576)\n",
    "models = [model1, model2]\n",
    "com_model = kbase_api.get_from_ws(\"CMM_iAH991V2_iML1515.kb\",40576)\n",
    "\n",
    "# prevent excessive warnings\n",
    "import warnings\n",
    "warnings.filterwarnings(action='once')"
   ]
  },
  {
   "cell_type": "code",
   "execution_count": 2,
<<<<<<< HEAD
   "id": "0bd46f9c",
=======
   "id": "0e3f0e19-0ab6-444f-b4f7-db96ae72affa",
>>>>>>> 3cd9b9493e8f4fa6c58de969420d58f1ff5e699a
   "metadata": {
    "tags": []
   },
   "outputs": [
    {
     "name": "stdout",
     "output_type": "stream",
     "text": [
      "{'pe_cer1_bt_e0': 1.0, 'cpd00076_e0': 0.02, 'alathr_e0': 0.69, 'cpd00224_e0': 0.9, 'cpd00311_e0': 0.41, 'cpd01017_e0': 0.09, 'cpd00020_e0': 1.0, 'cpd00218_e0': 1.0, 'cpd00393_e0': 1.0, 'hspg_degr_6_e0': 0.82, 'leuleu_e0': 0.7, 'cpd00149_e0': 1.0, 'glypro_e0': 0.09, 'sphmyln_bt_e0': 1.0, 'cpd00009_e0': 1.0, 'cpd15605_e0': 0.38, 's2l2n2m2mn_e0': 0.01, 'cpd11583_e0': 0.01, 'amylose300_e0': 0.06, 'cpd00277_e0': 0.63, 'cpd00007_e0': 1.0, 'cpd00156_e0': 1.0, 'phearg_e0': 0.95, 'cpd00132_e0': 0.62, 'fucneulacnhx_e0': 0.06, 'cpd00039_e0': 1.0, 'cpd00363_e0': 0.33, 'cpd00644_e0': 1.0, 'cpd00367_e0': 1.0, 'cpd00161_e0': 1.0, 'pect_e0': 0.34, 'levan1000_e0': 0.08, 'ha_pre1_e0': 0.02, 'dt5hsu_e0': 0.06, 'glyasn_e0': 0.43, 'cpd00027_e0': 0.06, 'cpd00054_e0': 0.9, 'cpd10515_e0': 1.0, 'cpd00001_e0': 1.0, 'cpd00221_e0': 0.61, 'cpd00220_e0': 1.0, 'cpd00069_e0': 0.41, 'cpd00264_e0': 1.0, 'argarg_e0': 0.05, 'cpd00030_e0': 1.0, 'cpd00166_e0': 1.0, 'cpd00305_e0': 1.0, 'cpd00182_e0': 1.0, 'cpd00184_e0': 0.84, 'cpd00105_e0': 0.01, 'metala_e0': 0.19, 's2l2n2m2m_e0': 0.01, 'cpd00065_e0': 1.0, 'alaglu_e0': 0.54, 'cpd00053_e0': 0.64, 'cpd00179_e0': 0.02, 'galam_e0': 0.34, 'cpd00438_e0': 0.03, 'cpd11584_e0': 0.45, 'cpd00084_e0': 0.91, 'cpd00119_e0': 0.55, 'hspg_degr_11_e0': 0.19, 'cpd00108_e0': 0.73, 'cpd00208_e0': 0.07, 'cpd00104_e0': 1.0, 'lps_bt_e0': 1.0, 'cpd00034_e0': 1.0, 'cpd15606_e0': 0.64, 'cpd00060_e0': 0.51, 'glyglu_e0': 0.4, 'cps_bt_e0': 1.0, 'cpd00430_e0': 0.03, 'cpd00396_e0': 0.86, 'cpd00205_e0': 1.0, 'lacdfucttr_e0': 0.03, 'cpd00036_e0': 0.01, 'cpd00412_e0': 0.01, 'rhamnogalurII_e0': 0.01, 'cpd15604_e0': 0.24, 'cpd11587_e0': 0.03, 'cpd11591_e0': 0.38, 'cpd00971_e0': 1.0, 'cpd00107_e0': 0.23, 'cpd00263_e0': 1.0, 'glycogen1500_e0': 0.16, 'cpd00159_e0': 0.13, 'cpd00066_e0': 0.15, 'cpd00122_e0': 0.98, 'cpd10516_e0': 0.13, 'arabttr_e0': 0.02, 'cpd00082_e0': 0.01, 'rhamnogalurI_e0': 0.04, 'cpd00028_e0': 1.0, 'cpd15500_e0': 1.0, 'cpd00129_e0': 0.86, 'cpd00654_e0': 0.91, 'cpd00063_e0': 1.0, 'cpd00322_e0': 1.0, 'cpd00280_e0': 0.87, 'cpd11580_e0': 0.08, 'cpd00092_e0': 0.07, 'kestottr_e0': 0.04, 'cpd00254_e0': 1.0, 'cpd00249_e0': 0.02} ['cpd00116_e0', 'cpd00073_e0', 'cpd00311_e0', 'cpd00020_e0', 'cpd00047_e0', 'cpd00075_e0', 'cpd00210_e0', 'cpd00239_e0', 'cpd00141_e0', 'cpd00035_e0', 'cpd00009_e0', 'cpd00013_e0', 'cpd00143_e0', 'unsdigalur_e0', 'cpd00039_e0', 'cpd00363_e0', 'dt5hsu_e0', 'cpd00027_e0', '7ocholate_e0', 'cpd00054_e0', 'cpd00221_e0', 'cpd00098_e0', 'argarg_e0', 'cpd00281_e0', 'cpd00029_e0', 'l2n2m2mn_e0', 'cpd00117_e0', 'cpd00182_e0', 'cpd00105_e0', 'cpd00065_e0', 'cpd00053_e0', 'cpd00232_e0', 'hspg_degr_12_e0', 'cpd00118_e0', 'cpd00106_e0', 'cpd00108_e0', 'cpd00208_e0', 'cpd00703_e0', 'cpd00060_e0', 'cpd01861_e0', 'cpd00137_e0', 'cpd00036_e0', 'cpd00107_e0', 'cpd00159_e0', 'cpd10516_e0', 'cpd00082_e0', 'cpd00067_e0', 'cpd00164_e0', 'cpd00428_e0', 'cpd00280_e0', 'cpd00092_e0', 'cpd00058_e0', 'cpd00249_e0', 'cpd00011_e0', 'cpd00453_e0', 'cpd01017_e0', 'cspg_c_degr_e0', 'arabinan101_e0', 'cpd00309_e0', 'cspg_b_degr_e0', 'cpd00007_e0', 'phearg_e0', 'cspg_c_rest_e0', 'cpd00041_e0', 'cpd00161_e0', 'isobut_e0', 'levantttr_e0', 'cpd10515_e0', 'indlac_e0', 'cpd00069_e0', 'cspg_a_degr_e0', 'cpd11640_e0', 'cpd00084_e0', 'isocapr_e0', 'cpd00540_e0', 'cpd00246_e0', 'cpd00033_e0', 'cpd00023_e0', 'cpd00430_e0', 'cpd00832_e0', 'cpd00129_e0', 'cpd03725_e0', 'Ser_Thr_e0', 'cpd01262_e0', 'cpd05228_e0', 'lmn2_e0', 'cpd00132_e0', 'cpd00367_e0', 'cpd03279_e0', 'cpd03105_e0', 'cpd00001_e0', 'cpd00048_e0', 'cpd00438_e0', 'cpd00138_e0', 'cpd00751_e0', 'isoval_e0', 'cpd00064_e0', 'cpd00489_e0', 'cpd00066_e0', 'acgalidour2s_e0', 'cpd00654_e0', 'cpd00322_e0', 'plac_e0', '2fuclac_e0', 'cpd00224_e0', 'levanttr_e0', 'hspg_degr_13_e0', 'cpd00277_e0', 'cpd00156_e0', 'cpd00051_e0', 'cpd00264_e0', 'cpd00184_e0', 'cpd00179_e0', 'phppa_e0', 'acgalglcur_e0', 'hspg_degr_8_e0', 'cpd00122_e0', 'idour_e0', 'cpd00218_e0', 'cpd00644_e0', 'hspg_degr_9_e0', 'hspg_degr_14_e0', 'mbenz_e0', 'gam26s_e0', 'cpd00731_e0', 'cpd00119_e0', 'hspg_degr_1_e0', 'levanb_e0', 'cpd00412_e0', 'cpd00276_e0', 'hspg_degr_2_e0', 'cpd15836_e0', 'cpd00136_e0', 'apio_D_e0', '2omxyl_e0', '3ddlhept_e0', 'acerA_e0', 'n2m2mn_e0', 'cpd00153_e0', 'cpd00396_e0', '12ethd_e0', '2omfuc_e0', 'cpd00875_e0', 'acgalidour_e0', 'hspg_degr_10_e0', 'cpd00220_e0', 'cpd00355_e0', 'cpd00154_e0', 'hspg_degr_3_e0', 'hspg_degr_7_e0', 'cpd00393_e0', 'm2mn_e0', 'cpd00305_e0', 'hspg_degr_11_e0', 'hspg_degr_4_e0', 'hspg_degr_5_e0', 'hspg_degr_15_e0', 'mn_e0', 'cpd00104_e0', 'cps_bt_e0', 'cpd00028_e0', 'hspg_degr_6_e0', 'sphmyln_bt_e0', 'hspg_rest_e0', 'cpd15500_e0', 'pe_cer1_bt_e0', 'cpd11606_e0', 'mqn10_e0', 'mqn9_e0', 'mqn11_e0', 'kestopt_e0', 'lps_bt_e0']\n",
      "{'cpd00071_e0': 0.58, 'cpd00989_e0': 0.01, 'cpd03587_e0': 0.43, 'cpd00130_e0': 0.19, 'cpd15432_e0': 1.0, 'cpd00244_e0': 1.0, 'cpd00363_e0': 0.15, 'cpd00367_e0': 0.94, 'cpd14659_e0': 0.01, 'cpd00069_e0': 1.0, 'cpd00264_e0': 1.0, 'cpd00100_e0': 0.18, 'cpd00355_e0': 1.0, 'cpd00281_e0': 0.1, 'cpd00885_e0': 0.05, 'cpd00042_e0': 1.0, 'cpd00246_e0': 0.1, 'cpd00106_e0': 0.02, 'cpd00060_e0': 1.0, 'cpd04099_e0': 0.07, 'cpd15388_e0': 0.09, 'cpd00412_e0': 0.81, 'cpd15386_e0': 0.61, 'cpd00152_e0': 0.14, 'cpd15387_e0': 0.39, 'cpd00541_e0': 1.0, 'cpd02027_e0': 1.0, 'cpd03454_e0': 0.06, 'cpd00058_e0': 0.21, 'cpd00738_e0': 0.01, 'cpd00609_e0': 0.15, 'cpd00157_e0': 0.43, 'cpd00207_e0': 0.32, 'cpd00007_e0': 1.0, 'cpd00156_e0': 1.0, 'cpd00277_e0': 0.13, 'cpd00391_e0': 0.06, 'cpd00132_e0': 1.0, 'cpd00079_e0': 0.71, 'cpd00644_e0': 1.0, 'cpd00051_e0': 1.0, 'cpd03279_e0': 0.09, 'cpd10515_e0': 1.0, 'cpd00182_e0': 0.9, 'cpd15468_e0': 0.68, 'cpd00098_e0': 0.45, 'tartr-D-e_e0': 0.71, 'cpd00532_e0': 0.98, 'cpd11640_e0': 0.43, 'cpd00119_e0': 1.0, 'cpd11574_e0': 1.0, 'cpd00205_e0': 1.0, 'cpd00794_e0': 0.01, 'cpd00129_e0': 1.0, 'cpd00063_e0': 1.0, 'cpd00322_e0': 1.0, 'cpd03726_e0': 0.92, 'cpd00811_e0': 0.41, 'cpd00453_e0': 0.01, 'cpd01092_e0': 1.0, 'cpd00024_e0': 1.0, 'cpd00149_e0': 1.0, 'cpd00448_e0': 0.01, 'cpd00296_e0': 0.02, 'cpd00039_e0': 1.0, 'cpd00309_e0': 0.06, 'cpd00908_e0': 0.12, 'cpd08928_e0': 0.07, 'cpd00054_e0': 0.34, 'cpd00001_e0': 0.36, 'cpd00383_e0': 0.31, 'cpd00030_e0': 1.0, 'cpd00048_e0': 1.0, 'cpd00438_e0': 0.29, 'cpd00731_e0': 0.08, 'cpd00118_e0': 0.86, 'cpd00104_e0': 1.0, 'cpd01217_e0': 0.01, 'cpd03191_e0': 0.06, 'cpd00128_e0': 0.01, 'cpd00507_e0': 0.07, 'cpd00175_e0': 0.01, 'cpd00666_e0': 0.85, 'cpd00418_e0': 0.77, 'cpd00091_e0': 0.01, 'cpd00294_e0': 0.02, 'cpd00288_e0': 1.0, 'cpd00209_e0': 0.72, 'cpd00092_e0': 0.13, 'cpd00254_e0': 1.0, 'cpd00248_e0': 0.69, 'cpd01572_e0': 0.01, 'cpd00311_e0': 0.52, 'cpd00020_e0': 0.2, 'cpd00080_e0': 0.86, 'cpd00359_e0': 1.0, 'cpd03453_e0': 0.08, 'cpd03701_e0': 0.01, 'cpd00672_e0': 0.07, 'cpd02090_e0': 0.1, 'cpd00161_e0': 1.0, 'cpd00027_e0': 0.02, 'cpd00221_e0': 0.02, 'cpd00652_e0': 0.08, 'cpd00166_e0': 1.0, 'cpd00305_e0': 1.0, 'cpd00184_e0': 1.0, 'cpd00053_e0': 0.01, 'cpd08021_e0': 0.24, 'cpd00084_e0': 0.9, 'cpd00208_e0': 0.03, 'cpd00023_e0': 0.97, 'cpd00034_e0': 1.0, 'cpd00099_e0': 1.0, 'cpd00107_e0': 1.0, 'cpd00159_e0': 0.07, 'cpd00066_e0': 1.0, 'cpd00214_e0': 0.43, 'cpd30760_e0': 0.79, 'cpd01908_e0': 0.04, 'cpd00249_e0': 0.03, '4abzglu-e_e0': 1.0} ['cpd00071_e0', 'cpd00218_e0', 'cpd00139_e0', 'cpd00130_e0', 'cpd00781_e0', 'cpd00041_e0', 'cpd00069_e0', 'cpd00029_e0', 'cpd00106_e0', 'cpd00060_e0', 'cpd00441_e0', 'cpd00276_e0', 'cpd10516_e0', 'cpd00067_e0', 'cpd00223_e0', 'cpd00058_e0', 'cpd01017_e0', 'cpd00047_e0', 'cpd00075_e0', 'cpd00157_e0', 'cpd00210_e0', 'cpd00035_e0', 'cpd00156_e0', 'cpd00132_e0', 'cpd00025_e0', 'cpd11640_e0', 'cpd00108_e0', 'cpd00722_e0', 'cpd00121_e0', 'cpd00832_e0', 'cpd00129_e0', 'cpd00024_e0', 'cpd00448_e0', 'cpd00013_e0', 'cpd00105_e0', 'cpd00065_e0', 'cpd00138_e0', 'cpd00540_e0', 'cpd00033_e0', 'cpd01217_e0', 'cpd00128_e0', 'cpd15482_e0', 'cpd00036_e0', 'cpd00280_e0', 'cpd00092_e0', 'cpd00116_e0', 'cpd00020_e0', 'cpd01329_e0', 'cpd00009_e0', 'cpd00161_e0', 'cpd00221_e0', 'cpd00117_e0', 'cpd00751_e0', 'cpd01861_e0', 'cpd00137_e0', 'cpd00107_e0', 'cpd00066_e0', 'cpd00082_e0', 'cpd00176_e0', 'cpd00011_e0', 'cpd01262_e0', 'cpd00363_e0', 'cpd00100_e0', 'cpd00355_e0', 'cpd00573_e0', 'cpd00122_e0', 'cpd00073_e0', 'cpd15483_e0', 'cpd00182_e0', 'cpd00119_e0', 'cpd00453_e0', 'cpd00309_e0', 'cpd00054_e0', 'cpd00179_e0', 'cpd00118_e0', 'cpd00450_e0', 'cpd00164_e0', 'cpd03725_e0', 'cpd00359_e0', 'cpd00141_e0', 'cpd00222_e0', 'cpd00672_e0', 'cpd00027_e0', 'cpd00226_e0', 'cpd00053_e0', 'cpd00232_e0', 'cpd00084_e0', 'cpd00208_e0', 'cpd00159_e0', 'cpd00249_e0', 'cpd00239_e0', 'cpd01113_e0', 'cpd00281_e0', 'cpd15495_e0', 'cpd00246_e0', 'cpd00064_e0', 'cpd00207_e0', 'cpd00644_e0', 'cpd00227_e0', 'cpd10515_e0', 'cpd00098_e0', 'cpd00654_e0', 'cpd00322_e0', 'cpd00224_e0', 'cpd00001_e0', 'cpd00048_e0', 'cpd00438_e0', 'cpd03191_e0', 'cpd00091_e0', 'cpd00080_e0', 'cpd00023_e0', 'cpd00367_e0', 'cpd00264_e0', 'cpd00154_e0', 'cpd01092_e0', 'cpd00039_e0', 'cpd01981_e0', 'cpd00311_e0', 'cpd00184_e0', 'cpd00396_e0', 'cpd01155_e0', 'cpd00042_e0', 'cpd00151_e0', 'cpd00051_e0', 'cpd00305_e0', 'cpd00152_e0', 'cpd00104_e0', 'cpd15127_e0', '4abzglu-e_e0', 'cpd15386_e0', 'cpd15396_e0', 'cpd00731_e0', 'cpd00050_e0', 'cpd15387_e0', 'cpd00277_e0', 'cpd00015_e0', 'cpd00908_e0', 'cpd02090_e0', 'cpd03586_e0', 'cpd00162_e0', 'cpd03587_e0', 'cpd03453_e0', 'cpd15493_e0', 'cpd03726_e0', 'cpd00028_e0', 'cpd15459_e0', 'cpd15432_e0', 'cpd00745_e0', 'cpd15392_e0', 'colipap-e_e0', 'cpd15457_e0']\n",
      "SMETANA score:\t\t\t\n",
      "{'Bacteroides_thetaiotaomicron_VPI-5482.fbamdl.23': {'iML1515': 74.12},\n",
      " 'iML1515': {'Bacteroides_thetaiotaomicron_VPI-5482.fbamdl.23': 68.18000000000002}}\n"
     ]
    }
   ],
   "source": [
    "from pprint import pprint\n",
    "import json\n",
    "\n",
    "%run MSsmetana2.py\n",
    "smtana = Smetana.smetana(models, com_model)\n",
    "print(\"SMETANA score:\\t\\t\\t\")\n",
    "pprint(smtana)"
   ]
  },
  {
   "cell_type": "markdown",
   "id": "36cc947d-9516-4f73-a95b-04c2b5852d60",
   "metadata": {},
   "source": [
    "# JENGA method, MinimalMediaPkg, analysis"
   ]
  },
  {
   "cell_type": "code",
   "execution_count": 1,
   "id": "9d0923c1-7328-4ad1-9893-db341f2ae583",
   "metadata": {},
   "outputs": [
    {
     "name": "stderr",
     "output_type": "stream",
     "text": [
      "C:\\Users\\Andrew Freiburger\\AppData\\Local\\Programs\\Python\\Python39\\lib\\site-packages\\requests\\__init__.py:102: RequestsDependencyWarning: urllib3 (1.26.9) or chardet (5.0.0)/charset_normalizer (2.0.12) doesn't match a supported version!\n",
      "  warnings.warn(\"urllib3 ({}) or chardet ({})/charset_normalizer ({}) doesn't match a supported \"\n"
     ]
    },
    {
     "name": "stdout",
     "output_type": "stream",
     "text": [
      "cobrakbase 0.2.8\n"
     ]
    }
   ],
   "source": [
    "# define the environment path \n",
    "import os\n",
    "local_cobrakbase_path = os.path.join('C:', 'Users', 'Andrew Freiburger','Documents','Argonne','cobrakbase')\n",
    "os.environ[\"HOME\"] = local_cobrakbase_path\n",
    "\n",
    "# import the models\n",
    "import cobrakbase\n",
    "token = 'WNIJW5W2A376KPOGSMCJB4RTEFUULXZE'\n",
    "kbase_api = cobrakbase.KBaseAPI(token)\n",
    "model1 = kbase_api.get_from_ws(\"E_iAH991V2\",40576)\n",
    "model2 = kbase_api.get_from_ws(\"E_iML1515.kb\",40576)\n",
    "models = [model1, model2]\n",
    "com_model = kbase_api.get_from_ws(\"CMM_iAH991V2_iML1515.kb\",40576)\n",
    "\n",
    "# prevent excessive warnings\n",
    "import warnings\n",
    "warnings.filterwarnings(action='once')"
   ]
  },
  {
   "cell_type": "code",
<<<<<<< HEAD
   "execution_count": 4,
   "id": "57f56a78",
=======
   "execution_count": 2,
   "id": "b1c19c45-5d95-4f54-ad23-01019635ccc2",
>>>>>>> 3cd9b9493e8f4fa6c58de969420d58f1ff5e699a
   "metadata": {},
   "outputs": [
    {
     "data": {
      "text/plain": [
       "143.70276579902415"
      ]
     },
     "metadata": {},
     "output_type": "display_data"
    },
    {
     "name": "stdout",
     "output_type": "stream",
     "text": [
      "like_externals ['extracellular', 'extraorganism', 'out', 'extracellular space', 'extra organism', 'extra cellular', 'extra-organism', 'external', 'external medium', 'e']\n",
      "c0    False\n",
      "e0    False\n",
      "dtype: object FalseFalse\n"
     ]
    },
    {
     "ename": "TypeError",
     "evalue": "'>' not supported between instances of 'str' and 'int'",
     "output_type": "error",
     "traceback": [
      "\u001b[1;31m---------------------------------------------------------------------------\u001b[0m",
      "\u001b[1;31mTypeError\u001b[0m                                 Traceback (most recent call last)",
      "File \u001b[1;32m<timed eval>:1\u001b[0m, in \u001b[0;36m<module>\u001b[1;34m\u001b[0m\n",
      "File \u001b[1;32m~\\AppData\\Local\\Programs\\Python\\Python39\\lib\\site-packages\\modelseedpy\\core\\minimalmediapkg.py:132\u001b[0m, in \u001b[0;36mMinimalMediaPkg.jenga_method\u001b[1;34m(models, com_model, syntrophy, min_growth, conserved_cpds, export, printing)\u001b[0m\n\u001b[0;32m    130\u001b[0m \u001b[38;5;28;01mfor\u001b[39;00m org_model \u001b[38;5;129;01min\u001b[39;00m models:\n\u001b[0;32m    131\u001b[0m     model \u001b[38;5;241m=\u001b[39m org_model\u001b[38;5;241m.\u001b[39mcopy()\n\u001b[1;32m--> 132\u001b[0m     media[\u001b[38;5;124m\"\u001b[39m\u001b[38;5;124mmembers\u001b[39m\u001b[38;5;124m\"\u001b[39m][model\u001b[38;5;241m.\u001b[39mid] \u001b[38;5;241m=\u001b[39m {\u001b[38;5;124m\"\u001b[39m\u001b[38;5;124mmedia\u001b[39m\u001b[38;5;124m\"\u001b[39m: \u001b[43mminimal_medium\u001b[49m\u001b[43m(\u001b[49m\u001b[43mmodel\u001b[49m\u001b[43m,\u001b[49m\u001b[43m \u001b[49m\u001b[43mmin_growth\u001b[49m\u001b[43m,\u001b[49m\u001b[43m \u001b[49m\u001b[43mminimize_components\u001b[49m\u001b[38;5;241;43m=\u001b[39;49m\u001b[38;5;28;43;01mTrue\u001b[39;49;00m\u001b[43m)\u001b[49m\u001b[38;5;241m.\u001b[39mto_dict()}\n\u001b[0;32m    133\u001b[0m     model\u001b[38;5;241m.\u001b[39mmedium \u001b[38;5;241m=\u001b[39m media[\u001b[38;5;124m\"\u001b[39m\u001b[38;5;124mmembers\u001b[39m\u001b[38;5;124m\"\u001b[39m][model\u001b[38;5;241m.\u001b[39mid][\u001b[38;5;124m\"\u001b[39m\u001b[38;5;124mmedia\u001b[39m\u001b[38;5;124m\"\u001b[39m]\n\u001b[0;32m    134\u001b[0m     media[\u001b[38;5;124m\"\u001b[39m\u001b[38;5;124mmembers\u001b[39m\u001b[38;5;124m\"\u001b[39m][model\u001b[38;5;241m.\u001b[39mid][\u001b[38;5;124m\"\u001b[39m\u001b[38;5;124msolution\u001b[39m\u001b[38;5;124m\"\u001b[39m] \u001b[38;5;241m=\u001b[39m FBAHelper\u001b[38;5;241m.\u001b[39msolution_to_dict(model\u001b[38;5;241m.\u001b[39moptimize())\n",
      "File \u001b[1;32m~\\AppData\\Local\\Programs\\Python\\Python39\\lib\\site-packages\\cobra\\medium\\minimal_medium.py:188\u001b[0m, in \u001b[0;36mminimal_medium\u001b[1;34m(model, min_objective_value, exports, minimize_components, open_exchanges)\u001b[0m\n\u001b[0;32m    128\u001b[0m \u001b[38;5;28;01mdef\u001b[39;00m \u001b[38;5;21mminimal_medium\u001b[39m(\n\u001b[0;32m    129\u001b[0m     model: \u001b[38;5;124m\"\u001b[39m\u001b[38;5;124mModel\u001b[39m\u001b[38;5;124m\"\u001b[39m,\n\u001b[0;32m    130\u001b[0m     min_objective_value: \u001b[38;5;28mfloat\u001b[39m \u001b[38;5;241m=\u001b[39m \u001b[38;5;241m0.1\u001b[39m,\n\u001b[1;32m   (...)\u001b[0m\n\u001b[0;32m    133\u001b[0m     open_exchanges: \u001b[38;5;28mbool\u001b[39m \u001b[38;5;241m=\u001b[39m \u001b[38;5;28;01mFalse\u001b[39;00m,\n\u001b[0;32m    134\u001b[0m ) \u001b[38;5;241m-\u001b[39m\u001b[38;5;241m>\u001b[39m Union[pd\u001b[38;5;241m.\u001b[39mSeries, pd\u001b[38;5;241m.\u001b[39mDataFrame, \u001b[38;5;28;01mNone\u001b[39;00m]:\n\u001b[0;32m    135\u001b[0m     \u001b[38;5;124;03m\"\"\"Find the minimal growth medium for the `model`.\u001b[39;00m\n\u001b[0;32m    136\u001b[0m \n\u001b[0;32m    137\u001b[0m \u001b[38;5;124;03m    Finds the minimal growth medium for the `model` which allows for\u001b[39;00m\n\u001b[1;32m   (...)\u001b[0m\n\u001b[0;32m    186\u001b[0m \n\u001b[0;32m    187\u001b[0m \u001b[38;5;124;03m    \"\"\"\u001b[39;00m\n\u001b[1;32m--> 188\u001b[0m     exchange_rxns \u001b[38;5;241m=\u001b[39m \u001b[43mfind_boundary_types\u001b[49m\u001b[43m(\u001b[49m\u001b[43mmodel\u001b[49m\u001b[43m,\u001b[49m\u001b[43m \u001b[49m\u001b[38;5;124;43m\"\u001b[39;49m\u001b[38;5;124;43mexchange\u001b[39;49m\u001b[38;5;124;43m\"\u001b[39;49m\u001b[43m)\u001b[49m\n\u001b[0;32m    189\u001b[0m     \u001b[38;5;28;01mif\u001b[39;00m \u001b[38;5;28misinstance\u001b[39m(open_exchanges, \u001b[38;5;28mbool\u001b[39m):\n\u001b[0;32m    190\u001b[0m         open_bound \u001b[38;5;241m=\u001b[39m \u001b[38;5;241m1000\u001b[39m\n",
      "File \u001b[1;32m~\\AppData\\Local\\Programs\\Python\\Python39\\lib\\site-packages\\cobra\\medium\\boundary_types.py:189\u001b[0m, in \u001b[0;36mfind_boundary_types\u001b[1;34m(model, boundary_type, external_compartment)\u001b[0m\n\u001b[0;32m    187\u001b[0m     \u001b[38;5;28;01mreturn\u001b[39;00m []\n\u001b[0;32m    188\u001b[0m \u001b[38;5;28;01mif\u001b[39;00m external_compartment \u001b[38;5;129;01mis\u001b[39;00m \u001b[38;5;28;01mNone\u001b[39;00m:\n\u001b[1;32m--> 189\u001b[0m     external_compartment \u001b[38;5;241m=\u001b[39m \u001b[43mfind_external_compartment\u001b[49m\u001b[43m(\u001b[49m\u001b[43mmodel\u001b[49m\u001b[43m)\u001b[49m\n\u001b[0;32m    190\u001b[0m \u001b[38;5;28;01mreturn\u001b[39;00m model\u001b[38;5;241m.\u001b[39mreactions\u001b[38;5;241m.\u001b[39mquery(\n\u001b[0;32m    191\u001b[0m     \u001b[38;5;28;01mlambda\u001b[39;00m r: is_boundary_type(r, boundary_type, external_compartment)\n\u001b[0;32m    192\u001b[0m )\n",
      "File \u001b[1;32m~\\AppData\\Local\\Programs\\Python\\Python39\\lib\\site-packages\\cobra\\medium\\boundary_types.py:73\u001b[0m, in \u001b[0;36mfind_external_compartment\u001b[1;34m(model)\u001b[0m\n\u001b[0;32m     68\u001b[0m     logger\u001b[38;5;241m.\u001b[39minfo(\n\u001b[0;32m     69\u001b[0m         \u001b[38;5;124mf\u001b[39m\u001b[38;5;124m\"\u001b[39m\u001b[38;5;124mCompartment `\u001b[39m\u001b[38;5;132;01m{\u001b[39;00mcompartment\u001b[38;5;132;01m}\u001b[39;00m\u001b[38;5;124m` sounds like an external compartment. \u001b[39m\u001b[38;5;124m\"\u001b[39m\n\u001b[0;32m     70\u001b[0m         \u001b[38;5;124m\"\u001b[39m\u001b[38;5;124mUsing this one without counting boundary reactions.\u001b[39m\u001b[38;5;124m\"\u001b[39m\n\u001b[0;32m     71\u001b[0m     )\n\u001b[0;32m     72\u001b[0m     \u001b[38;5;28;01mreturn\u001b[39;00m compartment\n\u001b[1;32m---> 73\u001b[0m \u001b[38;5;28;01melif\u001b[39;00m most \u001b[38;5;129;01mis\u001b[39;00m \u001b[38;5;129;01mnot\u001b[39;00m \u001b[38;5;28;01mNone\u001b[39;00m \u001b[38;5;129;01mand\u001b[39;00m \u001b[43mmatches\u001b[49m\u001b[38;5;241;43m.\u001b[39;49m\u001b[43msum\u001b[49m\u001b[43m(\u001b[49m\u001b[43m)\u001b[49m\u001b[43m \u001b[49m\u001b[38;5;241;43m>\u001b[39;49m\u001b[43m \u001b[49m\u001b[38;5;241;43m1\u001b[39;49m \u001b[38;5;129;01mand\u001b[39;00m matches[most]\u001b[38;5;241m.\u001b[39msum() \u001b[38;5;241m==\u001b[39m \u001b[38;5;241m1\u001b[39m:\n\u001b[0;32m     74\u001b[0m     compartment \u001b[38;5;241m=\u001b[39m most[matches[most]][\u001b[38;5;241m0\u001b[39m]\n\u001b[0;32m     75\u001b[0m     logger\u001b[38;5;241m.\u001b[39mwarning(\n\u001b[0;32m     76\u001b[0m         \u001b[38;5;124m\"\u001b[39m\u001b[38;5;124mThere are several compartments that look like an \u001b[39m\u001b[38;5;124m\"\u001b[39m\n\u001b[0;32m     77\u001b[0m         \u001b[38;5;124mf\u001b[39m\u001b[38;5;124m\"\u001b[39m\u001b[38;5;124mexternal compartment but `\u001b[39m\u001b[38;5;132;01m{\u001b[39;00mcompartment\u001b[38;5;132;01m}\u001b[39;00m\u001b[38;5;124m` has the most boundary \u001b[39m\u001b[38;5;124m\"\u001b[39m\n\u001b[0;32m     78\u001b[0m         \u001b[38;5;124m\"\u001b[39m\u001b[38;5;124mreactions, so using that as the external compartment.\u001b[39m\u001b[38;5;124m\"\u001b[39m\n\u001b[0;32m     79\u001b[0m     )\n",
      "\u001b[1;31mTypeError\u001b[0m: '>' not supported between instances of 'str' and 'int'"
     ]
    }
   ],
   "source": [
    "# troubleshoot the JENGA method from the MinimalMediaPkg\n",
    "from modelseedpy.core.minimalmediapkg import MinimalMediaPkg\n",
    "display(com_model.optimize().objective_value)\n",
    "# from cobra.medium import minimal_medium\n",
    "%time print(MinimalMediaPkg.jenga_method(models, com_model))\n",
    "# %time print(minimal_medium(com_model, minimize_components=True))"
   ]
  },
  {
   "cell_type": "code",
   "execution_count": null,
   "id": "03cac7ac-86c8-40e6-8c60-5c6694be6cfd",
   "metadata": {},
   "outputs": [],
   "source": []
  }
 ],
 "metadata": {
  "kernelspec": {
   "display_name": "Python 3",
   "language": "python",
   "name": "python3"
  },
  "language_info": {
   "codemirror_mode": {
    "name": "ipython",
    "version": 3
   },
   "file_extension": ".py",
   "mimetype": "text/x-python",
   "name": "python",
   "nbconvert_exporter": "python",
   "pygments_lexer": "ipython3",
   "version": "3.7.4"
  }
 },
 "nbformat": 4,
 "nbformat_minor": 5
}
