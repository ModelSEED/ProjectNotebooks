{
 "cells": [
  {
   "cell_type": "code",
   "execution_count": 1,
   "id": "fa7263c1",
   "metadata": {},
   "outputs": [
    {
     "name": "stderr",
     "output_type": "stream",
     "text": [
      "C:\\Users\\Andrew Freiburger\\AppData\\Local\\Programs\\Python\\Python39\\lib\\site-packages\\requests\\__init__.py:102: RequestsDependencyWarning: urllib3 (1.26.9) or chardet (5.0.0)/charset_normalizer (2.0.12) doesn't match a supported version!\n",
      "  warnings.warn(\"urllib3 ({}) or chardet ({})/charset_normalizer ({}) doesn't match a supported \"\n"
     ]
    },
    {
     "name": "stdout",
     "output_type": "stream",
     "text": [
      "cobrakbase 0.2.8\n"
     ]
    }
   ],
   "source": [
    "# define the environment path \n",
    "import os\n",
    "local_cobrakbase_path = os.path.join('C:', 'Users', 'Andrew Freiburger','Documents','Argonne','cobrakbase')\n",
    "os.environ[\"HOME\"] = local_cobrakbase_path\n",
    "\n",
    "# import the models\n",
    "import cobrakbase\n",
    "token = 'RBP7R34IILI6IQN5533VVSVUZM6H7YU7'\n",
    "kbase_api = cobrakbase.KBaseAPI(token)\n",
    "model1 = kbase_api.get_from_ws(\"E_iAH991V2\",40576)\n",
    "model2 = kbase_api.get_from_ws(\"E_iML1515.kb\",40576)\n",
    "models = [model1, model2]\n",
    "com_model = kbase_api.get_from_ws(\"CMM_iAH991V2_iML1515.kb\",40576)\n",
    "\n",
    "# prevent excessive warnings\n",
    "import warnings\n",
    "warnings.filterwarnings(action='once')"
   ]
  },
  {
   "cell_type": "markdown",
   "id": "2b7c6d1c-6876-46b9-a0f8-1757621482e6",
   "metadata": {},
   "source": [
    "# Class example"
   ]
  },
  {
   "cell_type": "code",
   "execution_count": 2,
   "id": "49538482-47fa-4a3d-a6be-24a4827a9e2e",
   "metadata": {
    "tags": []
   },
   "outputs": [],
   "source": [
    "import json\n",
    "%run MSsmetana2.py\n",
    "\n",
    "# This media was previously calculated and exported for convenience to no redefine it with each simulation\n",
    "with open(\"CMM_iAH991V2_iML1515.kb_media.json\", 'r') as medium:\n",
    "    media=json.load(medium)\n",
    "\n",
    "smetana_scores = Smetana(models, com_model, media_dict=media, compatibilize=False)"
   ]
  },
  {
   "cell_type": "code",
   "execution_count": 3,
   "id": "dd662f9a-4e6c-4d80-9b47-99cfbed7a02b",
   "metadata": {
    "tags": []
   },
   "outputs": [
    {
     "name": "stdout",
     "output_type": "stream",
     "text": [
      "42.86% of member minimal media, on average, overlap with other member minimal media.\n",
      "MRO score:\t\t\t 0.42857142857142855\n"
     ]
    },
    {
     "name": "stderr",
     "output_type": "stream",
     "text": [
      "C:\\Users\\Andrew Freiburger\\AppData\\Local\\Programs\\Python\\Python39\\lib\\site-packages\\cobra\\medium\\minimal_medium.py:112: FutureWarning: The default dtype for empty Series will be 'object' instead of 'float64' in a future version. Specify a dtype explicitly to silence this warning.\n",
      "  medium = pd.Series()\n",
      "C:\\Users\\Andrew Freiburger\\AppData\\Local\\Programs\\Python\\Python39\\lib\\site-packages\\cobra\\medium\\minimal_medium.py:112: FutureWarning: The default dtype for empty Series will be 'object' instead of 'float64' in a future version. Specify a dtype explicitly to silence this warning.\n",
      "  medium = pd.Series()\n"
     ]
    },
    {
     "name": "stdout",
     "output_type": "stream",
     "text": [
      "Initial media defined with 24 exchanges\n",
      "Syntrophic fluxes examined after 0.0 minutes, with 0 change(s): {}\n",
      "The 40320 permutations of the {'EX_cpd10515_e0', 'EX_cpd00166_e0', 'EX_cpd00007_e0', 'EX_cpd00541_e0', 'EX_cpd00028_e0', 'EX_cpd00048_e0', 'EX_cpd00009_e0', 'EX_cpd00104_e0'} redundant compounds, from absolute tolerance of 1e-4, will be examined.\n",
      "{'EX_cpd00007_e0': 1000.0000223,\n",
      " 'EX_cpd00009_e0': 0.17686880000182165,\n",
      " 'EX_cpd00018_e0': 726.4398501593508,\n",
      " 'EX_cpd00028_e0': 0.0004668000000265238,\n",
      " 'EX_cpd00030_e0': 0.0005326000000265237,\n",
      " 'EX_cpd00034_e0': 0.0004992000000265238,\n",
      " 'EX_cpd00048_e0': 0.025150900000880938,\n",
      " 'EX_cpd00058_e0': 6.739999999999998e-05,\n",
      " 'EX_cpd00063_e0': 0.0009620000000722939,\n",
      " 'EX_cpd00098_e0': 0.0004668000000265238,\n",
      " 'EX_cpd00099_e0': 0.0004952000000457701,\n",
      " 'EX_cpd00104_e0': 2e-07,\n",
      " 'EX_cpd00149_e0': 0.0004692000000265238,\n",
      " 'EX_cpd00166_e0': 2.23e-05,\n",
      " 'EX_cpd00205_e0': 0.019035799999983283,\n",
      " 'EX_cpd00244_e0': 3.07e-05,\n",
      " 'EX_cpd00254_e0': 0.0012921000000005733,\n",
      " 'EX_cpd00541_e0': 3.0000000000000004e-07,\n",
      " 'EX_cpd00635_e0': 0.0004668000000265238,\n",
      " 'EX_cpd00971_e0': 0.0004668000001402106,\n",
      " 'EX_cpd01017_e0': 596.0988831484894,\n",
      " 'EX_cpd03725_e0': 650.505393642387,\n",
      " 'EX_cpd10515_e0': 0.0009336000000000001,\n",
      " 'EX_cpd11574_e0': 2.1000000000000002e-06}\n"
     ]
    },
    {
     "name": "stderr",
     "output_type": "stream",
     "text": [
      "C:\\Users\\Andrew Freiburger\\AppData\\Local\\Programs\\Python\\Python39\\lib\\site-packages\\modelseedpy\\community\\mscommunity.py:213: DeprecationWarning: invalid escape sequence \\d\n",
      "  if re.search('^(bio)(\\d+)$', rxn.id):\n"
     ]
    },
    {
     "ename": "IndexError",
     "evalue": "list index out of range",
     "output_type": "error",
     "traceback": [
      "\u001b[1;31m---------------------------------------------------------------------------\u001b[0m",
      "\u001b[1;31mIndexError\u001b[0m                                Traceback (most recent call last)",
      "Input \u001b[1;32mIn [3]\u001b[0m, in \u001b[0;36m<cell line: 6>\u001b[1;34m()\u001b[0m\n\u001b[0;32m      3\u001b[0m \u001b[38;5;28mprint\u001b[39m(\u001b[38;5;124m\"\u001b[39m\u001b[38;5;124mMRO score:\u001b[39m\u001b[38;5;130;01m\\t\u001b[39;00m\u001b[38;5;130;01m\\t\u001b[39;00m\u001b[38;5;130;01m\\t\u001b[39;00m\u001b[38;5;124m\"\u001b[39m, smetana_scores\u001b[38;5;241m.\u001b[39mmro)\n\u001b[0;32m      5\u001b[0m \u001b[38;5;66;03m# MIP score\u001b[39;00m\n\u001b[1;32m----> 6\u001b[0m \u001b[43msmetana_scores\u001b[49m\u001b[38;5;241;43m.\u001b[39;49m\u001b[43mmip_score\u001b[49m\u001b[43m(\u001b[49m\u001b[43minteracting_media\u001b[49m\u001b[38;5;241;43m=\u001b[39;49m\u001b[43msmetana_scores\u001b[49m\u001b[38;5;241;43m.\u001b[39;49m\u001b[43mmedia\u001b[49m\u001b[43m)\u001b[49m\n\u001b[0;32m      7\u001b[0m \u001b[38;5;28mprint\u001b[39m(\u001b[38;5;124m\"\u001b[39m\u001b[38;5;130;01m\\n\u001b[39;00m\u001b[38;5;130;01m\\n\u001b[39;00m\u001b[38;5;124mMIP score:\u001b[39m\u001b[38;5;130;01m\\t\u001b[39;00m\u001b[38;5;130;01m\\t\u001b[39;00m\u001b[38;5;130;01m\\t\u001b[39;00m\u001b[38;5;124m\"\u001b[39m, smetana_scores\u001b[38;5;241m.\u001b[39mmip)\n\u001b[0;32m      9\u001b[0m \u001b[38;5;66;03m# MU score\u001b[39;00m\n",
      "File \u001b[1;32m~\\Documents\\Argonne\\ProjectNotebooks\\CommunityModeling\\reframed\\smetana\\MSsmetana2.py:34\u001b[0m, in \u001b[0;36mSmetana.mip_score\u001b[1;34m(self, interacting_media, noninteracting_media)\u001b[0m\n\u001b[0;32m     33\u001b[0m \u001b[38;5;28;01mdef\u001b[39;00m \u001b[38;5;21mmip_score\u001b[39m(\u001b[38;5;28mself\u001b[39m, interacting_media:\u001b[38;5;28mdict\u001b[39m\u001b[38;5;241m=\u001b[39m\u001b[38;5;28;01mNone\u001b[39;00m, noninteracting_media:\u001b[38;5;28mdict\u001b[39m\u001b[38;5;241m=\u001b[39m\u001b[38;5;28;01mNone\u001b[39;00m):\n\u001b[1;32m---> 34\u001b[0m     \u001b[38;5;28mself\u001b[39m\u001b[38;5;241m.\u001b[39mmip \u001b[38;5;241m=\u001b[39m Smetana\u001b[38;5;241m.\u001b[39mmip(\u001b[38;5;28mself\u001b[39m\u001b[38;5;241m.\u001b[39mmodels, \u001b[38;5;28mself\u001b[39m\u001b[38;5;241m.\u001b[39mcommunity, \u001b[38;5;28mself\u001b[39m\u001b[38;5;241m.\u001b[39mmin_growth,\n\u001b[0;32m     35\u001b[0m                            interacting_media, noninteracting_media, compatibilize\u001b[38;5;241m=\u001b[39m\u001b[38;5;28mself\u001b[39m\u001b[38;5;241m.\u001b[39mcompatibilize)\n\u001b[0;32m     36\u001b[0m     \u001b[38;5;28;01mif\u001b[39;00m \u001b[38;5;28mself\u001b[39m\u001b[38;5;241m.\u001b[39mprinting:\n\u001b[0;32m     37\u001b[0m         \u001b[38;5;28mprint\u001b[39m(\u001b[38;5;124mf\u001b[39m\u001b[38;5;124m\"\u001b[39m\u001b[38;5;124mMIP score:\u001b[39m\u001b[38;5;130;01m\\t\u001b[39;00m\u001b[38;5;130;01m\\t\u001b[39;00m\u001b[38;5;130;01m\\t\u001b[39;00m\u001b[38;5;132;01m{\u001b[39;00m\u001b[38;5;28mself\u001b[39m\u001b[38;5;241m.\u001b[39mmip\u001b[38;5;132;01m}\u001b[39;00m\u001b[38;5;124m required community compounds are sourced via syntrophy in the community.\u001b[39m\u001b[38;5;124m\"\u001b[39m)\n",
      "File \u001b[1;32m~\\Documents\\Argonne\\ProjectNotebooks\\CommunityModeling\\reframed\\smetana\\MSsmetana2.py:125\u001b[0m, in \u001b[0;36mSmetana.mip\u001b[1;34m(cobra_models, com_model, min_growth, interacting_media_dict, noninteracting_media_dict, compatibilize)\u001b[0m\n\u001b[0;32m    123\u001b[0m     noninteracting_medium \u001b[38;5;241m=\u001b[39m noninteracting_media_dict[\u001b[38;5;124m\"\u001b[39m\u001b[38;5;124mcommunity_media\u001b[39m\u001b[38;5;124m\"\u001b[39m]\n\u001b[0;32m    124\u001b[0m \u001b[38;5;28;01melse\u001b[39;00m:\n\u001b[1;32m--> 125\u001b[0m     noninteracting_medium \u001b[38;5;241m=\u001b[39m \u001b[43mSmetana\u001b[49m\u001b[38;5;241;43m.\u001b[39;49m\u001b[43m_get_media\u001b[49m\u001b[43m(\u001b[49m\u001b[43mnoninteracting_media_dict\u001b[49m\u001b[43m,\u001b[49m\u001b[43m \u001b[49m\u001b[43mcobra_models\u001b[49m\u001b[43m,\u001b[49m\u001b[43m \u001b[49m\u001b[43mmin_growth\u001b[49m\u001b[43m,\u001b[49m\u001b[43m \u001b[49m\u001b[43mcom_model\u001b[49m\u001b[43m,\u001b[49m\u001b[43m \u001b[49m\u001b[38;5;28;43;01mFalse\u001b[39;49;00m\u001b[43m)\u001b[49m[\u001b[38;5;124m\"\u001b[39m\u001b[38;5;124mcommunity_media\u001b[39m\u001b[38;5;124m\"\u001b[39m]\n\u001b[0;32m    127\u001b[0m \u001b[38;5;28;01mif\u001b[39;00m interacting_media_dict:\n\u001b[0;32m    128\u001b[0m     interacting_medium \u001b[38;5;241m=\u001b[39m interacting_media_dict[\u001b[38;5;124m\"\u001b[39m\u001b[38;5;124mcommunity_media\u001b[39m\u001b[38;5;124m\"\u001b[39m]\n",
      "File \u001b[1;32m~\\Documents\\Argonne\\ProjectNotebooks\\CommunityModeling\\reframed\\smetana\\MSsmetana2.py:94\u001b[0m, in \u001b[0;36mSmetana._get_media\u001b[1;34m(media, model_s_, min_growth, com_model, syntrophy)\u001b[0m\n\u001b[0;32m     91\u001b[0m \u001b[38;5;129m@staticmethod\u001b[39m\n\u001b[0;32m     92\u001b[0m \u001b[38;5;28;01mdef\u001b[39;00m \u001b[38;5;21m_get_media\u001b[39m(media, model_s_\u001b[38;5;241m=\u001b[39m\u001b[38;5;28;01mNone\u001b[39;00m, min_growth\u001b[38;5;241m=\u001b[39m\u001b[38;5;28;01mNone\u001b[39;00m, com_model\u001b[38;5;241m=\u001b[39m\u001b[38;5;28;01mNone\u001b[39;00m, syntrophy\u001b[38;5;241m=\u001b[39m\u001b[38;5;28;01mTrue\u001b[39;00m):\n\u001b[0;32m     93\u001b[0m     \u001b[38;5;28;01mif\u001b[39;00m \u001b[38;5;129;01mnot\u001b[39;00m media:  \u001b[38;5;66;03m# May be either a singular model or a list of models\u001b[39;00m\n\u001b[1;32m---> 94\u001b[0m         \u001b[38;5;28;01mreturn\u001b[39;00m \u001b[43mMSCommunity\u001b[49m\u001b[38;5;241;43m.\u001b[39;49m\u001b[43mminimal_community_media\u001b[49m\u001b[43m(\u001b[49m\u001b[43mmodel_s_\u001b[49m\u001b[43m,\u001b[49m\u001b[43m \u001b[49m\u001b[43mcom_model\u001b[49m\u001b[43m,\u001b[49m\u001b[43m \u001b[49m\u001b[43msyntrophy\u001b[49m\u001b[43m,\u001b[49m\u001b[43m \u001b[49m\u001b[43mmin_growth\u001b[49m\u001b[43m)\u001b[49m\n\u001b[0;32m     95\u001b[0m     \u001b[38;5;28;01mif\u001b[39;00m \u001b[38;5;129;01mnot\u001b[39;00m com_model:  \u001b[38;5;66;03m# Must be a singular model\u001b[39;00m\n\u001b[0;32m     96\u001b[0m         \u001b[38;5;28;01mreturn\u001b[39;00m media[\u001b[38;5;124m\"\u001b[39m\u001b[38;5;124mmembers\u001b[39m\u001b[38;5;124m\"\u001b[39m][model_s_\u001b[38;5;241m.\u001b[39mid][\u001b[38;5;124m\"\u001b[39m\u001b[38;5;124mmedia\u001b[39m\u001b[38;5;124m\"\u001b[39m]\n",
      "File \u001b[1;32m~\\AppData\\Local\\Programs\\Python\\Python39\\lib\\site-packages\\modelseedpy\\community\\mscommunity.py:712\u001b[0m, in \u001b[0;36mMSCommunity.minimal_community_media\u001b[1;34m(models, com_model, syntrophy, min_growth, conserved_cpds, export)\u001b[0m\n\u001b[0;32m    710\u001b[0m jenga_time \u001b[38;5;241m=\u001b[39m process_time()\n\u001b[0;32m    711\u001b[0m jenga_difference \u001b[38;5;241m=\u001b[39m DeepDiff(syntrophic_media, jenga_media)\n\u001b[1;32m--> 712\u001b[0m changed_quantity \u001b[38;5;241m=\u001b[39m \u001b[38;5;28mlen\u001b[39m(\u001b[38;5;28;43mlist\u001b[39;49m\u001b[43m(\u001b[49m\u001b[43mjenga_difference\u001b[49m\u001b[38;5;241;43m.\u001b[39;49m\u001b[43mvalues\u001b[49m\u001b[43m(\u001b[49m\u001b[43m)\u001b[49m\u001b[43m)\u001b[49m\u001b[43m[\u001b[49m\u001b[38;5;241;43m0\u001b[39;49m\u001b[43m]\u001b[49m)\n\u001b[0;32m    713\u001b[0m \u001b[38;5;28mprint\u001b[39m(\u001b[38;5;124mf\u001b[39m\u001b[38;5;124m\"\u001b[39m\u001b[38;5;124mJenga fluxes examined after \u001b[39m\u001b[38;5;132;01m{\u001b[39;00m(jenga_time\u001b[38;5;241m-\u001b[39msyntrophic_time)\u001b[38;5;241m/\u001b[39m\u001b[38;5;241m60\u001b[39m\u001b[38;5;132;01m}\u001b[39;00m\u001b[38;5;124m minutes, with \u001b[39m\u001b[38;5;132;01m{\u001b[39;00mchanged_quantity\u001b[38;5;132;01m}\u001b[39;00m\u001b[38;5;124m change(s):\u001b[39m\u001b[38;5;124m\"\u001b[39m, jenga_difference)\n\u001b[0;32m    714\u001b[0m \u001b[38;5;28;01mif\u001b[39;00m export:\n",
      "\u001b[1;31mIndexError\u001b[0m: list index out of range"
     ]
    }
   ],
   "source": [
    "# MRO score\n",
    "smetana_scores.mro_score()\n",
    "# print(\"MRO score:\\t\\t\\t\", smetana_scores.mro)\n",
    "\n",
    "# MIP score\n",
    "smetana_scores.mip_score(interacting_media=smetana_scores.media)\n",
    "# print(\"\\n\\nMIP score:\\t\\t\\t\", smetana_scores.mip)\n",
    "\n",
    "# MU score\n",
    "smetana_scores.mu_score(compatiblize=False)\n",
    "# print(\"\\n\\nMU score:\\t\\t\\t\", smetana_scores.mu)\n",
    "\n",
    "# MP score\n",
    "smetana_scores.mp_score(compatiblize=False)\n",
    "# print(\"\\n\\nMP score:\\t\\t\\t\", smetana_scores.mp)"
   ]
  },
  {
   "cell_type": "code",
   "execution_count": null,
   "id": "37e19f24-3359-4ec5-8f58-68df19bd8587",
   "metadata": {
    "tags": []
   },
   "outputs": [],
   "source": [
    "import json\n",
    "%run MSsmetana2.py\n",
    "# msdb = os.path.join('..', '..', '..', '..', 'ModelSEEDDatabase')\n",
    "with open(\"CMM_iAH991V2_iML1515.kb_media.json\", 'r') as medium:\n",
    "    media=json.load(medium)\n",
    "smetana_scores = Smetana(models, com_model, media_dict=media)\n",
    "smetana_scores.mip_score(interacting_media=media)\n",
    "print(\"\\n\\nMP score:\\t\\t\\t\", smetana_scores.mp)"
   ]
  },
  {
   "cell_type": "code",
   "execution_count": null,
   "id": "6aa419e1-cb4d-4964-9c17-53c9a3ae5d24",
   "metadata": {},
   "outputs": [],
   "source": [
    "print(model1.reactions.bio1)\n",
    "print(\"\\n\\n\\n\")\n",
    "print(com_model.reactions.bio3) # composed of model1 and model2"
   ]
  },
  {
   "cell_type": "code",
   "execution_count": null,
   "id": "98f106f2-5e4d-49b6-a878-7967432d51b1",
   "metadata": {},
   "outputs": [],
   "source": [
    "from optlang import Objective\n",
    "from optlang.symbolics import Zero\n",
    "from modelseedpy import FBAHelper\n",
    "# pprint(dir(model1.problem))\n",
    "for ex in FBAHelper.exchange_reactions(model1):\n",
    "    FBAHelper.add_objective(model1, ex.forward_variable, \"min\")\n",
    "    print(model1.objective)\n",
    "    break"
   ]
  },
  {
   "cell_type": "code",
   "execution_count": null,
   "id": "10876584-ca00-4262-9025-c016c2974d04",
   "metadata": {
    "tags": []
   },
   "outputs": [],
   "source": [
    "import json\n",
    "%run MSsmetana2.py\n",
    "# msdb = os.path.join('..', '..', '..', '..', 'ModelSEEDDatabase')\n",
    "with open(\"CMM_iAH991V2_iML1515.kb_media.json\", 'r') as medium:\n",
    "    media=json.load(medium)\n",
    "smetana_scores = Smetana(models, com_model, media_dict=media)\n",
    "smetana_scores.mp_score()\n",
    "print(\"\\n\\nMP score:\\t\\t\\t\", smetana_scores.mp)"
   ]
  },
  {
   "cell_type": "markdown",
   "id": "a5c33f88-d627-404f-84d3-1e09f9573ca9",
   "metadata": {},
   "source": [
    "# Static method examples"
   ]
  },
  {
   "cell_type": "code",
   "execution_count": null,
   "id": "2f79d48d",
   "metadata": {},
   "outputs": [],
   "source": [
    "# %run MSsmetana2.py\n",
    "# msdb = os.path.join('..', '..', '..', '..', 'ModelSEEDDatabase')\n",
    "# mus = Smetana.mu_score(models, msdb)\n",
    "# print(mus)"
   ]
  },
  {
   "cell_type": "markdown",
   "id": "e66d5ab2-9da3-4a89-b50d-42613d903004",
   "metadata": {},
   "source": [
    "## MRO"
   ]
  },
  {
   "cell_type": "code",
   "execution_count": null,
   "id": "f83295f4-9d69-4de0-b5e7-ecf543bfa113",
   "metadata": {},
   "outputs": [],
   "source": [
    "import json\n",
    "%run MSsmetana2.py\n",
    "# msdb = os.path.join('..', '..', '..', '..', 'ModelSEEDDatabase')\n",
    "with open(\"CMM_iAH991V2_iML1515.kb_media.json\", 'r') as medium:\n",
    "    media=json.load(medium)\n",
    "mro = Smetana.mro(models, media_dict=media)\n",
    "print(mro)"
   ]
  },
  {
   "cell_type": "markdown",
   "id": "7196b045-1d11-4759-966d-d4b846025f8a",
   "metadata": {},
   "source": [
    "## MU"
   ]
  },
  {
   "cell_type": "code",
   "execution_count": null,
   "id": "b73431ea-1977-4896-862b-7ada542a508f",
   "metadata": {
    "tags": []
   },
   "outputs": [],
   "source": [
    "import json\n",
    "%run MSsmetana2.py\n",
    "# msdb = os.path.join('..', '..', '..', '..', 'ModelSEEDDatabase')\n",
    "# with open(\"CMM_iAH991V2_iML1515.kb_media.json\", 'r') as medium:\n",
    "#     media=json.load(medium)\n",
    "mu = Smetana.mu(models)\n",
    "print(mu)"
   ]
  },
  {
   "cell_type": "markdown",
   "id": "eb2076dd-456b-4548-89c3-41ae6a12b48c",
   "metadata": {},
   "source": [
    "# MP"
   ]
  },
  {
   "cell_type": "code",
   "execution_count": null,
   "id": "691140d1-9c07-493a-8eb9-32b01ee9e7b1",
   "metadata": {
    "tags": []
   },
   "outputs": [],
   "source": [
    "from pprint import pprint\n",
    "import json\n",
    "\n",
    "%run MSsmetana2.py\n",
    "# msdb = os.path.join('..', '..', '..', '..', 'ModelSEEDDatabase')\n",
    "# with open(\"CMM_iAH991V2_iML1515.kb_media.json\", 'r') as medium:\n",
    "#     media=json.load(medium)\n",
    "mp = Smetana.mp(models, com_model, media_dict=media)\n",
    "for model, exchanges in mp.items():\n",
    "    print(model, \"\\t\\t\", exchanges)"
   ]
  },
  {
   "cell_type": "markdown",
   "id": "f7a09dbe-59b2-40e0-8c0e-6a6e5b9ae944",
   "metadata": {
    "tags": []
   },
   "source": [
    "## MIP"
   ]
  },
  {
   "cell_type": "code",
   "execution_count": 2,
   "id": "3b5cff24-f1b1-49ac-81ee-67b0d078fd08",
   "metadata": {
    "tags": []
   },
   "outputs": [
    {
     "name": "stderr",
     "output_type": "stream",
     "text": [
      "C:\\Users\\Andrew Freiburger\\AppData\\Local\\Programs\\Python\\Python39\\lib\\site-packages\\cobra\\medium\\minimal_medium.py:112: FutureWarning: The default dtype for empty Series will be 'object' instead of 'float64' in a future version. Specify a dtype explicitly to silence this warning.\n",
      "  medium = pd.Series()\n",
      "C:\\Users\\Andrew Freiburger\\AppData\\Local\\Programs\\Python\\Python39\\lib\\site-packages\\cobra\\medium\\minimal_medium.py:112: FutureWarning: The default dtype for empty Series will be 'object' instead of 'float64' in a future version. Specify a dtype explicitly to silence this warning.\n",
      "  medium = pd.Series()\n"
     ]
    },
    {
     "name": "stdout",
     "output_type": "stream",
     "text": [
      "Initial media defined with 22 exchanges\n",
      "Syntrophic fluxes examined after 0.0 minutes, with 0 change(s): {}\n",
      "The 720 permutations of the {'EX_cpd00104_e0', 'EX_cpd10515_e0', 'EX_cpd00009_e0', 'EX_cpd00028_e0', 'EX_cpd00048_e0', 'EX_cpd00007_e0'} redundant compounds, from absolute tolerance of 1e-4, will be examined.\n",
      "Unique combinations:\n",
      "2 [{'EX_cpd00104_e0', 'EX_cpd10515_e0', 'EX_cpd00009_e0', 'EX_cpd00028_e0', 'EX_cpd00048_e0'}, {'EX_cpd00104_e0', 'EX_cpd10515_e0', 'EX_cpd00009_e0', 'EX_cpd00028_e0', 'EX_cpd00007_e0'}]\n",
      "{'EX_cpd00007_e0': 599.6653983662515,\n",
      " 'EX_cpd00030_e0': 0.0005359000000265238,\n",
      " 'EX_cpd00034_e0': 0.0005009000000265238,\n",
      " 'EX_cpd00058_e0': 7.09e-05,\n",
      " 'EX_cpd00063_e0': 0.0009873000000197862,\n",
      " 'EX_cpd00099_e0': 0.0005204999999932625,\n",
      " 'EX_cpd00149_e0': 0.0004693000000265238,\n",
      " 'EX_cpd00205_e0': 0.019986099999982798,\n",
      " 'EX_cpd00244_e0': 3.23e-05,\n",
      " 'EX_cpd00254_e0': 0.0013343000000531902,\n",
      " 'EX_cpd00294_e0': 384.8129509051313,\n",
      " 'EX_cpd00635_e0': 0.0004668000000265238,\n",
      " 'EX_cpd00971_e0': 0.0004668000000265238,\n",
      " 'EX_cpd01017_e0': 213.1978686116122,\n",
      " 'EX_cpd03725_e0': 462.03596297948815,\n",
      " 'EX_cpd11574_e0': 7.000000000000001e-07,\n",
      " 'EX_sphmyln_bt_e0': 0.00046680000000000007}\n",
      "Jenga fluxes examined after 0.4984375 minutes, with 5 change(s): {'dictionary_item_removed': [root['EX_cpd00009_e0'], root['EX_cpd10515_e0'], root['EX_cpd00028_e0'], root['EX_cpd00048_e0'], root['EX_cpd00104_e0']]}\n",
      "{'dictionary_item_added': [root['EX_cpd00166_e0'], root['EX_cpd00009_e0']],\n",
      " 'dictionary_item_removed': [root['EX_cpd00635_e0'], root['EX_cpd00294_e0']],\n",
      " 'type_changes': {\"root['EX_cpd00007_e0']\": {'new_type': <class 'int'>,\n",
      "                                             'new_value': 1000,\n",
      "                                             'old_type': <class 'float'>,\n",
      "                                             'old_value': 599.6653983662515}},\n",
      " 'values_changed': {\"root['EX_cpd01017_e0']\": {'new_value': 839.1278767931527,\n",
      "                                               'old_value': 213.1978686116122},\n",
      "                    \"root['EX_cpd03725_e0']\": {'new_value': 626.1838554868677,\n",
      "                                               'old_value': 462.03596297948815},\n",
      "                    \"root['EX_sphmyln_bt_e0']\": {'new_value': 0.0004667999999066965,\n",
      "                                                 'old_value': 0.00046680000000000007}}}\n",
      "0\n"
     ]
    }
   ],
   "source": [
    "from pprint import pprint\n",
    "import json\n",
    "\n",
    "%run MSsmetana2.py\n",
    "# msdb = os.path.join('..', '..', '..', '..', 'ModelSEEDDatabase')\n",
    "with open(\"CMM_iAH991V2_iML1515.kb_media.json\", 'r') as medium:\n",
    "    media=json.load(medium)\n",
    "mip = Smetana.mip(models, com_model, interacting_media_dict=media, compatibilize=False)\n",
    "pprint(mip)"
   ]
  },
  {
   "cell_type": "markdown",
   "id": "f77b2935-99e7-4f3d-a84b-310b2e107145",
   "metadata": {},
   "source": [
    "## SC"
   ]
  },
  {
   "cell_type": "code",
   "execution_count": null,
   "id": "fb4d2ddf-d4ac-4000-b8a6-e63f1282da36",
   "metadata": {
    "tags": []
   },
   "outputs": [],
   "source": [
    "for model in models:\n",
    "    pprint(dir(model))\n",
    "    break"
   ]
  },
  {
   "cell_type": "code",
   "execution_count": null,
   "id": "dd4f9944-bec7-409c-91f0-aca478178d34",
   "metadata": {
    "tags": []
   },
   "outputs": [],
   "source": [
    "from pprint import pprint\n",
    "import json\n",
    "\n",
    "%run MSsmetana2.py\n",
    "# msdb = os.path.join('..', '..', '..', '..', 'ModelSEEDDatabase')\n",
    "with open(\"CMM_iAH991V2_iML1515.kb_media.json\", 'r') as medium:\n",
    "    media=json.load(medium)\n",
    "sc = Smetana.sc(models, com_model)\n",
    "print(\"SC score:\\t\\t\\t\", smetana_scores.mp)\n",
    "pprint(sc)"
   ]
  },
  {
   "cell_type": "code",
   "execution_count": null,
   "id": "9d0923c1-7328-4ad1-9893-db341f2ae583",
   "metadata": {},
   "outputs": [],
   "source": [
    "# com_model = kbase_api.get_from_ws(\"CMM_iAH991V2_iML1515.kb\",40576)\n",
    "from modelseedpy.community.mscommunity import MSCommunity\n",
    "display(com_model.optimize().objective_value)\n",
    "# from cobra.medium import minimal_medium\n",
    "%time print(MSCommunity.estimate_minimal_community_media(com_model))\n",
    "# %time print(minimal_medium(com_model, minimize_components=True))"
   ]
  }
 ],
 "metadata": {
  "kernelspec": {
   "display_name": "Python 3 (ipykernel)",
   "language": "python",
   "name": "python3"
  },
  "language_info": {
   "codemirror_mode": {
    "name": "ipython",
    "version": 3
   },
   "file_extension": ".py",
   "mimetype": "text/x-python",
   "name": "python",
   "nbconvert_exporter": "python",
   "pygments_lexer": "ipython3",
   "version": "3.9.12"
  }
 },
 "nbformat": 4,
 "nbformat_minor": 5
}
