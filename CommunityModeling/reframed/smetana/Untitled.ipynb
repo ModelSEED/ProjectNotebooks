{
 "cells": [
  {
   "cell_type": "code",
   "execution_count": null,
   "id": "a218b080-af80-4ef6-b7af-f44d62f54a96",
   "metadata": {},
   "outputs": [],
   "source": []
  }
 ],
 "metadata": {
  "kernelspec": {
   "display_name": "Julia 1.7.3",
   "language": "julia",
   "name": "julia-1.7"
  },
  "language_info": {
   "file_extension": ".jl",
   "mimetype": "application/julia",
   "name": "julia",
   "version": "1.7.3"
  }
 },
 "nbformat": 4,
 "nbformat_minor": 5
}
