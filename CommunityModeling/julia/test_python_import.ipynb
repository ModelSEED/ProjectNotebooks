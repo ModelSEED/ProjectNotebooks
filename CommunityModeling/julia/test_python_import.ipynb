{
 "cells": [
  {
   "cell_type": "markdown",
   "id": "41399487-6c37-4cde-a885-f50cec47bdbd",
   "metadata": {},
   "source": [
    "# define the COBRA model"
   ]
  },
  {
   "cell_type": "code",
   "execution_count": 1,
   "id": "ddc09182-f0d5-47d3-89de-9a617ab95067",
   "metadata": {},
   "outputs": [
    {
     "name": "stdout",
     "output_type": "stream",
     "text": [
      "cobrakbase 0.2.8\n"
     ]
    },
    {
     "name": "stderr",
     "output_type": "stream",
     "text": [
      "WARNING:cobrakbase.core.kbasefba.fbamodel_builder:unable to add sink for [cpd15302_c0]: not found\n",
      "WARNING:cobrakbase.core.kbasefba.fbamodel_builder:unable to add sink for [cpd02701_c0]: not found\n"
     ]
    }
   ],
   "source": [
    "# define the environment path \n",
    "import os\n",
    "local_cobrakbase_path = os.path.join('C:', 'Users', 'Andrew Freiburger','Documents','Argonne','cobrakbase')\n",
    "os.environ[\"HOME\"] = local_cobrakbase_path\n",
    "\n",
    "import cobrakbase\n",
    "token = 'MIXOUVGIFOUPQD2KSH6DQ5ARKDLBARCL'\n",
    "kbase = cobrakbase.KBaseAPI(token)\n",
    "\n",
    "model = kbase.get_from_ws(\"CMM_iAH991V2_iML1515.kb\",40576)\n",
    "media = kbase.get_from_ws(\"Btheta_Ecoli_minimal_media\",40576)"
   ]
  },
  {
   "cell_type": "markdown",
   "id": "f9e98c28-fcb9-4e56-a8b0-40e84cea5da0",
   "metadata": {},
   "source": [
    "# define Python execution function"
   ]
  },
  {
   "cell_type": "code",
   "execution_count": 7,
   "id": "8a038e60-be2b-4f66-bef2-647a626468e1",
   "metadata": {},
   "outputs": [],
   "source": [
    "def execute_julia(cobra_model):\n",
    "    # setup Julia\n",
    "    from julia.api import Julia\n",
    "    jl = Julia(compiled_modules=False)\n",
    "    from julia import Main\n",
    "    # jl.using(\"TextAnalysis\")\n",
    "    # jl.eval('include(\"cobra_execution.jl\")')\n",
    "    Main.include(\"cobra_execution.jl\")\n",
    "    \n",
    "    # load the model\n",
    "    # from cobra.io import save_matlab_model\n",
    "    # model_path = 'test.mat'\n",
    "    # save_matlab_model(model, model_path)\n",
    "    # Main.model_path = model_path\n",
    "    # from modelseedpy import BaseFBAPkg\n",
    "    # BaseFBAPkg(model, 'test').print_lp('test')\n",
    "    from cobra.io import save_json_model\n",
    "    save_json_model(model, 'test.json')\n",
    "    Main.execute_cobra('test.lp')\n",
    "    # solution = jl.eval('execute_cobra(model_path)')\n",
    "    \n",
    "    # remove the MATLAB file\n",
    "    from os import remove\n",
    "    remove(model_path)\n",
    "    \n",
    "    return solution"
   ]
  },
  {
   "cell_type": "markdown",
   "id": "7fd67ef1-3cc3-4199-99ad-0a126a4a8751",
   "metadata": {},
   "source": [
    "## Python time"
   ]
  },
  {
   "cell_type": "code",
   "execution_count": 3,
   "id": "2e613cc0-1928-4306-be90-f3d6edc64445",
   "metadata": {},
   "outputs": [
    {
     "name": "stdout",
     "output_type": "stream",
     "text": [
      "CPU times: total: 500 ms\n",
      "Wall time: 497 ms\n"
     ]
    }
   ],
   "source": [
    "%time python_sol = model.optimize()"
   ]
  },
  {
   "cell_type": "markdown",
   "id": "bf74079a-8663-411e-bd74-fdbd82ab4239",
   "metadata": {},
   "source": [
    "## Julia time"
   ]
  },
  {
   "cell_type": "code",
   "execution_count": 4,
   "id": "3f435c1b-b97a-46ca-9368-c97ecf7024da",
   "metadata": {},
   "outputs": [
    {
     "ename": "ImportError",
     "evalue": "<PyCall.jlwrap (in a Julia function called from Python)\nJULIA: LoadError: InitError: could not load library \"libmbedtls.dll\"\nThe file cannot be accessed by the system. \nStacktrace:\n  [1] dlopen(s::String, flags::UInt32; throw_error::Bool)\n    @ Base.Libc.Libdl .\\libdl.jl:117\n  [2] dlopen (repeats 2 times)\n    @ .\\libdl.jl:117 [inlined]\n  [3] __init__()\n    @ MbedTLS_jll C:\\Users\\Andrew Freiburger\\AppData\\Local\\Programs\\Julia-1.7.3\\share\\julia\\stdlib\\v1.7\\MbedTLS_jll\\src\\MbedTLS_jll.jl:42\n  [4] include\n    @ .\\Base.jl:418 [inlined]\n  [5] _require(pkg::Base.PkgId)\n    @ Base .\\loading.jl:1149\n  [6] require(uuidkey::Base.PkgId)\n    @ Base .\\loading.jl:1013\n  [7] require(into::Module, mod::Symbol)\n    @ Base .\\loading.jl:997\n  [8] include\n    @ .\\Base.jl:418 [inlined]\n  [9] _require(pkg::Base.PkgId)\n    @ Base .\\loading.jl:1149\n [10] require(uuidkey::Base.PkgId)\n    @ Base .\\loading.jl:1013\n [11] require(into::Module, mod::Symbol)\n    @ Base .\\loading.jl:997\n [12] include(mod::Module, _path::String)\n    @ Base .\\Base.jl:418\n [13] include(x::String)\n    @ HTTP C:\\Users\\Andrew Freiburger\\.julia\\packages\\HTTP\\IAI92\\src\\HTTP.jl:1\n [14] top-level scope\n    @ C:\\Users\\Andrew Freiburger\\.julia\\packages\\HTTP\\IAI92\\src\\HTTP.jl:18\n [15] include\n    @ .\\Base.jl:418 [inlined]\n [16] _require(pkg::Base.PkgId)\n    @ Base .\\loading.jl:1149\n [17] require(uuidkey::Base.PkgId)\n    @ Base .\\loading.jl:1013\n [18] require(into::Module, mod::Symbol)\n    @ Base .\\loading.jl:997\n [19] include\n    @ .\\Base.jl:418 [inlined]\n [20] _require(pkg::Base.PkgId)\n    @ Base .\\loading.jl:1149\n [21] require(uuidkey::Base.PkgId)\n    @ Base .\\loading.jl:1013\n [22] require(into::Module, mod::Symbol)\n    @ Base .\\loading.jl:997\n [23] include(mod::Module, _path::String)\n    @ Base .\\Base.jl:418\n [24] include(x::String)\n    @ MathOptInterface.FileFormats C:\\Users\\Andrew Freiburger\\.julia\\packages\\MathOptInterface\\YDdD3\\src\\FileFormats\\FileFormats.jl:1\n [25] top-level scope\n    @ C:\\Users\\Andrew Freiburger\\.julia\\packages\\MathOptInterface\\YDdD3\\src\\FileFormats\\FileFormats.jl:13\n [26] include(mod::Module, _path::String)\n    @ Base .\\Base.jl:418\n [27] include(x::String)\n    @ MathOptInterface C:\\Users\\Andrew Freiburger\\.julia\\packages\\MathOptInterface\\YDdD3\\src\\MathOptInterface.jl:1\n [28] top-level scope\n    @ C:\\Users\\Andrew Freiburger\\.julia\\packages\\MathOptInterface\\YDdD3\\src\\MathOptInterface.jl:152\n [29] include\n    @ .\\Base.jl:418 [inlined]\n [30] _require(pkg::Base.PkgId)\n    @ Base .\\loading.jl:1149\n [31] require(uuidkey::Base.PkgId)\n    @ Base .\\loading.jl:1013\n [32] require(into::Module, mod::Symbol)\n    @ Base .\\loading.jl:997\n [33] include(mod::Module, _path::String)\n    @ Base .\\Base.jl:418\n [34] include(x::String)\n    @ GLPK C:\\Users\\Andrew Freiburger\\.julia\\packages\\GLPK\\HjJiX\\src\\GLPK.jl:5\n [35] top-level scope\n    @ C:\\Users\\Andrew Freiburger\\.julia\\packages\\GLPK\\HjJiX\\src\\GLPK.jl:2234\n [36] include\n    @ .\\Base.jl:418 [inlined]\n [37] _require(pkg::Base.PkgId)\n    @ Base .\\loading.jl:1149\n [38] require(uuidkey::Base.PkgId)\n    @ Base .\\loading.jl:1013\n [39] require(into::Module, mod::Symbol)\n    @ Base .\\loading.jl:997\n [40] include(fname::String)\n    @ Base.MainInclude .\\client.jl:451\n [41] invokelatest(::Any, ::Any, ::Vararg{Any}; kwargs::Base.Pairs{Symbol, Union{}, Tuple{}, NamedTuple{(), Tuple{}}})\n    @ Base .\\essentials.jl:716\n [42] invokelatest(::Any, ::Any, ::Vararg{Any})\n    @ Base .\\essentials.jl:714\n [43] _pyjlwrap_call(f::Function, args_::Ptr{PyCall.PyObject_struct}, kw_::Ptr{PyCall.PyObject_struct})\n    @ PyCall C:\\Users\\Andrew Freiburger\\.julia\\packages\\PyCall\\7a7w0\\src\\callback.jl:28\n [44] pyjlwrap_call(self_::Ptr{PyCall.PyObject_struct}, args_::Ptr{PyCall.PyObject_struct}, kw_::Ptr{PyCall.PyObject_struct})\n    @ PyCall C:\\Users\\Andrew Freiburger\\.julia\\packages\\PyCall\\7a7w0\\src\\callback.jl:44\nduring initialization of module MbedTLS_jll\nin expression starting at C:\\Users\\Andrew Freiburger\\AppData\\Local\\Programs\\Julia-1.7.3\\share\\julia\\stdlib\\v1.7\\MbedTLS_jll\\src\\MbedTLS_jll.jl:5\nin expression starting at C:\\Users\\Andrew Freiburger\\.julia\\packages\\MbedTLS\\4YY6E\\src\\MbedTLS.jl:1\nin expression starting at C:\\Users\\Andrew Freiburger\\.julia\\packages\\HTTP\\IAI92\\src\\IOExtras.jl:1\nin expression starting at C:\\Users\\Andrew Freiburger\\.julia\\packages\\HTTP\\IAI92\\src\\HTTP.jl:1\nin expression starting at C:\\Users\\Andrew Freiburger\\.julia\\packages\\JSONSchema\\V68iq\\src\\JSONSchema.jl:1\nin expression starting at C:\\Users\\Andrew Freiburger\\.julia\\packages\\MathOptInterface\\YDdD3\\src\\FileFormats\\MOF\\MOF.jl:1\nin expression starting at C:\\Users\\Andrew Freiburger\\.julia\\packages\\MathOptInterface\\YDdD3\\src\\FileFormats\\FileFormats.jl:1\nin expression starting at C:\\Users\\Andrew Freiburger\\.julia\\packages\\MathOptInterface\\YDdD3\\src\\MathOptInterface.jl:1\nin expression starting at C:\\Users\\Andrew Freiburger\\.julia\\packages\\GLPK\\HjJiX\\src\\MOI_wrapper.jl:1\nin expression starting at C:\\Users\\Andrew Freiburger\\.julia\\packages\\GLPK\\HjJiX\\src\\GLPK.jl:5\nin expression starting at C:\\Users\\Andrew Freiburger\\Documents\\Argonne\\ProjectNotebooks\\CommunityModeling\\julia\\cobra_execution.jl:2>",
     "output_type": "error",
     "traceback": [
      "\u001b[1;31m---------------------------------------------------------------------------\u001b[0m",
      "\u001b[1;31mImportError\u001b[0m                               Traceback (most recent call last)",
      "File \u001b[1;32m<timed exec>:1\u001b[0m, in \u001b[0;36m<module>\u001b[1;34m\u001b[0m\n",
      "Input \u001b[1;32mIn [2]\u001b[0m, in \u001b[0;36mexecute_julia\u001b[1;34m(cobra_model)\u001b[0m\n\u001b[0;32m      5\u001b[0m \u001b[38;5;28;01mfrom\u001b[39;00m \u001b[38;5;21;01mjulia\u001b[39;00m \u001b[38;5;28;01mimport\u001b[39;00m Main\n\u001b[0;32m      6\u001b[0m \u001b[38;5;66;03m# jl.using(\"TextAnalysis\")\u001b[39;00m\n\u001b[0;32m      7\u001b[0m \u001b[38;5;66;03m# jl.eval('include(\"cobra_execution.jl\")')\u001b[39;00m\n\u001b[1;32m----> 8\u001b[0m \u001b[43mMain\u001b[49m\u001b[38;5;241;43m.\u001b[39;49m\u001b[43minclude\u001b[49m\u001b[43m(\u001b[49m\u001b[38;5;124;43m\"\u001b[39;49m\u001b[38;5;124;43mcobra_execution.jl\u001b[39;49m\u001b[38;5;124;43m\"\u001b[39;49m\u001b[43m)\u001b[49m\n\u001b[0;32m     10\u001b[0m \u001b[38;5;66;03m# load the model\u001b[39;00m\n\u001b[0;32m     11\u001b[0m \u001b[38;5;66;03m# from cobra.io import save_matlab_model\u001b[39;00m\n\u001b[0;32m     12\u001b[0m \u001b[38;5;66;03m# model_path = 'test.mat'\u001b[39;00m\n\u001b[0;32m     13\u001b[0m \u001b[38;5;66;03m# save_matlab_model(model, model_path)\u001b[39;00m\n\u001b[0;32m     14\u001b[0m \u001b[38;5;66;03m# Main.model_path = model_path\u001b[39;00m\n\u001b[0;32m     15\u001b[0m \u001b[38;5;28;01mfrom\u001b[39;00m \u001b[38;5;21;01mmodelseedpy\u001b[39;00m \u001b[38;5;28;01mimport\u001b[39;00m BaseFBAPkg\n",
      "\u001b[1;31mImportError\u001b[0m: <PyCall.jlwrap (in a Julia function called from Python)\nJULIA: LoadError: InitError: could not load library \"libmbedtls.dll\"\nThe file cannot be accessed by the system. \nStacktrace:\n  [1] dlopen(s::String, flags::UInt32; throw_error::Bool)\n    @ Base.Libc.Libdl .\\libdl.jl:117\n  [2] dlopen (repeats 2 times)\n    @ .\\libdl.jl:117 [inlined]\n  [3] __init__()\n    @ MbedTLS_jll C:\\Users\\Andrew Freiburger\\AppData\\Local\\Programs\\Julia-1.7.3\\share\\julia\\stdlib\\v1.7\\MbedTLS_jll\\src\\MbedTLS_jll.jl:42\n  [4] include\n    @ .\\Base.jl:418 [inlined]\n  [5] _require(pkg::Base.PkgId)\n    @ Base .\\loading.jl:1149\n  [6] require(uuidkey::Base.PkgId)\n    @ Base .\\loading.jl:1013\n  [7] require(into::Module, mod::Symbol)\n    @ Base .\\loading.jl:997\n  [8] include\n    @ .\\Base.jl:418 [inlined]\n  [9] _require(pkg::Base.PkgId)\n    @ Base .\\loading.jl:1149\n [10] require(uuidkey::Base.PkgId)\n    @ Base .\\loading.jl:1013\n [11] require(into::Module, mod::Symbol)\n    @ Base .\\loading.jl:997\n [12] include(mod::Module, _path::String)\n    @ Base .\\Base.jl:418\n [13] include(x::String)\n    @ HTTP C:\\Users\\Andrew Freiburger\\.julia\\packages\\HTTP\\IAI92\\src\\HTTP.jl:1\n [14] top-level scope\n    @ C:\\Users\\Andrew Freiburger\\.julia\\packages\\HTTP\\IAI92\\src\\HTTP.jl:18\n [15] include\n    @ .\\Base.jl:418 [inlined]\n [16] _require(pkg::Base.PkgId)\n    @ Base .\\loading.jl:1149\n [17] require(uuidkey::Base.PkgId)\n    @ Base .\\loading.jl:1013\n [18] require(into::Module, mod::Symbol)\n    @ Base .\\loading.jl:997\n [19] include\n    @ .\\Base.jl:418 [inlined]\n [20] _require(pkg::Base.PkgId)\n    @ Base .\\loading.jl:1149\n [21] require(uuidkey::Base.PkgId)\n    @ Base .\\loading.jl:1013\n [22] require(into::Module, mod::Symbol)\n    @ Base .\\loading.jl:997\n [23] include(mod::Module, _path::String)\n    @ Base .\\Base.jl:418\n [24] include(x::String)\n    @ MathOptInterface.FileFormats C:\\Users\\Andrew Freiburger\\.julia\\packages\\MathOptInterface\\YDdD3\\src\\FileFormats\\FileFormats.jl:1\n [25] top-level scope\n    @ C:\\Users\\Andrew Freiburger\\.julia\\packages\\MathOptInterface\\YDdD3\\src\\FileFormats\\FileFormats.jl:13\n [26] include(mod::Module, _path::String)\n    @ Base .\\Base.jl:418\n [27] include(x::String)\n    @ MathOptInterface C:\\Users\\Andrew Freiburger\\.julia\\packages\\MathOptInterface\\YDdD3\\src\\MathOptInterface.jl:1\n [28] top-level scope\n    @ C:\\Users\\Andrew Freiburger\\.julia\\packages\\MathOptInterface\\YDdD3\\src\\MathOptInterface.jl:152\n [29] include\n    @ .\\Base.jl:418 [inlined]\n [30] _require(pkg::Base.PkgId)\n    @ Base .\\loading.jl:1149\n [31] require(uuidkey::Base.PkgId)\n    @ Base .\\loading.jl:1013\n [32] require(into::Module, mod::Symbol)\n    @ Base .\\loading.jl:997\n [33] include(mod::Module, _path::String)\n    @ Base .\\Base.jl:418\n [34] include(x::String)\n    @ GLPK C:\\Users\\Andrew Freiburger\\.julia\\packages\\GLPK\\HjJiX\\src\\GLPK.jl:5\n [35] top-level scope\n    @ C:\\Users\\Andrew Freiburger\\.julia\\packages\\GLPK\\HjJiX\\src\\GLPK.jl:2234\n [36] include\n    @ .\\Base.jl:418 [inlined]\n [37] _require(pkg::Base.PkgId)\n    @ Base .\\loading.jl:1149\n [38] require(uuidkey::Base.PkgId)\n    @ Base .\\loading.jl:1013\n [39] require(into::Module, mod::Symbol)\n    @ Base .\\loading.jl:997\n [40] include(fname::String)\n    @ Base.MainInclude .\\client.jl:451\n [41] invokelatest(::Any, ::Any, ::Vararg{Any}; kwargs::Base.Pairs{Symbol, Union{}, Tuple{}, NamedTuple{(), Tuple{}}})\n    @ Base .\\essentials.jl:716\n [42] invokelatest(::Any, ::Any, ::Vararg{Any})\n    @ Base .\\essentials.jl:714\n [43] _pyjlwrap_call(f::Function, args_::Ptr{PyCall.PyObject_struct}, kw_::Ptr{PyCall.PyObject_struct})\n    @ PyCall C:\\Users\\Andrew Freiburger\\.julia\\packages\\PyCall\\7a7w0\\src\\callback.jl:28\n [44] pyjlwrap_call(self_::Ptr{PyCall.PyObject_struct}, args_::Ptr{PyCall.PyObject_struct}, kw_::Ptr{PyCall.PyObject_struct})\n    @ PyCall C:\\Users\\Andrew Freiburger\\.julia\\packages\\PyCall\\7a7w0\\src\\callback.jl:44\nduring initialization of module MbedTLS_jll\nin expression starting at C:\\Users\\Andrew Freiburger\\AppData\\Local\\Programs\\Julia-1.7.3\\share\\julia\\stdlib\\v1.7\\MbedTLS_jll\\src\\MbedTLS_jll.jl:5\nin expression starting at C:\\Users\\Andrew Freiburger\\.julia\\packages\\MbedTLS\\4YY6E\\src\\MbedTLS.jl:1\nin expression starting at C:\\Users\\Andrew Freiburger\\.julia\\packages\\HTTP\\IAI92\\src\\IOExtras.jl:1\nin expression starting at C:\\Users\\Andrew Freiburger\\.julia\\packages\\HTTP\\IAI92\\src\\HTTP.jl:1\nin expression starting at C:\\Users\\Andrew Freiburger\\.julia\\packages\\JSONSchema\\V68iq\\src\\JSONSchema.jl:1\nin expression starting at C:\\Users\\Andrew Freiburger\\.julia\\packages\\MathOptInterface\\YDdD3\\src\\FileFormats\\MOF\\MOF.jl:1\nin expression starting at C:\\Users\\Andrew Freiburger\\.julia\\packages\\MathOptInterface\\YDdD3\\src\\FileFormats\\FileFormats.jl:1\nin expression starting at C:\\Users\\Andrew Freiburger\\.julia\\packages\\MathOptInterface\\YDdD3\\src\\MathOptInterface.jl:1\nin expression starting at C:\\Users\\Andrew Freiburger\\.julia\\packages\\GLPK\\HjJiX\\src\\MOI_wrapper.jl:1\nin expression starting at C:\\Users\\Andrew Freiburger\\.julia\\packages\\GLPK\\HjJiX\\src\\GLPK.jl:5\nin expression starting at C:\\Users\\Andrew Freiburger\\Documents\\Argonne\\ProjectNotebooks\\CommunityModeling\\julia\\cobra_execution.jl:2>"
     ]
    }
   ],
   "source": [
    "%time julia_sol = execute_julia(model)\n",
    "\n",
    "# execute_cobra('test.mat')"
   ]
  },
  {
   "cell_type": "code",
   "execution_count": 8,
   "id": "8b1be3bd-0367-4a17-b4ae-ee12ff7db2ab",
   "metadata": {},
   "outputs": [
    {
     "ename": "RuntimeError",
     "evalue": "<PyCall.jlwrap (in a Julia function called from Python)\nJULIA: UndefVarError: read_from_file not defined\nStacktrace:\n [1] execute_cobra(model_path::String)\n   @ Main C:\\Users\\Andrew Freiburger\\Documents\\Argonne\\ProjectNotebooks\\CommunityModeling\\julia\\cobra_execution.jl:23\n [2] invokelatest(::Any, ::Any, ::Vararg{Any}; kwargs::Base.Pairs{Symbol, Union{}, Tuple{}, NamedTuple{(), Tuple{}}})\n   @ Base .\\essentials.jl:716\n [3] invokelatest(::Any, ::Any, ::Vararg{Any})\n   @ Base .\\essentials.jl:714\n [4] _pyjlwrap_call(f::Function, args_::Ptr{PyCall.PyObject_struct}, kw_::Ptr{PyCall.PyObject_struct})\n   @ PyCall C:\\Users\\Andrew Freiburger\\.julia\\packages\\PyCall\\7a7w0\\src\\callback.jl:28\n [5] pyjlwrap_call(self_::Ptr{PyCall.PyObject_struct}, args_::Ptr{PyCall.PyObject_struct}, kw_::Ptr{PyCall.PyObject_struct})\n   @ PyCall C:\\Users\\Andrew Freiburger\\.julia\\packages\\PyCall\\7a7w0\\src\\callback.jl:44>",
     "output_type": "error",
     "traceback": [
      "\u001b[1;31m---------------------------------------------------------------------------\u001b[0m",
      "\u001b[1;31mRuntimeError\u001b[0m                              Traceback (most recent call last)",
      "File \u001b[1;32m<timed exec>:1\u001b[0m, in \u001b[0;36m<module>\u001b[1;34m\u001b[0m\n",
      "Input \u001b[1;32mIn [7]\u001b[0m, in \u001b[0;36mexecute_julia\u001b[1;34m(cobra_model)\u001b[0m\n\u001b[0;32m     17\u001b[0m \u001b[38;5;28;01mfrom\u001b[39;00m \u001b[38;5;21;01mcobra\u001b[39;00m\u001b[38;5;21;01m.\u001b[39;00m\u001b[38;5;21;01mio\u001b[39;00m \u001b[38;5;28;01mimport\u001b[39;00m save_json_model\n\u001b[0;32m     18\u001b[0m save_json_model(model, \u001b[38;5;124m'\u001b[39m\u001b[38;5;124mtest.json\u001b[39m\u001b[38;5;124m'\u001b[39m)\n\u001b[1;32m---> 19\u001b[0m \u001b[43mMain\u001b[49m\u001b[38;5;241;43m.\u001b[39;49m\u001b[43mexecute_cobra\u001b[49m\u001b[43m(\u001b[49m\u001b[38;5;124;43m'\u001b[39;49m\u001b[38;5;124;43mtest.lp\u001b[39;49m\u001b[38;5;124;43m'\u001b[39;49m\u001b[43m)\u001b[49m\n\u001b[0;32m     20\u001b[0m \u001b[38;5;66;03m# solution = jl.eval('execute_cobra(model_path)')\u001b[39;00m\n\u001b[0;32m     21\u001b[0m \n\u001b[0;32m     22\u001b[0m \u001b[38;5;66;03m# remove the MATLAB file\u001b[39;00m\n\u001b[0;32m     23\u001b[0m \u001b[38;5;28;01mfrom\u001b[39;00m \u001b[38;5;21;01mos\u001b[39;00m \u001b[38;5;28;01mimport\u001b[39;00m remove\n",
      "\u001b[1;31mRuntimeError\u001b[0m: <PyCall.jlwrap (in a Julia function called from Python)\nJULIA: UndefVarError: read_from_file not defined\nStacktrace:\n [1] execute_cobra(model_path::String)\n   @ Main C:\\Users\\Andrew Freiburger\\Documents\\Argonne\\ProjectNotebooks\\CommunityModeling\\julia\\cobra_execution.jl:23\n [2] invokelatest(::Any, ::Any, ::Vararg{Any}; kwargs::Base.Pairs{Symbol, Union{}, Tuple{}, NamedTuple{(), Tuple{}}})\n   @ Base .\\essentials.jl:716\n [3] invokelatest(::Any, ::Any, ::Vararg{Any})\n   @ Base .\\essentials.jl:714\n [4] _pyjlwrap_call(f::Function, args_::Ptr{PyCall.PyObject_struct}, kw_::Ptr{PyCall.PyObject_struct})\n   @ PyCall C:\\Users\\Andrew Freiburger\\.julia\\packages\\PyCall\\7a7w0\\src\\callback.jl:28\n [5] pyjlwrap_call(self_::Ptr{PyCall.PyObject_struct}, args_::Ptr{PyCall.PyObject_struct}, kw_::Ptr{PyCall.PyObject_struct})\n   @ PyCall C:\\Users\\Andrew Freiburger\\.julia\\packages\\PyCall\\7a7w0\\src\\callback.jl:44>"
     ]
    }
   ],
   "source": [
    "%time julia_sol = execute_julia(model)"
   ]
  }
 ],
 "metadata": {
  "kernelspec": {
   "display_name": "Python 3 (ipykernel)",
   "language": "python",
   "name": "python3"
  },
  "language_info": {
   "codemirror_mode": {
    "name": "ipython",
    "version": 3
   },
   "file_extension": ".py",
   "mimetype": "text/x-python",
   "name": "python",
   "nbconvert_exporter": "python",
   "pygments_lexer": "ipython3",
   "version": "3.9.12"
  }
 },
 "nbformat": 4,
 "nbformat_minor": 5
}
