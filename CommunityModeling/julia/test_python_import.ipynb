{
 "cells": [
  {
   "cell_type": "markdown",
   "id": "41399487-6c37-4cde-a885-f50cec47bdbd",
   "metadata": {},
   "source": [
    "# define the COBRA model"
   ]
  },
  {
   "cell_type": "code",
   "execution_count": 1,
   "id": "ddc09182-f0d5-47d3-89de-9a617ab95067",
   "metadata": {},
   "outputs": [
    {
     "name": "stdout",
     "output_type": "stream",
     "text": [
      "cobrakbase 0.2.8\n"
     ]
    },
    {
     "name": "stderr",
     "output_type": "stream",
     "text": [
      "WARNING:cobrakbase.core.kbasefba.fbamodel_builder:unable to add sink for [cpd15302_c0]: not found\n",
      "WARNING:cobrakbase.core.kbasefba.fbamodel_builder:unable to add sink for [cpd02701_c0]: not found\n"
     ]
    }
   ],
   "source": [
    "# define the environment path \n",
    "import os\n",
    "local_cobrakbase_path = os.path.join('C:', 'Users', 'Andrew Freiburger','Documents','Argonne','cobrakbase')\n",
    "os.environ[\"HOME\"] = local_cobrakbase_path\n",
    "\n",
    "import cobrakbase\n",
    "token = 'MIXOUVGIFOUPQD2KSH6DQ5ARKDLBARCL'\n",
    "kbase = cobrakbase.KBaseAPI(token)\n",
    "\n",
    "model = kbase.get_from_ws(\"CMM_iAH991V2_iML1515.kb\",40576)\n",
    "media = kbase.get_from_ws(\"Btheta_Ecoli_minimal_media\",40576)"
   ]
  },
  {
   "cell_type": "markdown",
   "id": "f9e98c28-fcb9-4e56-a8b0-40e84cea5da0",
   "metadata": {},
   "source": [
    "# define Python execution function"
   ]
  },
  {
   "cell_type": "code",
   "execution_count": 9,
   "id": "8a038e60-be2b-4f66-bef2-647a626468e1",
   "metadata": {},
   "outputs": [],
   "source": [
    "def execute_julia(cobra_model):\n",
    "    # setup Julia\n",
    "    from julia.api import Julia\n",
    "    jl = Julia(compiled_modules=False)\n",
    "    from julia import Main\n",
    "    # jl.using(\"TextAnalysis\")\n",
    "    jl.eval('include(\"cobra_execution.jl\")')\n",
    "    \n",
    "    # load the model\n",
    "    from cobra.io import save_matlab_model\n",
    "    model_path = 'test.mat'\n",
    "    save_matlab_model(model, model_path)\n",
    "    Main.model_path = model_path\n",
    "    solution = jl.eval(\"execute_cobra(model_path)\")\n",
    "    \n",
    "    # remove the MATLAB file\n",
    "    from os import remove\n",
    "    remove(model_path)\n",
    "    \n",
    "    return solution"
   ]
  },
  {
   "cell_type": "markdown",
   "id": "7fd67ef1-3cc3-4199-99ad-0a126a4a8751",
   "metadata": {},
   "source": [
    "## Python time"
   ]
  },
  {
   "cell_type": "code",
   "execution_count": 3,
   "id": "2e613cc0-1928-4306-be90-f3d6edc64445",
   "metadata": {},
   "outputs": [
    {
     "name": "stdout",
     "output_type": "stream",
     "text": [
      "CPU times: total: 484 ms\n",
      "Wall time: 476 ms\n"
     ]
    }
   ],
   "source": [
    "%time python_sol = model.optimize()"
   ]
  },
  {
   "cell_type": "markdown",
   "id": "bf74079a-8663-411e-bd74-fdbd82ab4239",
   "metadata": {},
   "source": [
    "## Julia time"
   ]
  },
  {
   "cell_type": "code",
   "execution_count": 12,
   "id": "3f435c1b-b97a-46ca-9368-c97ecf7024da",
   "metadata": {},
   "outputs": [
    {
     "ename": "JuliaError",
     "evalue": "Exception 'The solver `GLPK` or `GLPKMathProgInterface` cannot be set using `changeCobraSolver()`.' occurred while calling julia code:\nexecute_cobra(model_path)",
     "output_type": "error",
     "traceback": [
      "\u001b[1;31m---------------------------------------------------------------------------\u001b[0m",
      "\u001b[1;31mJuliaError\u001b[0m                                Traceback (most recent call last)",
      "File \u001b[1;32m<timed exec>:1\u001b[0m, in \u001b[0;36m<module>\u001b[1;34m\u001b[0m\n",
      "Input \u001b[1;32mIn [9]\u001b[0m, in \u001b[0;36mexecute_julia\u001b[1;34m(cobra_model)\u001b[0m\n\u001b[0;32m     12\u001b[0m save_matlab_model(model, model_path)\n\u001b[0;32m     13\u001b[0m Main\u001b[38;5;241m.\u001b[39mmodel_path \u001b[38;5;241m=\u001b[39m model_path\n\u001b[1;32m---> 15\u001b[0m \u001b[38;5;28;01mreturn\u001b[39;00m \u001b[43mjl\u001b[49m\u001b[38;5;241;43m.\u001b[39;49m\u001b[43meval\u001b[49m\u001b[43m(\u001b[49m\u001b[38;5;124;43m\"\u001b[39;49m\u001b[38;5;124;43mexecute_cobra(model_path)\u001b[39;49m\u001b[38;5;124;43m\"\u001b[39;49m\u001b[43m)\u001b[49m\n",
      "File \u001b[1;32m~\\AppData\\Local\\Programs\\Python\\Python39\\lib\\site-packages\\julia\\core.py:621\u001b[0m, in \u001b[0;36mJulia.eval\u001b[1;34m(self, src)\u001b[0m\n\u001b[0;32m    619\u001b[0m \u001b[38;5;28;01mif\u001b[39;00m src \u001b[38;5;129;01mis\u001b[39;00m \u001b[38;5;28;01mNone\u001b[39;00m:\n\u001b[0;32m    620\u001b[0m     \u001b[38;5;28;01mreturn\u001b[39;00m \u001b[38;5;28;01mNone\u001b[39;00m\n\u001b[1;32m--> 621\u001b[0m ans \u001b[38;5;241m=\u001b[39m \u001b[38;5;28;43mself\u001b[39;49m\u001b[38;5;241;43m.\u001b[39;49m\u001b[43m_call\u001b[49m\u001b[43m(\u001b[49m\u001b[43msrc\u001b[49m\u001b[43m)\u001b[49m\n\u001b[0;32m    622\u001b[0m \u001b[38;5;28;01mif\u001b[39;00m \u001b[38;5;129;01mnot\u001b[39;00m ans:\n\u001b[0;32m    623\u001b[0m     \u001b[38;5;28;01mreturn\u001b[39;00m \u001b[38;5;28;01mNone\u001b[39;00m\n",
      "File \u001b[1;32m~\\AppData\\Local\\Programs\\Python\\Python39\\lib\\site-packages\\julia\\core.py:549\u001b[0m, in \u001b[0;36mJulia._call\u001b[1;34m(self, src)\u001b[0m\n\u001b[0;32m    547\u001b[0m \u001b[38;5;66;03m# logger.debug(\"_call(%s)\", src)\u001b[39;00m\n\u001b[0;32m    548\u001b[0m ans \u001b[38;5;241m=\u001b[39m \u001b[38;5;28mself\u001b[39m\u001b[38;5;241m.\u001b[39mapi\u001b[38;5;241m.\u001b[39mjl_eval_string(src\u001b[38;5;241m.\u001b[39mencode(\u001b[38;5;124m'\u001b[39m\u001b[38;5;124mutf-8\u001b[39m\u001b[38;5;124m'\u001b[39m))\n\u001b[1;32m--> 549\u001b[0m \u001b[38;5;28;43mself\u001b[39;49m\u001b[38;5;241;43m.\u001b[39;49m\u001b[43mcheck_exception\u001b[49m\u001b[43m(\u001b[49m\u001b[43msrc\u001b[49m\u001b[43m)\u001b[49m\n\u001b[0;32m    551\u001b[0m \u001b[38;5;28;01mreturn\u001b[39;00m ans\n",
      "File \u001b[1;32m~\\AppData\\Local\\Programs\\Python\\Python39\\lib\\site-packages\\julia\\core.py:603\u001b[0m, in \u001b[0;36mJulia.check_exception\u001b[1;34m(self, src)\u001b[0m\n\u001b[0;32m    601\u001b[0m \u001b[38;5;28;01melse\u001b[39;00m:\n\u001b[0;32m    602\u001b[0m     exception \u001b[38;5;241m=\u001b[39m sprint(showerror, \u001b[38;5;28mself\u001b[39m\u001b[38;5;241m.\u001b[39m_as_pyobj(res))\n\u001b[1;32m--> 603\u001b[0m \u001b[38;5;28;01mraise\u001b[39;00m JuliaError(\u001b[38;5;124mu\u001b[39m\u001b[38;5;124m'\u001b[39m\u001b[38;5;124mException \u001b[39m\u001b[38;5;130;01m\\'\u001b[39;00m\u001b[38;5;132;01m{}\u001b[39;00m\u001b[38;5;130;01m\\'\u001b[39;00m\u001b[38;5;124m occurred while calling julia code:\u001b[39m\u001b[38;5;130;01m\\n\u001b[39;00m\u001b[38;5;132;01m{}\u001b[39;00m\u001b[38;5;124m'\u001b[39m\n\u001b[0;32m    604\u001b[0m                  \u001b[38;5;241m.\u001b[39mformat(exception, src))\n",
      "\u001b[1;31mJuliaError\u001b[0m: Exception 'The solver `GLPK` or `GLPKMathProgInterface` cannot be set using `changeCobraSolver()`.' occurred while calling julia code:\nexecute_cobra(model_path)"
     ]
    }
   ],
   "source": [
    "%time julia_sol = execute_julia(model)\n",
    "\n",
    "# execute_cobra('test.mat')"
   ]
  },
  {
   "cell_type": "code",
   "execution_count": null,
   "id": "8b1be3bd-0367-4a17-b4ae-ee12ff7db2ab",
   "metadata": {},
   "outputs": [],
   "source": []
  }
 ],
 "metadata": {
  "kernelspec": {
   "display_name": "Python 3 (ipykernel)",
   "language": "python",
   "name": "python3"
  },
  "language_info": {
   "codemirror_mode": {
    "name": "ipython",
    "version": 3
   },
   "file_extension": ".py",
   "mimetype": "text/x-python",
   "name": "python",
   "nbconvert_exporter": "python",
   "pygments_lexer": "ipython3",
   "version": "3.9.12"
  }
 },
 "nbformat": 4,
 "nbformat_minor": 5
}
