{
 "cells": [
  {
   "cell_type": "code",
   "execution_count": 4,
   "metadata": {},
   "outputs": [
    {
     "name": "stdout",
     "output_type": "stream",
     "text": [
      "cobrakbase 0.2.8\n"
     ]
    }
   ],
   "source": [
    "import cobra\n",
    "import cplex\n",
    "import optlang\n",
    "import sys\n",
    "import logging\n",
    "from configparser import ConfigParser\n",
    "config = ConfigParser()\n",
    "config.read(\"config.cfg\")\n",
    "paths = config.get(\"script\", \"syspaths\").split(\";\")\n",
    "for path in paths:\n",
    "    sys.path.append(path)\n",
    "import cobrakbase\n",
    "from modelseedpy import MSPackageManager, FBAHelper, MSBuilder"
   ]
  },
  {
   "cell_type": "code",
   "execution_count": 5,
   "metadata": {},
   "outputs": [],
   "source": [
    "kbase_api = cobrakbase.KBaseAPI()\n",
    "model = kbase_api.get_from_ws(\"Cjaponicus_Ecoli_Community\",92637)\n",
    "model.solver = 'optlang-cplex'\n",
    "#Applying constraints based on KBase media\n",
    "media = kbase_api.get_from_ws(\"ChitinM9Media\",91858)\n",
    "template = kbase_api.get_from_ws(\"GramNegModelTemplateV3\",\"NewKBaseModelTemplates\")\n",
    "model = MSBuilder.gapfill_model(model,\"bio1\",template,media)"
   ]
  },
  {
   "cell_type": "code",
   "execution_count": 6,
   "metadata": {},
   "outputs": [
    {
     "data": {
      "text/html": [
       "<div>\n",
       "<style scoped>\n",
       "    .dataframe tbody tr th:only-of-type {\n",
       "        vertical-align: middle;\n",
       "    }\n",
       "\n",
       "    .dataframe tbody tr th {\n",
       "        vertical-align: top;\n",
       "    }\n",
       "\n",
       "    .dataframe thead tr th {\n",
       "        text-align: left;\n",
       "    }\n",
       "</style>\n",
       "<table border=\"1\" class=\"dataframe\">\n",
       "  <thead>\n",
       "    <tr>\n",
       "      <th></th>\n",
       "      <th colspan=\"2\" halign=\"left\">IN_FLUXES</th>\n",
       "      <th colspan=\"2\" halign=\"left\">OUT_FLUXES</th>\n",
       "      <th colspan=\"2\" halign=\"left\">OBJECTIVES</th>\n",
       "    </tr>\n",
       "    <tr>\n",
       "      <th></th>\n",
       "      <th>ID</th>\n",
       "      <th>FLUX</th>\n",
       "      <th>ID</th>\n",
       "      <th>FLUX</th>\n",
       "      <th>ID</th>\n",
       "      <th>FLUX</th>\n",
       "    </tr>\n",
       "  </thead>\n",
       "  <tbody>\n",
       "    <tr>\n",
       "      <th>0</th>\n",
       "      <td>cpd00013_e0</td>\n",
       "      <td>100.000000</td>\n",
       "      <td>cpd00001_e0</td>\n",
       "      <td>100.000000</td>\n",
       "      <td>bio1</td>\n",
       "      <td>5.373741</td>\n",
       "    </tr>\n",
       "    <tr>\n",
       "      <th>1</th>\n",
       "      <td>cpd00067_e0</td>\n",
       "      <td>100.000000</td>\n",
       "      <td>cpd00009_e0</td>\n",
       "      <td>77.019833</td>\n",
       "      <td>NaN</td>\n",
       "      <td>NaN</td>\n",
       "    </tr>\n",
       "    <tr>\n",
       "      <th>2</th>\n",
       "      <td>cpd00007_e0</td>\n",
       "      <td>50.090477</td>\n",
       "      <td>cpd00075_e0</td>\n",
       "      <td>61.448307</td>\n",
       "      <td>NaN</td>\n",
       "      <td>NaN</td>\n",
       "    </tr>\n",
       "    <tr>\n",
       "      <th>3</th>\n",
       "      <td>cpd11683_e0</td>\n",
       "      <td>7.500000</td>\n",
       "      <td>cpd00047_e0</td>\n",
       "      <td>11.312680</td>\n",
       "      <td>NaN</td>\n",
       "      <td>NaN</td>\n",
       "    </tr>\n",
       "    <tr>\n",
       "      <th>4</th>\n",
       "      <td>cpd00048_e0</td>\n",
       "      <td>1.201520</td>\n",
       "      <td>cpd11416_c0</td>\n",
       "      <td>5.373741</td>\n",
       "      <td>NaN</td>\n",
       "      <td>NaN</td>\n",
       "    </tr>\n",
       "  </tbody>\n",
       "</table>\n",
       "</div>"
      ],
      "text/plain": [
       "<cobra.core.summary.model_summary.ModelSummary at 0x7fe3f8fb92d0>"
      ]
     },
     "execution_count": 6,
     "metadata": {},
     "output_type": "execute_result"
    }
   ],
   "source": [
    "pkgmgr = MSPackageManager.get_pkg_mgr(model)\n",
    "pkgmgr.getpkg(\"ElementUptakePkg\").build_package({\"C\":60})\n",
    "pkgmgr.getpkg(\"KBaseMediaPkg\").build_package(media)\n",
    "\n",
    "biomass_objective = model.problem.Objective(\n",
    "    1 * model.reactions.bio1.flux_expression,\n",
    "    direction='max')\n",
    "model.objective = biomass_objective\n",
    "    \n",
    "sol=model.optimize()\n",
    "model.summary()"
   ]
  },
  {
   "cell_type": "code",
   "execution_count": 7,
   "metadata": {},
   "outputs": [
    {
     "name": "stdout",
     "output_type": "stream",
     "text": [
      "Warning:Community biomass reaction is being altered with input abundances\n",
      "1:bio2\n",
      "2:bio3\n"
     ]
    },
    {
     "data": {
      "text/html": [
       "<div>\n",
       "<style scoped>\n",
       "    .dataframe tbody tr th:only-of-type {\n",
       "        vertical-align: middle;\n",
       "    }\n",
       "\n",
       "    .dataframe tbody tr th {\n",
       "        vertical-align: top;\n",
       "    }\n",
       "\n",
       "    .dataframe thead tr th {\n",
       "        text-align: left;\n",
       "    }\n",
       "</style>\n",
       "<table border=\"1\" class=\"dataframe\">\n",
       "  <thead>\n",
       "    <tr>\n",
       "      <th></th>\n",
       "      <th colspan=\"2\" halign=\"left\">IN_FLUXES</th>\n",
       "      <th colspan=\"2\" halign=\"left\">OUT_FLUXES</th>\n",
       "      <th colspan=\"2\" halign=\"left\">OBJECTIVES</th>\n",
       "    </tr>\n",
       "    <tr>\n",
       "      <th></th>\n",
       "      <th>ID</th>\n",
       "      <th>FLUX</th>\n",
       "      <th>ID</th>\n",
       "      <th>FLUX</th>\n",
       "      <th>ID</th>\n",
       "      <th>FLUX</th>\n",
       "    </tr>\n",
       "  </thead>\n",
       "  <tbody>\n",
       "    <tr>\n",
       "      <th>0</th>\n",
       "      <td>cpd00067_e0</td>\n",
       "      <td>100.000000</td>\n",
       "      <td>cpd00001_e0</td>\n",
       "      <td>100.000000</td>\n",
       "      <td>bio1</td>\n",
       "      <td>3.472762</td>\n",
       "    </tr>\n",
       "    <tr>\n",
       "      <th>1</th>\n",
       "      <td>cpd00013_e0</td>\n",
       "      <td>76.734767</td>\n",
       "      <td>cpd00075_e0</td>\n",
       "      <td>54.474015</td>\n",
       "      <td>NaN</td>\n",
       "      <td>NaN</td>\n",
       "    </tr>\n",
       "    <tr>\n",
       "      <th>2</th>\n",
       "      <td>cpd00007_e0</td>\n",
       "      <td>65.146058</td>\n",
       "      <td>cpd00009_e0</td>\n",
       "      <td>35.505817</td>\n",
       "      <td>NaN</td>\n",
       "      <td>NaN</td>\n",
       "    </tr>\n",
       "    <tr>\n",
       "      <th>3</th>\n",
       "      <td>cpd11683_e0</td>\n",
       "      <td>7.500000</td>\n",
       "      <td>cpd11416_c0</td>\n",
       "      <td>3.472762</td>\n",
       "      <td>NaN</td>\n",
       "      <td>NaN</td>\n",
       "    </tr>\n",
       "  </tbody>\n",
       "</table>\n",
       "</div>"
      ],
      "text/plain": [
       "<cobra.core.summary.model_summary.ModelSummary at 0x7fe39e4127d0>"
      ]
     },
     "execution_count": 7,
     "metadata": {},
     "output_type": "execute_result"
    }
   ],
   "source": [
    "#Applying community model kinetic constraints\n",
    "pkgmgr.getpkg(\"CommKineticPkg\").build_package(2100,{\"1\":0.5,\"2\":0.5})\n",
    "\n",
    "with open('/Users/chenry/Dropbox/workspace/PNNLSFA/CommunityFBA/CommunityFBA.lp', 'w') as out:\n",
    "    out.write(str(model.solver))\n",
    "\n",
    "sol=model.optimize()\n",
    "model.summary()"
   ]
  },
  {
   "cell_type": "code",
   "execution_count": null,
   "metadata": {},
   "outputs": [],
   "source": []
  }
 ],
 "metadata": {
  "kernelspec": {
   "display_name": "Python 3",
   "language": "python",
   "name": "python3"
  },
  "language_info": {
   "codemirror_mode": {
    "name": "ipython",
    "version": 3
   },
   "file_extension": ".py",
   "mimetype": "text/x-python",
   "name": "python",
   "nbconvert_exporter": "python",
   "pygments_lexer": "ipython3",
   "version": "3.7.6"
  }
 },
 "nbformat": 4,
 "nbformat_minor": 4
}
