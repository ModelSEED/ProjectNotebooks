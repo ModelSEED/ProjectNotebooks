{
 "cells": [
  {
   "cell_type": "code",
   "execution_count": 1,
   "metadata": {},
   "outputs": [],
   "source": [
    "# Kathleen Beilsmith\n",
    "# January 2020\n",
    "# Argonne National Lab\n",
    "\n",
    "# Notebook: Import metabolic models from KBase and convert to cobrapy"
   ]
  },
  {
   "cell_type": "code",
   "execution_count": 1,
   "metadata": {},
   "outputs": [
    {
     "name": "stdout",
     "output_type": "stream",
     "text": [
      "python version 3.7.9\n",
      "cobrakbase 0.2.7\n",
      "Required modules loaded\n"
     ]
    }
   ],
   "source": [
    "# Import required modules\n",
    "\n",
    "import platform\n",
    "print(\"python version \" + platform.python_version())\n",
    "\n",
    "import os\n",
    "import logging\n",
    "import optlang\n",
    "import re\n",
    "from optlang.symbolics import Zero, add\n",
    "from IPython.core.display import HTML\n",
    "\n",
    "# cobra\n",
    "import cobra\n",
    "from cobra.core.dictlist import DictList\n",
    "from cobra.core import Gene, Metabolite, Model, Reaction\n",
    "import cobra.util.solver as sutil\n",
    "\n",
    "# cobrakbase\n",
    "import cobrakbase\n",
    "from cobrakbase.core.converters import KBaseFBAModelToCobraBuilder\n",
    "from cobrakbase.Workspace.WorkspaceClient import Workspace as WorkspaceClient\n",
    "from cobrakbase.core.kbase_object_factory import KBaseObjectFactory\n",
    "from cobrakbase.core.fba_utilities import KBaseFBAUtilities\n",
    "\n",
    "# solver\n",
    "import cplex\n",
    "\n",
    "# dataframes\n",
    "import pandas\n",
    "\n",
    "# data import/export\n",
    "import json\n",
    "import csv\n",
    "\n",
    "# Print when finished.\n",
    "print(\"Required modules loaded\")"
   ]
  },
  {
   "cell_type": "code",
   "execution_count": 2,
   "metadata": {},
   "outputs": [
    {
     "name": "stdout",
     "output_type": "stream",
     "text": [
      "Shewanella_oneidensis_MR-1_Gapfilled_Lactate\n"
     ]
    }
   ],
   "source": [
    "# TEST: Get a model from a KBase workspace.\n",
    "# Replace the workspace ID and model name with those from your own KBase narrative.\n",
    "# I'm using a copy of a modeling tutorial Narrative.\n",
    "\n",
    "kbase_api = cobrakbase.KBaseAPI()\n",
    "\n",
    "kbmodel = kbase_api.get_from_ws('Shewanella_oneidensis_MR-1_Gapfilled_Lactate', 81169)\n",
    "\n",
    "# Check that it worked.\n",
    "\n",
    "print(kbmodel)"
   ]
  },
  {
   "cell_type": "code",
   "execution_count": 3,
   "metadata": {},
   "outputs": [
    {
     "name": "stdout",
     "output_type": "stream",
     "text": [
      "\n",
      "solver: cplex\n",
      "tolerance: 1e-07\n",
      "lower_bound: -1000.0\n",
      "upper_bound: 1000.0\n",
      "processes: 15\n",
      "cache_directory: /Users/kbeilsmith/Library/Caches/cobrapy\n",
      "max_cache_size: 104857600\n",
      "cache_expiration: None\n",
      "\n"
     ]
    }
   ],
   "source": [
    "# Configure the solver to be CPLEX.\n",
    "\n",
    "cobra_config = cobra.Configuration()\n",
    "\n",
    "cobra_config.solver = \"cplex\"\n",
    "\n",
    "# Check that it worked.\n",
    "print(cobra_config)"
   ]
  },
  {
   "cell_type": "code",
   "execution_count": 4,
   "metadata": {},
   "outputs": [
    {
     "name": "stderr",
     "output_type": "stream",
     "text": [
      "WARNING:cobrakbase.core.kbasefba.fbamodel_builder:unable to add sink for [cpd15302_c0]: not found\n"
     ]
    },
    {
     "name": "stdout",
     "output_type": "stream",
     "text": [
      "iAH991.xml_model\n"
     ]
    }
   ],
   "source": [
    "# Another check, with Megan's Btheta model.\n",
    "\n",
    "kbase_api = cobrakbase.KBaseAPI()\n",
    "\n",
    "kbmodel = kbase_api.get_from_ws('iAH991.xml_model', 84574)\n",
    "\n",
    "# Check that it worked.\n",
    "\n",
    "print(kbmodel)"
   ]
  },
  {
   "cell_type": "code",
   "execution_count": 5,
   "metadata": {},
   "outputs": [],
   "source": [
    "# Hurrah! What's next?"
   ]
  },
  {
   "cell_type": "code",
   "execution_count": null,
   "metadata": {},
   "outputs": [],
   "source": []
  }
 ],
 "metadata": {
  "kernelspec": {
   "display_name": "Python 3",
   "language": "python",
   "name": "python3"
  },
  "language_info": {
   "codemirror_mode": {
    "name": "ipython",
    "version": 3
   },
   "file_extension": ".py",
   "mimetype": "text/x-python",
   "name": "python",
   "nbconvert_exporter": "python",
   "pygments_lexer": "ipython3",
   "version": "3.7.6"
  }
 },
 "nbformat": 4,
 "nbformat_minor": 4
}
