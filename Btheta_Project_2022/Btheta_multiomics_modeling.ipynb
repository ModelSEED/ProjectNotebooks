{
 "cells": [
  {
   "cell_type": "code",
   "execution_count": 1,
   "metadata": {},
   "outputs": [],
   "source": [
    "# Kathleen Beilsmith\n",
    "# January 2020\n",
    "# Argonne National Lab\n",
    "\n",
    "# Notebook: Import metabolic models from KBase and convert to cobrapy"
   ]
  },
  {
   "cell_type": "code",
   "execution_count": 1,
   "metadata": {},
   "outputs": [
    {
     "name": "stdout",
     "output_type": "stream",
     "text": [
      "python version 3.7.9\n",
      "cobrakbase 0.2.7\n",
      "Required modules loaded\n"
     ]
    }
   ],
   "source": [
    "# Import required modules\n",
    "import platform\n",
    "print(\"python version \" + platform.python_version())\n",
    "import os\n",
    "import logging\n",
    "import optlang\n",
    "import re\n",
    "from optlang.symbolics import Zero, add\n",
    "from IPython.core.display import HTML\n",
    "#from configparser import ConfigParser\n",
    "#config = ConfigParser()\n",
    "#f = open(\"config.cfg\", \"r\")\n",
    "#print(f.read())\n",
    "#config.read(\"config.cfg\")\n",
    "#paths = config.get(\"script\", \"syspaths\").split(\";\")\n",
    "#for path in paths:\n",
    "#    sys.path.append(path)\n",
    "\n",
    "# cobra\n",
    "import cobra\n",
    "from cobra.core.dictlist import DictList\n",
    "from cobra.core import Gene, Metabolite, Model, Reaction\n",
    "import cobra.util.solver as sutil\n",
    "\n",
    "# cobrakbase\n",
    "import cobrakbase\n",
    "from cobrakbase.core.converters import KBaseFBAModelToCobraBuilder\n",
    "from cobrakbase.Workspace.WorkspaceClient import Workspace as WorkspaceClient\n",
    "from cobrakbase.core.kbase_object_factory import KBaseObjectFactory\n",
    "from cobrakbase.core.fba_utilities import KBaseFBAUtilities\n",
    "from modelseedpy import MSPackageManager, MSExpression\n",
    "from MSExpression import LOWEST\n",
    "\n",
    "# solver\n",
    "import cplex\n",
    "\n",
    "# dataframes\n",
    "import pandas\n",
    "\n",
    "# data import/export\n",
    "import json\n",
    "import csv\n",
    "\n",
    "# Print when finished.\n",
    "print(\"Required modules loaded\")"
   ]
  },
  {
   "cell_type": "code",
   "execution_count": 2,
   "metadata": {},
   "outputs": [
    {
     "name": "stdout",
     "output_type": "stream",
     "text": [
      "Shewanella_oneidensis_MR-1_Gapfilled_Lactate\n"
     ]
    }
   ],
   "source": [
    "#Loading expression data for our conditions\n",
    "genome = kbase_api.get_from_ws(\"Bacteroides_thetaiotaomicron_VPI-5482\",81169)\n",
    "gene_expression = MSExpression.from_gene_feature_file(\"ExpressionData.tsv\",genome,False)\n",
    "\n",
    "#Loading published metabolic model\n",
    "kbase_api = cobrakbase.KBaseAPI()\n",
    "model = kbase_api.get_from_ws('iAH991', 81169)\n",
    "\n",
    "#Translating gene expression to reaction expression\n",
    "rxn_expression = gene_expression.build_reaction_expression(model)\n",
    "\n",
    "#Loading media that mimicks innoculation media\n",
    "innoculation_media = kbase_api.get_from_ws(\"ArgonneLBMedia\",\"KBaseMedia\")\n",
    "day_one_media = kbase_api.get_from_ws(\"MouseDayOne\",84574)#Send chris list of media composition\n",
    "day_seven_media = kbase_api.get_from_ws(\"MouseDaySeven\",84574)\n",
    "day_forteen_media = kbase_api.get_from_ws(\"MouseDayForteen\",84574)"
   ]
  },
  {
   "cell_type": "code",
   "execution_count": null,
   "metadata": {},
   "outputs": [],
   "source": [
    "#Create flux profile that is as close to innoculation growth as possible\n",
    "#First get ModelSEEDpy package manager so we can add constraints to our model\n",
    "pkgmgr = MSPackageManager.get_pkg_mgr(model,1)\n",
    "#Add the innoculation media as the growth condition\n",
    "pkgmgr.getpkg(\"KBaseMediaPkg\").build_package(innoculation_media)\n",
    "#Set a limit on total carbon uptake by the model\n",
    "pkgmgr.getpkg(\"ElementUptakePkg\").build_package({\"C\":60})\n",
    "#Set the known growth rate for B. theta in this condition\n",
    "biomass = model.reactions.get_by_id(\"bio1\")\n",
    "double_time = ?\n",
    "growth_rate = #Chris will fill this in\n",
    "biomass.upper_bound = growth_rate\n",
    "biomass.lower_bound = growth_rate\n",
    "#Now we minimize all fluxes based on expression data (penalize higher expressed reactions less)\n",
    "#Minimize sum of reaction fluxes with coefficients based on expression data\n",
    "#Save reference flux\n",
    "\n",
    "sol=model.optimize()\n",
    "model.summary()"
   ]
  },
  {
   "cell_type": "code",
   "execution_count": 3,
   "metadata": {},
   "outputs": [
    {
     "name": "stdout",
     "output_type": "stream",
     "text": [
      "\n",
      "solver: cplex\n",
      "tolerance: 1e-07\n",
      "lower_bound: -1000.0\n",
      "upper_bound: 1000.0\n",
      "processes: 15\n",
      "cache_directory: /Users/kbeilsmith/Library/Caches/cobrapy\n",
      "max_cache_size: 104857600\n",
      "cache_expiration: None\n",
      "\n"
     ]
    }
   ],
   "source": [
    "#Next we simulate the day 1 condition\n",
    "#Set the media constraint\n",
    "pkgmgr.getpkg(\"KBaseMediaPkg\").build_package(day_one_media)\n",
    "pkgmgr.getpkg(\"FlexibleBiomassPkg\",1).build_package({\"bio_rxn_id\":\"bio1\",\"use_rna_class\":[-0.99999,0.99999],\n",
    "    \"use_dna_class\":[-0.25,0.25],\n",
    "    \"use_protein_class\":[-0.25,0.25],\n",
    "    \"use_energy_class\":[-0.1,0.1]})\n",
    "#Release constraints on the growth rate (we want to see if we can predict this)\n",
    "biomass.upper_bound = 100\n",
    "biomass.lower_bound = 0\n",
    "#Now we predict flux change from fold change in expression data\n",
    "newflux = {}\n",
    "for rxn in expression:\n",
    "    newflux[rxn] = expression[rxn].foldchange*reference_flux[rxn]\n",
    "#Now we fit the flux to the fold change fluxes\n",
    "\n",
    "#Print results\n",
    "sol=model.optimize()\n",
    "model.summary()\n",
    "#Simulate all single gene KO\n"
   ]
  },
  {
   "cell_type": "code",
   "execution_count": 4,
   "metadata": {},
   "outputs": [
    {
     "name": "stderr",
     "output_type": "stream",
     "text": [
      "WARNING:cobrakbase.core.kbasefba.fbamodel_builder:unable to add sink for [cpd15302_c0]: not found\n"
     ]
    },
    {
     "name": "stdout",
     "output_type": "stream",
     "text": [
      "iAH991.xml_model\n"
     ]
    }
   ],
   "source": [
    "# Another check, with Megan's Btheta model.\n",
    "\n",
    "kbase_api = cobrakbase.KBaseAPI()\n",
    "\n",
    "kbmodel = kbase_api.get_from_ws('iAH991.xml_model', 84574)\n",
    "\n",
    "# Check that it worked.\n",
    "\n",
    "print(kbmodel)"
   ]
  },
  {
   "cell_type": "code",
   "execution_count": 5,
   "metadata": {},
   "outputs": [],
   "source": [
    "# Hurrah! What's next?"
   ]
  },
  {
   "cell_type": "code",
   "execution_count": null,
   "metadata": {},
   "outputs": [],
   "source": []
  }
 ],
 "metadata": {
  "kernelspec": {
   "display_name": "Python 3",
   "language": "python",
   "name": "python3"
  },
  "language_info": {
   "codemirror_mode": {
    "name": "ipython",
    "version": 3
   },
   "file_extension": ".py",
   "mimetype": "text/x-python",
   "name": "python",
   "nbconvert_exporter": "python",
   "pygments_lexer": "ipython3",
   "version": "3.7.6"
  }
 },
 "nbformat": 4,
 "nbformat_minor": 4
}
