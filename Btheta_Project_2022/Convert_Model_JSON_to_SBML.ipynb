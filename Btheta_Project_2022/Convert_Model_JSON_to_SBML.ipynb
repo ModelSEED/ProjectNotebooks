{
 "cells": [
  {
   "cell_type": "code",
   "execution_count": null,
   "metadata": {},
   "outputs": [],
   "source": [
    "# Kathleen Beilsmith\n",
    "# September 2021\n",
    "# Argonne National Lab\n",
    "\n",
    "# Notebook: Convert KBase JSON model to SBML and remove duplicate compounds."
   ]
  },
  {
   "cell_type": "code",
   "execution_count": 1,
   "metadata": {},
   "outputs": [
    {
     "name": "stdout",
     "output_type": "stream",
     "text": [
      "cobrakbase 0.2.7\n"
     ]
    }
   ],
   "source": [
    "# Import required packages\n",
    "\n",
    "import cobra\n",
    "import cobrakbase\n",
    "import json"
   ]
  },
  {
   "cell_type": "code",
   "execution_count": 2,
   "metadata": {},
   "outputs": [],
   "source": [
    "# Import JSON download of KBase model\n",
    "\n",
    "with open('/Users/kbeilsmith/Desktop/Btheta_Project_2022/iAH991.JSON/2.json', 'r') as fh:\n",
    "    kbase_json = json.load(fh)\n",
    "    \n",
    "# print(kbase_json)"
   ]
  },
  {
   "cell_type": "code",
   "execution_count": 3,
   "metadata": {},
   "outputs": [
    {
     "name": "stdout",
     "output_type": "stream",
     "text": [
      "ggdp_c0\n"
     ]
    }
   ],
   "source": [
    "# Remove duplicate compounds (from Filipe via Slack):\n",
    "\n",
    "dups = set()\n",
    "modelcompounds = []\n",
    "for o in kbase_json['modelcompounds']:\n",
    "    if o['id'] not in dups:\n",
    "        dups.add(o['id'])\n",
    "        modelcompounds.append(o)\n",
    "    else:\n",
    "        print(o['id'])\n",
    "kbase_json['modelcompounds'] = modelcompounds"
   ]
  },
  {
   "cell_type": "code",
   "execution_count": 9,
   "metadata": {},
   "outputs": [
    {
     "name": "stderr",
     "output_type": "stream",
     "text": [
      "WARNING:cobrakbase.core.kbasefba.fbamodel_builder:unable to add sink for [cpd15302_c0]: not found\n"
     ]
    }
   ],
   "source": [
    "# Write model (without duplicate compounds) to SBML (from Filipe via Slack):\n",
    "\n",
    "info = cobrakbase.kbase_object_info.KBaseObjectInfo(object_type='KBaseFBA.FBAModel-12.0')\n",
    "from cobrakbase.core.kbasefba.fbamodel_builder import FBAModelBuilder\n",
    "model = FBAModelBuilder.from_kbase_json(kbase_json, info).build()\n",
    "cobra.io.write_sbml_model(model, '/Users/kbeilsmith/Desktop/Btheta_Project_2022/iAH991.xml')\n"
   ]
  },
  {
   "cell_type": "code",
   "execution_count": null,
   "metadata": {},
   "outputs": [],
   "source": [
    "# What is the sink warning and do we need to address it?"
   ]
  },
  {
   "cell_type": "code",
   "execution_count": null,
   "metadata": {},
   "outputs": [],
   "source": [
    "# Upload .xml file to KBase Narrative"
   ]
  }
 ],
 "metadata": {
  "kernelspec": {
   "display_name": "Python 3",
   "language": "python",
   "name": "python3"
  },
  "language_info": {
   "codemirror_mode": {
    "name": "ipython",
    "version": 3
   },
   "file_extension": ".py",
   "mimetype": "text/x-python",
   "name": "python",
   "nbconvert_exporter": "python",
   "pygments_lexer": "ipython3",
   "version": "3.7.6"
  }
 },
 "nbformat": 4,
 "nbformat_minor": 5
}
