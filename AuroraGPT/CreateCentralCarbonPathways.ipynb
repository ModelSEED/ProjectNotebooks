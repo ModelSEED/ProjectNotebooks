{
 "cells": [
  {
   "cell_type": "markdown",
   "id": "47eab5e0",
   "metadata": {},
   "source": [
    "# Header Always Run For Every Notebook"
   ]
  },
  {
   "cell_type": "code",
   "execution_count": 1,
   "id": "1ab316e3-fb7d-4d10-b393-c8d597d4e9ef",
   "metadata": {
    "tags": [],
    "vscode": {
     "languageId": "perl"
    }
   },
   "outputs": [
    {
     "name": "stdout",
     "output_type": "stream",
     "text": [
      "python version 3.9.13\n",
      "KBBaseModules 0.0.1\n",
      "Output files printed to:/Users/chenry/workspace/Notebooks//ModelSEED2/ when using KBDevUtils.out_dir()\n",
      "modelseedpy 0.3.3\n",
      "cobrakbase 0.3.1\n"
     ]
    }
   ],
   "source": [
    "import platform\n",
    "print(\"python version \" + platform.python_version())\n",
    "import sys\n",
    "import json\n",
    "import os\n",
    "import pandas as pd\n",
    "from os.path import exists\n",
    "from pathlib import Path\n",
    "import logging\n",
    "\n",
    "os.environ[\"CODE_BASE\"] = \"/Users/chenry/code\"\n",
    "sys.path = [os.environ.get(\"CODE_BASE\",\"/scratch/shared/code\")+\"/chenry_utility_module/lib\"] + sys.path\n",
    "from chenry_utility_module.kbdevutils import KBDevUtils\n",
    "kbdevutil = KBDevUtils(\"ModelSEED2\")\n",
    "\n",
    "from modelseedpy import MSPackageManager, MSModelUtil, MSBuilder, MSATPCorrection, MSGapfill,MSModelReport\n",
    "from modelseedpy.core.mstemplate import MSTemplateBuilder\n",
    "#You need to get a KBase dev token or pull a token from the narrative and put in ~/.kbase/token file\n",
    "\n",
    "logger = logging.getLogger(__name__)\n",
    "logger.setLevel(logging.INFO)\n",
    "msrecon = kbdevutil.msseedrecon()"
   ]
  },
  {
   "cell_type": "markdown",
   "id": "dad90c5a",
   "metadata": {},
   "source": [
    "# Predict central carbon minimal pathways for a set of genomes"
   ]
  },
  {
   "cell_type": "code",
   "execution_count": 3,
   "id": "0e5f77cd-b2d1-453d-995c-da8e626eab72",
   "metadata": {
    "tags": [],
    "vscode": {
     "languageId": "perl"
    }
   },
   "outputs": [
    {
     "name": "stderr",
     "output_type": "stream",
     "text": [
      "1701978529.189536 INFO: metabolites 1647\n",
      "1701978529.5202281 INFO: reactions 1454\n",
      "1701978530.296802 INFO: Default biomass: [bio1]\n"
     ]
    },
    {
     "name": "stdout",
     "output_type": "stream",
     "text": [
      "0.0\n"
     ]
    }
   ],
   "source": [
    "model_workspace = 161565\n",
    "#Get model list from model workspace\n",
    "model_list = msrecon.kbase_api.list_objects(model_workspace, object_type=\"KBaseFBA.FBAModel\", include_metadata=True)\n",
    "output = {}\n",
    "#Add code to read from the JSON file if it exists\n",
    "if exists(KBDevUtils.out_dir()+\"PathwayContent.json\"):\n",
    "    with open(KBDevUtils.out_dir()+\"PathwayContent.json\", 'r') as f:\n",
    "        output = json.load(f)\n",
    "for model_meta in model_list:\n",
    "    if model_meta[1] not in output:\n",
    "        output[model_meta[1]] = {}\n",
    "        mdlutl = msrecon.get_model(str(model_workspace)+\"/\"+model_meta[1])\n",
    "        atpcorrection = MSATPCorrection(mdlutl,msrecon.core_template,params[\"atp_medias\"],load_default_medias=True,max_gapfilling=0,gapfilling_delta=0,forced_media=[],default_media_path=msrecon.module_dir+\"/data/atp_medias.tsv\")\n",
    "        atpcorrection.evaluate_growth_media()\n",
    "        media_list = atpcorrection.determine_growth_media()\n",
    "        for media in media_list:\n",
    "            mdlutl.model.objective = \"rxn00062_c0\"\n",
    "            mdlutl.pkgmgr.getpkg(\"KBaseMediaPkg\").build_package(media)\n",
    "            objective = mdlutl.model.slim_optimize()\n",
    "            output[model_meta[1]][media.id] = {\"ATP\":objective,\"reactions\":{}}\n",
    "            mdlutl.pkgmgr.getpkg(\"ObjConstPkg\").build_package(objective, None)\n",
    "            self.model.objective = self.model.problem.Objective(Zero, direction=\"min\")\n",
    "            obj_coef = dict()\n",
    "            for reaction in self.model.reactions:\n",
    "                if reaction.upper_bound > 0:\n",
    "                    obj_coef[reaction.forward_variable] = 1\n",
    "                if reaction.lower_bound < 0:\n",
    "                    obj_coef[reaction.reverse_variable] = 1\n",
    "            self.model.objective.set_linear_coefficients(obj_coef)\n",
    "            solution = mdlutl.model.optimize()\n",
    "            flux_values = mdlutl.compute_flux_values_from_variables()\n",
    "            for rxnid in flux_values:\n",
    "                if flux_values[reaction.id][\"forward\"] > 0.0000001:\n",
    "                    output[model_meta[1]][media.id][\"reactions\"][rxnid] = \">\"\n",
    "                elif flux_values[reaction.id][\"reverse\"] > 0.0000001:\n",
    "                    output[model_meta[1]][media.id][\"reactions\"][rxnid] = \"<\"\n",
    "            mdlutl.pkgmgr.getpkg(\"ObjConstPkg\").clear()\n",
    "        with open(KBDevUtils.out_dir()+\"PathwayContent.json\", 'w') as f:\n",
    "            f.write(output)"
   ]
  },
  {
   "cell_type": "markdown",
   "id": "3a5c59eb",
   "metadata": {},
   "source": [
    "# Code for building an HTML report"
   ]
  },
  {
   "cell_type": "code",
   "execution_count": 2,
   "id": "faecb2a4-f1dc-4e87-b103-b14d25dbc605",
   "metadata": {
    "tags": [],
    "vscode": {
     "languageId": "perl"
    }
   },
   "outputs": [
    {
     "name": "stderr",
     "output_type": "stream",
     "text": [
      "1697049542.230461 INFO: metabolites 1586\n",
      "1697049542.838496 INFO: reactions 1642\n",
      "1697049543.3966238 INFO: The current solver interface glpk doesn't support setting the optimality tolerance.\n",
      "1697049544.4482696 INFO: Default biomass: [bio1]\n",
      "/scratch/shared/code/ModelSEEDpy/modelseedpy/core/msmodelreport.py:613: FutureWarning: this method is deprecated in favour of `Styler.to_html()`\n",
      "  f.write(model_summary_df_styled.render(escape=False))\n",
      "/scratch/shared/code/ModelSEEDpy/modelseedpy/core/msmodelreport.py:619: FutureWarning: this method is deprecated in favour of `Styler.to_html()`\n",
      "  f.write(gapfillings_analysis_df_styled.render(escape=False))\n",
      "/scratch/shared/code/ModelSEEDpy/modelseedpy/core/msmodelreport.py:630: FutureWarning: this method is deprecated in favour of `Styler.to_html()`\n",
      "  f.write(atp_analysis_df_styled.render(escape=False))\n"
     ]
    }
   ],
   "source": [
    "mdlutl = msrecon.get_model(\"151253/GCF_000005845.2.RAST.Complete.mdl\")\n",
    "repobj = MSModelReport(mdlutl)\n",
    "repobj.build_report(kbdevutil.out_dir()+\"test.html\")"
   ]
  }
 ],
 "metadata": {
  "kernelspec": {
   "display_name": "Python 3",
   "language": "python",
   "name": "python3"
  },
  "language_info": {
   "codemirror_mode": {
    "name": "ipython",
    "version": 3
   },
   "file_extension": ".py",
   "mimetype": "text/x-python",
   "name": "python",
   "nbconvert_exporter": "python",
   "pygments_lexer": "ipython3",
   "version": "3.9.13"
  }
 },
 "nbformat": 4,
 "nbformat_minor": 5
}
