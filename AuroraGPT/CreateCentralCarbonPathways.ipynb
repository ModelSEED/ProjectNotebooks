{
 "cells": [
  {
   "cell_type": "markdown",
   "id": "47eab5e0",
   "metadata": {},
   "source": [
    "# Header Always Run For Every Notebook"
   ]
  },
  {
   "cell_type": "code",
   "execution_count": 2,
   "id": "1ab316e3-fb7d-4d10-b393-c8d597d4e9ef",
   "metadata": {
    "tags": [],
    "vscode": {
     "languageId": "perl"
    }
   },
   "outputs": [
    {
     "name": "stdout",
     "output_type": "stream",
     "text": [
      "python version 3.9.6\n"
     ]
    },
    {
     "ename": "NoSectionError",
     "evalue": "No section: 'DevEnv'",
     "output_type": "error",
     "traceback": [
      "\u001b[0;31m---------------------------------------------------------------------------\u001b[0m",
      "\u001b[0;31mKeyError\u001b[0m                                  Traceback (most recent call last)",
      "File \u001b[0;32m/Library/Developer/CommandLineTools/Library/Frameworks/Python3.framework/Versions/3.9/lib/python3.9/configparser.py:846\u001b[0m, in \u001b[0;36mRawConfigParser.items\u001b[0;34m(self, section, raw, vars)\u001b[0m\n\u001b[1;32m    845\u001b[0m \u001b[39mtry\u001b[39;00m:\n\u001b[0;32m--> 846\u001b[0m     d\u001b[39m.\u001b[39mupdate(\u001b[39mself\u001b[39;49m\u001b[39m.\u001b[39;49m_sections[section])\n\u001b[1;32m    847\u001b[0m \u001b[39mexcept\u001b[39;00m \u001b[39mKeyError\u001b[39;00m:\n",
      "\u001b[0;31mKeyError\u001b[0m: 'DevEnv'",
      "\nDuring handling of the above exception, another exception occurred:\n",
      "\u001b[0;31mNoSectionError\u001b[0m                            Traceback (most recent call last)",
      "Cell \u001b[0;32mIn [2], line 13\u001b[0m\n\u001b[1;32m     11\u001b[0m \u001b[39m# os.environ[\"CODE_BASE\"] = \"/Users/chenry/code\"\u001b[39;00m\n\u001b[1;32m     12\u001b[0m sys\u001b[39m.\u001b[39mpath \u001b[39m=\u001b[39m [\u001b[39m\"\u001b[39m\u001b[39m/Users/afreiburger/Documents/chenry_utility_module/lib\u001b[39m\u001b[39m\"\u001b[39m] \u001b[39m+\u001b[39m sys\u001b[39m.\u001b[39mpath\n\u001b[0;32m---> 13\u001b[0m \u001b[39mfrom\u001b[39;00m \u001b[39mchenry_utility_module\u001b[39;00m\u001b[39m.\u001b[39;00m\u001b[39mkbdevutils\u001b[39;00m \u001b[39mimport\u001b[39;00m KBDevUtils\n\u001b[1;32m     14\u001b[0m kbdevutil \u001b[39m=\u001b[39m KBDevUtils(\u001b[39m\"\u001b[39m\u001b[39mModelSEED2\u001b[39m\u001b[39m\"\u001b[39m)\n\u001b[1;32m     16\u001b[0m \u001b[39mfrom\u001b[39;00m \u001b[39mmodelseedpy\u001b[39;00m \u001b[39mimport\u001b[39;00m MSPackageManager, MSModelUtil, MSBuilder, MSATPCorrection, MSGapfill,MSModelReport\n",
      "File \u001b[0;32m~/Documents/chenry_utility_module/lib/chenry_utility_module/kbdevutils.py:15\u001b[0m\n\u001b[1;32m     13\u001b[0m config_parse\u001b[39m.\u001b[39mread(config_file)\n\u001b[1;32m     14\u001b[0m config \u001b[39m=\u001b[39m {}\n\u001b[0;32m---> 15\u001b[0m \u001b[39mfor\u001b[39;00m nameval \u001b[39min\u001b[39;00m config_parse\u001b[39m.\u001b[39;49mitems(\u001b[39m\"\u001b[39;49m\u001b[39mDevEnv\u001b[39;49m\u001b[39m\"\u001b[39;49m):\n\u001b[1;32m     16\u001b[0m     config[nameval[\u001b[39m0\u001b[39m]] \u001b[39m=\u001b[39m nameval[\u001b[39m1\u001b[39m]\n\u001b[1;32m     17\u001b[0m paths \u001b[39m=\u001b[39m config[\u001b[39m\"\u001b[39m\u001b[39msyspaths\u001b[39m\u001b[39m\"\u001b[39m]\u001b[39m.\u001b[39msplit(\u001b[39m\"\u001b[39m\u001b[39m;\u001b[39m\u001b[39m\"\u001b[39m)\n",
      "File \u001b[0;32m/Library/Developer/CommandLineTools/Library/Frameworks/Python3.framework/Versions/3.9/lib/python3.9/configparser.py:849\u001b[0m, in \u001b[0;36mRawConfigParser.items\u001b[0;34m(self, section, raw, vars)\u001b[0m\n\u001b[1;32m    847\u001b[0m \u001b[39mexcept\u001b[39;00m \u001b[39mKeyError\u001b[39;00m:\n\u001b[1;32m    848\u001b[0m     \u001b[39mif\u001b[39;00m section \u001b[39m!=\u001b[39m \u001b[39mself\u001b[39m\u001b[39m.\u001b[39mdefault_section:\n\u001b[0;32m--> 849\u001b[0m         \u001b[39mraise\u001b[39;00m NoSectionError(section)\n\u001b[1;32m    850\u001b[0m orig_keys \u001b[39m=\u001b[39m \u001b[39mlist\u001b[39m(d\u001b[39m.\u001b[39mkeys())\n\u001b[1;32m    851\u001b[0m \u001b[39m# Update with the entry specific variables\u001b[39;00m\n",
      "\u001b[0;31mNoSectionError\u001b[0m: No section: 'DevEnv'"
     ]
    }
   ],
   "source": [
    "import platform\n",
    "print(\"python version \" + platform.python_version())\n",
    "import sys\n",
    "import json\n",
    "import os\n",
    "import pandas as pd\n",
    "from os.path import exists\n",
    "from pathlib import Path\n",
    "import logging\n",
    "\n",
    "# os.environ[\"CODE_BASE\"] = \"/Users/chenry/code\"\n",
    "sys.path = [\"/Users/afreiburger/Documents/chenry_utility_module/lib\"] + sys.path\n",
    "from chenry_utility_module.kbdevutils import KBDevUtils\n",
    "kbdevutil = KBDevUtils(\"ModelSEED2\")\n",
    "\n",
    "from modelseedpy import MSPackageManager, MSModelUtil, MSBuilder, MSATPCorrection, MSGapfill,MSModelReport\n",
    "from modelseedpy.core.mstemplate import MSTemplateBuilder\n",
    "#You need to get a KBase dev token or pull a token from the narrative and put in ~/.kbase/token file\n",
    "\n",
    "logger = logging.getLogger(__name__)\n",
    "logger.setLevel(logging.INFO)\n",
    "msrecon = kbdevutil.msseedrecon()"
   ]
  },
  {
   "cell_type": "code",
   "execution_count": null,
   "id": "e4e39121",
   "metadata": {
    "vscode": {
     "languageId": "perl"
    }
   },
   "outputs": [],
   "source": []
  },
  {
   "cell_type": "code",
   "execution_count": null,
   "id": "9968dd20",
   "metadata": {
    "vscode": {
     "languageId": "perl"
    }
   },
   "outputs": [],
   "source": []
  },
  {
   "cell_type": "code",
   "execution_count": null,
   "id": "9bd956a5",
   "metadata": {
    "vscode": {
     "languageId": "perl"
    }
   },
   "outputs": [],
   "source": []
  },
  {
   "cell_type": "markdown",
   "id": "dad90c5a",
   "metadata": {},
   "source": [
    "# Predict central carbon minimal pathways for a set of genomes"
   ]
  },
  {
   "cell_type": "code",
   "execution_count": 3,
   "id": "0e5f77cd-b2d1-453d-995c-da8e626eab72",
   "metadata": {
    "tags": [],
    "vscode": {
     "languageId": "perl"
    }
   },
   "outputs": [
    {
     "name": "stderr",
     "output_type": "stream",
     "text": [
      "1701978529.189536 INFO: metabolites 1647\n",
      "1701978529.5202281 INFO: reactions 1454\n",
      "1701978530.296802 INFO: Default biomass: [bio1]\n"
     ]
    },
    {
     "name": "stdout",
     "output_type": "stream",
     "text": [
      "0.0\n"
     ]
    }
   ],
   "source": [
    "model_workspace = 161565\n",
    "#Get model list from model workspace\n",
    "model_list = msrecon.kbase_api.list_objects(model_workspace, object_type=\"KBaseFBA.FBAModel\", include_metadata=True)\n",
    "output = {}\n",
    "#Add code to read from the JSON file if it exists\n",
    "if exists(KBDevUtils.out_dir()+\"PathwayContent.json\"):\n",
    "    with open(KBDevUtils.out_dir()+\"PathwayContent.json\", 'r') as f:\n",
    "        output = json.load(f)\n",
    "for model_meta in model_list:\n",
    "    if model_meta[1] not in output:\n",
    "        output[model_meta[1]] = {}\n",
    "        mdlutl = msrecon.get_model(str(model_workspace)+\"/\"+model_meta[1])\n",
    "        atpcorrection = MSATPCorrection(mdlutl,msrecon.core_template,params[\"atp_medias\"],load_default_medias=True,max_gapfilling=0,gapfilling_delta=0,forced_media=[],default_media_path=msrecon.module_dir+\"/data/atp_medias.tsv\")\n",
    "        atpcorrection.evaluate_growth_media()\n",
    "        media_list = atpcorrection.determine_growth_media()\n",
    "        for media in media_list:\n",
    "            mdlutl.model.objective = \"rxn00062_c0\"\n",
    "            mdlutl.pkgmgr.getpkg(\"KBaseMediaPkg\").build_package(media)\n",
    "            objective = mdlutl.model.slim_optimize()\n",
    "            output[model_meta[1]][media.id] = {\"ATP\":objective,\"reactions\":{}}\n",
    "            mdlutl.pkgmgr.getpkg(\"ObjConstPkg\").build_package(objective, None)\n",
    "            self.model.objective = self.model.problem.Objective(Zero, direction=\"min\")\n",
    "            obj_coef = dict()\n",
    "            for reaction in self.model.reactions:\n",
    "                if reaction.upper_bound > 0:\n",
    "                    obj_coef[reaction.forward_variable] = 1\n",
    "                if reaction.lower_bound < 0:\n",
    "                    obj_coef[reaction.reverse_variable] = 1\n",
    "            self.model.objective.set_linear_coefficients(obj_coef)\n",
    "            solution = mdlutl.model.optimize()\n",
    "            flux_values = mdlutl.compute_flux_values_from_variables()\n",
    "            for rxnid in flux_values:\n",
    "                if flux_values[reaction.id][\"forward\"] > 0.0000001:\n",
    "                    output[model_meta[1]][media.id][\"reactions\"][rxnid] = \">\"\n",
    "                elif flux_values[reaction.id][\"reverse\"] > 0.0000001:\n",
    "                    output[model_meta[1]][media.id][\"reactions\"][rxnid] = \"<\"\n",
    "            mdlutl.pkgmgr.getpkg(\"ObjConstPkg\").clear()\n",
    "        with open(KBDevUtils.out_dir()+\"PathwayContent.json\", 'w') as f:\n",
    "            f.write(output)"
   ]
  }
 ],
 "metadata": {
  "kernelspec": {
   "display_name": "Python 3",
   "language": "python",
   "name": "python3"
  },
  "language_info": {
   "codemirror_mode": {
    "name": "ipython",
    "version": 3
   },
   "file_extension": ".py",
   "mimetype": "text/x-python",
   "name": "python",
   "nbconvert_exporter": "python",
   "pygments_lexer": "ipython3",
   "version": "3.9.6"
  },
  "vscode": {
   "interpreter": {
    "hash": "31f2aee4e71d21fbe5cf8b01ff0e069b9275f58929596ceb00d14d90e3e16cd6"
   }
  }
 },
 "nbformat": 4,
 "nbformat_minor": 5
}
