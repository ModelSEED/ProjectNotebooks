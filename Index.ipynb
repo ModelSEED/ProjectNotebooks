{
 "cells": [
  {
   "cell_type": "markdown",
   "metadata": {},
   "source": [
    "\n",
    "![ModelSEEDpy](images/ms-logo-horizontal.png)"
   ]
  },
  {
   "cell_type": "markdown",
   "metadata": {},
   "source": [
    "# ModelSEED Team Projects"
   ]
  },
  {
   "cell_type": "markdown",
   "metadata": {},
   "source": [
    "This folder contains notebooks and data associated with various ModelSEED research projects, presentations, and publications"
   ]
  },
  {
   "cell_type": "markdown",
   "metadata": {},
   "source": [
    "## Topics"
   ]
  },
  {
   "cell_type": "markdown",
   "metadata": {},
   "source": [
    "* [Threonine biosynthesis](Throenine/Index.ipynb): Improving threonine production\n",
    "* [Gapfilling](Gapfilling/Index.ipynb): Developing improved gapfilling methods\n",
    "* [Internship projects](students/Index.ipynb): Various project notebooks created by interns\n",
    "* [Proteome modeling](MaizeProteomeModeling/Index.ipynb): Notebooks for proteome-driven modeling\n",
    "* [Self driven lab](SDL-AMR/Index.ipynb): Notebooks to support self driven lab work\n",
    "* [Community modeling](CommunityModeling/Index.ipynb): Community modeling notebooks\n",
    "* [Carbon source modeling](CarbonSources/Index.ipynb): Notebooks for scanning carbon sources\n",
    "* [Minimal genome metabolomics FBA](JCVI/Index.ipynb): Notebooks for minimal genome metabolomics FBA"
   ]
  },
  {
   "cell_type": "code",
   "execution_count": null,
   "metadata": {},
   "outputs": [],
   "source": []
  }
 ],
 "metadata": {
  "kernelspec": {
   "display_name": "Python 3",
   "language": "python",
   "name": "python3"
  },
  "language_info": {
   "codemirror_mode": {
    "name": "ipython",
    "version": 3
   },
   "file_extension": ".py",
   "mimetype": "text/x-python",
   "name": "python",
   "nbconvert_exporter": "python",
   "pygments_lexer": "ipython3",
   "version": "3.7.6"
  }
 },
 "nbformat": 4,
 "nbformat_minor": 4
}
