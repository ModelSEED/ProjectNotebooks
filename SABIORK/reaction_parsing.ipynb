{
 "cells": [
  {
   "cell_type": "markdown",
   "id": "cf7d751a-2913-410d-9622-95a3f411b799",
   "metadata": {},
   "source": [
    "# Reaction modifiers"
   ]
  },
  {
   "cell_type": "markdown",
   "id": "d9660323-b056-495c-98ed-c97a80e9452a",
   "metadata": {
    "tags": []
   },
   "source": [
    "## download information"
   ]
  },
  {
   "cell_type": "code",
   "execution_count": 6,
   "id": "2b1b5204-1966-4603-bb18-57258807f09c",
   "metadata": {},
   "outputs": [],
   "source": [
    "import requests\n",
    "import json\n",
    "\n",
    "QUERY_URL = 'http://sabiork.h-its.org/sabioRestWebServices/searchReactionModifiers'\n",
    "\n",
    "# input: SabioReactionID\n",
    "query = {\"SabioReactionID\":\"*\", \"fields[]\":[\"EntryID\",\"Name\",\"Role\",\"SabioCompoundID\",\"ChebiID\",\"PubChemID\",\"KeggCompoundID\",\"InChI\",\"Smiles\"]}\n",
    "\n",
    "request = requests.get(QUERY_URL, params = query)\n",
    "request.raise_for_status()"
   ]
  },
  {
   "cell_type": "markdown",
   "id": "c93d08a7-1b19-4bea-af96-59c80e134fbf",
   "metadata": {},
   "source": [
    "## export information"
   ]
  },
  {
   "cell_type": "code",
   "execution_count": 2,
   "id": "e100f454-ac0c-49c8-a39d-e9443d91cb3b",
   "metadata": {},
   "outputs": [],
   "source": [
    "# export the results\n",
    "# with open('sabio_reactions.json', 'w') as out:\n",
    "#     json.dump( , out, indent=3)\n",
    "with open('sabio_reaction_modifiers.txt', 'w', encoding='utf-8') as out:\n",
    "    out.write(request.text)\n",
    "from pandas import read_table\n",
    "df = read_table('sabio_reaction_modifiers.txt')\n",
    "df.to_csv('sabio_reaction_modifiers.csv')"
   ]
  },
  {
   "cell_type": "markdown",
   "id": "2633932c-1174-44e7-a8e2-65d8f00a85ae",
   "metadata": {},
   "source": [
    "# Reaction details"
   ]
  },
  {
   "cell_type": "markdown",
   "id": "cf81df09-0c17-46f4-b747-92d7951126d4",
   "metadata": {},
   "source": [
    "## download information"
   ]
  },
  {
   "cell_type": "code",
   "execution_count": 3,
   "id": "b208e5fd-1ead-4c63-b015-e8b83c87a5b0",
   "metadata": {},
   "outputs": [],
   "source": [
    "import requests\n",
    "\n",
    "QUERY_URL = 'http://sabiork.h-its.org/sabioRestWebServices/searchReactionDetails'\n",
    "\n",
    "query = {\"SabioReactionID\":\"*\", \"fields[]\":[\"KeggReactionID\",\"SabioReactionID\",\"Enzymename\",\"ECNumber\", \"UniProtKB_AC\",\"ReactionEquation\",\"TransportReaction\"]}\n",
    "\n",
    "# make GET request\n",
    "request = requests.get(QUERY_URL, params = query)\n",
    "request.raise_for_status()"
   ]
  },
  {
   "cell_type": "markdown",
   "id": "571c101f-e8a0-47e5-97fe-dede5b21ce78",
   "metadata": {},
   "source": [
    "## export information"
   ]
  },
  {
   "cell_type": "code",
   "execution_count": 4,
   "id": "9dfe040c-706c-4f56-a242-7d9a91fb7d04",
   "metadata": {},
   "outputs": [],
   "source": [
    "# export the results\n",
    "# with open('sabio_reactions.json', 'w') as out:\n",
    "#     json.dump( , out, indent=3)\n",
    "with open('sabio_reaction_details.txt', 'w', encoding='utf-8') as out:\n",
    "    out.write(request.text)\n",
    "from pandas import read_table\n",
    "df = read_table('sabio_reaction_details.txt')\n",
    "df.to_csv('sabio_reaction_details.csv')"
   ]
  }
 ],
 "metadata": {
  "kernelspec": {
   "display_name": "Python 3 (ipykernel)",
   "language": "python",
   "name": "python3"
  },
  "language_info": {
   "codemirror_mode": {
    "name": "ipython",
    "version": 3
   },
   "file_extension": ".py",
   "mimetype": "text/x-python",
   "name": "python",
   "nbconvert_exporter": "python",
   "pygments_lexer": "ipython3",
   "version": "3.9.12"
  }
 },
 "nbformat": 4,
 "nbformat_minor": 5
}
