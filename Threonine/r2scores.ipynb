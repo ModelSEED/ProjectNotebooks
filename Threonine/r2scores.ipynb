{
 "cells": [
  {
   "cell_type": "code",
   "execution_count": 32,
   "metadata": {},
   "outputs": [],
   "source": [
    "import pandas as pd\n",
    "import numpy as np\n",
    "from sklearn.metrics import r2_score\n",
    "import matplotlib.pyplot as plt"
   ]
  },
  {
   "cell_type": "code",
   "execution_count": 2,
   "metadata": {},
   "outputs": [
    {
     "data": {
      "text/html": [
       "<div>\n",
       "<style scoped>\n",
       "    .dataframe tbody tr th:only-of-type {\n",
       "        vertical-align: middle;\n",
       "    }\n",
       "\n",
       "    .dataframe tbody tr th {\n",
       "        vertical-align: top;\n",
       "    }\n",
       "\n",
       "    .dataframe thead th {\n",
       "        text-align: right;\n",
       "    }\n",
       "</style>\n",
       "<table border=\"1\" class=\"dataframe\">\n",
       "  <thead>\n",
       "    <tr style=\"text-align: right;\">\n",
       "      <th></th>\n",
       "      <th>pred growth</th>\n",
       "      <th>pred thr</th>\n",
       "      <th>production growth</th>\n",
       "      <th>production thr</th>\n",
       "      <th>actual growth</th>\n",
       "      <th>actual thr</th>\n",
       "      <th>ratio growth</th>\n",
       "      <th>ratio thr</th>\n",
       "      <th>strain</th>\n",
       "      <th>add</th>\n",
       "      <th>delete</th>\n",
       "    </tr>\n",
       "    <tr>\n",
       "      <th>sample</th>\n",
       "      <th></th>\n",
       "      <th></th>\n",
       "      <th></th>\n",
       "      <th></th>\n",
       "      <th></th>\n",
       "      <th></th>\n",
       "      <th></th>\n",
       "      <th></th>\n",
       "      <th></th>\n",
       "      <th></th>\n",
       "      <th></th>\n",
       "    </tr>\n",
       "  </thead>\n",
       "  <tbody>\n",
       "    <tr>\n",
       "      <th>7_0_TA1_C_asdO_aspC_DlysC_I_24_M1</th>\n",
       "      <td>0.073206</td>\n",
       "      <td>0.180033</td>\n",
       "      <td>0.08</td>\n",
       "      <td>0.00000</td>\n",
       "      <td>0.001467</td>\n",
       "      <td>0.000000</td>\n",
       "      <td>49.913237</td>\n",
       "      <td>inf</td>\n",
       "      <td>7</td>\n",
       "      <td>aspC</td>\n",
       "      <td>DlysC</td>\n",
       "    </tr>\n",
       "    <tr>\n",
       "      <th>7_0_TA1_C_asdO_aspC_DptsG_I_24_M1</th>\n",
       "      <td>0.000000</td>\n",
       "      <td>0.004321</td>\n",
       "      <td>0.45</td>\n",
       "      <td>0.00000</td>\n",
       "      <td>0.008250</td>\n",
       "      <td>0.000000</td>\n",
       "      <td>0.000000</td>\n",
       "      <td>inf</td>\n",
       "      <td>7</td>\n",
       "      <td>aspC</td>\n",
       "      <td>DptsG</td>\n",
       "    </tr>\n",
       "    <tr>\n",
       "      <th>7_0_TA1_C_asdO_aceBA_DptsG_I_24_M1</th>\n",
       "      <td>0.057333</td>\n",
       "      <td>0.151927</td>\n",
       "      <td>1.03</td>\n",
       "      <td>0.00000</td>\n",
       "      <td>0.018883</td>\n",
       "      <td>0.000000</td>\n",
       "      <td>3.036175</td>\n",
       "      <td>inf</td>\n",
       "      <td>7</td>\n",
       "      <td>aceBA</td>\n",
       "      <td>DptsG</td>\n",
       "    </tr>\n",
       "    <tr>\n",
       "      <th>7_0_TA1_C_asdO_zwf_DptsG_I_24_M1</th>\n",
       "      <td>0.038442</td>\n",
       "      <td>0.157102</td>\n",
       "      <td>5.22</td>\n",
       "      <td>0.00000</td>\n",
       "      <td>0.095700</td>\n",
       "      <td>0.000000</td>\n",
       "      <td>0.401688</td>\n",
       "      <td>inf</td>\n",
       "      <td>7</td>\n",
       "      <td>zwf</td>\n",
       "      <td>DptsG</td>\n",
       "    </tr>\n",
       "    <tr>\n",
       "      <th>7_0_TA1_C_asdO_rhtA_DtdhDrhtA_I_24_M1</th>\n",
       "      <td>0.062129</td>\n",
       "      <td>0.136026</td>\n",
       "      <td>5.75</td>\n",
       "      <td>0.00000</td>\n",
       "      <td>0.105417</td>\n",
       "      <td>0.000000</td>\n",
       "      <td>0.589365</td>\n",
       "      <td>inf</td>\n",
       "      <td>7</td>\n",
       "      <td>rhtA</td>\n",
       "      <td>DtdhDrhtA</td>\n",
       "    </tr>\n",
       "    <tr>\n",
       "      <th>...</th>\n",
       "      <td>...</td>\n",
       "      <td>...</td>\n",
       "      <td>...</td>\n",
       "      <td>...</td>\n",
       "      <td>...</td>\n",
       "      <td>...</td>\n",
       "      <td>...</td>\n",
       "      <td>...</td>\n",
       "      <td>...</td>\n",
       "      <td>...</td>\n",
       "      <td>...</td>\n",
       "    </tr>\n",
       "    <tr>\n",
       "      <th>7_0_TA1_C_asdT_pntAB_D000_I_24_M1</th>\n",
       "      <td>0.049985</td>\n",
       "      <td>0.301082</td>\n",
       "      <td>3.83</td>\n",
       "      <td>1.04675</td>\n",
       "      <td>0.070217</td>\n",
       "      <td>0.217304</td>\n",
       "      <td>0.711865</td>\n",
       "      <td>1.385531</td>\n",
       "      <td>7</td>\n",
       "      <td>pntAB</td>\n",
       "      <td>D000</td>\n",
       "    </tr>\n",
       "    <tr>\n",
       "      <th>7_0_TA1_C_asdT_000_Dtdh_I_24_M1</th>\n",
       "      <td>0.069999</td>\n",
       "      <td>0.239985</td>\n",
       "      <td>6.79</td>\n",
       "      <td>1.86000</td>\n",
       "      <td>0.124483</td>\n",
       "      <td>0.217805</td>\n",
       "      <td>0.562314</td>\n",
       "      <td>1.101837</td>\n",
       "      <td>7</td>\n",
       "      <td>0</td>\n",
       "      <td>Dtdh</td>\n",
       "    </tr>\n",
       "    <tr>\n",
       "      <th>7_0_TA1_C_asdT_000_D000_I_24_M1</th>\n",
       "      <td>0.070000</td>\n",
       "      <td>0.240000</td>\n",
       "      <td>3.66</td>\n",
       "      <td>1.10750</td>\n",
       "      <td>0.067100</td>\n",
       "      <td>0.240595</td>\n",
       "      <td>1.043219</td>\n",
       "      <td>0.997526</td>\n",
       "      <td>7</td>\n",
       "      <td>0</td>\n",
       "      <td>D000</td>\n",
       "    </tr>\n",
       "    <tr>\n",
       "      <th>7_0_TA1_C_asdT_aspC_Dtdh_I_24_M1</th>\n",
       "      <td>0.000000</td>\n",
       "      <td>0.012358</td>\n",
       "      <td>6.49</td>\n",
       "      <td>2.06550</td>\n",
       "      <td>0.118983</td>\n",
       "      <td>0.253049</td>\n",
       "      <td>0.000000</td>\n",
       "      <td>0.048837</td>\n",
       "      <td>7</td>\n",
       "      <td>aspC</td>\n",
       "      <td>Dtdh</td>\n",
       "    </tr>\n",
       "    <tr>\n",
       "      <th>7_0_TA1_C_asdT_pntAB_Dtdh_I_24_M1</th>\n",
       "      <td>0.049812</td>\n",
       "      <td>0.284558</td>\n",
       "      <td>7.04</td>\n",
       "      <td>2.46675</td>\n",
       "      <td>0.129067</td>\n",
       "      <td>0.278597</td>\n",
       "      <td>0.385939</td>\n",
       "      <td>1.021397</td>\n",
       "      <td>7</td>\n",
       "      <td>pntAB</td>\n",
       "      <td>Dtdh</td>\n",
       "    </tr>\n",
       "  </tbody>\n",
       "</table>\n",
       "<p>107 rows × 11 columns</p>\n",
       "</div>"
      ],
      "text/plain": [
       "                                       pred growth  pred thr  \\\n",
       "sample                                                         \n",
       "7_0_TA1_C_asdO_aspC_DlysC_I_24_M1         0.073206  0.180033   \n",
       "7_0_TA1_C_asdO_aspC_DptsG_I_24_M1         0.000000  0.004321   \n",
       "7_0_TA1_C_asdO_aceBA_DptsG_I_24_M1        0.057333  0.151927   \n",
       "7_0_TA1_C_asdO_zwf_DptsG_I_24_M1          0.038442  0.157102   \n",
       "7_0_TA1_C_asdO_rhtA_DtdhDrhtA_I_24_M1     0.062129  0.136026   \n",
       "...                                            ...       ...   \n",
       "7_0_TA1_C_asdT_pntAB_D000_I_24_M1         0.049985  0.301082   \n",
       "7_0_TA1_C_asdT_000_Dtdh_I_24_M1           0.069999  0.239985   \n",
       "7_0_TA1_C_asdT_000_D000_I_24_M1           0.070000  0.240000   \n",
       "7_0_TA1_C_asdT_aspC_Dtdh_I_24_M1          0.000000  0.012358   \n",
       "7_0_TA1_C_asdT_pntAB_Dtdh_I_24_M1         0.049812  0.284558   \n",
       "\n",
       "                                       production growth  production thr  \\\n",
       "sample                                                                     \n",
       "7_0_TA1_C_asdO_aspC_DlysC_I_24_M1                   0.08         0.00000   \n",
       "7_0_TA1_C_asdO_aspC_DptsG_I_24_M1                   0.45         0.00000   \n",
       "7_0_TA1_C_asdO_aceBA_DptsG_I_24_M1                  1.03         0.00000   \n",
       "7_0_TA1_C_asdO_zwf_DptsG_I_24_M1                    5.22         0.00000   \n",
       "7_0_TA1_C_asdO_rhtA_DtdhDrhtA_I_24_M1               5.75         0.00000   \n",
       "...                                                  ...             ...   \n",
       "7_0_TA1_C_asdT_pntAB_D000_I_24_M1                   3.83         1.04675   \n",
       "7_0_TA1_C_asdT_000_Dtdh_I_24_M1                     6.79         1.86000   \n",
       "7_0_TA1_C_asdT_000_D000_I_24_M1                     3.66         1.10750   \n",
       "7_0_TA1_C_asdT_aspC_Dtdh_I_24_M1                    6.49         2.06550   \n",
       "7_0_TA1_C_asdT_pntAB_Dtdh_I_24_M1                   7.04         2.46675   \n",
       "\n",
       "                                       actual growth  actual thr  \\\n",
       "sample                                                             \n",
       "7_0_TA1_C_asdO_aspC_DlysC_I_24_M1           0.001467    0.000000   \n",
       "7_0_TA1_C_asdO_aspC_DptsG_I_24_M1           0.008250    0.000000   \n",
       "7_0_TA1_C_asdO_aceBA_DptsG_I_24_M1          0.018883    0.000000   \n",
       "7_0_TA1_C_asdO_zwf_DptsG_I_24_M1            0.095700    0.000000   \n",
       "7_0_TA1_C_asdO_rhtA_DtdhDrhtA_I_24_M1       0.105417    0.000000   \n",
       "...                                              ...         ...   \n",
       "7_0_TA1_C_asdT_pntAB_D000_I_24_M1           0.070217    0.217304   \n",
       "7_0_TA1_C_asdT_000_Dtdh_I_24_M1             0.124483    0.217805   \n",
       "7_0_TA1_C_asdT_000_D000_I_24_M1             0.067100    0.240595   \n",
       "7_0_TA1_C_asdT_aspC_Dtdh_I_24_M1            0.118983    0.253049   \n",
       "7_0_TA1_C_asdT_pntAB_Dtdh_I_24_M1           0.129067    0.278597   \n",
       "\n",
       "                                       ratio growth  ratio thr  strain    add  \\\n",
       "sample                                                                          \n",
       "7_0_TA1_C_asdO_aspC_DlysC_I_24_M1         49.913237        inf       7   aspC   \n",
       "7_0_TA1_C_asdO_aspC_DptsG_I_24_M1          0.000000        inf       7   aspC   \n",
       "7_0_TA1_C_asdO_aceBA_DptsG_I_24_M1         3.036175        inf       7  aceBA   \n",
       "7_0_TA1_C_asdO_zwf_DptsG_I_24_M1           0.401688        inf       7    zwf   \n",
       "7_0_TA1_C_asdO_rhtA_DtdhDrhtA_I_24_M1      0.589365        inf       7   rhtA   \n",
       "...                                             ...        ...     ...    ...   \n",
       "7_0_TA1_C_asdT_pntAB_D000_I_24_M1          0.711865   1.385531       7  pntAB   \n",
       "7_0_TA1_C_asdT_000_Dtdh_I_24_M1            0.562314   1.101837       7      0   \n",
       "7_0_TA1_C_asdT_000_D000_I_24_M1            1.043219   0.997526       7      0   \n",
       "7_0_TA1_C_asdT_aspC_Dtdh_I_24_M1           0.000000   0.048837       7   aspC   \n",
       "7_0_TA1_C_asdT_pntAB_Dtdh_I_24_M1          0.385939   1.021397       7  pntAB   \n",
       "\n",
       "                                          delete  \n",
       "sample                                            \n",
       "7_0_TA1_C_asdO_aspC_DlysC_I_24_M1          DlysC  \n",
       "7_0_TA1_C_asdO_aspC_DptsG_I_24_M1          DptsG  \n",
       "7_0_TA1_C_asdO_aceBA_DptsG_I_24_M1         DptsG  \n",
       "7_0_TA1_C_asdO_zwf_DptsG_I_24_M1           DptsG  \n",
       "7_0_TA1_C_asdO_rhtA_DtdhDrhtA_I_24_M1  DtdhDrhtA  \n",
       "...                                          ...  \n",
       "7_0_TA1_C_asdT_pntAB_D000_I_24_M1           D000  \n",
       "7_0_TA1_C_asdT_000_Dtdh_I_24_M1             Dtdh  \n",
       "7_0_TA1_C_asdT_000_D000_I_24_M1             D000  \n",
       "7_0_TA1_C_asdT_aspC_Dtdh_I_24_M1            Dtdh  \n",
       "7_0_TA1_C_asdT_pntAB_Dtdh_I_24_M1           Dtdh  \n",
       "\n",
       "[107 rows x 11 columns]"
      ]
     },
     "execution_count": 2,
     "metadata": {},
     "output_type": "execute_result"
    }
   ],
   "source": [
    "df=pd.read_csv('eachgene_r2.txt',delimiter='\\t')\n",
    "df.set_index(\"sample\",inplace=True)\n",
    "df"
   ]
  },
  {
   "cell_type": "code",
   "execution_count": 29,
   "metadata": {},
   "outputs": [],
   "source": [
    "gene_list=(\n",
    " 'lysA',\n",
    " 'rhtA',\n",
    " 'ptsG',\n",
    " 'lysC',\n",
    " 'pyc',\n",
    " 'ppc',\n",
    " 'zwf',\n",
    " 'pntAB',\n",
    " 'aceBA', \n",
    " 'aspC',\n",
    " 'tdh',\n",
    " 'dhaM'\n",
    ")"
   ]
  },
  {
   "cell_type": "code",
   "execution_count": 39,
   "metadata": {},
   "outputs": [
    {
     "data": {
      "image/png": "[encoded data removed]",
      "text/plain": [
       "<Figure size 432x288 with 1 Axes>"
      ]
     },
     "metadata": {
      "needs_background": "light"
     },
     "output_type": "display_data"
    },
    {
     "data": {
      "image/png": "[encoded data removed]",
      "text/plain": [
       "<Figure size 432x288 with 1 Axes>"
      ]
     },
     "metadata": {
      "needs_background": "light"
     },
     "output_type": "display_data"
    },
    {
     "name": "stdout",
     "output_type": "stream",
     "text": [
      "lysA -0.07605989513872013 -21.62791317209895 11\n"
     ]
    },
    {
     "data": {
      "image/png": "[encoded data removed]",
      "text/plain": [
       "<Figure size 432x288 with 1 Axes>"
      ]
     },
     "metadata": {
      "needs_background": "light"
     },
     "output_type": "display_data"
    },
    {
     "data": {
      "image/png": "[encoded data removed]",
      "text/plain": [
       "<Figure size 432x288 with 1 Axes>"
      ]
     },
     "metadata": {
      "needs_background": "light"
     },
     "output_type": "display_data"
    },
    {
     "name": "stdout",
     "output_type": "stream",
     "text": [
      "rhtA -0.7964570644811746 -10.552928533384032 33\n"
     ]
    },
    {
     "data": {
      "image/png": "[encoded data removed]",
      "text/plain": [
       "<Figure size 432x288 with 1 Axes>"
      ]
     },
     "metadata": {
      "needs_background": "light"
     },
     "output_type": "display_data"
    },
    {
     "data": {
      "image/png": "[encoded data removed]",
      "text/plain": [
       "<Figure size 432x288 with 1 Axes>"
      ]
     },
     "metadata": {
      "needs_background": "light"
     },
     "output_type": "display_data"
    },
    {
     "name": "stdout",
     "output_type": "stream",
     "text": [
      "ptsG 0.11416276830085093 -121.59611702664263 16\n"
     ]
    },
    {
     "data": {
      "image/png": "[encoded data removed]",
      "text/plain": [
       "<Figure size 432x288 with 1 Axes>"
      ]
     },
     "metadata": {
      "needs_background": "light"
     },
     "output_type": "display_data"
    },
    {
     "data": {
      "image/png": "[encoded data removed]",
      "text/plain": [
       "<Figure size 432x288 with 1 Axes>"
      ]
     },
     "metadata": {
      "needs_background": "light"
     },
     "output_type": "display_data"
    },
    {
     "name": "stdout",
     "output_type": "stream",
     "text": [
      "lysC 0.12185856485101365 -8.612761093866103 14\n"
     ]
    },
    {
     "data": {
      "image/png": "[encoded data removed]",
      "text/plain": [
       "<Figure size 432x288 with 1 Axes>"
      ]
     },
     "metadata": {
      "needs_background": "light"
     },
     "output_type": "display_data"
    },
    {
     "data": {
      "image/png": "[encoded data removed]",
      "text/plain": [
       "<Figure size 432x288 with 1 Axes>"
      ]
     },
     "metadata": {
      "needs_background": "light"
     },
     "output_type": "display_data"
    },
    {
     "name": "stdout",
     "output_type": "stream",
     "text": [
      "pyc -4.0337519533399115 -7.442677102883566 13\n"
     ]
    },
    {
     "data": {
      "image/png": "[encoded data removed]",
      "text/plain": [
       "<Figure size 432x288 with 1 Axes>"
      ]
     },
     "metadata": {
      "needs_background": "light"
     },
     "output_type": "display_data"
    },
    {
     "data": {
      "image/png": "[encoded data removed]",
      "text/plain": [
       "<Figure size 432x288 with 1 Axes>"
      ]
     },
     "metadata": {
      "needs_background": "light"
     },
     "output_type": "display_data"
    },
    {
     "name": "stdout",
     "output_type": "stream",
     "text": [
      "ppc -0.4874335528907463 -5.3376966183261505 12\n"
     ]
    },
    {
     "data": {
      "image/png": "[encoded data removed]",
      "text/plain": [
       "<Figure size 432x288 with 1 Axes>"
      ]
     },
     "metadata": {
      "needs_background": "light"
     },
     "output_type": "display_data"
    },
    {
     "data": {
      "image/png": "[encoded data removed]",
      "text/plain": [
       "<Figure size 432x288 with 1 Axes>"
      ]
     },
     "metadata": {
      "needs_background": "light"
     },
     "output_type": "display_data"
    },
    {
     "name": "stdout",
     "output_type": "stream",
     "text": [
      "zwf -15.83293796206626 -111.21383050200161 13\n"
     ]
    },
    {
     "data": {
      "image/png": "[encoded data removed]",
      "text/plain": [
       "<Figure size 432x288 with 1 Axes>"
      ]
     },
     "metadata": {
      "needs_background": "light"
     },
     "output_type": "display_data"
    },
    {
     "data": {
      "image/png": "[encoded data removed]",
      "text/plain": [
       "<Figure size 432x288 with 1 Axes>"
      ]
     },
     "metadata": {
      "needs_background": "light"
     },
     "output_type": "display_data"
    },
    {
     "name": "stdout",
     "output_type": "stream",
     "text": [
      "pntAB -0.02909933493561412 -2.7628107352759512 15\n"
     ]
    },
    {
     "data": {
      "image/png": "[encoded data removed]",
      "text/plain": [
       "<Figure size 432x288 with 1 Axes>"
      ]
     },
     "metadata": {
      "needs_background": "light"
     },
     "output_type": "display_data"
    },
    {
     "data": {
      "image/png": "[encoded data removed]",
      "text/plain": [
       "<Figure size 432x288 with 1 Axes>"
      ]
     },
     "metadata": {
      "needs_background": "light"
     },
     "output_type": "display_data"
    },
    {
     "name": "stdout",
     "output_type": "stream",
     "text": [
      "aceBA 0.016955223427958965 -28.770152669845643 13\n"
     ]
    },
    {
     "data": {
      "image/png": "[encoded data removed]",
      "text/plain": [
       "<Figure size 432x288 with 1 Axes>"
      ]
     },
     "metadata": {
      "needs_background": "light"
     },
     "output_type": "display_data"
    },
    {
     "data": {
      "image/png": "[encoded data removed]",
      "text/plain": [
       "<Figure size 432x288 with 1 Axes>"
      ]
     },
     "metadata": {
      "needs_background": "light"
     },
     "output_type": "display_data"
    },
    {
     "name": "stdout",
     "output_type": "stream",
     "text": [
      "aspC -0.4741999489561959 -5.104146132223925 16\n"
     ]
    },
    {
     "data": {
      "image/png": "[encoded data removed]",
      "text/plain": [
       "<Figure size 432x288 with 1 Axes>"
      ]
     },
     "metadata": {
      "needs_background": "light"
     },
     "output_type": "display_data"
    },
    {
     "data": {
      "image/png": "[encoded data removed]",
      "text/plain": [
       "<Figure size 432x288 with 1 Axes>"
      ]
     },
     "metadata": {
      "needs_background": "light"
     },
     "output_type": "display_data"
    },
    {
     "name": "stdout",
     "output_type": "stream",
     "text": [
      "tdh -0.467331675949308 -3.266351455229475 25\n"
     ]
    },
    {
     "data": {
      "image/png": "[encoded data removed]",
      "text/plain": [
       "<Figure size 432x288 with 1 Axes>"
      ]
     },
     "metadata": {
      "needs_background": "light"
     },
     "output_type": "display_data"
    },
    {
     "data": {
      "image/png": "[encoded data removed]",
      "text/plain": [
       "<Figure size 432x288 with 1 Axes>"
      ]
     },
     "metadata": {
      "needs_background": "light"
     },
     "output_type": "display_data"
    },
    {
     "name": "stdout",
     "output_type": "stream",
     "text": [
      "dhaM -2.977146271155564 -3.2099245817621247 13\n"
     ]
    }
   ],
   "source": [
    "for gene in gene_list:\n",
    "    growth_pred=[]\n",
    "    growth_true=[]\n",
    "    thr_pred=[]\n",
    "    thr_true=[]\n",
    "    for sample in df.index:\n",
    "        if gene in sample:\n",
    "            growth_pred.append(df.loc[sample,'pred growth'])\n",
    "            growth_true.append(df.loc[sample,'actual growth'])\n",
    "            thr_pred.append(df.loc[sample,'pred thr'])\n",
    "            thr_true.append(df.loc[sample,'actual thr'])\n",
    "\n",
    "    growth_r2= r2_score(growth_true,growth_pred)\n",
    "    thr_r2= r2_score(thr_true,thr_pred)\n",
    "    plt.figure()\n",
    "    plt.plot(growth_pred,growth_true, 'ro')\n",
    "    plt.show()\n",
    "    plt.figure()\n",
    "    plt.plot(thr_pred,thr_true, 'ro')\n",
    "    plt.show()\n",
    "    print (gene, growth_r2,thr_r2, len(growth_true))\n"
   ]
  },
  {
   "cell_type": "code",
   "execution_count": 53,
   "metadata": {},
   "outputs": [
    {
     "data": {
      "text/html": [
       "<div>\n",
       "<style scoped>\n",
       "    .dataframe tbody tr th:only-of-type {\n",
       "        vertical-align: middle;\n",
       "    }\n",
       "\n",
       "    .dataframe tbody tr th {\n",
       "        vertical-align: top;\n",
       "    }\n",
       "\n",
       "    .dataframe thead th {\n",
       "        text-align: right;\n",
       "    }\n",
       "</style>\n",
       "<table border=\"1\" class=\"dataframe\">\n",
       "  <thead>\n",
       "    <tr style=\"text-align: right;\">\n",
       "      <th></th>\n",
       "      <th>pred growth</th>\n",
       "      <th>pred thr</th>\n",
       "      <th>production growth</th>\n",
       "      <th>production thr</th>\n",
       "      <th>actual growth</th>\n",
       "      <th>actual thr</th>\n",
       "      <th>ratio growth</th>\n",
       "      <th>ratio thr</th>\n",
       "      <th>strain</th>\n",
       "      <th>add</th>\n",
       "      <th>delete</th>\n",
       "    </tr>\n",
       "    <tr>\n",
       "      <th>sample</th>\n",
       "      <th></th>\n",
       "      <th></th>\n",
       "      <th></th>\n",
       "      <th></th>\n",
       "      <th></th>\n",
       "      <th></th>\n",
       "      <th></th>\n",
       "      <th></th>\n",
       "      <th></th>\n",
       "      <th></th>\n",
       "      <th></th>\n",
       "    </tr>\n",
       "  </thead>\n",
       "  <tbody>\n",
       "    <tr>\n",
       "      <th>7_0_TA1_C_asdO_aspC_DlysC_I_24_M1</th>\n",
       "      <td>0.073206</td>\n",
       "      <td>0.180033</td>\n",
       "      <td>0.08</td>\n",
       "      <td>0.00000</td>\n",
       "      <td>0.001467</td>\n",
       "      <td>0.000000</td>\n",
       "      <td>49.913237</td>\n",
       "      <td>inf</td>\n",
       "      <td>7</td>\n",
       "      <td>aspC</td>\n",
       "      <td>DlysC</td>\n",
       "    </tr>\n",
       "    <tr>\n",
       "      <th>7_0_TA1_C_asdO_pyc_DlysC_I_24_M1</th>\n",
       "      <td>0.079864</td>\n",
       "      <td>0.125664</td>\n",
       "      <td>7.68</td>\n",
       "      <td>0.00200</td>\n",
       "      <td>0.140800</td>\n",
       "      <td>0.000207</td>\n",
       "      <td>0.567217</td>\n",
       "      <td>606.902208</td>\n",
       "      <td>7</td>\n",
       "      <td>pyc</td>\n",
       "      <td>DlysC</td>\n",
       "    </tr>\n",
       "    <tr>\n",
       "      <th>7_0_TA1_C_asdO_ppc_D000_I_24_M1</th>\n",
       "      <td>0.050405</td>\n",
       "      <td>0.174495</td>\n",
       "      <td>1.71</td>\n",
       "      <td>0.05775</td>\n",
       "      <td>0.031350</td>\n",
       "      <td>0.026852</td>\n",
       "      <td>1.607815</td>\n",
       "      <td>6.498353</td>\n",
       "      <td>7</td>\n",
       "      <td>ppc</td>\n",
       "      <td>D000</td>\n",
       "    </tr>\n",
       "    <tr>\n",
       "      <th>7_0_TA1_C_asdO_000_DlysC_I_24_M1</th>\n",
       "      <td>0.062313</td>\n",
       "      <td>0.130425</td>\n",
       "      <td>7.65</td>\n",
       "      <td>0.26700</td>\n",
       "      <td>0.140250</td>\n",
       "      <td>0.027751</td>\n",
       "      <td>0.444301</td>\n",
       "      <td>4.699879</td>\n",
       "      <td>7</td>\n",
       "      <td>0</td>\n",
       "      <td>DlysC</td>\n",
       "    </tr>\n",
       "    <tr>\n",
       "      <th>7_0_TA1_C_asdO_pyc_D000_I_24_M1</th>\n",
       "      <td>0.078174</td>\n",
       "      <td>0.164872</td>\n",
       "      <td>4.69</td>\n",
       "      <td>0.19950</td>\n",
       "      <td>0.085983</td>\n",
       "      <td>0.033822</td>\n",
       "      <td>0.909174</td>\n",
       "      <td>4.874751</td>\n",
       "      <td>7</td>\n",
       "      <td>pyc</td>\n",
       "      <td>D000</td>\n",
       "    </tr>\n",
       "    <tr>\n",
       "      <th>7_0_TA1_C_asdO_pntAB_DlysC_I_24_M1</th>\n",
       "      <td>0.062070</td>\n",
       "      <td>0.130565</td>\n",
       "      <td>0.08</td>\n",
       "      <td>0.00725</td>\n",
       "      <td>0.001467</td>\n",
       "      <td>0.072056</td>\n",
       "      <td>42.320348</td>\n",
       "      <td>1.811978</td>\n",
       "      <td>7</td>\n",
       "      <td>pntAB</td>\n",
       "      <td>DlysC</td>\n",
       "    </tr>\n",
       "    <tr>\n",
       "      <th>7_0_TA1_C_asdO_pyc_DdhaM_I_24_M1</th>\n",
       "      <td>0.078035</td>\n",
       "      <td>0.168470</td>\n",
       "      <td>7.98</td>\n",
       "      <td>0.97400</td>\n",
       "      <td>0.146300</td>\n",
       "      <td>0.097047</td>\n",
       "      <td>0.533387</td>\n",
       "      <td>1.735966</td>\n",
       "      <td>7</td>\n",
       "      <td>pyc</td>\n",
       "      <td>DdhaM</td>\n",
       "    </tr>\n",
       "    <tr>\n",
       "      <th>7_0_TA1_C_asdO_aspC_DdhaM_I_24_M1</th>\n",
       "      <td>0.066775</td>\n",
       "      <td>0.258573</td>\n",
       "      <td>6.24</td>\n",
       "      <td>1.02050</td>\n",
       "      <td>0.114400</td>\n",
       "      <td>0.130033</td>\n",
       "      <td>0.583695</td>\n",
       "      <td>1.988526</td>\n",
       "      <td>7</td>\n",
       "      <td>aspC</td>\n",
       "      <td>DdhaM</td>\n",
       "    </tr>\n",
       "    <tr>\n",
       "      <th>7_0_TA1_C_asdO_000_DdhaM_I_24_M1</th>\n",
       "      <td>0.057288</td>\n",
       "      <td>0.153436</td>\n",
       "      <td>7.21</td>\n",
       "      <td>1.29850</td>\n",
       "      <td>0.132183</td>\n",
       "      <td>0.143196</td>\n",
       "      <td>0.433401</td>\n",
       "      <td>1.071512</td>\n",
       "      <td>7</td>\n",
       "      <td>0</td>\n",
       "      <td>DdhaM</td>\n",
       "    </tr>\n",
       "    <tr>\n",
       "      <th>7_0_TA1_C_asdO_pntAB_D000_I_24_M1</th>\n",
       "      <td>0.059948</td>\n",
       "      <td>0.159294</td>\n",
       "      <td>2.86</td>\n",
       "      <td>0.52675</td>\n",
       "      <td>0.052433</td>\n",
       "      <td>0.146441</td>\n",
       "      <td>1.143309</td>\n",
       "      <td>1.087771</td>\n",
       "      <td>7</td>\n",
       "      <td>pntAB</td>\n",
       "      <td>D000</td>\n",
       "    </tr>\n",
       "    <tr>\n",
       "      <th>7_0_TA1_C_asdO_ppc_DdhaM_I_24_M1</th>\n",
       "      <td>0.049261</td>\n",
       "      <td>0.175572</td>\n",
       "      <td>6.99</td>\n",
       "      <td>1.32825</td>\n",
       "      <td>0.128150</td>\n",
       "      <td>0.151087</td>\n",
       "      <td>0.384400</td>\n",
       "      <td>1.162059</td>\n",
       "      <td>7</td>\n",
       "      <td>ppc</td>\n",
       "      <td>DdhaM</td>\n",
       "    </tr>\n",
       "    <tr>\n",
       "      <th>7_0_TA1_C_asdO_aspC_D000_I_24_M1</th>\n",
       "      <td>0.047494</td>\n",
       "      <td>0.011708</td>\n",
       "      <td>2.38</td>\n",
       "      <td>0.45925</td>\n",
       "      <td>0.043633</td>\n",
       "      <td>0.153425</td>\n",
       "      <td>1.088486</td>\n",
       "      <td>0.076308</td>\n",
       "      <td>7</td>\n",
       "      <td>aspC</td>\n",
       "      <td>D000</td>\n",
       "    </tr>\n",
       "    <tr>\n",
       "      <th>7_0_TA1_C_asdO_000_D000_I_24_M1</th>\n",
       "      <td>0.060000</td>\n",
       "      <td>0.150000</td>\n",
       "      <td>3.16</td>\n",
       "      <td>0.61175</td>\n",
       "      <td>0.057933</td>\n",
       "      <td>0.153926</td>\n",
       "      <td>1.035673</td>\n",
       "      <td>0.974496</td>\n",
       "      <td>7</td>\n",
       "      <td>0</td>\n",
       "      <td>D000</td>\n",
       "    </tr>\n",
       "    <tr>\n",
       "      <th>7_0_TA1_C_asdO_pntAB_DdhaM_I_24_M1</th>\n",
       "      <td>0.057313</td>\n",
       "      <td>0.162553</td>\n",
       "      <td>6.41</td>\n",
       "      <td>1.30800</td>\n",
       "      <td>0.117517</td>\n",
       "      <td>0.162246</td>\n",
       "      <td>0.487701</td>\n",
       "      <td>1.001890</td>\n",
       "      <td>7</td>\n",
       "      <td>pntAB</td>\n",
       "      <td>DdhaM</td>\n",
       "    </tr>\n",
       "    <tr>\n",
       "      <th>7_0_TA1_C_asdO_pyc_Dtdh_I_24_M1</th>\n",
       "      <td>0.078174</td>\n",
       "      <td>0.164872</td>\n",
       "      <td>6.50</td>\n",
       "      <td>2.12325</td>\n",
       "      <td>0.119167</td>\n",
       "      <td>0.259724</td>\n",
       "      <td>0.656004</td>\n",
       "      <td>0.634797</td>\n",
       "      <td>7</td>\n",
       "      <td>pyc</td>\n",
       "      <td>Dtdh</td>\n",
       "    </tr>\n",
       "    <tr>\n",
       "      <th>7_0_TA1_C_asdO_000_Dtdh_I_24_M1</th>\n",
       "      <td>0.060000</td>\n",
       "      <td>0.150000</td>\n",
       "      <td>6.47</td>\n",
       "      <td>2.11400</td>\n",
       "      <td>0.118617</td>\n",
       "      <td>0.259792</td>\n",
       "      <td>0.505831</td>\n",
       "      <td>0.577386</td>\n",
       "      <td>7</td>\n",
       "      <td>0</td>\n",
       "      <td>Dtdh</td>\n",
       "    </tr>\n",
       "    <tr>\n",
       "      <th>7_0_TA1_C_asdO_aspC_Dtdh_I_24_M1</th>\n",
       "      <td>0.047494</td>\n",
       "      <td>0.011708</td>\n",
       "      <td>6.47</td>\n",
       "      <td>2.17600</td>\n",
       "      <td>0.118617</td>\n",
       "      <td>0.267411</td>\n",
       "      <td>0.400401</td>\n",
       "      <td>0.043781</td>\n",
       "      <td>7</td>\n",
       "      <td>aspC</td>\n",
       "      <td>Dtdh</td>\n",
       "    </tr>\n",
       "    <tr>\n",
       "      <th>7_0_TA1_C_asdO_pntAB_Dtdh_I_24_M1</th>\n",
       "      <td>0.059948</td>\n",
       "      <td>0.159294</td>\n",
       "      <td>6.50</td>\n",
       "      <td>2.35475</td>\n",
       "      <td>0.119167</td>\n",
       "      <td>0.288042</td>\n",
       "      <td>0.503056</td>\n",
       "      <td>0.553025</td>\n",
       "      <td>7</td>\n",
       "      <td>pntAB</td>\n",
       "      <td>Dtdh</td>\n",
       "    </tr>\n",
       "    <tr>\n",
       "      <th>7_0_TA1_C_asdO_ppc_Dtdh_I_24_M1</th>\n",
       "      <td>0.050405</td>\n",
       "      <td>0.174495</td>\n",
       "      <td>6.73</td>\n",
       "      <td>2.47675</td>\n",
       "      <td>0.123383</td>\n",
       "      <td>0.292612</td>\n",
       "      <td>0.408524</td>\n",
       "      <td>0.596337</td>\n",
       "      <td>7</td>\n",
       "      <td>ppc</td>\n",
       "      <td>Dtdh</td>\n",
       "    </tr>\n",
       "    <tr>\n",
       "      <th>7_0_TA1_C_asdT_ppc_DlysC_I_24_M1</th>\n",
       "      <td>0.000000</td>\n",
       "      <td>0.133498</td>\n",
       "      <td>0.64</td>\n",
       "      <td>0.00000</td>\n",
       "      <td>0.011733</td>\n",
       "      <td>0.000000</td>\n",
       "      <td>0.000000</td>\n",
       "      <td>inf</td>\n",
       "      <td>7</td>\n",
       "      <td>ppc</td>\n",
       "      <td>DlysC</td>\n",
       "    </tr>\n",
       "    <tr>\n",
       "      <th>7_0_TA1_C_asdT_aspC_DlysC_I_24_M1</th>\n",
       "      <td>0.011512</td>\n",
       "      <td>0.210208</td>\n",
       "      <td>0.10</td>\n",
       "      <td>0.00000</td>\n",
       "      <td>0.001833</td>\n",
       "      <td>0.000000</td>\n",
       "      <td>6.279344</td>\n",
       "      <td>inf</td>\n",
       "      <td>7</td>\n",
       "      <td>aspC</td>\n",
       "      <td>DlysC</td>\n",
       "    </tr>\n",
       "    <tr>\n",
       "      <th>7_0_TA1_C_asdT_pyc_DlysC_I_24_M1</th>\n",
       "      <td>0.052908</td>\n",
       "      <td>0.129023</td>\n",
       "      <td>7.71</td>\n",
       "      <td>0.00975</td>\n",
       "      <td>0.141350</td>\n",
       "      <td>0.001005</td>\n",
       "      <td>0.374304</td>\n",
       "      <td>128.319495</td>\n",
       "      <td>7</td>\n",
       "      <td>pyc</td>\n",
       "      <td>DlysC</td>\n",
       "    </tr>\n",
       "    <tr>\n",
       "      <th>7_0_TA1_C_asdT_ppc_DdhaM_I_24_M1</th>\n",
       "      <td>0.000000</td>\n",
       "      <td>0.282717</td>\n",
       "      <td>0.93</td>\n",
       "      <td>0.02200</td>\n",
       "      <td>0.017050</td>\n",
       "      <td>0.018809</td>\n",
       "      <td>0.000000</td>\n",
       "      <td>15.031024</td>\n",
       "      <td>7</td>\n",
       "      <td>ppc</td>\n",
       "      <td>DdhaM</td>\n",
       "    </tr>\n",
       "    <tr>\n",
       "      <th>7_0_TA1_C_asdT_pyc_Dtdh_I_24_M1</th>\n",
       "      <td>0.053125</td>\n",
       "      <td>0.254062</td>\n",
       "      <td>6.88</td>\n",
       "      <td>0.17850</td>\n",
       "      <td>0.126133</td>\n",
       "      <td>0.020629</td>\n",
       "      <td>0.421180</td>\n",
       "      <td>12.315868</td>\n",
       "      <td>7</td>\n",
       "      <td>pyc</td>\n",
       "      <td>Dtdh</td>\n",
       "    </tr>\n",
       "    <tr>\n",
       "      <th>7_0_TA1_C_asdT_ppc_D000_I_24_M1</th>\n",
       "      <td>0.000000</td>\n",
       "      <td>0.282717</td>\n",
       "      <td>2.45</td>\n",
       "      <td>0.09475</td>\n",
       "      <td>0.044917</td>\n",
       "      <td>0.030749</td>\n",
       "      <td>0.000000</td>\n",
       "      <td>9.194226</td>\n",
       "      <td>7</td>\n",
       "      <td>ppc</td>\n",
       "      <td>D000</td>\n",
       "    </tr>\n",
       "    <tr>\n",
       "      <th>7_0_TA1_C_asdT_pntAB_DlysC_I_24_M1</th>\n",
       "      <td>0.051382</td>\n",
       "      <td>0.152863</td>\n",
       "      <td>0.12</td>\n",
       "      <td>0.00675</td>\n",
       "      <td>0.002200</td>\n",
       "      <td>0.044725</td>\n",
       "      <td>23.355613</td>\n",
       "      <td>3.417871</td>\n",
       "      <td>7</td>\n",
       "      <td>pntAB</td>\n",
       "      <td>DlysC</td>\n",
       "    </tr>\n",
       "    <tr>\n",
       "      <th>7_0_TA1_C_asdT_pyc_D000_I_24_M1</th>\n",
       "      <td>0.053132</td>\n",
       "      <td>0.256276</td>\n",
       "      <td>5.86</td>\n",
       "      <td>0.51325</td>\n",
       "      <td>0.107433</td>\n",
       "      <td>0.069640</td>\n",
       "      <td>0.494557</td>\n",
       "      <td>3.680045</td>\n",
       "      <td>7</td>\n",
       "      <td>pyc</td>\n",
       "      <td>D000</td>\n",
       "    </tr>\n",
       "    <tr>\n",
       "      <th>7_0_TA1_C_asdT_aspC_D000_I_24_M1</th>\n",
       "      <td>0.000000</td>\n",
       "      <td>0.011408</td>\n",
       "      <td>3.26</td>\n",
       "      <td>0.51300</td>\n",
       "      <td>0.059767</td>\n",
       "      <td>0.125119</td>\n",
       "      <td>0.000000</td>\n",
       "      <td>0.091179</td>\n",
       "      <td>7</td>\n",
       "      <td>aspC</td>\n",
       "      <td>D000</td>\n",
       "    </tr>\n",
       "    <tr>\n",
       "      <th>7_0_TA1_C_asdT_000_DlysC_I_24_M1</th>\n",
       "      <td>0.066048</td>\n",
       "      <td>0.127834</td>\n",
       "      <td>5.71</td>\n",
       "      <td>1.03950</td>\n",
       "      <td>0.104683</td>\n",
       "      <td>0.144748</td>\n",
       "      <td>0.630936</td>\n",
       "      <td>0.883146</td>\n",
       "      <td>7</td>\n",
       "      <td>0</td>\n",
       "      <td>DlysC</td>\n",
       "    </tr>\n",
       "    <tr>\n",
       "      <th>7_0_TA1_C_asdT_pntAB_DdhaM_I_24_M1</th>\n",
       "      <td>0.049579</td>\n",
       "      <td>0.305289</td>\n",
       "      <td>6.29</td>\n",
       "      <td>1.42775</td>\n",
       "      <td>0.115317</td>\n",
       "      <td>0.180479</td>\n",
       "      <td>0.429937</td>\n",
       "      <td>1.691549</td>\n",
       "      <td>7</td>\n",
       "      <td>pntAB</td>\n",
       "      <td>DdhaM</td>\n",
       "    </tr>\n",
       "    <tr>\n",
       "      <th>7_0_TA1_C_asdT_aspC_DdhaM_I_24_M1</th>\n",
       "      <td>0.012406</td>\n",
       "      <td>0.362889</td>\n",
       "      <td>6.48</td>\n",
       "      <td>1.68375</td>\n",
       "      <td>0.118800</td>\n",
       "      <td>0.206598</td>\n",
       "      <td>0.104429</td>\n",
       "      <td>1.756496</td>\n",
       "      <td>7</td>\n",
       "      <td>aspC</td>\n",
       "      <td>DdhaM</td>\n",
       "    </tr>\n",
       "    <tr>\n",
       "      <th>7_0_TA1_C_asdT_pntAB_D000_I_24_M1</th>\n",
       "      <td>0.049985</td>\n",
       "      <td>0.301082</td>\n",
       "      <td>3.83</td>\n",
       "      <td>1.04675</td>\n",
       "      <td>0.070217</td>\n",
       "      <td>0.217304</td>\n",
       "      <td>0.711865</td>\n",
       "      <td>1.385531</td>\n",
       "      <td>7</td>\n",
       "      <td>pntAB</td>\n",
       "      <td>D000</td>\n",
       "    </tr>\n",
       "    <tr>\n",
       "      <th>7_0_TA1_C_asdT_000_Dtdh_I_24_M1</th>\n",
       "      <td>0.069999</td>\n",
       "      <td>0.239985</td>\n",
       "      <td>6.79</td>\n",
       "      <td>1.86000</td>\n",
       "      <td>0.124483</td>\n",
       "      <td>0.217805</td>\n",
       "      <td>0.562314</td>\n",
       "      <td>1.101837</td>\n",
       "      <td>7</td>\n",
       "      <td>0</td>\n",
       "      <td>Dtdh</td>\n",
       "    </tr>\n",
       "    <tr>\n",
       "      <th>7_0_TA1_C_asdT_000_D000_I_24_M1</th>\n",
       "      <td>0.070000</td>\n",
       "      <td>0.240000</td>\n",
       "      <td>3.66</td>\n",
       "      <td>1.10750</td>\n",
       "      <td>0.067100</td>\n",
       "      <td>0.240595</td>\n",
       "      <td>1.043219</td>\n",
       "      <td>0.997526</td>\n",
       "      <td>7</td>\n",
       "      <td>0</td>\n",
       "      <td>D000</td>\n",
       "    </tr>\n",
       "    <tr>\n",
       "      <th>7_0_TA1_C_asdT_aspC_Dtdh_I_24_M1</th>\n",
       "      <td>0.000000</td>\n",
       "      <td>0.012358</td>\n",
       "      <td>6.49</td>\n",
       "      <td>2.06550</td>\n",
       "      <td>0.118983</td>\n",
       "      <td>0.253049</td>\n",
       "      <td>0.000000</td>\n",
       "      <td>0.048837</td>\n",
       "      <td>7</td>\n",
       "      <td>aspC</td>\n",
       "      <td>Dtdh</td>\n",
       "    </tr>\n",
       "    <tr>\n",
       "      <th>7_0_TA1_C_asdT_pntAB_Dtdh_I_24_M1</th>\n",
       "      <td>0.049812</td>\n",
       "      <td>0.284558</td>\n",
       "      <td>7.04</td>\n",
       "      <td>2.46675</td>\n",
       "      <td>0.129067</td>\n",
       "      <td>0.278597</td>\n",
       "      <td>0.385939</td>\n",
       "      <td>1.021397</td>\n",
       "      <td>7</td>\n",
       "      <td>pntAB</td>\n",
       "      <td>Dtdh</td>\n",
       "    </tr>\n",
       "  </tbody>\n",
       "</table>\n",
       "</div>"
      ],
      "text/plain": [
       "                                    pred growth  pred thr  production growth  \\\n",
       "sample                                                                         \n",
       "7_0_TA1_C_asdO_aspC_DlysC_I_24_M1      0.073206  0.180033               0.08   \n",
       "7_0_TA1_C_asdO_pyc_DlysC_I_24_M1       0.079864  0.125664               7.68   \n",
       "7_0_TA1_C_asdO_ppc_D000_I_24_M1        0.050405  0.174495               1.71   \n",
       "7_0_TA1_C_asdO_000_DlysC_I_24_M1       0.062313  0.130425               7.65   \n",
       "7_0_TA1_C_asdO_pyc_D000_I_24_M1        0.078174  0.164872               4.69   \n",
       "7_0_TA1_C_asdO_pntAB_DlysC_I_24_M1     0.062070  0.130565               0.08   \n",
       "7_0_TA1_C_asdO_pyc_DdhaM_I_24_M1       0.078035  0.168470               7.98   \n",
       "7_0_TA1_C_asdO_aspC_DdhaM_I_24_M1      0.066775  0.258573               6.24   \n",
       "7_0_TA1_C_asdO_000_DdhaM_I_24_M1       0.057288  0.153436               7.21   \n",
       "7_0_TA1_C_asdO_pntAB_D000_I_24_M1      0.059948  0.159294               2.86   \n",
       "7_0_TA1_C_asdO_ppc_DdhaM_I_24_M1       0.049261  0.175572               6.99   \n",
       "7_0_TA1_C_asdO_aspC_D000_I_24_M1       0.047494  0.011708               2.38   \n",
       "7_0_TA1_C_asdO_000_D000_I_24_M1        0.060000  0.150000               3.16   \n",
       "7_0_TA1_C_asdO_pntAB_DdhaM_I_24_M1     0.057313  0.162553               6.41   \n",
       "7_0_TA1_C_asdO_pyc_Dtdh_I_24_M1        0.078174  0.164872               6.50   \n",
       "7_0_TA1_C_asdO_000_Dtdh_I_24_M1        0.060000  0.150000               6.47   \n",
       "7_0_TA1_C_asdO_aspC_Dtdh_I_24_M1       0.047494  0.011708               6.47   \n",
       "7_0_TA1_C_asdO_pntAB_Dtdh_I_24_M1      0.059948  0.159294               6.50   \n",
       "7_0_TA1_C_asdO_ppc_Dtdh_I_24_M1        0.050405  0.174495               6.73   \n",
       "7_0_TA1_C_asdT_ppc_DlysC_I_24_M1       0.000000  0.133498               0.64   \n",
       "7_0_TA1_C_asdT_aspC_DlysC_I_24_M1      0.011512  0.210208               0.10   \n",
       "7_0_TA1_C_asdT_pyc_DlysC_I_24_M1       0.052908  0.129023               7.71   \n",
       "7_0_TA1_C_asdT_ppc_DdhaM_I_24_M1       0.000000  0.282717               0.93   \n",
       "7_0_TA1_C_asdT_pyc_Dtdh_I_24_M1        0.053125  0.254062               6.88   \n",
       "7_0_TA1_C_asdT_ppc_D000_I_24_M1        0.000000  0.282717               2.45   \n",
       "7_0_TA1_C_asdT_pntAB_DlysC_I_24_M1     0.051382  0.152863               0.12   \n",
       "7_0_TA1_C_asdT_pyc_D000_I_24_M1        0.053132  0.256276               5.86   \n",
       "7_0_TA1_C_asdT_aspC_D000_I_24_M1       0.000000  0.011408               3.26   \n",
       "7_0_TA1_C_asdT_000_DlysC_I_24_M1       0.066048  0.127834               5.71   \n",
       "7_0_TA1_C_asdT_pntAB_DdhaM_I_24_M1     0.049579  0.305289               6.29   \n",
       "7_0_TA1_C_asdT_aspC_DdhaM_I_24_M1      0.012406  0.362889               6.48   \n",
       "7_0_TA1_C_asdT_pntAB_D000_I_24_M1      0.049985  0.301082               3.83   \n",
       "7_0_TA1_C_asdT_000_Dtdh_I_24_M1        0.069999  0.239985               6.79   \n",
       "7_0_TA1_C_asdT_000_D000_I_24_M1        0.070000  0.240000               3.66   \n",
       "7_0_TA1_C_asdT_aspC_Dtdh_I_24_M1       0.000000  0.012358               6.49   \n",
       "7_0_TA1_C_asdT_pntAB_Dtdh_I_24_M1      0.049812  0.284558               7.04   \n",
       "\n",
       "                                    production thr  actual growth  actual thr  \\\n",
       "sample                                                                          \n",
       "7_0_TA1_C_asdO_aspC_DlysC_I_24_M1          0.00000       0.001467    0.000000   \n",
       "7_0_TA1_C_asdO_pyc_DlysC_I_24_M1           0.00200       0.140800    0.000207   \n",
       "7_0_TA1_C_asdO_ppc_D000_I_24_M1            0.05775       0.031350    0.026852   \n",
       "7_0_TA1_C_asdO_000_DlysC_I_24_M1           0.26700       0.140250    0.027751   \n",
       "7_0_TA1_C_asdO_pyc_D000_I_24_M1            0.19950       0.085983    0.033822   \n",
       "7_0_TA1_C_asdO_pntAB_DlysC_I_24_M1         0.00725       0.001467    0.072056   \n",
       "7_0_TA1_C_asdO_pyc_DdhaM_I_24_M1           0.97400       0.146300    0.097047   \n",
       "7_0_TA1_C_asdO_aspC_DdhaM_I_24_M1          1.02050       0.114400    0.130033   \n",
       "7_0_TA1_C_asdO_000_DdhaM_I_24_M1           1.29850       0.132183    0.143196   \n",
       "7_0_TA1_C_asdO_pntAB_D000_I_24_M1          0.52675       0.052433    0.146441   \n",
       "7_0_TA1_C_asdO_ppc_DdhaM_I_24_M1           1.32825       0.128150    0.151087   \n",
       "7_0_TA1_C_asdO_aspC_D000_I_24_M1           0.45925       0.043633    0.153425   \n",
       "7_0_TA1_C_asdO_000_D000_I_24_M1            0.61175       0.057933    0.153926   \n",
       "7_0_TA1_C_asdO_pntAB_DdhaM_I_24_M1         1.30800       0.117517    0.162246   \n",
       "7_0_TA1_C_asdO_pyc_Dtdh_I_24_M1            2.12325       0.119167    0.259724   \n",
       "7_0_TA1_C_asdO_000_Dtdh_I_24_M1            2.11400       0.118617    0.259792   \n",
       "7_0_TA1_C_asdO_aspC_Dtdh_I_24_M1           2.17600       0.118617    0.267411   \n",
       "7_0_TA1_C_asdO_pntAB_Dtdh_I_24_M1          2.35475       0.119167    0.288042   \n",
       "7_0_TA1_C_asdO_ppc_Dtdh_I_24_M1            2.47675       0.123383    0.292612   \n",
       "7_0_TA1_C_asdT_ppc_DlysC_I_24_M1           0.00000       0.011733    0.000000   \n",
       "7_0_TA1_C_asdT_aspC_DlysC_I_24_M1          0.00000       0.001833    0.000000   \n",
       "7_0_TA1_C_asdT_pyc_DlysC_I_24_M1           0.00975       0.141350    0.001005   \n",
       "7_0_TA1_C_asdT_ppc_DdhaM_I_24_M1           0.02200       0.017050    0.018809   \n",
       "7_0_TA1_C_asdT_pyc_Dtdh_I_24_M1            0.17850       0.126133    0.020629   \n",
       "7_0_TA1_C_asdT_ppc_D000_I_24_M1            0.09475       0.044917    0.030749   \n",
       "7_0_TA1_C_asdT_pntAB_DlysC_I_24_M1         0.00675       0.002200    0.044725   \n",
       "7_0_TA1_C_asdT_pyc_D000_I_24_M1            0.51325       0.107433    0.069640   \n",
       "7_0_TA1_C_asdT_aspC_D000_I_24_M1           0.51300       0.059767    0.125119   \n",
       "7_0_TA1_C_asdT_000_DlysC_I_24_M1           1.03950       0.104683    0.144748   \n",
       "7_0_TA1_C_asdT_pntAB_DdhaM_I_24_M1         1.42775       0.115317    0.180479   \n",
       "7_0_TA1_C_asdT_aspC_DdhaM_I_24_M1          1.68375       0.118800    0.206598   \n",
       "7_0_TA1_C_asdT_pntAB_D000_I_24_M1          1.04675       0.070217    0.217304   \n",
       "7_0_TA1_C_asdT_000_Dtdh_I_24_M1            1.86000       0.124483    0.217805   \n",
       "7_0_TA1_C_asdT_000_D000_I_24_M1            1.10750       0.067100    0.240595   \n",
       "7_0_TA1_C_asdT_aspC_Dtdh_I_24_M1           2.06550       0.118983    0.253049   \n",
       "7_0_TA1_C_asdT_pntAB_Dtdh_I_24_M1          2.46675       0.129067    0.278597   \n",
       "\n",
       "                                    ratio growth   ratio thr  strain    add  \\\n",
       "sample                                                                        \n",
       "7_0_TA1_C_asdO_aspC_DlysC_I_24_M1      49.913237         inf       7   aspC   \n",
       "7_0_TA1_C_asdO_pyc_DlysC_I_24_M1        0.567217  606.902208       7    pyc   \n",
       "7_0_TA1_C_asdO_ppc_D000_I_24_M1         1.607815    6.498353       7    ppc   \n",
       "7_0_TA1_C_asdO_000_DlysC_I_24_M1        0.444301    4.699879       7      0   \n",
       "7_0_TA1_C_asdO_pyc_D000_I_24_M1         0.909174    4.874751       7    pyc   \n",
       "7_0_TA1_C_asdO_pntAB_DlysC_I_24_M1     42.320348    1.811978       7  pntAB   \n",
       "7_0_TA1_C_asdO_pyc_DdhaM_I_24_M1        0.533387    1.735966       7    pyc   \n",
       "7_0_TA1_C_asdO_aspC_DdhaM_I_24_M1       0.583695    1.988526       7   aspC   \n",
       "7_0_TA1_C_asdO_000_DdhaM_I_24_M1        0.433401    1.071512       7      0   \n",
       "7_0_TA1_C_asdO_pntAB_D000_I_24_M1       1.143309    1.087771       7  pntAB   \n",
       "7_0_TA1_C_asdO_ppc_DdhaM_I_24_M1        0.384400    1.162059       7    ppc   \n",
       "7_0_TA1_C_asdO_aspC_D000_I_24_M1        1.088486    0.076308       7   aspC   \n",
       "7_0_TA1_C_asdO_000_D000_I_24_M1         1.035673    0.974496       7      0   \n",
       "7_0_TA1_C_asdO_pntAB_DdhaM_I_24_M1      0.487701    1.001890       7  pntAB   \n",
       "7_0_TA1_C_asdO_pyc_Dtdh_I_24_M1         0.656004    0.634797       7    pyc   \n",
       "7_0_TA1_C_asdO_000_Dtdh_I_24_M1         0.505831    0.577386       7      0   \n",
       "7_0_TA1_C_asdO_aspC_Dtdh_I_24_M1        0.400401    0.043781       7   aspC   \n",
       "7_0_TA1_C_asdO_pntAB_Dtdh_I_24_M1       0.503056    0.553025       7  pntAB   \n",
       "7_0_TA1_C_asdO_ppc_Dtdh_I_24_M1         0.408524    0.596337       7    ppc   \n",
       "7_0_TA1_C_asdT_ppc_DlysC_I_24_M1        0.000000         inf       7    ppc   \n",
       "7_0_TA1_C_asdT_aspC_DlysC_I_24_M1       6.279344         inf       7   aspC   \n",
       "7_0_TA1_C_asdT_pyc_DlysC_I_24_M1        0.374304  128.319495       7    pyc   \n",
       "7_0_TA1_C_asdT_ppc_DdhaM_I_24_M1        0.000000   15.031024       7    ppc   \n",
       "7_0_TA1_C_asdT_pyc_Dtdh_I_24_M1         0.421180   12.315868       7    pyc   \n",
       "7_0_TA1_C_asdT_ppc_D000_I_24_M1         0.000000    9.194226       7    ppc   \n",
       "7_0_TA1_C_asdT_pntAB_DlysC_I_24_M1     23.355613    3.417871       7  pntAB   \n",
       "7_0_TA1_C_asdT_pyc_D000_I_24_M1         0.494557    3.680045       7    pyc   \n",
       "7_0_TA1_C_asdT_aspC_D000_I_24_M1        0.000000    0.091179       7   aspC   \n",
       "7_0_TA1_C_asdT_000_DlysC_I_24_M1        0.630936    0.883146       7      0   \n",
       "7_0_TA1_C_asdT_pntAB_DdhaM_I_24_M1      0.429937    1.691549       7  pntAB   \n",
       "7_0_TA1_C_asdT_aspC_DdhaM_I_24_M1       0.104429    1.756496       7   aspC   \n",
       "7_0_TA1_C_asdT_pntAB_D000_I_24_M1       0.711865    1.385531       7  pntAB   \n",
       "7_0_TA1_C_asdT_000_Dtdh_I_24_M1         0.562314    1.101837       7      0   \n",
       "7_0_TA1_C_asdT_000_D000_I_24_M1         1.043219    0.997526       7      0   \n",
       "7_0_TA1_C_asdT_aspC_Dtdh_I_24_M1        0.000000    0.048837       7   aspC   \n",
       "7_0_TA1_C_asdT_pntAB_Dtdh_I_24_M1       0.385939    1.021397       7  pntAB   \n",
       "\n",
       "                                   delete  \n",
       "sample                                     \n",
       "7_0_TA1_C_asdO_aspC_DlysC_I_24_M1   DlysC  \n",
       "7_0_TA1_C_asdO_pyc_DlysC_I_24_M1    DlysC  \n",
       "7_0_TA1_C_asdO_ppc_D000_I_24_M1      D000  \n",
       "7_0_TA1_C_asdO_000_DlysC_I_24_M1    DlysC  \n",
       "7_0_TA1_C_asdO_pyc_D000_I_24_M1      D000  \n",
       "7_0_TA1_C_asdO_pntAB_DlysC_I_24_M1  DlysC  \n",
       "7_0_TA1_C_asdO_pyc_DdhaM_I_24_M1    DdhaM  \n",
       "7_0_TA1_C_asdO_aspC_DdhaM_I_24_M1   DdhaM  \n",
       "7_0_TA1_C_asdO_000_DdhaM_I_24_M1    DdhaM  \n",
       "7_0_TA1_C_asdO_pntAB_D000_I_24_M1    D000  \n",
       "7_0_TA1_C_asdO_ppc_DdhaM_I_24_M1    DdhaM  \n",
       "7_0_TA1_C_asdO_aspC_D000_I_24_M1     D000  \n",
       "7_0_TA1_C_asdO_000_D000_I_24_M1      D000  \n",
       "7_0_TA1_C_asdO_pntAB_DdhaM_I_24_M1  DdhaM  \n",
       "7_0_TA1_C_asdO_pyc_Dtdh_I_24_M1      Dtdh  \n",
       "7_0_TA1_C_asdO_000_Dtdh_I_24_M1      Dtdh  \n",
       "7_0_TA1_C_asdO_aspC_Dtdh_I_24_M1     Dtdh  \n",
       "7_0_TA1_C_asdO_pntAB_Dtdh_I_24_M1    Dtdh  \n",
       "7_0_TA1_C_asdO_ppc_Dtdh_I_24_M1      Dtdh  \n",
       "7_0_TA1_C_asdT_ppc_DlysC_I_24_M1    DlysC  \n",
       "7_0_TA1_C_asdT_aspC_DlysC_I_24_M1   DlysC  \n",
       "7_0_TA1_C_asdT_pyc_DlysC_I_24_M1    DlysC  \n",
       "7_0_TA1_C_asdT_ppc_DdhaM_I_24_M1    DdhaM  \n",
       "7_0_TA1_C_asdT_pyc_Dtdh_I_24_M1      Dtdh  \n",
       "7_0_TA1_C_asdT_ppc_D000_I_24_M1      D000  \n",
       "7_0_TA1_C_asdT_pntAB_DlysC_I_24_M1  DlysC  \n",
       "7_0_TA1_C_asdT_pyc_D000_I_24_M1      D000  \n",
       "7_0_TA1_C_asdT_aspC_D000_I_24_M1     D000  \n",
       "7_0_TA1_C_asdT_000_DlysC_I_24_M1    DlysC  \n",
       "7_0_TA1_C_asdT_pntAB_DdhaM_I_24_M1  DdhaM  \n",
       "7_0_TA1_C_asdT_aspC_DdhaM_I_24_M1   DdhaM  \n",
       "7_0_TA1_C_asdT_pntAB_D000_I_24_M1    D000  \n",
       "7_0_TA1_C_asdT_000_Dtdh_I_24_M1      Dtdh  \n",
       "7_0_TA1_C_asdT_000_D000_I_24_M1      D000  \n",
       "7_0_TA1_C_asdT_aspC_Dtdh_I_24_M1     Dtdh  \n",
       "7_0_TA1_C_asdT_pntAB_Dtdh_I_24_M1    Dtdh  "
      ]
     },
     "execution_count": 53,
     "metadata": {},
     "output_type": "execute_result"
    }
   ],
   "source": [
    "for ind in df.index:\n",
    "    if \"zwf\" in ind or \"ptsG\" in ind or \"aceBA\" in ind or \"lysA\" in ind or \"rhtA\" in ind:\n",
    "        df.drop([ind], inplace=True)\n",
    "df"
   ]
  },
  {
   "cell_type": "code",
   "execution_count": 54,
   "metadata": {},
   "outputs": [
    {
     "name": "stdout",
     "output_type": "stream",
     "text": [
      "-0.5545136348516606\n"
     ]
    },
    {
     "data": {
      "image/png": "[encoded data removed]",
      "text/plain": [
       "<Figure size 432x288 with 1 Axes>"
      ]
     },
     "metadata": {
      "needs_background": "light"
     },
     "output_type": "display_data"
    }
   ],
   "source": [
    "y_pred= df[\"pred growth\"]\n",
    "y_true= df[\"actual growth\"]\n",
    "\n",
    "r2=r2_score(y_true,y_pred)\n",
    "print( r2)\n",
    "plt.figure()\n",
    "plt.plot(y_pred,y_true, 'ro')\n",
    "plt.show()"
   ]
  },
  {
   "cell_type": "code",
   "execution_count": 55,
   "metadata": {},
   "outputs": [
    {
     "name": "stdout",
     "output_type": "stream",
     "text": [
      "-1.0084165178047813\n"
     ]
    },
    {
     "data": {
      "image/png": "[encoded data removed]",
      "text/plain": [
       "<Figure size 432x288 with 1 Axes>"
      ]
     },
     "metadata": {
      "needs_background": "light"
     },
     "output_type": "display_data"
    }
   ],
   "source": [
    "y_pred= df[\"pred thr\"]\n",
    "y_true= df[\"actual thr\"]\n",
    "\n",
    "r2=r2_score(y_true,y_pred)\n",
    "print( r2)\n",
    "plt.figure()\n",
    "plt.plot(y_pred,y_true, 'ro')\n",
    "plt.show()"
   ]
  },
  {
   "cell_type": "code",
   "execution_count": null,
   "metadata": {},
   "outputs": [],
   "source": []
  }
 ],
 "metadata": {
  "kernelspec": {
   "display_name": "Python 3",
   "language": "python",
   "name": "python3"
  },
  "language_info": {
   "codemirror_mode": {
    "name": "ipython",
    "version": 3
   },
   "file_extension": ".py",
   "mimetype": "text/x-python",
   "name": "python",
   "nbconvert_exporter": "python",
   "pygments_lexer": "ipython3",
   "version": "3.7.6"
  }
 },
 "nbformat": 4,
 "nbformat_minor": 4
}
