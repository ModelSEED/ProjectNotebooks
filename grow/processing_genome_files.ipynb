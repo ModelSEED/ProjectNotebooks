{
 "cells": [
  {
   "cell_type": "code",
   "execution_count": 1,
   "id": "b6db7f3c-7674-4ec9-ace0-cfb7b9cf84dd",
   "metadata": {},
   "outputs": [],
   "source": [
    "from glob import glob\n",
    "import os\n",
    "\n",
    "for zipped in glob(r\"D:\\Users\\Andrew Freiburger\\Documents\\Argonne\\GROW\\OWC_MAGS\\*.gz\"):\n",
    "    os.remove(zipped)"
   ]
  },
  {
   "cell_type": "code",
   "execution_count": 11,
   "id": "11d757ce-3445-4085-84c4-1e0358c0fa28",
   "metadata": {},
   "outputs": [
    {
     "data": {
      "text/plain": [
       "'0054'"
      ]
     },
     "execution_count": 11,
     "metadata": {},
     "output_type": "execute_result"
    }
   ],
   "source": [
    "\"54\".rjust(4, \"0\")"
   ]
  },
  {
   "cell_type": "code",
   "execution_count": 7,
   "id": "4475bb0f-0ce1-4b1b-9728-7086f3e21534",
   "metadata": {},
   "outputs": [
    {
     "name": "stdout",
     "output_type": "stream",
     "text": [
      "D:\\Users\\Andrew Freiburger\\Documents\\Argonne\\GROW\\OWC_MAGS\\OWC_0098.fa\n",
      "D:\\Users\\Andrew Freiburger\\Documents\\Argonne\\GROW\\OWC_MAGS\\OWC_0099.fa\n"
     ]
    }
   ],
   "source": [
    "files = glob(r\"D:\\Users\\Andrew Freiburger\\Documents\\Argonne\\GROW\\OWC_MAGS\\*\")\n",
    "for i in range(2508):\n",
    "    file_path = rf\"D:\\Users\\Andrew Freiburger\\Documents\\Argonne\\GROW\\OWC_MAGS\\OWC_{i:04}.fa\"  # str(i).rjust(4, '0')\n",
    "    if file_path not in files:  print(file_path)"
   ]
  },
  {
   "cell_type": "code",
   "execution_count": 10,
   "id": "bf9658ed-513b-4301-9ed3-d8f144e54d8b",
   "metadata": {},
   "outputs": [
    {
     "name": "stdout",
     "output_type": "stream",
     "text": [
      "D:\\Users\\Andrew Freiburger\\Documents\\Argonne\\GROW\\renamed_gffs\\OWC_0098.fa_DRAM_genes.gff\n",
      "D:\\Users\\Andrew Freiburger\\Documents\\Argonne\\GROW\\renamed_gffs\\OWC_0099.fa_DRAM_genes.gff\n"
     ]
    }
   ],
   "source": [
    "files = glob(r\"D:\\Users\\Andrew Freiburger\\Documents\\Argonne\\GROW\\renamed_gffs\\*\")\n",
    "for i in range(2508):\n",
    "    file_path = rf\"D:\\Users\\Andrew Freiburger\\Documents\\Argonne\\GROW\\renamed_gffs\\OWC_{i:04}.fa_DRAM_genes.gff\"  # str(i).rjust(4, '0')\n",
    "    if file_path not in files:  print(file_path)"
   ]
  },
  {
   "cell_type": "code",
   "execution_count": null,
   "id": "a9b073c1-36cc-4032-932d-55d59bab28fe",
   "metadata": {},
   "outputs": [],
   "source": []
  }
 ],
 "metadata": {
  "kernelspec": {
   "display_name": "Python 3 (ipykernel)",
   "language": "python",
   "name": "python3"
  },
  "language_info": {
   "codemirror_mode": {
    "name": "ipython",
    "version": 3
   },
   "file_extension": ".py",
   "mimetype": "text/x-python",
   "name": "python",
   "nbconvert_exporter": "python",
   "pygments_lexer": "ipython3",
   "version": "3.9.12"
  }
 },
 "nbformat": 4,
 "nbformat_minor": 5
}
