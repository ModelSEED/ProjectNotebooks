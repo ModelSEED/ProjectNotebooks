{
 "cells": [
  {
   "cell_type": "code",
   "execution_count": 11,
   "id": "25581b00-8717-4de9-a3e2-ed797fca686f",
   "metadata": {},
   "outputs": [
    {
     "name": "stdout",
     "output_type": "stream",
     "text": [
      "<Response [400]> b''\n"
     ]
    }
   ],
   "source": [
    "# per this webpage  https://developer.box.com/reference/get-folders-id-items/#get-folders-id\n",
    "\n",
    "from requests import get\n",
    "from requests.auth import HTTPBasicAuth\n",
    "\n",
    "response = get(\"https://api.box.com/2.0/folders/:194818912899/items\", auth=HTTPBasicAuth('afreiburger', 'password'))   # 400 response with or without the HTTPBasicAuth package\n",
    "print(response, response.content)\n",
    "# response = get(\"https://api.box.com/2.0/search/https://anl.box.com/s/n06z21byxuwqkh6o9yizvme1wuj8msza\")\n",
    "# print(response.content)"
   ]
  },
  {
   "cell_type": "code",
   "execution_count": null,
   "id": "649fa07e-4e21-4daa-87df-34d95692bac2",
   "metadata": {},
   "outputs": [],
   "source": []
  }
 ],
 "metadata": {
  "kernelspec": {
   "display_name": "Python 3 (ipykernel)",
   "language": "python",
   "name": "python3"
  },
  "language_info": {
   "codemirror_mode": {
    "name": "ipython",
    "version": 3
   },
   "file_extension": ".py",
   "mimetype": "text/x-python",
   "name": "python",
   "nbconvert_exporter": "python",
   "pygments_lexer": "ipython3",
   "version": "3.9.12"
  }
 },
 "nbformat": 4,
 "nbformat_minor": 5
}
